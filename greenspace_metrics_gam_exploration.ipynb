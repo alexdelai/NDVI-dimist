{
 "cells": [
  {
   "cell_type": "markdown",
   "id": "0ba9f552",
   "metadata": {},
   "source": [
    "# Generalized Additive Model (GAM) hyperparameter tuning"
   ]
  },
  {
   "cell_type": "code",
   "execution_count": 88,
   "id": "e28a8f15",
   "metadata": {},
   "outputs": [],
   "source": [
    "import numpy as np\n",
    "import pandas as pd\n",
    "import geopandas as gpd\n",
    "import matplotlib.pyplot as plt\n",
    "import warnings\n",
    "from pygam import GAM, LinearGAM, s, l\n",
    "from sklearn import linear_model, metrics\n",
    "from sklearn.model_selection import train_test_split\n",
    "from sklearn.metrics import accuracy_score, mean_squared_error"
   ]
  },
  {
   "cell_type": "markdown",
   "id": "755b432b",
   "metadata": {},
   "source": [
    "GAM consists of 3 components:\n",
    "- Distribution from the exponential familiy\n",
    "- Link Function\n",
    "- Functional Form"
   ]
  },
  {
   "cell_type": "markdown",
   "id": "94ef206d",
   "metadata": {},
   "source": [
    "## 1. Distribution and link function"
   ]
  },
  {
   "cell_type": "markdown",
   "id": "36713449",
   "metadata": {},
   "source": [
    "**Distribution**\n",
    "\n",
    "Specified via GAM(distribution = \"...\")\n",
    "\n",
    "- **\"normal\"**: symmetric about the mean, data near the mean are more frequent in occurrence than data far from the mean. The distribution takes a bell-curve shape. Type of continuous probability distribution for real-valued random variables, also called Gaussian distribution;\n",
    "- **\"binomial\"**: used to model the number of successes (yes/no) in a sample of size N;\n",
    "- **\"poisson\"**: expresses the distribution of a given number of events occuring in a fixed interval of time or space if these events occur with a constant mean rate and independelty of time since the last event;\n",
    "- **\"gamma\"**: is a two-parameter family of continuous probability distributions. It has a shape parameter k and scale parameter (theta); \n",
    "- **\"inverse gaussian\"**: is a two-parameter family of conitnuous probability distributions with support on (0, ∞). For the distribution 1/x when x is Gaussian. Has several properties analogous to a Gaussian ditribution."
   ]
  },
  {
   "cell_type": "markdown",
   "id": "9b16cd27",
   "metadata": {},
   "source": [
    "**Link function**\n",
    "\n",
    "Specified via GAM(link = \"...\")\n",
    "\n",
    "Link functions take the distribution mean to the linear prediction. A link function in a GLM maps a non-linear relationship to a linear one, which means you can a fit a linear model to the data. Which link function you use depends upon what analysis you're performing. A link function is simply a function of the mean of the response variable Y that we use as the response instead of Y itself.\n",
    "\n",
    "- **\"identity\"**: is link function used for linear regression. An identity function maps every element in a set into itself. The linear model directly predicts the outcome. The link function for a normal distribution is also the identity function; \n",
    "- **\"logit\"**: used for logistic regression. When Y is categorical, we use the logit of Y as the response in our regression equation instead of just Y. The logit function is the natural log of the odds that Y equals one of the categories;\n",
    "- **\"inverse\"**: used for regression with gamma distributed response. Inverse link functions are used to make linear predictors map to predicted values that are on a different scale;\n",
    "- **\"log\"**: used along with poisson log-linear models for counts. A natural fit for count variables that follow Poisson or negative binomial distribution is the log link. The log link exponentiates the linear predictors. It does not log transform the outcome variable;\n",
    "- **\"inverse-squared\"**: canonical link associated with family of inverse-gaussian probability distributions."
   ]
  },
  {
   "cell_type": "markdown",
   "id": "7aa7c620",
   "metadata": {},
   "source": [
    "### 1.1. Normal distribution and identity link"
   ]
  },
  {
   "cell_type": "code",
   "execution_count": 2,
   "id": "74534c21",
   "metadata": {
    "scrolled": true
   },
   "outputs": [
    {
     "data": {
      "text/html": [
       "<div>\n",
       "<style scoped>\n",
       "    .dataframe tbody tr th:only-of-type {\n",
       "        vertical-align: middle;\n",
       "    }\n",
       "\n",
       "    .dataframe tbody tr th {\n",
       "        vertical-align: top;\n",
       "    }\n",
       "\n",
       "    .dataframe thead th {\n",
       "        text-align: right;\n",
       "    }\n",
       "</style>\n",
       "<table border=\"1\" class=\"dataframe\">\n",
       "  <thead>\n",
       "    <tr style=\"text-align: right;\">\n",
       "      <th></th>\n",
       "      <th>NDVI_100</th>\n",
       "      <th>Greenspace%_100</th>\n",
       "      <th>Canopy%_100</th>\n",
       "      <th>Grass%_100</th>\n",
       "      <th>Shrubs%_100</th>\n",
       "      <th>geometry</th>\n",
       "    </tr>\n",
       "  </thead>\n",
       "  <tbody>\n",
       "    <tr>\n",
       "      <th>0</th>\n",
       "      <td>0.641659</td>\n",
       "      <td>0.780488</td>\n",
       "      <td>0.787667</td>\n",
       "      <td>0.158730</td>\n",
       "      <td>0.129252</td>\n",
       "      <td>POINT (400173.361 405813.506)</td>\n",
       "    </tr>\n",
       "    <tr>\n",
       "      <th>1</th>\n",
       "      <td>0.675657</td>\n",
       "      <td>0.665080</td>\n",
       "      <td>0.210689</td>\n",
       "      <td>0.038549</td>\n",
       "      <td>0.482993</td>\n",
       "      <td>POINT (372621.724 413362.205)</td>\n",
       "    </tr>\n",
       "    <tr>\n",
       "      <th>2</th>\n",
       "      <td>0.871239</td>\n",
       "      <td>1.000000</td>\n",
       "      <td>0.426927</td>\n",
       "      <td>0.489796</td>\n",
       "      <td>0.192744</td>\n",
       "      <td>POINT (383564.442 390537.080)</td>\n",
       "    </tr>\n",
       "    <tr>\n",
       "      <th>3</th>\n",
       "      <td>0.805049</td>\n",
       "      <td>0.916716</td>\n",
       "      <td>0.253443</td>\n",
       "      <td>0.056689</td>\n",
       "      <td>0.696145</td>\n",
       "      <td>POINT (390233.154 383013.102)</td>\n",
       "    </tr>\n",
       "    <tr>\n",
       "      <th>4</th>\n",
       "      <td>0.472362</td>\n",
       "      <td>0.403331</td>\n",
       "      <td>0.158479</td>\n",
       "      <td>0.156463</td>\n",
       "      <td>0.124717</td>\n",
       "      <td>POINT (391596.504 398918.321)</td>\n",
       "    </tr>\n",
       "  </tbody>\n",
       "</table>\n",
       "</div>"
      ],
      "text/plain": [
       "   NDVI_100  Greenspace%_100  Canopy%_100  Grass%_100  Shrubs%_100  \\\n",
       "0  0.641659         0.780488     0.787667    0.158730     0.129252   \n",
       "1  0.675657         0.665080     0.210689    0.038549     0.482993   \n",
       "2  0.871239         1.000000     0.426927    0.489796     0.192744   \n",
       "3  0.805049         0.916716     0.253443    0.056689     0.696145   \n",
       "4  0.472362         0.403331     0.158479    0.156463     0.124717   \n",
       "\n",
       "                        geometry  \n",
       "0  POINT (400173.361 405813.506)  \n",
       "1  POINT (372621.724 413362.205)  \n",
       "2  POINT (383564.442 390537.080)  \n",
       "3  POINT (390233.154 383013.102)  \n",
       "4  POINT (391596.504 398918.321)  "
      ]
     },
     "execution_count": 2,
     "metadata": {},
     "output_type": "execute_result"
    }
   ],
   "source": [
    "# load greenspace metrics at 100m geodataframe\n",
    "gdf_100 = gpd.read_file(\"thesis_project/output/dataframes/greenspace_metrics_100_df.json\")\n",
    "gdf_100.head()"
   ]
  },
  {
   "cell_type": "code",
   "execution_count": 60,
   "id": "20655690",
   "metadata": {},
   "outputs": [],
   "source": [
    "# Grass, Canopy, and Shrubs as predictors\n",
    "cols = ['Grass%_100', 'Canopy%_100', 'Shrubs%_100']\n",
    "df = pd.DataFrame(gdf_100, columns=cols)\n",
    "\n",
    "# target as NDVI_100\n",
    "target = pd.DataFrame(gdf_100, columns=['NDVI_100'])\n",
    "\n",
    "# define X and Y\n",
    "#X = df\n",
    "y = target['NDVI_100']\n",
    "X = df.iloc[:, 0:3].values\n",
    "\n",
    "# split independent and dependent variables into training and test data\n",
    "X_train, X_test, y_train, y_test = train_test_split(X, y, test_size=0.2, random_state=0)"
   ]
  },
  {
   "cell_type": "code",
   "execution_count": 4,
   "id": "9eda8c8b",
   "metadata": {},
   "outputs": [
    {
     "name": "stdout",
     "output_type": "stream",
     "text": [
      "GAM                                                                                                       \n",
      "=============================================== ==========================================================\n",
      "Distribution:                        NormalDist Effective DoF:                                     44.8539\n",
      "Link Function:                     IdentityLink Log Likelihood:                               -182983.3579\n",
      "Number of Samples:                         4668 AIC:                                           366058.4235\n",
      "                                                AICc:                                          366059.3533\n",
      "                                                GCV:                                                0.0118\n",
      "                                                Scale:                                              0.0116\n",
      "                                                Pseudo R-Squared:                                   0.5514\n",
      "==========================================================================================================\n",
      "Feature Function                  Lambda               Rank         EDoF         P > x        Sig. Code   \n",
      "================================= ==================== ============ ============ ============ ============\n",
      "s(0)                              [0.6]                20           15.3         1.11e-16     ***         \n",
      "s(1)                              [0.6]                20           14.1         1.11e-16     ***         \n",
      "s(2)                              [0.6]                20           15.4         1.11e-16     ***         \n",
      "intercept                                              1            0.0          1.11e-16     ***         \n",
      "==========================================================================================================\n",
      "Significance codes:  0 '***' 0.001 '**' 0.01 '*' 0.05 '.' 0.1 ' ' 1\n",
      "\n",
      "WARNING: Fitting splines and a linear function to a feature introduces a model identifiability problem\n",
      "         which can cause p-values to appear significant when they are not.\n",
      "\n",
      "WARNING: p-values calculated in this manner behave correctly for un-penalized models or models with\n",
      "         known smoothing parameters, but when smoothing parameters have been estimated, the p-values\n",
      "         are typically lower than they should be, meaning that the tests reject the null too readily.\n"
     ]
    },
    {
     "name": "stderr",
     "output_type": "stream",
     "text": [
      "/Applications/anaconda3/envs/ssml/lib/python3.9/site-packages/pygam/pygam.py:752: RuntimeWarning: invalid value encountered in reciprocal\n",
      "  np.fill_diagonal(Dinv, d**-1) # invert the singular values\n",
      "/var/folders/6g/kgz5rml118s6lqw25w5sv5mr0000gn/T/ipykernel_1178/1287724214.py:5: UserWarning: KNOWN BUG: p-values computed in this summary are likely much smaller than they should be. \n",
      " \n",
      "Please do not make inferences based on these values! \n",
      "\n",
      "Collaborate on a solution, and stay up to date at: \n",
      "github.com/dswah/pyGAM/issues/163 \n",
      "\n",
      "  gam_100_dist_n.summary()\n"
     ]
    }
   ],
   "source": [
    "# GAM model with normal distribution of Y and identity link\n",
    "gam_100_dist_n = GAM(distribution='normal', link='identity').fit(X_train, y_train)\n",
    "\n",
    "# check model statistics\n",
    "gam_100_dist_n.summary()"
   ]
  },
  {
   "cell_type": "markdown",
   "id": "ee18edd3",
   "metadata": {},
   "source": [
    "Fitting a GAM model with normal distribution and identity link function to NDVI data outputs the following statistic coefficients; Effective DoF ~ 44, Log likelihood ~ -182983.3579, AIC and AICc ~ 366058 (e.g. indicating that the sample size is large enough), GCV ~ 0.0118, Scale ~ 0.0116, and Pseudo R-squared ~ 0.5514."
   ]
  },
  {
   "cell_type": "markdown",
   "id": "8ba452ac",
   "metadata": {},
   "source": [
    "### 1.2. Gamma distribution and inverse/log link"
   ]
  },
  {
   "cell_type": "code",
   "execution_count": 5,
   "id": "4b97585e",
   "metadata": {},
   "outputs": [
    {
     "name": "stdout",
     "output_type": "stream",
     "text": [
      "GAM                                                                                                       \n",
      "=============================================== ==========================================================\n",
      "Distribution:                         GammaDist Effective DoF:                                     41.2536\n",
      "Link Function:                      InverseLink Log Likelihood:                                       -inf\n",
      "Number of Samples:                         4668 AIC:                                                   inf\n",
      "                                                AICc:                                                  inf\n",
      "                                                GCV:                                                   inf\n",
      "                                                Scale:                                              0.0347\n",
      "                                                Pseudo R-Squared:                                      nan\n",
      "==========================================================================================================\n",
      "Feature Function                  Lambda               Rank         EDoF         P > x        Sig. Code   \n",
      "================================= ==================== ============ ============ ============ ============\n",
      "s(0)                              [0.6]                20           14.3         1.11e-16     ***         \n",
      "s(1)                              [0.6]                20           12.8         1.11e-16     ***         \n",
      "s(2)                              [0.6]                20           14.1         1.11e-16     ***         \n",
      "intercept                                              1            0.0          1.11e-16     ***         \n",
      "==========================================================================================================\n",
      "Significance codes:  0 '***' 0.001 '**' 0.01 '*' 0.05 '.' 0.1 ' ' 1\n",
      "\n",
      "WARNING: Fitting splines and a linear function to a feature introduces a model identifiability problem\n",
      "         which can cause p-values to appear significant when they are not.\n",
      "\n",
      "WARNING: p-values calculated in this manner behave correctly for un-penalized models or models with\n",
      "         known smoothing parameters, but when smoothing parameters have been estimated, the p-values\n",
      "         are typically lower than they should be, meaning that the tests reject the null too readily.\n"
     ]
    },
    {
     "name": "stderr",
     "output_type": "stream",
     "text": [
      "/Applications/anaconda3/envs/ssml/lib/python3.9/site-packages/pygam/distributions.py:529: RuntimeWarning: divide by zero encountered in log\n",
      "  dev = 2 * ((y - mu) / mu - np.log(y / mu))\n",
      "/Applications/anaconda3/envs/ssml/lib/python3.9/site-packages/pygam/pygam.py:752: RuntimeWarning: invalid value encountered in reciprocal\n",
      "  np.fill_diagonal(Dinv, d**-1) # invert the singular values\n",
      "/Applications/anaconda3/envs/ssml/lib/python3.9/site-packages/pygam/pygam.py:1111: RuntimeWarning: invalid value encountered in double_scalars\n",
      "  r2['explained_deviance'] = 1. - full_d.sum()/null_d.sum()\n",
      "/Applications/anaconda3/envs/ssml/lib/python3.9/site-packages/pygam/pygam.py:1112: RuntimeWarning: invalid value encountered in double_scalars\n",
      "  r2['McFadden'] = full_ll/null_ll\n",
      "/Applications/anaconda3/envs/ssml/lib/python3.9/site-packages/pygam/pygam.py:1113: RuntimeWarning: invalid value encountered in double_scalars\n",
      "  r2['McFadden_adj'] = 1. - (full_ll - self.statistics_['edof'])/null_ll\n",
      "/var/folders/6g/kgz5rml118s6lqw25w5sv5mr0000gn/T/ipykernel_1178/189087857.py:6: UserWarning: KNOWN BUG: p-values computed in this summary are likely much smaller than they should be. \n",
      " \n",
      "Please do not make inferences based on these values! \n",
      "\n",
      "Collaborate on a solution, and stay up to date at: \n",
      "github.com/dswah/pyGAM/issues/163 \n",
      "\n",
      "  gam_100_dist_g.summary()\n"
     ]
    }
   ],
   "source": [
    "# GAM model with gamma distribution of Y and inverse/log link\n",
    "#gam_100_dist_g = GAM(distribution='gamma', link='log').fit(X_train, y_train)\n",
    "gam_100_dist_g = GAM(distribution='gamma', link='inverse').fit(X_train, y_train)\n",
    "\n",
    "# check model statistics\n",
    "gam_100_dist_g.summary()"
   ]
  },
  {
   "cell_type": "markdown",
   "id": "4bef3675",
   "metadata": {},
   "source": [
    "Fitting a GAM model with gamma distribution and inverse or log link function to NDVI data outputs statistics coefficients too small, too large or/and null. For instange, Log likelihood statistic takes -∞, AIC, AICc, and GCV take +∞, and Pseudo R-squared takes nan, which might indicate that the data we are trying to fit (e.g. NDVI) does not follow a gamma probability distribution nor that predictors map to a response variable using an inverse or log link function. "
   ]
  },
  {
   "cell_type": "markdown",
   "id": "adc6a62b",
   "metadata": {},
   "source": [
    "### 1.3. Inverse gaussian distribution and inverse-squared/log link"
   ]
  },
  {
   "cell_type": "code",
   "execution_count": 6,
   "id": "f0759fd6",
   "metadata": {},
   "outputs": [
    {
     "name": "stderr",
     "output_type": "stream",
     "text": [
      "/Applications/anaconda3/envs/ssml/lib/python3.9/site-packages/pygam/links.py:320: RuntimeWarning: invalid value encountered in power\n",
      "  return lp ** -0.5\n",
      "/Applications/anaconda3/envs/ssml/lib/python3.9/site-packages/pygam/distributions.py:639: RuntimeWarning: divide by zero encountered in true_divide\n",
      "  dev = ((y - mu)**2) / (mu**2 * y)\n",
      "/Applications/anaconda3/envs/ssml/lib/python3.9/site-packages/pygam/pygam.py:752: RuntimeWarning: invalid value encountered in reciprocal\n",
      "  np.fill_diagonal(Dinv, d**-1) # invert the singular values\n"
     ]
    },
    {
     "name": "stdout",
     "output_type": "stream",
     "text": [
      "GAM                                                                                                       \n",
      "=============================================== ==========================================================\n",
      "Distribution:                      InvGaussDist Effective DoF:                                     31.9667\n",
      "Link Function:                   InvSquaredLink Log Likelihood:                                       -inf\n",
      "Number of Samples:                         4668 AIC:                                                   inf\n",
      "                                                AICc:                                                  inf\n",
      "                                                GCV:                                                   inf\n",
      "                                                Scale:                                              0.0653\n",
      "                                                Pseudo R-Squared:                                      nan\n",
      "==========================================================================================================\n",
      "Feature Function                  Lambda               Rank         EDoF         P > x        Sig. Code   \n",
      "================================= ==================== ============ ============ ============ ============\n",
      "s(0)                              [0.6]                20           11.4         1.11e-16     ***         \n",
      "s(1)                              [0.6]                20           9.8          1.11e-16     ***         \n",
      "s(2)                              [0.6]                20           10.8         1.11e-16     ***         \n",
      "intercept                                              1            0.0          1.11e-16     ***         \n",
      "==========================================================================================================\n",
      "Significance codes:  0 '***' 0.001 '**' 0.01 '*' 0.05 '.' 0.1 ' ' 1\n",
      "\n",
      "WARNING: Fitting splines and a linear function to a feature introduces a model identifiability problem\n",
      "         which can cause p-values to appear significant when they are not.\n",
      "\n",
      "WARNING: p-values calculated in this manner behave correctly for un-penalized models or models with\n",
      "         known smoothing parameters, but when smoothing parameters have been estimated, the p-values\n",
      "         are typically lower than they should be, meaning that the tests reject the null too readily.\n"
     ]
    },
    {
     "name": "stderr",
     "output_type": "stream",
     "text": [
      "/Applications/anaconda3/envs/ssml/lib/python3.9/site-packages/pygam/pygam.py:1111: RuntimeWarning: invalid value encountered in double_scalars\n",
      "  r2['explained_deviance'] = 1. - full_d.sum()/null_d.sum()\n",
      "/Applications/anaconda3/envs/ssml/lib/python3.9/site-packages/pygam/pygam.py:1112: RuntimeWarning: invalid value encountered in double_scalars\n",
      "  r2['McFadden'] = full_ll/null_ll\n",
      "/Applications/anaconda3/envs/ssml/lib/python3.9/site-packages/pygam/pygam.py:1113: RuntimeWarning: invalid value encountered in double_scalars\n",
      "  r2['McFadden_adj'] = 1. - (full_ll - self.statistics_['edof'])/null_ll\n",
      "/var/folders/6g/kgz5rml118s6lqw25w5sv5mr0000gn/T/ipykernel_1178/1424524372.py:6: UserWarning: KNOWN BUG: p-values computed in this summary are likely much smaller than they should be. \n",
      " \n",
      "Please do not make inferences based on these values! \n",
      "\n",
      "Collaborate on a solution, and stay up to date at: \n",
      "github.com/dswah/pyGAM/issues/163 \n",
      "\n",
      "  gam_100_dist_i.summary()\n"
     ]
    }
   ],
   "source": [
    "# GAM model with inverse gaussian distribution of Y and inverse-squared or log link\n",
    "gam_100_dist_i = GAM(distribution='inv_gauss', link='inv_squared').fit(X_train, y_train)\n",
    "#gam_100_dist_i = GAM(distribution='inv_gauss', link='log').fit(X_train, y_train)\n",
    "\n",
    "# check model statistics\n",
    "gam_100_dist_i.summary()"
   ]
  },
  {
   "cell_type": "markdown",
   "id": "4ee8ebd5",
   "metadata": {},
   "source": [
    "Fitting a GAM model with inverse gaussian distribution and inverse-squared or log link function to NDVI data outputs statistics coefficients too small, too large or/and null. For instange, Log likelihood statistic takes -∞, AIC, AICc, and GCV take +∞, and Pseudo R-squared takes nan, which might indicate that the data we are trying to fit (e.g. NDVI) does not follow an inverse gaussian probability distribution nor that predictors map to a response variable using an inverse-squared or log link function."
   ]
  },
  {
   "cell_type": "markdown",
   "id": "a5b47fd3",
   "metadata": {},
   "source": [
    "## 2. Functional form"
   ]
  },
  {
   "cell_type": "markdown",
   "id": "b7cf0947",
   "metadata": {},
   "source": [
    "**Functional Form**\n",
    "\n",
    "Specified in GAM(terms=\"...\") or simply GAM(...)\n",
    "\n",
    "- **l( ) linear terms**: for terms like Xi. If a term of a polynomial contains a variable with exponent 1, we call it linear term;\n",
    "- **s( ) spline terms**: are normally used when one knows that the relation between an independent variable and dependent/target variable is non-linear in nature and can be best depicted by a polynomial relation. The name of splines are related to its order. For example, cubic splines correspond to n=3 (order). Two types of spline terms; p-spline and cyclic p-spline basis, useful for building periodic functions. For controlling the shape of spline term we use two parameters, which are n_splines which is a integer term, lam, which is short for lambda, the penalization parameter.\n",
    "- **f( ) factor terms**: a factor is a vector whose elements can take on one of a specific set of values. For example, \"Sex\" will usually take on only the values \"M\" and \"F\". Also known as categorical variable;\n",
    "- **te( ) tensor products**: the tensor product of two vector spaces V and W (over the same field) is a vector space to which is associated a bilinear map that maps a pair to an element of. Used to fit interactions in pyGAM;\n",
    "- **intercept**: if intercept=True, the model includes an intercept by default. It is the point where a line crosses the x-axis or y-axis."
   ]
  },
  {
   "cell_type": "markdown",
   "id": "9e4f95a6",
   "metadata": {},
   "source": [
    "**In Practice**\n",
    "\n",
    "In pyGAM you can build custom models by specifying these 3 elements, or you can choose from common models:\n",
    "\n",
    "- **LinearGAM**: identity link and normal distribution of response variable Y (and normal error distribution);\n",
    "- **LogisticGAM**: logit link and binomial distribution of Y;\n",
    "- **PoissonGAM**: log link and Poisson distribution of Y;\n",
    "- **GammaGAM**: log link and gamma distribution of Y;\n",
    "- **InvGauss**: log link and inv_gauss distribution of Y."
   ]
  },
  {
   "cell_type": "markdown",
   "id": "a03e75ff",
   "metadata": {},
   "source": [
    "From the previous section, we assessed that fitting a GAM model with **normal distribution and identity link function to NDVI data performed best**. So, we can use the common model **LinearGam**, which already uses a normal distribution and identity link, instead of the custom GAM and avoid larger chunks of code."
   ]
  },
  {
   "cell_type": "markdown",
   "id": "9e0d9dab",
   "metadata": {},
   "source": [
    "### 2.1. NDVI ~ l(grass) + s(canopy) + s(shrubs)"
   ]
  },
  {
   "cell_type": "code",
   "execution_count": 7,
   "id": "92ad6d28",
   "metadata": {},
   "outputs": [
    {
     "name": "stdout",
     "output_type": "stream",
     "text": [
      "LinearGAM                                                                                                 \n",
      "=============================================== ==========================================================\n",
      "Distribution:                        NormalDist Effective DoF:                                     31.7222\n",
      "Link Function:                     IdentityLink Log Likelihood:                               -182774.6652\n",
      "Number of Samples:                         4668 AIC:                                           365614.7748\n",
      "                                                AICc:                                           365615.251\n",
      "                                                GCV:                                                0.0118\n",
      "                                                Scale:                                              0.0116\n",
      "                                                Pseudo R-Squared:                                   0.5484\n",
      "==========================================================================================================\n",
      "Feature Function                  Lambda               Rank         EDoF         P > x        Sig. Code   \n",
      "================================= ==================== ============ ============ ============ ============\n",
      "l(0)                              [0.6]                1            1.0          1.11e-16     ***         \n",
      "s(1)                              [0.6]                20           15.2         1.11e-16     ***         \n",
      "s(2)                              [0.6]                20           15.6         1.11e-16     ***         \n",
      "intercept                                              1            0.0          1.11e-16     ***         \n",
      "==========================================================================================================\n",
      "Significance codes:  0 '***' 0.001 '**' 0.01 '*' 0.05 '.' 0.1 ' ' 1\n",
      "\n",
      "WARNING: Fitting splines and a linear function to a feature introduces a model identifiability problem\n",
      "         which can cause p-values to appear significant when they are not.\n",
      "\n",
      "WARNING: p-values calculated in this manner behave correctly for un-penalized models or models with\n",
      "         known smoothing parameters, but when smoothing parameters have been estimated, the p-values\n",
      "         are typically lower than they should be, meaning that the tests reject the null too readily.\n"
     ]
    },
    {
     "name": "stderr",
     "output_type": "stream",
     "text": [
      "/var/folders/6g/kgz5rml118s6lqw25w5sv5mr0000gn/T/ipykernel_1178/3402436101.py:6: UserWarning: KNOWN BUG: p-values computed in this summary are likely much smaller than they should be. \n",
      " \n",
      "Please do not make inferences based on these values! \n",
      "\n",
      "Collaborate on a solution, and stay up to date at: \n",
      "github.com/dswah/pyGAM/issues/163 \n",
      "\n",
      "  gam_100_funct_1.summary()\n"
     ]
    }
   ],
   "source": [
    "# GAM model: NDVI ~ l(grass) + s(canopy) + s(shrubs)\n",
    "#gam_100_funct_1 = LinearGAM(l(0) + s(1) + s(2)).gridsearch(X_train, y_train)\n",
    "gam_100_funct_1 = LinearGAM(l(0) + s(1) + s(2)).fit(X_train, y_train)\n",
    "\n",
    "# check model statistics\n",
    "gam_100_funct_1.summary()"
   ]
  },
  {
   "cell_type": "markdown",
   "id": "dbbee67b",
   "metadata": {},
   "source": [
    "### 2.2. NDVI ~ s(grass) + l(canopy) + s(shrubs)"
   ]
  },
  {
   "cell_type": "code",
   "execution_count": 8,
   "id": "39bc01ad",
   "metadata": {},
   "outputs": [
    {
     "name": "stdout",
     "output_type": "stream",
     "text": [
      "LinearGAM                                                                                                 \n",
      "=============================================== ==========================================================\n",
      "Distribution:                        NormalDist Effective DoF:                                     31.7374\n",
      "Link Function:                     IdentityLink Log Likelihood:                               -177390.1667\n",
      "Number of Samples:                         4668 AIC:                                           354845.8081\n",
      "                                                AICc:                                          354846.2847\n",
      "                                                GCV:                                                0.0121\n",
      "                                                Scale:                                               0.012\n",
      "                                                Pseudo R-Squared:                                   0.5355\n",
      "==========================================================================================================\n",
      "Feature Function                  Lambda               Rank         EDoF         P > x        Sig. Code   \n",
      "================================= ==================== ============ ============ ============ ============\n",
      "s(0)                              [0.6]                20           15.3         1.11e-16     ***         \n",
      "l(1)                              [0.6]                1            1.0          1.11e-16     ***         \n",
      "s(2)                              [0.6]                20           15.4         1.11e-16     ***         \n",
      "intercept                                              1            0.0          1.11e-16     ***         \n",
      "==========================================================================================================\n",
      "Significance codes:  0 '***' 0.001 '**' 0.01 '*' 0.05 '.' 0.1 ' ' 1\n",
      "\n",
      "WARNING: Fitting splines and a linear function to a feature introduces a model identifiability problem\n",
      "         which can cause p-values to appear significant when they are not.\n",
      "\n",
      "WARNING: p-values calculated in this manner behave correctly for un-penalized models or models with\n",
      "         known smoothing parameters, but when smoothing parameters have been estimated, the p-values\n",
      "         are typically lower than they should be, meaning that the tests reject the null too readily.\n"
     ]
    },
    {
     "name": "stderr",
     "output_type": "stream",
     "text": [
      "/var/folders/6g/kgz5rml118s6lqw25w5sv5mr0000gn/T/ipykernel_1178/1395283057.py:6: UserWarning: KNOWN BUG: p-values computed in this summary are likely much smaller than they should be. \n",
      " \n",
      "Please do not make inferences based on these values! \n",
      "\n",
      "Collaborate on a solution, and stay up to date at: \n",
      "github.com/dswah/pyGAM/issues/163 \n",
      "\n",
      "  gam_100_funct_2.summary()\n"
     ]
    }
   ],
   "source": [
    "# GAM model: NDVI ~ s(grass) + l(canopy) + s(shrubs)\n",
    "#gam_100_funct_2 = LinearGAM(s(0) + l(1) + s(2)).gridsearch(X_train, y_train)\n",
    "gam_100_funct_2 = LinearGAM(s(0) + l(1) + s(2)).fit(X_train, y_train)\n",
    "\n",
    "# check model statistics\n",
    "gam_100_funct_2.summary()"
   ]
  },
  {
   "cell_type": "markdown",
   "id": "288b27da",
   "metadata": {},
   "source": [
    "### 2.3. NDVI ~ s(grass) + s(canopy) + l(shrubs)"
   ]
  },
  {
   "cell_type": "code",
   "execution_count": 9,
   "id": "5f9e257c",
   "metadata": {},
   "outputs": [
    {
     "name": "stdout",
     "output_type": "stream",
     "text": [
      "LinearGAM                                                                                                 \n",
      "=============================================== ==========================================================\n",
      "Distribution:                        NormalDist Effective DoF:                                     30.3475\n",
      "Link Function:                     IdentityLink Log Likelihood:                               -161472.7391\n",
      "Number of Samples:                         4668 AIC:                                           323008.1733\n",
      "                                                AICc:                                          323008.6108\n",
      "                                                GCV:                                                0.0132\n",
      "                                                Scale:                                              0.0131\n",
      "                                                Pseudo R-Squared:                                   0.4925\n",
      "==========================================================================================================\n",
      "Feature Function                  Lambda               Rank         EDoF         P > x        Sig. Code   \n",
      "================================= ==================== ============ ============ ============ ============\n",
      "s(0)                              [0.6]                20           15.3         1.11e-16     ***         \n",
      "s(1)                              [0.6]                20           14.1         1.11e-16     ***         \n",
      "l(2)                              [0.6]                1            1.0          1.11e-16     ***         \n",
      "intercept                                              1            0.0          1.11e-16     ***         \n",
      "==========================================================================================================\n",
      "Significance codes:  0 '***' 0.001 '**' 0.01 '*' 0.05 '.' 0.1 ' ' 1\n",
      "\n",
      "WARNING: Fitting splines and a linear function to a feature introduces a model identifiability problem\n",
      "         which can cause p-values to appear significant when they are not.\n",
      "\n",
      "WARNING: p-values calculated in this manner behave correctly for un-penalized models or models with\n",
      "         known smoothing parameters, but when smoothing parameters have been estimated, the p-values\n",
      "         are typically lower than they should be, meaning that the tests reject the null too readily.\n"
     ]
    },
    {
     "name": "stderr",
     "output_type": "stream",
     "text": [
      "/var/folders/6g/kgz5rml118s6lqw25w5sv5mr0000gn/T/ipykernel_1178/3062727570.py:6: UserWarning: KNOWN BUG: p-values computed in this summary are likely much smaller than they should be. \n",
      " \n",
      "Please do not make inferences based on these values! \n",
      "\n",
      "Collaborate on a solution, and stay up to date at: \n",
      "github.com/dswah/pyGAM/issues/163 \n",
      "\n",
      "  gam_100_funct_3.summary()\n"
     ]
    }
   ],
   "source": [
    "# GAM model: NDVI ~ s(grass) + s(canopy) + l(shrubs)\n",
    "#gam_100_funct_3 = LinearGAM(s(0) + s(1) + l(2)).gridsearch(X_train, y_train)\n",
    "gam_100_funct_3 = LinearGAM(s(0) + s(1) + l(2)).fit(X_train, y_train)\n",
    "\n",
    "# check model statistics\n",
    "gam_100_funct_3.summary()"
   ]
  },
  {
   "cell_type": "markdown",
   "id": "0c435eb7",
   "metadata": {},
   "source": [
    "### 2.4. NDVI ~ l(grass) + l(canopy) + s(shrubs)"
   ]
  },
  {
   "cell_type": "code",
   "execution_count": 10,
   "id": "0acbaf82",
   "metadata": {},
   "outputs": [
    {
     "name": "stdout",
     "output_type": "stream",
     "text": [
      "LinearGAM                                                                                                 \n",
      "=============================================== ==========================================================\n",
      "Distribution:                        NormalDist Effective DoF:                                     18.5982\n",
      "Link Function:                     IdentityLink Log Likelihood:                               -177130.8256\n",
      "Number of Samples:                         4668 AIC:                                           354300.8476\n",
      "                                                AICc:                                          354301.0214\n",
      "                                                GCV:                                                0.0121\n",
      "                                                Scale:                                               0.012\n",
      "                                                Pseudo R-Squared:                                   0.5322\n",
      "==========================================================================================================\n",
      "Feature Function                  Lambda               Rank         EDoF         P > x        Sig. Code   \n",
      "================================= ==================== ============ ============ ============ ============\n",
      "l(0)                              [0.6]                1            1.0          1.11e-16     ***         \n",
      "l(1)                              [0.6]                1            1.0          1.11e-16     ***         \n",
      "s(2)                              [0.6]                20           16.6         1.11e-16     ***         \n",
      "intercept                                              1            0.0          1.11e-16     ***         \n",
      "==========================================================================================================\n",
      "Significance codes:  0 '***' 0.001 '**' 0.01 '*' 0.05 '.' 0.1 ' ' 1\n",
      "\n",
      "WARNING: Fitting splines and a linear function to a feature introduces a model identifiability problem\n",
      "         which can cause p-values to appear significant when they are not.\n",
      "\n",
      "WARNING: p-values calculated in this manner behave correctly for un-penalized models or models with\n",
      "         known smoothing parameters, but when smoothing parameters have been estimated, the p-values\n",
      "         are typically lower than they should be, meaning that the tests reject the null too readily.\n"
     ]
    },
    {
     "name": "stderr",
     "output_type": "stream",
     "text": [
      "/Applications/anaconda3/envs/ssml/lib/python3.9/site-packages/pygam/pygam.py:752: RuntimeWarning: invalid value encountered in reciprocal\n",
      "  np.fill_diagonal(Dinv, d**-1) # invert the singular values\n",
      "/var/folders/6g/kgz5rml118s6lqw25w5sv5mr0000gn/T/ipykernel_1178/3320750960.py:6: UserWarning: KNOWN BUG: p-values computed in this summary are likely much smaller than they should be. \n",
      " \n",
      "Please do not make inferences based on these values! \n",
      "\n",
      "Collaborate on a solution, and stay up to date at: \n",
      "github.com/dswah/pyGAM/issues/163 \n",
      "\n",
      "  gam_100_funct_4.summary()\n"
     ]
    }
   ],
   "source": [
    "# GAM model: NDVI ~ l(grass) + l(canopy) + s(shrubs)\n",
    "#gam_100_funct_4 = LinearGAM(l(0) + l(1) + s(2)).gridsearch(X_train, y_train)\n",
    "gam_100_funct_4 = LinearGAM(l(0) + l(1) + s(2)).fit(X_train, y_train)\n",
    "\n",
    "# check model statistics\n",
    "gam_100_funct_4.summary()"
   ]
  },
  {
   "cell_type": "markdown",
   "id": "d6f57f27",
   "metadata": {},
   "source": [
    "### 2.5. NDVI ~ l(grass) + s(grass) + s(canopy) + s(shrubs)"
   ]
  },
  {
   "cell_type": "code",
   "execution_count": 11,
   "id": "ddfcbe39",
   "metadata": {},
   "outputs": [
    {
     "name": "stdout",
     "output_type": "stream",
     "text": [
      "LinearGAM                                                                                                 \n",
      "=============================================== ==========================================================\n",
      "Distribution:                        NormalDist Effective DoF:                                     44.8539\n",
      "Link Function:                     IdentityLink Log Likelihood:                               -182983.3579\n",
      "Number of Samples:                         4668 AIC:                                           366058.4235\n",
      "                                                AICc:                                          366059.3533\n",
      "                                                GCV:                                                0.0118\n",
      "                                                Scale:                                              0.0116\n",
      "                                                Pseudo R-Squared:                                   0.5514\n",
      "==========================================================================================================\n",
      "Feature Function                  Lambda               Rank         EDoF         P > x        Sig. Code   \n",
      "================================= ==================== ============ ============ ============ ============\n",
      "l(0)                              [0.6]                1            1.0          1.11e-16     ***         \n",
      "s(0)                              [0.6]                20           14.3         1.11e-16     ***         \n",
      "s(1)                              [0.6]                20           14.1         1.11e-16     ***         \n",
      "s(2)                              [0.6]                20           15.4         1.11e-16     ***         \n",
      "intercept                                              1            0.0          1.11e-16     ***         \n",
      "==========================================================================================================\n",
      "Significance codes:  0 '***' 0.001 '**' 0.01 '*' 0.05 '.' 0.1 ' ' 1\n",
      "\n",
      "WARNING: Fitting splines and a linear function to a feature introduces a model identifiability problem\n",
      "         which can cause p-values to appear significant when they are not.\n",
      "\n",
      "WARNING: p-values calculated in this manner behave correctly for un-penalized models or models with\n",
      "         known smoothing parameters, but when smoothing parameters have been estimated, the p-values\n",
      "         are typically lower than they should be, meaning that the tests reject the null too readily.\n"
     ]
    },
    {
     "name": "stderr",
     "output_type": "stream",
     "text": [
      "/Applications/anaconda3/envs/ssml/lib/python3.9/site-packages/pygam/pygam.py:752: RuntimeWarning: invalid value encountered in reciprocal\n",
      "  np.fill_diagonal(Dinv, d**-1) # invert the singular values\n",
      "/var/folders/6g/kgz5rml118s6lqw25w5sv5mr0000gn/T/ipykernel_1178/518690504.py:6: UserWarning: KNOWN BUG: p-values computed in this summary are likely much smaller than they should be. \n",
      " \n",
      "Please do not make inferences based on these values! \n",
      "\n",
      "Collaborate on a solution, and stay up to date at: \n",
      "github.com/dswah/pyGAM/issues/163 \n",
      "\n",
      "  gam_100_funct_5.summary()\n"
     ]
    }
   ],
   "source": [
    "# GAM model: NDVI ~ l(grass) + s(grass) + s(canopy) + s(shrubs)\n",
    "#gam_100_funct_5 = LinearGAM(l(0) + s(0) + s(1) + s(2)).gridsearch(X_train, y_train)\n",
    "gam_100_funct_5 = LinearGAM(l(0) + s(0) + s(1) + s(2)).fit(X_train, y_train)\n",
    "\n",
    "# check model statistics\n",
    "gam_100_funct_5.summary()"
   ]
  },
  {
   "cell_type": "markdown",
   "id": "c633b029",
   "metadata": {},
   "source": [
    "### 2.6. NDVI ~ automatic terms"
   ]
  },
  {
   "cell_type": "code",
   "execution_count": 12,
   "id": "67523db7",
   "metadata": {},
   "outputs": [
    {
     "name": "stdout",
     "output_type": "stream",
     "text": [
      "LinearGAM                                                                                                 \n",
      "=============================================== ==========================================================\n",
      "Distribution:                        NormalDist Effective DoF:                                     44.8539\n",
      "Link Function:                     IdentityLink Log Likelihood:                               -182983.3579\n",
      "Number of Samples:                         4668 AIC:                                           366058.4235\n",
      "                                                AICc:                                          366059.3533\n",
      "                                                GCV:                                                0.0118\n",
      "                                                Scale:                                              0.0116\n",
      "                                                Pseudo R-Squared:                                   0.5514\n",
      "==========================================================================================================\n",
      "Feature Function                  Lambda               Rank         EDoF         P > x        Sig. Code   \n",
      "================================= ==================== ============ ============ ============ ============\n",
      "s(0)                              [0.6]                20           15.3         1.11e-16     ***         \n",
      "s(1)                              [0.6]                20           14.1         1.11e-16     ***         \n",
      "s(2)                              [0.6]                20           15.4         1.11e-16     ***         \n",
      "intercept                                              1            0.0          1.11e-16     ***         \n",
      "==========================================================================================================\n",
      "Significance codes:  0 '***' 0.001 '**' 0.01 '*' 0.05 '.' 0.1 ' ' 1\n",
      "\n",
      "WARNING: Fitting splines and a linear function to a feature introduces a model identifiability problem\n",
      "         which can cause p-values to appear significant when they are not.\n",
      "\n",
      "WARNING: p-values calculated in this manner behave correctly for un-penalized models or models with\n",
      "         known smoothing parameters, but when smoothing parameters have been estimated, the p-values\n",
      "         are typically lower than they should be, meaning that the tests reject the null too readily.\n"
     ]
    },
    {
     "name": "stderr",
     "output_type": "stream",
     "text": [
      "/Applications/anaconda3/envs/ssml/lib/python3.9/site-packages/pygam/pygam.py:752: RuntimeWarning: invalid value encountered in reciprocal\n",
      "  np.fill_diagonal(Dinv, d**-1) # invert the singular values\n",
      "/var/folders/6g/kgz5rml118s6lqw25w5sv5mr0000gn/T/ipykernel_1178/430702205.py:6: UserWarning: KNOWN BUG: p-values computed in this summary are likely much smaller than they should be. \n",
      " \n",
      "Please do not make inferences based on these values! \n",
      "\n",
      "Collaborate on a solution, and stay up to date at: \n",
      "github.com/dswah/pyGAM/issues/163 \n",
      "\n",
      "  gam_100_funct_6.summary()\n"
     ]
    }
   ],
   "source": [
    "# GAM model: NDVI ~ automatic terms\n",
    "#gam_100_funct_6 = LinearGAM().gridsearch(X_train, y_train)\n",
    "gam_100_funct_6 = LinearGAM().fit(X_train, y_train)\n",
    "\n",
    "# check model statistics\n",
    "gam_100_funct_6.summary()"
   ]
  },
  {
   "cell_type": "markdown",
   "id": "bd202546",
   "metadata": {},
   "source": [
    "**Functional form tuning** \n",
    "\n",
    "After trying all possible combinations of linear and spline terms, we selected the **models with the lowest GCV score**. It seems best practice to select between GAM models based on the lowest Generalized Cross Validation (GCV) score, which is an **unbiased estimator of MSE**. \n",
    "\n",
    "- **Model 1**: NDVI ~ spline(Grass%) + spline(Canopy%) + spline(Shrubs%) \n",
    "- **Model 2**: NDVI ~ linear(Grass%) + spline(Canopy%) + spline(Shrubs%) \n",
    "- **Model 3**: NDVI ~ linear(Grass%) + linear(Canopy%) + spline(Shrubs%)\n",
    "\n",
    "Additionally, we could argue in favour of **less complex models** and strive for the model performing best **combining GCV, DoF, and AIC**. Unfortunately, we found that adding both linear and spline terms to the same feature did not improve the model."
   ]
  },
  {
   "cell_type": "markdown",
   "id": "efc7ec31",
   "metadata": {},
   "source": [
    "## 3. Regularization penalty (lambda)"
   ]
  },
  {
   "cell_type": "markdown",
   "id": "1e5ec999",
   "metadata": {},
   "source": [
    "**Lambda** \n",
    "\n",
    "Lambda controls the strength of the regularization penalty on each term (also called regularization rate). Larger values enforce stronger smoothing. Terms can have multiple penalties, and therefore multiple lambdas. When choosing a lambda value, the goal is to strike the right balance between simplicity and training-data fit. If your lambda is too high, your model will be simple, but you run the risk of underfitting your data. If your  lambda value is too low, your model will be more complex, and you run the risk of overfitting your data. The ideal value of lambda produces a model that generalizes well to new, previously unseen data. \n",
    "\n",
    "Unfortunately, that ideal value of lambda is data-dependent, so some tuning is required. We can **perform a grid-search over multiple lam values to see if we can improve our model**. We will seek the model with the lowest generalized cross-validation (GCV) score. By default in pyGAM, spline terms use 2nd derivative smoothing for numerical dtypes, which encourages the functions to be smoother, and L2/ridge smoothing for categorical dtypes. Factor terms and linear terms have a l2, i.e. ridge penalty, which encourages them to take on smaller values."
   ]
  },
  {
   "cell_type": "code",
   "execution_count": 13,
   "id": "1e84e18e",
   "metadata": {},
   "outputs": [
    {
     "name": "stderr",
     "output_type": "stream",
     "text": [
      "/Applications/anaconda3/envs/ssml/lib/python3.9/site-packages/pygam/pygam.py:752: RuntimeWarning: invalid value encountered in reciprocal\n",
      "  np.fill_diagonal(Dinv, d**-1) # invert the singular values\n"
     ]
    },
    {
     "name": "stdout",
     "output_type": "stream",
     "text": [
      "LinearGAM                                                                                                 \n",
      "=============================================== ==========================================================\n",
      "Distribution:                        NormalDist Effective DoF:                                     30.0922\n",
      "Link Function:                     IdentityLink Log Likelihood:                               -182245.7312\n",
      "Number of Samples:                         4668 AIC:                                           364553.6469\n",
      "                                                AICc:                                          364554.0774\n",
      "                                                GCV:                                                0.0118\n",
      "                                                Scale:                                              0.0117\n",
      "                                                Pseudo R-Squared:                                   0.5468\n",
      "==========================================================================================================\n",
      "Feature Function                  Lambda               Rank         EDoF         P > x        Sig. Code   \n",
      "================================= ==================== ============ ============ ============ ============\n",
      "s(0)                              [10]                 20           10.5         1.11e-16     ***         \n",
      "s(1)                              [10]                 20           9.3          1.11e-16     ***         \n",
      "s(2)                              [10]                 20           10.3         1.11e-16     ***         \n",
      "intercept                                              1            0.0          1.11e-16     ***         \n",
      "==========================================================================================================\n",
      "Significance codes:  0 '***' 0.001 '**' 0.01 '*' 0.05 '.' 0.1 ' ' 1\n",
      "\n",
      "WARNING: Fitting splines and a linear function to a feature introduces a model identifiability problem\n",
      "         which can cause p-values to appear significant when they are not.\n",
      "\n",
      "WARNING: p-values calculated in this manner behave correctly for un-penalized models or models with\n",
      "         known smoothing parameters, but when smoothing parameters have been estimated, the p-values\n",
      "         are typically lower than they should be, meaning that the tests reject the null too readily.\n"
     ]
    },
    {
     "name": "stderr",
     "output_type": "stream",
     "text": [
      "/var/folders/6g/kgz5rml118s6lqw25w5sv5mr0000gn/T/ipykernel_1178/1115933263.py:5: UserWarning: KNOWN BUG: p-values computed in this summary are likely much smaller than they should be. \n",
      " \n",
      "Please do not make inferences based on these values! \n",
      "\n",
      "Collaborate on a solution, and stay up to date at: \n",
      "github.com/dswah/pyGAM/issues/163 \n",
      "\n",
      "  gam_100_lam_1.summary()\n"
     ]
    }
   ],
   "source": [
    "# GAM model with lambda = 10\n",
    "gam_100_lam_1 = LinearGAM(lam=10).fit(X_train, y_train)\n",
    "\n",
    "# check model statistics\n",
    "gam_100_lam_1.summary()"
   ]
  },
  {
   "cell_type": "code",
   "execution_count": 14,
   "id": "5b774bc1",
   "metadata": {},
   "outputs": [
    {
     "name": "stdout",
     "output_type": "stream",
     "text": [
      "LinearGAM                                                                                                 \n",
      "=============================================== ==========================================================\n",
      "Distribution:                        NormalDist Effective DoF:                                       33.76\n",
      "Link Function:                     IdentityLink Log Likelihood:                               -182505.0966\n",
      "Number of Samples:                         4668 AIC:                                           365079.7133\n",
      "                                                AICc:                                            365080.25\n",
      "                                                GCV:                                                0.0118\n",
      "                                                Scale:                                              0.0116\n",
      "                                                Pseudo R-Squared:                                   0.5481\n",
      "==========================================================================================================\n",
      "Feature Function                  Lambda               Rank         EDoF         P > x        Sig. Code   \n",
      "================================= ==================== ============ ============ ============ ============\n",
      "s(0)                              [5]                  20           11.7         1.11e-16     ***         \n",
      "s(1)                              [5]                  20           10.5         1.11e-16     ***         \n",
      "s(2)                              [5]                  20           11.6         1.11e-16     ***         \n",
      "intercept                                              1            0.0          1.11e-16     ***         \n",
      "==========================================================================================================\n",
      "Significance codes:  0 '***' 0.001 '**' 0.01 '*' 0.05 '.' 0.1 ' ' 1\n",
      "\n",
      "WARNING: Fitting splines and a linear function to a feature introduces a model identifiability problem\n",
      "         which can cause p-values to appear significant when they are not.\n",
      "\n",
      "WARNING: p-values calculated in this manner behave correctly for un-penalized models or models with\n",
      "         known smoothing parameters, but when smoothing parameters have been estimated, the p-values\n",
      "         are typically lower than they should be, meaning that the tests reject the null too readily.\n"
     ]
    },
    {
     "name": "stderr",
     "output_type": "stream",
     "text": [
      "/Applications/anaconda3/envs/ssml/lib/python3.9/site-packages/pygam/pygam.py:752: RuntimeWarning: invalid value encountered in reciprocal\n",
      "  np.fill_diagonal(Dinv, d**-1) # invert the singular values\n",
      "/var/folders/6g/kgz5rml118s6lqw25w5sv5mr0000gn/T/ipykernel_1178/3093255912.py:5: UserWarning: KNOWN BUG: p-values computed in this summary are likely much smaller than they should be. \n",
      " \n",
      "Please do not make inferences based on these values! \n",
      "\n",
      "Collaborate on a solution, and stay up to date at: \n",
      "github.com/dswah/pyGAM/issues/163 \n",
      "\n",
      "  gam_100_lam_2.summary()\n"
     ]
    }
   ],
   "source": [
    "# GAM model with lambda = 5\n",
    "gam_100_lam_2 = LinearGAM(lam=5).fit(X_train, y_train)\n",
    "\n",
    "# check model statistics\n",
    "gam_100_lam_2.summary()"
   ]
  },
  {
   "cell_type": "code",
   "execution_count": 15,
   "id": "f5bd6aeb",
   "metadata": {},
   "outputs": [
    {
     "name": "stdout",
     "output_type": "stream",
     "text": [
      "LinearGAM                                                                                                 \n",
      "=============================================== ==========================================================\n",
      "Distribution:                        NormalDist Effective DoF:                                      36.512\n",
      "Link Function:                     IdentityLink Log Likelihood:                               -182637.8372\n",
      "Number of Samples:                         4668 AIC:                                           365350.6984\n",
      "                                                AICc:                                          365351.3225\n",
      "                                                GCV:                                                0.0118\n",
      "                                                Scale:                                              0.0116\n",
      "                                                Pseudo R-Squared:                                    0.549\n",
      "==========================================================================================================\n",
      "Feature Function                  Lambda               Rank         EDoF         P > x        Sig. Code   \n",
      "================================= ==================== ============ ============ ============ ============\n",
      "s(0)                              [3]                  20           12.6         1.11e-16     ***         \n",
      "s(1)                              [3]                  20           11.4         1.11e-16     ***         \n",
      "s(2)                              [3]                  20           12.6         1.11e-16     ***         \n",
      "intercept                                              1            0.0          1.11e-16     ***         \n",
      "==========================================================================================================\n",
      "Significance codes:  0 '***' 0.001 '**' 0.01 '*' 0.05 '.' 0.1 ' ' 1\n",
      "\n",
      "WARNING: Fitting splines and a linear function to a feature introduces a model identifiability problem\n",
      "         which can cause p-values to appear significant when they are not.\n",
      "\n",
      "WARNING: p-values calculated in this manner behave correctly for un-penalized models or models with\n",
      "         known smoothing parameters, but when smoothing parameters have been estimated, the p-values\n",
      "         are typically lower than they should be, meaning that the tests reject the null too readily.\n"
     ]
    },
    {
     "name": "stderr",
     "output_type": "stream",
     "text": [
      "/Applications/anaconda3/envs/ssml/lib/python3.9/site-packages/pygam/pygam.py:752: RuntimeWarning: invalid value encountered in reciprocal\n",
      "  np.fill_diagonal(Dinv, d**-1) # invert the singular values\n",
      "/var/folders/6g/kgz5rml118s6lqw25w5sv5mr0000gn/T/ipykernel_1178/1381891552.py:5: UserWarning: KNOWN BUG: p-values computed in this summary are likely much smaller than they should be. \n",
      " \n",
      "Please do not make inferences based on these values! \n",
      "\n",
      "Collaborate on a solution, and stay up to date at: \n",
      "github.com/dswah/pyGAM/issues/163 \n",
      "\n",
      "  gam_100_lam_3.summary()\n"
     ]
    }
   ],
   "source": [
    "# GAM model with lambda = 3\n",
    "gam_100_lam_3 = LinearGAM(lam=3).fit(X_train, y_train)\n",
    "\n",
    "# check model statistics\n",
    "gam_100_lam_3.summary()"
   ]
  },
  {
   "cell_type": "code",
   "execution_count": 16,
   "id": "05c81bab",
   "metadata": {},
   "outputs": [
    {
     "name": "stderr",
     "output_type": "stream",
     "text": [
      "/Applications/anaconda3/envs/ssml/lib/python3.9/site-packages/pygam/pygam.py:752: RuntimeWarning: invalid value encountered in reciprocal\n",
      "  np.fill_diagonal(Dinv, d**-1) # invert the singular values\n"
     ]
    },
    {
     "name": "stdout",
     "output_type": "stream",
     "text": [
      "LinearGAM                                                                                                 \n",
      "=============================================== ==========================================================\n",
      "Distribution:                        NormalDist Effective DoF:                                     49.5642\n",
      "Link Function:                     IdentityLink Log Likelihood:                               -183067.4462\n",
      "Number of Samples:                         4668 AIC:                                           366236.0209\n",
      "                                                AICc:                                          366237.1504\n",
      "                                                GCV:                                                0.0118\n",
      "                                                Scale:                                              0.0116\n",
      "                                                Pseudo R-Squared:                                   0.5525\n",
      "==========================================================================================================\n",
      "Feature Function                  Lambda               Rank         EDoF         P > x        Sig. Code   \n",
      "================================= ==================== ============ ============ ============ ============\n",
      "s(0)                              [0.2]                20           17.0         1.11e-16     ***         \n",
      "s(1)                              [0.2]                20           15.7         1.11e-16     ***         \n",
      "s(2)                              [0.2]                20           16.9         1.11e-16     ***         \n",
      "intercept                                              1            0.0          1.11e-16     ***         \n",
      "==========================================================================================================\n",
      "Significance codes:  0 '***' 0.001 '**' 0.01 '*' 0.05 '.' 0.1 ' ' 1\n",
      "\n",
      "WARNING: Fitting splines and a linear function to a feature introduces a model identifiability problem\n",
      "         which can cause p-values to appear significant when they are not.\n",
      "\n",
      "WARNING: p-values calculated in this manner behave correctly for un-penalized models or models with\n",
      "         known smoothing parameters, but when smoothing parameters have been estimated, the p-values\n",
      "         are typically lower than they should be, meaning that the tests reject the null too readily.\n"
     ]
    },
    {
     "name": "stderr",
     "output_type": "stream",
     "text": [
      "/var/folders/6g/kgz5rml118s6lqw25w5sv5mr0000gn/T/ipykernel_1178/3450052795.py:5: UserWarning: KNOWN BUG: p-values computed in this summary are likely much smaller than they should be. \n",
      " \n",
      "Please do not make inferences based on these values! \n",
      "\n",
      "Collaborate on a solution, and stay up to date at: \n",
      "github.com/dswah/pyGAM/issues/163 \n",
      "\n",
      "  gam_100_lam_4.summary()\n"
     ]
    }
   ],
   "source": [
    "# GAM model with lambda = 0.2\n",
    "gam_100_lam_4 = LinearGAM(s(0) + s(1) + s(2), lam=0.2).fit(X_train, y_train)\n",
    "\n",
    "# check model statistics\n",
    "gam_100_lam_4.summary()"
   ]
  },
  {
   "cell_type": "markdown",
   "id": "076d2e68",
   "metadata": {},
   "source": [
    "**Optimal regularization parameter**\n",
    "\n",
    "Lambda parameters seems to be more flexible, as GCV score maintains low for several values of lambda [0.2 - 10]. In this case, we can study other statistics like DoF or Pseudo R-squared to compare between models and select the best one. For instance, we could prefer a simpler model than a more complex once, meaning lower DoF."
   ]
  },
  {
   "cell_type": "markdown",
   "id": "92cc6cbb",
   "metadata": {},
   "source": [
    "## 4. Smoothness (n_splines)"
   ]
  },
  {
   "cell_type": "markdown",
   "id": "54a7285e",
   "metadata": {},
   "source": [
    "**n_splines (Rank)** \n",
    "\n",
    "The parameter n_splines refers to the number of splines to use for the feature function. The type of basis function to use in the term is p-spline basis, default, or cyclic p-spline basis, used to build periodic functions. The term p-spline stands for \"penalized B-spline\". It refers to using the B-spline representation where the coefficients are partly determined by the data to be fitted, and partly by an additional penalty function that aims to impose smoothness to avoid overfitting. \n",
    "\n",
    "A spline function of order n (spline_order) is a picewise polynomial function (function defined by multiple sub-functions, were each sub-function applies to a different interval in the domain) of degree n-1 in a variable x. B-splines of order n are basis functions (an element of a particular basis for a function space) for spline functions of the same order defined over the same knots, meaning that all possible spline fucntions can be built from a linear combination of B-splines, and there is only one unique combination for each spline function. So, the higher n_spline you fit, the more higher degree polynomial is going to fit to your data for that particular feature."
   ]
  },
  {
   "cell_type": "code",
   "execution_count": 17,
   "id": "21b3ed86",
   "metadata": {},
   "outputs": [
    {
     "name": "stdout",
     "output_type": "stream",
     "text": [
      "LinearGAM                                                                                                 \n",
      "=============================================== ==========================================================\n",
      "Distribution:                        NormalDist Effective DoF:                                    194.1506\n",
      "Link Function:                     IdentityLink Log Likelihood:                               -178798.3708\n",
      "Number of Samples:                         4668 AIC:                                           357987.0428\n",
      "                                                AICc:                                          358004.1628\n",
      "                                                GCV:                                                0.0124\n",
      "                                                Scale:                                              0.0114\n",
      "                                                Pseudo R-Squared:                                   0.5711\n",
      "==========================================================================================================\n",
      "Feature Function                  Lambda               Rank         EDoF         P > x        Sig. Code   \n",
      "================================= ==================== ============ ============ ============ ============\n",
      "s(0)                              [0.6]                100          63.5         1.11e-16     ***         \n",
      "s(1)                              [0.6]                100          61.8         1.11e-16     ***         \n",
      "s(2)                              [0.6]                100          68.9         1.11e-16     ***         \n",
      "intercept                                              1            0.0          1.11e-16     ***         \n",
      "==========================================================================================================\n",
      "Significance codes:  0 '***' 0.001 '**' 0.01 '*' 0.05 '.' 0.1 ' ' 1\n",
      "\n",
      "WARNING: Fitting splines and a linear function to a feature introduces a model identifiability problem\n",
      "         which can cause p-values to appear significant when they are not.\n",
      "\n",
      "WARNING: p-values calculated in this manner behave correctly for un-penalized models or models with\n",
      "         known smoothing parameters, but when smoothing parameters have been estimated, the p-values\n",
      "         are typically lower than they should be, meaning that the tests reject the null too readily.\n"
     ]
    },
    {
     "name": "stderr",
     "output_type": "stream",
     "text": [
      "/Applications/anaconda3/envs/ssml/lib/python3.9/site-packages/pygam/pygam.py:752: RuntimeWarning: invalid value encountered in reciprocal\n",
      "  np.fill_diagonal(Dinv, d**-1) # invert the singular values\n",
      "/var/folders/6g/kgz5rml118s6lqw25w5sv5mr0000gn/T/ipykernel_1178/1774563792.py:5: UserWarning: KNOWN BUG: p-values computed in this summary are likely much smaller than they should be. \n",
      " \n",
      "Please do not make inferences based on these values! \n",
      "\n",
      "Collaborate on a solution, and stay up to date at: \n",
      "github.com/dswah/pyGAM/issues/163 \n",
      "\n",
      "  gam_100_spl_1.summary()\n"
     ]
    }
   ],
   "source": [
    "# GAM model with n_splines = 100\n",
    "gam_100_spl_1 = LinearGAM(n_splines = 100).fit(X_train, y_train)\n",
    "\n",
    "# check model statistics\n",
    "gam_100_spl_1.summary()"
   ]
  },
  {
   "cell_type": "code",
   "execution_count": 18,
   "id": "fc64a4a5",
   "metadata": {},
   "outputs": [
    {
     "name": "stdout",
     "output_type": "stream",
     "text": [
      "LinearGAM                                                                                                 \n",
      "=============================================== ==========================================================\n",
      "Distribution:                        NormalDist Effective DoF:                                    105.8701\n",
      "Link Function:                     IdentityLink Log Likelihood:                               -181774.3063\n",
      "Number of Samples:                         4668 AIC:                                           363762.3528\n",
      "                                                AICc:                                          363767.4088\n",
      "                                                GCV:                                                 0.012\n",
      "                                                Scale:                                              0.0115\n",
      "                                                Pseudo R-Squared:                                   0.5606\n",
      "==========================================================================================================\n",
      "Feature Function                  Lambda               Rank         EDoF         P > x        Sig. Code   \n",
      "================================= ==================== ============ ============ ============ ============\n",
      "s(0)                              [0.6]                50           34.9         1.11e-16     ***         \n",
      "s(1)                              [0.6]                50           33.6         1.11e-16     ***         \n",
      "s(2)                              [0.6]                50           37.3         1.11e-16     ***         \n",
      "intercept                                              1            0.0          1.11e-16     ***         \n",
      "==========================================================================================================\n",
      "Significance codes:  0 '***' 0.001 '**' 0.01 '*' 0.05 '.' 0.1 ' ' 1\n",
      "\n",
      "WARNING: Fitting splines and a linear function to a feature introduces a model identifiability problem\n",
      "         which can cause p-values to appear significant when they are not.\n",
      "\n",
      "WARNING: p-values calculated in this manner behave correctly for un-penalized models or models with\n",
      "         known smoothing parameters, but when smoothing parameters have been estimated, the p-values\n",
      "         are typically lower than they should be, meaning that the tests reject the null too readily.\n"
     ]
    },
    {
     "name": "stderr",
     "output_type": "stream",
     "text": [
      "/Applications/anaconda3/envs/ssml/lib/python3.9/site-packages/pygam/pygam.py:752: RuntimeWarning: invalid value encountered in reciprocal\n",
      "  np.fill_diagonal(Dinv, d**-1) # invert the singular values\n",
      "/var/folders/6g/kgz5rml118s6lqw25w5sv5mr0000gn/T/ipykernel_1178/4172701601.py:5: UserWarning: KNOWN BUG: p-values computed in this summary are likely much smaller than they should be. \n",
      " \n",
      "Please do not make inferences based on these values! \n",
      "\n",
      "Collaborate on a solution, and stay up to date at: \n",
      "github.com/dswah/pyGAM/issues/163 \n",
      "\n",
      "  gam_100_spl_2.summary()\n"
     ]
    }
   ],
   "source": [
    "# GAM model with n_splines = 50\n",
    "gam_100_spl_2 = LinearGAM(n_splines = 50).fit(X_train, y_train)\n",
    "\n",
    "# check model statistics\n",
    "gam_100_spl_2.summary()"
   ]
  },
  {
   "cell_type": "code",
   "execution_count": 19,
   "id": "583df55f",
   "metadata": {},
   "outputs": [
    {
     "name": "stdout",
     "output_type": "stream",
     "text": [
      "LinearGAM                                                                                                 \n",
      "=============================================== ==========================================================\n",
      "Distribution:                        NormalDist Effective DoF:                                     55.6687\n",
      "Link Function:                     IdentityLink Log Likelihood:                               -182732.5536\n",
      "Number of Samples:                         4668 AIC:                                           365578.4446\n",
      "                                                AICc:                                          365579.8623\n",
      "                                                GCV:                                                0.0118\n",
      "                                                Scale:                                              0.0116\n",
      "                                                Pseudo R-Squared:                                    0.553\n",
      "==========================================================================================================\n",
      "Feature Function                  Lambda               Rank         EDoF         P > x        Sig. Code   \n",
      "================================= ==================== ============ ============ ============ ============\n",
      "s(0)                              [0.6]                25           18.8         1.11e-16     ***         \n",
      "s(1)                              [0.6]                25           17.6         1.11e-16     ***         \n",
      "s(2)                              [0.6]                25           19.3         1.11e-16     ***         \n",
      "intercept                                              1            0.0          1.11e-16     ***         \n",
      "==========================================================================================================\n",
      "Significance codes:  0 '***' 0.001 '**' 0.01 '*' 0.05 '.' 0.1 ' ' 1\n",
      "\n",
      "WARNING: Fitting splines and a linear function to a feature introduces a model identifiability problem\n",
      "         which can cause p-values to appear significant when they are not.\n",
      "\n",
      "WARNING: p-values calculated in this manner behave correctly for un-penalized models or models with\n",
      "         known smoothing parameters, but when smoothing parameters have been estimated, the p-values\n",
      "         are typically lower than they should be, meaning that the tests reject the null too readily.\n"
     ]
    },
    {
     "name": "stderr",
     "output_type": "stream",
     "text": [
      "/var/folders/6g/kgz5rml118s6lqw25w5sv5mr0000gn/T/ipykernel_1178/2764893127.py:5: UserWarning: KNOWN BUG: p-values computed in this summary are likely much smaller than they should be. \n",
      " \n",
      "Please do not make inferences based on these values! \n",
      "\n",
      "Collaborate on a solution, and stay up to date at: \n",
      "github.com/dswah/pyGAM/issues/163 \n",
      "\n",
      "  gam_100_spl_3.summary()\n"
     ]
    }
   ],
   "source": [
    "# GAM model with n_splines = 25\n",
    "gam_100_spl_3 = LinearGAM(n_splines = 25).fit(X_train, y_train)\n",
    "\n",
    "# check model statistics\n",
    "gam_100_spl_3.summary()"
   ]
  },
  {
   "cell_type": "code",
   "execution_count": 20,
   "id": "ad1cb9d7",
   "metadata": {
    "scrolled": true
   },
   "outputs": [
    {
     "name": "stdout",
     "output_type": "stream",
     "text": [
      "LinearGAM                                                                                                 \n",
      "=============================================== ==========================================================\n",
      "Distribution:                        NormalDist Effective DoF:                                     33.5762\n",
      "Link Function:                     IdentityLink Log Likelihood:                               -182961.1858\n",
      "Number of Samples:                         4668 AIC:                                           365991.5239\n",
      "                                                AICc:                                           365992.055\n",
      "                                                GCV:                                                0.0118\n",
      "                                                Scale:                                              0.0116\n",
      "                                                Pseudo R-Squared:                                   0.5492\n",
      "==========================================================================================================\n",
      "Feature Function                  Lambda               Rank         EDoF         P > x        Sig. Code   \n",
      "================================= ==================== ============ ============ ============ ============\n",
      "s(0)                              [0.6]                15           11.7         1.11e-16     ***         \n",
      "s(1)                              [0.6]                15           10.5         1.11e-16     ***         \n",
      "s(2)                              [0.6]                15           11.4         1.11e-16     ***         \n",
      "intercept                                              1            0.0          1.11e-16     ***         \n",
      "==========================================================================================================\n",
      "Significance codes:  0 '***' 0.001 '**' 0.01 '*' 0.05 '.' 0.1 ' ' 1\n",
      "\n",
      "WARNING: Fitting splines and a linear function to a feature introduces a model identifiability problem\n",
      "         which can cause p-values to appear significant when they are not.\n",
      "\n",
      "WARNING: p-values calculated in this manner behave correctly for un-penalized models or models with\n",
      "         known smoothing parameters, but when smoothing parameters have been estimated, the p-values\n",
      "         are typically lower than they should be, meaning that the tests reject the null too readily.\n"
     ]
    },
    {
     "name": "stderr",
     "output_type": "stream",
     "text": [
      "/var/folders/6g/kgz5rml118s6lqw25w5sv5mr0000gn/T/ipykernel_1178/127136797.py:5: UserWarning: KNOWN BUG: p-values computed in this summary are likely much smaller than they should be. \n",
      " \n",
      "Please do not make inferences based on these values! \n",
      "\n",
      "Collaborate on a solution, and stay up to date at: \n",
      "github.com/dswah/pyGAM/issues/163 \n",
      "\n",
      "  gam_100_spl_4.summary()\n"
     ]
    }
   ],
   "source": [
    "# GAM model with n_splines = 15\n",
    "gam_100_spl_4 = LinearGAM(n_splines = 15).fit(X_train, y_train)\n",
    "\n",
    "# check model statistics\n",
    "gam_100_spl_4.summary()"
   ]
  },
  {
   "cell_type": "code",
   "execution_count": 21,
   "id": "653d93e7",
   "metadata": {},
   "outputs": [
    {
     "name": "stdout",
     "output_type": "stream",
     "text": [
      "LinearGAM                                                                                                 \n",
      "=============================================== ==========================================================\n",
      "Distribution:                        NormalDist Effective DoF:                                      9.2126\n",
      "Link Function:                     IdentityLink Log Likelihood:                               -175002.6052\n",
      "Number of Samples:                         4668 AIC:                                           350025.6356\n",
      "                                                AICc:                                          350025.6847\n",
      "                                                GCV:                                                0.0122\n",
      "                                                Scale:                                              0.0122\n",
      "                                                Pseudo R-Squared:                                   0.5249\n",
      "==========================================================================================================\n",
      "Feature Function                  Lambda               Rank         EDoF         P > x        Sig. Code   \n",
      "================================= ==================== ============ ============ ============ ============\n",
      "s(0)                              [0.6]                5            3.7          1.11e-16     ***         \n",
      "s(1)                              [0.6]                5            2.6          1.11e-16     ***         \n",
      "s(2)                              [0.6]                5            2.9          1.11e-16     ***         \n",
      "intercept                                              1            0.0          1.11e-16     ***         \n",
      "==========================================================================================================\n",
      "Significance codes:  0 '***' 0.001 '**' 0.01 '*' 0.05 '.' 0.1 ' ' 1\n",
      "\n",
      "WARNING: Fitting splines and a linear function to a feature introduces a model identifiability problem\n",
      "         which can cause p-values to appear significant when they are not.\n",
      "\n",
      "WARNING: p-values calculated in this manner behave correctly for un-penalized models or models with\n",
      "         known smoothing parameters, but when smoothing parameters have been estimated, the p-values\n",
      "         are typically lower than they should be, meaning that the tests reject the null too readily.\n"
     ]
    },
    {
     "name": "stderr",
     "output_type": "stream",
     "text": [
      "/var/folders/6g/kgz5rml118s6lqw25w5sv5mr0000gn/T/ipykernel_1178/926768180.py:5: UserWarning: KNOWN BUG: p-values computed in this summary are likely much smaller than they should be. \n",
      " \n",
      "Please do not make inferences based on these values! \n",
      "\n",
      "Collaborate on a solution, and stay up to date at: \n",
      "github.com/dswah/pyGAM/issues/163 \n",
      "\n",
      "  gam_100_spl_5.summary()\n"
     ]
    }
   ],
   "source": [
    "# GAM model with n_splines = 5\n",
    "gam_100_spl_5 = LinearGAM(n_splines = 5).fit(X_train, y_train)\n",
    "\n",
    "# check model statistics\n",
    "gam_100_spl_5.summary()"
   ]
  },
  {
   "cell_type": "markdown",
   "id": "0c99b979",
   "metadata": {},
   "source": [
    "**Optimal smoothness parameter**\n",
    "\n",
    "After tuning the n_splines parameter, we observe that **optimal values of n_splines lay between 15 and 25** since the associated models have lowest GCV score (~0.0118)."
   ]
  },
  {
   "cell_type": "markdown",
   "id": "3a243e21",
   "metadata": {},
   "source": [
    "## 5. How to choose the best model"
   ]
  },
  {
   "cell_type": "markdown",
   "id": "46bc95fc",
   "metadata": {},
   "source": [
    "### 5.1. LinearGAM statistics summary"
   ]
  },
  {
   "cell_type": "markdown",
   "id": "08b22174",
   "metadata": {},
   "source": [
    "\n",
    "- **Effective Degrees of Freedom (DoF)**: is the number of values in the final calculation of a statistic that are free to vary. The concern is that if there are more degrees of freedom (model parameters) in machine learning, then the model is expected to overfit the training dataset. This expectation can be overcome through the use of regularization techniques, such as regularization linear regression. The degrees of freedom are an accounting of how many parameters are estimated by the model and, by extension, a measure of complexity for linear regression models. We often **prefer lower complexity models over higher complexity models**. Simpler models generalize better.\n",
    "\n",
    "\n",
    "- **Log Likelihood**: the log-likelihood value of a regression model is a way to measure the goodness of fit for a model. The **higher the value of the log-likelihood, the better a model fits a dataset**. The actual log-likelihood value for a given model is mostly meaningless, but it's useful for comparing two or more models.\n",
    "\n",
    "\n",
    "- **AIC**: is an estimator of prediction error and relative quality of statistical models for a given set of data. AIC is founded on information theory. When a statistical model is used to represent the process that generated the data, the representation will almost never be exact; so some information will be lost by using the model to represent the process. AIC estimates the relative amount of information lost by a given model: the less information a model loses, the higher the quality of that model. Given a set of candidate models for the data, the **preferred model is the one with the minimum AIC value**. Thus, AIC rewards goodness of fit (as assessed by the likelihood function), but it also includes a penalty that is an increasing function of the number of estimated parameters. The penalty discourages overfitting, which is desired because increasing the number of parameters in the model almost always improves the goodness of fit.\n",
    "\n",
    "\n",
    "- **AICc**: is AIC with a correction (extra penalty term for the number of parameters) for small sample sizes. When the sample is small, there is a probability that AIC will select models that have too many parameters, i.e. that AIC will overfit. As n -> ∞, the extra penalty term converges to 0, and thus AICc converges to AIC.\n",
    "\n",
    "\n",
    "- **Generalized cross-validation (GCV)**: is a model validation technique for assessing how good the results of a statistical analysis will generalize to an independent data set. It can be taken as an estimate of the mean square prediction error (MSE) based on a leave-one-out cross validation estimation process. GCV provides an approximately unbiased estimate of the prediction error (MSE). This is one of the most important approaches used to estimate parameters in the context of inverse problems and regularization techniques. A notable example is the determination of the smoothness parameter in splines. The **chosen tuning parameters are the ones giving the smallest GCV error**. \n",
    "\n",
    "\n",
    "- **Scale**: the scale parameter is an estimated model parameter related to the variance of the response. It is a special kind of numerical parameter of a parametric family of probability distributions. The larger the scale parameter, the more spread out the distribution. It measures the statistical dispersion of the distribution. If models with unknown scale, grid search will optimize GCV, and for known scale, it will optimize UBRE.\n",
    "\n",
    "\n",
    "- **Pseudo R-Squared**: measure to evaluate the goodness of fit of certain Nonlinear regression models. While pseudo R-squareds cannot be compared independently or compared across datasets, they are valid and useful in evaluating multiple models predicting the same outcome on the same dataset. A pseudo R-squared statistic without context has little meaning. A pseudo R-squared only has meaning when compared to another pseudo R-squared of the same type, on the same data, predicting the same outcome. Then, the **higher pseudo R-squared indicates which model better predicts the outcome**."
   ]
  },
  {
   "cell_type": "markdown",
   "id": "3765d7ff",
   "metadata": {},
   "source": [
    "### 5.2. fit() vs. gridsearch()"
   ]
  },
  {
   "cell_type": "markdown",
   "id": "90105161",
   "metadata": {},
   "source": [
    "The **fit()** function fits the generalized additive model and returns a fitted GAM object. Whereas **gridsearch()** function performs a grid search over a space of parameters for a given objective. The metric to optimize can be AIC, AICc, GCV or UBRE. If 'auto' is selected, then grid search will optimize GCV for models with unknown scale and UBRE for models with known scale. If no lambda parameter is specified, gridsearch will select a **common lambda** for all features that minimizes GCV score. Furthermore, we can easily allow gridsearch to select a **unique lambda for each feature** minimizing the overall GCV score by passing a lambda iterable into the lambda parameter."
   ]
  },
  {
   "cell_type": "code",
   "execution_count": 92,
   "id": "36ddb39a",
   "metadata": {},
   "outputs": [
    {
     "name": "stdout",
     "output_type": "stream",
     "text": [
      "LinearGAM                                                                                                 \n",
      "=============================================== ==========================================================\n",
      "Distribution:                        NormalDist Effective DoF:                                     44.8539\n",
      "Link Function:                     IdentityLink Log Likelihood:                               -182983.3579\n",
      "Number of Samples:                         4668 AIC:                                           366058.4235\n",
      "                                                AICc:                                          366059.3533\n",
      "                                                GCV:                                                0.0118\n",
      "                                                Scale:                                              0.0116\n",
      "                                                Pseudo R-Squared:                                   0.5514\n",
      "==========================================================================================================\n",
      "Feature Function                  Lambda               Rank         EDoF         P > x        Sig. Code   \n",
      "================================= ==================== ============ ============ ============ ============\n",
      "s(0)                              [0.6]                20           15.3         1.11e-16     ***         \n",
      "s(1)                              [0.6]                20           14.1         1.11e-16     ***         \n",
      "s(2)                              [0.6]                20           15.4         1.11e-16     ***         \n",
      "intercept                                              1            0.0          1.11e-16     ***         \n",
      "==========================================================================================================\n",
      "Significance codes:  0 '***' 0.001 '**' 0.01 '*' 0.05 '.' 0.1 ' ' 1\n",
      "\n",
      "WARNING: Fitting splines and a linear function to a feature introduces a model identifiability problem\n",
      "         which can cause p-values to appear significant when they are not.\n",
      "\n",
      "WARNING: p-values calculated in this manner behave correctly for un-penalized models or models with\n",
      "         known smoothing parameters, but when smoothing parameters have been estimated, the p-values\n",
      "         are typically lower than they should be, meaning that the tests reject the null too readily.\n"
     ]
    },
    {
     "name": "stderr",
     "output_type": "stream",
     "text": [
      "/var/folders/6g/kgz5rml118s6lqw25w5sv5mr0000gn/T/ipykernel_1178/3040872960.py:6: UserWarning: KNOWN BUG: p-values computed in this summary are likely much smaller than they should be. \n",
      " \n",
      "Please do not make inferences based on these values! \n",
      "\n",
      "Collaborate on a solution, and stay up to date at: \n",
      "github.com/dswah/pyGAM/issues/163 \n",
      "\n",
      "  gam_100_fit.summary()\n"
     ]
    }
   ],
   "source": [
    "# GAM model using fit()\n",
    "gam_100_fit = LinearGAM().fit(X_train, y_train)\n",
    "warnings.filterwarnings(\"ignore\", category=RuntimeWarning)\n",
    "\n",
    "# check model statistics\n",
    "gam_100_fit.summary()"
   ]
  },
  {
   "cell_type": "code",
   "execution_count": 93,
   "id": "2b40cad8",
   "metadata": {},
   "outputs": [
    {
     "name": "stderr",
     "output_type": "stream",
     "text": [
      "100% (11 of 11) |########################| Elapsed Time: 0:00:00 Time:  0:00:00\n"
     ]
    },
    {
     "name": "stdout",
     "output_type": "stream",
     "text": [
      "LinearGAM                                                                                                 \n",
      "=============================================== ==========================================================\n",
      "Distribution:                        NormalDist Effective DoF:                                     42.3231\n",
      "Link Function:                     IdentityLink Log Likelihood:                               -182881.0876\n",
      "Number of Samples:                         4668 AIC:                                           365848.8216\n",
      "                                                AICc:                                          365849.6522\n",
      "                                                GCV:                                                0.0118\n",
      "                                                Scale:                                              0.0116\n",
      "                                                Pseudo R-Squared:                                   0.5507\n",
      "==========================================================================================================\n",
      "Feature Function                  Lambda               Rank         EDoF         P > x        Sig. Code   \n",
      "================================= ==================== ============ ============ ============ ============\n",
      "s(0)                              [1.]                 20           14.5         1.11e-16     ***         \n",
      "s(1)                              [1.]                 20           13.3         1.11e-16     ***         \n",
      "s(2)                              [1.]                 20           14.6         1.11e-16     ***         \n",
      "intercept                                              1            0.0          1.11e-16     ***         \n",
      "==========================================================================================================\n",
      "Significance codes:  0 '***' 0.001 '**' 0.01 '*' 0.05 '.' 0.1 ' ' 1\n",
      "\n",
      "WARNING: Fitting splines and a linear function to a feature introduces a model identifiability problem\n",
      "         which can cause p-values to appear significant when they are not.\n",
      "\n",
      "WARNING: p-values calculated in this manner behave correctly for un-penalized models or models with\n",
      "         known smoothing parameters, but when smoothing parameters have been estimated, the p-values\n",
      "         are typically lower than they should be, meaning that the tests reject the null too readily.\n"
     ]
    },
    {
     "name": "stderr",
     "output_type": "stream",
     "text": [
      "/var/folders/6g/kgz5rml118s6lqw25w5sv5mr0000gn/T/ipykernel_1178/2995102486.py:6: UserWarning: KNOWN BUG: p-values computed in this summary are likely much smaller than they should be. \n",
      " \n",
      "Please do not make inferences based on these values! \n",
      "\n",
      "Collaborate on a solution, and stay up to date at: \n",
      "github.com/dswah/pyGAM/issues/163 \n",
      "\n",
      "  gam_100_grid.summary()\n"
     ]
    }
   ],
   "source": [
    "# GAM model using gridsearch()\n",
    "warnings.filterwarnings(\"ignore\", category=RuntimeWarning)\n",
    "gam_100_grid = LinearGAM(s(0) + s(1) + s(2)).gridsearch(X_train, y_train)\n",
    "\n",
    "# check model statistics\n",
    "gam_100_grid.summary()"
   ]
  },
  {
   "cell_type": "markdown",
   "id": "7d30858d",
   "metadata": {},
   "source": [
    "It seems that gridsearch() outputs a GAM model with the same GCV score and lower DoF. Therefore, we prefer to use gridsearch() to find the best GAM model."
   ]
  },
  {
   "cell_type": "markdown",
   "id": "1fada6bd",
   "metadata": {},
   "source": [
    "### 5.3. Optimizing for lowest GCV score"
   ]
  },
  {
   "cell_type": "markdown",
   "id": "8b5c04e6",
   "metadata": {},
   "source": [
    "Using gridsearch() automatically tune a common lambda for all parameters that minimize the GCV score. Additionally, we can pass an **iterable to the lambdas parameter** and get a unique lambda for each term that minimizes GCV score instead of a common lambda, which outputs a model with lower GCV score."
   ]
  },
  {
   "cell_type": "code",
   "execution_count": 94,
   "id": "8e536ead",
   "metadata": {
    "scrolled": false
   },
   "outputs": [
    {
     "name": "stderr",
     "output_type": "stream",
     "text": [
      "100% (125 of 125) |######################| Elapsed Time: 0:00:08 Time:  0:00:08\n"
     ]
    },
    {
     "name": "stdout",
     "output_type": "stream",
     "text": [
      "LinearGAM                                                                                                 \n",
      "=============================================== ==========================================================\n",
      "Distribution:                        NormalDist Effective DoF:                                      34.274\n",
      "Link Function:                     IdentityLink Log Likelihood:                               -183529.9415\n",
      "Number of Samples:                         4668 AIC:                                            367130.431\n",
      "                                                AICc:                                          367130.9835\n",
      "                                                GCV:                                                0.0117\n",
      "                                                Scale:                                              0.0116\n",
      "                                                Pseudo R-Squared:                                   0.5506\n",
      "==========================================================================================================\n",
      "Feature Function                  Lambda               Rank         EDoF         P > x        Sig. Code   \n",
      "================================= ==================== ============ ============ ============ ============\n",
      "s(0)                              [31.6228]            20           8.7          1.11e-16     ***         \n",
      "s(1)                              [0.0316]             20           17.3         1.11e-16     ***         \n",
      "s(2)                              [31.6228]            20           8.3          1.11e-16     ***         \n",
      "intercept                                              1            0.0          1.11e-16     ***         \n",
      "==========================================================================================================\n",
      "Significance codes:  0 '***' 0.001 '**' 0.01 '*' 0.05 '.' 0.1 ' ' 1\n",
      "\n",
      "WARNING: Fitting splines and a linear function to a feature introduces a model identifiability problem\n",
      "         which can cause p-values to appear significant when they are not.\n",
      "\n",
      "WARNING: p-values calculated in this manner behave correctly for un-penalized models or models with\n",
      "         known smoothing parameters, but when smoothing parameters have been estimated, the p-values\n",
      "         are typically lower than they should be, meaning that the tests reject the null too readily.\n"
     ]
    },
    {
     "name": "stderr",
     "output_type": "stream",
     "text": [
      "/var/folders/6g/kgz5rml118s6lqw25w5sv5mr0000gn/T/ipykernel_1178/4200477633.py:10: UserWarning: KNOWN BUG: p-values computed in this summary are likely much smaller than they should be. \n",
      " \n",
      "Please do not make inferences based on these values! \n",
      "\n",
      "Collaborate on a solution, and stay up to date at: \n",
      "github.com/dswah/pyGAM/issues/163 \n",
      "\n",
      "  gam_100_1.summary()\n"
     ]
    }
   ],
   "source": [
    "# GAM model gridsearch() iterable lambdas (one for each term)\n",
    "warnings.filterwarnings(\"ignore\", category=RuntimeWarning)\n",
    "gam_100_1 = LinearGAM().fit(X_train, y_train)\n",
    "\n",
    "# using gridsearch to tune the lambdas\n",
    "lam = np.logspace(-3, 3, 5)\n",
    "lams = [lam] * 3\n",
    "\n",
    "gam_100_1.gridsearch(X_train, y_train, lam=lams)\n",
    "gam_100_1.summary()"
   ]
  },
  {
   "cell_type": "code",
   "execution_count": 73,
   "id": "7c5645bd",
   "metadata": {},
   "outputs": [
    {
     "data": {
      "image/png": "[encoded data removed]",
      "text/plain": [
       "<Figure size 432x288 with 1 Axes>"
      ]
     },
     "metadata": {
      "needs_background": "light"
     },
     "output_type": "display_data"
    },
    {
     "data": {
      "image/png": "[encoded data removed]",
      "text/plain": [
       "<Figure size 432x288 with 1 Axes>"
      ]
     },
     "metadata": {
      "needs_background": "light"
     },
     "output_type": "display_data"
    },
    {
     "data": {
      "image/png": "[encoded data removed]",
      "text/plain": [
       "<Figure size 432x288 with 1 Axes>"
      ]
     },
     "metadata": {
      "needs_background": "light"
     },
     "output_type": "display_data"
    }
   ],
   "source": [
    "for i, term in enumerate(gam_100_1.terms):\n",
    "    if term.isintercept:\n",
    "        continue\n",
    "\n",
    "    XX = gam_100_1.generate_X_grid(term=i)\n",
    "    pdep, confi = gam_100_1.partial_dependence(term=i, X=XX, width=0.95)\n",
    "\n",
    "    plt.figure()\n",
    "    plt.plot(XX[:, term.feature], pdep)\n",
    "    plt.hlines(y=0, xmin=0, xmax=1, linewidth=1, color='black', linestyle='--')\n",
    "    plt.plot(XX[:, term.feature], confi, c='r', ls='--')\n",
    "    plt.title(repr(term))\n",
    "    plt.show()"
   ]
  },
  {
   "cell_type": "code",
   "execution_count": 85,
   "id": "8862d6c9",
   "metadata": {},
   "outputs": [
    {
     "data": {
      "text/plain": [
       "<Figure size 432x288 with 0 Axes>"
      ]
     },
     "metadata": {},
     "output_type": "display_data"
    },
    {
     "data": {
      "image/png": "[encoded data removed]",
      "text/plain": [
       "<Figure size 864x288 with 3 Axes>"
      ]
     },
     "metadata": {
      "needs_background": "light"
     },
     "output_type": "display_data"
    }
   ],
   "source": [
    "## plotting\n",
    "plt.figure();\n",
    "fig, axs = plt.subplots(1,3, figsize=(12,4));\n",
    "\n",
    "titles = ['Grass%_100', 'Canopy%_100', 'Shrubs%_100']\n",
    "for i, ax in enumerate(axs):\n",
    "    XX = gam_100_1.generate_X_grid(term=i)\n",
    "    ax.plot(XX[:, i], gam_100_1.partial_dependence(term=i, X=XX))\n",
    "    ax.plot(XX[:, i], gam_100_1.partial_dependence(term=i, X=XX, width=.95)[1], c='r', ls='--')\n",
    "    ax.set_ylim(-0.5, 0.5)\n",
    "    ax.set_xticks(list(ax.get_xticks()))\n",
    "    ax.hlines(y=0, xmin=0, xmax=1, linewidth=1, color='black', linestyle='--')\n",
    "    ax.set_ylabel('Predicted NDVI_100', fontsize=12)\n",
    "    ax.set_title(titles[i], fontsize=12);\n",
    "    \n",
    "# non-overlapping subplots\n",
    "plt.tight_layout()\n",
    "    \n",
    "# save the figure\n",
    "plt.savefig('thesis_project/visualizations/modelling/gam_ndvi_100_plot.png', dpi=300, bbox_inches='tight')\n",
    "\n",
    "plt.show()"
   ]
  },
  {
   "cell_type": "markdown",
   "id": "07788251",
   "metadata": {},
   "source": [
    "**Partial dependence plot: interpretating negative values of y axis**\n",
    "\n",
    "Above, we ploted partial dependence between dependent variables (Grass%_100, Canopy%_100, and Shrubs%_100) and independent variable (NDVI_100). We are observing **changes relative to a central tendency (mean)**. Therefore, negative values on y axis are relative to the mean of NDVI_100. For instance, lower levels of Grass%_100 predict NDVI_100 values below its mean. "
   ]
  },
  {
   "cell_type": "markdown",
   "id": "caf19fcf",
   "metadata": {},
   "source": [
    "- **GAM model NDVI_100 optimizing for Generalized Cross Validation (GCV) score**\n",
    "    - **Distribution**: Normal\n",
    "    - **Link Function**: Identity\n",
    "    - **Functional Form**: NDVI_100 ~ spline(grass%_100) + spline(canopy%_100) + spline(shrubs%_100)\n",
    "    - **Regularization penalty**: lambda = [31.6228, 0.0316, 31.6228]\n",
    "    - **Smoothness**: n_splines = 20\n",
    "    \n",
    "GCV score is ~0.0117, indicating a low probability of overfitting."
   ]
  },
  {
   "cell_type": "markdown",
   "id": "5a80c6f2",
   "metadata": {},
   "source": [
    "### 5.4. Optimizing for combination of GCV, AIC, and DoF (simpler-version)"
   ]
  },
  {
   "cell_type": "markdown",
   "id": "0e12f769",
   "metadata": {},
   "source": [
    "Otherwise, if we are interested in selecting a simpler model, we could also choose the model that performs best combining the scores for GCV, AIC, and DoF. For instance, one could prefer a model with slightly higher GCV, but with considerable less degrees of freedom. **Less complex models imply lower probability of overfitting**."
   ]
  },
  {
   "cell_type": "code",
   "execution_count": 96,
   "id": "1f60f20a",
   "metadata": {},
   "outputs": [
    {
     "name": "stderr",
     "output_type": "stream",
     "text": [
      "100% (125 of 125) |######################| Elapsed Time: 0:00:04 Time:  0:00:04\n"
     ]
    },
    {
     "name": "stdout",
     "output_type": "stream",
     "text": [
      "LinearGAM                                                                                                 \n",
      "=============================================== ==========================================================\n",
      "Distribution:                        NormalDist Effective DoF:                                     13.5974\n",
      "Link Function:                     IdentityLink Log Likelihood:                               -177259.9779\n",
      "Number of Samples:                         4668 AIC:                                           354549.1506\n",
      "                                                AICc:                                          354549.2485\n",
      "                                                GCV:                                                0.0121\n",
      "                                                Scale:                                               0.012\n",
      "                                                Pseudo R-Squared:                                   0.5315\n",
      "==========================================================================================================\n",
      "Feature Function                  Lambda               Rank         EDoF         P > x        Sig. Code   \n",
      "================================= ==================== ============ ============ ============ ============\n",
      "l(0)                              [0.1]                1            1.0          1.11e-16     ***         \n",
      "l(1)                              [0.1]                1            1.0          1.11e-16     ***         \n",
      "s(2)                              [10.]                20           11.6         1.11e-16     ***         \n",
      "intercept                                              1            0.0          1.11e-16     ***         \n",
      "==========================================================================================================\n",
      "Significance codes:  0 '***' 0.001 '**' 0.01 '*' 0.05 '.' 0.1 ' ' 1\n",
      "\n",
      "WARNING: Fitting splines and a linear function to a feature introduces a model identifiability problem\n",
      "         which can cause p-values to appear significant when they are not.\n",
      "\n",
      "WARNING: p-values calculated in this manner behave correctly for un-penalized models or models with\n",
      "         known smoothing parameters, but when smoothing parameters have been estimated, the p-values\n",
      "         are typically lower than they should be, meaning that the tests reject the null too readily.\n"
     ]
    },
    {
     "name": "stderr",
     "output_type": "stream",
     "text": [
      "/var/folders/6g/kgz5rml118s6lqw25w5sv5mr0000gn/T/ipykernel_1178/683483071.py:10: UserWarning: KNOWN BUG: p-values computed in this summary are likely much smaller than they should be. \n",
      " \n",
      "Please do not make inferences based on these values! \n",
      "\n",
      "Collaborate on a solution, and stay up to date at: \n",
      "github.com/dswah/pyGAM/issues/163 \n",
      "\n",
      "  gam_100_2.summary()\n"
     ]
    }
   ],
   "source": [
    "# GAM model candidate 2\n",
    "warnings.filterwarnings(\"ignore\", category=RuntimeWarning)\n",
    "gam_100_2 = LinearGAM(l(0) + l(1) + s(2)).fit(X_train, y_train)\n",
    "\n",
    "# using gridsearch to tune the lambdas\n",
    "lam = np.logspace(-3, 5, 5)\n",
    "lams = [lam] * 3\n",
    "\n",
    "gam_100_2.gridsearch(X_train, y_train, lam=lams)\n",
    "gam_100_2.summary()"
   ]
  },
  {
   "cell_type": "code",
   "execution_count": 120,
   "id": "c82fcd9e",
   "metadata": {},
   "outputs": [
    {
     "data": {
      "text/plain": [
       "<Figure size 432x288 with 0 Axes>"
      ]
     },
     "metadata": {},
     "output_type": "display_data"
    },
    {
     "data": {
      "image/png": "[encoded data removed]",
      "text/plain": [
       "<Figure size 864x288 with 3 Axes>"
      ]
     },
     "metadata": {
      "needs_background": "light"
     },
     "output_type": "display_data"
    }
   ],
   "source": [
    "## plotting\n",
    "plt.figure();\n",
    "fig, axs = plt.subplots(1,3, figsize=(12,4));\n",
    "\n",
    "titles = ['Grass%_100', 'Canopy%_100', 'Shrubs%_100']\n",
    "for i, ax in enumerate(axs):\n",
    "    XX = gam_100_2.generate_X_grid(term=i)\n",
    "    ax.plot(XX[:, i], gam_100_2.partial_dependence(term=i, X=XX))\n",
    "    ax.plot(XX[:, i], gam_100_2.partial_dependence(term=i, X=XX, width=.95)[1], c='r', ls='--')\n",
    "    ax.set_ylim(-0.5, 0.5)\n",
    "    ax.set_xticks(list(ax.get_xticks()))\n",
    "    ax.hlines(y=0, xmin=0, xmax=1, linewidth=1, color='black', linestyle='--')\n",
    "    ax.set_ylabel('Predicted NDVI_100', fontsize=12)\n",
    "    ax.set_title(titles[i], fontsize=12);\n",
    "    \n",
    "# non-overlapping subplots\n",
    "plt.tight_layout()\n",
    "    \n",
    "# save the figure\n",
    "plt.savefig('thesis_project/visualizations/modelling/gam_ndvi_100_simple_plot.png', dpi=300, bbox_inches='tight')\n",
    "\n",
    "plt.show()"
   ]
  },
  {
   "cell_type": "markdown",
   "id": "ab404fd8",
   "metadata": {},
   "source": [
    "- **GAM model NDVI_100 optimizing for combination of GCV, DoF, and AIC (simpler-version)**\n",
    "    - **Distribution**: Normal\n",
    "    - **Link Function**: Identity\n",
    "    - **Functional Form**: NDVI_100 ~ linear(grass%_100) + linear(canopy%_100) + spline(shrubs%_100)\n",
    "    - **Regularization penalty**: lambda = [0.1, 0.1, 10]\n",
    "    - **Smoothness**: n_splines = 20"
   ]
  },
  {
   "cell_type": "markdown",
   "id": "c11718ba",
   "metadata": {},
   "source": [
    "### 6. Robust model predicting NDVI_300"
   ]
  },
  {
   "cell_type": "code",
   "execution_count": 99,
   "id": "95595499",
   "metadata": {},
   "outputs": [
    {
     "data": {
      "text/html": [
       "<div>\n",
       "<style scoped>\n",
       "    .dataframe tbody tr th:only-of-type {\n",
       "        vertical-align: middle;\n",
       "    }\n",
       "\n",
       "    .dataframe tbody tr th {\n",
       "        vertical-align: top;\n",
       "    }\n",
       "\n",
       "    .dataframe thead th {\n",
       "        text-align: right;\n",
       "    }\n",
       "</style>\n",
       "<table border=\"1\" class=\"dataframe\">\n",
       "  <thead>\n",
       "    <tr style=\"text-align: right;\">\n",
       "      <th></th>\n",
       "      <th>NDVI_300</th>\n",
       "      <th>Greenspace%_300</th>\n",
       "      <th>Canopy%_300</th>\n",
       "      <th>Grass%_300</th>\n",
       "      <th>Shrubs%_300</th>\n",
       "      <th>geometry</th>\n",
       "    </tr>\n",
       "  </thead>\n",
       "  <tbody>\n",
       "    <tr>\n",
       "      <th>0</th>\n",
       "      <td>0.281673</td>\n",
       "      <td>0.336101</td>\n",
       "      <td>1.897265e-01</td>\n",
       "      <td>0.037879</td>\n",
       "      <td>0.101613</td>\n",
       "      <td>POINT (382286.540 396971.736)</td>\n",
       "    </tr>\n",
       "    <tr>\n",
       "      <th>1</th>\n",
       "      <td>0.908959</td>\n",
       "      <td>0.961154</td>\n",
       "      <td>2.296515e-01</td>\n",
       "      <td>0.488981</td>\n",
       "      <td>0.274194</td>\n",
       "      <td>POINT (380292.947 385966.872)</td>\n",
       "    </tr>\n",
       "    <tr>\n",
       "      <th>2</th>\n",
       "      <td>0.662655</td>\n",
       "      <td>0.751865</td>\n",
       "      <td>2.449267e-01</td>\n",
       "      <td>0.125344</td>\n",
       "      <td>0.338441</td>\n",
       "      <td>POINT (388038.733 412187.156)</td>\n",
       "    </tr>\n",
       "    <tr>\n",
       "      <th>3</th>\n",
       "      <td>0.552645</td>\n",
       "      <td>0.994652</td>\n",
       "      <td>1.982036e-16</td>\n",
       "      <td>0.069215</td>\n",
       "      <td>0.897849</td>\n",
       "      <td>POINT (376338.417 418312.798)</td>\n",
       "    </tr>\n",
       "    <tr>\n",
       "      <th>4</th>\n",
       "      <td>0.783100</td>\n",
       "      <td>0.884166</td>\n",
       "      <td>2.393294e-01</td>\n",
       "      <td>0.173898</td>\n",
       "      <td>0.659140</td>\n",
       "      <td>POINT (400702.374 407703.870)</td>\n",
       "    </tr>\n",
       "  </tbody>\n",
       "</table>\n",
       "</div>"
      ],
      "text/plain": [
       "   NDVI_300  Greenspace%_300   Canopy%_300  Grass%_300  Shrubs%_300  \\\n",
       "0  0.281673         0.336101  1.897265e-01    0.037879     0.101613   \n",
       "1  0.908959         0.961154  2.296515e-01    0.488981     0.274194   \n",
       "2  0.662655         0.751865  2.449267e-01    0.125344     0.338441   \n",
       "3  0.552645         0.994652  1.982036e-16    0.069215     0.897849   \n",
       "4  0.783100         0.884166  2.393294e-01    0.173898     0.659140   \n",
       "\n",
       "                        geometry  \n",
       "0  POINT (382286.540 396971.736)  \n",
       "1  POINT (380292.947 385966.872)  \n",
       "2  POINT (388038.733 412187.156)  \n",
       "3  POINT (376338.417 418312.798)  \n",
       "4  POINT (400702.374 407703.870)  "
      ]
     },
     "execution_count": 99,
     "metadata": {},
     "output_type": "execute_result"
    }
   ],
   "source": [
    "# load greenspace metrics at 300m geodataframe\n",
    "gdf_300 = gpd.read_file(\"thesis_project/output/dataframes/greenspace_metrics_300_df.json\")\n",
    "gdf_300.head()"
   ]
  },
  {
   "cell_type": "code",
   "execution_count": 100,
   "id": "9b662710",
   "metadata": {},
   "outputs": [],
   "source": [
    "# Grass, Canopy, and Shrubs as predictors\n",
    "cols = ['Grass%_300', 'Canopy%_300', 'Shrubs%_300']\n",
    "df = pd.DataFrame(gdf_300, columns=cols)\n",
    "\n",
    "# target as NDVI_300\n",
    "target = pd.DataFrame(gdf_300, columns=['NDVI_300'])\n",
    "\n",
    "# define X and Y\n",
    "#X = df\n",
    "y = target['NDVI_300']\n",
    "X = df.iloc[:, 0:3].values\n",
    "\n",
    "# split independent and dependent variables into training and test data\n",
    "X_train, X_test, y_train, y_test = train_test_split(X, y, test_size=0.2, random_state=0)"
   ]
  },
  {
   "cell_type": "code",
   "execution_count": 101,
   "id": "6bf91385",
   "metadata": {},
   "outputs": [
    {
     "name": "stderr",
     "output_type": "stream",
     "text": [
      "100% (125 of 125) |######################| Elapsed Time: 0:00:09 Time:  0:00:09\n"
     ]
    },
    {
     "name": "stdout",
     "output_type": "stream",
     "text": [
      "LinearGAM                                                                                                 \n",
      "=============================================== ==========================================================\n",
      "Distribution:                        NormalDist Effective DoF:                                     36.5322\n",
      "Link Function:                     IdentityLink Log Likelihood:                               -204839.5577\n",
      "Number of Samples:                         4688 AIC:                                           409754.1797\n",
      "                                                AICc:                                          409754.8018\n",
      "                                                GCV:                                                0.0106\n",
      "                                                Scale:                                              0.0105\n",
      "                                                Pseudo R-Squared:                                   0.6532\n",
      "==========================================================================================================\n",
      "Feature Function                  Lambda               Rank         EDoF         P > x        Sig. Code   \n",
      "================================= ==================== ============ ============ ============ ============\n",
      "s(0)                              [10.]                20           10.4         1.11e-16     ***         \n",
      "s(1)                              [0.1]                20           16.1         1.11e-16     ***         \n",
      "s(2)                              [10.]                20           10.1         1.11e-16     ***         \n",
      "intercept                                              1            0.0          1.11e-16     ***         \n",
      "==========================================================================================================\n",
      "Significance codes:  0 '***' 0.001 '**' 0.01 '*' 0.05 '.' 0.1 ' ' 1\n",
      "\n",
      "WARNING: Fitting splines and a linear function to a feature introduces a model identifiability problem\n",
      "         which can cause p-values to appear significant when they are not.\n",
      "\n",
      "WARNING: p-values calculated in this manner behave correctly for un-penalized models or models with\n",
      "         known smoothing parameters, but when smoothing parameters have been estimated, the p-values\n",
      "         are typically lower than they should be, meaning that the tests reject the null too readily.\n"
     ]
    },
    {
     "name": "stderr",
     "output_type": "stream",
     "text": [
      "/var/folders/6g/kgz5rml118s6lqw25w5sv5mr0000gn/T/ipykernel_1178/1716297542.py:10: UserWarning: KNOWN BUG: p-values computed in this summary are likely much smaller than they should be. \n",
      " \n",
      "Please do not make inferences based on these values! \n",
      "\n",
      "Collaborate on a solution, and stay up to date at: \n",
      "github.com/dswah/pyGAM/issues/163 \n",
      "\n",
      "  gam_300_1.summary()\n"
     ]
    }
   ],
   "source": [
    "# GAM model candidate 1\n",
    "warnings.filterwarnings(\"ignore\", category=RuntimeWarning)\n",
    "gam_300_1 = LinearGAM(s(0) + s(1) + s(2)).fit(X_train, y_train)\n",
    "\n",
    "# using gridsearch to tune the lambdas indvidually\n",
    "lam = np.logspace(-3, 5, 5)\n",
    "lams = [lam] * 3\n",
    "\n",
    "gam_300_1.gridsearch(X_train, y_train, lam=lams)\n",
    "gam_300_1.summary()"
   ]
  },
  {
   "cell_type": "code",
   "execution_count": 106,
   "id": "30e4b60e",
   "metadata": {},
   "outputs": [
    {
     "name": "stderr",
     "output_type": "stream",
     "text": [
      "100% (125 of 125) |######################| Elapsed Time: 0:00:04 Time:  0:00:04\n"
     ]
    },
    {
     "name": "stdout",
     "output_type": "stream",
     "text": [
      "LinearGAM                                                                                                 \n",
      "=============================================== ==========================================================\n",
      "Distribution:                        NormalDist Effective DoF:                                     13.2975\n",
      "Link Function:                     IdentityLink Log Likelihood:                               -190341.1612\n",
      "Number of Samples:                         4688 AIC:                                           380710.9174\n",
      "                                                AICc:                                           380711.011\n",
      "                                                GCV:                                                0.0113\n",
      "                                                Scale:                                              0.0113\n",
      "                                                Pseudo R-Squared:                                   0.6247\n",
      "==========================================================================================================\n",
      "Feature Function                  Lambda               Rank         EDoF         P > x        Sig. Code   \n",
      "================================= ==================== ============ ============ ============ ============\n",
      "l(0)                              [0.1]                1            1.0          1.11e-16     ***         \n",
      "l(1)                              [0.1]                1            1.0          1.11e-16     ***         \n",
      "s(2)                              [10.]                20           11.3         1.11e-16     ***         \n",
      "intercept                                              1            0.0          1.11e-16     ***         \n",
      "==========================================================================================================\n",
      "Significance codes:  0 '***' 0.001 '**' 0.01 '*' 0.05 '.' 0.1 ' ' 1\n",
      "\n",
      "WARNING: Fitting splines and a linear function to a feature introduces a model identifiability problem\n",
      "         which can cause p-values to appear significant when they are not.\n",
      "\n",
      "WARNING: p-values calculated in this manner behave correctly for un-penalized models or models with\n",
      "         known smoothing parameters, but when smoothing parameters have been estimated, the p-values\n",
      "         are typically lower than they should be, meaning that the tests reject the null too readily.\n"
     ]
    },
    {
     "name": "stderr",
     "output_type": "stream",
     "text": [
      "/var/folders/6g/kgz5rml118s6lqw25w5sv5mr0000gn/T/ipykernel_1178/2377084933.py:10: UserWarning: KNOWN BUG: p-values computed in this summary are likely much smaller than they should be. \n",
      " \n",
      "Please do not make inferences based on these values! \n",
      "\n",
      "Collaborate on a solution, and stay up to date at: \n",
      "github.com/dswah/pyGAM/issues/163 \n",
      "\n",
      "  gam_300_2.summary()\n"
     ]
    }
   ],
   "source": [
    "# GAM model NDVI_300 candidate 2\n",
    "warnings.filterwarnings(\"ignore\", category=RuntimeWarning)\n",
    "gam_300_2 = LinearGAM(l(0) + l(1) + s(2)).fit(X_train, y_train)\n",
    "\n",
    "# using gridsearch to tune the lambdas indvidually\n",
    "lam = np.logspace(-3, 5, 5)\n",
    "lams = [lam] * 3\n",
    "\n",
    "gam_300_2.gridsearch(X_train, y_train, lam=lams)\n",
    "gam_300_2.summary()"
   ]
  },
  {
   "cell_type": "code",
   "execution_count": 103,
   "id": "271c8909",
   "metadata": {},
   "outputs": [
    {
     "data": {
      "text/plain": [
       "<Figure size 432x288 with 0 Axes>"
      ]
     },
     "metadata": {},
     "output_type": "display_data"
    },
    {
     "data": {
      "image/png": "[encoded data removed]",
      "text/plain": [
       "<Figure size 864x288 with 3 Axes>"
      ]
     },
     "metadata": {
      "needs_background": "light"
     },
     "output_type": "display_data"
    }
   ],
   "source": [
    "## plotting\n",
    "plt.figure();\n",
    "fig, axs = plt.subplots(1,3,figsize=(12,4));\n",
    "\n",
    "titles = ['Grass%_300', 'Canopy%_300', 'Shrubs%_300']\n",
    "for i, ax in enumerate(axs):\n",
    "    XX = gam_300_1.generate_X_grid(term=i)\n",
    "    ax.plot(XX[:, i], gam_300_1.partial_dependence(term=i, X=XX))\n",
    "    ax.plot(XX[:, i], gam_300_1.partial_dependence(term=i, X=XX, width=.95)[1], c='r', ls='--')\n",
    "    ax.set_ylim(-0.5, 0.5)\n",
    "    ax.set_xticks(list(ax.get_xticks()))\n",
    "    ax.hlines(y=0, xmin=0, xmax=1, linewidth=1, color='black', linestyle='--')\n",
    "    ax.set_ylabel('Predicted NDVI_300', fontsize=12)\n",
    "    ax.set_title(titles[i], fontsize=12);\n",
    "    \n",
    "# non-overlapping subplots\n",
    "plt.tight_layout()\n",
    "    \n",
    "# save the figure\n",
    "plt.savefig('thesis_project/visualizations/modelling/gam_ndvi_300_plot.png', dpi=300, bbox_inches='tight')\n",
    "\n",
    "plt.show()"
   ]
  },
  {
   "cell_type": "code",
   "execution_count": 107,
   "id": "8ec10f89",
   "metadata": {},
   "outputs": [
    {
     "data": {
      "text/plain": [
       "<Figure size 432x288 with 0 Axes>"
      ]
     },
     "metadata": {},
     "output_type": "display_data"
    },
    {
     "data": {
      "image/png": "[encoded data removed]",
      "text/plain": [
       "<Figure size 864x288 with 3 Axes>"
      ]
     },
     "metadata": {
      "needs_background": "light"
     },
     "output_type": "display_data"
    }
   ],
   "source": [
    "## plotting\n",
    "plt.figure();\n",
    "fig, axs = plt.subplots(1,3,figsize=(12,4));\n",
    "\n",
    "titles = ['Grass%_300', 'Canopy%_300', 'Shrubs%_300']\n",
    "for i, ax in enumerate(axs):\n",
    "    XX = gam_300_2.generate_X_grid(term=i)\n",
    "    ax.plot(XX[:, i], gam_300_2.partial_dependence(term=i, X=XX))\n",
    "    ax.plot(XX[:, i], gam_300_2.partial_dependence(term=i, X=XX, width=.95)[1], c='r', ls='--')\n",
    "    ax.set_ylim(-0.5, 0.5)\n",
    "    ax.set_xticks(list(ax.get_xticks()))\n",
    "    ax.hlines(y=0, xmin=0, xmax=1, linewidth=1, color='black', linestyle='--')\n",
    "    ax.set_ylabel('Predicted NDVI_300', fontsize=12)\n",
    "    ax.set_title(titles[i], fontsize=12);\n",
    "    \n",
    "# non-overlapping subplots\n",
    "plt.tight_layout()\n",
    "    \n",
    "# save the figure\n",
    "plt.savefig('thesis_project/visualizations/modelling/gam_ndvi_300_simple_plot.png', dpi=300, bbox_inches='tight')\n",
    "\n",
    "plt.show()"
   ]
  },
  {
   "cell_type": "markdown",
   "id": "59706a18",
   "metadata": {},
   "source": [
    "- **GAM model NDVI_300 optimizing for Generalized Cross Validation (GCV) score**\n",
    "    - **Distribution**: Normal\n",
    "    - **Link Function**: Identity\n",
    "    - **Functional Form**: NDVI_300 ~ spline(grass%_300) + spline(canopy%_300) + spline(shrubs%_300)\n",
    "    - **Regularization penalty**: lambda = [10, 0.1, 10]\n",
    "    - **Smoothness**: n_splines = 20\n",
    "    \n",
    "    \n",
    "- **GAM model NDVI_300 optimizing for combination of GCV, DoF, and AIC (simpler-version)**\n",
    "    - **Distribution**: Normal\n",
    "    - **Link Function**: Identity\n",
    "    - **Functional Form**: NDVI_300 ~ linear(grass%_300) + linear(canopy%_300) + spline(shrubs%_300)\n",
    "    - **Regularization penalty**: lambda = [0.1, 0.1, 10]\n",
    "    - **Smoothness**: n_splines = 20\n",
    "    \n",
    "The models have a **low probability of overfitting** since both show low GCV scores (~0.0106 vs. ~0.0113)."
   ]
  },
  {
   "cell_type": "markdown",
   "id": "e73a59f3",
   "metadata": {},
   "source": [
    "### 7. Robust model predicting NDVI_500"
   ]
  },
  {
   "cell_type": "code",
   "execution_count": 109,
   "id": "d3b42609",
   "metadata": {},
   "outputs": [
    {
     "data": {
      "text/html": [
       "<div>\n",
       "<style scoped>\n",
       "    .dataframe tbody tr th:only-of-type {\n",
       "        vertical-align: middle;\n",
       "    }\n",
       "\n",
       "    .dataframe tbody tr th {\n",
       "        vertical-align: top;\n",
       "    }\n",
       "\n",
       "    .dataframe thead th {\n",
       "        text-align: right;\n",
       "    }\n",
       "</style>\n",
       "<table border=\"1\" class=\"dataframe\">\n",
       "  <thead>\n",
       "    <tr style=\"text-align: right;\">\n",
       "      <th></th>\n",
       "      <th>NDVI_500</th>\n",
       "      <th>Greenspace%_500</th>\n",
       "      <th>Canopy%_500</th>\n",
       "      <th>Grass%_500</th>\n",
       "      <th>Shrubs%_500</th>\n",
       "      <th>geometry</th>\n",
       "    </tr>\n",
       "  </thead>\n",
       "  <tbody>\n",
       "    <tr>\n",
       "      <th>0</th>\n",
       "      <td>0.705614</td>\n",
       "      <td>0.883310</td>\n",
       "      <td>0.223834</td>\n",
       "      <td>0.096864</td>\n",
       "      <td>0.394812</td>\n",
       "      <td>POINT (362886.156 402352.157)</td>\n",
       "    </tr>\n",
       "    <tr>\n",
       "      <th>1</th>\n",
       "      <td>0.617635</td>\n",
       "      <td>0.871672</td>\n",
       "      <td>0.294723</td>\n",
       "      <td>0.504887</td>\n",
       "      <td>0.241740</td>\n",
       "      <td>POINT (354204.802 403929.521)</td>\n",
       "    </tr>\n",
       "    <tr>\n",
       "      <th>2</th>\n",
       "      <td>0.482378</td>\n",
       "      <td>0.430316</td>\n",
       "      <td>0.417175</td>\n",
       "      <td>0.186725</td>\n",
       "      <td>0.096558</td>\n",
       "      <td>POINT (379393.300 410476.219)</td>\n",
       "    </tr>\n",
       "    <tr>\n",
       "      <th>3</th>\n",
       "      <td>0.612922</td>\n",
       "      <td>0.635173</td>\n",
       "      <td>0.605278</td>\n",
       "      <td>0.147921</td>\n",
       "      <td>0.167965</td>\n",
       "      <td>POINT (385552.048 388856.047)</td>\n",
       "    </tr>\n",
       "    <tr>\n",
       "      <th>4</th>\n",
       "      <td>0.880711</td>\n",
       "      <td>0.992519</td>\n",
       "      <td>0.096232</td>\n",
       "      <td>0.329978</td>\n",
       "      <td>0.685176</td>\n",
       "      <td>POINT (367806.732 411583.484)</td>\n",
       "    </tr>\n",
       "  </tbody>\n",
       "</table>\n",
       "</div>"
      ],
      "text/plain": [
       "   NDVI_500  Greenspace%_500  Canopy%_500  Grass%_500  Shrubs%_500  \\\n",
       "0  0.705614         0.883310     0.223834    0.096864     0.394812   \n",
       "1  0.617635         0.871672     0.294723    0.504887     0.241740   \n",
       "2  0.482378         0.430316     0.417175    0.186725     0.096558   \n",
       "3  0.612922         0.635173     0.605278    0.147921     0.167965   \n",
       "4  0.880711         0.992519     0.096232    0.329978     0.685176   \n",
       "\n",
       "                        geometry  \n",
       "0  POINT (362886.156 402352.157)  \n",
       "1  POINT (354204.802 403929.521)  \n",
       "2  POINT (379393.300 410476.219)  \n",
       "3  POINT (385552.048 388856.047)  \n",
       "4  POINT (367806.732 411583.484)  "
      ]
     },
     "execution_count": 109,
     "metadata": {},
     "output_type": "execute_result"
    }
   ],
   "source": [
    "# load greenspace metrics at 500m geodataframe\n",
    "gdf_500 = gpd.read_file(\"thesis_project/output/dataframes/greenspace_metrics_500_df.json\")\n",
    "gdf_500.head()"
   ]
  },
  {
   "cell_type": "code",
   "execution_count": 110,
   "id": "27871e3a",
   "metadata": {},
   "outputs": [],
   "source": [
    "# Grass, Canopy, and Shrubs as predictors\n",
    "cols = ['Grass%_500', 'Canopy%_500', 'Shrubs%_500']\n",
    "df = pd.DataFrame(gdf_500, columns=cols)\n",
    "\n",
    "# target as NDVI_500\n",
    "target = pd.DataFrame(gdf_500, columns=['NDVI_500'])\n",
    "\n",
    "# define X and Y\n",
    "#X = df\n",
    "y = target['NDVI_500']\n",
    "X = df.iloc[:, 0:3].values\n",
    "\n",
    "# split independent and dependent variables into training and test data\n",
    "X_train, X_test, y_train, y_test = train_test_split(X, y, test_size=0.2, random_state=0)"
   ]
  },
  {
   "cell_type": "code",
   "execution_count": 111,
   "id": "7946bb98",
   "metadata": {},
   "outputs": [
    {
     "name": "stderr",
     "output_type": "stream",
     "text": [
      "100% (125 of 125) |######################| Elapsed Time: 0:00:05 Time:  0:00:05\n"
     ]
    },
    {
     "name": "stdout",
     "output_type": "stream",
     "text": [
      "LinearGAM                                                                                                 \n",
      "=============================================== ==========================================================\n",
      "Distribution:                        NormalDist Effective DoF:                                     25.8662\n",
      "Link Function:                     IdentityLink Log Likelihood:                                -125883.579\n",
      "Number of Samples:                         2325 AIC:                                           251820.8904\n",
      "                                                AICc:                                          251821.5422\n",
      "                                                GCV:                                                0.0087\n",
      "                                                Scale:                                              0.0085\n",
      "                                                Pseudo R-Squared:                                   0.7159\n",
      "==========================================================================================================\n",
      "Feature Function                  Lambda               Rank         EDoF         P > x        Sig. Code   \n",
      "================================= ==================== ============ ============ ============ ============\n",
      "s(0)                              [10.]                20           9.1          1.11e-16     ***         \n",
      "s(1)                              [10.]                20           8.2          1.11e-16     ***         \n",
      "s(2)                              [10.]                20           8.6          1.11e-16     ***         \n",
      "intercept                                              1            0.0          1.11e-16     ***         \n",
      "==========================================================================================================\n",
      "Significance codes:  0 '***' 0.001 '**' 0.01 '*' 0.05 '.' 0.1 ' ' 1\n",
      "\n",
      "WARNING: Fitting splines and a linear function to a feature introduces a model identifiability problem\n",
      "         which can cause p-values to appear significant when they are not.\n",
      "\n",
      "WARNING: p-values calculated in this manner behave correctly for un-penalized models or models with\n",
      "         known smoothing parameters, but when smoothing parameters have been estimated, the p-values\n",
      "         are typically lower than they should be, meaning that the tests reject the null too readily.\n"
     ]
    },
    {
     "name": "stderr",
     "output_type": "stream",
     "text": [
      "/var/folders/6g/kgz5rml118s6lqw25w5sv5mr0000gn/T/ipykernel_1178/2549631320.py:10: UserWarning: KNOWN BUG: p-values computed in this summary are likely much smaller than they should be. \n",
      " \n",
      "Please do not make inferences based on these values! \n",
      "\n",
      "Collaborate on a solution, and stay up to date at: \n",
      "github.com/dswah/pyGAM/issues/163 \n",
      "\n",
      "  gam_500_1.summary()\n"
     ]
    }
   ],
   "source": [
    "# GAM model NDVI_500 candidate 1\n",
    "warnings.filterwarnings(\"ignore\", category=RuntimeWarning)\n",
    "gam_500_1 = LinearGAM(s(0) + s(1) + s(2)).fit(X_train, y_train)\n",
    "\n",
    "# using gridsearch to tune the lambdas indvidually\n",
    "lam = np.logspace(-3, 5, 5)\n",
    "lams = [lam] * 3\n",
    "\n",
    "gam_500_1.gridsearch(X_train, y_train, lam=lams)\n",
    "gam_500_1.summary()"
   ]
  },
  {
   "cell_type": "code",
   "execution_count": 112,
   "id": "4e2b9ac3",
   "metadata": {},
   "outputs": [
    {
     "name": "stderr",
     "output_type": "stream",
     "text": [
      "100% (125 of 125) |######################| Elapsed Time: 0:00:02 Time:  0:00:02\n"
     ]
    },
    {
     "name": "stdout",
     "output_type": "stream",
     "text": [
      "LinearGAM                                                                                                 \n",
      "=============================================== ==========================================================\n",
      "Distribution:                        NormalDist Effective DoF:                                     11.8922\n",
      "Link Function:                     IdentityLink Log Likelihood:                               -116417.3844\n",
      "Number of Samples:                         2325 AIC:                                           232860.5531\n",
      "                                                AICc:                                          232860.7081\n",
      "                                                GCV:                                                0.0093\n",
      "                                                Scale:                                              0.0092\n",
      "                                                Pseudo R-Squared:                                   0.6903\n",
      "==========================================================================================================\n",
      "Feature Function                  Lambda               Rank         EDoF         P > x        Sig. Code   \n",
      "================================= ==================== ============ ============ ============ ============\n",
      "l(0)                              [0.1]                1            1.0          1.11e-16     ***         \n",
      "l(1)                              [0.1]                1            1.0          1.11e-16     ***         \n",
      "s(2)                              [10.]                20           9.9          1.11e-16     ***         \n",
      "intercept                                              1            0.0          1.11e-16     ***         \n",
      "==========================================================================================================\n",
      "Significance codes:  0 '***' 0.001 '**' 0.01 '*' 0.05 '.' 0.1 ' ' 1\n",
      "\n",
      "WARNING: Fitting splines and a linear function to a feature introduces a model identifiability problem\n",
      "         which can cause p-values to appear significant when they are not.\n",
      "\n",
      "WARNING: p-values calculated in this manner behave correctly for un-penalized models or models with\n",
      "         known smoothing parameters, but when smoothing parameters have been estimated, the p-values\n",
      "         are typically lower than they should be, meaning that the tests reject the null too readily.\n"
     ]
    },
    {
     "name": "stderr",
     "output_type": "stream",
     "text": [
      "/var/folders/6g/kgz5rml118s6lqw25w5sv5mr0000gn/T/ipykernel_1178/2608535482.py:10: UserWarning: KNOWN BUG: p-values computed in this summary are likely much smaller than they should be. \n",
      " \n",
      "Please do not make inferences based on these values! \n",
      "\n",
      "Collaborate on a solution, and stay up to date at: \n",
      "github.com/dswah/pyGAM/issues/163 \n",
      "\n",
      "  gam_500_2.summary()\n"
     ]
    }
   ],
   "source": [
    "# GAM model NDVI_500 candidate 2\n",
    "warnings.filterwarnings(\"ignore\", category=RuntimeWarning)\n",
    "gam_500_2 = LinearGAM(l(0) + l(1) + s(2)).fit(X_train, y_train)\n",
    "\n",
    "# using gridsearch to tune the lambdas indvidually\n",
    "lam = np.logspace(-3, 5, 5)\n",
    "lams = [lam] * 3\n",
    "\n",
    "gam_500_2.gridsearch(X_train, y_train, lam=lams)\n",
    "gam_500_2.summary()"
   ]
  },
  {
   "cell_type": "code",
   "execution_count": 115,
   "id": "535eb5d1",
   "metadata": {
    "scrolled": true
   },
   "outputs": [
    {
     "data": {
      "text/plain": [
       "<Figure size 432x288 with 0 Axes>"
      ]
     },
     "metadata": {},
     "output_type": "display_data"
    },
    {
     "data": {
      "image/png": "[encoded data removed]",
      "text/plain": [
       "<Figure size 864x288 with 3 Axes>"
      ]
     },
     "metadata": {
      "needs_background": "light"
     },
     "output_type": "display_data"
    }
   ],
   "source": [
    "## plotting\n",
    "plt.figure();\n",
    "fig, axs = plt.subplots(1,3,figsize=(12,4));\n",
    "\n",
    "titles = ['Grass%_500', 'Canopy%_500', 'Shrubs%_500']\n",
    "for i, ax in enumerate(axs):\n",
    "    XX = gam_500_1.generate_X_grid(term=i)\n",
    "    ax.plot(XX[:, i], gam_500_1.partial_dependence(term=i, X=XX))\n",
    "    ax.plot(XX[:, i], gam_500_1.partial_dependence(term=i, X=XX, width=.95)[1], c='r', ls='--')\n",
    "    ax.set_ylim(-0.5, 0.5)\n",
    "    ax.set_xticks(list(ax.get_xticks()))\n",
    "    ax.hlines(y=0, xmin=0, xmax=1, linewidth=1, color='black', linestyle='--')\n",
    "    ax.set_ylabel('Predicted NDVI_500', fontsize=12)\n",
    "    ax.set_title(titles[i], fontsize=12);\n",
    "    \n",
    "# non-overlapping subplots\n",
    "plt.tight_layout()\n",
    "    \n",
    "# save the figure\n",
    "plt.savefig('thesis_project/visualizations/modelling/gam_ndvi_500_plot.png', dpi=300, bbox_inches='tight')\n",
    "\n",
    "plt.show()"
   ]
  },
  {
   "cell_type": "code",
   "execution_count": 116,
   "id": "a44b2457",
   "metadata": {},
   "outputs": [
    {
     "data": {
      "text/plain": [
       "<Figure size 432x288 with 0 Axes>"
      ]
     },
     "metadata": {},
     "output_type": "display_data"
    },
    {
     "data": {
      "image/png": "[encoded data removed]",
      "text/plain": [
       "<Figure size 864x288 with 3 Axes>"
      ]
     },
     "metadata": {
      "needs_background": "light"
     },
     "output_type": "display_data"
    }
   ],
   "source": [
    "## plotting\n",
    "plt.figure();\n",
    "fig, axs = plt.subplots(1,3,figsize=(12,4));\n",
    "\n",
    "titles = ['Grass%_500', 'Canopy%_500', 'Shrubs%_500']\n",
    "for i, ax in enumerate(axs):\n",
    "    XX = gam_500_2.generate_X_grid(term=i)\n",
    "    ax.plot(XX[:, i], gam_500_2.partial_dependence(term=i, X=XX))\n",
    "    ax.plot(XX[:, i], gam_500_2.partial_dependence(term=i, X=XX, width=.95)[1], c='r', ls='--')\n",
    "    ax.set_ylim(-0.5, 0.5)\n",
    "    ax.set_xticks(list(ax.get_xticks()))\n",
    "    ax.hlines(y=0, xmin=0, xmax=1, linewidth=1, color='black', linestyle='--')\n",
    "    ax.set_ylabel('Predicted NDVI_500', fontsize=12)\n",
    "    ax.set_title(titles[i], fontsize=12);\n",
    "    \n",
    "# non-overlapping subplots\n",
    "plt.tight_layout()\n",
    "    \n",
    "# save the figure\n",
    "plt.savefig('thesis_project/visualizations/modelling/gam_ndvi_500_simple_plot.png', dpi=300, bbox_inches='tight')\n",
    "\n",
    "plt.show()"
   ]
  },
  {
   "cell_type": "markdown",
   "id": "7ae731ae",
   "metadata": {},
   "source": [
    "- **GAM model NDVI_500 optimizing for Generalized Cross Validation (GCV) score**\n",
    "    - **Distribution**: Normal\n",
    "    - **Link Function**: Identity\n",
    "    - **Functional Form**: NDVI_500 ~ spline(grass%_500) + spline(canopy%_500) + spline(shrubs%_500)\n",
    "    - **Regularization penalty**: lambda = 10\n",
    "    - **Smoothness**: n_splines = 20\n",
    "    \n",
    "    \n",
    "- **GAM model NDVI_500 optimizing for combination of GCV, DoF, and AIC (simpler-version)**\n",
    "    - **Distribution**: Normal\n",
    "    - **Link Function**: Identity\n",
    "    - **Functional Form**: NDVI_500 ~ linear(grass%_500) + linear(canopy%_500) + spline(shrubs%_500)\n",
    "    - **Regularization penalty**: lambda = 10\n",
    "    - **Smoothness**: n_splines = [0.1, 0.1, 10]\n",
    "    \n",
    "The models have a **low probability of overfitting** since both show low GCV scores (~0.0087 vs. ~0.0093)."
   ]
  }
 ],
 "metadata": {
  "kernelspec": {
   "display_name": "Python 3 (ipykernel)",
   "language": "python",
   "name": "python3"
  },
  "language_info": {
   "codemirror_mode": {
    "name": "ipython",
    "version": 3
   },
   "file_extension": ".py",
   "mimetype": "text/x-python",
   "name": "python",
   "nbconvert_exporter": "python",
   "pygments_lexer": "ipython3",
   "version": "3.9.10"
  }
 },
 "nbformat": 4,
 "nbformat_minor": 5
}
