{
 "cells": [
  {
   "cell_type": "markdown",
   "id": "9744e7bb",
   "metadata": {},
   "source": [
    "# Univariate analysis NDVI"
   ]
  },
  {
   "cell_type": "code",
   "execution_count": 1,
   "id": "febe111d",
   "metadata": {},
   "outputs": [],
   "source": [
    "import numpy as np\n",
    "import pandas as pd\n",
    "import geopandas as gpd\n",
    "import matplotlib.pyplot as plt\n",
    "import warnings\n",
    "from pygam import LinearGAM, s, l\n",
    "from sklearn import linear_model, metrics\n",
    "from sklearn.model_selection import train_test_split\n",
    "from sklearn.metrics import accuracy_score\n",
    "from PIL import Image as im"
   ]
  },
  {
   "cell_type": "code",
   "execution_count": 2,
   "id": "aeed14f2",
   "metadata": {},
   "outputs": [],
   "source": [
    "#! pip install pygam"
   ]
  },
  {
   "cell_type": "markdown",
   "id": "c6cf24c0",
   "metadata": {},
   "source": [
    "## 1. Modeling vegetation densities for buffer distances of 100 meters"
   ]
  },
  {
   "cell_type": "code",
   "execution_count": 3,
   "id": "8e0e7418",
   "metadata": {},
   "outputs": [
    {
     "data": {
      "text/html": [
       "<div>\n",
       "<style scoped>\n",
       "    .dataframe tbody tr th:only-of-type {\n",
       "        vertical-align: middle;\n",
       "    }\n",
       "\n",
       "    .dataframe tbody tr th {\n",
       "        vertical-align: top;\n",
       "    }\n",
       "\n",
       "    .dataframe thead th {\n",
       "        text-align: right;\n",
       "    }\n",
       "</style>\n",
       "<table border=\"1\" class=\"dataframe\">\n",
       "  <thead>\n",
       "    <tr style=\"text-align: right;\">\n",
       "      <th></th>\n",
       "      <th>NDVI_100</th>\n",
       "      <th>Greenspace%_100</th>\n",
       "      <th>Canopy%_100</th>\n",
       "      <th>Grass%_100</th>\n",
       "      <th>Shrubs%_100</th>\n",
       "      <th>geometry</th>\n",
       "    </tr>\n",
       "  </thead>\n",
       "  <tbody>\n",
       "    <tr>\n",
       "      <th>0</th>\n",
       "      <td>0.455823</td>\n",
       "      <td>0.992861</td>\n",
       "      <td>2.168372e-17</td>\n",
       "      <td>0.006803</td>\n",
       "      <td>0.848073</td>\n",
       "      <td>POINT (386483.262 417703.544)</td>\n",
       "    </tr>\n",
       "    <tr>\n",
       "      <th>1</th>\n",
       "      <td>0.387782</td>\n",
       "      <td>0.521713</td>\n",
       "      <td>2.176871e-01</td>\n",
       "      <td>0.097506</td>\n",
       "      <td>0.190476</td>\n",
       "      <td>POINT (395310.475 388609.235)</td>\n",
       "    </tr>\n",
       "    <tr>\n",
       "      <th>2</th>\n",
       "      <td>0.389722</td>\n",
       "      <td>0.979774</td>\n",
       "      <td>5.117090e-17</td>\n",
       "      <td>0.083900</td>\n",
       "      <td>0.891156</td>\n",
       "      <td>POINT (384225.708 417867.819)</td>\n",
       "    </tr>\n",
       "    <tr>\n",
       "      <th>3</th>\n",
       "      <td>0.623486</td>\n",
       "      <td>0.771565</td>\n",
       "      <td>8.163265e-02</td>\n",
       "      <td>0.083900</td>\n",
       "      <td>0.612245</td>\n",
       "      <td>POINT (390673.998 416261.747)</td>\n",
       "    </tr>\n",
       "    <tr>\n",
       "      <th>4</th>\n",
       "      <td>0.628733</td>\n",
       "      <td>0.886972</td>\n",
       "      <td>6.643991e-01</td>\n",
       "      <td>0.052154</td>\n",
       "      <td>0.163265</td>\n",
       "      <td>POINT (393523.154 393041.484)</td>\n",
       "    </tr>\n",
       "  </tbody>\n",
       "</table>\n",
       "</div>"
      ],
      "text/plain": [
       "   NDVI_100  Greenspace%_100   Canopy%_100  Grass%_100  Shrubs%_100  \\\n",
       "0  0.455823         0.992861  2.168372e-17    0.006803     0.848073   \n",
       "1  0.387782         0.521713  2.176871e-01    0.097506     0.190476   \n",
       "2  0.389722         0.979774  5.117090e-17    0.083900     0.891156   \n",
       "3  0.623486         0.771565  8.163265e-02    0.083900     0.612245   \n",
       "4  0.628733         0.886972  6.643991e-01    0.052154     0.163265   \n",
       "\n",
       "                        geometry  \n",
       "0  POINT (386483.262 417703.544)  \n",
       "1  POINT (395310.475 388609.235)  \n",
       "2  POINT (384225.708 417867.819)  \n",
       "3  POINT (390673.998 416261.747)  \n",
       "4  POINT (393523.154 393041.484)  "
      ]
     },
     "execution_count": 3,
     "metadata": {},
     "output_type": "execute_result"
    }
   ],
   "source": [
    "# load greenspace metrics at 100m geodataframe\n",
    "gdf_100 = gpd.read_file(\"thesis_project/output/dataframes/greenspace_metrics_100_df_2.json\")\n",
    "gdf_100.head()"
   ]
  },
  {
   "cell_type": "markdown",
   "id": "821fbc94",
   "metadata": {},
   "source": [
    "### 1.1. Model 1: greenspace ~ linear(NDVI)"
   ]
  },
  {
   "cell_type": "code",
   "execution_count": 4,
   "id": "24238424",
   "metadata": {},
   "outputs": [],
   "source": [
    "# data/predictors as the NDVI_100\n",
    "df_100 = pd.DataFrame(gdf_100, columns=['NDVI_100'])\n",
    "\n",
    "# target as Greenspace%_100\n",
    "target_100 = pd.DataFrame(gdf_100, columns=['Greenspace%_100'])\n",
    "\n",
    "# define X and Y\n",
    "X = df_100\n",
    "y = target_100['Greenspace%_100']\n",
    "\n",
    "# split independent and dependent variables into training and test data\n",
    "X_train, X_test, y_train, y_test = train_test_split(X, y, test_size=0.2, random_state=0)"
   ]
  },
  {
   "cell_type": "code",
   "execution_count": 5,
   "id": "d4851ec5",
   "metadata": {},
   "outputs": [
    {
     "name": "stderr",
     "output_type": "stream",
     "text": [
      "100% (11 of 11) |########################| Elapsed Time: 0:00:00 Time:  0:00:00\n"
     ]
    },
    {
     "name": "stdout",
     "output_type": "stream",
     "text": [
      "LinearGAM                                                                                                 \n",
      "=============================================== ==========================================================\n",
      "Distribution:                        NormalDist Effective DoF:                                      1.9999\n",
      "Link Function:                     IdentityLink Log Likelihood:                                -84351.7622\n",
      "Number of Samples:                         4749 AIC:                                           168709.5242\n",
      "                                                AICc:                                          168709.5293\n",
      "                                                GCV:                                                0.0243\n",
      "                                                Scale:                                              0.0243\n",
      "                                                Pseudo R-Squared:                                   0.6833\n",
      "==========================================================================================================\n",
      "Feature Function                  Lambda               Rank         EDoF         P > x        Sig. Code   \n",
      "================================= ==================== ============ ============ ============ ============\n",
      "l(0)                              [0.0158]             1            1.0          1.11e-16     ***         \n",
      "intercept                                              1            1.0          3.46e-03     **          \n",
      "==========================================================================================================\n",
      "Significance codes:  0 '***' 0.001 '**' 0.01 '*' 0.05 '.' 0.1 ' ' 1\n",
      "\n",
      "WARNING: Fitting splines and a linear function to a feature introduces a model identifiability problem\n",
      "         which can cause p-values to appear significant when they are not.\n",
      "\n",
      "WARNING: p-values calculated in this manner behave correctly for un-penalized models or models with\n",
      "         known smoothing parameters, but when smoothing parameters have been estimated, the p-values\n",
      "         are typically lower than they should be, meaning that the tests reject the null too readily.\n"
     ]
    },
    {
     "name": "stderr",
     "output_type": "stream",
     "text": [
      "/var/folders/6g/kgz5rml118s6lqw25w5sv5mr0000gn/T/ipykernel_1241/161998086.py:6: UserWarning: KNOWN BUG: p-values computed in this summary are likely much smaller than they should be. \n",
      " \n",
      "Please do not make inferences based on these values! \n",
      "\n",
      "Collaborate on a solution, and stay up to date at: \n",
      "github.com/dswah/pyGAM/issues/163 \n",
      "\n",
      "  uni_gam_100_1.summary()\n"
     ]
    }
   ],
   "source": [
    "# Model 1\n",
    "warnings.filterwarnings(\"ignore\", category=RuntimeWarning)\n",
    "uni_gam_100_1 = LinearGAM(l(0)).fit(X_train, y_train)\n",
    "\n",
    "uni_gam_100_1.gridsearch(X_train, y_train)\n",
    "uni_gam_100_1.summary()"
   ]
  },
  {
   "cell_type": "markdown",
   "id": "e56f27b9",
   "metadata": {},
   "source": [
    "### 1.2. Model 2: greenspace ~ spline(NDVI)"
   ]
  },
  {
   "cell_type": "code",
   "execution_count": 6,
   "id": "91a31661",
   "metadata": {},
   "outputs": [
    {
     "name": "stderr",
     "output_type": "stream",
     "text": [
      "100% (11 of 11) |########################| Elapsed Time: 0:00:00 Time:  0:00:00\n"
     ]
    },
    {
     "name": "stdout",
     "output_type": "stream",
     "text": [
      "LinearGAM                                                                                                 \n",
      "=============================================== ==========================================================\n",
      "Distribution:                        NormalDist Effective DoF:                                     10.1105\n",
      "Link Function:                     IdentityLink Log Likelihood:                                -93747.8378\n",
      "Number of Samples:                         4749 AIC:                                           187517.8966\n",
      "                                                AICc:                                          187517.9534\n",
      "                                                GCV:                                                0.0221\n",
      "                                                Scale:                                               0.022\n",
      "                                                Pseudo R-Squared:                                   0.7134\n",
      "==========================================================================================================\n",
      "Feature Function                  Lambda               Rank         EDoF         P > x        Sig. Code   \n",
      "================================= ==================== ============ ============ ============ ============\n",
      "s(0)                              [15.8489]            20           10.1         1.11e-16     ***         \n",
      "intercept                                              1            0.0          1.11e-16     ***         \n",
      "==========================================================================================================\n",
      "Significance codes:  0 '***' 0.001 '**' 0.01 '*' 0.05 '.' 0.1 ' ' 1\n",
      "\n",
      "WARNING: Fitting splines and a linear function to a feature introduces a model identifiability problem\n",
      "         which can cause p-values to appear significant when they are not.\n",
      "\n",
      "WARNING: p-values calculated in this manner behave correctly for un-penalized models or models with\n",
      "         known smoothing parameters, but when smoothing parameters have been estimated, the p-values\n",
      "         are typically lower than they should be, meaning that the tests reject the null too readily.\n"
     ]
    },
    {
     "name": "stderr",
     "output_type": "stream",
     "text": [
      "/var/folders/6g/kgz5rml118s6lqw25w5sv5mr0000gn/T/ipykernel_1241/2437069232.py:6: UserWarning: KNOWN BUG: p-values computed in this summary are likely much smaller than they should be. \n",
      " \n",
      "Please do not make inferences based on these values! \n",
      "\n",
      "Collaborate on a solution, and stay up to date at: \n",
      "github.com/dswah/pyGAM/issues/163 \n",
      "\n",
      "  uni_gam_100_2.summary()\n"
     ]
    }
   ],
   "source": [
    "# Model 2\n",
    "warnings.filterwarnings(\"ignore\", category=RuntimeWarning)\n",
    "uni_gam_100_2 = LinearGAM(s(0)).fit(X_train, y_train)\n",
    "\n",
    "uni_gam_100_2.gridsearch(X_train, y_train)\n",
    "uni_gam_100_2.summary()"
   ]
  },
  {
   "cell_type": "code",
   "execution_count": 116,
   "id": "616e2947",
   "metadata": {},
   "outputs": [
    {
     "data": {
      "image/png": "[encoded data removed]",
      "text/plain": [
       "<Figure size 432x288 with 1 Axes>"
      ]
     },
     "metadata": {
      "needs_background": "light"
     },
     "output_type": "display_data"
    }
   ],
   "source": [
    "# plotting best greenspace_100 model\n",
    "for i, term in enumerate(uni_gam_100_2.terms):\n",
    "    if term.isintercept:\n",
    "        continue\n",
    "\n",
    "    XX = uni_gam_100_2.generate_X_grid(term=i)\n",
    "    pdep, confi = uni_gam_100_2.partial_dependence(term=i, X=XX, width=0.95)\n",
    "\n",
    "    plt.figure()\n",
    "    plt.plot(XX[:, term.feature], pdep)\n",
    "    plt.hlines(y=0, xmin=0, xmax=1, linewidth=1, color='black', linestyle='--')\n",
    "    plt.plot(XX[:, term.feature], confi, c='r', ls='--')\n",
    "#    ax = plt.gca()\n",
    "#    ax.set_ylim([-0.65, 0.55])\n",
    "    # set title, xlabel and ylabel\n",
    "    plt.title('Sensitivity of Greenspace to NDVI\\nfor buffer zones of 100 m', fontsize=18)\n",
    "    plt.xlabel('NDVI', fontsize=18)\n",
    "    plt.ylabel('Change relative to mean\\nGreenspace', fontsize=18)\n",
    "    # save the figure\n",
    "    plt.savefig('thesis_project/visualizations/modelling/univariate/gam_greenspace_100_best_plot_2.png', dpi=300, bbox_inches='tight')\n",
    "    im.open('thesis_project/visualizations/modelling/univariate/gam_greenspace_100_best_plot_2.png').save('thesis_project/visualizations/modelling/univariate/gam_greenspace_100_best_plot_2.bmp')\n",
    "    plt.show()"
   ]
  },
  {
   "cell_type": "code",
   "execution_count": 8,
   "id": "b11fd028",
   "metadata": {},
   "outputs": [
    {
     "name": "stdout",
     "output_type": "stream",
     "text": [
      "If NDVI goes from 0.25 to 0.35, Greenspace%_100 increases by: 0.18946076036848403\n"
     ]
    }
   ],
   "source": [
    "# Change in low NDVI values: how does Greenspace% increase, if NDVI changes from 0.25 to 0.35?\n",
    "green_l0 = uni_gam_100_2.predict(0.25)\n",
    "green_l1 = uni_gam_100_2.predict(0.35)\n",
    "green_sens_low = float(green_l1 - green_l0)\n",
    "print('If NDVI goes from 0.25 to 0.35, Greenspace%_100 increases by:', green_sens_low)"
   ]
  },
  {
   "cell_type": "code",
   "execution_count": 9,
   "id": "d37ac440",
   "metadata": {},
   "outputs": [
    {
     "name": "stdout",
     "output_type": "stream",
     "text": [
      "If NDVI goes from 0.45 to 0.55, Greenspace%_100 increases by: 0.11855593693819266\n"
     ]
    }
   ],
   "source": [
    "# Change in mid NDVI values: how does Greenspace% increase, if NDVI changes from 0.45 to 0.55?\n",
    "green_m0 = uni_gam_100_2.predict(0.45)\n",
    "green_m1 = uni_gam_100_2.predict(0.55)\n",
    "green_sens_mid = float(green_m1 - green_m0)\n",
    "print('If NDVI goes from 0.45 to 0.55, Greenspace%_100 increases by:', green_sens_mid)"
   ]
  },
  {
   "cell_type": "code",
   "execution_count": 10,
   "id": "5e088ace",
   "metadata": {},
   "outputs": [
    {
     "name": "stdout",
     "output_type": "stream",
     "text": [
      "If NDVI goes from 0.65 to 0.75, Greenspace%_100 increases by: 0.03662126490859663\n"
     ]
    }
   ],
   "source": [
    "# Change in high NDVI values: how does Greenspace% increase, if NDVI changes from 0.65 to 0.75?\n",
    "green_h0 = uni_gam_100_2.predict(0.65)\n",
    "green_h1 = uni_gam_100_2.predict(0.75)\n",
    "green_sens_hig = float(green_h1 - green_h0)\n",
    "print('If NDVI goes from 0.65 to 0.75, Greenspace%_100 increases by:', green_sens_hig)"
   ]
  },
  {
   "cell_type": "markdown",
   "id": "b6c6462a",
   "metadata": {},
   "source": [
    "### 1.3. Model 3: tree canopy ~ linear(NDVI)"
   ]
  },
  {
   "cell_type": "code",
   "execution_count": 11,
   "id": "c50b675d",
   "metadata": {},
   "outputs": [],
   "source": [
    "# NDVI_100 as the predictor\n",
    "df = pd.DataFrame(gdf_100, columns=['NDVI_100'])\n",
    "\n",
    "# Canopy%_100 as the target\n",
    "target = pd.DataFrame(gdf_100, columns=['Canopy%_100'])\n",
    "\n",
    "# define X and y\n",
    "X = df\n",
    "y = target['Canopy%_100']\n",
    "\n",
    "# split independent and dependent variables into training and test data\n",
    "X_train, X_test, y_train, y_test = train_test_split(X, y, test_size=0.2, random_state=0)\n",
    "\n",
    "# fit the linear model\n",
    "lm_100 = linear_model.LinearRegression()\n",
    "model_100 = lm_100.fit(X_train,y_train)"
   ]
  },
  {
   "cell_type": "code",
   "execution_count": 12,
   "id": "470329b3",
   "metadata": {},
   "outputs": [
    {
     "name": "stderr",
     "output_type": "stream",
     "text": [
      "100% (11 of 11) |########################| Elapsed Time: 0:00:00 Time:  0:00:00\n"
     ]
    },
    {
     "name": "stdout",
     "output_type": "stream",
     "text": [
      "LinearGAM                                                                                                 \n",
      "=============================================== ==========================================================\n",
      "Distribution:                        NormalDist Effective DoF:                                      1.9948\n",
      "Link Function:                     IdentityLink Log Likelihood:                                -66029.3274\n",
      "Number of Samples:                         4749 AIC:                                           132064.6444\n",
      "                                                AICc:                                          132064.6495\n",
      "                                                GCV:                                                0.0303\n",
      "                                                Scale:                                              0.0303\n",
      "                                                Pseudo R-Squared:                                   0.0508\n",
      "==========================================================================================================\n",
      "Feature Function                  Lambda               Rank         EDoF         P > x        Sig. Code   \n",
      "================================= ==================== ============ ============ ============ ============\n",
      "l(0)                              [0.6]                1            1.0          1.11e-16     ***         \n",
      "intercept                                              1            1.0          1.11e-16     ***         \n",
      "==========================================================================================================\n",
      "Significance codes:  0 '***' 0.001 '**' 0.01 '*' 0.05 '.' 0.1 ' ' 1\n",
      "\n",
      "WARNING: Fitting splines and a linear function to a feature introduces a model identifiability problem\n",
      "         which can cause p-values to appear significant when they are not.\n",
      "\n",
      "WARNING: p-values calculated in this manner behave correctly for un-penalized models or models with\n",
      "         known smoothing parameters, but when smoothing parameters have been estimated, the p-values\n",
      "         are typically lower than they should be, meaning that the tests reject the null too readily.\n"
     ]
    },
    {
     "name": "stderr",
     "output_type": "stream",
     "text": [
      "/var/folders/6g/kgz5rml118s6lqw25w5sv5mr0000gn/T/ipykernel_1241/2799447770.py:6: UserWarning: KNOWN BUG: p-values computed in this summary are likely much smaller than they should be. \n",
      " \n",
      "Please do not make inferences based on these values! \n",
      "\n",
      "Collaborate on a solution, and stay up to date at: \n",
      "github.com/dswah/pyGAM/issues/163 \n",
      "\n",
      "  uni_gam_100_3.summary()\n"
     ]
    }
   ],
   "source": [
    "# Model 3\n",
    "warnings.filterwarnings(\"ignore\", category=RuntimeWarning)\n",
    "uni_gam_100_3 = LinearGAM(l(0)).fit(X_train, y_train)\n",
    "\n",
    "uni_gam_100_3.gridsearch(X_train, y_train)\n",
    "uni_gam_100_3.summary()"
   ]
  },
  {
   "cell_type": "markdown",
   "id": "6fe9f392",
   "metadata": {},
   "source": [
    "### 1.4. Model 4: tree canopy ~ spline(NDVI)"
   ]
  },
  {
   "cell_type": "code",
   "execution_count": 13,
   "id": "cc241b41",
   "metadata": {},
   "outputs": [
    {
     "name": "stderr",
     "output_type": "stream",
     "text": [
      "100% (11 of 11) |########################| Elapsed Time: 0:00:00 Time:  0:00:00\n"
     ]
    },
    {
     "name": "stdout",
     "output_type": "stream",
     "text": [
      "LinearGAM                                                                                                 \n",
      "=============================================== ==========================================================\n",
      "Distribution:                        NormalDist Effective DoF:                                     12.6008\n",
      "Link Function:                     IdentityLink Log Likelihood:                                -69592.9031\n",
      "Number of Samples:                         4749 AIC:                                           139213.0076\n",
      "                                                AICc:                                          139213.0915\n",
      "                                                GCV:                                                 0.029\n",
      "                                                Scale:                                              0.0289\n",
      "                                                Pseudo R-Squared:                                   0.0988\n",
      "==========================================================================================================\n",
      "Feature Function                  Lambda               Rank         EDoF         P > x        Sig. Code   \n",
      "================================= ==================== ============ ============ ============ ============\n",
      "s(0)                              [3.9811]             20           12.6         1.11e-16     ***         \n",
      "intercept                                              1            0.0          1.11e-16     ***         \n",
      "==========================================================================================================\n",
      "Significance codes:  0 '***' 0.001 '**' 0.01 '*' 0.05 '.' 0.1 ' ' 1\n",
      "\n",
      "WARNING: Fitting splines and a linear function to a feature introduces a model identifiability problem\n",
      "         which can cause p-values to appear significant when they are not.\n",
      "\n",
      "WARNING: p-values calculated in this manner behave correctly for un-penalized models or models with\n",
      "         known smoothing parameters, but when smoothing parameters have been estimated, the p-values\n",
      "         are typically lower than they should be, meaning that the tests reject the null too readily.\n"
     ]
    },
    {
     "name": "stderr",
     "output_type": "stream",
     "text": [
      "/var/folders/6g/kgz5rml118s6lqw25w5sv5mr0000gn/T/ipykernel_1241/3283584014.py:6: UserWarning: KNOWN BUG: p-values computed in this summary are likely much smaller than they should be. \n",
      " \n",
      "Please do not make inferences based on these values! \n",
      "\n",
      "Collaborate on a solution, and stay up to date at: \n",
      "github.com/dswah/pyGAM/issues/163 \n",
      "\n",
      "  uni_gam_100_4.summary()\n"
     ]
    }
   ],
   "source": [
    "# Model 4\n",
    "warnings.filterwarnings(\"ignore\", category=RuntimeWarning)\n",
    "uni_gam_100_4 = LinearGAM(s(0)).fit(X_train, y_train)\n",
    "\n",
    "uni_gam_100_4.gridsearch(X_train, y_train)\n",
    "uni_gam_100_4.summary()"
   ]
  },
  {
   "cell_type": "code",
   "execution_count": 120,
   "id": "88ac8883",
   "metadata": {},
   "outputs": [
    {
     "data": {
      "image/png": "[encoded data removed]",
      "text/plain": [
       "<Figure size 432x288 with 1 Axes>"
      ]
     },
     "metadata": {
      "needs_background": "light"
     },
     "output_type": "display_data"
    }
   ],
   "source": [
    "# plotting best canopy_100 model\n",
    "for i, term in enumerate(uni_gam_100_4.terms):\n",
    "    if term.isintercept:\n",
    "        continue\n",
    "\n",
    "    XX = uni_gam_100_4.generate_X_grid(term=i)\n",
    "    pdep, confi = uni_gam_100_4.partial_dependence(term=i, X=XX, width=0.95)\n",
    "\n",
    "    plt.figure()\n",
    "    plt.plot(XX[:, term.feature], pdep)\n",
    "    plt.hlines(y=0, xmin=0, xmax=1, linewidth=1, color='black', linestyle='--')\n",
    "    plt.plot(XX[:, term.feature], confi, c='r', ls='--')\n",
    "    ax = plt.gca()\n",
    "    ax.set_ylim([-0.35, 0.5])\n",
    "    # set title, xlabel and ylabel\n",
    "    plt.title('Sensitivity of Tree canopy to NDVI\\nfor buffer zones of 100 m', fontsize=18)\n",
    "    plt.xlabel('NDVI', fontsize=18)\n",
    "    plt.ylabel('Change relative to mean\\nTree canopy', fontsize=18)\n",
    "    # save the figure\n",
    "    plt.savefig('thesis_project/visualizations/modelling/univariate/gam_canopy_100_best_plot_2.png', dpi=300, bbox_inches='tight')\n",
    "    im.open('thesis_project/visualizations/modelling/univariate/gam_canopy_100_best_plot_2.png').save('thesis_project/visualizations/modelling/univariate/gam_canopy_100_best_plot_2.bmp')\n",
    "    plt.show()"
   ]
  },
  {
   "cell_type": "code",
   "execution_count": 15,
   "id": "b1a37d70",
   "metadata": {},
   "outputs": [
    {
     "name": "stdout",
     "output_type": "stream",
     "text": [
      "If NDVI goes from 0.25 to 0.35, Canopy%_100 increases by: 0.04339575021476738\n"
     ]
    }
   ],
   "source": [
    "# Change in low NDVI values: how does canopy% increase, if NDVI changes from 0.25 to 0.35?\n",
    "canopy_l0 = uni_gam_100_4.predict(0.25)\n",
    "canopy_l1 = uni_gam_100_4.predict(0.35)\n",
    "canopy_sens_low = float(canopy_l1 - canopy_l0)\n",
    "print('If NDVI goes from 0.25 to 0.35, Canopy%_100 increases by:', canopy_sens_low)"
   ]
  },
  {
   "cell_type": "code",
   "execution_count": 16,
   "id": "bab50cf1",
   "metadata": {},
   "outputs": [
    {
     "name": "stdout",
     "output_type": "stream",
     "text": [
      "If NDVI goes from 0.45 to 0.55, Canopy%_100 increases by: 0.039407638978838255\n"
     ]
    }
   ],
   "source": [
    "# Change in mid NDVI values: how does canopy% increase, if NDVI changes from 0.45 to 0.55?\n",
    "canopy_m0 = uni_gam_100_4.predict(0.45)\n",
    "canopy_m1 = uni_gam_100_4.predict(0.55)\n",
    "canopy_sens_mid = float(canopy_m1 - canopy_m0)\n",
    "print('If NDVI goes from 0.45 to 0.55, Canopy%_100 increases by:', canopy_sens_mid)"
   ]
  },
  {
   "cell_type": "code",
   "execution_count": 17,
   "id": "bda7350c",
   "metadata": {},
   "outputs": [
    {
     "name": "stdout",
     "output_type": "stream",
     "text": [
      "If NDVI goes from 0.65 to 0.75, Canopy%_100 increases by: -0.20044354365736186\n"
     ]
    }
   ],
   "source": [
    "# Change in high NDVI values: how does canopy% increase, if NDVI changes from 0.65 to 0.75?\n",
    "canopy_h0 = uni_gam_100_4.predict(0.65)\n",
    "canopy_h1 = uni_gam_100_4.predict(0.75)\n",
    "canopy_sens_hig = float(canopy_h1 - canopy_h0)\n",
    "print('If NDVI goes from 0.65 to 0.75, Canopy%_100 increases by:', canopy_sens_hig)"
   ]
  },
  {
   "cell_type": "markdown",
   "id": "775ff828",
   "metadata": {},
   "source": [
    "### 1.5. Model 5: forbs and shrubs ~ linear(NDVI)"
   ]
  },
  {
   "cell_type": "code",
   "execution_count": 18,
   "id": "4ce18abb",
   "metadata": {},
   "outputs": [],
   "source": [
    "# data/predictors as the NDVI_100\n",
    "df_100 = pd.DataFrame(gdf_100, columns=['NDVI_100'])\n",
    "\n",
    "# target as Shrubs%_100\n",
    "target_100 = pd.DataFrame(gdf_100, columns=['Shrubs%_100'])\n",
    "\n",
    "# define X and y\n",
    "X = df_100\n",
    "y = target_100['Shrubs%_100']\n",
    "\n",
    "# split independent and dependent variables into training and test data\n",
    "X_train, X_test, y_train, y_test = train_test_split(X, y, test_size=0.2, random_state=0)\n",
    "\n",
    "# fit the linear model\n",
    "lm_100 = linear_model.LinearRegression()\n",
    "model_100 = lm_100.fit(X_train,y_train)"
   ]
  },
  {
   "cell_type": "code",
   "execution_count": 19,
   "id": "812b1302",
   "metadata": {},
   "outputs": [
    {
     "name": "stderr",
     "output_type": "stream",
     "text": [
      "100% (11 of 11) |########################| Elapsed Time: 0:00:00 Time:  0:00:00\n"
     ]
    },
    {
     "name": "stdout",
     "output_type": "stream",
     "text": [
      "LinearGAM                                                                                                 \n",
      "=============================================== ==========================================================\n",
      "Distribution:                        NormalDist Effective DoF:                                      1.9978\n",
      "Link Function:                     IdentityLink Log Likelihood:                                -26872.0266\n",
      "Number of Samples:                         4749 AIC:                                            53750.0489\n",
      "                                                AICc:                                           53750.0539\n",
      "                                                GCV:                                                0.0672\n",
      "                                                Scale:                                              0.0672\n",
      "                                                Pseudo R-Squared:                                   0.1617\n",
      "==========================================================================================================\n",
      "Feature Function                  Lambda               Rank         EDoF         P > x        Sig. Code   \n",
      "================================= ==================== ============ ============ ============ ============\n",
      "l(0)                              [0.2512]             1            1.0          1.11e-16     ***         \n",
      "intercept                                              1            1.0          8.41e-01                 \n",
      "==========================================================================================================\n",
      "Significance codes:  0 '***' 0.001 '**' 0.01 '*' 0.05 '.' 0.1 ' ' 1\n",
      "\n",
      "WARNING: Fitting splines and a linear function to a feature introduces a model identifiability problem\n",
      "         which can cause p-values to appear significant when they are not.\n",
      "\n",
      "WARNING: p-values calculated in this manner behave correctly for un-penalized models or models with\n",
      "         known smoothing parameters, but when smoothing parameters have been estimated, the p-values\n",
      "         are typically lower than they should be, meaning that the tests reject the null too readily.\n"
     ]
    },
    {
     "name": "stderr",
     "output_type": "stream",
     "text": [
      "/var/folders/6g/kgz5rml118s6lqw25w5sv5mr0000gn/T/ipykernel_1241/2907954286.py:6: UserWarning: KNOWN BUG: p-values computed in this summary are likely much smaller than they should be. \n",
      " \n",
      "Please do not make inferences based on these values! \n",
      "\n",
      "Collaborate on a solution, and stay up to date at: \n",
      "github.com/dswah/pyGAM/issues/163 \n",
      "\n",
      "  uni_gam_100_5.summary()\n"
     ]
    }
   ],
   "source": [
    "# Model 5\n",
    "warnings.filterwarnings(\"ignore\", category=RuntimeWarning)\n",
    "uni_gam_100_5 = LinearGAM(l(0)).fit(X_train, y_train)\n",
    "\n",
    "uni_gam_100_5.gridsearch(X_train, y_train)\n",
    "uni_gam_100_5.summary()"
   ]
  },
  {
   "cell_type": "markdown",
   "id": "695353ab",
   "metadata": {},
   "source": [
    "### 1.6. Model 6: forbs and shrubs ~ spline(NDVI)"
   ]
  },
  {
   "cell_type": "code",
   "execution_count": 20,
   "id": "dcb9579c",
   "metadata": {},
   "outputs": [
    {
     "name": "stderr",
     "output_type": "stream",
     "text": [
      "100% (11 of 11) |########################| Elapsed Time: 0:00:00 Time:  0:00:00\n"
     ]
    },
    {
     "name": "stdout",
     "output_type": "stream",
     "text": [
      "LinearGAM                                                                                                 \n",
      "=============================================== ==========================================================\n",
      "Distribution:                        NormalDist Effective DoF:                                      4.6163\n",
      "Link Function:                     IdentityLink Log Likelihood:                                -27514.9148\n",
      "Number of Samples:                         4749 AIC:                                            55041.0622\n",
      "                                                AICc:                                           55041.0779\n",
      "                                                GCV:                                                0.0659\n",
      "                                                Scale:                                              0.0658\n",
      "                                                Pseudo R-Squared:                                   0.1799\n",
      "==========================================================================================================\n",
      "Feature Function                  Lambda               Rank         EDoF         P > x        Sig. Code   \n",
      "================================= ==================== ============ ============ ============ ============\n",
      "s(0)                              [1000.]              20           4.6          1.11e-16     ***         \n",
      "intercept                                              1            0.0          1.11e-16     ***         \n",
      "==========================================================================================================\n",
      "Significance codes:  0 '***' 0.001 '**' 0.01 '*' 0.05 '.' 0.1 ' ' 1\n",
      "\n",
      "WARNING: Fitting splines and a linear function to a feature introduces a model identifiability problem\n",
      "         which can cause p-values to appear significant when they are not.\n",
      "\n",
      "WARNING: p-values calculated in this manner behave correctly for un-penalized models or models with\n",
      "         known smoothing parameters, but when smoothing parameters have been estimated, the p-values\n",
      "         are typically lower than they should be, meaning that the tests reject the null too readily.\n"
     ]
    },
    {
     "name": "stderr",
     "output_type": "stream",
     "text": [
      "/var/folders/6g/kgz5rml118s6lqw25w5sv5mr0000gn/T/ipykernel_1241/201407906.py:6: UserWarning: KNOWN BUG: p-values computed in this summary are likely much smaller than they should be. \n",
      " \n",
      "Please do not make inferences based on these values! \n",
      "\n",
      "Collaborate on a solution, and stay up to date at: \n",
      "github.com/dswah/pyGAM/issues/163 \n",
      "\n",
      "  uni_gam_100_6.summary()\n"
     ]
    }
   ],
   "source": [
    "# Model 6\n",
    "warnings.filterwarnings(\"ignore\", category=RuntimeWarning)\n",
    "uni_gam_100_6 = LinearGAM(s(0)).fit(X_train, y_train)\n",
    "\n",
    "uni_gam_100_6.gridsearch(X_train, y_train)\n",
    "uni_gam_100_6.summary()"
   ]
  },
  {
   "cell_type": "code",
   "execution_count": 121,
   "id": "52f66618",
   "metadata": {},
   "outputs": [
    {
     "data": {
      "image/png": "[encoded data removed]",
      "text/plain": [
       "<Figure size 432x288 with 1 Axes>"
      ]
     },
     "metadata": {
      "needs_background": "light"
     },
     "output_type": "display_data"
    }
   ],
   "source": [
    "# plotting best model\n",
    "for i, term in enumerate(uni_gam_100_6.terms):\n",
    "    if term.isintercept:\n",
    "        continue\n",
    "\n",
    "    XX = uni_gam_100_6.generate_X_grid(term=i)\n",
    "    pdep, confi = uni_gam_100_6.partial_dependence(term=i, X=XX, width=0.95)\n",
    "\n",
    "    plt.figure()\n",
    "    plt.plot(XX[:, term.feature], pdep)\n",
    "    plt.hlines(y=0, xmin=0, xmax=1, linewidth=1, color='black', linestyle='--')\n",
    "    plt.plot(XX[:, term.feature], confi, c='r', ls='--')\n",
    "    ax = plt.gca()\n",
    "    ax.set_ylim([-0.35, 0.5])\n",
    "    # set title, xlabel and ylabel\n",
    "    plt.title('Sensitivity of Shrubs density to NDVI\\nfor buffer zones of 100 m', fontsize=18)\n",
    "    plt.xlabel('NDVI', fontsize=18)\n",
    "    plt.ylabel('Change relative to mean\\nShrubs density', fontsize=18)    \n",
    "    # save the figure\n",
    "    plt.savefig('thesis_project/visualizations/modelling/univariate/gam_shrubs_100_best_plot_2.png', dpi=300, bbox_inches='tight')\n",
    "    im.open('thesis_project/visualizations/modelling/univariate/gam_shrubs_100_best_plot_2.png').save('thesis_project/visualizations/modelling/univariate/gam_shrubs_100_best_plot_2.bmp')\n",
    "    plt.show()"
   ]
  },
  {
   "cell_type": "code",
   "execution_count": 22,
   "id": "1ceffedf",
   "metadata": {},
   "outputs": [
    {
     "name": "stdout",
     "output_type": "stream",
     "text": [
      "If NDVI goes from 0.25 to 0.35, Shrubs%_100 increases by: 0.10791713301552913\n"
     ]
    }
   ],
   "source": [
    "# Change in low NDVI values: how does Shrubs% increase, if NDVI changes from 0.25 to 0.35?\n",
    "shrubs_l0 = uni_gam_100_6.predict(0.25)\n",
    "shrubs_l1 = uni_gam_100_6.predict(0.35)\n",
    "shrubs_sens_low = float(shrubs_l1 - shrubs_l0)\n",
    "print('If NDVI goes from 0.25 to 0.35, Shrubs%_100 increases by:', shrubs_sens_low)"
   ]
  },
  {
   "cell_type": "code",
   "execution_count": 23,
   "id": "181798b3",
   "metadata": {},
   "outputs": [
    {
     "name": "stdout",
     "output_type": "stream",
     "text": [
      "If NDVI goes from 0.45 to 0.55, Shrubs%_100 increases by: 0.06818817268465643\n"
     ]
    }
   ],
   "source": [
    "# Change in mid NDVI values: how does Shrubs% increase, if NDVI changes from 0.45 to 0.55?\n",
    "shrubs_m0 = uni_gam_100_6.predict(0.45)\n",
    "shrubs_m1 = uni_gam_100_6.predict(0.55)\n",
    "shrubs_sens_mid = float(shrubs_m1 - shrubs_m0)\n",
    "print('If NDVI goes from 0.45 to 0.55, Shrubs%_100 increases by:', shrubs_sens_mid)"
   ]
  },
  {
   "cell_type": "code",
   "execution_count": 24,
   "id": "3fef61f2",
   "metadata": {},
   "outputs": [
    {
     "name": "stdout",
     "output_type": "stream",
     "text": [
      "If NDVI goes from 0.65 to 0.75, Shrubs%_100 increases by: -0.005502476164997383\n"
     ]
    }
   ],
   "source": [
    "# Change in high NDVI values: how does Shrubs% increase, if NDVI changes from 0.65 to 0.75?\n",
    "shrubs_h0 = uni_gam_100_6.predict(0.65)\n",
    "shrubs_h1 = uni_gam_100_6.predict(0.75)\n",
    "shrubs_sens_hig = float(shrubs_h1 - shrubs_h0)\n",
    "print('If NDVI goes from 0.65 to 0.75, Shrubs%_100 increases by:', shrubs_sens_hig)"
   ]
  },
  {
   "cell_type": "markdown",
   "id": "7665ba8c",
   "metadata": {},
   "source": [
    "### 1.7. Model 7: grass ~ linear(NDVI)"
   ]
  },
  {
   "cell_type": "code",
   "execution_count": 25,
   "id": "7e84d41b",
   "metadata": {},
   "outputs": [],
   "source": [
    "# NDVI_100 as the predictor\n",
    "df = pd.DataFrame(gdf_100, columns=['NDVI_100'])\n",
    "\n",
    "# Grass%_100 as the target\n",
    "target = pd.DataFrame(gdf_100, columns=['Grass%_100'])\n",
    "\n",
    "# define X and y\n",
    "X = df\n",
    "y = target['Grass%_100']\n",
    "\n",
    "# split independent and dependent variables into training and test data\n",
    "X_train, X_test, y_train, y_test = train_test_split(X, y, test_size=0.2, random_state=0)\n",
    "\n",
    "# fit the linear model\n",
    "lm_100 = linear_model.LinearRegression()\n",
    "model_100 = lm_100.fit(X_train,y_train)"
   ]
  },
  {
   "cell_type": "code",
   "execution_count": 26,
   "id": "f327ba9f",
   "metadata": {},
   "outputs": [
    {
     "name": "stderr",
     "output_type": "stream",
     "text": [
      "100% (11 of 11) |########################| Elapsed Time: 0:00:00 Time:  0:00:00\n"
     ]
    },
    {
     "name": "stdout",
     "output_type": "stream",
     "text": [
      "LinearGAM                                                                                                 \n",
      "=============================================== ==========================================================\n",
      "Distribution:                        NormalDist Effective DoF:                                      1.9978\n",
      "Link Function:                     IdentityLink Log Likelihood:                                -81601.5616\n",
      "Number of Samples:                         4749 AIC:                                           163209.1189\n",
      "                                                AICc:                                          163209.1239\n",
      "                                                GCV:                                                0.0251\n",
      "                                                Scale:                                              0.0251\n",
      "                                                Pseudo R-Squared:                                   0.1734\n",
      "==========================================================================================================\n",
      "Feature Function                  Lambda               Rank         EDoF         P > x        Sig. Code   \n",
      "================================= ==================== ============ ============ ============ ============\n",
      "l(0)                              [0.2512]             1            1.0          1.11e-16     ***         \n",
      "intercept                                              1            1.0          9.54e-14     ***         \n",
      "==========================================================================================================\n",
      "Significance codes:  0 '***' 0.001 '**' 0.01 '*' 0.05 '.' 0.1 ' ' 1\n",
      "\n",
      "WARNING: Fitting splines and a linear function to a feature introduces a model identifiability problem\n",
      "         which can cause p-values to appear significant when they are not.\n",
      "\n",
      "WARNING: p-values calculated in this manner behave correctly for un-penalized models or models with\n",
      "         known smoothing parameters, but when smoothing parameters have been estimated, the p-values\n",
      "         are typically lower than they should be, meaning that the tests reject the null too readily.\n"
     ]
    },
    {
     "name": "stderr",
     "output_type": "stream",
     "text": [
      "/var/folders/6g/kgz5rml118s6lqw25w5sv5mr0000gn/T/ipykernel_1241/822825484.py:6: UserWarning: KNOWN BUG: p-values computed in this summary are likely much smaller than they should be. \n",
      " \n",
      "Please do not make inferences based on these values! \n",
      "\n",
      "Collaborate on a solution, and stay up to date at: \n",
      "github.com/dswah/pyGAM/issues/163 \n",
      "\n",
      "  uni_gam_100_7.summary()\n"
     ]
    }
   ],
   "source": [
    "# Model 7\n",
    "warnings.filterwarnings(\"ignore\", category=RuntimeWarning)\n",
    "uni_gam_100_7 = LinearGAM(l(0)).fit(X_train, y_train)\n",
    "\n",
    "uni_gam_100_7.gridsearch(X_train, y_train)\n",
    "uni_gam_100_7.summary()"
   ]
  },
  {
   "cell_type": "markdown",
   "id": "4c00f1de",
   "metadata": {},
   "source": [
    "### 1.8. Model 8: grass ~ spline(NDVI)"
   ]
  },
  {
   "cell_type": "code",
   "execution_count": 27,
   "id": "7e9cf051",
   "metadata": {},
   "outputs": [
    {
     "name": "stderr",
     "output_type": "stream",
     "text": [
      "100% (11 of 11) |########################| Elapsed Time: 0:00:00 Time:  0:00:00\n"
     ]
    },
    {
     "name": "stdout",
     "output_type": "stream",
     "text": [
      "LinearGAM                                                                                                 \n",
      "=============================================== ==========================================================\n",
      "Distribution:                        NormalDist Effective DoF:                                     10.1105\n",
      "Link Function:                     IdentityLink Log Likelihood:                                -85312.1923\n",
      "Number of Samples:                         4749 AIC:                                           170646.6055\n",
      "                                                AICc:                                          170646.6623\n",
      "                                                GCV:                                                0.0241\n",
      "                                                Scale:                                               0.024\n",
      "                                                Pseudo R-Squared:                                   0.2089\n",
      "==========================================================================================================\n",
      "Feature Function                  Lambda               Rank         EDoF         P > x        Sig. Code   \n",
      "================================= ==================== ============ ============ ============ ============\n",
      "s(0)                              [15.8489]            20           10.1         1.11e-16     ***         \n",
      "intercept                                              1            0.0          1.11e-16     ***         \n",
      "==========================================================================================================\n",
      "Significance codes:  0 '***' 0.001 '**' 0.01 '*' 0.05 '.' 0.1 ' ' 1\n",
      "\n",
      "WARNING: Fitting splines and a linear function to a feature introduces a model identifiability problem\n",
      "         which can cause p-values to appear significant when they are not.\n",
      "\n",
      "WARNING: p-values calculated in this manner behave correctly for un-penalized models or models with\n",
      "         known smoothing parameters, but when smoothing parameters have been estimated, the p-values\n",
      "         are typically lower than they should be, meaning that the tests reject the null too readily.\n"
     ]
    },
    {
     "name": "stderr",
     "output_type": "stream",
     "text": [
      "/var/folders/6g/kgz5rml118s6lqw25w5sv5mr0000gn/T/ipykernel_1241/227079347.py:6: UserWarning: KNOWN BUG: p-values computed in this summary are likely much smaller than they should be. \n",
      " \n",
      "Please do not make inferences based on these values! \n",
      "\n",
      "Collaborate on a solution, and stay up to date at: \n",
      "github.com/dswah/pyGAM/issues/163 \n",
      "\n",
      "  uni_gam_100_8.summary()\n"
     ]
    }
   ],
   "source": [
    "# Model 8\n",
    "warnings.filterwarnings(\"ignore\", category=RuntimeWarning)\n",
    "uni_gam_100_8 = LinearGAM(s(0)).fit(X_train, y_train)\n",
    "\n",
    "uni_gam_100_8.gridsearch(X_train, y_train)\n",
    "uni_gam_100_8.summary()"
   ]
  },
  {
   "cell_type": "code",
   "execution_count": 124,
   "id": "4007f1a3",
   "metadata": {},
   "outputs": [
    {
     "data": {
      "image/png": "[encoded data removed]",
      "text/plain": [
       "<Figure size 432x288 with 1 Axes>"
      ]
     },
     "metadata": {
      "needs_background": "light"
     },
     "output_type": "display_data"
    }
   ],
   "source": [
    "# plotting best grass_100 model\n",
    "for i, term in enumerate(uni_gam_100_8.terms):\n",
    "    if term.isintercept:\n",
    "        continue\n",
    "\n",
    "    XX = uni_gam_100_8.generate_X_grid(term=i)\n",
    "    pdep, confi = uni_gam_100_8.partial_dependence(term=i, X=XX, width=0.95)\n",
    "\n",
    "    plt.figure()\n",
    "    plt.plot(XX[:, term.feature], pdep)\n",
    "    plt.hlines(y=0, xmin=0, xmax=1, linewidth=1, color='black', linestyle='--')\n",
    "    plt.plot(XX[:, term.feature], confi, c='r', ls='--')\n",
    "    ax = plt.gca()\n",
    "    ax.set_ylim([-0.35, 0.5])\n",
    "    # set title, xlabel and ylabel\n",
    "    plt.title('Sensitivity of Grass density to NDVI\\nfor buffer zones of 100 m', fontsize=18)\n",
    "    plt.xlabel('NDVI', fontsize=18)\n",
    "    plt.ylabel('Change relative to mean\\nGrass density', fontsize=18)\n",
    "    # save the figure\n",
    "    plt.savefig('thesis_project/visualizations/modelling/univariate/gam_grass_100_best_plot_2.png', dpi=300, bbox_inches='tight')\n",
    "    im.open('thesis_project/visualizations/modelling/univariate/gam_grass_100_best_plot_2.png').save('thesis_project/visualizations/modelling/univariate/gam_grass_100_best_plot_2.bmp')\n",
    "    plt.show()"
   ]
  },
  {
   "cell_type": "code",
   "execution_count": 29,
   "id": "4aff0fc9",
   "metadata": {},
   "outputs": [
    {
     "name": "stdout",
     "output_type": "stream",
     "text": [
      "If NDVI goes from 0.25 to 0.35, Grass%_100 increases by: 0.048980378319414195\n"
     ]
    }
   ],
   "source": [
    "# Change in low NDVI values: how does Grass% increase, if NDVI changes from 0.25 to 0.35?\n",
    "grass_l0 = uni_gam_100_8.predict(0.25)\n",
    "grass_l1 = uni_gam_100_8.predict(0.35)\n",
    "grass_sens_low = float(grass_l1 - grass_l0)\n",
    "print('If NDVI goes from 0.25 to 0.35, Grass%_100 increases by:', grass_sens_low)"
   ]
  },
  {
   "cell_type": "code",
   "execution_count": 30,
   "id": "142ad7ec",
   "metadata": {},
   "outputs": [
    {
     "name": "stdout",
     "output_type": "stream",
     "text": [
      "If NDVI goes from 0.45 to 0.55, Grass%_100 increases by: 0.03418918013426994\n"
     ]
    }
   ],
   "source": [
    "# Change in mid NDVI values: how does Grass% increase, if NDVI changes from 0.45 to 0.55?\n",
    "grass_m0 = uni_gam_100_8.predict(0.45)\n",
    "grass_m1 = uni_gam_100_8.predict(0.55)\n",
    "grass_sens_mid = float(grass_m1 - grass_m0)\n",
    "print('If NDVI goes from 0.45 to 0.55, Grass%_100 increases by:', grass_sens_mid)"
   ]
  },
  {
   "cell_type": "code",
   "execution_count": 31,
   "id": "72e407ef",
   "metadata": {},
   "outputs": [
    {
     "name": "stdout",
     "output_type": "stream",
     "text": [
      "If NDVI goes from 0.65 to 0.75, Grass%_100 increases by: 0.23356955919102446\n"
     ]
    }
   ],
   "source": [
    "# Change in high NDVI values: how does Grass% increase, if NDVI changes from 0.65 to 0.75?\n",
    "grass_h0 = uni_gam_100_8.predict(0.65)\n",
    "grass_h1 = uni_gam_100_8.predict(0.75)\n",
    "grass_sens_hig = float(grass_h1 - grass_h0)\n",
    "print('If NDVI goes from 0.65 to 0.75, Grass%_100 increases by:', grass_sens_hig)"
   ]
  },
  {
   "cell_type": "markdown",
   "id": "3f18a166",
   "metadata": {},
   "source": [
    "## 2. Modeling vegetation densities for buffer distances of 300 meters"
   ]
  },
  {
   "cell_type": "code",
   "execution_count": 32,
   "id": "6a719d9f",
   "metadata": {},
   "outputs": [
    {
     "data": {
      "text/html": [
       "<div>\n",
       "<style scoped>\n",
       "    .dataframe tbody tr th:only-of-type {\n",
       "        vertical-align: middle;\n",
       "    }\n",
       "\n",
       "    .dataframe tbody tr th {\n",
       "        vertical-align: top;\n",
       "    }\n",
       "\n",
       "    .dataframe thead th {\n",
       "        text-align: right;\n",
       "    }\n",
       "</style>\n",
       "<table border=\"1\" class=\"dataframe\">\n",
       "  <thead>\n",
       "    <tr style=\"text-align: right;\">\n",
       "      <th></th>\n",
       "      <th>NDVI_300</th>\n",
       "      <th>Greenspace%_300</th>\n",
       "      <th>Canopy%_300</th>\n",
       "      <th>Grass%_300</th>\n",
       "      <th>Shrubs%_300</th>\n",
       "      <th>geometry</th>\n",
       "    </tr>\n",
       "  </thead>\n",
       "  <tbody>\n",
       "    <tr>\n",
       "      <th>0</th>\n",
       "      <td>0.280478</td>\n",
       "      <td>0.326412</td>\n",
       "      <td>0.145660</td>\n",
       "      <td>0.080623</td>\n",
       "      <td>0.097554</td>\n",
       "      <td>POINT (387760.076 393972.512)</td>\n",
       "    </tr>\n",
       "    <tr>\n",
       "      <th>1</th>\n",
       "      <td>0.503846</td>\n",
       "      <td>0.847073</td>\n",
       "      <td>0.062886</td>\n",
       "      <td>0.391561</td>\n",
       "      <td>0.387530</td>\n",
       "      <td>POINT (361558.182 408801.964)</td>\n",
       "    </tr>\n",
       "    <tr>\n",
       "      <th>2</th>\n",
       "      <td>0.589265</td>\n",
       "      <td>0.831569</td>\n",
       "      <td>0.104542</td>\n",
       "      <td>0.243752</td>\n",
       "      <td>0.480785</td>\n",
       "      <td>POINT (391126.815 417220.287)</td>\n",
       "    </tr>\n",
       "    <tr>\n",
       "      <th>3</th>\n",
       "      <td>0.493672</td>\n",
       "      <td>0.796394</td>\n",
       "      <td>0.127654</td>\n",
       "      <td>0.150497</td>\n",
       "      <td>0.513034</td>\n",
       "      <td>POINT (361327.964 411390.899)</td>\n",
       "    </tr>\n",
       "    <tr>\n",
       "      <th>4</th>\n",
       "      <td>0.343043</td>\n",
       "      <td>0.610614</td>\n",
       "      <td>0.275732</td>\n",
       "      <td>0.147272</td>\n",
       "      <td>0.190540</td>\n",
       "      <td>POINT (377099.280 400575.430)</td>\n",
       "    </tr>\n",
       "  </tbody>\n",
       "</table>\n",
       "</div>"
      ],
      "text/plain": [
       "   NDVI_300  Greenspace%_300  Canopy%_300  Grass%_300  Shrubs%_300  \\\n",
       "0  0.280478         0.326412     0.145660    0.080623     0.097554   \n",
       "1  0.503846         0.847073     0.062886    0.391561     0.387530   \n",
       "2  0.589265         0.831569     0.104542    0.243752     0.480785   \n",
       "3  0.493672         0.796394     0.127654    0.150497     0.513034   \n",
       "4  0.343043         0.610614     0.275732    0.147272     0.190540   \n",
       "\n",
       "                        geometry  \n",
       "0  POINT (387760.076 393972.512)  \n",
       "1  POINT (361558.182 408801.964)  \n",
       "2  POINT (391126.815 417220.287)  \n",
       "3  POINT (361327.964 411390.899)  \n",
       "4  POINT (377099.280 400575.430)  "
      ]
     },
     "execution_count": 32,
     "metadata": {},
     "output_type": "execute_result"
    }
   ],
   "source": [
    "# load greenspace metrics at 300m geodataframe\n",
    "gdf_300 = gpd.read_file(\"thesis_project/output/dataframes/greenspace_metrics_300_df_2.json\")\n",
    "gdf_300.head()"
   ]
  },
  {
   "cell_type": "markdown",
   "id": "ea624177",
   "metadata": {},
   "source": [
    "### 2.1. Model 1: greenspace ~ linear(NDVI)"
   ]
  },
  {
   "cell_type": "code",
   "execution_count": 33,
   "id": "881ff4d0",
   "metadata": {},
   "outputs": [],
   "source": [
    "# data/predictors as the NDVI_300\n",
    "df_300 = pd.DataFrame(gdf_300, columns=['NDVI_300'])\n",
    "\n",
    "# target as Greenspace%_300\n",
    "target_300 = pd.DataFrame(gdf_300, columns=['Greenspace%_300'])\n",
    "\n",
    "# define X and Y\n",
    "X = df_300\n",
    "y = target_300['Greenspace%_300']\n",
    "\n",
    "# split independent and dependent variables into training and test data\n",
    "X_train, X_test, y_train, y_test = train_test_split(X, y, test_size=0.2, random_state=0)"
   ]
  },
  {
   "cell_type": "code",
   "execution_count": 34,
   "id": "3ab33a0f",
   "metadata": {},
   "outputs": [
    {
     "name": "stderr",
     "output_type": "stream",
     "text": [
      "100% (11 of 11) |########################| Elapsed Time: 0:00:00 Time:  0:00:00\n"
     ]
    },
    {
     "name": "stdout",
     "output_type": "stream",
     "text": [
      "LinearGAM                                                                                                 \n",
      "=============================================== ==========================================================\n",
      "Distribution:                        NormalDist Effective DoF:                                      1.9998\n",
      "Link Function:                     IdentityLink Log Likelihood:                               -118115.4594\n",
      "Number of Samples:                         4656 AIC:                                           236236.9183\n",
      "                                                AICc:                                          236236.9235\n",
      "                                                GCV:                                                0.0176\n",
      "                                                Scale:                                              0.0175\n",
      "                                                Pseudo R-Squared:                                   0.6762\n",
      "==========================================================================================================\n",
      "Feature Function                  Lambda               Rank         EDoF         P > x        Sig. Code   \n",
      "================================= ==================== ============ ============ ============ ============\n",
      "l(0)                              [0.0158]             1            1.0          1.11e-16     ***         \n",
      "intercept                                              1            1.0          9.78e-03     **          \n",
      "==========================================================================================================\n",
      "Significance codes:  0 '***' 0.001 '**' 0.01 '*' 0.05 '.' 0.1 ' ' 1\n",
      "\n",
      "WARNING: Fitting splines and a linear function to a feature introduces a model identifiability problem\n",
      "         which can cause p-values to appear significant when they are not.\n",
      "\n",
      "WARNING: p-values calculated in this manner behave correctly for un-penalized models or models with\n",
      "         known smoothing parameters, but when smoothing parameters have been estimated, the p-values\n",
      "         are typically lower than they should be, meaning that the tests reject the null too readily.\n"
     ]
    },
    {
     "name": "stderr",
     "output_type": "stream",
     "text": [
      "/var/folders/6g/kgz5rml118s6lqw25w5sv5mr0000gn/T/ipykernel_1241/1216624643.py:6: UserWarning: KNOWN BUG: p-values computed in this summary are likely much smaller than they should be. \n",
      " \n",
      "Please do not make inferences based on these values! \n",
      "\n",
      "Collaborate on a solution, and stay up to date at: \n",
      "github.com/dswah/pyGAM/issues/163 \n",
      "\n",
      "  uni_gam_300_1.summary()\n"
     ]
    }
   ],
   "source": [
    "# Model 1\n",
    "warnings.filterwarnings(\"ignore\", category=RuntimeWarning)\n",
    "uni_gam_300_1 = LinearGAM(l(0)).fit(X_train, y_train)\n",
    "\n",
    "uni_gam_300_1.gridsearch(X_train, y_train)\n",
    "uni_gam_300_1.summary()"
   ]
  },
  {
   "cell_type": "markdown",
   "id": "cd0460b7",
   "metadata": {},
   "source": [
    "### 2.2. Model 2: greenspace ~ spline(NDVI)"
   ]
  },
  {
   "cell_type": "code",
   "execution_count": 35,
   "id": "abba7ac1",
   "metadata": {},
   "outputs": [
    {
     "name": "stderr",
     "output_type": "stream",
     "text": [
      "100% (11 of 11) |########################| Elapsed Time: 0:00:00 Time:  0:00:00\n"
     ]
    },
    {
     "name": "stdout",
     "output_type": "stream",
     "text": [
      "LinearGAM                                                                                                 \n",
      "=============================================== ==========================================================\n",
      "Distribution:                        NormalDist Effective DoF:                                      7.6496\n",
      "Link Function:                     IdentityLink Log Likelihood:                               -128043.4791\n",
      "Number of Samples:                         4656 AIC:                                           256104.2573\n",
      "                                                AICc:                                          256104.2933\n",
      "                                                GCV:                                                0.0163\n",
      "                                                Scale:                                              0.0163\n",
      "                                                Pseudo R-Squared:                                   0.7002\n",
      "==========================================================================================================\n",
      "Feature Function                  Lambda               Rank         EDoF         P > x        Sig. Code   \n",
      "================================= ==================== ============ ============ ============ ============\n",
      "s(0)                              [63.0957]            20           7.6          1.11e-16     ***         \n",
      "intercept                                              1            0.0          1.11e-16     ***         \n",
      "==========================================================================================================\n",
      "Significance codes:  0 '***' 0.001 '**' 0.01 '*' 0.05 '.' 0.1 ' ' 1\n",
      "\n",
      "WARNING: Fitting splines and a linear function to a feature introduces a model identifiability problem\n",
      "         which can cause p-values to appear significant when they are not.\n",
      "\n",
      "WARNING: p-values calculated in this manner behave correctly for un-penalized models or models with\n",
      "         known smoothing parameters, but when smoothing parameters have been estimated, the p-values\n",
      "         are typically lower than they should be, meaning that the tests reject the null too readily.\n"
     ]
    },
    {
     "name": "stderr",
     "output_type": "stream",
     "text": [
      "/var/folders/6g/kgz5rml118s6lqw25w5sv5mr0000gn/T/ipykernel_1241/3283538479.py:6: UserWarning: KNOWN BUG: p-values computed in this summary are likely much smaller than they should be. \n",
      " \n",
      "Please do not make inferences based on these values! \n",
      "\n",
      "Collaborate on a solution, and stay up to date at: \n",
      "github.com/dswah/pyGAM/issues/163 \n",
      "\n",
      "  uni_gam_300_2.summary()\n"
     ]
    }
   ],
   "source": [
    "# Model 2\n",
    "warnings.filterwarnings(\"ignore\", category=RuntimeWarning)\n",
    "uni_gam_300_2 = LinearGAM(s(0)).fit(X_train, y_train)\n",
    "\n",
    "uni_gam_300_2.gridsearch(X_train, y_train)\n",
    "uni_gam_300_2.summary()"
   ]
  },
  {
   "cell_type": "code",
   "execution_count": 125,
   "id": "2d00d1c0",
   "metadata": {},
   "outputs": [
    {
     "data": {
      "image/png": "[encoded data removed]",
      "text/plain": [
       "<Figure size 432x288 with 1 Axes>"
      ]
     },
     "metadata": {
      "needs_background": "light"
     },
     "output_type": "display_data"
    }
   ],
   "source": [
    "# plotting best greenspace_300 model\n",
    "for i, term in enumerate(uni_gam_300_2.terms):\n",
    "    if term.isintercept:\n",
    "        continue\n",
    "\n",
    "    XX = uni_gam_300_2.generate_X_grid(term=i)\n",
    "    pdep, confi = uni_gam_300_2.partial_dependence(term=i, X=XX, width=0.95)\n",
    "\n",
    "    plt.figure()\n",
    "    plt.plot(XX[:, term.feature], pdep)\n",
    "    plt.hlines(y=0, xmin=0, xmax=1, linewidth=1, color='black', linestyle='--')\n",
    "    plt.plot(XX[:, term.feature], confi, c='r', ls='--')\n",
    "#    ax = plt.gca()\n",
    "#    ax.set_ylim([-0.6, 0.5])\n",
    "    # set title, xlabel and ylabel\n",
    "    plt.title('Sensitivity of Greenspace to NDVI\\nfor buffer zones of 300 m', fontsize=18)\n",
    "    plt.xlabel('NDVI', fontsize=18)\n",
    "    plt.ylabel('Change relative to mean\\nGreenspace', fontsize=18)\n",
    "    # save the figure\n",
    "    plt.savefig('thesis_project/visualizations/modelling/univariate/gam_greenspace_300_best_plot_2.png', dpi=300, bbox_inches='tight')\n",
    "    im.open('thesis_project/visualizations/modelling/univariate/gam_greenspace_300_best_plot_2.png').save('thesis_project/visualizations/modelling/univariate/gam_greenspace_300_best_plot_2.bmp')\n",
    "    plt.show()"
   ]
  },
  {
   "cell_type": "code",
   "execution_count": 37,
   "id": "3daefd81",
   "metadata": {},
   "outputs": [
    {
     "name": "stdout",
     "output_type": "stream",
     "text": [
      "If NDVI goes from 0.25 to 0.35, Greenspace%_300 increases by: 0.20752370300686268\n"
     ]
    }
   ],
   "source": [
    "# Change in low NDVI values: how does Greenspace% increase, if NDVI changes from 0.25 to 0.35?\n",
    "green_l0 = uni_gam_300_2.predict(0.25)\n",
    "green_l1 = uni_gam_300_2.predict(0.35)\n",
    "green_sens_low_300 = float(green_l1 - green_l0)\n",
    "print('If NDVI goes from 0.25 to 0.35, Greenspace%_300 increases by:', green_sens_low_300)"
   ]
  },
  {
   "cell_type": "code",
   "execution_count": 38,
   "id": "99e6dfe8",
   "metadata": {},
   "outputs": [
    {
     "name": "stdout",
     "output_type": "stream",
     "text": [
      "If NDVI goes from 0.45 to 0.55, Greenspace%_300 increases by: 0.12568489903774926\n"
     ]
    }
   ],
   "source": [
    "# Change in mid NDVI values: how does Greenspace% increase, if NDVI changes from 0.45 to 0.55?\n",
    "green_m0 = uni_gam_300_2.predict(0.45)\n",
    "green_m1 = uni_gam_300_2.predict(0.55)\n",
    "green_sens_mid_300 = float(green_m1 - green_m0)\n",
    "print('If NDVI goes from 0.45 to 0.55, Greenspace%_300 increases by:', green_sens_mid_300)"
   ]
  },
  {
   "cell_type": "code",
   "execution_count": 39,
   "id": "8a3b269e",
   "metadata": {},
   "outputs": [
    {
     "name": "stdout",
     "output_type": "stream",
     "text": [
      "If NDVI goes from 0.65 to 0.75, Greenspace%_300 increases by: 0.05424541012099349\n"
     ]
    }
   ],
   "source": [
    "# Change in high NDVI values: how does Greenspace% increase, if NDVI changes from 0.65 to 0.75?\n",
    "green_h0 = uni_gam_300_2.predict(0.65)\n",
    "green_h1 = uni_gam_300_2.predict(0.75)\n",
    "green_sens_hig_300 = float(green_h1 - green_h0)\n",
    "print('If NDVI goes from 0.65 to 0.75, Greenspace%_300 increases by:', green_sens_hig_300)"
   ]
  },
  {
   "cell_type": "markdown",
   "id": "199952e1",
   "metadata": {},
   "source": [
    "### 2.3. Model 3: tree canopy ~ linear(NDVI)"
   ]
  },
  {
   "cell_type": "code",
   "execution_count": 40,
   "id": "c5a97c2a",
   "metadata": {},
   "outputs": [],
   "source": [
    "# NDVI_300 as the predictor\n",
    "df = pd.DataFrame(gdf_300, columns=['NDVI_300'])\n",
    "\n",
    "# Canopy%_300 as the target\n",
    "target = pd.DataFrame(gdf_300, columns=['Canopy%_300'])\n",
    "\n",
    "# define X and y\n",
    "X = df\n",
    "y = target['Canopy%_300']\n",
    "\n",
    "# split independent and dependent variables into training and test data\n",
    "X_train, X_test, y_train, y_test = train_test_split(X, y, test_size=0.2, random_state=0)\n",
    "\n",
    "# fit the linear model\n",
    "lm_300 = linear_model.LinearRegression()\n",
    "model_300 = lm_300.fit(X_train,y_train)"
   ]
  },
  {
   "cell_type": "code",
   "execution_count": 41,
   "id": "5482b173",
   "metadata": {},
   "outputs": [
    {
     "name": "stderr",
     "output_type": "stream",
     "text": [
      "100% (11 of 11) |########################| Elapsed Time: 0:00:00 Time:  0:00:00\n"
     ]
    },
    {
     "name": "stdout",
     "output_type": "stream",
     "text": [
      "LinearGAM                                                                                                 \n",
      "=============================================== ==========================================================\n",
      "Distribution:                        NormalDist Effective DoF:                                      1.9924\n",
      "Link Function:                     IdentityLink Log Likelihood:                               -119751.0474\n",
      "Number of Samples:                         4656 AIC:                                           239508.0794\n",
      "                                                AICc:                                          239508.0846\n",
      "                                                GCV:                                                0.0173\n",
      "                                                Scale:                                              0.0173\n",
      "                                                Pseudo R-Squared:                                   0.0403\n",
      "==========================================================================================================\n",
      "Feature Function                  Lambda               Rank         EDoF         P > x        Sig. Code   \n",
      "================================= ==================== ============ ============ ============ ============\n",
      "l(0)                              [0.6]                1            1.0          1.11e-16     ***         \n",
      "intercept                                              1            1.0          1.11e-16     ***         \n",
      "==========================================================================================================\n",
      "Significance codes:  0 '***' 0.001 '**' 0.01 '*' 0.05 '.' 0.1 ' ' 1\n",
      "\n",
      "WARNING: Fitting splines and a linear function to a feature introduces a model identifiability problem\n",
      "         which can cause p-values to appear significant when they are not.\n",
      "\n",
      "WARNING: p-values calculated in this manner behave correctly for un-penalized models or models with\n",
      "         known smoothing parameters, but when smoothing parameters have been estimated, the p-values\n",
      "         are typically lower than they should be, meaning that the tests reject the null too readily.\n"
     ]
    },
    {
     "name": "stderr",
     "output_type": "stream",
     "text": [
      "/var/folders/6g/kgz5rml118s6lqw25w5sv5mr0000gn/T/ipykernel_1241/1162806293.py:6: UserWarning: KNOWN BUG: p-values computed in this summary are likely much smaller than they should be. \n",
      " \n",
      "Please do not make inferences based on these values! \n",
      "\n",
      "Collaborate on a solution, and stay up to date at: \n",
      "github.com/dswah/pyGAM/issues/163 \n",
      "\n",
      "  uni_gam_300_3.summary()\n"
     ]
    }
   ],
   "source": [
    "# Model 3\n",
    "warnings.filterwarnings(\"ignore\", category=RuntimeWarning)\n",
    "uni_gam_300_3 = LinearGAM(l(0)).fit(X_train, y_train)\n",
    "\n",
    "uni_gam_300_3.gridsearch(X_train, y_train)\n",
    "uni_gam_300_3.summary()"
   ]
  },
  {
   "cell_type": "markdown",
   "id": "5269d0ba",
   "metadata": {},
   "source": [
    "### 2.4. Model 4: tree canopy ~ spline(NDVI)"
   ]
  },
  {
   "cell_type": "code",
   "execution_count": 42,
   "id": "a67e49b5",
   "metadata": {},
   "outputs": [
    {
     "name": "stderr",
     "output_type": "stream",
     "text": [
      "100% (11 of 11) |########################| Elapsed Time: 0:00:00 Time:  0:00:00\n"
     ]
    },
    {
     "name": "stdout",
     "output_type": "stream",
     "text": [
      "LinearGAM                                                                                                 \n",
      "=============================================== ==========================================================\n",
      "Distribution:                        NormalDist Effective DoF:                                      5.8758\n",
      "Link Function:                     IdentityLink Log Likelihood:                               -124323.8803\n",
      "Number of Samples:                         4656 AIC:                                           248661.5122\n",
      "                                                AICc:                                          248661.5355\n",
      "                                                GCV:                                                0.0168\n",
      "                                                Scale:                                              0.0167\n",
      "                                                Pseudo R-Squared:                                   0.0745\n",
      "==========================================================================================================\n",
      "Feature Function                  Lambda               Rank         EDoF         P > x        Sig. Code   \n",
      "================================= ==================== ============ ============ ============ ============\n",
      "s(0)                              [251.1886]           20           5.9          1.11e-16     ***         \n",
      "intercept                                              1            0.0          1.11e-16     ***         \n",
      "==========================================================================================================\n",
      "Significance codes:  0 '***' 0.001 '**' 0.01 '*' 0.05 '.' 0.1 ' ' 1\n",
      "\n",
      "WARNING: Fitting splines and a linear function to a feature introduces a model identifiability problem\n",
      "         which can cause p-values to appear significant when they are not.\n",
      "\n",
      "WARNING: p-values calculated in this manner behave correctly for un-penalized models or models with\n",
      "         known smoothing parameters, but when smoothing parameters have been estimated, the p-values\n",
      "         are typically lower than they should be, meaning that the tests reject the null too readily.\n"
     ]
    },
    {
     "name": "stderr",
     "output_type": "stream",
     "text": [
      "/var/folders/6g/kgz5rml118s6lqw25w5sv5mr0000gn/T/ipykernel_1241/2529495405.py:6: UserWarning: KNOWN BUG: p-values computed in this summary are likely much smaller than they should be. \n",
      " \n",
      "Please do not make inferences based on these values! \n",
      "\n",
      "Collaborate on a solution, and stay up to date at: \n",
      "github.com/dswah/pyGAM/issues/163 \n",
      "\n",
      "  uni_gam_300_4.summary()\n"
     ]
    }
   ],
   "source": [
    "# Model 4\n",
    "warnings.filterwarnings(\"ignore\", category=RuntimeWarning)\n",
    "uni_gam_300_4 = LinearGAM(s(0)).fit(X_train, y_train)\n",
    "\n",
    "uni_gam_300_4.gridsearch(X_train, y_train)\n",
    "uni_gam_300_4.summary()"
   ]
  },
  {
   "cell_type": "code",
   "execution_count": 141,
   "id": "bf29d6a4",
   "metadata": {},
   "outputs": [
    {
     "data": {
      "image/png": "[encoded data removed]",
      "text/plain": [
       "<Figure size 432x288 with 1 Axes>"
      ]
     },
     "metadata": {
      "needs_background": "light"
     },
     "output_type": "display_data"
    }
   ],
   "source": [
    "# plotting\n",
    "for i, term in enumerate(uni_gam_300_4.terms):\n",
    "    if term.isintercept:\n",
    "        continue\n",
    "\n",
    "    XX = uni_gam_300_4.generate_X_grid(term=i)\n",
    "    pdep, confi = uni_gam_300_4.partial_dependence(term=i, X=XX, width=0.95)\n",
    "\n",
    "    plt.figure()\n",
    "    plt.plot(XX[:, term.feature], pdep)\n",
    "    plt.hlines(y=0, xmin=0, xmax=1, linewidth=1, color='black', linestyle='--')\n",
    "    plt.plot(XX[:, term.feature], confi, c='r', ls='--')\n",
    "    ax = plt.gca()\n",
    "    ax.set_ylim([-0.3, 0.3])\n",
    "    # set title, xlabel and ylabel\n",
    "    plt.title('Sensitivity of Tree canopy to NDVI\\nfor buffer zones of 300 m', fontsize=18)\n",
    "    plt.xlabel('NDVI', fontsize=18)\n",
    "    plt.ylabel('Change relative to mean\\nTree canopy', fontsize=18)\n",
    "    # save the figure\n",
    "    plt.savefig('thesis_project/visualizations/modelling/univariate/gam_canopy_300_best_plot_2.png', dpi=300, bbox_inches='tight')\n",
    "    im.open('thesis_project/visualizations/modelling/univariate/gam_canopy_300_best_plot_2.png').save('thesis_project/visualizations/modelling/univariate/gam_canopy_300_best_plot_2.bmp')\n",
    "    plt.show()"
   ]
  },
  {
   "cell_type": "code",
   "execution_count": 44,
   "id": "28b9e794",
   "metadata": {},
   "outputs": [
    {
     "name": "stdout",
     "output_type": "stream",
     "text": [
      "If NDVI goes from 0.25 to 0.35, Canopy%_300 increases by: 0.038799697032896346\n"
     ]
    }
   ],
   "source": [
    "# Change in low NDVI values: how does Canopy% increase, if NDVI changes from 0.25 to 0.35?\n",
    "canopy_l0 = uni_gam_300_4.predict(0.25)\n",
    "canopy_l1 = uni_gam_300_4.predict(0.35)\n",
    "canopy_sens_low_300 = float(canopy_l1 - canopy_l0)\n",
    "print('If NDVI goes from 0.25 to 0.35, Canopy%_300 increases by:', canopy_sens_low_300)"
   ]
  },
  {
   "cell_type": "code",
   "execution_count": 45,
   "id": "a670b83a",
   "metadata": {},
   "outputs": [
    {
     "name": "stdout",
     "output_type": "stream",
     "text": [
      "If NDVI goes from 0.45 to 0.55, Canopy%_300 increases by: 0.024298503203661198\n"
     ]
    }
   ],
   "source": [
    "# Change in mid NDVI values: how does Canopy% increase, if NDVI changes from 0.45 to 0.55?\n",
    "canopy_m0 = uni_gam_300_4.predict(0.45)\n",
    "canopy_m1 = uni_gam_300_4.predict(0.55)\n",
    "canopy_sens_mid_300 = float(canopy_m1 - canopy_m0)\n",
    "print('If NDVI goes from 0.45 to 0.55, Canopy%_300 increases by:', canopy_sens_mid_300)"
   ]
  },
  {
   "cell_type": "code",
   "execution_count": 46,
   "id": "2919b158",
   "metadata": {},
   "outputs": [
    {
     "name": "stdout",
     "output_type": "stream",
     "text": [
      "If NDVI goes from 0.65 to 0.75, Canopy%_300 increases by: -0.05785798973391687\n"
     ]
    }
   ],
   "source": [
    "# Change in high NDVI values: how does Canopy% increase, if NDVI changes from 0.65 to 0.75?\n",
    "canopy_h0 = uni_gam_300_4.predict(0.65)\n",
    "canopy_h1 = uni_gam_300_4.predict(0.75)\n",
    "canopy_sens_hig_300 = float(canopy_h1 - canopy_h0)\n",
    "print('If NDVI goes from 0.65 to 0.75, Canopy%_300 increases by:', canopy_sens_hig_300)"
   ]
  },
  {
   "cell_type": "markdown",
   "id": "c6e8cba5",
   "metadata": {},
   "source": [
    "### 2.5. Model 5: forbs and shrubs ~ linear(NDVI)"
   ]
  },
  {
   "cell_type": "code",
   "execution_count": 47,
   "id": "a58f7093",
   "metadata": {},
   "outputs": [],
   "source": [
    "# data/predictors as the NDVI_300\n",
    "df_300 = pd.DataFrame(gdf_300, columns=['NDVI_300'])\n",
    "\n",
    "# target as Shrubs%_300\n",
    "target_300 = pd.DataFrame(gdf_300, columns=['Shrubs%_300'])\n",
    "\n",
    "# define X and y\n",
    "X = df_300\n",
    "y = target_300['Shrubs%_300']\n",
    "\n",
    "# split independent and dependent variables into training and test data\n",
    "X_train, X_test, y_train, y_test = train_test_split(X, y, test_size=0.2, random_state=0)\n",
    "\n",
    "# fit the linear model\n",
    "lm_300 = linear_model.LinearRegression()\n",
    "model_300 = lm_300.fit(X_train,y_train)"
   ]
  },
  {
   "cell_type": "code",
   "execution_count": 48,
   "id": "acde44da",
   "metadata": {},
   "outputs": [
    {
     "name": "stderr",
     "output_type": "stream",
     "text": [
      "100% (11 of 11) |########################| Elapsed Time: 0:00:00 Time:  0:00:00\n"
     ]
    },
    {
     "name": "stdout",
     "output_type": "stream",
     "text": [
      "LinearGAM                                                                                                 \n",
      "=============================================== ==========================================================\n",
      "Distribution:                        NormalDist Effective DoF:                                      1.9992\n",
      "Link Function:                     IdentityLink Log Likelihood:                                -39207.7892\n",
      "Number of Samples:                         4656 AIC:                                            78421.5767\n",
      "                                                AICc:                                           78421.5819\n",
      "                                                GCV:                                                0.0474\n",
      "                                                Scale:                                              0.0474\n",
      "                                                Pseudo R-Squared:                                   0.1753\n",
      "==========================================================================================================\n",
      "Feature Function                  Lambda               Rank         EDoF         P > x        Sig. Code   \n",
      "================================= ==================== ============ ============ ============ ============\n",
      "l(0)                              [0.0631]             1            1.0          1.11e-16     ***         \n",
      "intercept                                              1            1.0          2.06e-02     *           \n",
      "==========================================================================================================\n",
      "Significance codes:  0 '***' 0.001 '**' 0.01 '*' 0.05 '.' 0.1 ' ' 1\n",
      "\n",
      "WARNING: Fitting splines and a linear function to a feature introduces a model identifiability problem\n",
      "         which can cause p-values to appear significant when they are not.\n",
      "\n",
      "WARNING: p-values calculated in this manner behave correctly for un-penalized models or models with\n",
      "         known smoothing parameters, but when smoothing parameters have been estimated, the p-values\n",
      "         are typically lower than they should be, meaning that the tests reject the null too readily.\n"
     ]
    },
    {
     "name": "stderr",
     "output_type": "stream",
     "text": [
      "/var/folders/6g/kgz5rml118s6lqw25w5sv5mr0000gn/T/ipykernel_1241/2500949949.py:6: UserWarning: KNOWN BUG: p-values computed in this summary are likely much smaller than they should be. \n",
      " \n",
      "Please do not make inferences based on these values! \n",
      "\n",
      "Collaborate on a solution, and stay up to date at: \n",
      "github.com/dswah/pyGAM/issues/163 \n",
      "\n",
      "  uni_gam_300_5.summary()\n"
     ]
    }
   ],
   "source": [
    "# Model 5\n",
    "warnings.filterwarnings(\"ignore\", category=RuntimeWarning)\n",
    "uni_gam_300_5 = LinearGAM(l(0)).fit(X_train, y_train)\n",
    "\n",
    "uni_gam_300_5.gridsearch(X_train, y_train)\n",
    "uni_gam_300_5.summary()"
   ]
  },
  {
   "cell_type": "markdown",
   "id": "4f5149dc",
   "metadata": {},
   "source": [
    "### 2.6. Model 6: forbs and shrubs ~ spline(NDVI)"
   ]
  },
  {
   "cell_type": "code",
   "execution_count": 49,
   "id": "52b5c456",
   "metadata": {},
   "outputs": [
    {
     "name": "stderr",
     "output_type": "stream",
     "text": [
      "100% (11 of 11) |########################| Elapsed Time: 0:00:00 Time:  0:00:00\n"
     ]
    },
    {
     "name": "stdout",
     "output_type": "stream",
     "text": [
      "LinearGAM                                                                                                 \n",
      "=============================================== ==========================================================\n",
      "Distribution:                        NormalDist Effective DoF:                                      7.6496\n",
      "Link Function:                     IdentityLink Log Likelihood:                                -39581.6776\n",
      "Number of Samples:                         4656 AIC:                                            79180.6545\n",
      "                                                AICc:                                           79180.6904\n",
      "                                                GCV:                                                 0.047\n",
      "                                                Scale:                                              0.0469\n",
      "                                                Pseudo R-Squared:                                   0.1842\n",
      "==========================================================================================================\n",
      "Feature Function                  Lambda               Rank         EDoF         P > x        Sig. Code   \n",
      "================================= ==================== ============ ============ ============ ============\n",
      "s(0)                              [63.0957]            20           7.6          1.11e-16     ***         \n",
      "intercept                                              1            0.0          1.11e-16     ***         \n",
      "==========================================================================================================\n",
      "Significance codes:  0 '***' 0.001 '**' 0.01 '*' 0.05 '.' 0.1 ' ' 1\n",
      "\n",
      "WARNING: Fitting splines and a linear function to a feature introduces a model identifiability problem\n",
      "         which can cause p-values to appear significant when they are not.\n",
      "\n",
      "WARNING: p-values calculated in this manner behave correctly for un-penalized models or models with\n",
      "         known smoothing parameters, but when smoothing parameters have been estimated, the p-values\n",
      "         are typically lower than they should be, meaning that the tests reject the null too readily.\n"
     ]
    },
    {
     "name": "stderr",
     "output_type": "stream",
     "text": [
      "/var/folders/6g/kgz5rml118s6lqw25w5sv5mr0000gn/T/ipykernel_1241/1093988074.py:6: UserWarning: KNOWN BUG: p-values computed in this summary are likely much smaller than they should be. \n",
      " \n",
      "Please do not make inferences based on these values! \n",
      "\n",
      "Collaborate on a solution, and stay up to date at: \n",
      "github.com/dswah/pyGAM/issues/163 \n",
      "\n",
      "  uni_gam_300_6.summary()\n"
     ]
    }
   ],
   "source": [
    "# Model 6\n",
    "warnings.filterwarnings(\"ignore\", category=RuntimeWarning)\n",
    "uni_gam_300_6 = LinearGAM(s(0)).fit(X_train, y_train)\n",
    "\n",
    "uni_gam_300_6.gridsearch(X_train, y_train)\n",
    "uni_gam_300_6.summary()"
   ]
  },
  {
   "cell_type": "code",
   "execution_count": 139,
   "id": "24f67f04",
   "metadata": {},
   "outputs": [
    {
     "data": {
      "image/png": "[encoded data removed]",
      "text/plain": [
       "<Figure size 432x288 with 1 Axes>"
      ]
     },
     "metadata": {
      "needs_background": "light"
     },
     "output_type": "display_data"
    }
   ],
   "source": [
    "# plotting\n",
    "for i, term in enumerate(uni_gam_300_6.terms):\n",
    "    if term.isintercept:\n",
    "        continue\n",
    "\n",
    "    XX = uni_gam_300_6.generate_X_grid(term=i)\n",
    "    pdep, confi = uni_gam_300_6.partial_dependence(term=i, X=XX, width=0.95)\n",
    "\n",
    "    plt.figure()\n",
    "    plt.plot(XX[:, term.feature], pdep)\n",
    "    plt.hlines(y=0, xmin=0, xmax=1, linewidth=1, color='black', linestyle='--')\n",
    "    plt.plot(XX[:, term.feature], confi, c='r', ls='--')\n",
    "    ax = plt.gca()\n",
    "    ax.set_ylim([-0.3, 0.3])\n",
    "    # set title, xlabel and ylabel\n",
    "    plt.title('Sensitivity of Shrubs density to NDVI\\nfor buffer zones of 300 m', fontsize=18)\n",
    "    plt.xlabel('NDVI', fontsize=18)\n",
    "    plt.ylabel('Change relative to mean\\nShrubs density', fontsize=18)\n",
    "    # save the figure\n",
    "    plt.savefig('thesis_project/visualizations/modelling/univariate/gam_shrubs_300_best_plot_2.png', dpi=300, bbox_inches='tight')\n",
    "    im.open('thesis_project/visualizations/modelling/univariate/gam_shrubs_300_best_plot_2.png').save('thesis_project/visualizations/modelling/univariate/gam_shrubs_300_best_plot_2.bmp')\n",
    "    plt.show()"
   ]
  },
  {
   "cell_type": "code",
   "execution_count": 51,
   "id": "86816a81",
   "metadata": {},
   "outputs": [
    {
     "name": "stdout",
     "output_type": "stream",
     "text": [
      "If NDVI goes from 0.25 to 0.35, shrubs%_300 increases by: 0.11473227850113743\n"
     ]
    }
   ],
   "source": [
    "# Change in low NDVI values: how does shrubs% increase, if NDVI changes from 0.25 to 0.35?\n",
    "shrubs_l0 = uni_gam_300_6.predict(0.25)\n",
    "shrubs_l1 = uni_gam_300_6.predict(0.35)\n",
    "shrubs_sens_low_300 = float(shrubs_l1 - shrubs_l0)\n",
    "print('If NDVI goes from 0.25 to 0.35, shrubs%_300 increases by:', shrubs_sens_low_300)"
   ]
  },
  {
   "cell_type": "code",
   "execution_count": 52,
   "id": "3262dbe0",
   "metadata": {},
   "outputs": [
    {
     "name": "stdout",
     "output_type": "stream",
     "text": [
      "If NDVI goes from 0.45 to 0.55, shrubs%_300 increases by: 0.06201439490142063\n"
     ]
    }
   ],
   "source": [
    "# Change in mid NDVI values: how does shrubs% increase, if NDVI changes from 0.45 to 0.55?\n",
    "shrubs_m0 = uni_gam_300_6.predict(0.45)\n",
    "shrubs_m1 = uni_gam_300_6.predict(0.55)\n",
    "shrubs_sens_mid_300 = float(shrubs_m1 - shrubs_m0)\n",
    "print('If NDVI goes from 0.45 to 0.55, shrubs%_300 increases by:', shrubs_sens_mid_300)"
   ]
  },
  {
   "cell_type": "code",
   "execution_count": 53,
   "id": "cd32ccb2",
   "metadata": {},
   "outputs": [
    {
     "name": "stdout",
     "output_type": "stream",
     "text": [
      "If NDVI goes from 0.65 to 0.75, shrubs%_300 increases by: -0.03043509116906945\n"
     ]
    }
   ],
   "source": [
    "# Change in high NDVI values: how does shrubs% increase, if NDVI changes from 0.65 to 0.75?\n",
    "shrubs_h0 = uni_gam_300_6.predict(0.65)\n",
    "shrubs_h1 = uni_gam_300_6.predict(0.75)\n",
    "shrubs_sens_hig_300 = float(shrubs_h1 - shrubs_h0)\n",
    "print('If NDVI goes from 0.65 to 0.75, shrubs%_300 increases by:', shrubs_sens_hig_300)"
   ]
  },
  {
   "cell_type": "markdown",
   "id": "c5af5c02",
   "metadata": {},
   "source": [
    "### 2.7. Model 7: grass ~ linear(NDVI)"
   ]
  },
  {
   "cell_type": "code",
   "execution_count": 54,
   "id": "4754fece",
   "metadata": {},
   "outputs": [],
   "source": [
    "# NDVI_300 as the predictor\n",
    "df = pd.DataFrame(gdf_300, columns=['NDVI_300'])\n",
    "\n",
    "# Grass%_300 as the target\n",
    "target = pd.DataFrame(gdf_300, columns=['Grass%_300'])\n",
    "\n",
    "# define X and y\n",
    "X = df\n",
    "y = target['Grass%_300']\n",
    "\n",
    "# split independent and dependent variables into training and test data\n",
    "X_train, X_test, y_train, y_test = train_test_split(X, y, test_size=0.2, random_state=0)\n",
    "\n",
    "# fit the linear model\n",
    "lm_300 = linear_model.LinearRegression()\n",
    "model_300 = lm_300.fit(X_train,y_train)"
   ]
  },
  {
   "cell_type": "code",
   "execution_count": 55,
   "id": "cc8e5b84",
   "metadata": {},
   "outputs": [
    {
     "name": "stderr",
     "output_type": "stream",
     "text": [
      "100% (11 of 11) |########################| Elapsed Time: 0:00:00 Time:  0:00:00\n"
     ]
    },
    {
     "name": "stdout",
     "output_type": "stream",
     "text": [
      "LinearGAM                                                                                                 \n",
      "=============================================== ==========================================================\n",
      "Distribution:                        NormalDist Effective DoF:                                      1.9992\n",
      "Link Function:                     IdentityLink Log Likelihood:                               -204349.6362\n",
      "Number of Samples:                         4656 AIC:                                           408705.2708\n",
      "                                                AICc:                                           408705.276\n",
      "                                                GCV:                                                0.0105\n",
      "                                                Scale:                                              0.0105\n",
      "                                                Pseudo R-Squared:                                   0.2563\n",
      "==========================================================================================================\n",
      "Feature Function                  Lambda               Rank         EDoF         P > x        Sig. Code   \n",
      "================================= ==================== ============ ============ ============ ============\n",
      "l(0)                              [0.0631]             1            1.0          1.11e-16     ***         \n",
      "intercept                                              1            1.0          1.11e-16     ***         \n",
      "==========================================================================================================\n",
      "Significance codes:  0 '***' 0.001 '**' 0.01 '*' 0.05 '.' 0.1 ' ' 1\n",
      "\n",
      "WARNING: Fitting splines and a linear function to a feature introduces a model identifiability problem\n",
      "         which can cause p-values to appear significant when they are not.\n",
      "\n",
      "WARNING: p-values calculated in this manner behave correctly for un-penalized models or models with\n",
      "         known smoothing parameters, but when smoothing parameters have been estimated, the p-values\n",
      "         are typically lower than they should be, meaning that the tests reject the null too readily.\n"
     ]
    },
    {
     "name": "stderr",
     "output_type": "stream",
     "text": [
      "/var/folders/6g/kgz5rml118s6lqw25w5sv5mr0000gn/T/ipykernel_1241/277399172.py:6: UserWarning: KNOWN BUG: p-values computed in this summary are likely much smaller than they should be. \n",
      " \n",
      "Please do not make inferences based on these values! \n",
      "\n",
      "Collaborate on a solution, and stay up to date at: \n",
      "github.com/dswah/pyGAM/issues/163 \n",
      "\n",
      "  uni_gam_300_7.summary()\n"
     ]
    }
   ],
   "source": [
    "# Model 7\n",
    "warnings.filterwarnings(\"ignore\", category=RuntimeWarning)\n",
    "uni_gam_300_7 = LinearGAM(l(0)).fit(X_train, y_train)\n",
    "\n",
    "uni_gam_300_7.gridsearch(X_train, y_train)\n",
    "uni_gam_300_7.summary()"
   ]
  },
  {
   "cell_type": "markdown",
   "id": "3a4cf5be",
   "metadata": {},
   "source": [
    "### 2.8. Model 8: grass ~ spline(NDVI)"
   ]
  },
  {
   "cell_type": "code",
   "execution_count": 56,
   "id": "00f7a619",
   "metadata": {},
   "outputs": [
    {
     "name": "stderr",
     "output_type": "stream",
     "text": [
      "100% (11 of 11) |########################| Elapsed Time: 0:00:00 Time:  0:00:00\n"
     ]
    },
    {
     "name": "stdout",
     "output_type": "stream",
     "text": [
      "LinearGAM                                                                                                 \n",
      "=============================================== ==========================================================\n",
      "Distribution:                        NormalDist Effective DoF:                                      7.6496\n",
      "Link Function:                     IdentityLink Log Likelihood:                               -207895.5869\n",
      "Number of Samples:                         4656 AIC:                                            415808.473\n",
      "                                                AICc:                                          415808.5089\n",
      "                                                GCV:                                                0.0104\n",
      "                                                Scale:                                              0.0103\n",
      "                                                Pseudo R-Squared:                                     0.27\n",
      "==========================================================================================================\n",
      "Feature Function                  Lambda               Rank         EDoF         P > x        Sig. Code   \n",
      "================================= ==================== ============ ============ ============ ============\n",
      "s(0)                              [63.0957]            20           7.6          1.11e-16     ***         \n",
      "intercept                                              1            0.0          1.11e-16     ***         \n",
      "==========================================================================================================\n",
      "Significance codes:  0 '***' 0.001 '**' 0.01 '*' 0.05 '.' 0.1 ' ' 1\n",
      "\n",
      "WARNING: Fitting splines and a linear function to a feature introduces a model identifiability problem\n",
      "         which can cause p-values to appear significant when they are not.\n",
      "\n",
      "WARNING: p-values calculated in this manner behave correctly for un-penalized models or models with\n",
      "         known smoothing parameters, but when smoothing parameters have been estimated, the p-values\n",
      "         are typically lower than they should be, meaning that the tests reject the null too readily.\n"
     ]
    },
    {
     "name": "stderr",
     "output_type": "stream",
     "text": [
      "/var/folders/6g/kgz5rml118s6lqw25w5sv5mr0000gn/T/ipykernel_1241/68270352.py:6: UserWarning: KNOWN BUG: p-values computed in this summary are likely much smaller than they should be. \n",
      " \n",
      "Please do not make inferences based on these values! \n",
      "\n",
      "Collaborate on a solution, and stay up to date at: \n",
      "github.com/dswah/pyGAM/issues/163 \n",
      "\n",
      "  uni_gam_300_8.summary()\n"
     ]
    }
   ],
   "source": [
    "# Model 8\n",
    "warnings.filterwarnings(\"ignore\", category=RuntimeWarning)\n",
    "uni_gam_300_8 = LinearGAM(s(0)).fit(X_train, y_train)\n",
    "\n",
    "uni_gam_300_8.gridsearch(X_train, y_train)\n",
    "uni_gam_300_8.summary()"
   ]
  },
  {
   "cell_type": "code",
   "execution_count": 140,
   "id": "008d6fd7",
   "metadata": {},
   "outputs": [
    {
     "data": {
      "image/png": "[encoded data removed]",
      "text/plain": [
       "<Figure size 432x288 with 1 Axes>"
      ]
     },
     "metadata": {
      "needs_background": "light"
     },
     "output_type": "display_data"
    }
   ],
   "source": [
    "# plotting\n",
    "for i, term in enumerate(uni_gam_300_8.terms):\n",
    "    if term.isintercept:\n",
    "        continue\n",
    "\n",
    "    XX = uni_gam_300_8.generate_X_grid(term=i)\n",
    "    pdep, confi = uni_gam_300_8.partial_dependence(term=i, X=XX, width=0.95)\n",
    "\n",
    "    plt.figure()\n",
    "    plt.plot(XX[:, term.feature], pdep)\n",
    "    plt.hlines(y=0, xmin=0, xmax=1, linewidth=1, color='black', linestyle='--')\n",
    "    plt.plot(XX[:, term.feature], confi, c='r', ls='--')\n",
    "    ax = plt.gca()\n",
    "    ax.set_ylim([-0.3, 0.3])\n",
    "    # set title, xlabel and ylabel\n",
    "    plt.title('Sensitivity of Grass density to NDVI\\nfor buffer zones of 300 m', fontsize=18)\n",
    "    plt.xlabel('NDVI', fontsize=18)\n",
    "    plt.ylabel('Change relative to mean\\nGrass density', fontsize=18)\n",
    "    # save the figure\n",
    "    plt.savefig('thesis_project/visualizations/modelling/univariate/gam_grass_300_best_plot_2.png', dpi=300, bbox_inches='tight')\n",
    "    im.open('thesis_project/visualizations/modelling/univariate/gam_grass_300_best_plot_2.png').save('thesis_project/visualizations/modelling/univariate/gam_grass_300_best_plot_2.bmp')\n",
    "\n",
    "\n",
    "    plt.show()"
   ]
  },
  {
   "cell_type": "code",
   "execution_count": 58,
   "id": "2fdc55ec",
   "metadata": {},
   "outputs": [
    {
     "name": "stdout",
     "output_type": "stream",
     "text": [
      "If NDVI goes from 0.25 to 0.35, Grass%_300 increases by: 0.051761828468116985\n"
     ]
    }
   ],
   "source": [
    "# Change in low NDVI values: how does Grass% increase, if NDVI changes from 0.25 to 0.35?\n",
    "grass_l0 = uni_gam_300_8.predict(0.25)\n",
    "grass_l1 = uni_gam_300_8.predict(0.35)\n",
    "grass_sens_low_300 = float(grass_l1 - grass_l0)\n",
    "print('If NDVI goes from 0.25 to 0.35, Grass%_300 increases by:', grass_sens_low_300)"
   ]
  },
  {
   "cell_type": "code",
   "execution_count": 59,
   "id": "6da7b121",
   "metadata": {},
   "outputs": [
    {
     "name": "stdout",
     "output_type": "stream",
     "text": [
      "If NDVI goes from 0.45 to 0.55, Grass%_300 increases by: 0.03579793855355831\n"
     ]
    }
   ],
   "source": [
    "# Change in mid NDVI values: how does Grass% increase, if NDVI changes from 0.45 to 0.55?\n",
    "grass_m0 = uni_gam_300_8.predict(0.45)\n",
    "grass_m1 = uni_gam_300_8.predict(0.55)\n",
    "grass_sens_mid_300 = float(grass_m1 - grass_m0)\n",
    "print('If NDVI goes from 0.45 to 0.55, Grass%_300 increases by:', grass_sens_mid_300)"
   ]
  },
  {
   "cell_type": "code",
   "execution_count": 60,
   "id": "dba30d14",
   "metadata": {},
   "outputs": [
    {
     "name": "stdout",
     "output_type": "stream",
     "text": [
      "If NDVI goes from 0.65 to 0.75, Grass%_300 increases by: 0.15089743119823656\n"
     ]
    }
   ],
   "source": [
    "# Change in hig NDVI values: how does Grass% increase, if NDVI changes from 0.65 to 0.75?\n",
    "grass_h0 = uni_gam_300_8.predict(0.65)\n",
    "grass_h1 = uni_gam_300_8.predict(0.75)\n",
    "grass_sens_hig_300 = float(grass_h1 - grass_h0)\n",
    "print('If NDVI goes from 0.65 to 0.75, Grass%_300 increases by:', grass_sens_hig_300)"
   ]
  },
  {
   "cell_type": "markdown",
   "id": "d3e319e6",
   "metadata": {},
   "source": [
    "## 3. Modeling vegetation densities for buffer distances of 500 meters"
   ]
  },
  {
   "cell_type": "code",
   "execution_count": 61,
   "id": "056870cd",
   "metadata": {},
   "outputs": [
    {
     "data": {
      "text/html": [
       "<div>\n",
       "<style scoped>\n",
       "    .dataframe tbody tr th:only-of-type {\n",
       "        vertical-align: middle;\n",
       "    }\n",
       "\n",
       "    .dataframe tbody tr th {\n",
       "        vertical-align: top;\n",
       "    }\n",
       "\n",
       "    .dataframe thead th {\n",
       "        text-align: right;\n",
       "    }\n",
       "</style>\n",
       "<table border=\"1\" class=\"dataframe\">\n",
       "  <thead>\n",
       "    <tr style=\"text-align: right;\">\n",
       "      <th></th>\n",
       "      <th>NDVI_500</th>\n",
       "      <th>Greenspace%_500</th>\n",
       "      <th>Canopy%_500</th>\n",
       "      <th>Grass%_500</th>\n",
       "      <th>Shrubs%_500</th>\n",
       "      <th>geometry</th>\n",
       "    </tr>\n",
       "  </thead>\n",
       "  <tbody>\n",
       "    <tr>\n",
       "      <th>0</th>\n",
       "      <td>0.407077</td>\n",
       "      <td>0.982575</td>\n",
       "      <td>0.006176</td>\n",
       "      <td>0.028919</td>\n",
       "      <td>0.947064</td>\n",
       "      <td>POINT (401901.359 408671.581)</td>\n",
       "    </tr>\n",
       "    <tr>\n",
       "      <th>1</th>\n",
       "      <td>0.441260</td>\n",
       "      <td>0.575357</td>\n",
       "      <td>0.167827</td>\n",
       "      <td>0.131850</td>\n",
       "      <td>0.277816</td>\n",
       "      <td>POINT (368835.367 407479.786)</td>\n",
       "    </tr>\n",
       "    <tr>\n",
       "      <th>2</th>\n",
       "      <td>0.312300</td>\n",
       "      <td>0.395262</td>\n",
       "      <td>0.212136</td>\n",
       "      <td>0.095873</td>\n",
       "      <td>0.087050</td>\n",
       "      <td>POINT (377751.293 401260.842)</td>\n",
       "    </tr>\n",
       "    <tr>\n",
       "      <th>3</th>\n",
       "      <td>0.283220</td>\n",
       "      <td>0.355313</td>\n",
       "      <td>0.098324</td>\n",
       "      <td>0.070777</td>\n",
       "      <td>0.188119</td>\n",
       "      <td>POINT (391535.548 395524.756)</td>\n",
       "    </tr>\n",
       "    <tr>\n",
       "      <th>4</th>\n",
       "      <td>0.552286</td>\n",
       "      <td>0.770303</td>\n",
       "      <td>0.265954</td>\n",
       "      <td>0.094795</td>\n",
       "      <td>0.409666</td>\n",
       "      <td>POINT (369836.790 402258.456)</td>\n",
       "    </tr>\n",
       "  </tbody>\n",
       "</table>\n",
       "</div>"
      ],
      "text/plain": [
       "   NDVI_500  Greenspace%_500  Canopy%_500  Grass%_500  Shrubs%_500  \\\n",
       "0  0.407077         0.982575     0.006176    0.028919     0.947064   \n",
       "1  0.441260         0.575357     0.167827    0.131850     0.277816   \n",
       "2  0.312300         0.395262     0.212136    0.095873     0.087050   \n",
       "3  0.283220         0.355313     0.098324    0.070777     0.188119   \n",
       "4  0.552286         0.770303     0.265954    0.094795     0.409666   \n",
       "\n",
       "                        geometry  \n",
       "0  POINT (401901.359 408671.581)  \n",
       "1  POINT (368835.367 407479.786)  \n",
       "2  POINT (377751.293 401260.842)  \n",
       "3  POINT (391535.548 395524.756)  \n",
       "4  POINT (369836.790 402258.456)  "
      ]
     },
     "execution_count": 61,
     "metadata": {},
     "output_type": "execute_result"
    }
   ],
   "source": [
    "# load greenspace metrics at 500m geodataframe\n",
    "gdf_500 = gpd.read_file(\"thesis_project/output/dataframes/greenspace_metrics_500_df_2.json\")\n",
    "gdf_500.head()"
   ]
  },
  {
   "cell_type": "markdown",
   "id": "442e67bf",
   "metadata": {},
   "source": [
    "### 3.1. Model 1: greenspace ~ linear(NDVI)"
   ]
  },
  {
   "cell_type": "code",
   "execution_count": 62,
   "id": "150814b6",
   "metadata": {},
   "outputs": [],
   "source": [
    "# NDVI_500 as the predictor\n",
    "df = pd.DataFrame(gdf_500, columns=['NDVI_500'])\n",
    "\n",
    "# Greenspace%_300 as the target\n",
    "target = pd.DataFrame(gdf_500, columns=['Greenspace%_500'])\n",
    "\n",
    "# define X and y\n",
    "X = df\n",
    "y = target['Greenspace%_500']\n",
    "\n",
    "# split independent and dependent variables into training and test data\n",
    "X_train, X_test, y_train, y_test = train_test_split(X, y, test_size=0.2, random_state=0)\n",
    "\n",
    "# fit the linear model\n",
    "lm_500 = linear_model.LinearRegression()\n",
    "model_500 = lm_500.fit(X_train,y_train)"
   ]
  },
  {
   "cell_type": "code",
   "execution_count": 63,
   "id": "d79127c3",
   "metadata": {},
   "outputs": [
    {
     "name": "stderr",
     "output_type": "stream",
     "text": [
      "100% (11 of 11) |########################| Elapsed Time: 0:00:00 Time:  0:00:00\n"
     ]
    },
    {
     "name": "stdout",
     "output_type": "stream",
     "text": [
      "LinearGAM                                                                                                 \n",
      "=============================================== ==========================================================\n",
      "Distribution:                        NormalDist Effective DoF:                                      1.9999\n",
      "Link Function:                     IdentityLink Log Likelihood:                                -68708.8381\n",
      "Number of Samples:                         2316 AIC:                                           137423.6759\n",
      "                                                AICc:                                          137423.6863\n",
      "                                                GCV:                                                0.0152\n",
      "                                                Scale:                                              0.0152\n",
      "                                                Pseudo R-Squared:                                   0.6684\n",
      "==========================================================================================================\n",
      "Feature Function                  Lambda               Rank         EDoF         P > x        Sig. Code   \n",
      "================================= ==================== ============ ============ ============ ============\n",
      "l(0)                              [0.004]              1            1.0          1.11e-16     ***         \n",
      "intercept                                              1            1.0          4.74e-01                 \n",
      "==========================================================================================================\n",
      "Significance codes:  0 '***' 0.001 '**' 0.01 '*' 0.05 '.' 0.1 ' ' 1\n",
      "\n",
      "WARNING: Fitting splines and a linear function to a feature introduces a model identifiability problem\n",
      "         which can cause p-values to appear significant when they are not.\n",
      "\n",
      "WARNING: p-values calculated in this manner behave correctly for un-penalized models or models with\n",
      "         known smoothing parameters, but when smoothing parameters have been estimated, the p-values\n",
      "         are typically lower than they should be, meaning that the tests reject the null too readily.\n"
     ]
    },
    {
     "name": "stderr",
     "output_type": "stream",
     "text": [
      "/var/folders/6g/kgz5rml118s6lqw25w5sv5mr0000gn/T/ipykernel_1241/2474993179.py:6: UserWarning: KNOWN BUG: p-values computed in this summary are likely much smaller than they should be. \n",
      " \n",
      "Please do not make inferences based on these values! \n",
      "\n",
      "Collaborate on a solution, and stay up to date at: \n",
      "github.com/dswah/pyGAM/issues/163 \n",
      "\n",
      "  uni_gam_500_1.summary()\n"
     ]
    }
   ],
   "source": [
    "# Model 1\n",
    "warnings.filterwarnings(\"ignore\", category=RuntimeWarning)\n",
    "uni_gam_500_1 = LinearGAM(l(0)).fit(X_train, y_train)\n",
    "\n",
    "uni_gam_500_1.gridsearch(X_train, y_train)\n",
    "uni_gam_500_1.summary()"
   ]
  },
  {
   "cell_type": "markdown",
   "id": "412d77c1",
   "metadata": {},
   "source": [
    "### 3.2. Model 2: greenspace ~ spline(NDVI)"
   ]
  },
  {
   "cell_type": "code",
   "execution_count": 64,
   "id": "595a8e06",
   "metadata": {},
   "outputs": [
    {
     "name": "stderr",
     "output_type": "stream",
     "text": [
      "100% (11 of 11) |########################| Elapsed Time: 0:00:00 Time:  0:00:00\n"
     ]
    },
    {
     "name": "stdout",
     "output_type": "stream",
     "text": [
      "LinearGAM                                                                                                 \n",
      "=============================================== ==========================================================\n",
      "Distribution:                        NormalDist Effective DoF:                                      8.8225\n",
      "Link Function:                     IdentityLink Log Likelihood:                                 -74296.051\n",
      "Number of Samples:                         2316 AIC:                                            148611.747\n",
      "                                                AICc:                                          148611.8392\n",
      "                                                GCV:                                                0.0142\n",
      "                                                Scale:                                              0.0141\n",
      "                                                Pseudo R-Squared:                                   0.6935\n",
      "==========================================================================================================\n",
      "Feature Function                  Lambda               Rank         EDoF         P > x        Sig. Code   \n",
      "================================= ==================== ============ ============ ============ ============\n",
      "s(0)                              [15.8489]            20           8.8          1.11e-16     ***         \n",
      "intercept                                              1            0.0          1.11e-16     ***         \n",
      "==========================================================================================================\n",
      "Significance codes:  0 '***' 0.001 '**' 0.01 '*' 0.05 '.' 0.1 ' ' 1\n",
      "\n",
      "WARNING: Fitting splines and a linear function to a feature introduces a model identifiability problem\n",
      "         which can cause p-values to appear significant when they are not.\n",
      "\n",
      "WARNING: p-values calculated in this manner behave correctly for un-penalized models or models with\n",
      "         known smoothing parameters, but when smoothing parameters have been estimated, the p-values\n",
      "         are typically lower than they should be, meaning that the tests reject the null too readily.\n"
     ]
    },
    {
     "name": "stderr",
     "output_type": "stream",
     "text": [
      "/var/folders/6g/kgz5rml118s6lqw25w5sv5mr0000gn/T/ipykernel_1241/3753528684.py:6: UserWarning: KNOWN BUG: p-values computed in this summary are likely much smaller than they should be. \n",
      " \n",
      "Please do not make inferences based on these values! \n",
      "\n",
      "Collaborate on a solution, and stay up to date at: \n",
      "github.com/dswah/pyGAM/issues/163 \n",
      "\n",
      "  uni_gam_500_2.summary()\n"
     ]
    }
   ],
   "source": [
    "# Model 2\n",
    "warnings.filterwarnings(\"ignore\", category=RuntimeWarning)\n",
    "uni_gam_500_2 = LinearGAM(s(0)).fit(X_train, y_train)\n",
    "\n",
    "uni_gam_500_2.gridsearch(X_train, y_train)\n",
    "uni_gam_500_2.summary()"
   ]
  },
  {
   "cell_type": "code",
   "execution_count": 157,
   "id": "e4ec89e0",
   "metadata": {},
   "outputs": [
    {
     "data": {
      "image/png": "[encoded data removed]",
      "text/plain": [
       "<Figure size 432x288 with 1 Axes>"
      ]
     },
     "metadata": {
      "needs_background": "light"
     },
     "output_type": "display_data"
    }
   ],
   "source": [
    "# plotting\n",
    "for i, term in enumerate(uni_gam_500_2.terms):\n",
    "    if term.isintercept:\n",
    "        continue\n",
    "\n",
    "    XX = uni_gam_500_2.generate_X_grid(term=i)\n",
    "    pdep, confi = uni_gam_500_2.partial_dependence(term=i, X=XX, width=0.95)\n",
    "\n",
    "    plt.figure()\n",
    "    plt.plot(XX[:, term.feature], pdep)\n",
    "    plt.hlines(y=0, xmin=0, xmax=1, linewidth=1, color='black', linestyle='--')\n",
    "    plt.plot(XX[:, term.feature], confi, c='r', ls='--')\n",
    "    # set title, xlabel and ylabel\n",
    "    plt.title('Sensitivity of Greenspace to NDVI\\nfor buffer zones of 500 m', fontsize=18)\n",
    "    plt.xlabel('NDVI', fontsize=18)\n",
    "    plt.ylabel('Change relative to mean\\nGreenspace', fontsize=18)\n",
    "    # save the figure\n",
    "    plt.savefig('thesis_project/visualizations/modelling/univariate/gam_greenspace_500_best_plot_2.png', dpi=300, bbox_inches='tight')\n",
    "    im.open('thesis_project/visualizations/modelling/univariate/gam_greenspace_500_best_plot_2.png').save('thesis_project/visualizations/modelling/univariate/gam_greenspace_500_best_plot_2.bmp')\n",
    "    plt.show()"
   ]
  },
  {
   "cell_type": "code",
   "execution_count": 66,
   "id": "6fb0a348",
   "metadata": {},
   "outputs": [
    {
     "name": "stdout",
     "output_type": "stream",
     "text": [
      "If NDVI goes from 0.25 to 0.35, Greenspace%_500 increases by: 0.18222069240699124\n"
     ]
    }
   ],
   "source": [
    "# Change in low NDVI values: how does Greenspace% increase, if NDVI changes from 0.25 to 0.35?\n",
    "green_l0 = uni_gam_500_2.predict(0.25)\n",
    "green_l1 = uni_gam_500_2.predict(0.35)\n",
    "green_sens_low_500 = float(green_l1 - green_l0)\n",
    "print('If NDVI goes from 0.25 to 0.35, Greenspace%_500 increases by:', green_sens_low_500)"
   ]
  },
  {
   "cell_type": "code",
   "execution_count": 67,
   "id": "c3d945c5",
   "metadata": {},
   "outputs": [
    {
     "name": "stdout",
     "output_type": "stream",
     "text": [
      "If NDVI goes from 0.45 to 0.55, Greenspace%_500 increases by: 0.12231163306255921\n"
     ]
    }
   ],
   "source": [
    "# Change in medium NDVI values: how does Greenspace% increase, if NDVI changes from 0.45 to 0.55?\n",
    "green_m0 = uni_gam_500_2.predict(0.45)\n",
    "green_m1 = uni_gam_500_2.predict(0.55)\n",
    "green_sens_mid_500 = float(green_m1 - green_m0)\n",
    "print('If NDVI goes from 0.45 to 0.55, Greenspace%_500 increases by:', green_sens_mid_500)"
   ]
  },
  {
   "cell_type": "code",
   "execution_count": 68,
   "id": "73f655eb",
   "metadata": {},
   "outputs": [
    {
     "name": "stdout",
     "output_type": "stream",
     "text": [
      "If NDVI goes from 0.65 to 0.75, Greenspace%_500 increases by: 0.06676407531269757\n"
     ]
    }
   ],
   "source": [
    "# Change in high NDVI values: how does Greenspace% increase, if NDVI changes from 0.65 to 0.75?\n",
    "green_h0 = uni_gam_500_2.predict(0.65)\n",
    "green_h1 = uni_gam_500_2.predict(0.75)\n",
    "green_sens_hig_500 = float(green_h1 - green_h0)\n",
    "print('If NDVI goes from 0.65 to 0.75, Greenspace%_500 increases by:', green_sens_hig_500)"
   ]
  },
  {
   "cell_type": "markdown",
   "id": "5653389d",
   "metadata": {},
   "source": [
    "### 3.3. Model 3: tree canopy ~ linear(NDVI)"
   ]
  },
  {
   "cell_type": "code",
   "execution_count": 69,
   "id": "68ee1650",
   "metadata": {},
   "outputs": [],
   "source": [
    "# NDVI_500 as the predictor\n",
    "df = pd.DataFrame(gdf_500, columns=['NDVI_500'])\n",
    "\n",
    "# Greenspace%_300 as the target\n",
    "target = pd.DataFrame(gdf_500, columns=['Canopy%_500'])\n",
    "\n",
    "# define X and y\n",
    "X = df\n",
    "y = target['Canopy%_500']\n",
    "\n",
    "# split independent and dependent variables into training and test data\n",
    "X_train, X_test, y_train, y_test = train_test_split(X, y, test_size=0.2, random_state=0)\n",
    "\n",
    "# fit the linear model\n",
    "lm_500 = linear_model.LinearRegression()\n",
    "model_500 = lm_500.fit(X_train,y_train)"
   ]
  },
  {
   "cell_type": "code",
   "execution_count": 70,
   "id": "3ebb7231",
   "metadata": {},
   "outputs": [
    {
     "name": "stderr",
     "output_type": "stream",
     "text": [
      "100% (11 of 11) |########################| Elapsed Time: 0:00:00 Time:  0:00:00\n"
     ]
    },
    {
     "name": "stdout",
     "output_type": "stream",
     "text": [
      "LinearGAM                                                                                                 \n",
      "=============================================== ==========================================================\n",
      "Distribution:                        NormalDist Effective DoF:                                      1.9812\n",
      "Link Function:                     IdentityLink Log Likelihood:                                -82627.5544\n",
      "Number of Samples:                         2316 AIC:                                           165261.0713\n",
      "                                                AICc:                                          165261.0815\n",
      "                                                GCV:                                                0.0128\n",
      "                                                Scale:                                              0.0128\n",
      "                                                Pseudo R-Squared:                                   0.0309\n",
      "==========================================================================================================\n",
      "Feature Function                  Lambda               Rank         EDoF         P > x        Sig. Code   \n",
      "================================= ==================== ============ ============ ============ ============\n",
      "l(0)                              [0.6]                1            1.0          1.11e-16     ***         \n",
      "intercept                                              1            1.0          1.11e-16     ***         \n",
      "==========================================================================================================\n",
      "Significance codes:  0 '***' 0.001 '**' 0.01 '*' 0.05 '.' 0.1 ' ' 1\n",
      "\n",
      "WARNING: Fitting splines and a linear function to a feature introduces a model identifiability problem\n",
      "         which can cause p-values to appear significant when they are not.\n",
      "\n",
      "WARNING: p-values calculated in this manner behave correctly for un-penalized models or models with\n",
      "         known smoothing parameters, but when smoothing parameters have been estimated, the p-values\n",
      "         are typically lower than they should be, meaning that the tests reject the null too readily.\n"
     ]
    },
    {
     "name": "stderr",
     "output_type": "stream",
     "text": [
      "/var/folders/6g/kgz5rml118s6lqw25w5sv5mr0000gn/T/ipykernel_1241/2840720071.py:6: UserWarning: KNOWN BUG: p-values computed in this summary are likely much smaller than they should be. \n",
      " \n",
      "Please do not make inferences based on these values! \n",
      "\n",
      "Collaborate on a solution, and stay up to date at: \n",
      "github.com/dswah/pyGAM/issues/163 \n",
      "\n",
      "  uni_gam_500_3.summary()\n"
     ]
    }
   ],
   "source": [
    "# Model 3\n",
    "warnings.filterwarnings(\"ignore\", category=RuntimeWarning)\n",
    "uni_gam_500_3 = LinearGAM(l(0)).fit(X_train, y_train)\n",
    "\n",
    "uni_gam_500_3.gridsearch(X_train, y_train)\n",
    "uni_gam_500_3.summary()"
   ]
  },
  {
   "cell_type": "markdown",
   "id": "8902f230",
   "metadata": {},
   "source": [
    "### 3.4. Model 4: tree canopy ~ spline(NDVI)"
   ]
  },
  {
   "cell_type": "code",
   "execution_count": 71,
   "id": "ef109c53",
   "metadata": {},
   "outputs": [
    {
     "name": "stderr",
     "output_type": "stream",
     "text": [
      "100% (11 of 11) |########################| Elapsed Time: 0:00:00 Time:  0:00:00\n"
     ]
    },
    {
     "name": "stdout",
     "output_type": "stream",
     "text": [
      "LinearGAM                                                                                                 \n",
      "=============================================== ==========================================================\n",
      "Distribution:                        NormalDist Effective DoF:                                      6.8256\n",
      "Link Function:                     IdentityLink Log Likelihood:                                -84808.3044\n",
      "Number of Samples:                         2316 AIC:                                           169632.2598\n",
      "                                                AICc:                                          169632.3197\n",
      "                                                GCV:                                                0.0125\n",
      "                                                Scale:                                              0.0124\n",
      "                                                Pseudo R-Squared:                                   0.0582\n",
      "==========================================================================================================\n",
      "Feature Function                  Lambda               Rank         EDoF         P > x        Sig. Code   \n",
      "================================= ==================== ============ ============ ============ ============\n",
      "s(0)                              [63.0957]            20           6.8          1.11e-16     ***         \n",
      "intercept                                              1            0.0          1.11e-16     ***         \n",
      "==========================================================================================================\n",
      "Significance codes:  0 '***' 0.001 '**' 0.01 '*' 0.05 '.' 0.1 ' ' 1\n",
      "\n",
      "WARNING: Fitting splines and a linear function to a feature introduces a model identifiability problem\n",
      "         which can cause p-values to appear significant when they are not.\n",
      "\n",
      "WARNING: p-values calculated in this manner behave correctly for un-penalized models or models with\n",
      "         known smoothing parameters, but when smoothing parameters have been estimated, the p-values\n",
      "         are typically lower than they should be, meaning that the tests reject the null too readily.\n"
     ]
    },
    {
     "name": "stderr",
     "output_type": "stream",
     "text": [
      "/var/folders/6g/kgz5rml118s6lqw25w5sv5mr0000gn/T/ipykernel_1241/3479331719.py:6: UserWarning: KNOWN BUG: p-values computed in this summary are likely much smaller than they should be. \n",
      " \n",
      "Please do not make inferences based on these values! \n",
      "\n",
      "Collaborate on a solution, and stay up to date at: \n",
      "github.com/dswah/pyGAM/issues/163 \n",
      "\n",
      "  uni_gam_500_4.summary()\n"
     ]
    }
   ],
   "source": [
    "# Model 4\n",
    "warnings.filterwarnings(\"ignore\", category=RuntimeWarning)\n",
    "uni_gam_500_4 = LinearGAM(s(0)).fit(X_train, y_train)\n",
    "\n",
    "uni_gam_500_4.gridsearch(X_train, y_train)\n",
    "uni_gam_500_4.summary()"
   ]
  },
  {
   "cell_type": "code",
   "execution_count": 152,
   "id": "caa32aa0",
   "metadata": {},
   "outputs": [
    {
     "data": {
      "image/png": "[encoded data removed]",
      "text/plain": [
       "<Figure size 432x288 with 1 Axes>"
      ]
     },
     "metadata": {
      "needs_background": "light"
     },
     "output_type": "display_data"
    }
   ],
   "source": [
    "# plotting\n",
    "for i, term in enumerate(uni_gam_500_4.terms):\n",
    "    if term.isintercept:\n",
    "        continue\n",
    "\n",
    "    XX = uni_gam_500_4.generate_X_grid(term=i)\n",
    "    pdep, confi = uni_gam_500_4.partial_dependence(term=i, X=XX, width=0.95)\n",
    "\n",
    "    plt.figure()\n",
    "    plt.plot(XX[:, term.feature], pdep)\n",
    "    plt.hlines(y=0, xmin=0, xmax=1, linewidth=1, color='black', linestyle='--')\n",
    "    plt.plot(XX[:, term.feature], confi, c='r', ls='--')\n",
    "    ax = plt.gca()\n",
    "    ax.set_ylim([-0.35, 0.4])\n",
    "    # set title, xlabel and ylabel\n",
    "    plt.title('Sensitivity of Tree canopy to NDVI\\nfor buffer zones of 500 m', fontsize=18)\n",
    "    plt.xlabel('NDVI', fontsize=18)\n",
    "    plt.ylabel('Change relative to mean\\nTree canopy', fontsize=18)\n",
    "    # save the figure\n",
    "    plt.savefig('thesis_project/visualizations/modelling/univariate/gam_canopy_500_best_plot_2.png', dpi=300, bbox_inches='tight')\n",
    "    im.open('thesis_project/visualizations/modelling/univariate/gam_canopy_500_best_plot_2.png').save('thesis_project/visualizations/modelling/univariate/gam_canopy_500_best_plot_2.bmp')\n",
    "    plt.show()"
   ]
  },
  {
   "cell_type": "code",
   "execution_count": 73,
   "id": "b2b333d9",
   "metadata": {},
   "outputs": [
    {
     "name": "stdout",
     "output_type": "stream",
     "text": [
      "If NDVI goes from 0.45 to 0.55, canopy%_500 increases by: 0.01646939935705055\n"
     ]
    }
   ],
   "source": [
    "# Change in medium NDVI values: how does canopy% increase, if NDVI changes from 0.45 to 0.55?\n",
    "canopy_m0 = uni_gam_500_4.predict(0.45)\n",
    "canopy_m1 = uni_gam_500_4.predict(0.55)\n",
    "canopy_sens_mid_500 = float(canopy_m1 - canopy_m0)\n",
    "print('If NDVI goes from 0.45 to 0.55, canopy%_500 increases by:', canopy_sens_mid_500)"
   ]
  },
  {
   "cell_type": "code",
   "execution_count": 74,
   "id": "976911ed",
   "metadata": {},
   "outputs": [
    {
     "name": "stdout",
     "output_type": "stream",
     "text": [
      "If NDVI goes from 0.65 to 0.75, canopy%_500 increases by: -0.0016500371319403961\n"
     ]
    }
   ],
   "source": [
    "# Change in high NDVI values: how does canopy% increase, if NDVI changes from 0.65 to 0.75?\n",
    "canopy_h0 = uni_gam_500_4.predict(0.65)\n",
    "canopy_h1 = uni_gam_500_4.predict(0.75)\n",
    "canopy_sens_hig_500 = float(canopy_h1 - canopy_h0)\n",
    "print('If NDVI goes from 0.65 to 0.75, canopy%_500 increases by:', canopy_sens_hig_500)"
   ]
  },
  {
   "cell_type": "code",
   "execution_count": 75,
   "id": "98e8fb83",
   "metadata": {},
   "outputs": [
    {
     "name": "stdout",
     "output_type": "stream",
     "text": [
      "If NDVI goes from 0.25 to 0.35, canopy%_500 increases by: 0.03792289782234798\n"
     ]
    }
   ],
   "source": [
    "# Change in low NDVI values: how does Canopy% increase, if NDVI changes from 0.25 to 0.35?\n",
    "canopy_l0 = uni_gam_500_4.predict(0.25)\n",
    "canopy_l1 = uni_gam_500_4.predict(0.35)\n",
    "canopy_sens_low_500 = float(canopy_l1 - canopy_l0)\n",
    "print('If NDVI goes from 0.25 to 0.35, canopy%_500 increases by:', canopy_sens_low_500)"
   ]
  },
  {
   "cell_type": "markdown",
   "id": "b6493010",
   "metadata": {},
   "source": [
    "### 3.5. Model 5: forbs and shrubs ~ linear(NDVI)"
   ]
  },
  {
   "cell_type": "code",
   "execution_count": 76,
   "id": "b3aa53b6",
   "metadata": {},
   "outputs": [],
   "source": [
    "# NDVI_500 as the predictor\n",
    "df = pd.DataFrame(gdf_500, columns=['NDVI_500'])\n",
    "\n",
    "# Shrubs%_500 as the target\n",
    "target = pd.DataFrame(gdf_500, columns=['Shrubs%_500'])\n",
    "\n",
    "# define X and y\n",
    "X = df\n",
    "y = target['Shrubs%_500']\n",
    "\n",
    "# split independent and dependent variables into training and test data\n",
    "X_train, X_test, y_train, y_test = train_test_split(X, y, test_size=0.2, random_state=0)\n",
    "\n",
    "# fit the linear model\n",
    "lm_500 = linear_model.LinearRegression()\n",
    "model_500 = lm_500.fit(X_train,y_train)"
   ]
  },
  {
   "cell_type": "code",
   "execution_count": 77,
   "id": "89d5e340",
   "metadata": {},
   "outputs": [
    {
     "name": "stderr",
     "output_type": "stream",
     "text": [
      "100% (11 of 11) |########################| Elapsed Time: 0:00:00 Time:  0:00:00\n"
     ]
    },
    {
     "name": "stdout",
     "output_type": "stream",
     "text": [
      "LinearGAM                                                                                                 \n",
      "=============================================== ==========================================================\n",
      "Distribution:                        NormalDist Effective DoF:                                       1.998\n",
      "Link Function:                     IdentityLink Log Likelihood:                                -23525.4931\n",
      "Number of Samples:                         2316 AIC:                                            47056.9821\n",
      "                                                AICc:                                           47056.9925\n",
      "                                                GCV:                                                0.0402\n",
      "                                                Scale:                                              0.0401\n",
      "                                                Pseudo R-Squared:                                   0.1777\n",
      "==========================================================================================================\n",
      "Feature Function                  Lambda               Rank         EDoF         P > x        Sig. Code   \n",
      "================================= ==================== ============ ============ ============ ============\n",
      "l(0)                              [0.0631]             1            1.0          1.11e-16     ***         \n",
      "intercept                                              1            1.0          1.28e-02     *           \n",
      "==========================================================================================================\n",
      "Significance codes:  0 '***' 0.001 '**' 0.01 '*' 0.05 '.' 0.1 ' ' 1\n",
      "\n",
      "WARNING: Fitting splines and a linear function to a feature introduces a model identifiability problem\n",
      "         which can cause p-values to appear significant when they are not.\n",
      "\n",
      "WARNING: p-values calculated in this manner behave correctly for un-penalized models or models with\n",
      "         known smoothing parameters, but when smoothing parameters have been estimated, the p-values\n",
      "         are typically lower than they should be, meaning that the tests reject the null too readily.\n"
     ]
    },
    {
     "name": "stderr",
     "output_type": "stream",
     "text": [
      "/var/folders/6g/kgz5rml118s6lqw25w5sv5mr0000gn/T/ipykernel_1241/405054797.py:6: UserWarning: KNOWN BUG: p-values computed in this summary are likely much smaller than they should be. \n",
      " \n",
      "Please do not make inferences based on these values! \n",
      "\n",
      "Collaborate on a solution, and stay up to date at: \n",
      "github.com/dswah/pyGAM/issues/163 \n",
      "\n",
      "  uni_gam_500_5.summary()\n"
     ]
    }
   ],
   "source": [
    "# Model 5\n",
    "warnings.filterwarnings(\"ignore\", category=RuntimeWarning)\n",
    "uni_gam_500_5 = LinearGAM(l(0)).fit(X_train, y_train)\n",
    "\n",
    "uni_gam_500_5.gridsearch(X_train, y_train)\n",
    "uni_gam_500_5.summary()"
   ]
  },
  {
   "cell_type": "markdown",
   "id": "a69599b4",
   "metadata": {},
   "source": [
    "### 3.6. Model 6: forbs and shrubs ~ spline(NDVI)"
   ]
  },
  {
   "cell_type": "code",
   "execution_count": 78,
   "id": "280653f8",
   "metadata": {},
   "outputs": [
    {
     "name": "stderr",
     "output_type": "stream",
     "text": [
      "100% (11 of 11) |########################| Elapsed Time: 0:00:00 Time:  0:00:00\n"
     ]
    },
    {
     "name": "stdout",
     "output_type": "stream",
     "text": [
      "LinearGAM                                                                                                 \n",
      "=============================================== ==========================================================\n",
      "Distribution:                        NormalDist Effective DoF:                                      8.8225\n",
      "Link Function:                     IdentityLink Log Likelihood:                                -23940.5195\n",
      "Number of Samples:                         2316 AIC:                                            47900.6838\n",
      "                                                AICc:                                           47900.7761\n",
      "                                                GCV:                                                0.0396\n",
      "                                                Scale:                                              0.0394\n",
      "                                                Pseudo R-Squared:                                   0.1953\n",
      "==========================================================================================================\n",
      "Feature Function                  Lambda               Rank         EDoF         P > x        Sig. Code   \n",
      "================================= ==================== ============ ============ ============ ============\n",
      "s(0)                              [15.8489]            20           8.8          1.11e-16     ***         \n",
      "intercept                                              1            0.0          1.11e-16     ***         \n",
      "==========================================================================================================\n",
      "Significance codes:  0 '***' 0.001 '**' 0.01 '*' 0.05 '.' 0.1 ' ' 1\n",
      "\n",
      "WARNING: Fitting splines and a linear function to a feature introduces a model identifiability problem\n",
      "         which can cause p-values to appear significant when they are not.\n",
      "\n",
      "WARNING: p-values calculated in this manner behave correctly for un-penalized models or models with\n",
      "         known smoothing parameters, but when smoothing parameters have been estimated, the p-values\n",
      "         are typically lower than they should be, meaning that the tests reject the null too readily.\n"
     ]
    },
    {
     "name": "stderr",
     "output_type": "stream",
     "text": [
      "/var/folders/6g/kgz5rml118s6lqw25w5sv5mr0000gn/T/ipykernel_1241/2335926396.py:6: UserWarning: KNOWN BUG: p-values computed in this summary are likely much smaller than they should be. \n",
      " \n",
      "Please do not make inferences based on these values! \n",
      "\n",
      "Collaborate on a solution, and stay up to date at: \n",
      "github.com/dswah/pyGAM/issues/163 \n",
      "\n",
      "  uni_gam_500_6.summary()\n"
     ]
    }
   ],
   "source": [
    "# Model 6\n",
    "warnings.filterwarnings(\"ignore\", category=RuntimeWarning)\n",
    "uni_gam_500_6 = LinearGAM(s(0)).fit(X_train, y_train)\n",
    "\n",
    "uni_gam_500_6.gridsearch(X_train, y_train)\n",
    "uni_gam_500_6.summary()"
   ]
  },
  {
   "cell_type": "code",
   "execution_count": 151,
   "id": "cb9915a7",
   "metadata": {},
   "outputs": [
    {
     "data": {
      "image/png": "[encoded data removed]",
      "text/plain": [
       "<Figure size 432x288 with 1 Axes>"
      ]
     },
     "metadata": {
      "needs_background": "light"
     },
     "output_type": "display_data"
    }
   ],
   "source": [
    "# plotting\n",
    "for i, term in enumerate(uni_gam_500_6.terms):\n",
    "    if term.isintercept:\n",
    "        continue\n",
    "\n",
    "    XX = uni_gam_500_6.generate_X_grid(term=i)\n",
    "    pdep, confi = uni_gam_500_6.partial_dependence(term=i, X=XX, width=0.95)\n",
    "\n",
    "    plt.figure()\n",
    "    plt.plot(XX[:, term.feature], pdep)\n",
    "    plt.hlines(y=0, xmin=0, xmax=1, linewidth=1, color='black', linestyle='--')\n",
    "    plt.plot(XX[:, term.feature], confi, c='r', ls='--')\n",
    "    ax = plt.gca()\n",
    "    ax.set_ylim([-0.35, 0.4])\n",
    "    # set title, xlabel and ylabel\n",
    "    plt.title('Sensitivity of Shrubs density to NDVI\\nfor buffer zones of 500 m', fontsize=18)\n",
    "    plt.xlabel('NDVI', fontsize=18)\n",
    "    plt.ylabel('Change relative to mean\\nShrubs density', fontsize=18)\n",
    "    # save the figure\n",
    "    plt.savefig('thesis_project/visualizations/modelling/univariate/gam_shrubs_500_best_plot_2.png', dpi=300, bbox_inches='tight')\n",
    "    im.open('thesis_project/visualizations/modelling/univariate/gam_shrubs_500_best_plot_2.png').save('thesis_project/visualizations/modelling/univariate/gam_shrubs_500_best_plot_2.bmp')\n",
    "    plt.show()"
   ]
  },
  {
   "cell_type": "code",
   "execution_count": 80,
   "id": "7aef5eb2",
   "metadata": {},
   "outputs": [
    {
     "name": "stdout",
     "output_type": "stream",
     "text": [
      "If NDVI goes from 0.25 to 0.35, shrubs%_500 increases by: 0.08995614653625725\n"
     ]
    }
   ],
   "source": [
    "# Change in low NDVI values: how does shrubs% increase, if NDVI changes from 0.25 to 0.35?\n",
    "shrubs_l0 = uni_gam_500_6.predict(0.25)\n",
    "shrubs_l1 = uni_gam_500_6.predict(0.35)\n",
    "shrubs_sens_low_500 = float(shrubs_l1 - shrubs_l0)\n",
    "print('If NDVI goes from 0.25 to 0.35, shrubs%_500 increases by:', shrubs_sens_low_500)"
   ]
  },
  {
   "cell_type": "code",
   "execution_count": 81,
   "id": "5c004ae6",
   "metadata": {},
   "outputs": [
    {
     "name": "stdout",
     "output_type": "stream",
     "text": [
      "If NDVI goes from 0.45 to 0.55, shrubs%_500 increases by: 0.05122425406062253\n"
     ]
    }
   ],
   "source": [
    "# Change in medium NDVI values: how does shrubs% increase, if NDVI changes from 0.45 to 0.55?\n",
    "shrubs_m0 = uni_gam_500_6.predict(0.45)\n",
    "shrubs_m1 = uni_gam_500_6.predict(0.55)\n",
    "shrubs_sens_mid_500 = float(shrubs_m1 - shrubs_m0)\n",
    "print('If NDVI goes from 0.45 to 0.55, shrubs%_500 increases by:', shrubs_sens_mid_500)"
   ]
  },
  {
   "cell_type": "code",
   "execution_count": 82,
   "id": "ef026c90",
   "metadata": {},
   "outputs": [
    {
     "name": "stdout",
     "output_type": "stream",
     "text": [
      "If NDVI goes from 0.65 to 0.75, shrubs%_500 increases by: -0.04507237314914064\n"
     ]
    }
   ],
   "source": [
    "# Change in high NDVI values: how does shrubs% increase, if NDVI changes from 0.65 to 0.75?\n",
    "shrubs_h0 = uni_gam_500_6.predict(0.65)\n",
    "shrubs_h1 = uni_gam_500_6.predict(0.75)\n",
    "shrubs_sens_hig_500 = float(shrubs_h1 - shrubs_h0)\n",
    "print('If NDVI goes from 0.65 to 0.75, shrubs%_500 increases by:', shrubs_sens_hig_500)"
   ]
  },
  {
   "cell_type": "markdown",
   "id": "fb0fb116",
   "metadata": {},
   "source": [
    "### 3.7. Model 7: grass ~ linear(NDVI)"
   ]
  },
  {
   "cell_type": "code",
   "execution_count": 83,
   "id": "f7bc5b1b",
   "metadata": {},
   "outputs": [],
   "source": [
    "# NDVI_500 as the predictor\n",
    "df = pd.DataFrame(gdf_500, columns=['NDVI_500'])\n",
    "\n",
    "# Grass%_500 as the target\n",
    "target = pd.DataFrame(gdf_500, columns=['Grass%_500'])\n",
    "\n",
    "# define X and y\n",
    "X = df\n",
    "y = target['Grass%_500']\n",
    "\n",
    "# split independent and dependent variables into training and test data\n",
    "X_train, X_test, y_train, y_test = train_test_split(X, y, test_size=0.2, random_state=0)\n",
    "\n",
    "# fit the linear model\n",
    "lm_500 = linear_model.LinearRegression()\n",
    "model_500 = lm_500.fit(X_train,y_train)"
   ]
  },
  {
   "cell_type": "code",
   "execution_count": 84,
   "id": "0839f3ca",
   "metadata": {},
   "outputs": [
    {
     "name": "stderr",
     "output_type": "stream",
     "text": [
      "100% (11 of 11) |########################| Elapsed Time: 0:00:00 Time:  0:00:00\n"
     ]
    },
    {
     "name": "stdout",
     "output_type": "stream",
     "text": [
      "LinearGAM                                                                                                 \n",
      "=============================================== ==========================================================\n",
      "Distribution:                        NormalDist Effective DoF:                                       1.998\n",
      "Link Function:                     IdentityLink Log Likelihood:                                 -158512.13\n",
      "Number of Samples:                         2316 AIC:                                            317030.256\n",
      "                                                AICc:                                          317030.2664\n",
      "                                                GCV:                                                0.0069\n",
      "                                                Scale:                                              0.0069\n",
      "                                                Pseudo R-Squared:                                   0.2992\n",
      "==========================================================================================================\n",
      "Feature Function                  Lambda               Rank         EDoF         P > x        Sig. Code   \n",
      "================================= ==================== ============ ============ ============ ============\n",
      "l(0)                              [0.0631]             1            1.0          1.11e-16     ***         \n",
      "intercept                                              1            1.0          1.04e-14     ***         \n",
      "==========================================================================================================\n",
      "Significance codes:  0 '***' 0.001 '**' 0.01 '*' 0.05 '.' 0.1 ' ' 1\n",
      "\n",
      "WARNING: Fitting splines and a linear function to a feature introduces a model identifiability problem\n",
      "         which can cause p-values to appear significant when they are not.\n",
      "\n",
      "WARNING: p-values calculated in this manner behave correctly for un-penalized models or models with\n",
      "         known smoothing parameters, but when smoothing parameters have been estimated, the p-values\n",
      "         are typically lower than they should be, meaning that the tests reject the null too readily.\n"
     ]
    },
    {
     "name": "stderr",
     "output_type": "stream",
     "text": [
      "/var/folders/6g/kgz5rml118s6lqw25w5sv5mr0000gn/T/ipykernel_1241/972376635.py:6: UserWarning: KNOWN BUG: p-values computed in this summary are likely much smaller than they should be. \n",
      " \n",
      "Please do not make inferences based on these values! \n",
      "\n",
      "Collaborate on a solution, and stay up to date at: \n",
      "github.com/dswah/pyGAM/issues/163 \n",
      "\n",
      "  uni_gam_500_7.summary()\n"
     ]
    }
   ],
   "source": [
    "# Model 7\n",
    "warnings.filterwarnings(\"ignore\", category=RuntimeWarning)\n",
    "uni_gam_500_7 = LinearGAM(l(0)).fit(X_train, y_train)\n",
    "\n",
    "uni_gam_500_7.gridsearch(X_train, y_train)\n",
    "uni_gam_500_7.summary()"
   ]
  },
  {
   "cell_type": "markdown",
   "id": "0dd896cf",
   "metadata": {},
   "source": [
    "### 3.8. Model 8: grass ~ spline(NDVI)"
   ]
  },
  {
   "cell_type": "code",
   "execution_count": 85,
   "id": "876b2947",
   "metadata": {},
   "outputs": [
    {
     "name": "stderr",
     "output_type": "stream",
     "text": [
      "100% (11 of 11) |########################| Elapsed Time: 0:00:00 Time:  0:00:00\n"
     ]
    },
    {
     "name": "stdout",
     "output_type": "stream",
     "text": [
      "LinearGAM                                                                                                 \n",
      "=============================================== ==========================================================\n",
      "Distribution:                        NormalDist Effective DoF:                                      5.2216\n",
      "Link Function:                     IdentityLink Log Likelihood:                               -158651.7219\n",
      "Number of Samples:                         2316 AIC:                                            317315.887\n",
      "                                                AICc:                                          317315.9259\n",
      "                                                GCV:                                                0.0069\n",
      "                                                Scale:                                              0.0069\n",
      "                                                Pseudo R-Squared:                                   0.3018\n",
      "==========================================================================================================\n",
      "Feature Function                  Lambda               Rank         EDoF         P > x        Sig. Code   \n",
      "================================= ==================== ============ ============ ============ ============\n",
      "s(0)                              [251.1886]           20           5.2          1.11e-16     ***         \n",
      "intercept                                              1            0.0          1.11e-16     ***         \n",
      "==========================================================================================================\n",
      "Significance codes:  0 '***' 0.001 '**' 0.01 '*' 0.05 '.' 0.1 ' ' 1\n",
      "\n",
      "WARNING: Fitting splines and a linear function to a feature introduces a model identifiability problem\n",
      "         which can cause p-values to appear significant when they are not.\n",
      "\n",
      "WARNING: p-values calculated in this manner behave correctly for un-penalized models or models with\n",
      "         known smoothing parameters, but when smoothing parameters have been estimated, the p-values\n",
      "         are typically lower than they should be, meaning that the tests reject the null too readily.\n"
     ]
    },
    {
     "name": "stderr",
     "output_type": "stream",
     "text": [
      "/var/folders/6g/kgz5rml118s6lqw25w5sv5mr0000gn/T/ipykernel_1241/2750512757.py:6: UserWarning: KNOWN BUG: p-values computed in this summary are likely much smaller than they should be. \n",
      " \n",
      "Please do not make inferences based on these values! \n",
      "\n",
      "Collaborate on a solution, and stay up to date at: \n",
      "github.com/dswah/pyGAM/issues/163 \n",
      "\n",
      "  uni_gam_500_8.summary()\n"
     ]
    }
   ],
   "source": [
    "# Model 8\n",
    "warnings.filterwarnings(\"ignore\", category=RuntimeWarning)\n",
    "uni_gam_500_8 = LinearGAM(s(0)).fit(X_train, y_train)\n",
    "\n",
    "uni_gam_500_8.gridsearch(X_train, y_train)\n",
    "uni_gam_500_8.summary()"
   ]
  },
  {
   "cell_type": "code",
   "execution_count": 150,
   "id": "96c1d48c",
   "metadata": {},
   "outputs": [
    {
     "data": {
      "image/png": "[encoded data removed]",
      "text/plain": [
       "<Figure size 432x288 with 1 Axes>"
      ]
     },
     "metadata": {
      "needs_background": "light"
     },
     "output_type": "display_data"
    }
   ],
   "source": [
    "# plotting\n",
    "for i, term in enumerate(uni_gam_500_7.terms):\n",
    "    if term.isintercept:\n",
    "        continue\n",
    "\n",
    "    XX = uni_gam_500_7.generate_X_grid(term=i)\n",
    "    pdep, confi = uni_gam_500_7.partial_dependence(term=i, X=XX, width=0.95)\n",
    "\n",
    "    plt.figure()\n",
    "    plt.plot(XX[:, term.feature], pdep)\n",
    "    plt.hlines(y=0, xmin=0, xmax=1, linewidth=1, color='black', linestyle='--')\n",
    "    plt.plot(XX[:, term.feature], confi, c='r', ls='--')\n",
    "    ax = plt.gca()\n",
    "    ax.set_ylim([-0.35, 0.4])\n",
    "    # set title, xlabel and ylabel\n",
    "    plt.title('Sensitivity of Grass density to NDVI\\nfor buffer zones of 500 m', fontsize=18)\n",
    "    plt.xlabel('NDVI', fontsize=18)\n",
    "    plt.ylabel('Change relative to mean\\nGrass density', fontsize=18)\n",
    "    # save the figure\n",
    "    plt.savefig('thesis_project/visualizations/modelling/univariate/gam_grass_500_best_plot_2.png', dpi=300, bbox_inches='tight')\n",
    "    im.open('thesis_project/visualizations/modelling/univariate/gam_grass_500_best_plot_2.png').save('thesis_project/visualizations/modelling/univariate/gam_grass_500_best_plot_2.bmp')\n",
    "    plt.show()"
   ]
  },
  {
   "cell_type": "code",
   "execution_count": 87,
   "id": "14a955a9",
   "metadata": {},
   "outputs": [
    {
     "name": "stdout",
     "output_type": "stream",
     "text": [
      "If NDVI goes from 0.25 to 0.35, grass%_500 increases by: 0.04654250928086064\n"
     ]
    }
   ],
   "source": [
    "# Change in low NDVI values: how does grass% increase, if NDVI changes from 0.25 to 0.35?\n",
    "grass_l0 = uni_gam_500_7.predict(0.25)\n",
    "grass_l1 = uni_gam_500_7.predict(0.35)\n",
    "grass_sens_low_500 = float(grass_l1 - grass_l0)\n",
    "print('If NDVI goes from 0.25 to 0.35, grass%_500 increases by:', grass_sens_low_500)"
   ]
  },
  {
   "cell_type": "code",
   "execution_count": 88,
   "id": "e116e05d",
   "metadata": {},
   "outputs": [
    {
     "name": "stdout",
     "output_type": "stream",
     "text": [
      "If NDVI goes from 0.45 to 0.55, grass%_500 increases by: 0.04654250928086068\n"
     ]
    }
   ],
   "source": [
    "# Change in medium NDVI values: how does grass% increase, if NDVI changes from 0.45 to 0.55?\n",
    "grass_m0 = uni_gam_500_7.predict(0.45)\n",
    "grass_m1 = uni_gam_500_7.predict(0.55)\n",
    "grass_sens_mid_500 = float(grass_m1 - grass_m0)\n",
    "print('If NDVI goes from 0.45 to 0.55, grass%_500 increases by:', grass_sens_mid_500)"
   ]
  },
  {
   "cell_type": "code",
   "execution_count": 89,
   "id": "d08caffe",
   "metadata": {},
   "outputs": [
    {
     "name": "stdout",
     "output_type": "stream",
     "text": [
      "If NDVI goes from 0.65 to 0.75, grass%_500 increases by: 0.04654250928086062\n"
     ]
    }
   ],
   "source": [
    "# Change in high NDVI values: how does grass% increase, if NDVI changes from 0.65 to 0.75?\n",
    "grass_h0 = uni_gam_500_7.predict(0.65)\n",
    "grass_h1 = uni_gam_500_7.predict(0.75)\n",
    "grass_sens_hig_500 = float(grass_h1 - grass_h0)\n",
    "print('If NDVI goes from 0.65 to 0.75, grass%_500 increases by:', grass_sens_hig_500)"
   ]
  },
  {
   "cell_type": "markdown",
   "id": "5e5b7c1b",
   "metadata": {},
   "source": [
    "## 4. Prediction sensitivity analysis"
   ]
  },
  {
   "cell_type": "markdown",
   "id": "ecd57d5a",
   "metadata": {},
   "source": [
    "### 4.1. Sensitivity of vegetation types to increments in mean NDVI for a buffer zone of 100 m"
   ]
  },
  {
   "cell_type": "code",
   "execution_count": 90,
   "id": "d3881cc6",
   "metadata": {},
   "outputs": [
    {
     "data": {
      "text/html": [
       "<div>\n",
       "<style scoped>\n",
       "    .dataframe tbody tr th:only-of-type {\n",
       "        vertical-align: middle;\n",
       "    }\n",
       "\n",
       "    .dataframe tbody tr th {\n",
       "        vertical-align: top;\n",
       "    }\n",
       "\n",
       "    .dataframe thead th {\n",
       "        text-align: right;\n",
       "    }\n",
       "</style>\n",
       "<table border=\"1\" class=\"dataframe\">\n",
       "  <thead>\n",
       "    <tr style=\"text-align: right;\">\n",
       "      <th></th>\n",
       "      <th>Increment in mean NDVI</th>\n",
       "      <th>Greenspace%_100</th>\n",
       "      <th>Canopy%_100</th>\n",
       "      <th>Shrubs%_100</th>\n",
       "      <th>Grass%_100</th>\n",
       "    </tr>\n",
       "  </thead>\n",
       "  <tbody>\n",
       "    <tr>\n",
       "      <th>0</th>\n",
       "      <td>Low-range (0.25 to 0.35)</td>\n",
       "      <td>0.18946</td>\n",
       "      <td>0.04340</td>\n",
       "      <td>0.10792</td>\n",
       "      <td>0.04898</td>\n",
       "    </tr>\n",
       "    <tr>\n",
       "      <th>1</th>\n",
       "      <td>Mid-range (0.45 to 0.55)</td>\n",
       "      <td>0.11856</td>\n",
       "      <td>0.03941</td>\n",
       "      <td>0.06819</td>\n",
       "      <td>0.03419</td>\n",
       "    </tr>\n",
       "    <tr>\n",
       "      <th>2</th>\n",
       "      <td>High-range (0.65 to 0.75)</td>\n",
       "      <td>0.03662</td>\n",
       "      <td>-0.20044</td>\n",
       "      <td>-0.00550</td>\n",
       "      <td>0.23357</td>\n",
       "    </tr>\n",
       "  </tbody>\n",
       "</table>\n",
       "</div>"
      ],
      "text/plain": [
       "      Increment in mean NDVI  Greenspace%_100  Canopy%_100  Shrubs%_100  \\\n",
       "0   Low-range (0.25 to 0.35)          0.18946      0.04340      0.10792   \n",
       "1   Mid-range (0.45 to 0.55)          0.11856      0.03941      0.06819   \n",
       "2  High-range (0.65 to 0.75)          0.03662     -0.20044     -0.00550   \n",
       "\n",
       "   Grass%_100  \n",
       "0     0.04898  \n",
       "1     0.03419  \n",
       "2     0.23357  "
      ]
     },
     "execution_count": 90,
     "metadata": {},
     "output_type": "execute_result"
    }
   ],
   "source": [
    "# vegetation metrics sensitivity to changes in NDVI\n",
    "data_100 = {'Increment in mean NDVI': ['Low-range (0.25 to 0.35)', 'Mid-range (0.45 to 0.55)', 'High-range (0.65 to 0.75)'], \n",
    "        'Greenspace%_100': [green_sens_low, green_sens_mid, green_sens_hig],\n",
    "        'Canopy%_100': [canopy_sens_low, canopy_sens_mid, canopy_sens_hig], \n",
    "        'Shrubs%_100': [shrubs_sens_low, shrubs_sens_mid, shrubs_sens_hig],\n",
    "        'Grass%_100': [grass_sens_low, grass_sens_mid, grass_sens_hig]}  \n",
    "  \n",
    "# create DataFrame  \n",
    "df_sens_100 = pd.DataFrame(data_100)\n",
    "df_sens_100 = df_sens_100.round(5)\n",
    "df_sens_100.head()"
   ]
  },
  {
   "cell_type": "code",
   "execution_count": 91,
   "id": "f477c27d",
   "metadata": {},
   "outputs": [
    {
     "data": {
      "image/png": "[encoded data removed]",
      "text/plain": [
       "<Figure size 432x288 with 1 Axes>"
      ]
     },
     "metadata": {
      "needs_background": "light"
     },
     "output_type": "display_data"
    }
   ],
   "source": [
    "# plotting\n",
    "fig, ax = plt.subplots()\n",
    "\n",
    "# hide axes\n",
    "fig.patch.set_visible(False)\n",
    "ax.axis('off')\n",
    "ax.axis('tight')\n",
    "\n",
    "ax.table(cellText=df_sens_100.values, colLabels=df_sens_100.columns, loc='center')\n",
    "\n",
    "fig.tight_layout()\n",
    "\n",
    "# save the figure\n",
    "plt.savefig('thesis_project/visualizations/modelling/univariate/sensitivity_100_table_2.png', dpi=300, bbox_inches='tight')\n",
    "\n",
    "plt.show()"
   ]
  },
  {
   "cell_type": "markdown",
   "id": "5dfe56f6",
   "metadata": {},
   "source": [
    "### 4.2. Sensitivity of vegetation types to increments in mean NDVI for a buffer zone of 300 m"
   ]
  },
  {
   "cell_type": "code",
   "execution_count": 92,
   "id": "7e8c3d6a",
   "metadata": {},
   "outputs": [
    {
     "data": {
      "text/html": [
       "<div>\n",
       "<style scoped>\n",
       "    .dataframe tbody tr th:only-of-type {\n",
       "        vertical-align: middle;\n",
       "    }\n",
       "\n",
       "    .dataframe tbody tr th {\n",
       "        vertical-align: top;\n",
       "    }\n",
       "\n",
       "    .dataframe thead th {\n",
       "        text-align: right;\n",
       "    }\n",
       "</style>\n",
       "<table border=\"1\" class=\"dataframe\">\n",
       "  <thead>\n",
       "    <tr style=\"text-align: right;\">\n",
       "      <th></th>\n",
       "      <th>Increment in mean NDVI</th>\n",
       "      <th>Greenspace%_300</th>\n",
       "      <th>Canopy%_300</th>\n",
       "      <th>Shrubs%_300</th>\n",
       "      <th>Grass%_300</th>\n",
       "    </tr>\n",
       "  </thead>\n",
       "  <tbody>\n",
       "    <tr>\n",
       "      <th>0</th>\n",
       "      <td>Low-range (0.25 to 0.35)</td>\n",
       "      <td>0.2075</td>\n",
       "      <td>0.0388</td>\n",
       "      <td>0.1147</td>\n",
       "      <td>0.0518</td>\n",
       "    </tr>\n",
       "    <tr>\n",
       "      <th>1</th>\n",
       "      <td>Mid-range (0.45 to 0.55)</td>\n",
       "      <td>0.1257</td>\n",
       "      <td>0.0243</td>\n",
       "      <td>0.0620</td>\n",
       "      <td>0.0358</td>\n",
       "    </tr>\n",
       "    <tr>\n",
       "      <th>2</th>\n",
       "      <td>High-range (0.65 to 0.75)</td>\n",
       "      <td>0.0542</td>\n",
       "      <td>-0.0579</td>\n",
       "      <td>-0.0304</td>\n",
       "      <td>0.1509</td>\n",
       "    </tr>\n",
       "  </tbody>\n",
       "</table>\n",
       "</div>"
      ],
      "text/plain": [
       "      Increment in mean NDVI  Greenspace%_300  Canopy%_300  Shrubs%_300  \\\n",
       "0   Low-range (0.25 to 0.35)           0.2075       0.0388       0.1147   \n",
       "1   Mid-range (0.45 to 0.55)           0.1257       0.0243       0.0620   \n",
       "2  High-range (0.65 to 0.75)           0.0542      -0.0579      -0.0304   \n",
       "\n",
       "   Grass%_300  \n",
       "0      0.0518  \n",
       "1      0.0358  \n",
       "2      0.1509  "
      ]
     },
     "execution_count": 92,
     "metadata": {},
     "output_type": "execute_result"
    }
   ],
   "source": [
    "# vegetation metrics sensitivity to changes in NDVI\n",
    "data_300 = {'Increment in mean NDVI': ['Low-range (0.25 to 0.35)', 'Mid-range (0.45 to 0.55)', 'High-range (0.65 to 0.75)'], \n",
    "        'Greenspace%_300': [green_sens_low_300, green_sens_mid_300, green_sens_hig_300],\n",
    "        'Canopy%_300': [canopy_sens_low_300, canopy_sens_mid_300, canopy_sens_hig_300], \n",
    "        'Shrubs%_300': [shrubs_sens_low_300, shrubs_sens_mid_300, shrubs_sens_hig_300],\n",
    "        'Grass%_300': [grass_sens_low_300, grass_sens_mid_300, grass_sens_hig_300]}  \n",
    "  \n",
    "# create DataFrame  \n",
    "df_sens_300 = pd.DataFrame(data_300)\n",
    "df_sens_300 = df_sens_300.round(4)\n",
    "df_sens_300.head()"
   ]
  },
  {
   "cell_type": "code",
   "execution_count": 93,
   "id": "1c677c59",
   "metadata": {},
   "outputs": [
    {
     "data": {
      "image/png": "[encoded data removed]",
      "text/plain": [
       "<Figure size 432x288 with 1 Axes>"
      ]
     },
     "metadata": {
      "needs_background": "light"
     },
     "output_type": "display_data"
    }
   ],
   "source": [
    "# plotting\n",
    "fig, ax = plt.subplots()\n",
    "\n",
    "# hide axes\n",
    "fig.patch.set_visible(False)\n",
    "ax.axis('off')\n",
    "ax.axis('tight')\n",
    "\n",
    "ax.table(cellText=df_sens_300.values, colLabels=df_sens_300.columns, loc='center')\n",
    "\n",
    "fig.tight_layout()\n",
    "\n",
    "# save the figure\n",
    "plt.savefig('thesis_project/visualizations/modelling/univariate/sensitivity_300_table_2.png', dpi=300, bbox_inches='tight')\n",
    "\n",
    "plt.show()"
   ]
  },
  {
   "cell_type": "markdown",
   "id": "983bbab1",
   "metadata": {},
   "source": [
    "### 4.3. Sensitivity of vegetation types to increments in mean NDVI for a buffer zone of 500 m"
   ]
  },
  {
   "cell_type": "code",
   "execution_count": 94,
   "id": "467b27b2",
   "metadata": {
    "scrolled": true
   },
   "outputs": [
    {
     "data": {
      "text/html": [
       "<div>\n",
       "<style scoped>\n",
       "    .dataframe tbody tr th:only-of-type {\n",
       "        vertical-align: middle;\n",
       "    }\n",
       "\n",
       "    .dataframe tbody tr th {\n",
       "        vertical-align: top;\n",
       "    }\n",
       "\n",
       "    .dataframe thead th {\n",
       "        text-align: right;\n",
       "    }\n",
       "</style>\n",
       "<table border=\"1\" class=\"dataframe\">\n",
       "  <thead>\n",
       "    <tr style=\"text-align: right;\">\n",
       "      <th></th>\n",
       "      <th>Increment in mean NDVI</th>\n",
       "      <th>Greenspace%_500</th>\n",
       "      <th>Canopy%_500</th>\n",
       "      <th>Shrubs%_500</th>\n",
       "      <th>Grass%_500</th>\n",
       "    </tr>\n",
       "  </thead>\n",
       "  <tbody>\n",
       "    <tr>\n",
       "      <th>0</th>\n",
       "      <td>Low-range (0.25 to 0.35)</td>\n",
       "      <td>0.1822</td>\n",
       "      <td>0.0379</td>\n",
       "      <td>0.0900</td>\n",
       "      <td>0.0465</td>\n",
       "    </tr>\n",
       "    <tr>\n",
       "      <th>1</th>\n",
       "      <td>Mid-range (0.45 to 0.55)</td>\n",
       "      <td>0.1223</td>\n",
       "      <td>0.0165</td>\n",
       "      <td>0.0512</td>\n",
       "      <td>0.0465</td>\n",
       "    </tr>\n",
       "    <tr>\n",
       "      <th>2</th>\n",
       "      <td>High-range (0.65 to 0.75)</td>\n",
       "      <td>0.0668</td>\n",
       "      <td>-0.0017</td>\n",
       "      <td>-0.0451</td>\n",
       "      <td>0.0465</td>\n",
       "    </tr>\n",
       "  </tbody>\n",
       "</table>\n",
       "</div>"
      ],
      "text/plain": [
       "      Increment in mean NDVI  Greenspace%_500  Canopy%_500  Shrubs%_500  \\\n",
       "0   Low-range (0.25 to 0.35)           0.1822       0.0379       0.0900   \n",
       "1   Mid-range (0.45 to 0.55)           0.1223       0.0165       0.0512   \n",
       "2  High-range (0.65 to 0.75)           0.0668      -0.0017      -0.0451   \n",
       "\n",
       "   Grass%_500  \n",
       "0      0.0465  \n",
       "1      0.0465  \n",
       "2      0.0465  "
      ]
     },
     "execution_count": 94,
     "metadata": {},
     "output_type": "execute_result"
    }
   ],
   "source": [
    "# vegetation metrics sensitivity to changes in NDVI\n",
    "data_500 = {'Increment in mean NDVI': ['Low-range (0.25 to 0.35)', 'Mid-range (0.45 to 0.55)', 'High-range (0.65 to 0.75)'], \n",
    "        'Greenspace%_500': [green_sens_low_500, green_sens_mid_500, green_sens_hig_500],\n",
    "        'Canopy%_500': [canopy_sens_low_500, canopy_sens_mid_500, canopy_sens_hig_500], \n",
    "        'Shrubs%_500': [shrubs_sens_low_500, shrubs_sens_mid_500, shrubs_sens_hig_500],\n",
    "        'Grass%_500': [grass_sens_low_500, grass_sens_mid_500, grass_sens_hig_500]}  \n",
    "  \n",
    "# create DataFrame  \n",
    "df_sens_500 = pd.DataFrame(data_500)\n",
    "df_sens_500 = df_sens_500.round(4)\n",
    "df_sens_500.head()"
   ]
  },
  {
   "cell_type": "code",
   "execution_count": 95,
   "id": "2296412f",
   "metadata": {
    "scrolled": true
   },
   "outputs": [
    {
     "data": {
      "image/png": "[encoded data removed]",
      "text/plain": [
       "<Figure size 432x288 with 1 Axes>"
      ]
     },
     "metadata": {
      "needs_background": "light"
     },
     "output_type": "display_data"
    }
   ],
   "source": [
    "# plotting\n",
    "fig, ax = plt.subplots()\n",
    "\n",
    "# hide axes\n",
    "fig.patch.set_visible(False)\n",
    "ax.axis('off')\n",
    "ax.axis('tight')\n",
    "\n",
    "ax.table(cellText=df_sens_500.values, colLabels=df_sens_500.columns, loc='center')\n",
    "\n",
    "fig.tight_layout()\n",
    "\n",
    "# save the figure\n",
    "plt.savefig('thesis_project/visualizations/modelling/univariate/sensitivity_500_table_2.png', dpi=300, bbox_inches='tight')\n",
    "\n",
    "plt.show()"
   ]
  }
 ],
 "metadata": {
  "kernelspec": {
   "display_name": "Python 3 (ipykernel)",
   "language": "python",
   "name": "python3"
  },
  "language_info": {
   "codemirror_mode": {
    "name": "ipython",
    "version": 3
   },
   "file_extension": ".py",
   "mimetype": "text/x-python",
   "name": "python",
   "nbconvert_exporter": "python",
   "pygments_lexer": "ipython3",
   "version": "3.9.10"
  }
 },
 "nbformat": 4,
 "nbformat_minor": 5
}
