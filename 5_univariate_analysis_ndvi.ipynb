{
 "cells": [
  {
   "cell_type": "markdown",
   "id": "9744e7bb",
   "metadata": {},
   "source": [
    "# Univariate analysis NDVI"
   ]
  },
  {
   "cell_type": "code",
   "execution_count": 1,
   "id": "febe111d",
   "metadata": {},
   "outputs": [],
   "source": [
    "import numpy as np\n",
    "import pandas as pd\n",
    "import geopandas as gpd\n",
    "import matplotlib.pyplot as plt\n",
    "import warnings\n",
    "from pygam import LinearGAM, s, l\n",
    "from sklearn import linear_model, metrics\n",
    "from sklearn.model_selection import train_test_split\n",
    "from sklearn.metrics import accuracy_score\n",
    "from PIL import Image as im"
   ]
  },
  {
   "cell_type": "code",
   "execution_count": 2,
   "id": "aeed14f2",
   "metadata": {},
   "outputs": [],
   "source": [
    "#! pip install pygam"
   ]
  },
  {
   "cell_type": "markdown",
   "id": "c6cf24c0",
   "metadata": {},
   "source": [
    "## 1. Modeling vegetation densities for buffer distances of 100 meters"
   ]
  },
  {
   "cell_type": "code",
   "execution_count": 3,
   "id": "8e0e7418",
   "metadata": {},
   "outputs": [
    {
     "data": {
      "text/html": [
       "<div>\n",
       "<style scoped>\n",
       "    .dataframe tbody tr th:only-of-type {\n",
       "        vertical-align: middle;\n",
       "    }\n",
       "\n",
       "    .dataframe tbody tr th {\n",
       "        vertical-align: top;\n",
       "    }\n",
       "\n",
       "    .dataframe thead th {\n",
       "        text-align: right;\n",
       "    }\n",
       "</style>\n",
       "<table border=\"1\" class=\"dataframe\">\n",
       "  <thead>\n",
       "    <tr style=\"text-align: right;\">\n",
       "      <th></th>\n",
       "      <th>NDVI_100</th>\n",
       "      <th>Greenspace%_100</th>\n",
       "      <th>Canopy%_100</th>\n",
       "      <th>Grass%_100</th>\n",
       "      <th>Shrubs%_100</th>\n",
       "      <th>geometry</th>\n",
       "    </tr>\n",
       "  </thead>\n",
       "  <tbody>\n",
       "    <tr>\n",
       "      <th>0</th>\n",
       "      <td>0.536433</td>\n",
       "      <td>0.414039</td>\n",
       "      <td>0.201814</td>\n",
       "      <td>0.097506</td>\n",
       "      <td>0.106576</td>\n",
       "      <td>POINT (377971.171 402346.176)</td>\n",
       "    </tr>\n",
       "    <tr>\n",
       "      <th>1</th>\n",
       "      <td>0.571965</td>\n",
       "      <td>0.551457</td>\n",
       "      <td>0.108844</td>\n",
       "      <td>0.072562</td>\n",
       "      <td>0.340136</td>\n",
       "      <td>POINT (364310.461 403435.100)</td>\n",
       "    </tr>\n",
       "    <tr>\n",
       "      <th>2</th>\n",
       "      <td>0.455587</td>\n",
       "      <td>0.256395</td>\n",
       "      <td>0.129252</td>\n",
       "      <td>0.092971</td>\n",
       "      <td>0.043084</td>\n",
       "      <td>POINT (369566.841 406840.228)</td>\n",
       "    </tr>\n",
       "    <tr>\n",
       "      <th>3</th>\n",
       "      <td>0.816160</td>\n",
       "      <td>0.942891</td>\n",
       "      <td>0.009070</td>\n",
       "      <td>0.249433</td>\n",
       "      <td>0.068027</td>\n",
       "      <td>POINT (354567.818 412168.416)</td>\n",
       "    </tr>\n",
       "    <tr>\n",
       "      <th>4</th>\n",
       "      <td>0.526997</td>\n",
       "      <td>0.388459</td>\n",
       "      <td>0.217687</td>\n",
       "      <td>0.061224</td>\n",
       "      <td>0.111111</td>\n",
       "      <td>POINT (388526.382 403175.927)</td>\n",
       "    </tr>\n",
       "  </tbody>\n",
       "</table>\n",
       "</div>"
      ],
      "text/plain": [
       "   NDVI_100  Greenspace%_100  Canopy%_100  Grass%_100  Shrubs%_100  \\\n",
       "0  0.536433         0.414039     0.201814    0.097506     0.106576   \n",
       "1  0.571965         0.551457     0.108844    0.072562     0.340136   \n",
       "2  0.455587         0.256395     0.129252    0.092971     0.043084   \n",
       "3  0.816160         0.942891     0.009070    0.249433     0.068027   \n",
       "4  0.526997         0.388459     0.217687    0.061224     0.111111   \n",
       "\n",
       "                        geometry  \n",
       "0  POINT (377971.171 402346.176)  \n",
       "1  POINT (364310.461 403435.100)  \n",
       "2  POINT (369566.841 406840.228)  \n",
       "3  POINT (354567.818 412168.416)  \n",
       "4  POINT (388526.382 403175.927)  "
      ]
     },
     "execution_count": 3,
     "metadata": {},
     "output_type": "execute_result"
    }
   ],
   "source": [
    "# load greenspace metrics at 100m geodataframe\n",
    "gdf_100 = gpd.read_file(\"thesis_project/output/dataframes/greenspace_metrics_100_df.json\")\n",
    "gdf_100.head()"
   ]
  },
  {
   "cell_type": "markdown",
   "id": "821fbc94",
   "metadata": {},
   "source": [
    "### 1.1. Model 1: greenspace ~ linear(NDVI)"
   ]
  },
  {
   "cell_type": "code",
   "execution_count": 4,
   "id": "24238424",
   "metadata": {},
   "outputs": [],
   "source": [
    "# data/predictors as the NDVI_100\n",
    "df_100 = pd.DataFrame(gdf_100, columns=['NDVI_100'])\n",
    "\n",
    "# target as Greenspace%_100\n",
    "target_100 = pd.DataFrame(gdf_100, columns=['Greenspace%_100'])\n",
    "\n",
    "# define X and Y\n",
    "X = df_100\n",
    "y = target_100['Greenspace%_100']\n",
    "\n",
    "# split independent and dependent variables into training and test data\n",
    "X_train, X_test, y_train, y_test = train_test_split(X, y, test_size=0.2, random_state=0)"
   ]
  },
  {
   "cell_type": "code",
   "execution_count": 5,
   "id": "d4851ec5",
   "metadata": {},
   "outputs": [
    {
     "name": "stderr",
     "output_type": "stream",
     "text": [
      "100% (11 of 11) |########################| Elapsed Time: 0:00:00 Time:  0:00:00\n"
     ]
    },
    {
     "name": "stdout",
     "output_type": "stream",
     "text": [
      "LinearGAM                                                                                                 \n",
      "=============================================== ==========================================================\n",
      "Distribution:                        NormalDist Effective DoF:                                      1.9998\n",
      "Link Function:                     IdentityLink Log Likelihood:                                -80696.7802\n",
      "Number of Samples:                         4673 AIC:                                           161399.5601\n",
      "                                                AICc:                                          161399.5652\n",
      "                                                GCV:                                                 0.025\n",
      "                                                Scale:                                              0.0249\n",
      "                                                Pseudo R-Squared:                                   0.6672\n",
      "==========================================================================================================\n",
      "Feature Function                  Lambda               Rank         EDoF         P > x        Sig. Code   \n",
      "================================= ==================== ============ ============ ============ ============\n",
      "l(0)                              [0.0158]             1            1.0          1.11e-16     ***         \n",
      "intercept                                              1            1.0          1.11e-16     ***         \n",
      "==========================================================================================================\n",
      "Significance codes:  0 '***' 0.001 '**' 0.01 '*' 0.05 '.' 0.1 ' ' 1\n",
      "\n",
      "WARNING: Fitting splines and a linear function to a feature introduces a model identifiability problem\n",
      "         which can cause p-values to appear significant when they are not.\n",
      "\n",
      "WARNING: p-values calculated in this manner behave correctly for un-penalized models or models with\n",
      "         known smoothing parameters, but when smoothing parameters have been estimated, the p-values\n",
      "         are typically lower than they should be, meaning that the tests reject the null too readily.\n"
     ]
    },
    {
     "name": "stderr",
     "output_type": "stream",
     "text": [
      "/var/folders/6g/kgz5rml118s6lqw25w5sv5mr0000gn/T/ipykernel_15271/161998086.py:6: UserWarning: KNOWN BUG: p-values computed in this summary are likely much smaller than they should be. \n",
      " \n",
      "Please do not make inferences based on these values! \n",
      "\n",
      "Collaborate on a solution, and stay up to date at: \n",
      "github.com/dswah/pyGAM/issues/163 \n",
      "\n",
      "  uni_gam_100_1.summary()\n"
     ]
    }
   ],
   "source": [
    "# Model 1\n",
    "warnings.filterwarnings(\"ignore\", category=RuntimeWarning)\n",
    "uni_gam_100_1 = LinearGAM(l(0)).fit(X_train, y_train)\n",
    "\n",
    "uni_gam_100_1.gridsearch(X_train, y_train)\n",
    "uni_gam_100_1.summary()"
   ]
  },
  {
   "cell_type": "markdown",
   "id": "e56f27b9",
   "metadata": {},
   "source": [
    "### 1.2. Model 2: greenspace ~ spline(NDVI)"
   ]
  },
  {
   "cell_type": "code",
   "execution_count": 6,
   "id": "91a31661",
   "metadata": {},
   "outputs": [
    {
     "name": "stderr",
     "output_type": "stream",
     "text": [
      "100% (11 of 11) |########################| Elapsed Time: 0:00:00 Time:  0:00:00\n"
     ]
    },
    {
     "name": "stdout",
     "output_type": "stream",
     "text": [
      "LinearGAM                                                                                                 \n",
      "=============================================== ==========================================================\n",
      "Distribution:                        NormalDist Effective DoF:                                      6.9404\n",
      "Link Function:                     IdentityLink Log Likelihood:                                -88160.4417\n",
      "Number of Samples:                         4673 AIC:                                           176336.7644\n",
      "                                                AICc:                                          176336.7948\n",
      "                                                GCV:                                                 0.023\n",
      "                                                Scale:                                               0.023\n",
      "                                                Pseudo R-Squared:                                   0.6936\n",
      "==========================================================================================================\n",
      "Feature Function                  Lambda               Rank         EDoF         P > x        Sig. Code   \n",
      "================================= ==================== ============ ============ ============ ============\n",
      "s(0)                              [63.0957]            20           6.9          1.11e-16     ***         \n",
      "intercept                                              1            0.0          1.11e-16     ***         \n",
      "==========================================================================================================\n",
      "Significance codes:  0 '***' 0.001 '**' 0.01 '*' 0.05 '.' 0.1 ' ' 1\n",
      "\n",
      "WARNING: Fitting splines and a linear function to a feature introduces a model identifiability problem\n",
      "         which can cause p-values to appear significant when they are not.\n",
      "\n",
      "WARNING: p-values calculated in this manner behave correctly for un-penalized models or models with\n",
      "         known smoothing parameters, but when smoothing parameters have been estimated, the p-values\n",
      "         are typically lower than they should be, meaning that the tests reject the null too readily.\n"
     ]
    },
    {
     "name": "stderr",
     "output_type": "stream",
     "text": [
      "/var/folders/6g/kgz5rml118s6lqw25w5sv5mr0000gn/T/ipykernel_15271/2437069232.py:6: UserWarning: KNOWN BUG: p-values computed in this summary are likely much smaller than they should be. \n",
      " \n",
      "Please do not make inferences based on these values! \n",
      "\n",
      "Collaborate on a solution, and stay up to date at: \n",
      "github.com/dswah/pyGAM/issues/163 \n",
      "\n",
      "  uni_gam_100_2.summary()\n"
     ]
    }
   ],
   "source": [
    "# Model 2\n",
    "warnings.filterwarnings(\"ignore\", category=RuntimeWarning)\n",
    "uni_gam_100_2 = LinearGAM(s(0)).fit(X_train, y_train)\n",
    "\n",
    "uni_gam_100_2.gridsearch(X_train, y_train)\n",
    "uni_gam_100_2.summary()"
   ]
  },
  {
   "cell_type": "code",
   "execution_count": 97,
   "id": "616e2947",
   "metadata": {},
   "outputs": [
    {
     "data": {
      "image/png": "[encoded data removed]",
      "text/plain": [
       "<Figure size 432x288 with 1 Axes>"
      ]
     },
     "metadata": {
      "needs_background": "light"
     },
     "output_type": "display_data"
    }
   ],
   "source": [
    "# plotting best greenspace_100 model\n",
    "for i, term in enumerate(uni_gam_100_2.terms):\n",
    "    if term.isintercept:\n",
    "        continue\n",
    "\n",
    "    XX = uni_gam_100_2.generate_X_grid(term=i)\n",
    "    pdep, confi = uni_gam_100_2.partial_dependence(term=i, X=XX, width=0.95)\n",
    "\n",
    "    plt.figure()\n",
    "    plt.plot(XX[:, term.feature], pdep)\n",
    "    plt.hlines(y=0, xmin=0, xmax=1, linewidth=1, color='black', linestyle='--')\n",
    "    plt.plot(XX[:, term.feature], confi, c='r', ls='--')\n",
    "    # set title, xlabel and ylabel\n",
    "    plt.title('Sensitivity of Greenspace to NDVI\\nfor buffer zones of 100 m', fontsize=12)\n",
    "    plt.xlabel('NDVI', fontsize=12)\n",
    "    plt.ylabel('Change relative to mean\\nGreenspace', fontsize=12)\n",
    "    # save the figure\n",
    "    plt.savefig('thesis_project/visualizations/modelling/univariate/gam_greenspace_100_best_plot.png', dpi=300, bbox_inches='tight')\n",
    "    im.open('thesis_project/visualizations/modelling/univariate/gam_greenspace_100_best_plot.png').save('thesis_project/visualizations/modelling/univariate/gam_greenspace_100_best_plot.bmp')\n",
    "    plt.show()"
   ]
  },
  {
   "cell_type": "code",
   "execution_count": 8,
   "id": "b11fd028",
   "metadata": {},
   "outputs": [
    {
     "name": "stdout",
     "output_type": "stream",
     "text": [
      "If NDVI goes from 0.25 to 0.35, Greenspace%_100 increases by: 0.10103401447920335\n"
     ]
    }
   ],
   "source": [
    "# Change in low NDVI values: how does Greenspace% increase, if NDVI changes from 0.25 to 0.35?\n",
    "green_l0 = uni_gam_100_2.predict(0.25)\n",
    "green_l1 = uni_gam_100_2.predict(0.35)\n",
    "green_sens_low = float(green_l1 - green_l0)\n",
    "print('If NDVI goes from 0.25 to 0.35, Greenspace%_100 increases by:', green_sens_low)"
   ]
  },
  {
   "cell_type": "code",
   "execution_count": 9,
   "id": "d37ac440",
   "metadata": {},
   "outputs": [
    {
     "name": "stdout",
     "output_type": "stream",
     "text": [
      "If NDVI goes from 0.45 to 0.55, Greenspace%_100 increases by: 0.21570574291750838\n"
     ]
    }
   ],
   "source": [
    "# Change in mid NDVI values: how does Greenspace% increase, if NDVI changes from 0.45 to 0.55?\n",
    "green_m0 = uni_gam_100_2.predict(0.45)\n",
    "green_m1 = uni_gam_100_2.predict(0.55)\n",
    "green_sens_mid = float(green_m1 - green_m0)\n",
    "print('If NDVI goes from 0.45 to 0.55, Greenspace%_100 increases by:', green_sens_mid)"
   ]
  },
  {
   "cell_type": "code",
   "execution_count": 10,
   "id": "5e088ace",
   "metadata": {},
   "outputs": [
    {
     "name": "stdout",
     "output_type": "stream",
     "text": [
      "If NDVI goes from 0.65 to 0.75, Greenspace%_100 increases by: 0.15325252283656332\n"
     ]
    }
   ],
   "source": [
    "# Change in high NDVI values: how does Greenspace% increase, if NDVI changes from 0.65 to 0.75?\n",
    "green_h0 = uni_gam_100_2.predict(0.65)\n",
    "green_h1 = uni_gam_100_2.predict(0.75)\n",
    "green_sens_hig = float(green_h1 - green_h0)\n",
    "print('If NDVI goes from 0.65 to 0.75, Greenspace%_100 increases by:', green_sens_hig)"
   ]
  },
  {
   "cell_type": "markdown",
   "id": "b6c6462a",
   "metadata": {},
   "source": [
    "### 1.3. Model 3: tree canopy ~ linear(NDVI)"
   ]
  },
  {
   "cell_type": "code",
   "execution_count": 11,
   "id": "c50b675d",
   "metadata": {},
   "outputs": [],
   "source": [
    "# NDVI_100 as the predictor\n",
    "df = pd.DataFrame(gdf_100, columns=['NDVI_100'])\n",
    "\n",
    "# Canopy%_100 as the target\n",
    "target = pd.DataFrame(gdf_100, columns=['Canopy%_100'])\n",
    "\n",
    "# define X and y\n",
    "X = df\n",
    "y = target['Canopy%_100']\n",
    "\n",
    "# split independent and dependent variables into training and test data\n",
    "X_train, X_test, y_train, y_test = train_test_split(X, y, test_size=0.2, random_state=0)\n",
    "\n",
    "# fit the linear model\n",
    "lm_100 = linear_model.LinearRegression()\n",
    "model_100 = lm_100.fit(X_train,y_train)"
   ]
  },
  {
   "cell_type": "code",
   "execution_count": 12,
   "id": "470329b3",
   "metadata": {},
   "outputs": [
    {
     "name": "stderr",
     "output_type": "stream",
     "text": [
      "100% (11 of 11) |########################| Elapsed Time: 0:00:00 Time:  0:00:00\n"
     ]
    },
    {
     "name": "stdout",
     "output_type": "stream",
     "text": [
      "LinearGAM                                                                                                 \n",
      "=============================================== ==========================================================\n",
      "Distribution:                        NormalDist Effective DoF:                                      1.9941\n",
      "Link Function:                     IdentityLink Log Likelihood:                                -65209.7151\n",
      "Number of Samples:                         4673 AIC:                                           130425.4183\n",
      "                                                AICc:                                          130425.4234\n",
      "                                                GCV:                                                0.0302\n",
      "                                                Scale:                                              0.0302\n",
      "                                                Pseudo R-Squared:                                   0.0538\n",
      "==========================================================================================================\n",
      "Feature Function                  Lambda               Rank         EDoF         P > x        Sig. Code   \n",
      "================================= ==================== ============ ============ ============ ============\n",
      "l(0)                              [0.6]                1            1.0          1.11e-16     ***         \n",
      "intercept                                              1            1.0          7.11e-01                 \n",
      "==========================================================================================================\n",
      "Significance codes:  0 '***' 0.001 '**' 0.01 '*' 0.05 '.' 0.1 ' ' 1\n",
      "\n",
      "WARNING: Fitting splines and a linear function to a feature introduces a model identifiability problem\n",
      "         which can cause p-values to appear significant when they are not.\n",
      "\n",
      "WARNING: p-values calculated in this manner behave correctly for un-penalized models or models with\n",
      "         known smoothing parameters, but when smoothing parameters have been estimated, the p-values\n",
      "         are typically lower than they should be, meaning that the tests reject the null too readily.\n"
     ]
    },
    {
     "name": "stderr",
     "output_type": "stream",
     "text": [
      "/var/folders/6g/kgz5rml118s6lqw25w5sv5mr0000gn/T/ipykernel_15271/2799447770.py:6: UserWarning: KNOWN BUG: p-values computed in this summary are likely much smaller than they should be. \n",
      " \n",
      "Please do not make inferences based on these values! \n",
      "\n",
      "Collaborate on a solution, and stay up to date at: \n",
      "github.com/dswah/pyGAM/issues/163 \n",
      "\n",
      "  uni_gam_100_3.summary()\n"
     ]
    }
   ],
   "source": [
    "# Model 3\n",
    "warnings.filterwarnings(\"ignore\", category=RuntimeWarning)\n",
    "uni_gam_100_3 = LinearGAM(l(0)).fit(X_train, y_train)\n",
    "\n",
    "uni_gam_100_3.gridsearch(X_train, y_train)\n",
    "uni_gam_100_3.summary()"
   ]
  },
  {
   "cell_type": "markdown",
   "id": "6fe9f392",
   "metadata": {},
   "source": [
    "### 1.4. Model 4: tree canopy ~ spline(NDVI)"
   ]
  },
  {
   "cell_type": "code",
   "execution_count": 13,
   "id": "cc241b41",
   "metadata": {},
   "outputs": [
    {
     "name": "stderr",
     "output_type": "stream",
     "text": [
      "100% (11 of 11) |########################| Elapsed Time: 0:00:00 Time:  0:00:00\n"
     ]
    },
    {
     "name": "stdout",
     "output_type": "stream",
     "text": [
      "LinearGAM                                                                                                 \n",
      "=============================================== ==========================================================\n",
      "Distribution:                        NormalDist Effective DoF:                                      8.9344\n",
      "Link Function:                     IdentityLink Log Likelihood:                                -70124.4863\n",
      "Number of Samples:                         4673 AIC:                                           140268.8413\n",
      "                                                AICc:                                          140268.8879\n",
      "                                                GCV:                                                0.0284\n",
      "                                                Scale:                                              0.0283\n",
      "                                                Pseudo R-Squared:                                   0.1164\n",
      "==========================================================================================================\n",
      "Feature Function                  Lambda               Rank         EDoF         P > x        Sig. Code   \n",
      "================================= ==================== ============ ============ ============ ============\n",
      "s(0)                              [15.8489]            20           8.9          1.11e-16     ***         \n",
      "intercept                                              1            0.0          7.02e-04     ***         \n",
      "==========================================================================================================\n",
      "Significance codes:  0 '***' 0.001 '**' 0.01 '*' 0.05 '.' 0.1 ' ' 1\n",
      "\n",
      "WARNING: Fitting splines and a linear function to a feature introduces a model identifiability problem\n",
      "         which can cause p-values to appear significant when they are not.\n",
      "\n",
      "WARNING: p-values calculated in this manner behave correctly for un-penalized models or models with\n",
      "         known smoothing parameters, but when smoothing parameters have been estimated, the p-values\n",
      "         are typically lower than they should be, meaning that the tests reject the null too readily.\n"
     ]
    },
    {
     "name": "stderr",
     "output_type": "stream",
     "text": [
      "/var/folders/6g/kgz5rml118s6lqw25w5sv5mr0000gn/T/ipykernel_15271/3283584014.py:6: UserWarning: KNOWN BUG: p-values computed in this summary are likely much smaller than they should be. \n",
      " \n",
      "Please do not make inferences based on these values! \n",
      "\n",
      "Collaborate on a solution, and stay up to date at: \n",
      "github.com/dswah/pyGAM/issues/163 \n",
      "\n",
      "  uni_gam_100_4.summary()\n"
     ]
    }
   ],
   "source": [
    "# Model 4\n",
    "warnings.filterwarnings(\"ignore\", category=RuntimeWarning)\n",
    "uni_gam_100_4 = LinearGAM(s(0)).fit(X_train, y_train)\n",
    "\n",
    "uni_gam_100_4.gridsearch(X_train, y_train)\n",
    "uni_gam_100_4.summary()"
   ]
  },
  {
   "cell_type": "code",
   "execution_count": 98,
   "id": "88ac8883",
   "metadata": {},
   "outputs": [
    {
     "data": {
      "image/png": "[encoded data removed]",
      "text/plain": [
       "<Figure size 432x288 with 1 Axes>"
      ]
     },
     "metadata": {
      "needs_background": "light"
     },
     "output_type": "display_data"
    }
   ],
   "source": [
    "# plotting best canopy_100 model\n",
    "for i, term in enumerate(uni_gam_100_4.terms):\n",
    "    if term.isintercept:\n",
    "        continue\n",
    "\n",
    "    XX = uni_gam_100_4.generate_X_grid(term=i)\n",
    "    pdep, confi = uni_gam_100_4.partial_dependence(term=i, X=XX, width=0.95)\n",
    "\n",
    "    plt.figure()\n",
    "    plt.plot(XX[:, term.feature], pdep)\n",
    "    plt.hlines(y=0, xmin=0, xmax=1, linewidth=1, color='black', linestyle='--')\n",
    "    plt.plot(XX[:, term.feature], confi, c='r', ls='--')\n",
    "    # set title, xlabel and ylabel\n",
    "    plt.title('Sensitivity of Tree canopy to NDVI\\nfor buffer zones of 100 m', fontsize=12)\n",
    "    plt.xlabel('NDVI', fontsize=12)\n",
    "    plt.ylabel('Change relative to mean\\nTree canopy', fontsize=12)\n",
    "    # save the figure\n",
    "    plt.savefig('thesis_project/visualizations/modelling/univariate/gam_canopy_100_best_plot.png', dpi=300, bbox_inches='tight')\n",
    "    im.open('thesis_project/visualizations/modelling/univariate/gam_canopy_100_best_plot.png').save('thesis_project/visualizations/modelling/univariate/gam_canopy_100_best_plot.bmp')\n",
    "    plt.show()"
   ]
  },
  {
   "cell_type": "code",
   "execution_count": 15,
   "id": "b1a37d70",
   "metadata": {},
   "outputs": [
    {
     "name": "stdout",
     "output_type": "stream",
     "text": [
      "If NDVI goes from 0.25 to 0.35, Canopy%_100 increases by: 0.037599578182805196\n"
     ]
    }
   ],
   "source": [
    "# Change in low NDVI values: how does canopy% increase, if NDVI changes from 0.25 to 0.35?\n",
    "canopy_l0 = uni_gam_100_4.predict(0.25)\n",
    "canopy_l1 = uni_gam_100_4.predict(0.35)\n",
    "canopy_sens_low = float(canopy_l1 - canopy_l0)\n",
    "print('If NDVI goes from 0.25 to 0.35, Canopy%_100 increases by:', canopy_sens_low)"
   ]
  },
  {
   "cell_type": "code",
   "execution_count": 16,
   "id": "bab50cf1",
   "metadata": {},
   "outputs": [
    {
     "name": "stdout",
     "output_type": "stream",
     "text": [
      "If NDVI goes from 0.45 to 0.55, Canopy%_100 increases by: 0.04417468408305833\n"
     ]
    }
   ],
   "source": [
    "# Change in mid NDVI values: how does canopy% increase, if NDVI changes from 0.45 to 0.55?\n",
    "canopy_m0 = uni_gam_100_4.predict(0.45)\n",
    "canopy_m1 = uni_gam_100_4.predict(0.55)\n",
    "canopy_sens_mid = float(canopy_m1 - canopy_m0)\n",
    "print('If NDVI goes from 0.45 to 0.55, Canopy%_100 increases by:', canopy_sens_mid)"
   ]
  },
  {
   "cell_type": "code",
   "execution_count": 17,
   "id": "bda7350c",
   "metadata": {},
   "outputs": [
    {
     "name": "stdout",
     "output_type": "stream",
     "text": [
      "If NDVI goes from 0.65 to 0.75, Canopy%_100 increases by: 0.06734044235029735\n"
     ]
    }
   ],
   "source": [
    "# Change in high NDVI values: how does canopy% increase, if NDVI changes from 0.65 to 0.75?\n",
    "canopy_h0 = uni_gam_100_4.predict(0.65)\n",
    "canopy_h1 = uni_gam_100_4.predict(0.75)\n",
    "canopy_sens_hig = float(canopy_h1 - canopy_h0)\n",
    "print('If NDVI goes from 0.65 to 0.75, Canopy%_100 increases by:', canopy_sens_hig)"
   ]
  },
  {
   "cell_type": "markdown",
   "id": "775ff828",
   "metadata": {},
   "source": [
    "### 1.5. Model 5: forbs and shrubs ~ linear(NDVI)"
   ]
  },
  {
   "cell_type": "code",
   "execution_count": 18,
   "id": "4ce18abb",
   "metadata": {},
   "outputs": [],
   "source": [
    "# data/predictors as the NDVI_100\n",
    "df_100 = pd.DataFrame(gdf_100, columns=['NDVI_100'])\n",
    "\n",
    "# target as Shrubs%_100\n",
    "target_100 = pd.DataFrame(gdf_100, columns=['Shrubs%_100'])\n",
    "\n",
    "# define X and y\n",
    "X = df_100\n",
    "y = target_100['Shrubs%_100']\n",
    "\n",
    "# split independent and dependent variables into training and test data\n",
    "X_train, X_test, y_train, y_test = train_test_split(X, y, test_size=0.2, random_state=0)\n",
    "\n",
    "# fit the linear model\n",
    "lm_100 = linear_model.LinearRegression()\n",
    "model_100 = lm_100.fit(X_train,y_train)"
   ]
  },
  {
   "cell_type": "code",
   "execution_count": 19,
   "id": "812b1302",
   "metadata": {},
   "outputs": [
    {
     "name": "stderr",
     "output_type": "stream",
     "text": [
      "100% (11 of 11) |########################| Elapsed Time: 0:00:00 Time:  0:00:00\n"
     ]
    },
    {
     "name": "stdout",
     "output_type": "stream",
     "text": [
      "LinearGAM                                                                                                 \n",
      "=============================================== ==========================================================\n",
      "Distribution:                        NormalDist Effective DoF:                                      1.9994\n",
      "Link Function:                     IdentityLink Log Likelihood:                                -26420.4052\n",
      "Number of Samples:                         4673 AIC:                                            52846.8092\n",
      "                                                AICc:                                           52846.8143\n",
      "                                                GCV:                                                0.0673\n",
      "                                                Scale:                                              0.0672\n",
      "                                                Pseudo R-Squared:                                    0.161\n",
      "==========================================================================================================\n",
      "Feature Function                  Lambda               Rank         EDoF         P > x        Sig. Code   \n",
      "================================= ==================== ============ ============ ============ ============\n",
      "l(0)                              [0.0631]             1            1.0          1.11e-16     ***         \n",
      "intercept                                              1            1.0          1.11e-16     ***         \n",
      "==========================================================================================================\n",
      "Significance codes:  0 '***' 0.001 '**' 0.01 '*' 0.05 '.' 0.1 ' ' 1\n",
      "\n",
      "WARNING: Fitting splines and a linear function to a feature introduces a model identifiability problem\n",
      "         which can cause p-values to appear significant when they are not.\n",
      "\n",
      "WARNING: p-values calculated in this manner behave correctly for un-penalized models or models with\n",
      "         known smoothing parameters, but when smoothing parameters have been estimated, the p-values\n",
      "         are typically lower than they should be, meaning that the tests reject the null too readily.\n"
     ]
    },
    {
     "name": "stderr",
     "output_type": "stream",
     "text": [
      "/var/folders/6g/kgz5rml118s6lqw25w5sv5mr0000gn/T/ipykernel_15271/2907954286.py:6: UserWarning: KNOWN BUG: p-values computed in this summary are likely much smaller than they should be. \n",
      " \n",
      "Please do not make inferences based on these values! \n",
      "\n",
      "Collaborate on a solution, and stay up to date at: \n",
      "github.com/dswah/pyGAM/issues/163 \n",
      "\n",
      "  uni_gam_100_5.summary()\n"
     ]
    }
   ],
   "source": [
    "# Model 5\n",
    "warnings.filterwarnings(\"ignore\", category=RuntimeWarning)\n",
    "uni_gam_100_5 = LinearGAM(l(0)).fit(X_train, y_train)\n",
    "\n",
    "uni_gam_100_5.gridsearch(X_train, y_train)\n",
    "uni_gam_100_5.summary()"
   ]
  },
  {
   "cell_type": "markdown",
   "id": "695353ab",
   "metadata": {},
   "source": [
    "### 1.6. Model 6: forbs and shrubs ~ spline(NDVI)"
   ]
  },
  {
   "cell_type": "code",
   "execution_count": 20,
   "id": "dcb9579c",
   "metadata": {},
   "outputs": [
    {
     "name": "stderr",
     "output_type": "stream",
     "text": [
      "100% (11 of 11) |########################| Elapsed Time: 0:00:00 Time:  0:00:00\n"
     ]
    },
    {
     "name": "stdout",
     "output_type": "stream",
     "text": [
      "LinearGAM                                                                                                 \n",
      "=============================================== ==========================================================\n",
      "Distribution:                        NormalDist Effective DoF:                                      5.2813\n",
      "Link Function:                     IdentityLink Log Likelihood:                                 -26760.189\n",
      "Number of Samples:                         4673 AIC:                                            53532.9406\n",
      "                                                AICc:                                           53532.9602\n",
      "                                                GCV:                                                0.0666\n",
      "                                                Scale:                                              0.0664\n",
      "                                                Pseudo R-Squared:                                   0.1717\n",
      "==========================================================================================================\n",
      "Feature Function                  Lambda               Rank         EDoF         P > x        Sig. Code   \n",
      "================================= ==================== ============ ============ ============ ============\n",
      "s(0)                              [251.1886]           20           5.3          1.11e-16     ***         \n",
      "intercept                                              1            0.0          1.85e-13     ***         \n",
      "==========================================================================================================\n",
      "Significance codes:  0 '***' 0.001 '**' 0.01 '*' 0.05 '.' 0.1 ' ' 1\n",
      "\n",
      "WARNING: Fitting splines and a linear function to a feature introduces a model identifiability problem\n",
      "         which can cause p-values to appear significant when they are not.\n",
      "\n",
      "WARNING: p-values calculated in this manner behave correctly for un-penalized models or models with\n",
      "         known smoothing parameters, but when smoothing parameters have been estimated, the p-values\n",
      "         are typically lower than they should be, meaning that the tests reject the null too readily.\n"
     ]
    },
    {
     "name": "stderr",
     "output_type": "stream",
     "text": [
      "/var/folders/6g/kgz5rml118s6lqw25w5sv5mr0000gn/T/ipykernel_15271/201407906.py:6: UserWarning: KNOWN BUG: p-values computed in this summary are likely much smaller than they should be. \n",
      " \n",
      "Please do not make inferences based on these values! \n",
      "\n",
      "Collaborate on a solution, and stay up to date at: \n",
      "github.com/dswah/pyGAM/issues/163 \n",
      "\n",
      "  uni_gam_100_6.summary()\n"
     ]
    }
   ],
   "source": [
    "# Model 6\n",
    "warnings.filterwarnings(\"ignore\", category=RuntimeWarning)\n",
    "uni_gam_100_6 = LinearGAM(s(0)).fit(X_train, y_train)\n",
    "\n",
    "uni_gam_100_6.gridsearch(X_train, y_train)\n",
    "uni_gam_100_6.summary()"
   ]
  },
  {
   "cell_type": "code",
   "execution_count": 100,
   "id": "52f66618",
   "metadata": {},
   "outputs": [
    {
     "data": {
      "image/png": "[encoded data removed]",
      "text/plain": [
       "<Figure size 432x288 with 1 Axes>"
      ]
     },
     "metadata": {
      "needs_background": "light"
     },
     "output_type": "display_data"
    }
   ],
   "source": [
    "# plotting best model\n",
    "for i, term in enumerate(uni_gam_100_6.terms):\n",
    "    if term.isintercept:\n",
    "        continue\n",
    "\n",
    "    XX = uni_gam_100_6.generate_X_grid(term=i)\n",
    "    pdep, confi = uni_gam_100_6.partial_dependence(term=i, X=XX, width=0.95)\n",
    "\n",
    "    plt.figure()\n",
    "    plt.plot(XX[:, term.feature], pdep)\n",
    "    plt.hlines(y=0, xmin=0, xmax=1, linewidth=1, color='black', linestyle='--')\n",
    "    plt.plot(XX[:, term.feature], confi, c='r', ls='--')\n",
    "    # set title, xlabel and ylabel\n",
    "    plt.title('Sensitivity of Shrubs density to NDVI\\nfor buffer zones of 100 m', fontsize=12)\n",
    "    plt.xlabel('NDVI', fontsize=12)\n",
    "    plt.ylabel('Change relative to mean\\nShrubs density', fontsize=12)    \n",
    "    # save the figure\n",
    "    plt.savefig('thesis_project/visualizations/modelling/univariate/gam_shrubs_100_best_plot.png', dpi=300, bbox_inches='tight')\n",
    "    im.open('thesis_project/visualizations/modelling/univariate/gam_shrubs_100_best_plot.png').save('thesis_project/visualizations/modelling/univariate/gam_shrubs_100_best_plot.bmp')\n",
    "    plt.show()"
   ]
  },
  {
   "cell_type": "code",
   "execution_count": 22,
   "id": "1ceffedf",
   "metadata": {},
   "outputs": [
    {
     "name": "stdout",
     "output_type": "stream",
     "text": [
      "If NDVI goes from 0.25 to 0.35, Shrubs%_100 increases by: 0.06083032784864256\n"
     ]
    }
   ],
   "source": [
    "# Change in low NDVI values: how does Shrubs% increase, if NDVI changes from 0.25 to 0.35?\n",
    "shrubs_l0 = uni_gam_100_6.predict(0.25)\n",
    "shrubs_l1 = uni_gam_100_6.predict(0.35)\n",
    "shrubs_sens_low = float(shrubs_l1 - shrubs_l0)\n",
    "print('If NDVI goes from 0.25 to 0.35, Shrubs%_100 increases by:', shrubs_sens_low)"
   ]
  },
  {
   "cell_type": "code",
   "execution_count": 23,
   "id": "181798b3",
   "metadata": {},
   "outputs": [
    {
     "name": "stdout",
     "output_type": "stream",
     "text": [
      "If NDVI goes from 0.45 to 0.55, Shrubs%_100 increases by: 0.11102418846354661\n"
     ]
    }
   ],
   "source": [
    "# Change in mid NDVI values: how does Shrubs% increase, if NDVI changes from 0.45 to 0.55?\n",
    "shrubs_m0 = uni_gam_100_6.predict(0.45)\n",
    "shrubs_m1 = uni_gam_100_6.predict(0.55)\n",
    "shrubs_sens_mid = float(shrubs_m1 - shrubs_m0)\n",
    "print('If NDVI goes from 0.45 to 0.55, Shrubs%_100 increases by:', shrubs_sens_mid)"
   ]
  },
  {
   "cell_type": "code",
   "execution_count": 24,
   "id": "3fef61f2",
   "metadata": {},
   "outputs": [
    {
     "name": "stdout",
     "output_type": "stream",
     "text": [
      "If NDVI goes from 0.65 to 0.75, Shrubs%_100 increases by: 0.07657062431426764\n"
     ]
    }
   ],
   "source": [
    "# Change in high NDVI values: how does Shrubs% increase, if NDVI changes from 0.65 to 0.75?\n",
    "shrubs_h0 = uni_gam_100_6.predict(0.65)\n",
    "shrubs_h1 = uni_gam_100_6.predict(0.75)\n",
    "shrubs_sens_hig = float(shrubs_h1 - shrubs_h0)\n",
    "print('If NDVI goes from 0.65 to 0.75, Shrubs%_100 increases by:', shrubs_sens_hig)"
   ]
  },
  {
   "cell_type": "markdown",
   "id": "7665ba8c",
   "metadata": {},
   "source": [
    "### 1.7. Model 7: grass ~ linear(NDVI)"
   ]
  },
  {
   "cell_type": "code",
   "execution_count": 25,
   "id": "7e84d41b",
   "metadata": {},
   "outputs": [],
   "source": [
    "# NDVI_100 as the predictor\n",
    "df = pd.DataFrame(gdf_100, columns=['NDVI_100'])\n",
    "\n",
    "# Grass%_100 as the target\n",
    "target = pd.DataFrame(gdf_100, columns=['Grass%_100'])\n",
    "\n",
    "# define X and y\n",
    "X = df\n",
    "y = target['Grass%_100']\n",
    "\n",
    "# split independent and dependent variables into training and test data\n",
    "X_train, X_test, y_train, y_test = train_test_split(X, y, test_size=0.2, random_state=0)\n",
    "\n",
    "# fit the linear model\n",
    "lm_100 = linear_model.LinearRegression()\n",
    "model_100 = lm_100.fit(X_train,y_train)"
   ]
  },
  {
   "cell_type": "code",
   "execution_count": 26,
   "id": "f327ba9f",
   "metadata": {},
   "outputs": [
    {
     "name": "stderr",
     "output_type": "stream",
     "text": [
      "100% (11 of 11) |########################| Elapsed Time: 0:00:00 Time:  0:00:00\n"
     ]
    },
    {
     "name": "stdout",
     "output_type": "stream",
     "text": [
      "LinearGAM                                                                                                 \n",
      "=============================================== ==========================================================\n",
      "Distribution:                        NormalDist Effective DoF:                                      1.9975\n",
      "Link Function:                     IdentityLink Log Likelihood:                                 -76974.679\n",
      "Number of Samples:                         4673 AIC:                                            153955.353\n",
      "                                                AICc:                                          153955.3582\n",
      "                                                GCV:                                                 0.026\n",
      "                                                Scale:                                               0.026\n",
      "                                                Pseudo R-Squared:                                   0.1439\n",
      "==========================================================================================================\n",
      "Feature Function                  Lambda               Rank         EDoF         P > x        Sig. Code   \n",
      "================================= ==================== ============ ============ ============ ============\n",
      "l(0)                              [0.2512]             1            1.0          1.11e-16     ***         \n",
      "intercept                                              1            1.0          1.11e-16     ***         \n",
      "==========================================================================================================\n",
      "Significance codes:  0 '***' 0.001 '**' 0.01 '*' 0.05 '.' 0.1 ' ' 1\n",
      "\n",
      "WARNING: Fitting splines and a linear function to a feature introduces a model identifiability problem\n",
      "         which can cause p-values to appear significant when they are not.\n",
      "\n",
      "WARNING: p-values calculated in this manner behave correctly for un-penalized models or models with\n",
      "         known smoothing parameters, but when smoothing parameters have been estimated, the p-values\n",
      "         are typically lower than they should be, meaning that the tests reject the null too readily.\n"
     ]
    },
    {
     "name": "stderr",
     "output_type": "stream",
     "text": [
      "/var/folders/6g/kgz5rml118s6lqw25w5sv5mr0000gn/T/ipykernel_15271/822825484.py:6: UserWarning: KNOWN BUG: p-values computed in this summary are likely much smaller than they should be. \n",
      " \n",
      "Please do not make inferences based on these values! \n",
      "\n",
      "Collaborate on a solution, and stay up to date at: \n",
      "github.com/dswah/pyGAM/issues/163 \n",
      "\n",
      "  uni_gam_100_7.summary()\n"
     ]
    }
   ],
   "source": [
    "# Model 7\n",
    "warnings.filterwarnings(\"ignore\", category=RuntimeWarning)\n",
    "uni_gam_100_7 = LinearGAM(l(0)).fit(X_train, y_train)\n",
    "\n",
    "uni_gam_100_7.gridsearch(X_train, y_train)\n",
    "uni_gam_100_7.summary()"
   ]
  },
  {
   "cell_type": "markdown",
   "id": "4c00f1de",
   "metadata": {},
   "source": [
    "### 1.8. Model 8: grass ~ spline(NDVI)"
   ]
  },
  {
   "cell_type": "code",
   "execution_count": 27,
   "id": "7e9cf051",
   "metadata": {},
   "outputs": [
    {
     "name": "stderr",
     "output_type": "stream",
     "text": [
      "100% (11 of 11) |########################| Elapsed Time: 0:00:00 Time:  0:00:00\n"
     ]
    },
    {
     "name": "stdout",
     "output_type": "stream",
     "text": [
      "LinearGAM                                                                                                 \n",
      "=============================================== ==========================================================\n",
      "Distribution:                        NormalDist Effective DoF:                                      8.9344\n",
      "Link Function:                     IdentityLink Log Likelihood:                                -80600.2742\n",
      "Number of Samples:                         4673 AIC:                                           161220.4172\n",
      "                                                AICc:                                          161220.4638\n",
      "                                                GCV:                                                 0.025\n",
      "                                                Scale:                                              0.0249\n",
      "                                                Pseudo R-Squared:                                   0.1814\n",
      "==========================================================================================================\n",
      "Feature Function                  Lambda               Rank         EDoF         P > x        Sig. Code   \n",
      "================================= ==================== ============ ============ ============ ============\n",
      "s(0)                              [15.8489]            20           8.9          1.11e-16     ***         \n",
      "intercept                                              1            0.0          2.00e-09     ***         \n",
      "==========================================================================================================\n",
      "Significance codes:  0 '***' 0.001 '**' 0.01 '*' 0.05 '.' 0.1 ' ' 1\n",
      "\n",
      "WARNING: Fitting splines and a linear function to a feature introduces a model identifiability problem\n",
      "         which can cause p-values to appear significant when they are not.\n",
      "\n",
      "WARNING: p-values calculated in this manner behave correctly for un-penalized models or models with\n",
      "         known smoothing parameters, but when smoothing parameters have been estimated, the p-values\n",
      "         are typically lower than they should be, meaning that the tests reject the null too readily.\n"
     ]
    },
    {
     "name": "stderr",
     "output_type": "stream",
     "text": [
      "/var/folders/6g/kgz5rml118s6lqw25w5sv5mr0000gn/T/ipykernel_15271/227079347.py:6: UserWarning: KNOWN BUG: p-values computed in this summary are likely much smaller than they should be. \n",
      " \n",
      "Please do not make inferences based on these values! \n",
      "\n",
      "Collaborate on a solution, and stay up to date at: \n",
      "github.com/dswah/pyGAM/issues/163 \n",
      "\n",
      "  uni_gam_100_8.summary()\n"
     ]
    }
   ],
   "source": [
    "# Model 8\n",
    "warnings.filterwarnings(\"ignore\", category=RuntimeWarning)\n",
    "uni_gam_100_8 = LinearGAM(s(0)).fit(X_train, y_train)\n",
    "\n",
    "uni_gam_100_8.gridsearch(X_train, y_train)\n",
    "uni_gam_100_8.summary()"
   ]
  },
  {
   "cell_type": "code",
   "execution_count": 101,
   "id": "4007f1a3",
   "metadata": {},
   "outputs": [
    {
     "data": {
      "image/png": "[encoded data removed]",
      "text/plain": [
       "<Figure size 432x288 with 1 Axes>"
      ]
     },
     "metadata": {
      "needs_background": "light"
     },
     "output_type": "display_data"
    }
   ],
   "source": [
    "# plotting best grass_100 model\n",
    "for i, term in enumerate(uni_gam_100_8.terms):\n",
    "    if term.isintercept:\n",
    "        continue\n",
    "\n",
    "    XX = uni_gam_100_8.generate_X_grid(term=i)\n",
    "    pdep, confi = uni_gam_100_8.partial_dependence(term=i, X=XX, width=0.95)\n",
    "\n",
    "    plt.figure()\n",
    "    plt.plot(XX[:, term.feature], pdep)\n",
    "    plt.hlines(y=0, xmin=0, xmax=1, linewidth=1, color='black', linestyle='--')\n",
    "    plt.plot(XX[:, term.feature], confi, c='r', ls='--')\n",
    "    # set title, xlabel and ylabel\n",
    "    plt.title('Sensitivity of Grass density to NDVI\\nfor buffer zones of 100 m', fontsize=12)\n",
    "    plt.xlabel('NDVI', fontsize=12)\n",
    "    plt.ylabel('Change relative to mean\\nGrass density', fontsize=12)\n",
    "    # save the figure\n",
    "    plt.savefig('thesis_project/visualizations/modelling/univariate/gam_grass_100_best_plot.png', dpi=300, bbox_inches='tight')\n",
    "    im.open('thesis_project/visualizations/modelling/univariate/gam_grass_100_best_plot.png').save('thesis_project/visualizations/modelling/univariate/gam_grass_100_best_plot.bmp')\n",
    "    plt.show()"
   ]
  },
  {
   "cell_type": "code",
   "execution_count": 29,
   "id": "4aff0fc9",
   "metadata": {},
   "outputs": [
    {
     "name": "stdout",
     "output_type": "stream",
     "text": [
      "If NDVI goes from 0.25 to 0.35, Grass%_100 increases by: 0.010868341441339038\n"
     ]
    }
   ],
   "source": [
    "# Change in low NDVI values: how does Grass% increase, if NDVI changes from 0.25 to 0.35?\n",
    "grass_l0 = uni_gam_100_8.predict(0.25)\n",
    "grass_l1 = uni_gam_100_8.predict(0.35)\n",
    "grass_sens_low = float(grass_l1 - grass_l0)\n",
    "print('If NDVI goes from 0.25 to 0.35, Grass%_100 increases by:', grass_sens_low)"
   ]
  },
  {
   "cell_type": "code",
   "execution_count": 30,
   "id": "142ad7ec",
   "metadata": {},
   "outputs": [
    {
     "name": "stdout",
     "output_type": "stream",
     "text": [
      "If NDVI goes from 0.45 to 0.55, Grass%_100 increases by: 0.06220137254354009\n"
     ]
    }
   ],
   "source": [
    "# Change in mid NDVI values: how does Grass% increase, if NDVI changes from 0.45 to 0.55?\n",
    "grass_m0 = uni_gam_100_8.predict(0.45)\n",
    "grass_m1 = uni_gam_100_8.predict(0.55)\n",
    "grass_sens_mid = float(grass_m1 - grass_m0)\n",
    "print('If NDVI goes from 0.45 to 0.55, Grass%_100 increases by:', grass_sens_mid)"
   ]
  },
  {
   "cell_type": "code",
   "execution_count": 31,
   "id": "72e407ef",
   "metadata": {},
   "outputs": [
    {
     "name": "stdout",
     "output_type": "stream",
     "text": [
      "If NDVI goes from 0.65 to 0.75, Grass%_100 increases by: 0.017538271162339553\n"
     ]
    }
   ],
   "source": [
    "# Change in high NDVI values: how does Grass% increase, if NDVI changes from 0.65 to 0.75?\n",
    "grass_h0 = uni_gam_100_8.predict(0.65)\n",
    "grass_h1 = uni_gam_100_8.predict(0.75)\n",
    "grass_sens_hig = float(grass_h1 - grass_h0)\n",
    "print('If NDVI goes from 0.65 to 0.75, Grass%_100 increases by:', grass_sens_hig)"
   ]
  },
  {
   "cell_type": "markdown",
   "id": "3f18a166",
   "metadata": {},
   "source": [
    "## 2. Modeling vegetation densities for buffer distances of 300 meters"
   ]
  },
  {
   "cell_type": "code",
   "execution_count": 32,
   "id": "6a719d9f",
   "metadata": {},
   "outputs": [
    {
     "data": {
      "text/html": [
       "<div>\n",
       "<style scoped>\n",
       "    .dataframe tbody tr th:only-of-type {\n",
       "        vertical-align: middle;\n",
       "    }\n",
       "\n",
       "    .dataframe tbody tr th {\n",
       "        vertical-align: top;\n",
       "    }\n",
       "\n",
       "    .dataframe thead th {\n",
       "        text-align: right;\n",
       "    }\n",
       "</style>\n",
       "<table border=\"1\" class=\"dataframe\">\n",
       "  <thead>\n",
       "    <tr style=\"text-align: right;\">\n",
       "      <th></th>\n",
       "      <th>NDVI_300</th>\n",
       "      <th>Greenspace%_300</th>\n",
       "      <th>Canopy%_300</th>\n",
       "      <th>Grass%_300</th>\n",
       "      <th>Shrubs%_300</th>\n",
       "      <th>geometry</th>\n",
       "    </tr>\n",
       "  </thead>\n",
       "  <tbody>\n",
       "    <tr>\n",
       "      <th>0</th>\n",
       "      <td>0.488255</td>\n",
       "      <td>0.955836</td>\n",
       "      <td>2.242873e-16</td>\n",
       "      <td>0.062290</td>\n",
       "      <td>0.421350</td>\n",
       "      <td>POINT (396607.971 420663.294)</td>\n",
       "    </tr>\n",
       "    <tr>\n",
       "      <th>1</th>\n",
       "      <td>0.531893</td>\n",
       "      <td>0.496460</td>\n",
       "      <td>2.145669e-01</td>\n",
       "      <td>0.128283</td>\n",
       "      <td>0.198172</td>\n",
       "      <td>POINT (357230.295 401556.298)</td>\n",
       "    </tr>\n",
       "    <tr>\n",
       "      <th>2</th>\n",
       "      <td>0.812246</td>\n",
       "      <td>0.932001</td>\n",
       "      <td>4.007312e-01</td>\n",
       "      <td>0.247811</td>\n",
       "      <td>0.353859</td>\n",
       "      <td>POINT (390380.102 385914.240)</td>\n",
       "    </tr>\n",
       "    <tr>\n",
       "      <th>3</th>\n",
       "      <td>0.949025</td>\n",
       "      <td>0.989765</td>\n",
       "      <td>4.611924e-02</td>\n",
       "      <td>0.185859</td>\n",
       "      <td>0.605270</td>\n",
       "      <td>POINT (374281.691 415010.143)</td>\n",
       "    </tr>\n",
       "    <tr>\n",
       "      <th>4</th>\n",
       "      <td>0.562222</td>\n",
       "      <td>0.574693</td>\n",
       "      <td>3.180540e-01</td>\n",
       "      <td>0.167677</td>\n",
       "      <td>0.148158</td>\n",
       "      <td>POINT (389574.066 388155.085)</td>\n",
       "    </tr>\n",
       "  </tbody>\n",
       "</table>\n",
       "</div>"
      ],
      "text/plain": [
       "   NDVI_300  Greenspace%_300   Canopy%_300  Grass%_300  Shrubs%_300  \\\n",
       "0  0.488255         0.955836  2.242873e-16    0.062290     0.421350   \n",
       "1  0.531893         0.496460  2.145669e-01    0.128283     0.198172   \n",
       "2  0.812246         0.932001  4.007312e-01    0.247811     0.353859   \n",
       "3  0.949025         0.989765  4.611924e-02    0.185859     0.605270   \n",
       "4  0.562222         0.574693  3.180540e-01    0.167677     0.148158   \n",
       "\n",
       "                        geometry  \n",
       "0  POINT (396607.971 420663.294)  \n",
       "1  POINT (357230.295 401556.298)  \n",
       "2  POINT (390380.102 385914.240)  \n",
       "3  POINT (374281.691 415010.143)  \n",
       "4  POINT (389574.066 388155.085)  "
      ]
     },
     "execution_count": 32,
     "metadata": {},
     "output_type": "execute_result"
    }
   ],
   "source": [
    "# load greenspace metrics at 300m geodataframe\n",
    "gdf_300 = gpd.read_file(\"thesis_project/output/dataframes/greenspace_metrics_300_df.json\")\n",
    "gdf_300.head()"
   ]
  },
  {
   "cell_type": "markdown",
   "id": "ea624177",
   "metadata": {},
   "source": [
    "### 2.1. Model 1: greenspace ~ linear(NDVI)"
   ]
  },
  {
   "cell_type": "code",
   "execution_count": 33,
   "id": "881ff4d0",
   "metadata": {},
   "outputs": [],
   "source": [
    "# data/predictors as the NDVI_300\n",
    "df_300 = pd.DataFrame(gdf_300, columns=['NDVI_300'])\n",
    "\n",
    "# target as Greenspace%_300\n",
    "target_300 = pd.DataFrame(gdf_300, columns=['Greenspace%_300'])\n",
    "\n",
    "# define X and Y\n",
    "X = df_300\n",
    "y = target_300['Greenspace%_300']\n",
    "\n",
    "# split independent and dependent variables into training and test data\n",
    "X_train, X_test, y_train, y_test = train_test_split(X, y, test_size=0.2, random_state=0)"
   ]
  },
  {
   "cell_type": "code",
   "execution_count": 34,
   "id": "3ab33a0f",
   "metadata": {},
   "outputs": [
    {
     "name": "stderr",
     "output_type": "stream",
     "text": [
      "100% (11 of 11) |########################| Elapsed Time: 0:00:00 Time:  0:00:00\n"
     ]
    },
    {
     "name": "stdout",
     "output_type": "stream",
     "text": [
      "LinearGAM                                                                                                 \n",
      "=============================================== ==========================================================\n",
      "Distribution:                        NormalDist Effective DoF:                                      1.9999\n",
      "Link Function:                     IdentityLink Log Likelihood:                               -113748.4945\n",
      "Number of Samples:                         4688 AIC:                                           227502.9888\n",
      "                                                AICc:                                          227502.9939\n",
      "                                                GCV:                                                0.0183\n",
      "                                                Scale:                                              0.0183\n",
      "                                                Pseudo R-Squared:                                   0.6797\n",
      "==========================================================================================================\n",
      "Feature Function                  Lambda               Rank         EDoF         P > x        Sig. Code   \n",
      "================================= ==================== ============ ============ ============ ============\n",
      "l(0)                              [0.0158]             1            1.0          1.11e-16     ***         \n",
      "intercept                                              1            1.0          1.91e-09     ***         \n",
      "==========================================================================================================\n",
      "Significance codes:  0 '***' 0.001 '**' 0.01 '*' 0.05 '.' 0.1 ' ' 1\n",
      "\n",
      "WARNING: Fitting splines and a linear function to a feature introduces a model identifiability problem\n",
      "         which can cause p-values to appear significant when they are not.\n",
      "\n",
      "WARNING: p-values calculated in this manner behave correctly for un-penalized models or models with\n",
      "         known smoothing parameters, but when smoothing parameters have been estimated, the p-values\n",
      "         are typically lower than they should be, meaning that the tests reject the null too readily.\n"
     ]
    },
    {
     "name": "stderr",
     "output_type": "stream",
     "text": [
      "/var/folders/6g/kgz5rml118s6lqw25w5sv5mr0000gn/T/ipykernel_15271/1216624643.py:6: UserWarning: KNOWN BUG: p-values computed in this summary are likely much smaller than they should be. \n",
      " \n",
      "Please do not make inferences based on these values! \n",
      "\n",
      "Collaborate on a solution, and stay up to date at: \n",
      "github.com/dswah/pyGAM/issues/163 \n",
      "\n",
      "  uni_gam_300_1.summary()\n"
     ]
    }
   ],
   "source": [
    "# Model 1\n",
    "warnings.filterwarnings(\"ignore\", category=RuntimeWarning)\n",
    "uni_gam_300_1 = LinearGAM(l(0)).fit(X_train, y_train)\n",
    "\n",
    "uni_gam_300_1.gridsearch(X_train, y_train)\n",
    "uni_gam_300_1.summary()"
   ]
  },
  {
   "cell_type": "markdown",
   "id": "cd0460b7",
   "metadata": {},
   "source": [
    "### 2.2. Model 2: greenspace ~ spline(NDVI)"
   ]
  },
  {
   "cell_type": "code",
   "execution_count": 35,
   "id": "abba7ac1",
   "metadata": {},
   "outputs": [
    {
     "name": "stderr",
     "output_type": "stream",
     "text": [
      "100% (11 of 11) |########################| Elapsed Time: 0:00:00 Time:  0:00:00\n"
     ]
    },
    {
     "name": "stdout",
     "output_type": "stream",
     "text": [
      "LinearGAM                                                                                                 \n",
      "=============================================== ==========================================================\n",
      "Distribution:                        NormalDist Effective DoF:                                      7.6321\n",
      "Link Function:                     IdentityLink Log Likelihood:                               -122150.3757\n",
      "Number of Samples:                         4688 AIC:                                           244318.0154\n",
      "                                                AICc:                                           244318.051\n",
      "                                                GCV:                                                0.0171\n",
      "                                                Scale:                                              0.0171\n",
      "                                                Pseudo R-Squared:                                   0.7008\n",
      "==========================================================================================================\n",
      "Feature Function                  Lambda               Rank         EDoF         P > x        Sig. Code   \n",
      "================================= ==================== ============ ============ ============ ============\n",
      "s(0)                              [63.0957]            20           7.6          1.11e-16     ***         \n",
      "intercept                                              1            0.0          1.11e-16     ***         \n",
      "==========================================================================================================\n",
      "Significance codes:  0 '***' 0.001 '**' 0.01 '*' 0.05 '.' 0.1 ' ' 1\n",
      "\n",
      "WARNING: Fitting splines and a linear function to a feature introduces a model identifiability problem\n",
      "         which can cause p-values to appear significant when they are not.\n",
      "\n",
      "WARNING: p-values calculated in this manner behave correctly for un-penalized models or models with\n",
      "         known smoothing parameters, but when smoothing parameters have been estimated, the p-values\n",
      "         are typically lower than they should be, meaning that the tests reject the null too readily.\n"
     ]
    },
    {
     "name": "stderr",
     "output_type": "stream",
     "text": [
      "/var/folders/6g/kgz5rml118s6lqw25w5sv5mr0000gn/T/ipykernel_15271/3283538479.py:6: UserWarning: KNOWN BUG: p-values computed in this summary are likely much smaller than they should be. \n",
      " \n",
      "Please do not make inferences based on these values! \n",
      "\n",
      "Collaborate on a solution, and stay up to date at: \n",
      "github.com/dswah/pyGAM/issues/163 \n",
      "\n",
      "  uni_gam_300_2.summary()\n"
     ]
    }
   ],
   "source": [
    "# Model 2\n",
    "warnings.filterwarnings(\"ignore\", category=RuntimeWarning)\n",
    "uni_gam_300_2 = LinearGAM(s(0)).fit(X_train, y_train)\n",
    "\n",
    "uni_gam_300_2.gridsearch(X_train, y_train)\n",
    "uni_gam_300_2.summary()"
   ]
  },
  {
   "cell_type": "code",
   "execution_count": 102,
   "id": "2d00d1c0",
   "metadata": {},
   "outputs": [
    {
     "data": {
      "image/png": "[encoded data removed]",
      "text/plain": [
       "<Figure size 432x288 with 1 Axes>"
      ]
     },
     "metadata": {
      "needs_background": "light"
     },
     "output_type": "display_data"
    }
   ],
   "source": [
    "# plotting best greenspace_300 model\n",
    "for i, term in enumerate(uni_gam_300_2.terms):\n",
    "    if term.isintercept:\n",
    "        continue\n",
    "\n",
    "    XX = uni_gam_300_2.generate_X_grid(term=i)\n",
    "    pdep, confi = uni_gam_300_2.partial_dependence(term=i, X=XX, width=0.95)\n",
    "\n",
    "    plt.figure()\n",
    "    plt.plot(XX[:, term.feature], pdep)\n",
    "    plt.hlines(y=0, xmin=0, xmax=1, linewidth=1, color='black', linestyle='--')\n",
    "    plt.plot(XX[:, term.feature], confi, c='r', ls='--')\n",
    "    # set title, xlabel and ylabel\n",
    "    plt.title('Sensitivity of Greenspace to NDVI\\nfor buffer zones of 300 m', fontsize=12)\n",
    "    plt.xlabel('NDVI', fontsize=12)\n",
    "    plt.ylabel('Change relative to mean\\nGreenspace', fontsize=12)\n",
    "    # save the figure\n",
    "    plt.savefig('thesis_project/visualizations/modelling/univariate/gam_greenspace_300_best_plot.png', dpi=300, bbox_inches='tight')\n",
    "    im.open('thesis_project/visualizations/modelling/univariate/gam_greenspace_300_best_plot.png').save('thesis_project/visualizations/modelling/univariate/gam_greenspace_300_best_plot.bmp')\n",
    "    plt.show()"
   ]
  },
  {
   "cell_type": "code",
   "execution_count": 37,
   "id": "3daefd81",
   "metadata": {},
   "outputs": [
    {
     "name": "stdout",
     "output_type": "stream",
     "text": [
      "If NDVI goes from 0.25 to 0.35, Greenspace%_300 increases by: 0.13612591366458804\n"
     ]
    }
   ],
   "source": [
    "# Change in low NDVI values: how does Greenspace% increase, if NDVI changes from 0.25 to 0.35?\n",
    "green_l0 = uni_gam_300_2.predict(0.25)\n",
    "green_l1 = uni_gam_300_2.predict(0.35)\n",
    "green_sens_low_300 = float(green_l1 - green_l0)\n",
    "print('If NDVI goes from 0.25 to 0.35, Greenspace%_300 increases by:', green_sens_low_300)"
   ]
  },
  {
   "cell_type": "code",
   "execution_count": 38,
   "id": "99e6dfe8",
   "metadata": {},
   "outputs": [
    {
     "name": "stdout",
     "output_type": "stream",
     "text": [
      "If NDVI goes from 0.45 to 0.55, Greenspace%_300 increases by: 0.17624247464368298\n"
     ]
    }
   ],
   "source": [
    "# Change in mid NDVI values: how does Greenspace% increase, if NDVI changes from 0.45 to 0.55?\n",
    "green_m0 = uni_gam_300_2.predict(0.45)\n",
    "green_m1 = uni_gam_300_2.predict(0.55)\n",
    "green_sens_mid_300 = float(green_m1 - green_m0)\n",
    "print('If NDVI goes from 0.45 to 0.55, Greenspace%_300 increases by:', green_sens_mid_300)"
   ]
  },
  {
   "cell_type": "code",
   "execution_count": 39,
   "id": "8a3b269e",
   "metadata": {},
   "outputs": [
    {
     "name": "stdout",
     "output_type": "stream",
     "text": [
      "If NDVI goes from 0.65 to 0.75, Greenspace%_300 increases by: 0.09916766379399944\n"
     ]
    }
   ],
   "source": [
    "# Change in high NDVI values: how does Greenspace% increase, if NDVI changes from 0.65 to 0.75?\n",
    "green_h0 = uni_gam_300_2.predict(0.65)\n",
    "green_h1 = uni_gam_300_2.predict(0.75)\n",
    "green_sens_hig_300 = float(green_h1 - green_h0)\n",
    "print('If NDVI goes from 0.65 to 0.75, Greenspace%_300 increases by:', green_sens_hig_300)"
   ]
  },
  {
   "cell_type": "markdown",
   "id": "199952e1",
   "metadata": {},
   "source": [
    "### 2.3. Model 3: tree canopy ~ linear(NDVI)"
   ]
  },
  {
   "cell_type": "code",
   "execution_count": 40,
   "id": "c5a97c2a",
   "metadata": {},
   "outputs": [],
   "source": [
    "# NDVI_300 as the predictor\n",
    "df = pd.DataFrame(gdf_300, columns=['NDVI_300'])\n",
    "\n",
    "# Canopy%_300 as the target\n",
    "target = pd.DataFrame(gdf_300, columns=['Canopy%_300'])\n",
    "\n",
    "# define X and y\n",
    "X = df\n",
    "y = target['Canopy%_300']\n",
    "\n",
    "# split independent and dependent variables into training and test data\n",
    "X_train, X_test, y_train, y_test = train_test_split(X, y, test_size=0.2, random_state=0)\n",
    "\n",
    "# fit the linear model\n",
    "lm_300 = linear_model.LinearRegression()\n",
    "model_300 = lm_300.fit(X_train,y_train)"
   ]
  },
  {
   "cell_type": "code",
   "execution_count": 41,
   "id": "5482b173",
   "metadata": {},
   "outputs": [
    {
     "name": "stderr",
     "output_type": "stream",
     "text": [
      "100% (11 of 11) |########################| Elapsed Time: 0:00:00 Time:  0:00:00\n"
     ]
    },
    {
     "name": "stdout",
     "output_type": "stream",
     "text": [
      "LinearGAM                                                                                                 \n",
      "=============================================== ==========================================================\n",
      "Distribution:                        NormalDist Effective DoF:                                       1.992\n",
      "Link Function:                     IdentityLink Log Likelihood:                               -111101.0379\n",
      "Number of Samples:                         4688 AIC:                                             222208.06\n",
      "                                                AICc:                                          222208.0651\n",
      "                                                GCV:                                                0.0187\n",
      "                                                Scale:                                              0.0187\n",
      "                                                Pseudo R-Squared:                                   0.0351\n",
      "==========================================================================================================\n",
      "Feature Function                  Lambda               Rank         EDoF         P > x        Sig. Code   \n",
      "================================= ==================== ============ ============ ============ ============\n",
      "l(0)                              [1.]                 1            1.0          1.11e-16     ***         \n",
      "intercept                                              1            1.0          1.11e-16     ***         \n",
      "==========================================================================================================\n",
      "Significance codes:  0 '***' 0.001 '**' 0.01 '*' 0.05 '.' 0.1 ' ' 1\n",
      "\n",
      "WARNING: Fitting splines and a linear function to a feature introduces a model identifiability problem\n",
      "         which can cause p-values to appear significant when they are not.\n",
      "\n",
      "WARNING: p-values calculated in this manner behave correctly for un-penalized models or models with\n",
      "         known smoothing parameters, but when smoothing parameters have been estimated, the p-values\n",
      "         are typically lower than they should be, meaning that the tests reject the null too readily.\n"
     ]
    },
    {
     "name": "stderr",
     "output_type": "stream",
     "text": [
      "/var/folders/6g/kgz5rml118s6lqw25w5sv5mr0000gn/T/ipykernel_15271/1162806293.py:6: UserWarning: KNOWN BUG: p-values computed in this summary are likely much smaller than they should be. \n",
      " \n",
      "Please do not make inferences based on these values! \n",
      "\n",
      "Collaborate on a solution, and stay up to date at: \n",
      "github.com/dswah/pyGAM/issues/163 \n",
      "\n",
      "  uni_gam_300_3.summary()\n"
     ]
    }
   ],
   "source": [
    "# Model 3\n",
    "warnings.filterwarnings(\"ignore\", category=RuntimeWarning)\n",
    "uni_gam_300_3 = LinearGAM(l(0)).fit(X_train, y_train)\n",
    "\n",
    "uni_gam_300_3.gridsearch(X_train, y_train)\n",
    "uni_gam_300_3.summary()"
   ]
  },
  {
   "cell_type": "markdown",
   "id": "5269d0ba",
   "metadata": {},
   "source": [
    "### 2.4. Model 4: tree canopy ~ spline(NDVI)"
   ]
  },
  {
   "cell_type": "code",
   "execution_count": 42,
   "id": "a67e49b5",
   "metadata": {},
   "outputs": [
    {
     "name": "stderr",
     "output_type": "stream",
     "text": [
      "100% (11 of 11) |########################| Elapsed Time: 0:00:00 Time:  0:00:00\n"
     ]
    },
    {
     "name": "stdout",
     "output_type": "stream",
     "text": [
      "LinearGAM                                                                                                 \n",
      "=============================================== ==========================================================\n",
      "Distribution:                        NormalDist Effective DoF:                                      5.8639\n",
      "Link Function:                     IdentityLink Log Likelihood:                               -115681.2981\n",
      "Number of Samples:                         4688 AIC:                                           231376.3239\n",
      "                                                AICc:                                           231376.347\n",
      "                                                GCV:                                                 0.018\n",
      "                                                Scale:                                               0.018\n",
      "                                                Pseudo R-Squared:                                   0.0719\n",
      "==========================================================================================================\n",
      "Feature Function                  Lambda               Rank         EDoF         P > x        Sig. Code   \n",
      "================================= ==================== ============ ============ ============ ============\n",
      "s(0)                              [251.1886]           20           5.9          1.11e-16     ***         \n",
      "intercept                                              1            0.0          1.11e-16     ***         \n",
      "==========================================================================================================\n",
      "Significance codes:  0 '***' 0.001 '**' 0.01 '*' 0.05 '.' 0.1 ' ' 1\n",
      "\n",
      "WARNING: Fitting splines and a linear function to a feature introduces a model identifiability problem\n",
      "         which can cause p-values to appear significant when they are not.\n",
      "\n",
      "WARNING: p-values calculated in this manner behave correctly for un-penalized models or models with\n",
      "         known smoothing parameters, but when smoothing parameters have been estimated, the p-values\n",
      "         are typically lower than they should be, meaning that the tests reject the null too readily.\n"
     ]
    },
    {
     "name": "stderr",
     "output_type": "stream",
     "text": [
      "/var/folders/6g/kgz5rml118s6lqw25w5sv5mr0000gn/T/ipykernel_15271/2529495405.py:6: UserWarning: KNOWN BUG: p-values computed in this summary are likely much smaller than they should be. \n",
      " \n",
      "Please do not make inferences based on these values! \n",
      "\n",
      "Collaborate on a solution, and stay up to date at: \n",
      "github.com/dswah/pyGAM/issues/163 \n",
      "\n",
      "  uni_gam_300_4.summary()\n"
     ]
    }
   ],
   "source": [
    "# Model 4\n",
    "warnings.filterwarnings(\"ignore\", category=RuntimeWarning)\n",
    "uni_gam_300_4 = LinearGAM(s(0)).fit(X_train, y_train)\n",
    "\n",
    "uni_gam_300_4.gridsearch(X_train, y_train)\n",
    "uni_gam_300_4.summary()"
   ]
  },
  {
   "cell_type": "code",
   "execution_count": 103,
   "id": "bf29d6a4",
   "metadata": {},
   "outputs": [
    {
     "data": {
      "image/png": "[encoded data removed]",
      "text/plain": [
       "<Figure size 432x288 with 1 Axes>"
      ]
     },
     "metadata": {
      "needs_background": "light"
     },
     "output_type": "display_data"
    }
   ],
   "source": [
    "# plotting\n",
    "for i, term in enumerate(uni_gam_300_4.terms):\n",
    "    if term.isintercept:\n",
    "        continue\n",
    "\n",
    "    XX = uni_gam_300_4.generate_X_grid(term=i)\n",
    "    pdep, confi = uni_gam_300_4.partial_dependence(term=i, X=XX, width=0.95)\n",
    "\n",
    "    plt.figure()\n",
    "    plt.plot(XX[:, term.feature], pdep)\n",
    "    plt.hlines(y=0, xmin=0, xmax=1, linewidth=1, color='black', linestyle='--')\n",
    "    plt.plot(XX[:, term.feature], confi, c='r', ls='--')\n",
    "#    plt.ylim(-0.5, 0.5)\n",
    "    # set title, xlabel and ylabel\n",
    "    plt.title('Sensitivity of Tree canopy to NDVI\\nfor buffer zones of 300 m', fontsize=12)\n",
    "    plt.xlabel('NDVI', fontsize=12)\n",
    "    plt.ylabel('Change relative to mean\\nTree canopy', fontsize=12)\n",
    "    # save the figure\n",
    "    plt.savefig('thesis_project/visualizations/modelling/univariate/gam_canopy_300_best_plot.png', dpi=300, bbox_inches='tight')\n",
    "    im.open('thesis_project/visualizations/modelling/univariate/gam_canopy_300_best_plot.png').save('thesis_project/visualizations/modelling/univariate/gam_canopy_300_best_plot.bmp')\n",
    "    plt.show()"
   ]
  },
  {
   "cell_type": "code",
   "execution_count": 44,
   "id": "28b9e794",
   "metadata": {},
   "outputs": [
    {
     "name": "stdout",
     "output_type": "stream",
     "text": [
      "If NDVI goes from 0.25 to 0.35, Canopy%_300 increases by: 0.03749582470927029\n"
     ]
    }
   ],
   "source": [
    "# Change in low NDVI values: how does Canopy% increase, if NDVI changes from 0.25 to 0.35?\n",
    "canopy_l0 = uni_gam_300_4.predict(0.25)\n",
    "canopy_l1 = uni_gam_300_4.predict(0.35)\n",
    "canopy_sens_low_300 = float(canopy_l1 - canopy_l0)\n",
    "print('If NDVI goes from 0.25 to 0.35, Canopy%_300 increases by:', canopy_sens_low_300)"
   ]
  },
  {
   "cell_type": "code",
   "execution_count": 45,
   "id": "a670b83a",
   "metadata": {},
   "outputs": [
    {
     "name": "stdout",
     "output_type": "stream",
     "text": [
      "If NDVI goes from 0.45 to 0.55, Canopy%_300 increases by: 0.0320206722478823\n"
     ]
    }
   ],
   "source": [
    "# Change in mid NDVI values: how does Canopy% increase, if NDVI changes from 0.45 to 0.55?\n",
    "canopy_m0 = uni_gam_300_4.predict(0.45)\n",
    "canopy_m1 = uni_gam_300_4.predict(0.55)\n",
    "canopy_sens_mid_300 = float(canopy_m1 - canopy_m0)\n",
    "print('If NDVI goes from 0.45 to 0.55, Canopy%_300 increases by:', canopy_sens_mid_300)"
   ]
  },
  {
   "cell_type": "code",
   "execution_count": 46,
   "id": "2919b158",
   "metadata": {},
   "outputs": [
    {
     "name": "stdout",
     "output_type": "stream",
     "text": [
      "If NDVI goes from 0.65 to 0.75, Canopy%_300 increases by: 0.0028304599644339012\n"
     ]
    }
   ],
   "source": [
    "# Change in high NDVI values: how does Canopy% increase, if NDVI changes from 0.65 to 0.75?\n",
    "canopy_h0 = uni_gam_300_4.predict(0.65)\n",
    "canopy_h1 = uni_gam_300_4.predict(0.75)\n",
    "canopy_sens_hig_300 = float(canopy_h1 - canopy_h0)\n",
    "print('If NDVI goes from 0.65 to 0.75, Canopy%_300 increases by:', canopy_sens_hig_300)"
   ]
  },
  {
   "cell_type": "markdown",
   "id": "c6e8cba5",
   "metadata": {},
   "source": [
    "### 2.5. Model 5: forbs and shrubs ~ linear(NDVI)"
   ]
  },
  {
   "cell_type": "code",
   "execution_count": 47,
   "id": "a58f7093",
   "metadata": {},
   "outputs": [],
   "source": [
    "# data/predictors as the NDVI_300\n",
    "df_300 = pd.DataFrame(gdf_300, columns=['NDVI_300'])\n",
    "\n",
    "# target as Shrubs%_300\n",
    "target_300 = pd.DataFrame(gdf_300, columns=['Shrubs%_300'])\n",
    "\n",
    "# define X and y\n",
    "X = df_300\n",
    "y = target_300['Shrubs%_300']\n",
    "\n",
    "# split independent and dependent variables into training and test data\n",
    "X_train, X_test, y_train, y_test = train_test_split(X, y, test_size=0.2, random_state=0)\n",
    "\n",
    "# fit the linear model\n",
    "lm_300 = linear_model.LinearRegression()\n",
    "model_300 = lm_300.fit(X_train,y_train)"
   ]
  },
  {
   "cell_type": "code",
   "execution_count": 48,
   "id": "acde44da",
   "metadata": {},
   "outputs": [
    {
     "name": "stderr",
     "output_type": "stream",
     "text": [
      "100% (11 of 11) |########################| Elapsed Time: 0:00:00 Time:  0:00:00\n"
     ]
    },
    {
     "name": "stdout",
     "output_type": "stream",
     "text": [
      "LinearGAM                                                                                                 \n",
      "=============================================== ==========================================================\n",
      "Distribution:                        NormalDist Effective DoF:                                       1.998\n",
      "Link Function:                     IdentityLink Log Likelihood:                                -39594.5834\n",
      "Number of Samples:                         4688 AIC:                                            79195.1628\n",
      "                                                AICc:                                           79195.1679\n",
      "                                                GCV:                                                0.0473\n",
      "                                                Scale:                                              0.0472\n",
      "                                                Pseudo R-Squared:                                   0.1814\n",
      "==========================================================================================================\n",
      "Feature Function                  Lambda               Rank         EDoF         P > x        Sig. Code   \n",
      "================================= ==================== ============ ============ ============ ============\n",
      "l(0)                              [0.2512]             1            1.0          1.11e-16     ***         \n",
      "intercept                                              1            1.0          1.89e-05     ***         \n",
      "==========================================================================================================\n",
      "Significance codes:  0 '***' 0.001 '**' 0.01 '*' 0.05 '.' 0.1 ' ' 1\n",
      "\n",
      "WARNING: Fitting splines and a linear function to a feature introduces a model identifiability problem\n",
      "         which can cause p-values to appear significant when they are not.\n",
      "\n",
      "WARNING: p-values calculated in this manner behave correctly for un-penalized models or models with\n",
      "         known smoothing parameters, but when smoothing parameters have been estimated, the p-values\n",
      "         are typically lower than they should be, meaning that the tests reject the null too readily.\n"
     ]
    },
    {
     "name": "stderr",
     "output_type": "stream",
     "text": [
      "/var/folders/6g/kgz5rml118s6lqw25w5sv5mr0000gn/T/ipykernel_15271/2500949949.py:6: UserWarning: KNOWN BUG: p-values computed in this summary are likely much smaller than they should be. \n",
      " \n",
      "Please do not make inferences based on these values! \n",
      "\n",
      "Collaborate on a solution, and stay up to date at: \n",
      "github.com/dswah/pyGAM/issues/163 \n",
      "\n",
      "  uni_gam_300_5.summary()\n"
     ]
    }
   ],
   "source": [
    "# Model 5\n",
    "warnings.filterwarnings(\"ignore\", category=RuntimeWarning)\n",
    "uni_gam_300_5 = LinearGAM(l(0)).fit(X_train, y_train)\n",
    "\n",
    "uni_gam_300_5.gridsearch(X_train, y_train)\n",
    "uni_gam_300_5.summary()"
   ]
  },
  {
   "cell_type": "markdown",
   "id": "4f5149dc",
   "metadata": {},
   "source": [
    "### 2.6. Model 6: forbs and shrubs ~ spline(NDVI)"
   ]
  },
  {
   "cell_type": "code",
   "execution_count": 49,
   "id": "52b5c456",
   "metadata": {},
   "outputs": [
    {
     "name": "stderr",
     "output_type": "stream",
     "text": [
      "100% (11 of 11) |########################| Elapsed Time: 0:00:00 Time:  0:00:00\n"
     ]
    },
    {
     "name": "stdout",
     "output_type": "stream",
     "text": [
      "LinearGAM                                                                                                 \n",
      "=============================================== ==========================================================\n",
      "Distribution:                        NormalDist Effective DoF:                                      9.7893\n",
      "Link Function:                     IdentityLink Log Likelihood:                                 -40026.441\n",
      "Number of Samples:                         4688 AIC:                                            80074.4606\n",
      "                                                AICc:                                            80074.515\n",
      "                                                GCV:                                                0.0469\n",
      "                                                Scale:                                              0.0467\n",
      "                                                Pseudo R-Squared:                                    0.192\n",
      "==========================================================================================================\n",
      "Feature Function                  Lambda               Rank         EDoF         P > x        Sig. Code   \n",
      "================================= ==================== ============ ============ ============ ============\n",
      "s(0)                              [15.8489]            20           9.8          1.11e-16     ***         \n",
      "intercept                                              1            0.0          1.11e-16     ***         \n",
      "==========================================================================================================\n",
      "Significance codes:  0 '***' 0.001 '**' 0.01 '*' 0.05 '.' 0.1 ' ' 1\n",
      "\n",
      "WARNING: Fitting splines and a linear function to a feature introduces a model identifiability problem\n",
      "         which can cause p-values to appear significant when they are not.\n",
      "\n",
      "WARNING: p-values calculated in this manner behave correctly for un-penalized models or models with\n",
      "         known smoothing parameters, but when smoothing parameters have been estimated, the p-values\n",
      "         are typically lower than they should be, meaning that the tests reject the null too readily.\n"
     ]
    },
    {
     "name": "stderr",
     "output_type": "stream",
     "text": [
      "/var/folders/6g/kgz5rml118s6lqw25w5sv5mr0000gn/T/ipykernel_15271/1093988074.py:6: UserWarning: KNOWN BUG: p-values computed in this summary are likely much smaller than they should be. \n",
      " \n",
      "Please do not make inferences based on these values! \n",
      "\n",
      "Collaborate on a solution, and stay up to date at: \n",
      "github.com/dswah/pyGAM/issues/163 \n",
      "\n",
      "  uni_gam_300_6.summary()\n"
     ]
    }
   ],
   "source": [
    "# Model 6\n",
    "warnings.filterwarnings(\"ignore\", category=RuntimeWarning)\n",
    "uni_gam_300_6 = LinearGAM(s(0)).fit(X_train, y_train)\n",
    "\n",
    "uni_gam_300_6.gridsearch(X_train, y_train)\n",
    "uni_gam_300_6.summary()"
   ]
  },
  {
   "cell_type": "code",
   "execution_count": 104,
   "id": "24f67f04",
   "metadata": {},
   "outputs": [
    {
     "data": {
      "image/png": "[encoded data removed]",
      "text/plain": [
       "<Figure size 432x288 with 1 Axes>"
      ]
     },
     "metadata": {
      "needs_background": "light"
     },
     "output_type": "display_data"
    }
   ],
   "source": [
    "# plotting\n",
    "for i, term in enumerate(uni_gam_300_6.terms):\n",
    "    if term.isintercept:\n",
    "        continue\n",
    "\n",
    "    XX = uni_gam_300_6.generate_X_grid(term=i)\n",
    "    pdep, confi = uni_gam_300_6.partial_dependence(term=i, X=XX, width=0.95)\n",
    "\n",
    "    plt.figure()\n",
    "    plt.plot(XX[:, term.feature], pdep)\n",
    "    plt.hlines(y=0, xmin=0, xmax=1, linewidth=1, color='black', linestyle='--')\n",
    "    plt.plot(XX[:, term.feature], confi, c='r', ls='--')\n",
    " #   plt.ylim(-0.5, 0.5)\n",
    "    # set title, xlabel and ylabel\n",
    "    plt.title('Sensitivity of Shrubs density to NDVI\\nfor buffer zones of 300 m', fontsize=12)\n",
    "    plt.xlabel('NDVI', fontsize=12)\n",
    "    plt.ylabel('Change relative to mean\\nShrubs density', fontsize=12)\n",
    "    # save the figure\n",
    "    plt.savefig('thesis_project/visualizations/modelling/univariate/gam_shrubs_300_best_plot.png', dpi=300, bbox_inches='tight')\n",
    "    im.open('thesis_project/visualizations/modelling/univariate/gam_shrubs_300_best_plot.png').save('thesis_project/visualizations/modelling/univariate/gam_shrubs_300_best_plot.bmp')\n",
    "    plt.show()"
   ]
  },
  {
   "cell_type": "code",
   "execution_count": 51,
   "id": "86816a81",
   "metadata": {},
   "outputs": [
    {
     "name": "stdout",
     "output_type": "stream",
     "text": [
      "If NDVI goes from 0.25 to 0.35, shrubs%_300 increases by: 0.07724895435371407\n"
     ]
    }
   ],
   "source": [
    "# Change in low NDVI values: how does shrubs% increase, if NDVI changes from 0.25 to 0.35?\n",
    "shrubs_l0 = uni_gam_300_6.predict(0.25)\n",
    "shrubs_l1 = uni_gam_300_6.predict(0.35)\n",
    "shrubs_sens_low_300 = float(shrubs_l1 - shrubs_l0)\n",
    "print('If NDVI goes from 0.25 to 0.35, shrubs%_300 increases by:', shrubs_sens_low_300)"
   ]
  },
  {
   "cell_type": "code",
   "execution_count": 52,
   "id": "3262dbe0",
   "metadata": {},
   "outputs": [
    {
     "name": "stdout",
     "output_type": "stream",
     "text": [
      "If NDVI goes from 0.45 to 0.55, shrubs%_300 increases by: 0.12214665619742704\n"
     ]
    }
   ],
   "source": [
    "# Change in mid NDVI values: how does shrubs% increase, if NDVI changes from 0.45 to 0.55?\n",
    "shrubs_m0 = uni_gam_300_6.predict(0.45)\n",
    "shrubs_m1 = uni_gam_300_6.predict(0.55)\n",
    "shrubs_sens_mid_300 = float(shrubs_m1 - shrubs_m0)\n",
    "print('If NDVI goes from 0.45 to 0.55, shrubs%_300 increases by:', shrubs_sens_mid_300)"
   ]
  },
  {
   "cell_type": "code",
   "execution_count": 53,
   "id": "cd32ccb2",
   "metadata": {},
   "outputs": [
    {
     "name": "stdout",
     "output_type": "stream",
     "text": [
      "If NDVI goes from 0.65 to 0.75, shrubs%_300 increases by: 0.0676309094497004\n"
     ]
    }
   ],
   "source": [
    "# Change in high NDVI values: how does shrubs% increase, if NDVI changes from 0.65 to 0.75?\n",
    "shrubs_h0 = uni_gam_300_6.predict(0.65)\n",
    "shrubs_h1 = uni_gam_300_6.predict(0.75)\n",
    "shrubs_sens_hig_300 = float(shrubs_h1 - shrubs_h0)\n",
    "print('If NDVI goes from 0.65 to 0.75, shrubs%_300 increases by:', shrubs_sens_hig_300)"
   ]
  },
  {
   "cell_type": "markdown",
   "id": "c5af5c02",
   "metadata": {},
   "source": [
    "### 2.7. Model 7: grass ~ linear(NDVI)"
   ]
  },
  {
   "cell_type": "code",
   "execution_count": 54,
   "id": "4754fece",
   "metadata": {},
   "outputs": [],
   "source": [
    "# NDVI_300 as the predictor\n",
    "df = pd.DataFrame(gdf_300, columns=['NDVI_300'])\n",
    "\n",
    "# Grass%_300 as the target\n",
    "target = pd.DataFrame(gdf_300, columns=['Grass%_300'])\n",
    "\n",
    "# define X and y\n",
    "X = df\n",
    "y = target['Grass%_300']\n",
    "\n",
    "# split independent and dependent variables into training and test data\n",
    "X_train, X_test, y_train, y_test = train_test_split(X, y, test_size=0.2, random_state=0)\n",
    "\n",
    "# fit the linear model\n",
    "lm_300 = linear_model.LinearRegression()\n",
    "model_300 = lm_300.fit(X_train,y_train)"
   ]
  },
  {
   "cell_type": "code",
   "execution_count": 55,
   "id": "cc8e5b84",
   "metadata": {},
   "outputs": [
    {
     "name": "stderr",
     "output_type": "stream",
     "text": [
      "100% (11 of 11) |########################| Elapsed Time: 0:00:00 Time:  0:00:00\n"
     ]
    },
    {
     "name": "stdout",
     "output_type": "stream",
     "text": [
      "LinearGAM                                                                                                 \n",
      "=============================================== ==========================================================\n",
      "Distribution:                        NormalDist Effective DoF:                                      1.9995\n",
      "Link Function:                     IdentityLink Log Likelihood:                               -120838.6005\n",
      "Number of Samples:                         4688 AIC:                                              241683.2\n",
      "                                                AICc:                                          241683.2051\n",
      "                                                GCV:                                                0.0173\n",
      "                                                Scale:                                              0.0173\n",
      "                                                Pseudo R-Squared:                                   0.2411\n",
      "==========================================================================================================\n",
      "Feature Function                  Lambda               Rank         EDoF         P > x        Sig. Code   \n",
      "================================= ==================== ============ ============ ============ ============\n",
      "l(0)                              [0.0631]             1            1.0          1.11e-16     ***         \n",
      "intercept                                              1            1.0          1.11e-16     ***         \n",
      "==========================================================================================================\n",
      "Significance codes:  0 '***' 0.001 '**' 0.01 '*' 0.05 '.' 0.1 ' ' 1\n",
      "\n",
      "WARNING: Fitting splines and a linear function to a feature introduces a model identifiability problem\n",
      "         which can cause p-values to appear significant when they are not.\n",
      "\n",
      "WARNING: p-values calculated in this manner behave correctly for un-penalized models or models with\n",
      "         known smoothing parameters, but when smoothing parameters have been estimated, the p-values\n",
      "         are typically lower than they should be, meaning that the tests reject the null too readily.\n"
     ]
    },
    {
     "name": "stderr",
     "output_type": "stream",
     "text": [
      "/var/folders/6g/kgz5rml118s6lqw25w5sv5mr0000gn/T/ipykernel_15271/277399172.py:6: UserWarning: KNOWN BUG: p-values computed in this summary are likely much smaller than they should be. \n",
      " \n",
      "Please do not make inferences based on these values! \n",
      "\n",
      "Collaborate on a solution, and stay up to date at: \n",
      "github.com/dswah/pyGAM/issues/163 \n",
      "\n",
      "  uni_gam_300_7.summary()\n"
     ]
    }
   ],
   "source": [
    "# Model 7\n",
    "warnings.filterwarnings(\"ignore\", category=RuntimeWarning)\n",
    "uni_gam_300_7 = LinearGAM(l(0)).fit(X_train, y_train)\n",
    "\n",
    "uni_gam_300_7.gridsearch(X_train, y_train)\n",
    "uni_gam_300_7.summary()"
   ]
  },
  {
   "cell_type": "markdown",
   "id": "3a4cf5be",
   "metadata": {},
   "source": [
    "### 2.8. Model 8: grass ~ spline(NDVI)"
   ]
  },
  {
   "cell_type": "code",
   "execution_count": 56,
   "id": "00f7a619",
   "metadata": {},
   "outputs": [
    {
     "name": "stderr",
     "output_type": "stream",
     "text": [
      "100% (11 of 11) |########################| Elapsed Time: 0:00:00 Time:  0:00:00\n"
     ]
    },
    {
     "name": "stdout",
     "output_type": "stream",
     "text": [
      "LinearGAM                                                                                                 \n",
      "=============================================== ==========================================================\n",
      "Distribution:                        NormalDist Effective DoF:                                      7.6321\n",
      "Link Function:                     IdentityLink Log Likelihood:                               -121753.5413\n",
      "Number of Samples:                         4688 AIC:                                           243524.3468\n",
      "                                                AICc:                                          243524.3823\n",
      "                                                GCV:                                                0.0172\n",
      "                                                Scale:                                              0.0171\n",
      "                                                Pseudo R-Squared:                                   0.2482\n",
      "==========================================================================================================\n",
      "Feature Function                  Lambda               Rank         EDoF         P > x        Sig. Code   \n",
      "================================= ==================== ============ ============ ============ ============\n",
      "s(0)                              [63.0957]            20           7.6          1.11e-16     ***         \n",
      "intercept                                              1            0.0          1.11e-16     ***         \n",
      "==========================================================================================================\n",
      "Significance codes:  0 '***' 0.001 '**' 0.01 '*' 0.05 '.' 0.1 ' ' 1\n",
      "\n",
      "WARNING: Fitting splines and a linear function to a feature introduces a model identifiability problem\n",
      "         which can cause p-values to appear significant when they are not.\n",
      "\n",
      "WARNING: p-values calculated in this manner behave correctly for un-penalized models or models with\n",
      "         known smoothing parameters, but when smoothing parameters have been estimated, the p-values\n",
      "         are typically lower than they should be, meaning that the tests reject the null too readily.\n"
     ]
    },
    {
     "name": "stderr",
     "output_type": "stream",
     "text": [
      "/var/folders/6g/kgz5rml118s6lqw25w5sv5mr0000gn/T/ipykernel_15271/68270352.py:6: UserWarning: KNOWN BUG: p-values computed in this summary are likely much smaller than they should be. \n",
      " \n",
      "Please do not make inferences based on these values! \n",
      "\n",
      "Collaborate on a solution, and stay up to date at: \n",
      "github.com/dswah/pyGAM/issues/163 \n",
      "\n",
      "  uni_gam_300_8.summary()\n"
     ]
    }
   ],
   "source": [
    "# Model 8\n",
    "warnings.filterwarnings(\"ignore\", category=RuntimeWarning)\n",
    "uni_gam_300_8 = LinearGAM(s(0)).fit(X_train, y_train)\n",
    "\n",
    "uni_gam_300_8.gridsearch(X_train, y_train)\n",
    "uni_gam_300_8.summary()"
   ]
  },
  {
   "cell_type": "code",
   "execution_count": 105,
   "id": "008d6fd7",
   "metadata": {},
   "outputs": [
    {
     "data": {
      "image/png": "[encoded data removed]",
      "text/plain": [
       "<Figure size 432x288 with 1 Axes>"
      ]
     },
     "metadata": {
      "needs_background": "light"
     },
     "output_type": "display_data"
    }
   ],
   "source": [
    "# plotting\n",
    "for i, term in enumerate(uni_gam_300_8.terms):\n",
    "    if term.isintercept:\n",
    "        continue\n",
    "\n",
    "    XX = uni_gam_300_8.generate_X_grid(term=i)\n",
    "    pdep, confi = uni_gam_300_8.partial_dependence(term=i, X=XX, width=0.95)\n",
    "\n",
    "    plt.figure()\n",
    "    plt.plot(XX[:, term.feature], pdep)\n",
    "    plt.hlines(y=0, xmin=0, xmax=1, linewidth=1, color='black', linestyle='--')\n",
    "    plt.plot(XX[:, term.feature], confi, c='r', ls='--')\n",
    "#    plt.ylim(-0.5, 0.5)\n",
    "    # set title, xlabel and ylabel\n",
    "    plt.title('Sensitivity of Grass density to NDVI\\nfor buffer zones of 300 m', fontsize=12)\n",
    "    plt.xlabel('NDVI', fontsize=12)\n",
    "    plt.ylabel('Change relative to mean\\nGrass density', fontsize=12)\n",
    "    # save the figure\n",
    "    plt.savefig('thesis_project/visualizations/modelling/univariate/gam_grass_300_best_plot.png', dpi=300, bbox_inches='tight')\n",
    "    im.open('thesis_project/visualizations/modelling/univariate/gam_grass_300_best_plot.png').save('thesis_project/visualizations/modelling/univariate/gam_grass_300_best_plot.bmp')\n",
    "\n",
    "\n",
    "    plt.show()"
   ]
  },
  {
   "cell_type": "code",
   "execution_count": 58,
   "id": "2fdc55ec",
   "metadata": {},
   "outputs": [
    {
     "name": "stdout",
     "output_type": "stream",
     "text": [
      "If NDVI goes from 0.25 to 0.35, Grass%_300 increases by: 0.034178745396636304\n"
     ]
    }
   ],
   "source": [
    "# Change in low NDVI values: how does Grass% increase, if NDVI changes from 0.25 to 0.35?\n",
    "grass_l0 = uni_gam_300_8.predict(0.25)\n",
    "grass_l1 = uni_gam_300_8.predict(0.35)\n",
    "grass_sens_low_300 = float(grass_l1 - grass_l0)\n",
    "print('If NDVI goes from 0.25 to 0.35, Grass%_300 increases by:', grass_sens_low_300)"
   ]
  },
  {
   "cell_type": "code",
   "execution_count": 59,
   "id": "6da7b121",
   "metadata": {},
   "outputs": [
    {
     "name": "stdout",
     "output_type": "stream",
     "text": [
      "If NDVI goes from 0.45 to 0.55, Grass%_300 increases by: 0.04354067562250222\n"
     ]
    }
   ],
   "source": [
    "# Change in mid NDVI values: how does Grass% increase, if NDVI changes from 0.45 to 0.55?\n",
    "grass_m0 = uni_gam_300_8.predict(0.45)\n",
    "grass_m1 = uni_gam_300_8.predict(0.55)\n",
    "grass_sens_mid_300 = float(grass_m1 - grass_m0)\n",
    "print('If NDVI goes from 0.45 to 0.55, Grass%_300 increases by:', grass_sens_mid_300)"
   ]
  },
  {
   "cell_type": "code",
   "execution_count": 60,
   "id": "dba30d14",
   "metadata": {},
   "outputs": [
    {
     "name": "stdout",
     "output_type": "stream",
     "text": [
      "If NDVI goes from 0.65 to 0.75, Grass%_300 increases by: 0.041811506570193946\n"
     ]
    }
   ],
   "source": [
    "# Change in hig NDVI values: how does Grass% increase, if NDVI changes from 0.65 to 0.75?\n",
    "grass_h0 = uni_gam_300_8.predict(0.65)\n",
    "grass_h1 = uni_gam_300_8.predict(0.75)\n",
    "grass_sens_hig_300 = float(grass_h1 - grass_h0)\n",
    "print('If NDVI goes from 0.65 to 0.75, Grass%_300 increases by:', grass_sens_hig_300)"
   ]
  },
  {
   "cell_type": "markdown",
   "id": "d3e319e6",
   "metadata": {},
   "source": [
    "## 3. Modeling vegetation densities for buffer distances of 500 meters"
   ]
  },
  {
   "cell_type": "code",
   "execution_count": 61,
   "id": "056870cd",
   "metadata": {},
   "outputs": [
    {
     "data": {
      "text/html": [
       "<div>\n",
       "<style scoped>\n",
       "    .dataframe tbody tr th:only-of-type {\n",
       "        vertical-align: middle;\n",
       "    }\n",
       "\n",
       "    .dataframe tbody tr th {\n",
       "        vertical-align: top;\n",
       "    }\n",
       "\n",
       "    .dataframe thead th {\n",
       "        text-align: right;\n",
       "    }\n",
       "</style>\n",
       "<table border=\"1\" class=\"dataframe\">\n",
       "  <thead>\n",
       "    <tr style=\"text-align: right;\">\n",
       "      <th></th>\n",
       "      <th>NDVI_500</th>\n",
       "      <th>Greenspace%_500</th>\n",
       "      <th>Canopy%_500</th>\n",
       "      <th>Grass%_500</th>\n",
       "      <th>Shrubs%_500</th>\n",
       "      <th>geometry</th>\n",
       "    </tr>\n",
       "  </thead>\n",
       "  <tbody>\n",
       "    <tr>\n",
       "      <th>0</th>\n",
       "      <td>0.616906</td>\n",
       "      <td>0.714233</td>\n",
       "      <td>0.509538</td>\n",
       "      <td>0.305474</td>\n",
       "      <td>0.177276</td>\n",
       "      <td>POINT (377098.736 391409.893)</td>\n",
       "    </tr>\n",
       "    <tr>\n",
       "      <th>1</th>\n",
       "      <td>0.535196</td>\n",
       "      <td>0.518279</td>\n",
       "      <td>0.272543</td>\n",
       "      <td>0.170375</td>\n",
       "      <td>0.244285</td>\n",
       "      <td>POINT (388776.738 395338.550)</td>\n",
       "    </tr>\n",
       "    <tr>\n",
       "      <th>2</th>\n",
       "      <td>0.625744</td>\n",
       "      <td>0.665035</td>\n",
       "      <td>0.458237</td>\n",
       "      <td>0.265076</td>\n",
       "      <td>0.194620</td>\n",
       "      <td>POINT (385102.497 389586.914)</td>\n",
       "    </tr>\n",
       "    <tr>\n",
       "      <th>3</th>\n",
       "      <td>0.869751</td>\n",
       "      <td>0.959438</td>\n",
       "      <td>0.194798</td>\n",
       "      <td>0.637881</td>\n",
       "      <td>0.401261</td>\n",
       "      <td>POINT (358860.328 409008.505)</td>\n",
       "    </tr>\n",
       "    <tr>\n",
       "      <th>4</th>\n",
       "      <td>0.855770</td>\n",
       "      <td>0.984456</td>\n",
       "      <td>0.180780</td>\n",
       "      <td>0.170082</td>\n",
       "      <td>0.213244</td>\n",
       "      <td>POINT (369877.609 414278.479)</td>\n",
       "    </tr>\n",
       "  </tbody>\n",
       "</table>\n",
       "</div>"
      ],
      "text/plain": [
       "   NDVI_500  Greenspace%_500  Canopy%_500  Grass%_500  Shrubs%_500  \\\n",
       "0  0.616906         0.714233     0.509538    0.305474     0.177276   \n",
       "1  0.535196         0.518279     0.272543    0.170375     0.244285   \n",
       "2  0.625744         0.665035     0.458237    0.265076     0.194620   \n",
       "3  0.869751         0.959438     0.194798    0.637881     0.401261   \n",
       "4  0.855770         0.984456     0.180780    0.170082     0.213244   \n",
       "\n",
       "                        geometry  \n",
       "0  POINT (377098.736 391409.893)  \n",
       "1  POINT (388776.738 395338.550)  \n",
       "2  POINT (385102.497 389586.914)  \n",
       "3  POINT (358860.328 409008.505)  \n",
       "4  POINT (369877.609 414278.479)  "
      ]
     },
     "execution_count": 61,
     "metadata": {},
     "output_type": "execute_result"
    }
   ],
   "source": [
    "# load greenspace metrics at 500m geodataframe\n",
    "gdf_500 = gpd.read_file(\"thesis_project/output/dataframes/greenspace_metrics_500_df.json\")\n",
    "gdf_500.head()"
   ]
  },
  {
   "cell_type": "markdown",
   "id": "442e67bf",
   "metadata": {},
   "source": [
    "### 3.1. Model 1: greenspace ~ linear(NDVI)"
   ]
  },
  {
   "cell_type": "code",
   "execution_count": 62,
   "id": "150814b6",
   "metadata": {},
   "outputs": [],
   "source": [
    "# NDVI_500 as the predictor\n",
    "df = pd.DataFrame(gdf_500, columns=['NDVI_500'])\n",
    "\n",
    "# Greenspace%_300 as the target\n",
    "target = pd.DataFrame(gdf_500, columns=['Greenspace%_500'])\n",
    "\n",
    "# define X and y\n",
    "X = df\n",
    "y = target['Greenspace%_500']\n",
    "\n",
    "# split independent and dependent variables into training and test data\n",
    "X_train, X_test, y_train, y_test = train_test_split(X, y, test_size=0.2, random_state=0)\n",
    "\n",
    "# fit the linear model\n",
    "lm_500 = linear_model.LinearRegression()\n",
    "model_500 = lm_500.fit(X_train,y_train)"
   ]
  },
  {
   "cell_type": "code",
   "execution_count": 63,
   "id": "d79127c3",
   "metadata": {},
   "outputs": [
    {
     "name": "stderr",
     "output_type": "stream",
     "text": [
      "100% (11 of 11) |########################| Elapsed Time: 0:00:00 Time:  0:00:00\n"
     ]
    },
    {
     "name": "stdout",
     "output_type": "stream",
     "text": [
      "LinearGAM                                                                                                 \n",
      "=============================================== ==========================================================\n",
      "Distribution:                        NormalDist Effective DoF:                                      1.9998\n",
      "Link Function:                     IdentityLink Log Likelihood:                                -61512.1794\n",
      "Number of Samples:                         2318 AIC:                                           123030.3584\n",
      "                                                AICc:                                          123030.3688\n",
      "                                                GCV:                                                0.0168\n",
      "                                                Scale:                                              0.0168\n",
      "                                                Pseudo R-Squared:                                   0.6671\n",
      "==========================================================================================================\n",
      "Feature Function                  Lambda               Rank         EDoF         P > x        Sig. Code   \n",
      "================================= ==================== ============ ============ ============ ============\n",
      "l(0)                              [0.0158]             1            1.0          1.11e-16     ***         \n",
      "intercept                                              1            1.0          7.70e-03     **          \n",
      "==========================================================================================================\n",
      "Significance codes:  0 '***' 0.001 '**' 0.01 '*' 0.05 '.' 0.1 ' ' 1\n",
      "\n",
      "WARNING: Fitting splines and a linear function to a feature introduces a model identifiability problem\n",
      "         which can cause p-values to appear significant when they are not.\n",
      "\n",
      "WARNING: p-values calculated in this manner behave correctly for un-penalized models or models with\n",
      "         known smoothing parameters, but when smoothing parameters have been estimated, the p-values\n",
      "         are typically lower than they should be, meaning that the tests reject the null too readily.\n"
     ]
    },
    {
     "name": "stderr",
     "output_type": "stream",
     "text": [
      "/var/folders/6g/kgz5rml118s6lqw25w5sv5mr0000gn/T/ipykernel_15271/2474993179.py:6: UserWarning: KNOWN BUG: p-values computed in this summary are likely much smaller than they should be. \n",
      " \n",
      "Please do not make inferences based on these values! \n",
      "\n",
      "Collaborate on a solution, and stay up to date at: \n",
      "github.com/dswah/pyGAM/issues/163 \n",
      "\n",
      "  uni_gam_500_1.summary()\n"
     ]
    }
   ],
   "source": [
    "# Model 1\n",
    "warnings.filterwarnings(\"ignore\", category=RuntimeWarning)\n",
    "uni_gam_500_1 = LinearGAM(l(0)).fit(X_train, y_train)\n",
    "\n",
    "uni_gam_500_1.gridsearch(X_train, y_train)\n",
    "uni_gam_500_1.summary()"
   ]
  },
  {
   "cell_type": "markdown",
   "id": "412d77c1",
   "metadata": {},
   "source": [
    "### 3.2. Model 2: greenspace ~ spline(NDVI)"
   ]
  },
  {
   "cell_type": "code",
   "execution_count": 64,
   "id": "595a8e06",
   "metadata": {},
   "outputs": [
    {
     "name": "stderr",
     "output_type": "stream",
     "text": [
      "100% (11 of 11) |########################| Elapsed Time: 0:00:00 Time:  0:00:00\n"
     ]
    },
    {
     "name": "stdout",
     "output_type": "stream",
     "text": [
      "LinearGAM                                                                                                 \n",
      "=============================================== ==========================================================\n",
      "Distribution:                        NormalDist Effective DoF:                                      8.7962\n",
      "Link Function:                     IdentityLink Log Likelihood:                                -65532.5424\n",
      "Number of Samples:                         2318 AIC:                                           131084.6772\n",
      "                                                AICc:                                          131084.7688\n",
      "                                                GCV:                                                0.0159\n",
      "                                                Scale:                                              0.0158\n",
      "                                                Pseudo R-Squared:                                    0.688\n",
      "==========================================================================================================\n",
      "Feature Function                  Lambda               Rank         EDoF         P > x        Sig. Code   \n",
      "================================= ==================== ============ ============ ============ ============\n",
      "s(0)                              [15.8489]            20           8.8          1.11e-16     ***         \n",
      "intercept                                              1            0.0          1.11e-16     ***         \n",
      "==========================================================================================================\n",
      "Significance codes:  0 '***' 0.001 '**' 0.01 '*' 0.05 '.' 0.1 ' ' 1\n",
      "\n",
      "WARNING: Fitting splines and a linear function to a feature introduces a model identifiability problem\n",
      "         which can cause p-values to appear significant when they are not.\n",
      "\n",
      "WARNING: p-values calculated in this manner behave correctly for un-penalized models or models with\n",
      "         known smoothing parameters, but when smoothing parameters have been estimated, the p-values\n",
      "         are typically lower than they should be, meaning that the tests reject the null too readily.\n"
     ]
    },
    {
     "name": "stderr",
     "output_type": "stream",
     "text": [
      "/var/folders/6g/kgz5rml118s6lqw25w5sv5mr0000gn/T/ipykernel_15271/3753528684.py:6: UserWarning: KNOWN BUG: p-values computed in this summary are likely much smaller than they should be. \n",
      " \n",
      "Please do not make inferences based on these values! \n",
      "\n",
      "Collaborate on a solution, and stay up to date at: \n",
      "github.com/dswah/pyGAM/issues/163 \n",
      "\n",
      "  uni_gam_500_2.summary()\n"
     ]
    }
   ],
   "source": [
    "# Model 2\n",
    "warnings.filterwarnings(\"ignore\", category=RuntimeWarning)\n",
    "uni_gam_500_2 = LinearGAM(s(0)).fit(X_train, y_train)\n",
    "\n",
    "uni_gam_500_2.gridsearch(X_train, y_train)\n",
    "uni_gam_500_2.summary()"
   ]
  },
  {
   "cell_type": "code",
   "execution_count": 106,
   "id": "e4ec89e0",
   "metadata": {},
   "outputs": [
    {
     "data": {
      "image/png": "[encoded data removed]",
      "text/plain": [
       "<Figure size 432x288 with 1 Axes>"
      ]
     },
     "metadata": {
      "needs_background": "light"
     },
     "output_type": "display_data"
    }
   ],
   "source": [
    "# plotting\n",
    "for i, term in enumerate(uni_gam_500_2.terms):\n",
    "    if term.isintercept:\n",
    "        continue\n",
    "\n",
    "    XX = uni_gam_500_2.generate_X_grid(term=i)\n",
    "    pdep, confi = uni_gam_500_2.partial_dependence(term=i, X=XX, width=0.95)\n",
    "\n",
    "    plt.figure()\n",
    "    plt.plot(XX[:, term.feature], pdep)\n",
    "    plt.hlines(y=0, xmin=0, xmax=1, linewidth=1, color='black', linestyle='--')\n",
    "    plt.plot(XX[:, term.feature], confi, c='r', ls='--')\n",
    "#    plt.ylim(-0.5, 0.5)\n",
    "    # set title, xlabel and ylabel\n",
    "    plt.title('Sensitivity of Greenspace to NDVI\\nfor buffer zones of 500 m', fontsize=12)\n",
    "    plt.xlabel('NDVI', fontsize=12)\n",
    "    plt.ylabel('Change relative to mean\\nGreenspace', fontsize=12)\n",
    "    # save the figure\n",
    "    plt.savefig('thesis_project/visualizations/modelling/univariate/gam_greenspace_500_best_plot.png', dpi=300, bbox_inches='tight')\n",
    "    im.open('thesis_project/visualizations/modelling/univariate/gam_greenspace_500_best_plot.png').save('thesis_project/visualizations/modelling/univariate/gam_greenspace_500_best_plot.bmp')\n",
    "    plt.show()"
   ]
  },
  {
   "cell_type": "code",
   "execution_count": 66,
   "id": "6fb0a348",
   "metadata": {},
   "outputs": [
    {
     "name": "stdout",
     "output_type": "stream",
     "text": [
      "If NDVI goes from 0.25 to 0.35, Greenspace%_500 increases by: 0.11047695982508077\n"
     ]
    }
   ],
   "source": [
    "# Change in low NDVI values: how does Greenspace% increase, if NDVI changes from 0.25 to 0.35?\n",
    "green_l0 = uni_gam_500_2.predict(0.25)\n",
    "green_l1 = uni_gam_500_2.predict(0.35)\n",
    "green_sens_low_500 = float(green_l1 - green_l0)\n",
    "print('If NDVI goes from 0.25 to 0.35, Greenspace%_500 increases by:', green_sens_low_500)"
   ]
  },
  {
   "cell_type": "code",
   "execution_count": 67,
   "id": "c3d945c5",
   "metadata": {},
   "outputs": [
    {
     "name": "stdout",
     "output_type": "stream",
     "text": [
      "If NDVI goes from 0.45 to 0.55, Greenspace%_500 increases by: 0.1664203077071046\n"
     ]
    }
   ],
   "source": [
    "# Change in medium NDVI values: how does Greenspace% increase, if NDVI changes from 0.45 to 0.55?\n",
    "green_m0 = uni_gam_500_2.predict(0.45)\n",
    "green_m1 = uni_gam_500_2.predict(0.55)\n",
    "green_sens_mid_500 = float(green_m1 - green_m0)\n",
    "print('If NDVI goes from 0.45 to 0.55, Greenspace%_500 increases by:', green_sens_mid_500)"
   ]
  },
  {
   "cell_type": "code",
   "execution_count": 68,
   "id": "73f655eb",
   "metadata": {},
   "outputs": [
    {
     "name": "stdout",
     "output_type": "stream",
     "text": [
      "If NDVI goes from 0.65 to 0.75, Greenspace%_500 increases by: 0.0926203126422982\n"
     ]
    }
   ],
   "source": [
    "# Change in high NDVI values: how does Greenspace% increase, if NDVI changes from 0.65 to 0.75?\n",
    "green_h0 = uni_gam_500_2.predict(0.65)\n",
    "green_h1 = uni_gam_500_2.predict(0.75)\n",
    "green_sens_hig_500 = float(green_h1 - green_h0)\n",
    "print('If NDVI goes from 0.65 to 0.75, Greenspace%_500 increases by:', green_sens_hig_500)"
   ]
  },
  {
   "cell_type": "markdown",
   "id": "5653389d",
   "metadata": {},
   "source": [
    "### 3.3. Model 3: tree canopy ~ linear(NDVI)"
   ]
  },
  {
   "cell_type": "code",
   "execution_count": 69,
   "id": "68ee1650",
   "metadata": {},
   "outputs": [],
   "source": [
    "# NDVI_500 as the predictor\n",
    "df = pd.DataFrame(gdf_500, columns=['NDVI_500'])\n",
    "\n",
    "# Greenspace%_300 as the target\n",
    "target = pd.DataFrame(gdf_500, columns=['Canopy%_500'])\n",
    "\n",
    "# define X and y\n",
    "X = df\n",
    "y = target['Canopy%_500']\n",
    "\n",
    "# split independent and dependent variables into training and test data\n",
    "X_train, X_test, y_train, y_test = train_test_split(X, y, test_size=0.2, random_state=0)\n",
    "\n",
    "# fit the linear model\n",
    "lm_500 = linear_model.LinearRegression()\n",
    "model_500 = lm_500.fit(X_train,y_train)"
   ]
  },
  {
   "cell_type": "code",
   "execution_count": 70,
   "id": "3ebb7231",
   "metadata": {},
   "outputs": [
    {
     "name": "stderr",
     "output_type": "stream",
     "text": [
      "100% (11 of 11) |########################| Elapsed Time: 0:00:00 Time:  0:00:00\n"
     ]
    },
    {
     "name": "stdout",
     "output_type": "stream",
     "text": [
      "LinearGAM                                                                                                 \n",
      "=============================================== ==========================================================\n",
      "Distribution:                        NormalDist Effective DoF:                                      1.9858\n",
      "Link Function:                     IdentityLink Log Likelihood:                                 -33784.401\n",
      "Number of Samples:                         2318 AIC:                                            67574.7735\n",
      "                                                AICc:                                           67574.7838\n",
      "                                                GCV:                                                0.0291\n",
      "                                                Scale:                                              0.0291\n",
      "                                                Pseudo R-Squared:                                   0.0296\n",
      "==========================================================================================================\n",
      "Feature Function                  Lambda               Rank         EDoF         P > x        Sig. Code   \n",
      "================================= ==================== ============ ============ ============ ============\n",
      "l(0)                              [1.]                 1            1.0          1.11e-16     ***         \n",
      "intercept                                              1            1.0          1.11e-16     ***         \n",
      "==========================================================================================================\n",
      "Significance codes:  0 '***' 0.001 '**' 0.01 '*' 0.05 '.' 0.1 ' ' 1\n",
      "\n",
      "WARNING: Fitting splines and a linear function to a feature introduces a model identifiability problem\n",
      "         which can cause p-values to appear significant when they are not.\n",
      "\n",
      "WARNING: p-values calculated in this manner behave correctly for un-penalized models or models with\n",
      "         known smoothing parameters, but when smoothing parameters have been estimated, the p-values\n",
      "         are typically lower than they should be, meaning that the tests reject the null too readily.\n"
     ]
    },
    {
     "name": "stderr",
     "output_type": "stream",
     "text": [
      "/var/folders/6g/kgz5rml118s6lqw25w5sv5mr0000gn/T/ipykernel_15271/2840720071.py:6: UserWarning: KNOWN BUG: p-values computed in this summary are likely much smaller than they should be. \n",
      " \n",
      "Please do not make inferences based on these values! \n",
      "\n",
      "Collaborate on a solution, and stay up to date at: \n",
      "github.com/dswah/pyGAM/issues/163 \n",
      "\n",
      "  uni_gam_500_3.summary()\n"
     ]
    }
   ],
   "source": [
    "# Model 3\n",
    "warnings.filterwarnings(\"ignore\", category=RuntimeWarning)\n",
    "uni_gam_500_3 = LinearGAM(l(0)).fit(X_train, y_train)\n",
    "\n",
    "uni_gam_500_3.gridsearch(X_train, y_train)\n",
    "uni_gam_500_3.summary()"
   ]
  },
  {
   "cell_type": "markdown",
   "id": "8902f230",
   "metadata": {},
   "source": [
    "### 3.4. Model 4: tree canopy ~ spline(NDVI)"
   ]
  },
  {
   "cell_type": "code",
   "execution_count": 71,
   "id": "ef109c53",
   "metadata": {},
   "outputs": [
    {
     "name": "stderr",
     "output_type": "stream",
     "text": [
      "100% (11 of 11) |########################| Elapsed Time: 0:00:00 Time:  0:00:00\n"
     ]
    },
    {
     "name": "stdout",
     "output_type": "stream",
     "text": [
      "LinearGAM                                                                                                 \n",
      "=============================================== ==========================================================\n",
      "Distribution:                        NormalDist Effective DoF:                                       5.198\n",
      "Link Function:                     IdentityLink Log Likelihood:                                -34774.5523\n",
      "Number of Samples:                         2318 AIC:                                            69561.5005\n",
      "                                                AICc:                                           69561.5391\n",
      "                                                GCV:                                                0.0284\n",
      "                                                Scale:                                              0.0283\n",
      "                                                Pseudo R-Squared:                                   0.0572\n",
      "==========================================================================================================\n",
      "Feature Function                  Lambda               Rank         EDoF         P > x        Sig. Code   \n",
      "================================= ==================== ============ ============ ============ ============\n",
      "s(0)                              [251.1886]           20           5.2          1.11e-16     ***         \n",
      "intercept                                              1            0.0          1.11e-16     ***         \n",
      "==========================================================================================================\n",
      "Significance codes:  0 '***' 0.001 '**' 0.01 '*' 0.05 '.' 0.1 ' ' 1\n",
      "\n",
      "WARNING: Fitting splines and a linear function to a feature introduces a model identifiability problem\n",
      "         which can cause p-values to appear significant when they are not.\n",
      "\n",
      "WARNING: p-values calculated in this manner behave correctly for un-penalized models or models with\n",
      "         known smoothing parameters, but when smoothing parameters have been estimated, the p-values\n",
      "         are typically lower than they should be, meaning that the tests reject the null too readily.\n"
     ]
    },
    {
     "name": "stderr",
     "output_type": "stream",
     "text": [
      "/var/folders/6g/kgz5rml118s6lqw25w5sv5mr0000gn/T/ipykernel_15271/3479331719.py:6: UserWarning: KNOWN BUG: p-values computed in this summary are likely much smaller than they should be. \n",
      " \n",
      "Please do not make inferences based on these values! \n",
      "\n",
      "Collaborate on a solution, and stay up to date at: \n",
      "github.com/dswah/pyGAM/issues/163 \n",
      "\n",
      "  uni_gam_500_4.summary()\n"
     ]
    }
   ],
   "source": [
    "# Model 4\n",
    "warnings.filterwarnings(\"ignore\", category=RuntimeWarning)\n",
    "uni_gam_500_4 = LinearGAM(s(0)).fit(X_train, y_train)\n",
    "\n",
    "uni_gam_500_4.gridsearch(X_train, y_train)\n",
    "uni_gam_500_4.summary()"
   ]
  },
  {
   "cell_type": "code",
   "execution_count": 107,
   "id": "caa32aa0",
   "metadata": {},
   "outputs": [
    {
     "data": {
      "image/png": "[encoded data removed]",
      "text/plain": [
       "<Figure size 432x288 with 1 Axes>"
      ]
     },
     "metadata": {
      "needs_background": "light"
     },
     "output_type": "display_data"
    }
   ],
   "source": [
    "# plotting\n",
    "for i, term in enumerate(uni_gam_500_4.terms):\n",
    "    if term.isintercept:\n",
    "        continue\n",
    "\n",
    "    XX = uni_gam_500_4.generate_X_grid(term=i)\n",
    "    pdep, confi = uni_gam_500_4.partial_dependence(term=i, X=XX, width=0.95)\n",
    "\n",
    "    plt.figure()\n",
    "    plt.plot(XX[:, term.feature], pdep)\n",
    "    plt.hlines(y=0, xmin=0, xmax=1, linewidth=1, color='black', linestyle='--')\n",
    "    plt.plot(XX[:, term.feature], confi, c='r', ls='--')\n",
    "#    plt.ylim(-0.5, 0.5)\n",
    "    # set title, xlabel and ylabel\n",
    "    plt.title('Sensitivity of Tree canopy to NDVI\\nfor buffer zones of 500 m', fontsize=12)\n",
    "    plt.xlabel('NDVI', fontsize=12)\n",
    "    plt.ylabel('Change relative to mean\\nTree canopy', fontsize=12)\n",
    "    # save the figure\n",
    "    plt.savefig('thesis_project/visualizations/modelling/univariate/gam_canopy_500_best_plot.png', dpi=300, bbox_inches='tight')\n",
    "    im.open('thesis_project/visualizations/modelling/univariate/gam_canopy_500_best_plot.png').save('thesis_project/visualizations/modelling/univariate/gam_canopy_500_best_plot.bmp')\n",
    "    plt.show()"
   ]
  },
  {
   "cell_type": "code",
   "execution_count": 73,
   "id": "b2b333d9",
   "metadata": {},
   "outputs": [
    {
     "name": "stdout",
     "output_type": "stream",
     "text": [
      "If NDVI goes from 0.45 to 0.55, canopy%_500 increases by: 0.03488364838650648\n"
     ]
    }
   ],
   "source": [
    "# Change in medium NDVI values: how does canopy% increase, if NDVI changes from 0.45 to 0.55?\n",
    "canopy_m0 = uni_gam_500_4.predict(0.45)\n",
    "canopy_m1 = uni_gam_500_4.predict(0.55)\n",
    "canopy_sens_mid_500 = float(canopy_m1 - canopy_m0)\n",
    "print('If NDVI goes from 0.45 to 0.55, canopy%_500 increases by:', canopy_sens_mid_500)"
   ]
  },
  {
   "cell_type": "code",
   "execution_count": 74,
   "id": "976911ed",
   "metadata": {},
   "outputs": [
    {
     "name": "stdout",
     "output_type": "stream",
     "text": [
      "If NDVI goes from 0.65 to 0.75, canopy%_500 increases by: 0.01057659406173278\n"
     ]
    }
   ],
   "source": [
    "# Change in high NDVI values: how does canopy% increase, if NDVI changes from 0.65 to 0.75?\n",
    "canopy_h0 = uni_gam_500_4.predict(0.65)\n",
    "canopy_h1 = uni_gam_500_4.predict(0.75)\n",
    "canopy_sens_hig_500 = float(canopy_h1 - canopy_h0)\n",
    "print('If NDVI goes from 0.65 to 0.75, canopy%_500 increases by:', canopy_sens_hig_500)"
   ]
  },
  {
   "cell_type": "code",
   "execution_count": 75,
   "id": "98e8fb83",
   "metadata": {},
   "outputs": [
    {
     "name": "stdout",
     "output_type": "stream",
     "text": [
      "If NDVI goes from 0.25 to 0.35, canopy%_500 increases by: 0.04109111787259234\n"
     ]
    }
   ],
   "source": [
    "# Change in low NDVI values: how does Canopy% increase, if NDVI changes from 0.25 to 0.35?\n",
    "canopy_l0 = uni_gam_500_4.predict(0.25)\n",
    "canopy_l1 = uni_gam_500_4.predict(0.35)\n",
    "canopy_sens_low_500 = float(canopy_l1 - canopy_l0)\n",
    "print('If NDVI goes from 0.25 to 0.35, canopy%_500 increases by:', canopy_sens_low_500)"
   ]
  },
  {
   "cell_type": "markdown",
   "id": "b6493010",
   "metadata": {},
   "source": [
    "### 3.5. Model 5: forbs and shrubs ~ linear(NDVI)"
   ]
  },
  {
   "cell_type": "code",
   "execution_count": 76,
   "id": "b3aa53b6",
   "metadata": {},
   "outputs": [],
   "source": [
    "# NDVI_500 as the predictor\n",
    "df = pd.DataFrame(gdf_500, columns=['NDVI_500'])\n",
    "\n",
    "# Shrubs%_500 as the target\n",
    "target = pd.DataFrame(gdf_500, columns=['Shrubs%_500'])\n",
    "\n",
    "# define X and y\n",
    "X = df\n",
    "y = target['Shrubs%_500']\n",
    "\n",
    "# split independent and dependent variables into training and test data\n",
    "X_train, X_test, y_train, y_test = train_test_split(X, y, test_size=0.2, random_state=0)\n",
    "\n",
    "# fit the linear model\n",
    "lm_500 = linear_model.LinearRegression()\n",
    "model_500 = lm_500.fit(X_train,y_train)"
   ]
  },
  {
   "cell_type": "code",
   "execution_count": 77,
   "id": "89d5e340",
   "metadata": {},
   "outputs": [
    {
     "name": "stderr",
     "output_type": "stream",
     "text": [
      "100% (11 of 11) |########################| Elapsed Time: 0:00:00 Time:  0:00:00\n"
     ]
    },
    {
     "name": "stdout",
     "output_type": "stream",
     "text": [
      "LinearGAM                                                                                                 \n",
      "=============================================== ==========================================================\n",
      "Distribution:                        NormalDist Effective DoF:                                      1.9964\n",
      "Link Function:                     IdentityLink Log Likelihood:                                -23000.5644\n",
      "Number of Samples:                         2318 AIC:                                            46007.1216\n",
      "                                                AICc:                                            46007.132\n",
      "                                                GCV:                                                 0.041\n",
      "                                                Scale:                                               0.041\n",
      "                                                Pseudo R-Squared:                                   0.1673\n",
      "==========================================================================================================\n",
      "Feature Function                  Lambda               Rank         EDoF         P > x        Sig. Code   \n",
      "================================= ==================== ============ ============ ============ ============\n",
      "l(0)                              [0.2512]             1            1.0          1.11e-16     ***         \n",
      "intercept                                              1            1.0          9.46e-01                 \n",
      "==========================================================================================================\n",
      "Significance codes:  0 '***' 0.001 '**' 0.01 '*' 0.05 '.' 0.1 ' ' 1\n",
      "\n",
      "WARNING: Fitting splines and a linear function to a feature introduces a model identifiability problem\n",
      "         which can cause p-values to appear significant when they are not.\n",
      "\n",
      "WARNING: p-values calculated in this manner behave correctly for un-penalized models or models with\n",
      "         known smoothing parameters, but when smoothing parameters have been estimated, the p-values\n",
      "         are typically lower than they should be, meaning that the tests reject the null too readily.\n"
     ]
    },
    {
     "name": "stderr",
     "output_type": "stream",
     "text": [
      "/var/folders/6g/kgz5rml118s6lqw25w5sv5mr0000gn/T/ipykernel_15271/405054797.py:6: UserWarning: KNOWN BUG: p-values computed in this summary are likely much smaller than they should be. \n",
      " \n",
      "Please do not make inferences based on these values! \n",
      "\n",
      "Collaborate on a solution, and stay up to date at: \n",
      "github.com/dswah/pyGAM/issues/163 \n",
      "\n",
      "  uni_gam_500_5.summary()\n"
     ]
    }
   ],
   "source": [
    "# Model 5\n",
    "warnings.filterwarnings(\"ignore\", category=RuntimeWarning)\n",
    "uni_gam_500_5 = LinearGAM(l(0)).fit(X_train, y_train)\n",
    "\n",
    "uni_gam_500_5.gridsearch(X_train, y_train)\n",
    "uni_gam_500_5.summary()"
   ]
  },
  {
   "cell_type": "markdown",
   "id": "a69599b4",
   "metadata": {},
   "source": [
    "### 3.6. Model 6: forbs and shrubs ~ spline(NDVI)"
   ]
  },
  {
   "cell_type": "code",
   "execution_count": 78,
   "id": "280653f8",
   "metadata": {},
   "outputs": [
    {
     "name": "stderr",
     "output_type": "stream",
     "text": [
      "100% (11 of 11) |########################| Elapsed Time: 0:00:01 Time:  0:00:01\n"
     ]
    },
    {
     "name": "stdout",
     "output_type": "stream",
     "text": [
      "LinearGAM                                                                                                 \n",
      "=============================================== ==========================================================\n",
      "Distribution:                        NormalDist Effective DoF:                                      8.7962\n",
      "Link Function:                     IdentityLink Log Likelihood:                                -23221.4333\n",
      "Number of Samples:                         2318 AIC:                                            46462.4589\n",
      "                                                AICc:                                           46462.5506\n",
      "                                                GCV:                                                0.0408\n",
      "                                                Scale:                                              0.0405\n",
      "                                                Pseudo R-Squared:                                   0.1794\n",
      "==========================================================================================================\n",
      "Feature Function                  Lambda               Rank         EDoF         P > x        Sig. Code   \n",
      "================================= ==================== ============ ============ ============ ============\n",
      "s(0)                              [15.8489]            20           8.8          1.11e-16     ***         \n",
      "intercept                                              1            0.0          1.11e-16     ***         \n",
      "==========================================================================================================\n",
      "Significance codes:  0 '***' 0.001 '**' 0.01 '*' 0.05 '.' 0.1 ' ' 1\n",
      "\n",
      "WARNING: Fitting splines and a linear function to a feature introduces a model identifiability problem\n",
      "         which can cause p-values to appear significant when they are not.\n",
      "\n",
      "WARNING: p-values calculated in this manner behave correctly for un-penalized models or models with\n",
      "         known smoothing parameters, but when smoothing parameters have been estimated, the p-values\n",
      "         are typically lower than they should be, meaning that the tests reject the null too readily.\n"
     ]
    },
    {
     "name": "stderr",
     "output_type": "stream",
     "text": [
      "/var/folders/6g/kgz5rml118s6lqw25w5sv5mr0000gn/T/ipykernel_15271/2335926396.py:6: UserWarning: KNOWN BUG: p-values computed in this summary are likely much smaller than they should be. \n",
      " \n",
      "Please do not make inferences based on these values! \n",
      "\n",
      "Collaborate on a solution, and stay up to date at: \n",
      "github.com/dswah/pyGAM/issues/163 \n",
      "\n",
      "  uni_gam_500_6.summary()\n"
     ]
    }
   ],
   "source": [
    "# Model 6\n",
    "warnings.filterwarnings(\"ignore\", category=RuntimeWarning)\n",
    "uni_gam_500_6 = LinearGAM(s(0)).fit(X_train, y_train)\n",
    "\n",
    "uni_gam_500_6.gridsearch(X_train, y_train)\n",
    "uni_gam_500_6.summary()"
   ]
  },
  {
   "cell_type": "code",
   "execution_count": 108,
   "id": "cb9915a7",
   "metadata": {},
   "outputs": [
    {
     "data": {
      "image/png": "[encoded data removed]",
      "text/plain": [
       "<Figure size 432x288 with 1 Axes>"
      ]
     },
     "metadata": {
      "needs_background": "light"
     },
     "output_type": "display_data"
    }
   ],
   "source": [
    "# plotting\n",
    "for i, term in enumerate(uni_gam_500_6.terms):\n",
    "    if term.isintercept:\n",
    "        continue\n",
    "\n",
    "    XX = uni_gam_500_6.generate_X_grid(term=i)\n",
    "    pdep, confi = uni_gam_500_6.partial_dependence(term=i, X=XX, width=0.95)\n",
    "\n",
    "    plt.figure()\n",
    "    plt.plot(XX[:, term.feature], pdep)\n",
    "    plt.hlines(y=0, xmin=0, xmax=1, linewidth=1, color='black', linestyle='--')\n",
    "    plt.plot(XX[:, term.feature], confi, c='r', ls='--')\n",
    "#    plt.ylim(-0.5, 0.5)\n",
    "    # set title, xlabel and ylabel\n",
    "    plt.title('Sensitivity of Shrubs density to NDVI\\nfor buffer zones of 500 m', fontsize=12)\n",
    "    plt.xlabel('NDVI', fontsize=12)\n",
    "    plt.ylabel('Change relative to mean\\nShrubs density', fontsize=12)\n",
    "    # save the figure\n",
    "    plt.savefig('thesis_project/visualizations/modelling/univariate/gam_shrubs_500_best_plot.png', dpi=300, bbox_inches='tight')\n",
    "    im.open('thesis_project/visualizations/modelling/univariate/gam_shrubs_500_best_plot.png').save('thesis_project/visualizations/modelling/univariate/gam_shrubs_500_best_plot.bmp')\n",
    "    plt.show()"
   ]
  },
  {
   "cell_type": "code",
   "execution_count": 80,
   "id": "7aef5eb2",
   "metadata": {},
   "outputs": [
    {
     "name": "stdout",
     "output_type": "stream",
     "text": [
      "If NDVI goes from 0.25 to 0.35, shrubs%_500 increases by: 0.04947840922372468\n"
     ]
    }
   ],
   "source": [
    "# Change in low NDVI values: how does shrubs% increase, if NDVI changes from 0.25 to 0.35?\n",
    "shrubs_l0 = uni_gam_500_6.predict(0.25)\n",
    "shrubs_l1 = uni_gam_500_6.predict(0.35)\n",
    "shrubs_sens_low_500 = float(shrubs_l1 - shrubs_l0)\n",
    "print('If NDVI goes from 0.25 to 0.35, shrubs%_500 increases by:', shrubs_sens_low_500)"
   ]
  },
  {
   "cell_type": "code",
   "execution_count": 81,
   "id": "5c004ae6",
   "metadata": {},
   "outputs": [
    {
     "name": "stdout",
     "output_type": "stream",
     "text": [
      "If NDVI goes from 0.45 to 0.55, shrubs%_500 increases by: 0.10366540398313567\n"
     ]
    }
   ],
   "source": [
    "# Change in medium NDVI values: how does shrubs% increase, if NDVI changes from 0.45 to 0.55?\n",
    "shrubs_m0 = uni_gam_500_6.predict(0.45)\n",
    "shrubs_m1 = uni_gam_500_6.predict(0.55)\n",
    "shrubs_sens_mid_500 = float(shrubs_m1 - shrubs_m0)\n",
    "print('If NDVI goes from 0.45 to 0.55, shrubs%_500 increases by:', shrubs_sens_mid_500)"
   ]
  },
  {
   "cell_type": "code",
   "execution_count": 82,
   "id": "ef026c90",
   "metadata": {},
   "outputs": [
    {
     "name": "stdout",
     "output_type": "stream",
     "text": [
      "If NDVI goes from 0.65 to 0.75, shrubs%_500 increases by: 0.04532026594024574\n"
     ]
    }
   ],
   "source": [
    "# Change in high NDVI values: how does shrubs% increase, if NDVI changes from 0.65 to 0.75?\n",
    "shrubs_h0 = uni_gam_500_6.predict(0.65)\n",
    "shrubs_h1 = uni_gam_500_6.predict(0.75)\n",
    "shrubs_sens_hig_500 = float(shrubs_h1 - shrubs_h0)\n",
    "print('If NDVI goes from 0.65 to 0.75, shrubs%_500 increases by:', shrubs_sens_hig_500)"
   ]
  },
  {
   "cell_type": "markdown",
   "id": "fb0fb116",
   "metadata": {},
   "source": [
    "### 3.7. Model 7: grass ~ linear(NDVI)"
   ]
  },
  {
   "cell_type": "code",
   "execution_count": 83,
   "id": "f7bc5b1b",
   "metadata": {},
   "outputs": [],
   "source": [
    "# NDVI_500 as the predictor\n",
    "df = pd.DataFrame(gdf_500, columns=['NDVI_500'])\n",
    "\n",
    "# Grass%_500 as the target\n",
    "target = pd.DataFrame(gdf_500, columns=['Grass%_500'])\n",
    "\n",
    "# define X and y\n",
    "X = df\n",
    "y = target['Grass%_500']\n",
    "\n",
    "# split independent and dependent variables into training and test data\n",
    "X_train, X_test, y_train, y_test = train_test_split(X, y, test_size=0.2, random_state=0)\n",
    "\n",
    "# fit the linear model\n",
    "lm_500 = linear_model.LinearRegression()\n",
    "model_500 = lm_500.fit(X_train,y_train)"
   ]
  },
  {
   "cell_type": "code",
   "execution_count": 84,
   "id": "0839f3ca",
   "metadata": {},
   "outputs": [
    {
     "name": "stderr",
     "output_type": "stream",
     "text": [
      "100% (11 of 11) |########################| Elapsed Time: 0:00:00 Time:  0:00:00\n"
     ]
    },
    {
     "name": "stdout",
     "output_type": "stream",
     "text": [
      "LinearGAM                                                                                                 \n",
      "=============================================== ==========================================================\n",
      "Distribution:                        NormalDist Effective DoF:                                      1.9991\n",
      "Link Function:                     IdentityLink Log Likelihood:                                -66669.8721\n",
      "Number of Samples:                         2318 AIC:                                           133345.7424\n",
      "                                                AICc:                                          133345.7528\n",
      "                                                GCV:                                                0.0156\n",
      "                                                Scale:                                              0.0156\n",
      "                                                Pseudo R-Squared:                                   0.3035\n",
      "==========================================================================================================\n",
      "Feature Function                  Lambda               Rank         EDoF         P > x        Sig. Code   \n",
      "================================= ==================== ============ ============ ============ ============\n",
      "l(0)                              [0.0631]             1            1.0          1.11e-16     ***         \n",
      "intercept                                              1            1.0          7.81e-09     ***         \n",
      "==========================================================================================================\n",
      "Significance codes:  0 '***' 0.001 '**' 0.01 '*' 0.05 '.' 0.1 ' ' 1\n",
      "\n",
      "WARNING: Fitting splines and a linear function to a feature introduces a model identifiability problem\n",
      "         which can cause p-values to appear significant when they are not.\n",
      "\n",
      "WARNING: p-values calculated in this manner behave correctly for un-penalized models or models with\n",
      "         known smoothing parameters, but when smoothing parameters have been estimated, the p-values\n",
      "         are typically lower than they should be, meaning that the tests reject the null too readily.\n"
     ]
    },
    {
     "name": "stderr",
     "output_type": "stream",
     "text": [
      "/var/folders/6g/kgz5rml118s6lqw25w5sv5mr0000gn/T/ipykernel_15271/972376635.py:6: UserWarning: KNOWN BUG: p-values computed in this summary are likely much smaller than they should be. \n",
      " \n",
      "Please do not make inferences based on these values! \n",
      "\n",
      "Collaborate on a solution, and stay up to date at: \n",
      "github.com/dswah/pyGAM/issues/163 \n",
      "\n",
      "  uni_gam_500_7.summary()\n"
     ]
    }
   ],
   "source": [
    "# Model 7\n",
    "warnings.filterwarnings(\"ignore\", category=RuntimeWarning)\n",
    "uni_gam_500_7 = LinearGAM(l(0)).fit(X_train, y_train)\n",
    "\n",
    "uni_gam_500_7.gridsearch(X_train, y_train)\n",
    "uni_gam_500_7.summary()"
   ]
  },
  {
   "cell_type": "markdown",
   "id": "0dd896cf",
   "metadata": {},
   "source": [
    "### 3.8. Model 8: grass ~ spline(NDVI)"
   ]
  },
  {
   "cell_type": "code",
   "execution_count": 85,
   "id": "876b2947",
   "metadata": {},
   "outputs": [
    {
     "name": "stderr",
     "output_type": "stream",
     "text": [
      "100% (11 of 11) |########################| Elapsed Time: 0:00:00 Time:  0:00:00\n"
     ]
    },
    {
     "name": "stdout",
     "output_type": "stream",
     "text": [
      "LinearGAM                                                                                                 \n",
      "=============================================== ==========================================================\n",
      "Distribution:                        NormalDist Effective DoF:                                      3.9675\n",
      "Link Function:                     IdentityLink Log Likelihood:                                -66656.3929\n",
      "Number of Samples:                         2318 AIC:                                           133322.7208\n",
      "                                                AICc:                                          133322.7464\n",
      "                                                GCV:                                                0.0156\n",
      "                                                Scale:                                              0.0156\n",
      "                                                Pseudo R-Squared:                                   0.3046\n",
      "==========================================================================================================\n",
      "Feature Function                  Lambda               Rank         EDoF         P > x        Sig. Code   \n",
      "================================= ==================== ============ ============ ============ ============\n",
      "s(0)                              [1000.]              20           4.0          1.11e-16     ***         \n",
      "intercept                                              1            0.0          1.11e-16     ***         \n",
      "==========================================================================================================\n",
      "Significance codes:  0 '***' 0.001 '**' 0.01 '*' 0.05 '.' 0.1 ' ' 1\n",
      "\n",
      "WARNING: Fitting splines and a linear function to a feature introduces a model identifiability problem\n",
      "         which can cause p-values to appear significant when they are not.\n",
      "\n",
      "WARNING: p-values calculated in this manner behave correctly for un-penalized models or models with\n",
      "         known smoothing parameters, but when smoothing parameters have been estimated, the p-values\n",
      "         are typically lower than they should be, meaning that the tests reject the null too readily.\n"
     ]
    },
    {
     "name": "stderr",
     "output_type": "stream",
     "text": [
      "/var/folders/6g/kgz5rml118s6lqw25w5sv5mr0000gn/T/ipykernel_15271/2750512757.py:6: UserWarning: KNOWN BUG: p-values computed in this summary are likely much smaller than they should be. \n",
      " \n",
      "Please do not make inferences based on these values! \n",
      "\n",
      "Collaborate on a solution, and stay up to date at: \n",
      "github.com/dswah/pyGAM/issues/163 \n",
      "\n",
      "  uni_gam_500_8.summary()\n"
     ]
    }
   ],
   "source": [
    "# Model 8\n",
    "warnings.filterwarnings(\"ignore\", category=RuntimeWarning)\n",
    "uni_gam_500_8 = LinearGAM(s(0)).fit(X_train, y_train)\n",
    "\n",
    "uni_gam_500_8.gridsearch(X_train, y_train)\n",
    "uni_gam_500_8.summary()"
   ]
  },
  {
   "cell_type": "code",
   "execution_count": 109,
   "id": "96c1d48c",
   "metadata": {},
   "outputs": [
    {
     "data": {
      "image/png": "[encoded data removed]",
      "text/plain": [
       "<Figure size 432x288 with 1 Axes>"
      ]
     },
     "metadata": {
      "needs_background": "light"
     },
     "output_type": "display_data"
    }
   ],
   "source": [
    "# plotting\n",
    "for i, term in enumerate(uni_gam_500_7.terms):\n",
    "    if term.isintercept:\n",
    "        continue\n",
    "\n",
    "    XX = uni_gam_500_7.generate_X_grid(term=i)\n",
    "    pdep, confi = uni_gam_500_7.partial_dependence(term=i, X=XX, width=0.95)\n",
    "\n",
    "    plt.figure()\n",
    "    plt.plot(XX[:, term.feature], pdep)\n",
    "    plt.hlines(y=0, xmin=0, xmax=1, linewidth=1, color='black', linestyle='--')\n",
    "    plt.plot(XX[:, term.feature], confi, c='r', ls='--')\n",
    "#    plt.ylim(-0.5, 0.5)\n",
    "    # set title, xlabel and ylabel\n",
    "    plt.title('Sensitivity of Grass density to NDVI\\nfor buffer zones of 500 m', fontsize=12)\n",
    "    plt.xlabel('NDVI', fontsize=12)\n",
    "    plt.ylabel('Change relative to mean\\nGrass density', fontsize=12)\n",
    "    # save the figure\n",
    "    plt.savefig('thesis_project/visualizations/modelling/univariate/gam_grass_500_best_plot.png', dpi=300, bbox_inches='tight')\n",
    "    im.open('thesis_project/visualizations/modelling/univariate/gam_grass_500_best_plot.png').save('thesis_project/visualizations/modelling/univariate/gam_grass_500_best_plot.bmp')\n",
    "    plt.show()"
   ]
  },
  {
   "cell_type": "code",
   "execution_count": 87,
   "id": "14a955a9",
   "metadata": {},
   "outputs": [
    {
     "name": "stdout",
     "output_type": "stream",
     "text": [
      "If NDVI goes from 0.25 to 0.35, grass%_500 increases by: 0.04764887307185422\n"
     ]
    }
   ],
   "source": [
    "# Change in low NDVI values: how does grass% increase, if NDVI changes from 0.25 to 0.35?\n",
    "grass_l0 = uni_gam_500_7.predict(0.25)\n",
    "grass_l1 = uni_gam_500_7.predict(0.35)\n",
    "grass_sens_low_500 = float(grass_l1 - grass_l0)\n",
    "print('If NDVI goes from 0.25 to 0.35, grass%_500 increases by:', grass_sens_low_500)"
   ]
  },
  {
   "cell_type": "code",
   "execution_count": 88,
   "id": "e116e05d",
   "metadata": {},
   "outputs": [
    {
     "name": "stdout",
     "output_type": "stream",
     "text": [
      "If NDVI goes from 0.45 to 0.55, grass%_500 increases by: 0.04764887307185425\n"
     ]
    }
   ],
   "source": [
    "# Change in medium NDVI values: how does grass% increase, if NDVI changes from 0.45 to 0.55?\n",
    "grass_m0 = uni_gam_500_7.predict(0.45)\n",
    "grass_m1 = uni_gam_500_7.predict(0.55)\n",
    "grass_sens_mid_500 = float(grass_m1 - grass_m0)\n",
    "print('If NDVI goes from 0.45 to 0.55, grass%_500 increases by:', grass_sens_mid_500)"
   ]
  },
  {
   "cell_type": "code",
   "execution_count": 89,
   "id": "d08caffe",
   "metadata": {},
   "outputs": [
    {
     "name": "stdout",
     "output_type": "stream",
     "text": [
      "If NDVI goes from 0.65 to 0.75, grass%_500 increases by: 0.04764887307185428\n"
     ]
    }
   ],
   "source": [
    "# Change in high NDVI values: how does grass% increase, if NDVI changes from 0.65 to 0.75?\n",
    "grass_h0 = uni_gam_500_7.predict(0.65)\n",
    "grass_h1 = uni_gam_500_7.predict(0.75)\n",
    "grass_sens_hig_500 = float(grass_h1 - grass_h0)\n",
    "print('If NDVI goes from 0.65 to 0.75, grass%_500 increases by:', grass_sens_hig_500)"
   ]
  },
  {
   "cell_type": "markdown",
   "id": "5e5b7c1b",
   "metadata": {},
   "source": [
    "## 4. Prediction sensitivity analysis"
   ]
  },
  {
   "cell_type": "markdown",
   "id": "ecd57d5a",
   "metadata": {},
   "source": [
    "### 4.1. Sensitivity of vegetation types to increments in mean NDVI for a buffer zone of 100 m"
   ]
  },
  {
   "cell_type": "code",
   "execution_count": 90,
   "id": "d3881cc6",
   "metadata": {},
   "outputs": [
    {
     "data": {
      "text/html": [
       "<div>\n",
       "<style scoped>\n",
       "    .dataframe tbody tr th:only-of-type {\n",
       "        vertical-align: middle;\n",
       "    }\n",
       "\n",
       "    .dataframe tbody tr th {\n",
       "        vertical-align: top;\n",
       "    }\n",
       "\n",
       "    .dataframe thead th {\n",
       "        text-align: right;\n",
       "    }\n",
       "</style>\n",
       "<table border=\"1\" class=\"dataframe\">\n",
       "  <thead>\n",
       "    <tr style=\"text-align: right;\">\n",
       "      <th></th>\n",
       "      <th>Increment in mean NDVI</th>\n",
       "      <th>Greenspace%_100</th>\n",
       "      <th>Canopy%_100</th>\n",
       "      <th>Shrubs%_100</th>\n",
       "      <th>Grass%_100</th>\n",
       "    </tr>\n",
       "  </thead>\n",
       "  <tbody>\n",
       "    <tr>\n",
       "      <th>0</th>\n",
       "      <td>Low-range (0.25 to 0.35)</td>\n",
       "      <td>0.10103</td>\n",
       "      <td>0.03760</td>\n",
       "      <td>0.06083</td>\n",
       "      <td>0.01087</td>\n",
       "    </tr>\n",
       "    <tr>\n",
       "      <th>1</th>\n",
       "      <td>Mid-range (0.45 to 0.55)</td>\n",
       "      <td>0.21571</td>\n",
       "      <td>0.04417</td>\n",
       "      <td>0.11102</td>\n",
       "      <td>0.06220</td>\n",
       "    </tr>\n",
       "    <tr>\n",
       "      <th>2</th>\n",
       "      <td>High-range (0.65 to 0.75)</td>\n",
       "      <td>0.15325</td>\n",
       "      <td>0.06734</td>\n",
       "      <td>0.07657</td>\n",
       "      <td>0.01754</td>\n",
       "    </tr>\n",
       "  </tbody>\n",
       "</table>\n",
       "</div>"
      ],
      "text/plain": [
       "      Increment in mean NDVI  Greenspace%_100  Canopy%_100  Shrubs%_100  \\\n",
       "0   Low-range (0.25 to 0.35)          0.10103      0.03760      0.06083   \n",
       "1   Mid-range (0.45 to 0.55)          0.21571      0.04417      0.11102   \n",
       "2  High-range (0.65 to 0.75)          0.15325      0.06734      0.07657   \n",
       "\n",
       "   Grass%_100  \n",
       "0     0.01087  \n",
       "1     0.06220  \n",
       "2     0.01754  "
      ]
     },
     "execution_count": 90,
     "metadata": {},
     "output_type": "execute_result"
    }
   ],
   "source": [
    "# vegetation metrics sensitivity to changes in NDVI\n",
    "data_100 = {'Increment in mean NDVI': ['Low-range (0.25 to 0.35)', 'Mid-range (0.45 to 0.55)', 'High-range (0.65 to 0.75)'], \n",
    "        'Greenspace%_100': [green_sens_low, green_sens_mid, green_sens_hig],\n",
    "        'Canopy%_100': [canopy_sens_low, canopy_sens_mid, canopy_sens_hig], \n",
    "        'Shrubs%_100': [shrubs_sens_low, shrubs_sens_mid, shrubs_sens_hig],\n",
    "        'Grass%_100': [grass_sens_low, grass_sens_mid, grass_sens_hig]}  \n",
    "  \n",
    "# create DataFrame  \n",
    "df_sens_100 = pd.DataFrame(data_100)\n",
    "df_sens_100 = df_sens_100.round(5)\n",
    "df_sens_100.head()"
   ]
  },
  {
   "cell_type": "code",
   "execution_count": 91,
   "id": "f477c27d",
   "metadata": {},
   "outputs": [
    {
     "data": {
      "image/png": "[encoded data removed]",
      "text/plain": [
       "<Figure size 432x288 with 1 Axes>"
      ]
     },
     "metadata": {
      "needs_background": "light"
     },
     "output_type": "display_data"
    }
   ],
   "source": [
    "# plotting\n",
    "fig, ax = plt.subplots()\n",
    "\n",
    "# hide axes\n",
    "fig.patch.set_visible(False)\n",
    "ax.axis('off')\n",
    "ax.axis('tight')\n",
    "\n",
    "ax.table(cellText=df_sens_100.values, colLabels=df_sens_100.columns, loc='center')\n",
    "\n",
    "fig.tight_layout()\n",
    "\n",
    "# save the figure\n",
    "plt.savefig('thesis_project/visualizations/modelling/univariate/sensitivity_100_table.png', dpi=300, bbox_inches='tight')\n",
    "\n",
    "plt.show()"
   ]
  },
  {
   "cell_type": "markdown",
   "id": "5dfe56f6",
   "metadata": {},
   "source": [
    "### 4.2. Sensitivity of vegetation types to increments in mean NDVI for a buffer zone of 300 m"
   ]
  },
  {
   "cell_type": "code",
   "execution_count": 92,
   "id": "7e8c3d6a",
   "metadata": {},
   "outputs": [
    {
     "data": {
      "text/html": [
       "<div>\n",
       "<style scoped>\n",
       "    .dataframe tbody tr th:only-of-type {\n",
       "        vertical-align: middle;\n",
       "    }\n",
       "\n",
       "    .dataframe tbody tr th {\n",
       "        vertical-align: top;\n",
       "    }\n",
       "\n",
       "    .dataframe thead th {\n",
       "        text-align: right;\n",
       "    }\n",
       "</style>\n",
       "<table border=\"1\" class=\"dataframe\">\n",
       "  <thead>\n",
       "    <tr style=\"text-align: right;\">\n",
       "      <th></th>\n",
       "      <th>Increment in mean NDVI</th>\n",
       "      <th>Greenspace%_300</th>\n",
       "      <th>Canopy%_300</th>\n",
       "      <th>Shrubs%_300</th>\n",
       "      <th>Grass%_300</th>\n",
       "    </tr>\n",
       "  </thead>\n",
       "  <tbody>\n",
       "    <tr>\n",
       "      <th>0</th>\n",
       "      <td>Low-range (0.25 to 0.35)</td>\n",
       "      <td>0.1361</td>\n",
       "      <td>0.0375</td>\n",
       "      <td>0.0772</td>\n",
       "      <td>0.0342</td>\n",
       "    </tr>\n",
       "    <tr>\n",
       "      <th>1</th>\n",
       "      <td>Mid-range (0.45 to 0.55)</td>\n",
       "      <td>0.1762</td>\n",
       "      <td>0.0320</td>\n",
       "      <td>0.1221</td>\n",
       "      <td>0.0435</td>\n",
       "    </tr>\n",
       "    <tr>\n",
       "      <th>2</th>\n",
       "      <td>High-range (0.65 to 0.75)</td>\n",
       "      <td>0.0992</td>\n",
       "      <td>0.0028</td>\n",
       "      <td>0.0676</td>\n",
       "      <td>0.0418</td>\n",
       "    </tr>\n",
       "  </tbody>\n",
       "</table>\n",
       "</div>"
      ],
      "text/plain": [
       "      Increment in mean NDVI  Greenspace%_300  Canopy%_300  Shrubs%_300  \\\n",
       "0   Low-range (0.25 to 0.35)           0.1361       0.0375       0.0772   \n",
       "1   Mid-range (0.45 to 0.55)           0.1762       0.0320       0.1221   \n",
       "2  High-range (0.65 to 0.75)           0.0992       0.0028       0.0676   \n",
       "\n",
       "   Grass%_300  \n",
       "0      0.0342  \n",
       "1      0.0435  \n",
       "2      0.0418  "
      ]
     },
     "execution_count": 92,
     "metadata": {},
     "output_type": "execute_result"
    }
   ],
   "source": [
    "# vegetation metrics sensitivity to changes in NDVI\n",
    "data_300 = {'Increment in mean NDVI': ['Low-range (0.25 to 0.35)', 'Mid-range (0.45 to 0.55)', 'High-range (0.65 to 0.75)'], \n",
    "        'Greenspace%_300': [green_sens_low_300, green_sens_mid_300, green_sens_hig_300],\n",
    "        'Canopy%_300': [canopy_sens_low_300, canopy_sens_mid_300, canopy_sens_hig_300], \n",
    "        'Shrubs%_300': [shrubs_sens_low_300, shrubs_sens_mid_300, shrubs_sens_hig_300],\n",
    "        'Grass%_300': [grass_sens_low_300, grass_sens_mid_300, grass_sens_hig_300]}  \n",
    "  \n",
    "# create DataFrame  \n",
    "df_sens_300 = pd.DataFrame(data_300)\n",
    "df_sens_300 = df_sens_300.round(4)\n",
    "df_sens_300.head()"
   ]
  },
  {
   "cell_type": "code",
   "execution_count": 93,
   "id": "1c677c59",
   "metadata": {},
   "outputs": [
    {
     "data": {
      "image/png": "[encoded data removed]",
      "text/plain": [
       "<Figure size 432x288 with 1 Axes>"
      ]
     },
     "metadata": {
      "needs_background": "light"
     },
     "output_type": "display_data"
    }
   ],
   "source": [
    "# plotting\n",
    "fig, ax = plt.subplots()\n",
    "\n",
    "# hide axes\n",
    "fig.patch.set_visible(False)\n",
    "ax.axis('off')\n",
    "ax.axis('tight')\n",
    "\n",
    "ax.table(cellText=df_sens_300.values, colLabels=df_sens_300.columns, loc='center')\n",
    "\n",
    "fig.tight_layout()\n",
    "\n",
    "# save the figure\n",
    "plt.savefig('thesis_project/visualizations/modelling/univariate/sensitivity_300_table.png', dpi=300, bbox_inches='tight')\n",
    "\n",
    "plt.show()"
   ]
  },
  {
   "cell_type": "markdown",
   "id": "983bbab1",
   "metadata": {},
   "source": [
    "### 4.3. Sensitivity of vegetation types to increments in mean NDVI for a buffer zone of 500 m"
   ]
  },
  {
   "cell_type": "code",
   "execution_count": 94,
   "id": "467b27b2",
   "metadata": {
    "scrolled": true
   },
   "outputs": [
    {
     "data": {
      "text/html": [
       "<div>\n",
       "<style scoped>\n",
       "    .dataframe tbody tr th:only-of-type {\n",
       "        vertical-align: middle;\n",
       "    }\n",
       "\n",
       "    .dataframe tbody tr th {\n",
       "        vertical-align: top;\n",
       "    }\n",
       "\n",
       "    .dataframe thead th {\n",
       "        text-align: right;\n",
       "    }\n",
       "</style>\n",
       "<table border=\"1\" class=\"dataframe\">\n",
       "  <thead>\n",
       "    <tr style=\"text-align: right;\">\n",
       "      <th></th>\n",
       "      <th>Increment in mean NDVI</th>\n",
       "      <th>Greenspace%_500</th>\n",
       "      <th>Canopy%_500</th>\n",
       "      <th>Shrubs%_500</th>\n",
       "      <th>Grass%_500</th>\n",
       "    </tr>\n",
       "  </thead>\n",
       "  <tbody>\n",
       "    <tr>\n",
       "      <th>0</th>\n",
       "      <td>Low-range (0.25 to 0.35)</td>\n",
       "      <td>0.1105</td>\n",
       "      <td>0.0411</td>\n",
       "      <td>0.0495</td>\n",
       "      <td>0.0476</td>\n",
       "    </tr>\n",
       "    <tr>\n",
       "      <th>1</th>\n",
       "      <td>Mid-range (0.45 to 0.55)</td>\n",
       "      <td>0.1664</td>\n",
       "      <td>0.0349</td>\n",
       "      <td>0.1037</td>\n",
       "      <td>0.0476</td>\n",
       "    </tr>\n",
       "    <tr>\n",
       "      <th>2</th>\n",
       "      <td>High-range (0.65 to 0.75)</td>\n",
       "      <td>0.0926</td>\n",
       "      <td>0.0106</td>\n",
       "      <td>0.0453</td>\n",
       "      <td>0.0476</td>\n",
       "    </tr>\n",
       "  </tbody>\n",
       "</table>\n",
       "</div>"
      ],
      "text/plain": [
       "      Increment in mean NDVI  Greenspace%_500  Canopy%_500  Shrubs%_500  \\\n",
       "0   Low-range (0.25 to 0.35)           0.1105       0.0411       0.0495   \n",
       "1   Mid-range (0.45 to 0.55)           0.1664       0.0349       0.1037   \n",
       "2  High-range (0.65 to 0.75)           0.0926       0.0106       0.0453   \n",
       "\n",
       "   Grass%_500  \n",
       "0      0.0476  \n",
       "1      0.0476  \n",
       "2      0.0476  "
      ]
     },
     "execution_count": 94,
     "metadata": {},
     "output_type": "execute_result"
    }
   ],
   "source": [
    "# vegetation metrics sensitivity to changes in NDVI\n",
    "data_500 = {'Increment in mean NDVI': ['Low-range (0.25 to 0.35)', 'Mid-range (0.45 to 0.55)', 'High-range (0.65 to 0.75)'], \n",
    "        'Greenspace%_500': [green_sens_low_500, green_sens_mid_500, green_sens_hig_500],\n",
    "        'Canopy%_500': [canopy_sens_low_500, canopy_sens_mid_500, canopy_sens_hig_500], \n",
    "        'Shrubs%_500': [shrubs_sens_low_500, shrubs_sens_mid_500, shrubs_sens_hig_500],\n",
    "        'Grass%_500': [grass_sens_low_500, grass_sens_mid_500, grass_sens_hig_500]}  \n",
    "  \n",
    "# create DataFrame  \n",
    "df_sens_500 = pd.DataFrame(data_500)\n",
    "df_sens_500 = df_sens_500.round(4)\n",
    "df_sens_500.head()"
   ]
  },
  {
   "cell_type": "code",
   "execution_count": 95,
   "id": "2296412f",
   "metadata": {
    "scrolled": true
   },
   "outputs": [
    {
     "data": {
      "image/png": "[encoded data removed]",
      "text/plain": [
       "<Figure size 432x288 with 1 Axes>"
      ]
     },
     "metadata": {
      "needs_background": "light"
     },
     "output_type": "display_data"
    }
   ],
   "source": [
    "# plotting\n",
    "fig, ax = plt.subplots()\n",
    "\n",
    "# hide axes\n",
    "fig.patch.set_visible(False)\n",
    "ax.axis('off')\n",
    "ax.axis('tight')\n",
    "\n",
    "ax.table(cellText=df_sens_500.values, colLabels=df_sens_500.columns, loc='center')\n",
    "\n",
    "fig.tight_layout()\n",
    "\n",
    "# save the figure\n",
    "plt.savefig('thesis_project/visualizations/modelling/univariate/sensitivity_500_table.png', dpi=300, bbox_inches='tight')\n",
    "\n",
    "plt.show()"
   ]
  }
 ],
 "metadata": {
  "kernelspec": {
   "display_name": "Python 3 (ipykernel)",
   "language": "python",
   "name": "python3"
  },
  "language_info": {
   "codemirror_mode": {
    "name": "ipython",
    "version": 3
   },
   "file_extension": ".py",
   "mimetype": "text/x-python",
   "name": "python",
   "nbconvert_exporter": "python",
   "pygments_lexer": "ipython3",
   "version": "3.9.10"
  }
 },
 "nbformat": 4,
 "nbformat_minor": 5
}
