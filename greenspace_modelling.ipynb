{
 "cells": [
  {
   "cell_type": "markdown",
   "id": "9744e7bb",
   "metadata": {},
   "source": [
    "# Modelling Greenspace Metrics"
   ]
  },
  {
   "cell_type": "code",
   "execution_count": 1,
   "id": "febe111d",
   "metadata": {},
   "outputs": [],
   "source": [
    "import numpy as np\n",
    "import pandas as pd\n",
    "import geopandas as gpd\n",
    "import matplotlib.pyplot as plt\n",
    "import warnings\n",
    "from pygam import LinearGAM, s, l\n",
    "from sklearn import linear_model, metrics\n",
    "from sklearn.model_selection import train_test_split\n",
    "from sklearn.metrics import accuracy_score"
   ]
  },
  {
   "cell_type": "code",
   "execution_count": 2,
   "id": "aeed14f2",
   "metadata": {},
   "outputs": [],
   "source": [
    "#! pip install pygam"
   ]
  },
  {
   "cell_type": "markdown",
   "id": "48da419d",
   "metadata": {},
   "source": [
    "## 1. Modelling greenspace metrics at 100m"
   ]
  },
  {
   "cell_type": "code",
   "execution_count": 3,
   "id": "8e0e7418",
   "metadata": {},
   "outputs": [
    {
     "data": {
      "text/html": [
       "<div>\n",
       "<style scoped>\n",
       "    .dataframe tbody tr th:only-of-type {\n",
       "        vertical-align: middle;\n",
       "    }\n",
       "\n",
       "    .dataframe tbody tr th {\n",
       "        vertical-align: top;\n",
       "    }\n",
       "\n",
       "    .dataframe thead th {\n",
       "        text-align: right;\n",
       "    }\n",
       "</style>\n",
       "<table border=\"1\" class=\"dataframe\">\n",
       "  <thead>\n",
       "    <tr style=\"text-align: right;\">\n",
       "      <th></th>\n",
       "      <th>NDVI_100</th>\n",
       "      <th>Greenspace%_100</th>\n",
       "      <th>Canopy%_100</th>\n",
       "      <th>Grass%_100</th>\n",
       "      <th>Shrubs%_100</th>\n",
       "      <th>geometry</th>\n",
       "    </tr>\n",
       "  </thead>\n",
       "  <tbody>\n",
       "    <tr>\n",
       "      <th>0</th>\n",
       "      <td>0.536433</td>\n",
       "      <td>0.414039</td>\n",
       "      <td>0.201814</td>\n",
       "      <td>0.097506</td>\n",
       "      <td>0.106576</td>\n",
       "      <td>POINT (377971.171 402346.176)</td>\n",
       "    </tr>\n",
       "    <tr>\n",
       "      <th>1</th>\n",
       "      <td>0.571965</td>\n",
       "      <td>0.551457</td>\n",
       "      <td>0.108844</td>\n",
       "      <td>0.072562</td>\n",
       "      <td>0.340136</td>\n",
       "      <td>POINT (364310.461 403435.100)</td>\n",
       "    </tr>\n",
       "    <tr>\n",
       "      <th>2</th>\n",
       "      <td>0.455587</td>\n",
       "      <td>0.256395</td>\n",
       "      <td>0.129252</td>\n",
       "      <td>0.092971</td>\n",
       "      <td>0.043084</td>\n",
       "      <td>POINT (369566.841 406840.228)</td>\n",
       "    </tr>\n",
       "    <tr>\n",
       "      <th>3</th>\n",
       "      <td>0.816160</td>\n",
       "      <td>0.942891</td>\n",
       "      <td>0.009070</td>\n",
       "      <td>0.249433</td>\n",
       "      <td>0.068027</td>\n",
       "      <td>POINT (354567.818 412168.416)</td>\n",
       "    </tr>\n",
       "    <tr>\n",
       "      <th>4</th>\n",
       "      <td>0.526997</td>\n",
       "      <td>0.388459</td>\n",
       "      <td>0.217687</td>\n",
       "      <td>0.061224</td>\n",
       "      <td>0.111111</td>\n",
       "      <td>POINT (388526.382 403175.927)</td>\n",
       "    </tr>\n",
       "  </tbody>\n",
       "</table>\n",
       "</div>"
      ],
      "text/plain": [
       "   NDVI_100  Greenspace%_100  Canopy%_100  Grass%_100  Shrubs%_100  \\\n",
       "0  0.536433         0.414039     0.201814    0.097506     0.106576   \n",
       "1  0.571965         0.551457     0.108844    0.072562     0.340136   \n",
       "2  0.455587         0.256395     0.129252    0.092971     0.043084   \n",
       "3  0.816160         0.942891     0.009070    0.249433     0.068027   \n",
       "4  0.526997         0.388459     0.217687    0.061224     0.111111   \n",
       "\n",
       "                        geometry  \n",
       "0  POINT (377971.171 402346.176)  \n",
       "1  POINT (364310.461 403435.100)  \n",
       "2  POINT (369566.841 406840.228)  \n",
       "3  POINT (354567.818 412168.416)  \n",
       "4  POINT (388526.382 403175.927)  "
      ]
     },
     "execution_count": 3,
     "metadata": {},
     "output_type": "execute_result"
    }
   ],
   "source": [
    "# load greenspace metrics at 100m geodataframe\n",
    "gdf_100 = gpd.read_file(\"thesis_project/output/dataframes/greenspace_metrics_100_df.json\")\n",
    "gdf_100.head()"
   ]
  },
  {
   "cell_type": "markdown",
   "id": "c6cf24c0",
   "metadata": {},
   "source": [
    "### 1.1. How does NDVI predict Greenspace%?"
   ]
  },
  {
   "cell_type": "markdown",
   "id": "cad2f999",
   "metadata": {},
   "source": [
    "#### 1.1.1. Linear Regression Model"
   ]
  },
  {
   "cell_type": "code",
   "execution_count": 4,
   "id": "afbda8b2",
   "metadata": {},
   "outputs": [],
   "source": [
    "# data/predictors as the NDVI_100\n",
    "df_100 = pd.DataFrame(gdf_100, columns=['NDVI_100'])\n",
    "\n",
    "# target as Greenspace%_100\n",
    "target_100 = pd.DataFrame(gdf_100, columns=['Greenspace%_100'])\n",
    "\n",
    "# define X and y\n",
    "X = df_100\n",
    "y = target_100['Greenspace%_100']\n",
    "\n",
    "# split independent and dependent variables into training and test data\n",
    "X_train, X_test, y_train, y_test = train_test_split(X, y, test_size=0.2, random_state=0)\n",
    "\n",
    "# fit the linear model\n",
    "lm_100 = linear_model.LinearRegression()\n",
    "model_100 = lm_100.fit(X_train,y_train)"
   ]
  },
  {
   "cell_type": "code",
   "execution_count": 5,
   "id": "a657facf",
   "metadata": {},
   "outputs": [
    {
     "name": "stdout",
     "output_type": "stream",
     "text": [
      "Coefficient of NDVI_100 (or slope): [1.52623471]\n",
      "Intercept: -0.3532229391349676\n",
      "R-squared: 0.6672219453214692\n"
     ]
    }
   ],
   "source": [
    "# linear model coefficient, intercept, and R-squared \n",
    "print('Coefficient of NDVI_100 (or slope):', model_100.coef_)\n",
    "print('Intercept:', model_100.intercept_)\n",
    "print('R-squared:', model_100.score(X_train,y_train))"
   ]
  },
  {
   "cell_type": "code",
   "execution_count": 6,
   "id": "9fc8e351",
   "metadata": {},
   "outputs": [],
   "source": [
    "# make predictions\n",
    "y_pred = model_100.predict(X_test)\n",
    "\n",
    "# compare actual values with predicted ones\n",
    "df_pred = pd.DataFrame({'Actual': y_test, 'Predicted': y_pred})\n",
    "\n",
    "# convert X_test to array values\n",
    "X_test = X_test.iloc[:, 0:1].values"
   ]
  },
  {
   "cell_type": "code",
   "execution_count": 7,
   "id": "50baa1a9",
   "metadata": {},
   "outputs": [
    {
     "name": "stdout",
     "output_type": "stream",
     "text": [
      "Mean Absolute Error: 0.10923509565781504\n",
      "Mean Squared Error: 0.022179959187710638\n",
      "Root Mean Squared Error: 0.14892937651017893\n"
     ]
    }
   ],
   "source": [
    "# evaluate the model\n",
    "print('Mean Absolute Error:', metrics.mean_absolute_error(y_test, y_pred))\n",
    "print('Mean Squared Error:', metrics.mean_squared_error(y_test, y_pred))\n",
    "print('Root Mean Squared Error:', np.sqrt(metrics.mean_squared_error(y_test, y_pred)))"
   ]
  },
  {
   "cell_type": "code",
   "execution_count": 8,
   "id": "ca64fa1f",
   "metadata": {},
   "outputs": [
    {
     "data": {
      "image/png": "[encoded data removed]",
      "text/plain": [
       "<Figure size 432x288 with 1 Axes>"
      ]
     },
     "metadata": {
      "needs_background": "light"
     },
     "output_type": "display_data"
    }
   ],
   "source": [
    "# plot outputs\n",
    "plt.scatter(X_test, y_test, color=\"forestgreen\")\n",
    "plt.plot(X_test, y_pred, color=\"black\", linewidth=2)\n",
    "\n",
    "plt.xticks(np.arange(0, 1.1, step = 0.2))\n",
    "plt.yticks(np.arange(0, 1.1, step = 0.2))\n",
    "\n",
    "# set title, xlabel and ylabel\n",
    "plt.title('Change of greenspace%_100 on NDVI_100, with LR')\n",
    "plt.xlabel('NDVI_100')\n",
    "plt.ylabel('Greenspace%_100')\n",
    "\n",
    "# save the figure\n",
    "plt.savefig('thesis_project/visualizations/modelling/lr_greenspace_100_plot.png', dpi=300, bbox_inches='tight')\n",
    "\n",
    "plt.show()"
   ]
  },
  {
   "cell_type": "code",
   "execution_count": 9,
   "id": "bcdf53c0",
   "metadata": {},
   "outputs": [
    {
     "name": "stdout",
     "output_type": "stream",
     "text": [
      "[0.10464748]\n"
     ]
    },
    {
     "name": "stderr",
     "output_type": "stream",
     "text": [
      "/Applications/anaconda3/envs/ssml/lib/python3.9/site-packages/sklearn/base.py:450: UserWarning: X does not have valid feature names, but LinearRegression was fitted with feature names\n",
      "  warnings.warn(\n",
      "/Applications/anaconda3/envs/ssml/lib/python3.9/site-packages/sklearn/base.py:450: UserWarning: X does not have valid feature names, but LinearRegression was fitted with feature names\n",
      "  warnings.warn(\n"
     ]
    }
   ],
   "source": [
    "# predict Greenspace%_100 values for NDVI equalt to 0.3\n",
    "X_t_0 = [[0.3]]\n",
    "y_t_0 = model_100.predict(X_t_0)\n",
    "print(model_100.predict(X_t_0))"
   ]
  },
  {
   "cell_type": "code",
   "execution_count": 10,
   "id": "1d772e90",
   "metadata": {},
   "outputs": [
    {
     "name": "stdout",
     "output_type": "stream",
     "text": [
      "[0.25727095]\n"
     ]
    },
    {
     "name": "stderr",
     "output_type": "stream",
     "text": [
      "/Applications/anaconda3/envs/ssml/lib/python3.9/site-packages/sklearn/base.py:450: UserWarning: X does not have valid feature names, but LinearRegression was fitted with feature names\n",
      "  warnings.warn(\n",
      "/Applications/anaconda3/envs/ssml/lib/python3.9/site-packages/sklearn/base.py:450: UserWarning: X does not have valid feature names, but LinearRegression was fitted with feature names\n",
      "  warnings.warn(\n"
     ]
    }
   ],
   "source": [
    "# predict Greenspace%_100 values for NDVI equalt to 0.4\n",
    "X_t_1 = [[0.4]]\n",
    "y_t_1 = model_100.predict(X_t_1)\n",
    "print(model_100.predict(X_t_1))"
   ]
  },
  {
   "cell_type": "code",
   "execution_count": 11,
   "id": "eb36bfba",
   "metadata": {},
   "outputs": [
    {
     "name": "stdout",
     "output_type": "stream",
     "text": [
      "If NDVI goes from 0.3 to 0.4, Greenspace%_100 increases by: [0.15262347]\n"
     ]
    }
   ],
   "source": [
    "# how does Greenspace%_100 increase if NDVI goes from 0.3 to 0.4?\n",
    "#print('Greenspace%_100 increase if NDVI goes from 0.3 to 0.4:', y_t_1 - y_t_0)\n",
    "print('If NDVI goes from 0.3 to 0.4, Greenspace%_100 increases by:', y_t_1 - y_t_0)"
   ]
  },
  {
   "cell_type": "markdown",
   "id": "821fbc94",
   "metadata": {},
   "source": [
    "#### 1.1.2. Generalized Additive Model (GAM)"
   ]
  },
  {
   "cell_type": "code",
   "execution_count": 12,
   "id": "d4851ec5",
   "metadata": {},
   "outputs": [
    {
     "name": "stderr",
     "output_type": "stream",
     "text": [
      "100% (11 of 11) |########################| Elapsed Time: 0:00:00 Time:  0:00:00\n"
     ]
    },
    {
     "name": "stdout",
     "output_type": "stream",
     "text": [
      "LinearGAM                                                                                                 \n",
      "=============================================== ==========================================================\n",
      "Distribution:                        NormalDist Effective DoF:                                      6.9404\n",
      "Link Function:                     IdentityLink Log Likelihood:                                -88160.4417\n",
      "Number of Samples:                         4673 AIC:                                           176336.7644\n",
      "                                                AICc:                                          176336.7948\n",
      "                                                GCV:                                                 0.023\n",
      "                                                Scale:                                               0.023\n",
      "                                                Pseudo R-Squared:                                   0.6936\n",
      "==========================================================================================================\n",
      "Feature Function                  Lambda               Rank         EDoF         P > x        Sig. Code   \n",
      "================================= ==================== ============ ============ ============ ============\n",
      "s(0)                              [63.0957]            20           6.9          1.11e-16     ***         \n",
      "intercept                                              1            0.0          1.11e-16     ***         \n",
      "==========================================================================================================\n",
      "Significance codes:  0 '***' 0.001 '**' 0.01 '*' 0.05 '.' 0.1 ' ' 1\n",
      "\n",
      "WARNING: Fitting splines and a linear function to a feature introduces a model identifiability problem\n",
      "         which can cause p-values to appear significant when they are not.\n",
      "\n",
      "WARNING: p-values calculated in this manner behave correctly for un-penalized models or models with\n",
      "         known smoothing parameters, but when smoothing parameters have been estimated, the p-values\n",
      "         are typically lower than they should be, meaning that the tests reject the null too readily.\n"
     ]
    },
    {
     "name": "stderr",
     "output_type": "stream",
     "text": [
      "/var/folders/6g/kgz5rml118s6lqw25w5sv5mr0000gn/T/ipykernel_3570/2584159326.py:19: UserWarning: KNOWN BUG: p-values computed in this summary are likely much smaller than they should be. \n",
      " \n",
      "Please do not make inferences based on these values! \n",
      "\n",
      "Collaborate on a solution, and stay up to date at: \n",
      "github.com/dswah/pyGAM/issues/163 \n",
      "\n",
      "  gam_green_100.summary()\n"
     ]
    }
   ],
   "source": [
    "# data/predictors as the NDVI_100\n",
    "df_100 = pd.DataFrame(gdf_100, columns=['NDVI_100'])\n",
    "\n",
    "# target as Greenspace%_100\n",
    "target_100 = pd.DataFrame(gdf_100, columns=['Greenspace%_100'])\n",
    "\n",
    "# define X and Y\n",
    "X = df_100\n",
    "y = target_100['Greenspace%_100']\n",
    "\n",
    "# split independent and dependent variables into training and test data\n",
    "X_train, X_test, y_train, y_test = train_test_split(X, y, test_size=0.2, random_state=0)\n",
    "\n",
    "# GAM model\n",
    "warnings.filterwarnings(\"ignore\", category=RuntimeWarning)\n",
    "gam_green_100 = LinearGAM(s(0)).fit(X_train, y_train)\n",
    "\n",
    "gam_green_100.gridsearch(X_train, y_train)\n",
    "gam_green_100.summary()"
   ]
  },
  {
   "cell_type": "code",
   "execution_count": 13,
   "id": "616e2947",
   "metadata": {},
   "outputs": [
    {
     "data": {
      "image/png": "[encoded data removed]",
      "text/plain": [
       "<Figure size 432x288 with 1 Axes>"
      ]
     },
     "metadata": {
      "needs_background": "light"
     },
     "output_type": "display_data"
    }
   ],
   "source": [
    "# plotting\n",
    "for i, term in enumerate(gam_green_100.terms):\n",
    "    if term.isintercept:\n",
    "        continue\n",
    "\n",
    "    XX = gam_green_100.generate_X_grid(term=i)\n",
    "    pdep, confi = gam_green_100.partial_dependence(term=i, X=XX, width=0.95)\n",
    "\n",
    "    plt.figure()\n",
    "    plt.plot(XX[:, term.feature], pdep)\n",
    "    plt.hlines(y=0, xmin=0, xmax=1, linewidth=1, color='black', linestyle='--')\n",
    "    plt.plot(XX[:, term.feature], confi, c='r', ls='--')\n",
    "    # set title, xlabel and ylabel\n",
    "    plt.title('Relative change of greenspace%_100 (mean) \\n on NDVI_100, with GAM')\n",
    "    plt.xlabel('NDVI_100')\n",
    "    plt.ylabel('Greenspace%_100')\n",
    "    # save the figure\n",
    "    plt.savefig('thesis_project/visualizations/modelling/gam_greenspace_100_plot.png', dpi=300, bbox_inches='tight')\n",
    "    plt.show()"
   ]
  },
  {
   "cell_type": "code",
   "execution_count": 14,
   "id": "b11fd028",
   "metadata": {},
   "outputs": [
    {
     "name": "stdout",
     "output_type": "stream",
     "text": [
      "If NDVI goes from 0.25 to 0.35, Greenspace%_100 increases by: 0.10103401447920335\n"
     ]
    }
   ],
   "source": [
    "# Change in low NDVI values: how does Greenspace% increase, if NDVI changes from 0.25 to 0.35?\n",
    "green_l0 = gam_green_100.predict(0.25)\n",
    "green_l1 = gam_green_100.predict(0.35)\n",
    "green_sens_low = float(green_l1 - green_l0)\n",
    "print('If NDVI goes from 0.25 to 0.35, Greenspace%_100 increases by:', green_sens_low)"
   ]
  },
  {
   "cell_type": "code",
   "execution_count": 15,
   "id": "d37ac440",
   "metadata": {},
   "outputs": [
    {
     "name": "stdout",
     "output_type": "stream",
     "text": [
      "If NDVI goes from 0.45 to 0.55, Greenspace%_100 increases by: 0.21570574291750838\n"
     ]
    }
   ],
   "source": [
    "# Change in mid NDVI values: how does Greenspace% increase, if NDVI changes from 0.45 to 0.55?\n",
    "green_m0 = gam_green_100.predict(0.45)\n",
    "green_m1 = gam_green_100.predict(0.55)\n",
    "green_sens_mid = float(green_m1 - green_m0)\n",
    "print('If NDVI goes from 0.45 to 0.55, Greenspace%_100 increases by:', green_sens_mid)"
   ]
  },
  {
   "cell_type": "code",
   "execution_count": 16,
   "id": "5e088ace",
   "metadata": {},
   "outputs": [
    {
     "name": "stdout",
     "output_type": "stream",
     "text": [
      "If NDVI goes from 0.65 to 0.75, Greenspace%_100 increases by: 0.15325252283656332\n"
     ]
    }
   ],
   "source": [
    "# Change in high NDVI values: how does Greenspace% increase, if NDVI changes from 0.65 to 0.75?\n",
    "green_h0 = gam_green_100.predict(0.65)\n",
    "green_h1 = gam_green_100.predict(0.75)\n",
    "green_sens_hig = float(green_h1 - green_h0)\n",
    "print('If NDVI goes from 0.65 to 0.75, Greenspace%_100 increases by:', green_sens_hig)"
   ]
  },
  {
   "cell_type": "markdown",
   "id": "b6c6462a",
   "metadata": {},
   "source": [
    "### 1.2. How does NDVI predict Canopy%?"
   ]
  },
  {
   "cell_type": "markdown",
   "id": "e1f3ec2f",
   "metadata": {},
   "source": [
    "#### 1.2.1. Linear Regression Model"
   ]
  },
  {
   "cell_type": "code",
   "execution_count": 17,
   "id": "c50b675d",
   "metadata": {},
   "outputs": [],
   "source": [
    "# NDVI_100 as the predictor\n",
    "df = pd.DataFrame(gdf_100, columns=['NDVI_100'])\n",
    "\n",
    "# Canopy%_100 as the target\n",
    "target = pd.DataFrame(gdf_100, columns=['Canopy%_100'])\n",
    "\n",
    "# define X and y\n",
    "X = df\n",
    "y = target['Canopy%_100']\n",
    "\n",
    "# split independent and dependent variables into training and test data\n",
    "X_train, X_test, y_train, y_test = train_test_split(X, y, test_size=0.2, random_state=0)\n",
    "\n",
    "# fit the linear model\n",
    "lm_100 = linear_model.LinearRegression()\n",
    "model_100 = lm_100.fit(X_train,y_train)"
   ]
  },
  {
   "cell_type": "code",
   "execution_count": 18,
   "id": "33870925",
   "metadata": {},
   "outputs": [
    {
     "name": "stdout",
     "output_type": "stream",
     "text": [
      "Coefficient of NDVI_100 (or slope): [0.28301457]\n",
      "Intercept: 0.0034142332616418913\n",
      "R-squared: 0.05381919034084515\n"
     ]
    }
   ],
   "source": [
    "# linear model coefficient, intercept, and R-squared \n",
    "print('Coefficient of NDVI_100 (or slope):', model_100.coef_)\n",
    "print('Intercept:', model_100.intercept_)\n",
    "print('R-squared:', model_100.score(X_train,y_train))"
   ]
  },
  {
   "cell_type": "code",
   "execution_count": 19,
   "id": "8a9b43aa",
   "metadata": {},
   "outputs": [],
   "source": [
    "# make predictions\n",
    "y_pred = model_100.predict(X_test)\n",
    "\n",
    "# compare actual values with predicted ones\n",
    "df = pd.DataFrame({'Actual': y_test, 'Predicted': y_pred})\n",
    "\n",
    "# convert X_test to array values (for later use when plotting)\n",
    "X_test = X_test.iloc[:, 0:1].values"
   ]
  },
  {
   "cell_type": "code",
   "execution_count": 20,
   "id": "72d3b33b",
   "metadata": {},
   "outputs": [
    {
     "name": "stdout",
     "output_type": "stream",
     "text": [
      "Mean Absolute Error: 0.1289016871958472\n",
      "Mean Squared Error: 0.028822441599553744\n",
      "Root Mean Squared Error: 0.16977173380617205\n"
     ]
    }
   ],
   "source": [
    "# evaluate the model\n",
    "print('Mean Absolute Error:', metrics.mean_absolute_error(y_test, y_pred))\n",
    "print('Mean Squared Error:', metrics.mean_squared_error(y_test, y_pred))\n",
    "print('Root Mean Squared Error:', np.sqrt(metrics.mean_squared_error(y_test, y_pred)))"
   ]
  },
  {
   "cell_type": "code",
   "execution_count": 21,
   "id": "91847ac8",
   "metadata": {},
   "outputs": [
    {
     "data": {
      "image/png": "[encoded data removed]",
      "text/plain": [
       "<Figure size 432x288 with 1 Axes>"
      ]
     },
     "metadata": {
      "needs_background": "light"
     },
     "output_type": "display_data"
    }
   ],
   "source": [
    "# plot outputs\n",
    "plt.scatter(X_test, y_test, color=\"forestgreen\")\n",
    "plt.plot(X_test, y_pred, color=\"black\", linewidth=2)\n",
    "\n",
    "plt.xticks(np.arange(0, 1.1, step = 0.2))\n",
    "plt.yticks(np.arange(0, 1.1, step = 0.2))\n",
    "\n",
    "# set title, xlabel and ylabel\n",
    "plt.title('Change of canopy%_100 on NDVI_100, with LR')\n",
    "plt.xlabel('NDVI_100')\n",
    "plt.ylabel('Canopy%_100')\n",
    "\n",
    "# save the figure\n",
    "plt.savefig('thesis_project/visualizations/modelling/lr_canopy_100_plot.png', dpi=300, bbox_inches='tight')\n",
    "\n",
    "plt.show()"
   ]
  },
  {
   "cell_type": "markdown",
   "id": "273e58a8",
   "metadata": {},
   "source": [
    "#### 1.2.2. Generalized Additive Model (GAM)"
   ]
  },
  {
   "cell_type": "code",
   "execution_count": 22,
   "id": "f342f9e1",
   "metadata": {},
   "outputs": [
    {
     "name": "stderr",
     "output_type": "stream",
     "text": [
      "100% (11 of 11) |########################| Elapsed Time: 0:00:00 Time:  0:00:00\n"
     ]
    },
    {
     "name": "stdout",
     "output_type": "stream",
     "text": [
      "LinearGAM                                                                                                 \n",
      "=============================================== ==========================================================\n",
      "Distribution:                        NormalDist Effective DoF:                                      8.9344\n",
      "Link Function:                     IdentityLink Log Likelihood:                                -70124.4863\n",
      "Number of Samples:                         4673 AIC:                                           140268.8413\n",
      "                                                AICc:                                          140268.8879\n",
      "                                                GCV:                                                0.0284\n",
      "                                                Scale:                                              0.0283\n",
      "                                                Pseudo R-Squared:                                   0.1164\n",
      "==========================================================================================================\n",
      "Feature Function                  Lambda               Rank         EDoF         P > x        Sig. Code   \n",
      "================================= ==================== ============ ============ ============ ============\n",
      "s(0)                              [15.8489]            20           8.9          1.11e-16     ***         \n",
      "intercept                                              1            0.0          7.02e-04     ***         \n",
      "==========================================================================================================\n",
      "Significance codes:  0 '***' 0.001 '**' 0.01 '*' 0.05 '.' 0.1 ' ' 1\n",
      "\n",
      "WARNING: Fitting splines and a linear function to a feature introduces a model identifiability problem\n",
      "         which can cause p-values to appear significant when they are not.\n",
      "\n",
      "WARNING: p-values calculated in this manner behave correctly for un-penalized models or models with\n",
      "         known smoothing parameters, but when smoothing parameters have been estimated, the p-values\n",
      "         are typically lower than they should be, meaning that the tests reject the null too readily.\n"
     ]
    },
    {
     "name": "stderr",
     "output_type": "stream",
     "text": [
      "/var/folders/6g/kgz5rml118s6lqw25w5sv5mr0000gn/T/ipykernel_3570/2646037673.py:19: UserWarning: KNOWN BUG: p-values computed in this summary are likely much smaller than they should be. \n",
      " \n",
      "Please do not make inferences based on these values! \n",
      "\n",
      "Collaborate on a solution, and stay up to date at: \n",
      "github.com/dswah/pyGAM/issues/163 \n",
      "\n",
      "  gam_canopy_100.summary()\n"
     ]
    }
   ],
   "source": [
    "# data/predictors as the NDVI_100\n",
    "df = pd.DataFrame(gdf_100, columns=['NDVI_100'])\n",
    "\n",
    "# target as Canopy%_100\n",
    "target = pd.DataFrame(gdf_100, columns=['Canopy%_100'])\n",
    "\n",
    "# define X and Y\n",
    "X = df\n",
    "y = target['Canopy%_100']\n",
    "\n",
    "# split independent and dependent variables into training and test data\n",
    "X_train, X_test, y_train, y_test = train_test_split(X, y, test_size=0.2, random_state=0)\n",
    "\n",
    "# GAM model\n",
    "warnings.filterwarnings(\"ignore\", category=RuntimeWarning)\n",
    "gam_canopy_100 = LinearGAM(s(0)).fit(X_train, y_train)\n",
    "\n",
    "gam_canopy_100.gridsearch(X_train, y_train)\n",
    "gam_canopy_100.summary()"
   ]
  },
  {
   "cell_type": "code",
   "execution_count": 23,
   "id": "66eab36b",
   "metadata": {},
   "outputs": [
    {
     "data": {
      "image/png": "[encoded data removed]",
      "text/plain": [
       "<Figure size 432x288 with 1 Axes>"
      ]
     },
     "metadata": {
      "needs_background": "light"
     },
     "output_type": "display_data"
    }
   ],
   "source": [
    "# plotting\n",
    "for i, term in enumerate(gam_canopy_100.terms):\n",
    "    if term.isintercept:\n",
    "        continue\n",
    "\n",
    "    XX = gam_canopy_100.generate_X_grid(term=i)\n",
    "    pdep, confi = gam_canopy_100.partial_dependence(term=i, X=XX, width=0.95)\n",
    "\n",
    "    plt.figure()\n",
    "    plt.plot(XX[:, term.feature], pdep)\n",
    "    plt.hlines(y=0, xmin=0, xmax=1, linewidth=1, color='black', linestyle='--')\n",
    "    plt.plot(XX[:, term.feature], confi, c='r', ls='--')\n",
    "    # set title, xlabel and ylabel\n",
    "    plt.title('Relative change of canopy%_100 (mean) \\n on NDVI, with GAM')\n",
    "    plt.xlabel('NDVI_100')\n",
    "    plt.ylabel('Canopy%_100')\n",
    "    # save the figure\n",
    "    plt.savefig('thesis_project/visualizations/modelling/gam_canopy_100_plot.png', dpi=300, bbox_inches='tight')\n",
    "    plt.show()"
   ]
  },
  {
   "cell_type": "code",
   "execution_count": 24,
   "id": "7eee0e39",
   "metadata": {},
   "outputs": [
    {
     "name": "stdout",
     "output_type": "stream",
     "text": [
      "If NDVI goes from 0.25 to 0.35, Canopy%_100 increases by: 0.037599578182805196\n"
     ]
    }
   ],
   "source": [
    "# Change in low NDVI values: how does Canopy% increase, if NDVI changes from 0.25 to 0.35?\n",
    "canopy_l0 = gam_canopy_100.predict(0.25)\n",
    "canopy_l1 = gam_canopy_100.predict(0.35)\n",
    "canopy_sens_low = float(canopy_l1 - canopy_l0)\n",
    "print('If NDVI goes from 0.25 to 0.35, Canopy%_100 increases by:', canopy_sens_low)"
   ]
  },
  {
   "cell_type": "code",
   "execution_count": 25,
   "id": "80669103",
   "metadata": {},
   "outputs": [
    {
     "name": "stdout",
     "output_type": "stream",
     "text": [
      "If NDVI goes from 0.45 to 0.55, Canopy%_100 increases by: 0.04417468408305833\n"
     ]
    }
   ],
   "source": [
    "# Change in mid NDVI values: how does Canopy% increase, if NDVI changes from 0.45 to 0.55?\n",
    "canopy_m0 = gam_canopy_100.predict(0.45)\n",
    "canopy_m1 = gam_canopy_100.predict(0.55)\n",
    "canopy_sens_mid = float(canopy_m1 - canopy_m0)\n",
    "print('If NDVI goes from 0.45 to 0.55, Canopy%_100 increases by:', canopy_sens_mid)"
   ]
  },
  {
   "cell_type": "code",
   "execution_count": 26,
   "id": "fbc5fdd9",
   "metadata": {},
   "outputs": [
    {
     "name": "stdout",
     "output_type": "stream",
     "text": [
      "If NDVI goes from 0.65 to 0.75, Canopy%_100 increases by: 0.06734044235029735\n"
     ]
    }
   ],
   "source": [
    "# Change in low NDVI values: how does Canopy% increase, if NDVI changes from 0.65 to 0.75?\n",
    "canopy_h0 = gam_canopy_100.predict(0.65)\n",
    "canopy_h1 = gam_canopy_100.predict(0.75)\n",
    "canopy_sens_hig = float(canopy_h1 - canopy_h0)\n",
    "print('If NDVI goes from 0.65 to 0.75, Canopy%_100 increases by:', canopy_sens_hig)"
   ]
  },
  {
   "cell_type": "markdown",
   "id": "1faa82d4",
   "metadata": {},
   "source": [
    "### 1.3. How does NDVI predict Grass%?"
   ]
  },
  {
   "cell_type": "markdown",
   "id": "c70784e7",
   "metadata": {},
   "source": [
    "#### 1.3.1. Linear Regression Model"
   ]
  },
  {
   "cell_type": "code",
   "execution_count": 27,
   "id": "c85fa777",
   "metadata": {},
   "outputs": [],
   "source": [
    "# NDVI_100 as the predictor\n",
    "df = pd.DataFrame(gdf_100, columns=['NDVI_100'])\n",
    "\n",
    "# Grass%_100 as the target\n",
    "target = pd.DataFrame(gdf_100, columns=['Grass%_100'])\n",
    "\n",
    "# define X and y\n",
    "X = df\n",
    "y = target['Grass%_100']\n",
    "\n",
    "# split independent and dependent variables into training and test data\n",
    "X_train, X_test, y_train, y_test = train_test_split(X, y, test_size=0.2, random_state=0)\n",
    "\n",
    "# fit the linear model\n",
    "lm_100 = linear_model.LinearRegression()\n",
    "model_100 = lm_100.fit(X_train,y_train)"
   ]
  },
  {
   "cell_type": "code",
   "execution_count": 28,
   "id": "ac5b0193",
   "metadata": {},
   "outputs": [
    {
     "name": "stdout",
     "output_type": "stream",
     "text": [
      "Coefficient of NDVI_100 (or slope): [0.45144665]\n",
      "Intercept: -0.15054825243325864\n",
      "R-squared: 0.1438915198778541\n"
     ]
    }
   ],
   "source": [
    "# linear model coefficient, intercept, and R-squared \n",
    "print('Coefficient of NDVI_100 (or slope):', model_100.coef_)\n",
    "print('Intercept:', model_100.intercept_)\n",
    "print('R-squared:', model_100.score(X_train,y_train))"
   ]
  },
  {
   "cell_type": "code",
   "execution_count": 29,
   "id": "3f9c1c90",
   "metadata": {},
   "outputs": [],
   "source": [
    "# make predictions\n",
    "y_pred = model_100.predict(X_test)\n",
    "\n",
    "# compare actual values with predicted ones\n",
    "df = pd.DataFrame({'Actual': y_test, 'Predicted': y_pred})\n",
    "\n",
    "# convert X_test to array values (for later use when plotting)\n",
    "X_test = X_test.iloc[:, 0:1].values"
   ]
  },
  {
   "cell_type": "code",
   "execution_count": 30,
   "id": "9a356e99",
   "metadata": {},
   "outputs": [
    {
     "name": "stdout",
     "output_type": "stream",
     "text": [
      "Mean Absolute Error: 0.10756658205584864\n",
      "Mean Squared Error: 0.024261264398270532\n",
      "Root Mean Squared Error: 0.15576027862799466\n"
     ]
    }
   ],
   "source": [
    "# evaluate the model\n",
    "print('Mean Absolute Error:', metrics.mean_absolute_error(y_test, y_pred))\n",
    "print('Mean Squared Error:', metrics.mean_squared_error(y_test, y_pred))\n",
    "print('Root Mean Squared Error:', np.sqrt(metrics.mean_squared_error(y_test, y_pred)))"
   ]
  },
  {
   "cell_type": "code",
   "execution_count": 31,
   "id": "656e8597",
   "metadata": {},
   "outputs": [
    {
     "data": {
      "image/png": "[encoded data removed]",
      "text/plain": [
       "<Figure size 432x288 with 1 Axes>"
      ]
     },
     "metadata": {
      "needs_background": "light"
     },
     "output_type": "display_data"
    }
   ],
   "source": [
    "# plot outputs\n",
    "plt.scatter(X_test, y_test, color=\"forestgreen\")\n",
    "plt.plot(X_test, y_pred, color=\"black\", linewidth=2)\n",
    "\n",
    "plt.xticks(np.arange(0, 1.1, step = 0.2))\n",
    "plt.yticks(np.arange(0, 1.1, step = 0.2))\n",
    "\n",
    "# set title, xlabel and ylabel\n",
    "plt.title('Change of grass%_100 on NDVI_100, with LR')\n",
    "plt.xlabel('NDVI_100')\n",
    "plt.ylabel('Grass%_100')\n",
    "\n",
    "# save the figure\n",
    "plt.savefig('thesis_project/visualizations/modelling/lr_grass_100_plot.png', dpi=300, bbox_inches='tight')\n",
    "\n",
    "plt.show()"
   ]
  },
  {
   "cell_type": "code",
   "execution_count": 32,
   "id": "27e9d737",
   "metadata": {},
   "outputs": [
    {
     "name": "stdout",
     "output_type": "stream",
     "text": [
      "If NDVI goes from 0.25 to 0.35, Grass%_100 increases by: 0.045144664696341125\n"
     ]
    },
    {
     "name": "stderr",
     "output_type": "stream",
     "text": [
      "/Applications/anaconda3/envs/ssml/lib/python3.9/site-packages/sklearn/base.py:450: UserWarning: X does not have valid feature names, but LinearRegression was fitted with feature names\n",
      "  warnings.warn(\n",
      "/Applications/anaconda3/envs/ssml/lib/python3.9/site-packages/sklearn/base.py:450: UserWarning: X does not have valid feature names, but LinearRegression was fitted with feature names\n",
      "  warnings.warn(\n"
     ]
    }
   ],
   "source": [
    "# how does Grass% increase, if NDVI changes from 0.25 to 0.35?\n",
    "grass0 = model_100.predict([[0.25]])\n",
    "grass1 = model_100.predict([[0.35]])\n",
    "grass_sens_lr = float(grass1 - grass0)\n",
    "print('If NDVI goes from 0.25 to 0.35, Grass%_100 increases by:', grass_sens_lr)"
   ]
  },
  {
   "cell_type": "markdown",
   "id": "71afcac1",
   "metadata": {},
   "source": [
    "#### 1.3.2. Generalized Additive Model (GAM)"
   ]
  },
  {
   "cell_type": "code",
   "execution_count": 33,
   "id": "c2959323",
   "metadata": {},
   "outputs": [
    {
     "name": "stderr",
     "output_type": "stream",
     "text": [
      "100% (11 of 11) |########################| Elapsed Time: 0:00:00 Time:  0:00:00\n"
     ]
    },
    {
     "name": "stdout",
     "output_type": "stream",
     "text": [
      "LinearGAM                                                                                                 \n",
      "=============================================== ==========================================================\n",
      "Distribution:                        NormalDist Effective DoF:                                      8.9344\n",
      "Link Function:                     IdentityLink Log Likelihood:                                -80600.2742\n",
      "Number of Samples:                         4673 AIC:                                           161220.4172\n",
      "                                                AICc:                                          161220.4638\n",
      "                                                GCV:                                                 0.025\n",
      "                                                Scale:                                              0.0249\n",
      "                                                Pseudo R-Squared:                                   0.1814\n",
      "==========================================================================================================\n",
      "Feature Function                  Lambda               Rank         EDoF         P > x        Sig. Code   \n",
      "================================= ==================== ============ ============ ============ ============\n",
      "s(0)                              [15.8489]            20           8.9          1.11e-16     ***         \n",
      "intercept                                              1            0.0          2.00e-09     ***         \n",
      "==========================================================================================================\n",
      "Significance codes:  0 '***' 0.001 '**' 0.01 '*' 0.05 '.' 0.1 ' ' 1\n",
      "\n",
      "WARNING: Fitting splines and a linear function to a feature introduces a model identifiability problem\n",
      "         which can cause p-values to appear significant when they are not.\n",
      "\n",
      "WARNING: p-values calculated in this manner behave correctly for un-penalized models or models with\n",
      "         known smoothing parameters, but when smoothing parameters have been estimated, the p-values\n",
      "         are typically lower than they should be, meaning that the tests reject the null too readily.\n"
     ]
    },
    {
     "name": "stderr",
     "output_type": "stream",
     "text": [
      "/var/folders/6g/kgz5rml118s6lqw25w5sv5mr0000gn/T/ipykernel_3570/3444132048.py:19: UserWarning: KNOWN BUG: p-values computed in this summary are likely much smaller than they should be. \n",
      " \n",
      "Please do not make inferences based on these values! \n",
      "\n",
      "Collaborate on a solution, and stay up to date at: \n",
      "github.com/dswah/pyGAM/issues/163 \n",
      "\n",
      "  gam_grass_100.summary()\n"
     ]
    }
   ],
   "source": [
    "# data/predictors as the NDVI_100\n",
    "df = pd.DataFrame(gdf_100, columns=['NDVI_100'])\n",
    "\n",
    "# target as Grass%_100\n",
    "target = pd.DataFrame(gdf_100, columns=['Grass%_100'])\n",
    "\n",
    "# define X and Y\n",
    "X = df\n",
    "y = target['Grass%_100']\n",
    "\n",
    "# split independent and dependent variables into training and test data\n",
    "X_train, X_test, y_train, y_test = train_test_split(X, y, test_size=0.2, random_state=0)\n",
    "\n",
    "# GAM model\n",
    "warnings.filterwarnings(\"ignore\", category=RuntimeWarning)\n",
    "gam_grass_100 = LinearGAM(s(0)).fit(X_train, y_train)\n",
    "\n",
    "gam_grass_100.gridsearch(X_train, y_train)\n",
    "gam_grass_100.summary()"
   ]
  },
  {
   "cell_type": "code",
   "execution_count": 34,
   "id": "4007f1a3",
   "metadata": {},
   "outputs": [
    {
     "data": {
      "image/png": "[encoded data removed]",
      "text/plain": [
       "<Figure size 432x288 with 1 Axes>"
      ]
     },
     "metadata": {
      "needs_background": "light"
     },
     "output_type": "display_data"
    }
   ],
   "source": [
    "# plotting\n",
    "for i, term in enumerate(gam_grass_100.terms):\n",
    "    if term.isintercept:\n",
    "        continue\n",
    "\n",
    "    XX = gam_grass_100.generate_X_grid(term=i)\n",
    "    pdep, confi = gam_grass_100.partial_dependence(term=i, X=XX, width=0.95)\n",
    "\n",
    "    plt.figure()\n",
    "    plt.plot(XX[:, term.feature], pdep)\n",
    "    plt.hlines(y=0, xmin=0, xmax=1, linewidth=1, color='black', linestyle='--')\n",
    "    plt.plot(XX[:, term.feature], confi, c='r', ls='--')\n",
    "    # set title, xlabel and ylabel\n",
    "    plt.title('Relative change of grass%_100 (mean) \\n on NDVI_100, with GAM')\n",
    "    plt.xlabel('NDVI_100')\n",
    "    plt.ylabel('Grass%_100')\n",
    "    # save the figure\n",
    "    plt.savefig('thesis_project/visualizations/modelling/gam_grass_100_plot.png', dpi=300, bbox_inches='tight')\n",
    "    plt.show()"
   ]
  },
  {
   "cell_type": "code",
   "execution_count": null,
   "id": "03355128",
   "metadata": {},
   "outputs": [],
   "source": []
  },
  {
   "cell_type": "code",
   "execution_count": 35,
   "id": "4aff0fc9",
   "metadata": {},
   "outputs": [
    {
     "name": "stdout",
     "output_type": "stream",
     "text": [
      "If NDVI goes from 0.25 to 0.35, Grass%_100 increases by: 0.010868341441339038\n"
     ]
    }
   ],
   "source": [
    "# Change in low NDVI values: how does Grass% increase, if NDVI changes from 0.25 to 0.35?\n",
    "grass_l0 = gam_grass_100.predict(0.25)\n",
    "grass_l1 = gam_grass_100.predict(0.35)\n",
    "grass_sens_low = float(grass_l1 - grass_l0)\n",
    "print('If NDVI goes from 0.25 to 0.35, Grass%_100 increases by:', grass_sens_low)"
   ]
  },
  {
   "cell_type": "code",
   "execution_count": 36,
   "id": "142ad7ec",
   "metadata": {},
   "outputs": [
    {
     "name": "stdout",
     "output_type": "stream",
     "text": [
      "If NDVI goes from 0.45 to 0.55, Grass%_100 increases by: 0.06220137254354009\n"
     ]
    }
   ],
   "source": [
    "# Change in mid NDVI values: how does Grass% increase, if NDVI changes from 0.45 to 0.55?\n",
    "grass_m0 = gam_grass_100.predict(0.45)\n",
    "grass_m1 = gam_grass_100.predict(0.55)\n",
    "grass_sens_mid = float(grass_m1 - grass_m0)\n",
    "print('If NDVI goes from 0.45 to 0.55, Grass%_100 increases by:', grass_sens_mid)"
   ]
  },
  {
   "cell_type": "code",
   "execution_count": 37,
   "id": "72e407ef",
   "metadata": {},
   "outputs": [
    {
     "name": "stdout",
     "output_type": "stream",
     "text": [
      "If NDVI goes from 0.65 to 0.75, Grass%_100 increases by: 0.017538271162339553\n"
     ]
    }
   ],
   "source": [
    "# Change in high NDVI values: how does Grass% increase, if NDVI changes from 0.65 to 0.75?\n",
    "grass_h0 = gam_grass_100.predict(0.65)\n",
    "grass_h1 = gam_grass_100.predict(0.75)\n",
    "grass_sens_hig = float(grass_h1 - grass_h0)\n",
    "print('If NDVI goes from 0.65 to 0.75, Grass%_100 increases by:', grass_sens_hig)"
   ]
  },
  {
   "cell_type": "markdown",
   "id": "8b5e0c3d",
   "metadata": {},
   "source": [
    "### 1.4. How does NDVI predict Shrubs%?"
   ]
  },
  {
   "cell_type": "markdown",
   "id": "ce98adb9",
   "metadata": {},
   "source": [
    "#### 1.4.1. Linear Regression Model"
   ]
  },
  {
   "cell_type": "code",
   "execution_count": 38,
   "id": "9b38824a",
   "metadata": {},
   "outputs": [],
   "source": [
    "# data/predictors as the NDVI_100\n",
    "df_100 = pd.DataFrame(gdf_100, columns=['NDVI_100'])\n",
    "\n",
    "# target as Shrubs%_100\n",
    "target_100 = pd.DataFrame(gdf_100, columns=['Shrubs%_100'])\n",
    "\n",
    "# define X and y\n",
    "X = df_100\n",
    "y = target_100['Shrubs%_100']\n",
    "\n",
    "# split independent and dependent variables into training and test data\n",
    "X_train, X_test, y_train, y_test = train_test_split(X, y, test_size=0.2, random_state=0)\n",
    "\n",
    "# fit the linear model\n",
    "lm_100 = linear_model.LinearRegression()\n",
    "model_100 = lm_100.fit(X_train,y_train)"
   ]
  },
  {
   "cell_type": "code",
   "execution_count": 39,
   "id": "cebdbcf8",
   "metadata": {},
   "outputs": [
    {
     "name": "stdout",
     "output_type": "stream",
     "text": [
      "Coefficient of NDVI_100 (or slope): [0.77536403]\n",
      "Intercept: -0.19881883205231377\n",
      "R-squared: 0.1610487490528022\n"
     ]
    }
   ],
   "source": [
    "\n",
    "# linear model coefficient, intercept, and R-squared \n",
    "print('Coefficient of NDVI_100 (or slope):', model_100.coef_)\n",
    "print('Intercept:', model_100.intercept_)\n",
    "print('R-squared:', model_100.score(X_train,y_train))"
   ]
  },
  {
   "cell_type": "code",
   "execution_count": 40,
   "id": "edb09967",
   "metadata": {},
   "outputs": [],
   "source": [
    "# make predictions\n",
    "y_pred = model_100.predict(X_test)\n",
    "\n",
    "# compare actual values with predicted ones\n",
    "df_pred = pd.DataFrame({'Actual': y_test, 'Predicted': y_pred})\n",
    "\n",
    "# convert X_test to array values\n",
    "X_test = X_test.iloc[:, 0:1].values"
   ]
  },
  {
   "cell_type": "code",
   "execution_count": 41,
   "id": "e7e6957f",
   "metadata": {},
   "outputs": [
    {
     "name": "stdout",
     "output_type": "stream",
     "text": [
      "Mean Absolute Error: 0.1878757630980801\n",
      "Mean Squared Error: 0.06016331718853556\n",
      "Root Mean Squared Error: 0.24528211754739798\n"
     ]
    }
   ],
   "source": [
    "# evaluate the model\n",
    "print('Mean Absolute Error:', metrics.mean_absolute_error(y_test, y_pred))\n",
    "print('Mean Squared Error:', metrics.mean_squared_error(y_test, y_pred))\n",
    "print('Root Mean Squared Error:', np.sqrt(metrics.mean_squared_error(y_test, y_pred)))"
   ]
  },
  {
   "cell_type": "code",
   "execution_count": 42,
   "id": "1db53477",
   "metadata": {},
   "outputs": [
    {
     "data": {
      "image/png": "[encoded data removed]",
      "text/plain": [
       "<Figure size 432x288 with 1 Axes>"
      ]
     },
     "metadata": {
      "needs_background": "light"
     },
     "output_type": "display_data"
    }
   ],
   "source": [
    "# plot outputs\n",
    "plt.scatter(X_test, y_test, color=\"forestgreen\")\n",
    "plt.plot(X_test, y_pred, color=\"black\", linewidth=2)\n",
    "\n",
    "plt.xticks(np.arange(0, 1.1, step = 0.2))\n",
    "plt.yticks(np.arange(0, 1.1, step = 0.2))\n",
    "\n",
    "# set title, xlabel and ylabel\n",
    "plt.title('Change of shrubs%_100 on NDVI_100, with LR')\n",
    "plt.xlabel('NDVI_100')\n",
    "plt.ylabel('Shrubs%_100')\n",
    "\n",
    "# save the figure\n",
    "plt.savefig('thesis_project/visualizations/modelling/lr_shrubs_100_plot.png', dpi=300, bbox_inches='tight')\n",
    "\n",
    "plt.show()"
   ]
  },
  {
   "cell_type": "markdown",
   "id": "65db9c88",
   "metadata": {},
   "source": [
    "#### 1.4.2. Generalized Additive Model (GAM)"
   ]
  },
  {
   "cell_type": "code",
   "execution_count": 43,
   "id": "0623a0bb",
   "metadata": {},
   "outputs": [
    {
     "name": "stderr",
     "output_type": "stream",
     "text": [
      "100% (11 of 11) |########################| Elapsed Time: 0:00:00 Time:  0:00:00\n"
     ]
    },
    {
     "name": "stdout",
     "output_type": "stream",
     "text": [
      "LinearGAM                                                                                                 \n",
      "=============================================== ==========================================================\n",
      "Distribution:                        NormalDist Effective DoF:                                      5.2813\n",
      "Link Function:                     IdentityLink Log Likelihood:                                 -26760.189\n",
      "Number of Samples:                         4673 AIC:                                            53532.9406\n",
      "                                                AICc:                                           53532.9602\n",
      "                                                GCV:                                                0.0666\n",
      "                                                Scale:                                              0.0664\n",
      "                                                Pseudo R-Squared:                                   0.1717\n",
      "==========================================================================================================\n",
      "Feature Function                  Lambda               Rank         EDoF         P > x        Sig. Code   \n",
      "================================= ==================== ============ ============ ============ ============\n",
      "s(0)                              [251.1886]           20           5.3          1.11e-16     ***         \n",
      "intercept                                              1            0.0          1.85e-13     ***         \n",
      "==========================================================================================================\n",
      "Significance codes:  0 '***' 0.001 '**' 0.01 '*' 0.05 '.' 0.1 ' ' 1\n",
      "\n",
      "WARNING: Fitting splines and a linear function to a feature introduces a model identifiability problem\n",
      "         which can cause p-values to appear significant when they are not.\n",
      "\n",
      "WARNING: p-values calculated in this manner behave correctly for un-penalized models or models with\n",
      "         known smoothing parameters, but when smoothing parameters have been estimated, the p-values\n",
      "         are typically lower than they should be, meaning that the tests reject the null too readily.\n"
     ]
    },
    {
     "name": "stderr",
     "output_type": "stream",
     "text": [
      "/var/folders/6g/kgz5rml118s6lqw25w5sv5mr0000gn/T/ipykernel_3570/455823317.py:19: UserWarning: KNOWN BUG: p-values computed in this summary are likely much smaller than they should be. \n",
      " \n",
      "Please do not make inferences based on these values! \n",
      "\n",
      "Collaborate on a solution, and stay up to date at: \n",
      "github.com/dswah/pyGAM/issues/163 \n",
      "\n",
      "  gam_shrubs_100.summary()\n"
     ]
    }
   ],
   "source": [
    "# data/predictors as the NDVI_100\n",
    "df_100 = pd.DataFrame(gdf_100, columns=['NDVI_100'])\n",
    "\n",
    "# target as Shrubs%_100\n",
    "target_100 = pd.DataFrame(gdf_100, columns=['Shrubs%_100'])\n",
    "\n",
    "# define X and Y\n",
    "X = df_100\n",
    "y = target_100['Shrubs%_100']\n",
    "\n",
    "# split independent and dependent variables into training and test data\n",
    "X_train, X_test, y_train, y_test = train_test_split(X, y, test_size=0.2, random_state=0)\n",
    "\n",
    "# GAM model\n",
    "warnings.filterwarnings(\"ignore\", category=RuntimeWarning)\n",
    "gam_shrubs_100 = LinearGAM(s(0)).fit(X_train, y_train)\n",
    "\n",
    "gam_shrubs_100.gridsearch(X_train, y_train)\n",
    "gam_shrubs_100.summary()"
   ]
  },
  {
   "cell_type": "code",
   "execution_count": 44,
   "id": "d08266c6",
   "metadata": {},
   "outputs": [
    {
     "data": {
      "image/png": "[encoded data removed]",
      "text/plain": [
       "<Figure size 432x288 with 1 Axes>"
      ]
     },
     "metadata": {
      "needs_background": "light"
     },
     "output_type": "display_data"
    }
   ],
   "source": [
    "# plotting\n",
    "for i, term in enumerate(gam_shrubs_100.terms):\n",
    "    if term.isintercept:\n",
    "        continue\n",
    "\n",
    "    XX = gam_shrubs_100.generate_X_grid(term=i)\n",
    "    pdep, confi = gam_shrubs_100.partial_dependence(term=i, X=XX, width=0.95)\n",
    "\n",
    "    plt.figure()\n",
    "    plt.plot(XX[:, term.feature], pdep)\n",
    "    plt.hlines(y=0, xmin=0, xmax=1, linewidth=1, color='black', linestyle='--')\n",
    "    plt.plot(XX[:, term.feature], confi, c='r', ls='--')\n",
    "    # set title, xlabel and ylabel\n",
    "    plt.title('Relative change of shrubs%_100 (mean) \\n on NDVI_100, with GAM')\n",
    "    plt.xlabel('NDVI_100')\n",
    "    plt.ylabel('Shrubs%_100')\n",
    "    # save the figure\n",
    "    plt.savefig('thesis_project/visualizations/modelling/gam_shrubs_100_plot.png', dpi=300, bbox_inches='tight')\n",
    "    plt.show()"
   ]
  },
  {
   "cell_type": "code",
   "execution_count": 45,
   "id": "1ceffedf",
   "metadata": {},
   "outputs": [
    {
     "name": "stdout",
     "output_type": "stream",
     "text": [
      "If NDVI goes from 0.25 to 0.35, Shrubs%_100 increases by: 0.06083032784864256\n"
     ]
    }
   ],
   "source": [
    "# Change in low NDVI values: how does Shrubs% increase, if NDVI changes from 0.25 to 0.35?\n",
    "shrubs_l0 = gam_shrubs_100.predict(0.25)\n",
    "shrubs_l1 = gam_shrubs_100.predict(0.35)\n",
    "shrubs_sens_low = float(shrubs_l1 - shrubs_l0)\n",
    "print('If NDVI goes from 0.25 to 0.35, Shrubs%_100 increases by:', shrubs_sens_low)"
   ]
  },
  {
   "cell_type": "code",
   "execution_count": 46,
   "id": "181798b3",
   "metadata": {},
   "outputs": [
    {
     "name": "stdout",
     "output_type": "stream",
     "text": [
      "If NDVI goes from 0.45 to 0.55, Shrubs%_100 increases by: 0.11102418846354661\n"
     ]
    }
   ],
   "source": [
    "# Change in mid NDVI values: how does Shrubs% increase, if NDVI changes from 0.45 to 0.55?\n",
    "shrubs_m0 = gam_shrubs_100.predict(0.45)\n",
    "shrubs_m1 = gam_shrubs_100.predict(0.55)\n",
    "shrubs_sens_mid = float(shrubs_m1 - shrubs_m0)\n",
    "print('If NDVI goes from 0.45 to 0.55, Shrubs%_100 increases by:', shrubs_sens_mid)"
   ]
  },
  {
   "cell_type": "code",
   "execution_count": 47,
   "id": "3fef61f2",
   "metadata": {},
   "outputs": [
    {
     "name": "stdout",
     "output_type": "stream",
     "text": [
      "If NDVI goes from 0.65 to 0.75, Shrubs%_100 increases by: 0.07657062431426764\n"
     ]
    }
   ],
   "source": [
    "# Change in high NDVI values: how does Shrubs% increase, if NDVI changes from 0.65 to 0.75?\n",
    "shrubs_h0 = gam_shrubs_100.predict(0.65)\n",
    "shrubs_h1 = gam_shrubs_100.predict(0.75)\n",
    "shrubs_sens_hig = float(shrubs_h1 - shrubs_h0)\n",
    "print('If NDVI goes from 0.65 to 0.75, Shrubs%_100 increases by:', shrubs_sens_hig)"
   ]
  },
  {
   "cell_type": "markdown",
   "id": "8bc3e79c",
   "metadata": {},
   "source": [
    "### 1.5. How do Grass%, Canopy%, and Shrubs% predict NDVI?"
   ]
  },
  {
   "cell_type": "code",
   "execution_count": 48,
   "id": "636f2f91",
   "metadata": {},
   "outputs": [
    {
     "name": "stderr",
     "output_type": "stream",
     "text": [
      "100% (125 of 125) |######################| Elapsed Time: 0:00:09 Time:  0:00:09\n"
     ]
    },
    {
     "name": "stdout",
     "output_type": "stream",
     "text": [
      "LinearGAM                                                                                                 \n",
      "=============================================== ==========================================================\n",
      "Distribution:                        NormalDist Effective DoF:                                     40.3749\n",
      "Link Function:                     IdentityLink Log Likelihood:                               -405426.8559\n",
      "Number of Samples:                         4673 AIC:                                           810936.4616\n",
      "                                                AICc:                                          810937.2188\n",
      "                                                GCV:                                                0.0055\n",
      "                                                Scale:                                              0.0054\n",
      "                                                Pseudo R-Squared:                                   0.7485\n",
      "==========================================================================================================\n",
      "Feature Function                  Lambda               Rank         EDoF         P > x        Sig. Code   \n",
      "================================= ==================== ============ ============ ============ ============\n",
      "s(0)                              [1000.]              20           5.2          1.11e-16     ***         \n",
      "s(1)                              [0.0316]             20           17.4         1.11e-16     ***         \n",
      "s(2)                              [0.0316]             20           17.8         1.11e-16     ***         \n",
      "intercept                                              1            0.0          1.11e-16     ***         \n",
      "==========================================================================================================\n",
      "Significance codes:  0 '***' 0.001 '**' 0.01 '*' 0.05 '.' 0.1 ' ' 1\n",
      "\n",
      "WARNING: Fitting splines and a linear function to a feature introduces a model identifiability problem\n",
      "         which can cause p-values to appear significant when they are not.\n",
      "\n",
      "WARNING: p-values calculated in this manner behave correctly for un-penalized models or models with\n",
      "         known smoothing parameters, but when smoothing parameters have been estimated, the p-values\n",
      "         are typically lower than they should be, meaning that the tests reject the null too readily.\n"
     ]
    },
    {
     "name": "stderr",
     "output_type": "stream",
     "text": [
      "/var/folders/6g/kgz5rml118s6lqw25w5sv5mr0000gn/T/ipykernel_3570/2876185034.py:24: UserWarning: KNOWN BUG: p-values computed in this summary are likely much smaller than they should be. \n",
      " \n",
      "Please do not make inferences based on these values! \n",
      "\n",
      "Collaborate on a solution, and stay up to date at: \n",
      "github.com/dswah/pyGAM/issues/163 \n",
      "\n",
      "  gam_ndvi_100.summary()\n"
     ]
    }
   ],
   "source": [
    "# data/predictors as Grass%, Canopy%, and Shrubs%\n",
    "cols = ['Grass%_100', 'Canopy%_100', 'Shrubs%_100']\n",
    "df = pd.DataFrame(gdf_100, columns=cols)\n",
    "\n",
    "# target as NDVI_100\n",
    "target = pd.DataFrame(gdf_100, columns=['NDVI_100'])\n",
    "\n",
    "# define X and Y\n",
    "X = df\n",
    "y = target['NDVI_100']\n",
    "\n",
    "# split independent and dependent variables into training and test data\n",
    "X_train, X_test, y_train, y_test = train_test_split(X, y, test_size=0.2, random_state=0)\n",
    "\n",
    "# GAM model gridsearch() iterable lambdas (one for each term)\n",
    "warnings.filterwarnings(\"ignore\", category=RuntimeWarning)\n",
    "gam_ndvi_100 = LinearGAM().fit(X_train, y_train)\n",
    "\n",
    "# using gridsearch to tune the lambdas\n",
    "lam = np.logspace(-3, 3, 5)\n",
    "lams = [lam] * 3\n",
    "\n",
    "gam_ndvi_100.gridsearch(X_train, y_train, lam=lams)\n",
    "gam_ndvi_100.summary()"
   ]
  },
  {
   "cell_type": "code",
   "execution_count": 49,
   "id": "75a3e169",
   "metadata": {},
   "outputs": [
    {
     "data": {
      "text/plain": [
       "<Figure size 432x288 with 0 Axes>"
      ]
     },
     "metadata": {},
     "output_type": "display_data"
    },
    {
     "data": {
      "image/png": "[encoded data removed]",
      "text/plain": [
       "<Figure size 864x288 with 3 Axes>"
      ]
     },
     "metadata": {
      "needs_background": "light"
     },
     "output_type": "display_data"
    }
   ],
   "source": [
    "## plotting\n",
    "plt.figure();\n",
    "fig, axs = plt.subplots(1,3, figsize=(12,4));\n",
    "\n",
    "titles = ['Grass%_100', 'Canopy%_100', 'Shrubs%_100']\n",
    "for i, ax in enumerate(axs):\n",
    "    XX = gam_ndvi_100.generate_X_grid(term=i)\n",
    "    ax.plot(XX[:, i], gam_ndvi_100.partial_dependence(term=i, X=XX))\n",
    "    ax.plot(XX[:, i], gam_ndvi_100.partial_dependence(term=i, X=XX, width=.95)[1], c='r', ls='--')\n",
    "    ax.set_ylim(-0.5, 0.5)\n",
    "    ax.set_xticks(list(ax.get_xticks()))\n",
    "    ax.hlines(y=0, xmin=0, xmax=1, linewidth=1, color='black', linestyle='--')\n",
    "    ax.set_ylabel('Relative change of NDVI_100 (mean)', fontsize=12)\n",
    "    ax.set_title(titles[i], fontsize=12);\n",
    "    \n",
    "# non-overlapping subplots\n",
    "plt.tight_layout()\n",
    "    \n",
    "# save the figure\n",
    "plt.savefig('thesis_project/visualizations/modelling/gam_ndvi_100_plot.png', dpi=300, bbox_inches='tight')\n",
    "\n",
    "plt.show()"
   ]
  },
  {
   "cell_type": "markdown",
   "id": "3f18a166",
   "metadata": {},
   "source": [
    "## 2. Modelling greenspace metrics at 300m"
   ]
  },
  {
   "cell_type": "code",
   "execution_count": 50,
   "id": "6a719d9f",
   "metadata": {},
   "outputs": [
    {
     "data": {
      "text/html": [
       "<div>\n",
       "<style scoped>\n",
       "    .dataframe tbody tr th:only-of-type {\n",
       "        vertical-align: middle;\n",
       "    }\n",
       "\n",
       "    .dataframe tbody tr th {\n",
       "        vertical-align: top;\n",
       "    }\n",
       "\n",
       "    .dataframe thead th {\n",
       "        text-align: right;\n",
       "    }\n",
       "</style>\n",
       "<table border=\"1\" class=\"dataframe\">\n",
       "  <thead>\n",
       "    <tr style=\"text-align: right;\">\n",
       "      <th></th>\n",
       "      <th>NDVI_300</th>\n",
       "      <th>Greenspace%_300</th>\n",
       "      <th>Canopy%_300</th>\n",
       "      <th>Grass%_300</th>\n",
       "      <th>Shrubs%_300</th>\n",
       "      <th>geometry</th>\n",
       "    </tr>\n",
       "  </thead>\n",
       "  <tbody>\n",
       "    <tr>\n",
       "      <th>0</th>\n",
       "      <td>0.488255</td>\n",
       "      <td>0.955836</td>\n",
       "      <td>2.242873e-16</td>\n",
       "      <td>0.062290</td>\n",
       "      <td>0.421350</td>\n",
       "      <td>POINT (396607.971 420663.294)</td>\n",
       "    </tr>\n",
       "    <tr>\n",
       "      <th>1</th>\n",
       "      <td>0.531893</td>\n",
       "      <td>0.496460</td>\n",
       "      <td>2.145669e-01</td>\n",
       "      <td>0.128283</td>\n",
       "      <td>0.198172</td>\n",
       "      <td>POINT (357230.295 401556.298)</td>\n",
       "    </tr>\n",
       "    <tr>\n",
       "      <th>2</th>\n",
       "      <td>0.812246</td>\n",
       "      <td>0.932001</td>\n",
       "      <td>4.007312e-01</td>\n",
       "      <td>0.247811</td>\n",
       "      <td>0.353859</td>\n",
       "      <td>POINT (390380.102 385914.240)</td>\n",
       "    </tr>\n",
       "    <tr>\n",
       "      <th>3</th>\n",
       "      <td>0.949025</td>\n",
       "      <td>0.989765</td>\n",
       "      <td>4.611924e-02</td>\n",
       "      <td>0.185859</td>\n",
       "      <td>0.605270</td>\n",
       "      <td>POINT (374281.691 415010.143)</td>\n",
       "    </tr>\n",
       "    <tr>\n",
       "      <th>4</th>\n",
       "      <td>0.562222</td>\n",
       "      <td>0.574693</td>\n",
       "      <td>3.180540e-01</td>\n",
       "      <td>0.167677</td>\n",
       "      <td>0.148158</td>\n",
       "      <td>POINT (389574.066 388155.085)</td>\n",
       "    </tr>\n",
       "  </tbody>\n",
       "</table>\n",
       "</div>"
      ],
      "text/plain": [
       "   NDVI_300  Greenspace%_300   Canopy%_300  Grass%_300  Shrubs%_300  \\\n",
       "0  0.488255         0.955836  2.242873e-16    0.062290     0.421350   \n",
       "1  0.531893         0.496460  2.145669e-01    0.128283     0.198172   \n",
       "2  0.812246         0.932001  4.007312e-01    0.247811     0.353859   \n",
       "3  0.949025         0.989765  4.611924e-02    0.185859     0.605270   \n",
       "4  0.562222         0.574693  3.180540e-01    0.167677     0.148158   \n",
       "\n",
       "                        geometry  \n",
       "0  POINT (396607.971 420663.294)  \n",
       "1  POINT (357230.295 401556.298)  \n",
       "2  POINT (390380.102 385914.240)  \n",
       "3  POINT (374281.691 415010.143)  \n",
       "4  POINT (389574.066 388155.085)  "
      ]
     },
     "execution_count": 50,
     "metadata": {},
     "output_type": "execute_result"
    }
   ],
   "source": [
    "# load greenspace metrics at 300m geodataframe\n",
    "gdf_300 = gpd.read_file(\"thesis_project/output/dataframes/greenspace_metrics_300_df.json\")\n",
    "gdf_300.head()"
   ]
  },
  {
   "cell_type": "markdown",
   "id": "1d5595d8",
   "metadata": {},
   "source": [
    "### 2.1. How does NDVI predict Greenspace%?"
   ]
  },
  {
   "cell_type": "markdown",
   "id": "f95fbe66",
   "metadata": {},
   "source": [
    "#### 2.1.1. Linear Regression Model"
   ]
  },
  {
   "cell_type": "code",
   "execution_count": 51,
   "id": "36673403",
   "metadata": {},
   "outputs": [],
   "source": [
    "# NDVI_300 as the predictor\n",
    "df = pd.DataFrame(gdf_300, columns=['NDVI_300'])\n",
    "\n",
    "# Greenspace%_300 as the target\n",
    "target = pd.DataFrame(gdf_300, columns=['Greenspace%_300'])\n",
    "\n",
    "# define X and y\n",
    "X = df\n",
    "y = target['Greenspace%_300']\n",
    "\n",
    "# split independent and dependent variables into training and test data\n",
    "X_train, X_test, y_train, y_test = train_test_split(X, y, test_size=0.2, random_state=0)\n",
    "\n",
    "# fit the linear model\n",
    "lm_300 = linear_model.LinearRegression()\n",
    "model_300 = lm_300.fit(X_train,y_train)"
   ]
  },
  {
   "cell_type": "code",
   "execution_count": 52,
   "id": "0b759d4f",
   "metadata": {},
   "outputs": [
    {
     "name": "stdout",
     "output_type": "stream",
     "text": [
      "Coefficient of NDVI_300 (or slope): [1.20802165]\n",
      "Intercept: -0.04725316511973132\n",
      "R-squared: 0.6797081544466572\n"
     ]
    }
   ],
   "source": [
    "# linear model coefficient, intercept, and R-squared \n",
    "print('Coefficient of NDVI_300 (or slope):', model_300.coef_)\n",
    "print('Intercept:', model_300.intercept_)\n",
    "print('R-squared:', model_300.score(X_train,y_train))"
   ]
  },
  {
   "cell_type": "code",
   "execution_count": 53,
   "id": "778d87a1",
   "metadata": {},
   "outputs": [],
   "source": [
    "# make predictions\n",
    "y_pred = model_300.predict(X_test)\n",
    "\n",
    "# compare actual values with predicted ones\n",
    "df = pd.DataFrame({'Actual': y_test, 'Predicted': y_pred})\n",
    "\n",
    "# convert X_test to array values (for later use when plotting)\n",
    "X_test = X_test.iloc[:, 0:1].values"
   ]
  },
  {
   "cell_type": "code",
   "execution_count": 54,
   "id": "58b51e04",
   "metadata": {},
   "outputs": [
    {
     "name": "stdout",
     "output_type": "stream",
     "text": [
      "Mean Absolute Error: 0.09585366062489055\n",
      "Mean Squared Error: 0.018247135846877663\n",
      "Root Mean Squared Error: 0.13508195973881065\n"
     ]
    }
   ],
   "source": [
    "# evaluate the model\n",
    "print('Mean Absolute Error:', metrics.mean_absolute_error(y_test, y_pred))\n",
    "print('Mean Squared Error:', metrics.mean_squared_error(y_test, y_pred))\n",
    "print('Root Mean Squared Error:', np.sqrt(metrics.mean_squared_error(y_test, y_pred)))"
   ]
  },
  {
   "cell_type": "code",
   "execution_count": 55,
   "id": "1c44a126",
   "metadata": {},
   "outputs": [
    {
     "data": {
      "image/png": "[encoded data removed]",
      "text/plain": [
       "<Figure size 432x288 with 1 Axes>"
      ]
     },
     "metadata": {
      "needs_background": "light"
     },
     "output_type": "display_data"
    }
   ],
   "source": [
    "# plot outputs\n",
    "plt.scatter(X_test, y_test, color=\"forestgreen\")\n",
    "plt.plot(X_test, y_pred, color=\"black\", linewidth=2)\n",
    "\n",
    "plt.xticks(np.arange(0, 1.1, step = 0.2))\n",
    "plt.yticks(np.arange(0, 1.1, step = 0.2))\n",
    "\n",
    "# set title, xlabel and ylabel\n",
    "plt.title('Change of greenspace%_300 on NDVI_300, with LR')\n",
    "plt.xlabel('NDVI_300')\n",
    "plt.ylabel('Greenspace%_300')\n",
    "\n",
    "# save the figure\n",
    "plt.savefig('thesis_project/visualizations/modelling/lr_greenspace_300_plot.png', dpi=300, bbox_inches='tight')\n",
    "\n",
    "plt.show()"
   ]
  },
  {
   "cell_type": "code",
   "execution_count": 56,
   "id": "2b4def1f",
   "metadata": {},
   "outputs": [
    {
     "name": "stdout",
     "output_type": "stream",
     "text": [
      "If NDVI goes from 0.3 to 0.4, Greenspace%_100 increases by: [0.12080216]\n"
     ]
    },
    {
     "name": "stderr",
     "output_type": "stream",
     "text": [
      "/Applications/anaconda3/envs/ssml/lib/python3.9/site-packages/sklearn/base.py:450: UserWarning: X does not have valid feature names, but LinearRegression was fitted with feature names\n",
      "  warnings.warn(\n",
      "/Applications/anaconda3/envs/ssml/lib/python3.9/site-packages/sklearn/base.py:450: UserWarning: X does not have valid feature names, but LinearRegression was fitted with feature names\n",
      "  warnings.warn(\n"
     ]
    }
   ],
   "source": [
    "# Change in NDVI values: how does Greenspace% increase, if NDVI changes from 0.3 to 0.4?\n",
    "green0 = model_300.predict([[0.3]])\n",
    "green1 = model_300.predict([[0.4]])\n",
    "print('If NDVI goes from 0.3 to 0.4, Greenspace%_100 increases by:', green1 - green0)"
   ]
  },
  {
   "cell_type": "markdown",
   "id": "45f540ac",
   "metadata": {},
   "source": [
    "#### 2.1.2. Generalized Additive Model (GAM)"
   ]
  },
  {
   "cell_type": "code",
   "execution_count": 57,
   "id": "396c23a6",
   "metadata": {},
   "outputs": [
    {
     "name": "stderr",
     "output_type": "stream",
     "text": [
      "100% (11 of 11) |########################| Elapsed Time: 0:00:00 Time:  0:00:00\n"
     ]
    },
    {
     "name": "stdout",
     "output_type": "stream",
     "text": [
      "LinearGAM                                                                                                 \n",
      "=============================================== ==========================================================\n",
      "Distribution:                        NormalDist Effective DoF:                                      7.6321\n",
      "Link Function:                     IdentityLink Log Likelihood:                               -122150.3757\n",
      "Number of Samples:                         4688 AIC:                                           244318.0154\n",
      "                                                AICc:                                           244318.051\n",
      "                                                GCV:                                                0.0171\n",
      "                                                Scale:                                              0.0171\n",
      "                                                Pseudo R-Squared:                                   0.7008\n",
      "==========================================================================================================\n",
      "Feature Function                  Lambda               Rank         EDoF         P > x        Sig. Code   \n",
      "================================= ==================== ============ ============ ============ ============\n",
      "s(0)                              [63.0957]            20           7.6          1.11e-16     ***         \n",
      "intercept                                              1            0.0          1.11e-16     ***         \n",
      "==========================================================================================================\n",
      "Significance codes:  0 '***' 0.001 '**' 0.01 '*' 0.05 '.' 0.1 ' ' 1\n",
      "\n",
      "WARNING: Fitting splines and a linear function to a feature introduces a model identifiability problem\n",
      "         which can cause p-values to appear significant when they are not.\n",
      "\n",
      "WARNING: p-values calculated in this manner behave correctly for un-penalized models or models with\n",
      "         known smoothing parameters, but when smoothing parameters have been estimated, the p-values\n",
      "         are typically lower than they should be, meaning that the tests reject the null too readily.\n"
     ]
    },
    {
     "name": "stderr",
     "output_type": "stream",
     "text": [
      "/var/folders/6g/kgz5rml118s6lqw25w5sv5mr0000gn/T/ipykernel_3570/832746388.py:19: UserWarning: KNOWN BUG: p-values computed in this summary are likely much smaller than they should be. \n",
      " \n",
      "Please do not make inferences based on these values! \n",
      "\n",
      "Collaborate on a solution, and stay up to date at: \n",
      "github.com/dswah/pyGAM/issues/163 \n",
      "\n",
      "  gam_green_300.summary()\n"
     ]
    }
   ],
   "source": [
    "# data/predictors as the NDVI_300\n",
    "df_300 = pd.DataFrame(gdf_300, columns=['NDVI_300'])\n",
    "\n",
    "# target as Greenspace%_300\n",
    "target_300 = pd.DataFrame(gdf_300, columns=['Greenspace%_300'])\n",
    "\n",
    "# define X and Y\n",
    "X = df_300\n",
    "y = target_300['Greenspace%_300']\n",
    "\n",
    "# split independent and dependent variables into training and test data\n",
    "X_train, X_test, y_train, y_test = train_test_split(X, y, test_size=0.2, random_state=0)\n",
    "\n",
    "# GAM model\n",
    "warnings.filterwarnings(\"ignore\", category=RuntimeWarning)\n",
    "gam_green_300 = LinearGAM(s(0)).fit(X_train, y_train)\n",
    "\n",
    "gam_green_300.gridsearch(X_train, y_train)\n",
    "gam_green_300.summary()"
   ]
  },
  {
   "cell_type": "code",
   "execution_count": 58,
   "id": "61b876b3",
   "metadata": {},
   "outputs": [
    {
     "data": {
      "image/png": "[encoded data removed]",
      "text/plain": [
       "<Figure size 432x288 with 1 Axes>"
      ]
     },
     "metadata": {
      "needs_background": "light"
     },
     "output_type": "display_data"
    }
   ],
   "source": [
    "# plotting\n",
    "for i, term in enumerate(gam_green_300.terms):\n",
    "    if term.isintercept:\n",
    "        continue\n",
    "\n",
    "    XX = gam_green_300.generate_X_grid(term=i)\n",
    "    pdep, confi = gam_green_300.partial_dependence(term=i, X=XX, width=0.95)\n",
    "\n",
    "    plt.figure()\n",
    "    plt.plot(XX[:, term.feature], pdep)\n",
    "    plt.hlines(y=0, xmin=0, xmax=1, linewidth=1, color='black', linestyle='--')\n",
    "    plt.plot(XX[:, term.feature], confi, c='r', ls='--')\n",
    "#    plt.ylim(-0.7, 0.7)\n",
    "    # set title, xlabel and ylabel\n",
    "    plt.title('Relative change of greenspace%_300 (mean) \\n on NDVI_300, with GAM')\n",
    "    plt.xlabel('NDVI_300')\n",
    "    plt.ylabel('Greenspace%_300')\n",
    "    # save the figure\n",
    "    plt.savefig('thesis_project/visualizations/modelling/gam_greenspace_300_plot.png', dpi=300, bbox_inches='tight')\n",
    "    plt.show()"
   ]
  },
  {
   "cell_type": "code",
   "execution_count": 59,
   "id": "3daefd81",
   "metadata": {},
   "outputs": [
    {
     "name": "stdout",
     "output_type": "stream",
     "text": [
      "If NDVI goes from 0.25 to 0.35, Greenspace%_300 increases by: 0.13612591366458804\n"
     ]
    }
   ],
   "source": [
    "# Change in low NDVI values: how does Greenspace% increase, if NDVI changes from 0.25 to 0.35?\n",
    "green_l0 = gam_green_300.predict(0.25)\n",
    "green_l1 = gam_green_300.predict(0.35)\n",
    "green_sens_low_300 = float(green_l1 - green_l0)\n",
    "print('If NDVI goes from 0.25 to 0.35, Greenspace%_300 increases by:', green_sens_low_300)"
   ]
  },
  {
   "cell_type": "code",
   "execution_count": 60,
   "id": "99e6dfe8",
   "metadata": {},
   "outputs": [
    {
     "name": "stdout",
     "output_type": "stream",
     "text": [
      "If NDVI goes from 0.45 to 0.55, Greenspace%_300 increases by: 0.17624247464368298\n"
     ]
    }
   ],
   "source": [
    "# Change in mid NDVI values: how does Greenspace% increase, if NDVI changes from 0.45 to 0.55?\n",
    "green_m0 = gam_green_300.predict(0.45)\n",
    "green_m1 = gam_green_300.predict(0.55)\n",
    "green_sens_mid_300 = float(green_m1 - green_m0)\n",
    "print('If NDVI goes from 0.45 to 0.55, Greenspace%_300 increases by:', green_sens_mid_300)"
   ]
  },
  {
   "cell_type": "code",
   "execution_count": 61,
   "id": "8a3b269e",
   "metadata": {},
   "outputs": [
    {
     "name": "stdout",
     "output_type": "stream",
     "text": [
      "If NDVI goes from 0.65 to 0.75, Greenspace%_300 increases by: 0.09916766379399944\n"
     ]
    }
   ],
   "source": [
    "# Change in high NDVI values: how does Greenspace% increase, if NDVI changes from 0.65 to 0.75?\n",
    "green_h0 = gam_green_300.predict(0.65)\n",
    "green_h1 = gam_green_300.predict(0.75)\n",
    "green_sens_hig_300 = float(green_h1 - green_h0)\n",
    "print('If NDVI goes from 0.65 to 0.75, Greenspace%_300 increases by:', green_sens_hig_300)"
   ]
  },
  {
   "cell_type": "markdown",
   "id": "a74e162b",
   "metadata": {},
   "source": [
    "### 2.2. How does NDVI predict Canopy%?"
   ]
  },
  {
   "cell_type": "markdown",
   "id": "c3fb948c",
   "metadata": {},
   "source": [
    "#### 2.2.1. Linear Regression Model"
   ]
  },
  {
   "cell_type": "code",
   "execution_count": 62,
   "id": "c5a97c2a",
   "metadata": {},
   "outputs": [],
   "source": [
    "# NDVI_300 as the predictor\n",
    "df = pd.DataFrame(gdf_300, columns=['NDVI_300'])\n",
    "\n",
    "# Canopy%_300 as the target\n",
    "target = pd.DataFrame(gdf_300, columns=['Canopy%_300'])\n",
    "\n",
    "# define X and y\n",
    "X = df\n",
    "y = target['Canopy%_300']\n",
    "\n",
    "# split independent and dependent variables into training and test data\n",
    "X_train, X_test, y_train, y_test = train_test_split(X, y, test_size=0.2, random_state=0)\n",
    "\n",
    "# fit the linear model\n",
    "lm_300 = linear_model.LinearRegression()\n",
    "model_300 = lm_300.fit(X_train,y_train)"
   ]
  },
  {
   "cell_type": "code",
   "execution_count": 63,
   "id": "a0b35004",
   "metadata": {},
   "outputs": [
    {
     "name": "stdout",
     "output_type": "stream",
     "text": [
      "Coefficient of NDVI_300 (or slope): [0.15997819]\n",
      "Intercept: 0.11107283026524087\n",
      "R-squared: 0.03513975496426869\n"
     ]
    }
   ],
   "source": [
    "# linear model coefficient, intercept, and R-squared \n",
    "print('Coefficient of NDVI_300 (or slope):', model_300.coef_)\n",
    "print('Intercept:', model_300.intercept_)\n",
    "print('R-squared:', model_300.score(X_train,y_train))"
   ]
  },
  {
   "cell_type": "code",
   "execution_count": 64,
   "id": "e7657482",
   "metadata": {},
   "outputs": [],
   "source": [
    "# make predictions\n",
    "y_pred = model_300.predict(X_test)\n",
    "\n",
    "# compare actual values with predicted ones\n",
    "df = pd.DataFrame({'Actual': y_test, 'Predicted': y_pred})\n",
    "\n",
    "# convert X_test to array values (for later use when plotting)\n",
    "X_test = X_test.iloc[:, 0:1].values"
   ]
  },
  {
   "cell_type": "code",
   "execution_count": 65,
   "id": "44ba80ef",
   "metadata": {},
   "outputs": [
    {
     "name": "stdout",
     "output_type": "stream",
     "text": [
      "Mean Absolute Error: 0.10230086415790655\n",
      "Mean Squared Error: 0.01711882689419758\n",
      "Root Mean Squared Error: 0.13083893493221954\n"
     ]
    }
   ],
   "source": [
    "# evaluate the model\n",
    "print('Mean Absolute Error:', metrics.mean_absolute_error(y_test, y_pred))\n",
    "print('Mean Squared Error:', metrics.mean_squared_error(y_test, y_pred))\n",
    "print('Root Mean Squared Error:', np.sqrt(metrics.mean_squared_error(y_test, y_pred)))"
   ]
  },
  {
   "cell_type": "code",
   "execution_count": 66,
   "id": "c40137b7",
   "metadata": {},
   "outputs": [
    {
     "data": {
      "image/png": "[encoded data removed]",
      "text/plain": [
       "<Figure size 432x288 with 1 Axes>"
      ]
     },
     "metadata": {
      "needs_background": "light"
     },
     "output_type": "display_data"
    }
   ],
   "source": [
    "# plot outputs\n",
    "plt.scatter(X_test, y_test, color=\"forestgreen\")\n",
    "plt.plot(X_test, y_pred, color=\"black\", linewidth=2)\n",
    "\n",
    "plt.xticks(np.arange(0, 1.1, step = 0.2))\n",
    "plt.yticks(np.arange(0, 1.1, step = 0.2))\n",
    "\n",
    "# set title, xlabel and ylabel\n",
    "plt.title('Change of canopy%_300 on NDVI_300, with LR')\n",
    "plt.xlabel('NDVI_300')\n",
    "plt.ylabel('Canopy%_300')\n",
    "\n",
    "# save the figure\n",
    "plt.savefig('thesis_project/visualizations/modelling/lr_canopy_300_plot.png', dpi=300, bbox_inches='tight')\n",
    "\n",
    "plt.show()"
   ]
  },
  {
   "cell_type": "markdown",
   "id": "a6eaa0e9",
   "metadata": {},
   "source": [
    "#### 2.2.2. Generalized Additive Model (GAM)"
   ]
  },
  {
   "cell_type": "code",
   "execution_count": 67,
   "id": "c3a322e7",
   "metadata": {},
   "outputs": [
    {
     "name": "stderr",
     "output_type": "stream",
     "text": [
      "100% (11 of 11) |########################| Elapsed Time: 0:00:00 Time:  0:00:00\n"
     ]
    },
    {
     "name": "stdout",
     "output_type": "stream",
     "text": [
      "LinearGAM                                                                                                 \n",
      "=============================================== ==========================================================\n",
      "Distribution:                        NormalDist Effective DoF:                                      5.8639\n",
      "Link Function:                     IdentityLink Log Likelihood:                               -115681.2981\n",
      "Number of Samples:                         4688 AIC:                                           231376.3239\n",
      "                                                AICc:                                           231376.347\n",
      "                                                GCV:                                                 0.018\n",
      "                                                Scale:                                               0.018\n",
      "                                                Pseudo R-Squared:                                   0.0719\n",
      "==========================================================================================================\n",
      "Feature Function                  Lambda               Rank         EDoF         P > x        Sig. Code   \n",
      "================================= ==================== ============ ============ ============ ============\n",
      "s(0)                              [251.1886]           20           5.9          1.11e-16     ***         \n",
      "intercept                                              1            0.0          1.11e-16     ***         \n",
      "==========================================================================================================\n",
      "Significance codes:  0 '***' 0.001 '**' 0.01 '*' 0.05 '.' 0.1 ' ' 1\n",
      "\n",
      "WARNING: Fitting splines and a linear function to a feature introduces a model identifiability problem\n",
      "         which can cause p-values to appear significant when they are not.\n",
      "\n",
      "WARNING: p-values calculated in this manner behave correctly for un-penalized models or models with\n",
      "         known smoothing parameters, but when smoothing parameters have been estimated, the p-values\n",
      "         are typically lower than they should be, meaning that the tests reject the null too readily.\n"
     ]
    },
    {
     "name": "stderr",
     "output_type": "stream",
     "text": [
      "/var/folders/6g/kgz5rml118s6lqw25w5sv5mr0000gn/T/ipykernel_3570/1293149252.py:19: UserWarning: KNOWN BUG: p-values computed in this summary are likely much smaller than they should be. \n",
      " \n",
      "Please do not make inferences based on these values! \n",
      "\n",
      "Collaborate on a solution, and stay up to date at: \n",
      "github.com/dswah/pyGAM/issues/163 \n",
      "\n",
      "  gam_canopy_300.summary()\n"
     ]
    }
   ],
   "source": [
    "# data/predictors as the NDVI_300\n",
    "df_300 = pd.DataFrame(gdf_300, columns=['NDVI_300'])\n",
    "\n",
    "# target as Canopy%_300\n",
    "target_300 = pd.DataFrame(gdf_300, columns=['Canopy%_300'])\n",
    "\n",
    "# define X and Y\n",
    "X = df_300\n",
    "y = target_300['Canopy%_300']\n",
    "\n",
    "# split independent and dependent variables into training and test data\n",
    "X_train, X_test, y_train, y_test = train_test_split(X, y, test_size=0.2, random_state=0)\n",
    "\n",
    "# GAM model\n",
    "warnings.filterwarnings(\"ignore\", category=RuntimeWarning)\n",
    "gam_canopy_300 = LinearGAM(s(0)).fit(X_train, y_train)\n",
    "\n",
    "gam_canopy_300.gridsearch(X_train, y_train)\n",
    "gam_canopy_300.summary()"
   ]
  },
  {
   "cell_type": "code",
   "execution_count": 68,
   "id": "bf29d6a4",
   "metadata": {},
   "outputs": [
    {
     "data": {
      "image/png": "[encoded data removed]",
      "text/plain": [
       "<Figure size 432x288 with 1 Axes>"
      ]
     },
     "metadata": {
      "needs_background": "light"
     },
     "output_type": "display_data"
    }
   ],
   "source": [
    "# plotting\n",
    "for i, term in enumerate(gam_canopy_300.terms):\n",
    "    if term.isintercept:\n",
    "        continue\n",
    "\n",
    "    XX = gam_canopy_300.generate_X_grid(term=i)\n",
    "    pdep, confi = gam_canopy_300.partial_dependence(term=i, X=XX, width=0.95)\n",
    "\n",
    "    plt.figure()\n",
    "    plt.plot(XX[:, term.feature], pdep)\n",
    "    plt.hlines(y=0, xmin=0, xmax=1, linewidth=1, color='black', linestyle='--')\n",
    "    plt.plot(XX[:, term.feature], confi, c='r', ls='--')\n",
    "#    plt.ylim(-0.5, 0.5)\n",
    "    # set title, xlabel and ylabel\n",
    "    plt.title('Relative change of canopy%_300 (mean) \\n on NDVI_300, with GAM')\n",
    "    plt.xlabel('NDVI_300')\n",
    "    plt.ylabel('Canopy%_300')\n",
    "    # save the figure\n",
    "    plt.savefig('thesis_project/visualizations/modelling/gam_canopy_300_plot.png', dpi=300, bbox_inches='tight')\n",
    "    plt.show()"
   ]
  },
  {
   "cell_type": "code",
   "execution_count": 69,
   "id": "28b9e794",
   "metadata": {},
   "outputs": [
    {
     "name": "stdout",
     "output_type": "stream",
     "text": [
      "If NDVI goes from 0.25 to 0.35, Canopy%_300 increases by: 0.03749582470927029\n"
     ]
    }
   ],
   "source": [
    "# Change in low NDVI values: how does Canopy% increase, if NDVI changes from 0.25 to 0.35?\n",
    "canopy_l0 = gam_canopy_300.predict(0.25)\n",
    "canopy_l1 = gam_canopy_300.predict(0.35)\n",
    "canopy_sens_low_300 = float(canopy_l1 - canopy_l0)\n",
    "print('If NDVI goes from 0.25 to 0.35, Canopy%_300 increases by:', canopy_sens_low_300)"
   ]
  },
  {
   "cell_type": "code",
   "execution_count": 70,
   "id": "a670b83a",
   "metadata": {},
   "outputs": [
    {
     "name": "stdout",
     "output_type": "stream",
     "text": [
      "If NDVI goes from 0.45 to 0.55, Canopy%_300 increases by: 0.0320206722478823\n"
     ]
    }
   ],
   "source": [
    "# Change in mid NDVI values: how does Canopy% increase, if NDVI changes from 0.45 to 0.55?\n",
    "canopy_m0 = gam_canopy_300.predict(0.45)\n",
    "canopy_m1 = gam_canopy_300.predict(0.55)\n",
    "canopy_sens_mid_300 = float(canopy_m1 - canopy_m0)\n",
    "print('If NDVI goes from 0.45 to 0.55, Canopy%_300 increases by:', canopy_sens_mid_300)"
   ]
  },
  {
   "cell_type": "code",
   "execution_count": 71,
   "id": "2919b158",
   "metadata": {},
   "outputs": [
    {
     "name": "stdout",
     "output_type": "stream",
     "text": [
      "If NDVI goes from 0.65 to 0.75, Canopy%_300 increases by: 0.0028304599644339012\n"
     ]
    }
   ],
   "source": [
    "# Change in high NDVI values: how does Canopy% increase, if NDVI changes from 0.65 to 0.75?\n",
    "canopy_h0 = gam_canopy_300.predict(0.65)\n",
    "canopy_h1 = gam_canopy_300.predict(0.75)\n",
    "canopy_sens_hig_300 = float(canopy_h1 - canopy_h0)\n",
    "print('If NDVI goes from 0.65 to 0.75, Canopy%_300 increases by:', canopy_sens_hig_300)"
   ]
  },
  {
   "cell_type": "markdown",
   "id": "6d7ecd4a",
   "metadata": {},
   "source": [
    "### 2.3. How does NDVI predict Grass%?"
   ]
  },
  {
   "cell_type": "markdown",
   "id": "4f847326",
   "metadata": {},
   "source": [
    "#### 2.3.1. Linear Regression Model"
   ]
  },
  {
   "cell_type": "code",
   "execution_count": 72,
   "id": "4754fece",
   "metadata": {},
   "outputs": [],
   "source": [
    "# NDVI_300 as the predictor\n",
    "df = pd.DataFrame(gdf_300, columns=['NDVI_300'])\n",
    "\n",
    "# Grass%_300 as the target\n",
    "target = pd.DataFrame(gdf_300, columns=['Grass%_300'])\n",
    "\n",
    "# define X and y\n",
    "X = df\n",
    "y = target['Grass%_300']\n",
    "\n",
    "# split independent and dependent variables into training and test data\n",
    "X_train, X_test, y_train, y_test = train_test_split(X, y, test_size=0.2, random_state=0)\n",
    "\n",
    "# fit the linear model\n",
    "lm_300 = linear_model.LinearRegression()\n",
    "model_300 = lm_300.fit(X_train,y_train)"
   ]
  },
  {
   "cell_type": "code",
   "execution_count": 73,
   "id": "bf79dbe1",
   "metadata": {},
   "outputs": [
    {
     "name": "stdout",
     "output_type": "stream",
     "text": [
      "Coefficient of NDVI_300 (or slope): [0.45450179]\n",
      "Intercept: -0.07967550969307313\n",
      "R-squared: 0.241058477980722\n"
     ]
    }
   ],
   "source": [
    "# linear model coefficient, intercept, and R-squared \n",
    "print('Coefficient of NDVI_300 (or slope):', model_300.coef_)\n",
    "print('Intercept:', model_300.intercept_)\n",
    "print('R-squared:', model_300.score(X_train,y_train))"
   ]
  },
  {
   "cell_type": "code",
   "execution_count": 74,
   "id": "20883065",
   "metadata": {},
   "outputs": [],
   "source": [
    "# make predictions\n",
    "y_pred = model_300.predict(X_test)\n",
    "\n",
    "# compare actual values with predicted ones\n",
    "df = pd.DataFrame({'Actual': y_test, 'Predicted': y_pred})\n",
    "\n",
    "# convert X_test to array values (for later use when plotting)\n",
    "X_test = X_test.iloc[:, 0:1].values"
   ]
  },
  {
   "cell_type": "code",
   "execution_count": 75,
   "id": "618274f0",
   "metadata": {},
   "outputs": [
    {
     "name": "stdout",
     "output_type": "stream",
     "text": [
      "Mean Absolute Error: 0.08870877325098844\n",
      "Mean Squared Error: 0.016032020131952644\n",
      "Root Mean Squared Error: 0.12661761382980113\n"
     ]
    }
   ],
   "source": [
    "# evaluate the model\n",
    "print('Mean Absolute Error:', metrics.mean_absolute_error(y_test, y_pred))\n",
    "print('Mean Squared Error:', metrics.mean_squared_error(y_test, y_pred))\n",
    "print('Root Mean Squared Error:', np.sqrt(metrics.mean_squared_error(y_test, y_pred)))"
   ]
  },
  {
   "cell_type": "code",
   "execution_count": 76,
   "id": "872a4cb8",
   "metadata": {},
   "outputs": [
    {
     "data": {
      "image/png": "[encoded data removed]",
      "text/plain": [
       "<Figure size 432x288 with 1 Axes>"
      ]
     },
     "metadata": {
      "needs_background": "light"
     },
     "output_type": "display_data"
    }
   ],
   "source": [
    "# plot outputs\n",
    "plt.scatter(X_test, y_test, color=\"forestgreen\")\n",
    "plt.plot(X_test, y_pred, color=\"black\", linewidth=2)\n",
    "\n",
    "plt.xticks(np.arange(0, 1.1, step = 0.2))\n",
    "plt.yticks(np.arange(0, 1.1, step = 0.2))\n",
    "\n",
    "# set title, xlabel and ylabel\n",
    "plt.title('Change of grass%_300 on NDVI_300, with LR')\n",
    "plt.xlabel('NDVI_300')\n",
    "plt.ylabel('Grass%_300')\n",
    "\n",
    "# save the figure\n",
    "plt.savefig('thesis_project/visualizations/modelling/lr_grass_300_plot.png', dpi=300, bbox_inches='tight')\n",
    "\n",
    "plt.show()"
   ]
  },
  {
   "cell_type": "markdown",
   "id": "5a1a03ed",
   "metadata": {},
   "source": [
    "#### 2.3.2. Generalized Additive Model (GAM)"
   ]
  },
  {
   "cell_type": "code",
   "execution_count": 77,
   "id": "c440a993",
   "metadata": {},
   "outputs": [
    {
     "name": "stderr",
     "output_type": "stream",
     "text": [
      "100% (11 of 11) |########################| Elapsed Time: 0:00:00 Time:  0:00:00\n"
     ]
    },
    {
     "name": "stdout",
     "output_type": "stream",
     "text": [
      "LinearGAM                                                                                                 \n",
      "=============================================== ==========================================================\n",
      "Distribution:                        NormalDist Effective DoF:                                      7.6321\n",
      "Link Function:                     IdentityLink Log Likelihood:                               -121753.5413\n",
      "Number of Samples:                         4688 AIC:                                           243524.3468\n",
      "                                                AICc:                                          243524.3823\n",
      "                                                GCV:                                                0.0172\n",
      "                                                Scale:                                              0.0171\n",
      "                                                Pseudo R-Squared:                                   0.2482\n",
      "==========================================================================================================\n",
      "Feature Function                  Lambda               Rank         EDoF         P > x        Sig. Code   \n",
      "================================= ==================== ============ ============ ============ ============\n",
      "s(0)                              [63.0957]            20           7.6          1.11e-16     ***         \n",
      "intercept                                              1            0.0          1.11e-16     ***         \n",
      "==========================================================================================================\n",
      "Significance codes:  0 '***' 0.001 '**' 0.01 '*' 0.05 '.' 0.1 ' ' 1\n",
      "\n",
      "WARNING: Fitting splines and a linear function to a feature introduces a model identifiability problem\n",
      "         which can cause p-values to appear significant when they are not.\n",
      "\n",
      "WARNING: p-values calculated in this manner behave correctly for un-penalized models or models with\n",
      "         known smoothing parameters, but when smoothing parameters have been estimated, the p-values\n",
      "         are typically lower than they should be, meaning that the tests reject the null too readily.\n"
     ]
    },
    {
     "name": "stderr",
     "output_type": "stream",
     "text": [
      "/var/folders/6g/kgz5rml118s6lqw25w5sv5mr0000gn/T/ipykernel_3570/3293065087.py:19: UserWarning: KNOWN BUG: p-values computed in this summary are likely much smaller than they should be. \n",
      " \n",
      "Please do not make inferences based on these values! \n",
      "\n",
      "Collaborate on a solution, and stay up to date at: \n",
      "github.com/dswah/pyGAM/issues/163 \n",
      "\n",
      "  gam_grass_300.summary()\n"
     ]
    }
   ],
   "source": [
    "# data/predictors as the NDVI_300\n",
    "df_300 = pd.DataFrame(gdf_300, columns=['NDVI_300'])\n",
    "\n",
    "# target as Grass%_300\n",
    "target_300 = pd.DataFrame(gdf_300, columns=['Grass%_300'])\n",
    "\n",
    "# define X and Y\n",
    "X = df_300\n",
    "y = target_300['Grass%_300']\n",
    "\n",
    "# split independent and dependent variables into training and test data\n",
    "X_train, X_test, y_train, y_test = train_test_split(X, y, test_size=0.2, random_state=0)\n",
    "\n",
    "# GAM model\n",
    "warnings.filterwarnings(\"ignore\", category=RuntimeWarning)\n",
    "gam_grass_300 = LinearGAM(s(0)).fit(X_train, y_train)\n",
    "\n",
    "gam_grass_300.gridsearch(X_train, y_train)\n",
    "gam_grass_300.summary()"
   ]
  },
  {
   "cell_type": "code",
   "execution_count": 78,
   "id": "008d6fd7",
   "metadata": {},
   "outputs": [
    {
     "data": {
      "image/png": "[encoded data removed]",
      "text/plain": [
       "<Figure size 432x288 with 1 Axes>"
      ]
     },
     "metadata": {
      "needs_background": "light"
     },
     "output_type": "display_data"
    }
   ],
   "source": [
    "# plotting\n",
    "for i, term in enumerate(gam_grass_300.terms):\n",
    "    if term.isintercept:\n",
    "        continue\n",
    "\n",
    "    XX = gam_grass_300.generate_X_grid(term=i)\n",
    "    pdep, confi = gam_grass_300.partial_dependence(term=i, X=XX, width=0.95)\n",
    "\n",
    "    plt.figure()\n",
    "    plt.plot(XX[:, term.feature], pdep)\n",
    "    plt.hlines(y=0, xmin=0, xmax=1, linewidth=1, color='black', linestyle='--')\n",
    "    plt.plot(XX[:, term.feature], confi, c='r', ls='--')\n",
    "#    plt.ylim(-0.5, 0.5)\n",
    "    # set title, xlabel and ylabel\n",
    "    plt.title('Relative change of grass%_300 (mean) \\n on NDVI_300, with GAM')\n",
    "    plt.xlabel('NDVI_300')\n",
    "    plt.ylabel('Grass%_300')\n",
    "    # save the figure\n",
    "    plt.savefig('thesis_project/visualizations/modelling/gam_grass_300_plot.png', dpi=300, bbox_inches='tight')\n",
    "    plt.show()"
   ]
  },
  {
   "cell_type": "code",
   "execution_count": 79,
   "id": "2fdc55ec",
   "metadata": {},
   "outputs": [
    {
     "name": "stdout",
     "output_type": "stream",
     "text": [
      "If NDVI goes from 0.25 to 0.35, Grass%_300 increases by: 0.034178745396636304\n"
     ]
    }
   ],
   "source": [
    "# Change in low NDVI values: how does Grass% increase, if NDVI changes from 0.25 to 0.35?\n",
    "grass_l0 = gam_grass_300.predict(0.25)\n",
    "grass_l1 = gam_grass_300.predict(0.35)\n",
    "grass_sens_low_300 = float(grass_l1 - grass_l0)\n",
    "print('If NDVI goes from 0.25 to 0.35, Grass%_300 increases by:', grass_sens_low_300)"
   ]
  },
  {
   "cell_type": "code",
   "execution_count": 80,
   "id": "6da7b121",
   "metadata": {},
   "outputs": [
    {
     "name": "stdout",
     "output_type": "stream",
     "text": [
      "If NDVI goes from 0.45 to 0.55, Grass%_300 increases by: 0.04354067562250222\n"
     ]
    }
   ],
   "source": [
    "# Change in mid NDVI values: how does Grass% increase, if NDVI changes from 0.45 to 0.55?\n",
    "grass_m0 = gam_grass_300.predict(0.45)\n",
    "grass_m1 = gam_grass_300.predict(0.55)\n",
    "grass_sens_mid_300 = float(grass_m1 - grass_m0)\n",
    "print('If NDVI goes from 0.45 to 0.55, Grass%_300 increases by:', grass_sens_mid_300)"
   ]
  },
  {
   "cell_type": "code",
   "execution_count": 81,
   "id": "dba30d14",
   "metadata": {},
   "outputs": [
    {
     "name": "stdout",
     "output_type": "stream",
     "text": [
      "If NDVI goes from 0.65 to 0.75, Grass%_300 increases by: 0.041811506570193946\n"
     ]
    }
   ],
   "source": [
    "# Change in hig NDVI values: how does Grass% increase, if NDVI changes from 0.65 to 0.75?\n",
    "grass_h0 = gam_grass_300.predict(0.65)\n",
    "grass_h1 = gam_grass_300.predict(0.75)\n",
    "grass_sens_hig_300 = float(grass_h1 - grass_h0)\n",
    "print('If NDVI goes from 0.65 to 0.75, Grass%_300 increases by:', grass_sens_hig_300)"
   ]
  },
  {
   "cell_type": "markdown",
   "id": "ff399261",
   "metadata": {},
   "source": [
    "### 2.4. How does NDVI predict Shrubs%?"
   ]
  },
  {
   "cell_type": "markdown",
   "id": "9a222cfe",
   "metadata": {},
   "source": [
    "#### 2.4.1. Linear Regression Model"
   ]
  },
  {
   "cell_type": "code",
   "execution_count": 82,
   "id": "a58f7093",
   "metadata": {},
   "outputs": [],
   "source": [
    "# data/predictors as the NDVI_300\n",
    "df_300 = pd.DataFrame(gdf_300, columns=['NDVI_300'])\n",
    "\n",
    "# target as Shrubs%_300\n",
    "target_300 = pd.DataFrame(gdf_300, columns=['Shrubs%_300'])\n",
    "\n",
    "# define X and y\n",
    "X = df_300\n",
    "y = target_300['Shrubs%_300']\n",
    "\n",
    "# split independent and dependent variables into training and test data\n",
    "X_train, X_test, y_train, y_test = train_test_split(X, y, test_size=0.2, random_state=0)\n",
    "\n",
    "# fit the linear model\n",
    "lm_300 = linear_model.LinearRegression()\n",
    "model_300 = lm_300.fit(X_train,y_train)"
   ]
  },
  {
   "cell_type": "code",
   "execution_count": 83,
   "id": "a21d44b8",
   "metadata": {},
   "outputs": [
    {
     "name": "stdout",
     "output_type": "stream",
     "text": [
      "Coefficient of NDVI_300 (or slope): [0.62761968]\n",
      "Intercept: -0.054643220531015835\n",
      "R-squared: 0.1814034275877089\n"
     ]
    }
   ],
   "source": [
    "# linear model coefficient, intercept, and R-squared \n",
    "print('Coefficient of NDVI_300 (or slope):', model_300.coef_)\n",
    "print('Intercept:', model_300.intercept_)\n",
    "print('R-squared:', model_300.score(X_train,y_train))"
   ]
  },
  {
   "cell_type": "code",
   "execution_count": 84,
   "id": "581b688c",
   "metadata": {},
   "outputs": [],
   "source": [
    "# make predictions\n",
    "y_pred = model_300.predict(X_test)\n",
    "\n",
    "# compare actual values with predicted ones\n",
    "df_pred = pd.DataFrame({'Actual': y_test, 'Predicted': y_pred})\n",
    "\n",
    "# convert X_test to array values\n",
    "X_test = X_test.iloc[:, 0:1].values"
   ]
  },
  {
   "cell_type": "code",
   "execution_count": 85,
   "id": "ddef903e",
   "metadata": {},
   "outputs": [
    {
     "name": "stdout",
     "output_type": "stream",
     "text": [
      "Mean Absolute Error: 0.15208555808253804\n",
      "Mean Squared Error: 0.045524215164118156\n",
      "Root Mean Squared Error: 0.2133640437471088\n"
     ]
    }
   ],
   "source": [
    "# evaluate the model\n",
    "print('Mean Absolute Error:', metrics.mean_absolute_error(y_test, y_pred))\n",
    "print('Mean Squared Error:', metrics.mean_squared_error(y_test, y_pred))\n",
    "print('Root Mean Squared Error:', np.sqrt(metrics.mean_squared_error(y_test, y_pred)))"
   ]
  },
  {
   "cell_type": "code",
   "execution_count": 86,
   "id": "a57e0494",
   "metadata": {},
   "outputs": [
    {
     "data": {
      "image/png": "[encoded data removed]",
      "text/plain": [
       "<Figure size 432x288 with 1 Axes>"
      ]
     },
     "metadata": {
      "needs_background": "light"
     },
     "output_type": "display_data"
    }
   ],
   "source": [
    "# plot outputs\n",
    "plt.scatter(X_test, y_test, color=\"forestgreen\")\n",
    "plt.plot(X_test, y_pred, color=\"black\", linewidth=2)\n",
    "\n",
    "plt.xticks(np.arange(0, 1.1, step = 0.2))\n",
    "plt.yticks(np.arange(0, 1.1, step = 0.2))\n",
    "\n",
    "# set title, xlabel and ylabel\n",
    "plt.title('Change of shrubs%_300 on NDVI_300, with LR')\n",
    "plt.xlabel('NDVI_300')\n",
    "plt.ylabel('Shrubs%_300')\n",
    "\n",
    "# save the figure\n",
    "plt.savefig('thesis_project/visualizations/modelling/lr_shrubs_300_plot.png', dpi=300, bbox_inches='tight')\n",
    "\n",
    "plt.show()"
   ]
  },
  {
   "cell_type": "markdown",
   "id": "9cf9f4ba",
   "metadata": {},
   "source": [
    "#### 2.4.2. Generalized Additive Model (GAM)"
   ]
  },
  {
   "cell_type": "code",
   "execution_count": 87,
   "id": "d80293ce",
   "metadata": {},
   "outputs": [
    {
     "name": "stderr",
     "output_type": "stream",
     "text": [
      "100% (11 of 11) |########################| Elapsed Time: 0:00:00 Time:  0:00:00\n"
     ]
    },
    {
     "name": "stdout",
     "output_type": "stream",
     "text": [
      "LinearGAM                                                                                                 \n",
      "=============================================== ==========================================================\n",
      "Distribution:                        NormalDist Effective DoF:                                      9.7893\n",
      "Link Function:                     IdentityLink Log Likelihood:                                 -40026.441\n",
      "Number of Samples:                         4688 AIC:                                            80074.4606\n",
      "                                                AICc:                                            80074.515\n",
      "                                                GCV:                                                0.0469\n",
      "                                                Scale:                                              0.0467\n",
      "                                                Pseudo R-Squared:                                    0.192\n",
      "==========================================================================================================\n",
      "Feature Function                  Lambda               Rank         EDoF         P > x        Sig. Code   \n",
      "================================= ==================== ============ ============ ============ ============\n",
      "s(0)                              [15.8489]            20           9.8          1.11e-16     ***         \n",
      "intercept                                              1            0.0          1.11e-16     ***         \n",
      "==========================================================================================================\n",
      "Significance codes:  0 '***' 0.001 '**' 0.01 '*' 0.05 '.' 0.1 ' ' 1\n",
      "\n",
      "WARNING: Fitting splines and a linear function to a feature introduces a model identifiability problem\n",
      "         which can cause p-values to appear significant when they are not.\n",
      "\n",
      "WARNING: p-values calculated in this manner behave correctly for un-penalized models or models with\n",
      "         known smoothing parameters, but when smoothing parameters have been estimated, the p-values\n",
      "         are typically lower than they should be, meaning that the tests reject the null too readily.\n"
     ]
    },
    {
     "name": "stderr",
     "output_type": "stream",
     "text": [
      "/var/folders/6g/kgz5rml118s6lqw25w5sv5mr0000gn/T/ipykernel_3570/1454074008.py:19: UserWarning: KNOWN BUG: p-values computed in this summary are likely much smaller than they should be. \n",
      " \n",
      "Please do not make inferences based on these values! \n",
      "\n",
      "Collaborate on a solution, and stay up to date at: \n",
      "github.com/dswah/pyGAM/issues/163 \n",
      "\n",
      "  gam_shrubs_300.summary()\n"
     ]
    }
   ],
   "source": [
    "# data/predictors as the NDVI_300\n",
    "df_300 = pd.DataFrame(gdf_300, columns=['NDVI_300'])\n",
    "\n",
    "# target as Shrubs%_300\n",
    "target_300 = pd.DataFrame(gdf_300, columns=['Shrubs%_300'])\n",
    "\n",
    "# define X and y\n",
    "X = df_300\n",
    "y = target_300['Shrubs%_300']\n",
    "\n",
    "# split independent and dependent variables into training and test data\n",
    "X_train, X_test, y_train, y_test = train_test_split(X, y, test_size=0.2, random_state=0)\n",
    "\n",
    "# GAM model\n",
    "warnings.filterwarnings(\"ignore\", category=RuntimeWarning)\n",
    "gam_shrubs_300 = LinearGAM(s(0)).fit(X_train, y_train)\n",
    "\n",
    "gam_shrubs_300.gridsearch(X_train, y_train)\n",
    "gam_shrubs_300.summary()"
   ]
  },
  {
   "cell_type": "code",
   "execution_count": 88,
   "id": "24f67f04",
   "metadata": {},
   "outputs": [
    {
     "data": {
      "image/png": "[encoded data removed]",
      "text/plain": [
       "<Figure size 432x288 with 1 Axes>"
      ]
     },
     "metadata": {
      "needs_background": "light"
     },
     "output_type": "display_data"
    }
   ],
   "source": [
    "# plotting\n",
    "for i, term in enumerate(gam_shrubs_300.terms):\n",
    "    if term.isintercept:\n",
    "        continue\n",
    "\n",
    "    XX = gam_shrubs_300.generate_X_grid(term=i)\n",
    "    pdep, confi = gam_shrubs_300.partial_dependence(term=i, X=XX, width=0.95)\n",
    "\n",
    "    plt.figure()\n",
    "    plt.plot(XX[:, term.feature], pdep)\n",
    "    plt.hlines(y=0, xmin=0, xmax=1, linewidth=1, color='black', linestyle='--')\n",
    "    plt.plot(XX[:, term.feature], confi, c='r', ls='--')\n",
    " #   plt.ylim(-0.5, 0.5)\n",
    "    # set title, xlabel and ylabel\n",
    "    plt.title('Relative change of shrubs%_300 (mean) \\n on NDVI_300, with GAM')\n",
    "    plt.xlabel('NDVI_300')\n",
    "    plt.ylabel('Shrubs%_300')\n",
    "    # save the figure\n",
    "    plt.savefig('thesis_project/visualizations/modelling/gam_shrubs_300_plot.png', dpi=300, bbox_inches='tight')\n",
    "    plt.show()"
   ]
  },
  {
   "cell_type": "code",
   "execution_count": 89,
   "id": "86816a81",
   "metadata": {},
   "outputs": [
    {
     "name": "stdout",
     "output_type": "stream",
     "text": [
      "If NDVI goes from 0.25 to 0.35, shrubs%_300 increases by: 0.07724895435371407\n"
     ]
    }
   ],
   "source": [
    "# Change in low NDVI values: how does shrubs% increase, if NDVI changes from 0.25 to 0.35?\n",
    "shrubs_l0 = gam_shrubs_300.predict(0.25)\n",
    "shrubs_l1 = gam_shrubs_300.predict(0.35)\n",
    "shrubs_sens_low_300 = float(shrubs_l1 - shrubs_l0)\n",
    "print('If NDVI goes from 0.25 to 0.35, shrubs%_300 increases by:', shrubs_sens_low_300)"
   ]
  },
  {
   "cell_type": "code",
   "execution_count": 90,
   "id": "3262dbe0",
   "metadata": {},
   "outputs": [
    {
     "name": "stdout",
     "output_type": "stream",
     "text": [
      "If NDVI goes from 0.45 to 0.55, shrubs%_300 increases by: 0.12214665619742704\n"
     ]
    }
   ],
   "source": [
    "# Change in mid NDVI values: how does shrubs% increase, if NDVI changes from 0.45 to 0.55?\n",
    "shrubs_m0 = gam_shrubs_300.predict(0.45)\n",
    "shrubs_m1 = gam_shrubs_300.predict(0.55)\n",
    "shrubs_sens_mid_300 = float(shrubs_m1 - shrubs_m0)\n",
    "print('If NDVI goes from 0.45 to 0.55, shrubs%_300 increases by:', shrubs_sens_mid_300)"
   ]
  },
  {
   "cell_type": "code",
   "execution_count": 91,
   "id": "cd32ccb2",
   "metadata": {},
   "outputs": [
    {
     "name": "stdout",
     "output_type": "stream",
     "text": [
      "If NDVI goes from 0.65 to 0.75, shrubs%_300 increases by: 0.0676309094497004\n"
     ]
    }
   ],
   "source": [
    "# Change in high NDVI values: how does shrubs% increase, if NDVI changes from 0.65 to 0.75?\n",
    "shrubs_h0 = gam_shrubs_300.predict(0.65)\n",
    "shrubs_h1 = gam_shrubs_300.predict(0.75)\n",
    "shrubs_sens_hig_300 = float(shrubs_h1 - shrubs_h0)\n",
    "print('If NDVI goes from 0.65 to 0.75, shrubs%_300 increases by:', shrubs_sens_hig_300)"
   ]
  },
  {
   "cell_type": "markdown",
   "id": "4ca604b4",
   "metadata": {},
   "source": [
    "### 2.5. How do Grass%, Canopy%, and Shrubs% predict NDVI?"
   ]
  },
  {
   "cell_type": "code",
   "execution_count": 92,
   "id": "813c5888",
   "metadata": {
    "scrolled": true
   },
   "outputs": [
    {
     "name": "stderr",
     "output_type": "stream",
     "text": [
      "100% (125 of 125) |######################| Elapsed Time: 0:00:08 Time:  0:00:08\n"
     ]
    },
    {
     "name": "stdout",
     "output_type": "stream",
     "text": [
      "LinearGAM                                                                                                 \n",
      "=============================================== ==========================================================\n",
      "Distribution:                        NormalDist Effective DoF:                                     38.1212\n",
      "Link Function:                     IdentityLink Log Likelihood:                               -410206.2272\n",
      "Number of Samples:                         4688 AIC:                                           820490.6967\n",
      "                                                AICc:                                          820491.3721\n",
      "                                                GCV:                                                0.0055\n",
      "                                                Scale:                                              0.0054\n",
      "                                                Pseudo R-Squared:                                   0.7983\n",
      "==========================================================================================================\n",
      "Feature Function                  Lambda               Rank         EDoF         P > x        Sig. Code   \n",
      "================================= ==================== ============ ============ ============ ============\n",
      "s(0)                              [10.]                20           10.3         1.11e-16     ***         \n",
      "s(1)                              [0.001]              20           17.7         1.11e-16     ***         \n",
      "s(2)                              [10.]                20           10.1         1.11e-16     ***         \n",
      "intercept                                              1            0.0          1.11e-16     ***         \n",
      "==========================================================================================================\n",
      "Significance codes:  0 '***' 0.001 '**' 0.01 '*' 0.05 '.' 0.1 ' ' 1\n",
      "\n",
      "WARNING: Fitting splines and a linear function to a feature introduces a model identifiability problem\n",
      "         which can cause p-values to appear significant when they are not.\n",
      "\n",
      "WARNING: p-values calculated in this manner behave correctly for un-penalized models or models with\n",
      "         known smoothing parameters, but when smoothing parameters have been estimated, the p-values\n",
      "         are typically lower than they should be, meaning that the tests reject the null too readily.\n"
     ]
    },
    {
     "name": "stderr",
     "output_type": "stream",
     "text": [
      "/var/folders/6g/kgz5rml118s6lqw25w5sv5mr0000gn/T/ipykernel_3570/863347675.py:25: UserWarning: KNOWN BUG: p-values computed in this summary are likely much smaller than they should be. \n",
      " \n",
      "Please do not make inferences based on these values! \n",
      "\n",
      "Collaborate on a solution, and stay up to date at: \n",
      "github.com/dswah/pyGAM/issues/163 \n",
      "\n",
      "  gam_ndvi_300.summary()\n"
     ]
    }
   ],
   "source": [
    "# data/predictors as Grass%, Canopy%, and Shrubs%\n",
    "cols = ['Grass%_300', 'Canopy%_300', 'Shrubs%_300']\n",
    "df = pd.DataFrame(gdf_300, columns=cols)\n",
    "\n",
    "# target as NDVI_300\n",
    "target = pd.DataFrame(gdf_300, columns=['NDVI_300'])\n",
    "\n",
    "# define X and Y\n",
    "X = df\n",
    "y = target['NDVI_300']\n",
    "#X = df.iloc[:, 0:3].values\n",
    "\n",
    "# split independent and dependent variables into training and test data\n",
    "X_train, X_test, y_train, y_test = train_test_split(X, y, test_size=0.2, random_state=0)\n",
    "\n",
    "# GAM model candidate 1\n",
    "warnings.filterwarnings(\"ignore\", category=RuntimeWarning)\n",
    "gam_ndvi_300 = LinearGAM(s(0) + s(1) + s(2)).fit(X_train, y_train)\n",
    "\n",
    "# using gridsearch to tune the lambdas indvidually\n",
    "lam = np.logspace(-3, 5, 5)\n",
    "lams = [lam] * 3\n",
    "\n",
    "gam_ndvi_300.gridsearch(X_train, y_train, lam=lams)\n",
    "gam_ndvi_300.summary()"
   ]
  },
  {
   "cell_type": "code",
   "execution_count": 93,
   "id": "d2c6b628",
   "metadata": {},
   "outputs": [
    {
     "data": {
      "text/plain": [
       "<Figure size 432x288 with 0 Axes>"
      ]
     },
     "metadata": {},
     "output_type": "display_data"
    },
    {
     "data": {
      "image/png": "[encoded data removed]",
      "text/plain": [
       "<Figure size 864x288 with 3 Axes>"
      ]
     },
     "metadata": {
      "needs_background": "light"
     },
     "output_type": "display_data"
    }
   ],
   "source": [
    "## plotting\n",
    "plt.figure();\n",
    "fig, axs = plt.subplots(1,3, figsize=(12,4));\n",
    "\n",
    "titles = ['Grass%_300', 'Canopy%_300', 'Shrubs%_300']\n",
    "for i, ax in enumerate(axs):\n",
    "    XX = gam_ndvi_300.generate_X_grid(term=i)\n",
    "    ax.plot(XX[:, i], gam_ndvi_300.partial_dependence(term=i, X=XX))\n",
    "    ax.plot(XX[:, i], gam_ndvi_300.partial_dependence(term=i, X=XX, width=.95)[1], c='r', ls='--')\n",
    "    ax.set_ylim(-0.5, 0.5)\n",
    "    ax.set_xticks(list(ax.get_xticks()))\n",
    "    ax.hlines(y=0, xmin=0, xmax=1, linewidth=1, color='black', linestyle='--')\n",
    "    ax.set_ylabel('Relative change of NDVI_300 (mean)', fontsize=12)\n",
    "    ax.set_title(titles[i], fontsize=12);\n",
    "    \n",
    "# non-overlapping subplots\n",
    "plt.tight_layout()\n",
    "    \n",
    "# save the figure\n",
    "plt.savefig('thesis_project/visualizations/modelling/gam_ndvi_300_plot.png', dpi=300, bbox_inches='tight')\n",
    "\n",
    "plt.show()"
   ]
  },
  {
   "cell_type": "markdown",
   "id": "d3e319e6",
   "metadata": {},
   "source": [
    "## 3. Modelling greenspace metrics at 500m"
   ]
  },
  {
   "cell_type": "code",
   "execution_count": 94,
   "id": "056870cd",
   "metadata": {},
   "outputs": [
    {
     "data": {
      "text/html": [
       "<div>\n",
       "<style scoped>\n",
       "    .dataframe tbody tr th:only-of-type {\n",
       "        vertical-align: middle;\n",
       "    }\n",
       "\n",
       "    .dataframe tbody tr th {\n",
       "        vertical-align: top;\n",
       "    }\n",
       "\n",
       "    .dataframe thead th {\n",
       "        text-align: right;\n",
       "    }\n",
       "</style>\n",
       "<table border=\"1\" class=\"dataframe\">\n",
       "  <thead>\n",
       "    <tr style=\"text-align: right;\">\n",
       "      <th></th>\n",
       "      <th>NDVI_500</th>\n",
       "      <th>Greenspace%_500</th>\n",
       "      <th>Canopy%_500</th>\n",
       "      <th>Grass%_500</th>\n",
       "      <th>Shrubs%_500</th>\n",
       "      <th>geometry</th>\n",
       "    </tr>\n",
       "  </thead>\n",
       "  <tbody>\n",
       "    <tr>\n",
       "      <th>0</th>\n",
       "      <td>0.616906</td>\n",
       "      <td>0.714233</td>\n",
       "      <td>0.509538</td>\n",
       "      <td>0.305474</td>\n",
       "      <td>0.177276</td>\n",
       "      <td>POINT (377098.736 391409.893)</td>\n",
       "    </tr>\n",
       "    <tr>\n",
       "      <th>1</th>\n",
       "      <td>0.535196</td>\n",
       "      <td>0.518279</td>\n",
       "      <td>0.272543</td>\n",
       "      <td>0.170375</td>\n",
       "      <td>0.244285</td>\n",
       "      <td>POINT (388776.738 395338.550)</td>\n",
       "    </tr>\n",
       "    <tr>\n",
       "      <th>2</th>\n",
       "      <td>0.625744</td>\n",
       "      <td>0.665035</td>\n",
       "      <td>0.458237</td>\n",
       "      <td>0.265076</td>\n",
       "      <td>0.194620</td>\n",
       "      <td>POINT (385102.497 389586.914)</td>\n",
       "    </tr>\n",
       "    <tr>\n",
       "      <th>3</th>\n",
       "      <td>0.869751</td>\n",
       "      <td>0.959438</td>\n",
       "      <td>0.194798</td>\n",
       "      <td>0.637881</td>\n",
       "      <td>0.401261</td>\n",
       "      <td>POINT (358860.328 409008.505)</td>\n",
       "    </tr>\n",
       "    <tr>\n",
       "      <th>4</th>\n",
       "      <td>0.855770</td>\n",
       "      <td>0.984456</td>\n",
       "      <td>0.180780</td>\n",
       "      <td>0.170082</td>\n",
       "      <td>0.213244</td>\n",
       "      <td>POINT (369877.609 414278.479)</td>\n",
       "    </tr>\n",
       "  </tbody>\n",
       "</table>\n",
       "</div>"
      ],
      "text/plain": [
       "   NDVI_500  Greenspace%_500  Canopy%_500  Grass%_500  Shrubs%_500  \\\n",
       "0  0.616906         0.714233     0.509538    0.305474     0.177276   \n",
       "1  0.535196         0.518279     0.272543    0.170375     0.244285   \n",
       "2  0.625744         0.665035     0.458237    0.265076     0.194620   \n",
       "3  0.869751         0.959438     0.194798    0.637881     0.401261   \n",
       "4  0.855770         0.984456     0.180780    0.170082     0.213244   \n",
       "\n",
       "                        geometry  \n",
       "0  POINT (377098.736 391409.893)  \n",
       "1  POINT (388776.738 395338.550)  \n",
       "2  POINT (385102.497 389586.914)  \n",
       "3  POINT (358860.328 409008.505)  \n",
       "4  POINT (369877.609 414278.479)  "
      ]
     },
     "execution_count": 94,
     "metadata": {},
     "output_type": "execute_result"
    }
   ],
   "source": [
    "# load greenspace metrics at 500m geodataframe\n",
    "gdf_500 = gpd.read_file(\"thesis_project/output/dataframes/greenspace_metrics_500_df.json\")\n",
    "gdf_500.head()"
   ]
  },
  {
   "cell_type": "markdown",
   "id": "71ee4c9c",
   "metadata": {},
   "source": [
    "### 3.1. How does NDVI predict Greenspace%?"
   ]
  },
  {
   "cell_type": "markdown",
   "id": "75021aa9",
   "metadata": {},
   "source": [
    "#### 3.1.1. Linear Regression Model"
   ]
  },
  {
   "cell_type": "code",
   "execution_count": 95,
   "id": "150814b6",
   "metadata": {},
   "outputs": [],
   "source": [
    "# NDVI_500 as the predictor\n",
    "df = pd.DataFrame(gdf_500, columns=['NDVI_500'])\n",
    "\n",
    "# Greenspace%_300 as the target\n",
    "target = pd.DataFrame(gdf_500, columns=['Greenspace%_500'])\n",
    "\n",
    "# define X and y\n",
    "X = df\n",
    "y = target['Greenspace%_500']\n",
    "\n",
    "# split independent and dependent variables into training and test data\n",
    "X_train, X_test, y_train, y_test = train_test_split(X, y, test_size=0.2, random_state=0)\n",
    "\n",
    "# fit the linear model\n",
    "lm_500 = linear_model.LinearRegression()\n",
    "model_500 = lm_500.fit(X_train,y_train)"
   ]
  },
  {
   "cell_type": "code",
   "execution_count": 96,
   "id": "394b96ed",
   "metadata": {},
   "outputs": [
    {
     "name": "stdout",
     "output_type": "stream",
     "text": [
      "Coefficient of NDVI_500 (or slope): [1.06157709]\n",
      "Intercept: 0.027196195196588335\n",
      "R-squared: 0.6671389526803173\n"
     ]
    }
   ],
   "source": [
    "# linear model coefficient, intercept, and R-squared \n",
    "print('Coefficient of NDVI_500 (or slope):', model_500.coef_)\n",
    "print('Intercept:', model_500.intercept_)\n",
    "print('R-squared:', model_500.score(X_train,y_train))"
   ]
  },
  {
   "cell_type": "code",
   "execution_count": 97,
   "id": "82c988fa",
   "metadata": {},
   "outputs": [],
   "source": [
    "# make predictions\n",
    "y_pred = model_500.predict(X_test)\n",
    "\n",
    "# compare actual values with predicted ones\n",
    "df = pd.DataFrame({'Actual': y_test, 'Predicted': y_pred})\n",
    "\n",
    "# convert X_test to array values (for later use when plotting)\n",
    "X_test = X_test.iloc[:, 0:1].values"
   ]
  },
  {
   "cell_type": "code",
   "execution_count": 98,
   "id": "09cc3d6f",
   "metadata": {},
   "outputs": [
    {
     "name": "stdout",
     "output_type": "stream",
     "text": [
      "Mean Absolute Error: 0.08481598514536061\n",
      "Mean Squared Error: 0.014419213853796974\n",
      "Root Mean Squared Error: 0.12008003103679218\n"
     ]
    }
   ],
   "source": [
    "# evaluate the model\n",
    "print('Mean Absolute Error:', metrics.mean_absolute_error(y_test, y_pred))\n",
    "print('Mean Squared Error:', metrics.mean_squared_error(y_test, y_pred))\n",
    "print('Root Mean Squared Error:', np.sqrt(metrics.mean_squared_error(y_test, y_pred)))"
   ]
  },
  {
   "cell_type": "code",
   "execution_count": 99,
   "id": "64faab7a",
   "metadata": {},
   "outputs": [
    {
     "data": {
      "image/png": "[encoded data removed]",
      "text/plain": [
       "<Figure size 432x288 with 1 Axes>"
      ]
     },
     "metadata": {
      "needs_background": "light"
     },
     "output_type": "display_data"
    }
   ],
   "source": [
    "# plot outputs\n",
    "plt.scatter(X_test, y_test, color=\"forestgreen\")\n",
    "plt.plot(X_test, y_pred, color=\"black\", linewidth=2)\n",
    "\n",
    "plt.xticks(np.arange(0, 1.1, step = 0.2))\n",
    "plt.yticks(np.arange(0, 1.1, step = 0.2))\n",
    "\n",
    "# set title, xlabel and ylabel\n",
    "plt.title('Change of greenspace%_500 on NDVI_500, with LR')\n",
    "plt.xlabel('NDVI_500')\n",
    "plt.ylabel('Greenspace%_500')\n",
    "\n",
    "# save the figure\n",
    "plt.savefig('thesis_project/visualizations/modelling/lr_greenspace_500_plot.png', dpi=300, bbox_inches='tight')\n",
    "\n",
    "plt.show()"
   ]
  },
  {
   "cell_type": "code",
   "execution_count": 100,
   "id": "86636488",
   "metadata": {},
   "outputs": [
    {
     "name": "stdout",
     "output_type": "stream",
     "text": [
      "If NDVI goes from 0.3 to 0.4, Greenspace%_100 increases by: [0.10615771]\n"
     ]
    },
    {
     "name": "stderr",
     "output_type": "stream",
     "text": [
      "/Applications/anaconda3/envs/ssml/lib/python3.9/site-packages/sklearn/base.py:450: UserWarning: X does not have valid feature names, but LinearRegression was fitted with feature names\n",
      "  warnings.warn(\n",
      "/Applications/anaconda3/envs/ssml/lib/python3.9/site-packages/sklearn/base.py:450: UserWarning: X does not have valid feature names, but LinearRegression was fitted with feature names\n",
      "  warnings.warn(\n"
     ]
    }
   ],
   "source": [
    "# Change in NDVI values: how does Greenspace% increase, if NDVI changes from 0.3 to 0.4?\n",
    "green0 = model_500.predict([[0.3]])\n",
    "green1 = model_500.predict([[0.4]])\n",
    "print('If NDVI goes from 0.3 to 0.4, Greenspace%_100 increases by:', green1 - green0)"
   ]
  },
  {
   "cell_type": "markdown",
   "id": "fe1f4557",
   "metadata": {},
   "source": [
    "#### 3.1.2. Generalized Additive Model (GAM)"
   ]
  },
  {
   "cell_type": "code",
   "execution_count": 101,
   "id": "ec9e14a5",
   "metadata": {},
   "outputs": [
    {
     "name": "stderr",
     "output_type": "stream",
     "text": [
      "100% (11 of 11) |########################| Elapsed Time: 0:00:00 Time:  0:00:00\n"
     ]
    },
    {
     "name": "stdout",
     "output_type": "stream",
     "text": [
      "LinearGAM                                                                                                 \n",
      "=============================================== ==========================================================\n",
      "Distribution:                        NormalDist Effective DoF:                                      8.7962\n",
      "Link Function:                     IdentityLink Log Likelihood:                                -65532.5424\n",
      "Number of Samples:                         2318 AIC:                                           131084.6772\n",
      "                                                AICc:                                          131084.7688\n",
      "                                                GCV:                                                0.0159\n",
      "                                                Scale:                                              0.0158\n",
      "                                                Pseudo R-Squared:                                    0.688\n",
      "==========================================================================================================\n",
      "Feature Function                  Lambda               Rank         EDoF         P > x        Sig. Code   \n",
      "================================= ==================== ============ ============ ============ ============\n",
      "s(0)                              [15.8489]            20           8.8          1.11e-16     ***         \n",
      "intercept                                              1            0.0          1.11e-16     ***         \n",
      "==========================================================================================================\n",
      "Significance codes:  0 '***' 0.001 '**' 0.01 '*' 0.05 '.' 0.1 ' ' 1\n",
      "\n",
      "WARNING: Fitting splines and a linear function to a feature introduces a model identifiability problem\n",
      "         which can cause p-values to appear significant when they are not.\n",
      "\n",
      "WARNING: p-values calculated in this manner behave correctly for un-penalized models or models with\n",
      "         known smoothing parameters, but when smoothing parameters have been estimated, the p-values\n",
      "         are typically lower than they should be, meaning that the tests reject the null too readily.\n"
     ]
    },
    {
     "name": "stderr",
     "output_type": "stream",
     "text": [
      "/var/folders/6g/kgz5rml118s6lqw25w5sv5mr0000gn/T/ipykernel_3570/4139878652.py:19: UserWarning: KNOWN BUG: p-values computed in this summary are likely much smaller than they should be. \n",
      " \n",
      "Please do not make inferences based on these values! \n",
      "\n",
      "Collaborate on a solution, and stay up to date at: \n",
      "github.com/dswah/pyGAM/issues/163 \n",
      "\n",
      "  gam_greenspace_500.summary()\n"
     ]
    }
   ],
   "source": [
    "# data/predictors as the NDVI_500\n",
    "df = pd.DataFrame(gdf_500, columns=['NDVI_500'])\n",
    "\n",
    "# target as Greenspace%_500\n",
    "target = pd.DataFrame(gdf_500, columns=['Greenspace%_500'])\n",
    "\n",
    "# define X and Y\n",
    "X = df\n",
    "y = target['Greenspace%_500']\n",
    "\n",
    "# split independent and dependent variables into training and test data\n",
    "X_train, X_test, y_train, y_test = train_test_split(X, y, test_size=0.2, random_state=0)\n",
    "\n",
    "# GAM model\n",
    "warnings.filterwarnings(\"ignore\", category=RuntimeWarning)\n",
    "gam_greenspace_500 = LinearGAM(s(0)).fit(X_train, y_train)\n",
    "\n",
    "gam_greenspace_500.gridsearch(X_train, y_train)\n",
    "gam_greenspace_500.summary()"
   ]
  },
  {
   "cell_type": "code",
   "execution_count": 102,
   "id": "e4ec89e0",
   "metadata": {},
   "outputs": [
    {
     "data": {
      "image/png": "[encoded data removed]",
      "text/plain": [
       "<Figure size 432x288 with 1 Axes>"
      ]
     },
     "metadata": {
      "needs_background": "light"
     },
     "output_type": "display_data"
    }
   ],
   "source": [
    "# plotting\n",
    "for i, term in enumerate(gam_greenspace_500.terms):\n",
    "    if term.isintercept:\n",
    "        continue\n",
    "\n",
    "    XX = gam_greenspace_500.generate_X_grid(term=i)\n",
    "    pdep, confi = gam_greenspace_500.partial_dependence(term=i, X=XX, width=0.95)\n",
    "\n",
    "    plt.figure()\n",
    "    plt.plot(XX[:, term.feature], pdep)\n",
    "    plt.hlines(y=0, xmin=0, xmax=1, linewidth=1, color='black', linestyle='--')\n",
    "    plt.plot(XX[:, term.feature], confi, c='r', ls='--')\n",
    "#    plt.ylim(-0.5, 0.5)\n",
    "    # set title, xlabel and ylabel\n",
    "    plt.title('Relative change of greenspace%_500 (mean) \\n on NDVI_500, with GAM')\n",
    "    plt.xlabel('NDVI_500')\n",
    "    plt.ylabel('Greenspace%_500')\n",
    "    # save the figure\n",
    "    plt.savefig('thesis_project/visualizations/modelling/gam_greenspace_500_plot.png', dpi=300, bbox_inches='tight')\n",
    "    plt.show()"
   ]
  },
  {
   "cell_type": "code",
   "execution_count": 103,
   "id": "6fb0a348",
   "metadata": {},
   "outputs": [
    {
     "name": "stdout",
     "output_type": "stream",
     "text": [
      "If NDVI goes from 0.25 to 0.35, Greenspace%_500 increases by: 0.11047695982508077\n"
     ]
    }
   ],
   "source": [
    "# Change in low NDVI values: how does Greenspace% increase, if NDVI changes from 0.25 to 0.35?\n",
    "green_l0 = gam_greenspace_500.predict(0.25)\n",
    "green_l1 = gam_greenspace_500.predict(0.35)\n",
    "green_sens_low_500 = float(green_l1 - green_l0)\n",
    "print('If NDVI goes from 0.25 to 0.35, Greenspace%_500 increases by:', green_sens_low_500)"
   ]
  },
  {
   "cell_type": "code",
   "execution_count": 104,
   "id": "c3d945c5",
   "metadata": {},
   "outputs": [
    {
     "name": "stdout",
     "output_type": "stream",
     "text": [
      "If NDVI goes from 0.45 to 0.55, Greenspace%_500 increases by: 0.1664203077071046\n"
     ]
    }
   ],
   "source": [
    "# Change in medium NDVI values: how does Greenspace% increase, if NDVI changes from 0.45 to 0.55?\n",
    "green_m0 = gam_greenspace_500.predict(0.45)\n",
    "green_m1 = gam_greenspace_500.predict(0.55)\n",
    "green_sens_mid_500 = float(green_m1 - green_m0)\n",
    "print('If NDVI goes from 0.45 to 0.55, Greenspace%_500 increases by:', green_sens_mid_500)"
   ]
  },
  {
   "cell_type": "code",
   "execution_count": 105,
   "id": "73f655eb",
   "metadata": {},
   "outputs": [
    {
     "name": "stdout",
     "output_type": "stream",
     "text": [
      "If NDVI goes from 0.65 to 0.75, Greenspace%_500 increases by: 0.0926203126422982\n"
     ]
    }
   ],
   "source": [
    "# Change in high NDVI values: how does Greenspace% increase, if NDVI changes from 0.65 to 0.75?\n",
    "green_h0 = gam_greenspace_500.predict(0.65)\n",
    "green_h1 = gam_greenspace_500.predict(0.75)\n",
    "green_sens_hig_500 = float(green_h1 - green_h0)\n",
    "print('If NDVI goes from 0.65 to 0.75, Greenspace%_500 increases by:', green_sens_hig_500)"
   ]
  },
  {
   "cell_type": "markdown",
   "id": "24b4f8b0",
   "metadata": {},
   "source": [
    "### 3.2. How does NDVI predict Canopy%?"
   ]
  },
  {
   "cell_type": "markdown",
   "id": "d91c47a1",
   "metadata": {},
   "source": [
    "#### 3.2.1. Linear Regression Model"
   ]
  },
  {
   "cell_type": "code",
   "execution_count": 106,
   "id": "68ee1650",
   "metadata": {},
   "outputs": [],
   "source": [
    "# NDVI_500 as the predictor\n",
    "df = pd.DataFrame(gdf_500, columns=['NDVI_500'])\n",
    "\n",
    "# Greenspace%_300 as the target\n",
    "target = pd.DataFrame(gdf_500, columns=['Canopy%_500'])\n",
    "\n",
    "# define X and y\n",
    "X = df\n",
    "y = target['Canopy%_500']\n",
    "\n",
    "# split independent and dependent variables into training and test data\n",
    "X_train, X_test, y_train, y_test = train_test_split(X, y, test_size=0.2, random_state=0)\n",
    "\n",
    "# fit the linear model\n",
    "lm_500 = linear_model.LinearRegression()\n",
    "model_500 = lm_500.fit(X_train,y_train)"
   ]
  },
  {
   "cell_type": "code",
   "execution_count": 107,
   "id": "dc0e045c",
   "metadata": {},
   "outputs": [
    {
     "name": "stdout",
     "output_type": "stream",
     "text": [
      "Coefficient of NDVI_500 (or slope): [0.17223623]\n",
      "Intercept: 0.1883535321928857\n",
      "R-squared: 0.029635927315832977\n"
     ]
    }
   ],
   "source": [
    "# linear model coefficient, intercept, and R-squared \n",
    "print('Coefficient of NDVI_500 (or slope):', model_500.coef_)\n",
    "print('Intercept:', model_500.intercept_)\n",
    "print('R-squared:', model_500.score(X_train,y_train))"
   ]
  },
  {
   "cell_type": "code",
   "execution_count": 108,
   "id": "43830f53",
   "metadata": {},
   "outputs": [],
   "source": [
    "# make predictions\n",
    "y_pred = model_500.predict(X_test)\n",
    "\n",
    "# compare actual values with predicted ones\n",
    "df = pd.DataFrame({'Actual': y_test, 'Predicted': y_pred})\n",
    "\n",
    "# convert X_test to array values (for later use when plotting)\n",
    "X_test = X_test.iloc[:, 0:1].values"
   ]
  },
  {
   "cell_type": "code",
   "execution_count": 109,
   "id": "23568166",
   "metadata": {},
   "outputs": [
    {
     "name": "stdout",
     "output_type": "stream",
     "text": [
      "Mean Absolute Error: 0.12667404891735237\n",
      "Mean Squared Error: 0.025598064475646075\n",
      "Root Mean Squared Error: 0.15999395137206304\n"
     ]
    }
   ],
   "source": [
    "# evaluate the model\n",
    "print('Mean Absolute Error:', metrics.mean_absolute_error(y_test, y_pred))\n",
    "print('Mean Squared Error:', metrics.mean_squared_error(y_test, y_pred))\n",
    "print('Root Mean Squared Error:', np.sqrt(metrics.mean_squared_error(y_test, y_pred)))"
   ]
  },
  {
   "cell_type": "code",
   "execution_count": 110,
   "id": "e67f7d14",
   "metadata": {},
   "outputs": [
    {
     "data": {
      "image/png": "[encoded data removed]",
      "text/plain": [
       "<Figure size 432x288 with 1 Axes>"
      ]
     },
     "metadata": {
      "needs_background": "light"
     },
     "output_type": "display_data"
    }
   ],
   "source": [
    "# plot outputs\n",
    "plt.scatter(X_test, y_test, color=\"forestgreen\")\n",
    "plt.plot(X_test, y_pred, color=\"black\", linewidth=2)\n",
    "\n",
    "plt.xticks(np.arange(0, 1.1, step = 0.2))\n",
    "plt.yticks(np.arange(0, 1.1, step = 0.2))\n",
    "\n",
    "# set title, xlabel and ylabel\n",
    "plt.title('Change of canopy%_500 on NDVI_500, with LR')\n",
    "plt.xlabel('NDVI_500')\n",
    "plt.ylabel('Canopy%_500')\n",
    "\n",
    "# save the figure\n",
    "plt.savefig('thesis_project/visualizations/modelling/lr_canopy_500_plot.png', dpi=300, bbox_inches='tight')\n",
    "\n",
    "plt.show()"
   ]
  },
  {
   "cell_type": "markdown",
   "id": "5a34627b",
   "metadata": {},
   "source": [
    "#### 3.2.2. Generalized Additive Model (GAM)"
   ]
  },
  {
   "cell_type": "code",
   "execution_count": 111,
   "id": "01311a0a",
   "metadata": {
    "scrolled": true
   },
   "outputs": [
    {
     "name": "stderr",
     "output_type": "stream",
     "text": [
      "100% (11 of 11) |########################| Elapsed Time: 0:00:00 Time:  0:00:00\n"
     ]
    },
    {
     "name": "stdout",
     "output_type": "stream",
     "text": [
      "LinearGAM                                                                                                 \n",
      "=============================================== ==========================================================\n",
      "Distribution:                        NormalDist Effective DoF:                                       5.198\n",
      "Link Function:                     IdentityLink Log Likelihood:                                -34774.5523\n",
      "Number of Samples:                         2318 AIC:                                            69561.5005\n",
      "                                                AICc:                                           69561.5391\n",
      "                                                GCV:                                                0.0284\n",
      "                                                Scale:                                              0.0283\n",
      "                                                Pseudo R-Squared:                                   0.0572\n",
      "==========================================================================================================\n",
      "Feature Function                  Lambda               Rank         EDoF         P > x        Sig. Code   \n",
      "================================= ==================== ============ ============ ============ ============\n",
      "s(0)                              [251.1886]           20           5.2          1.11e-16     ***         \n",
      "intercept                                              1            0.0          1.11e-16     ***         \n",
      "==========================================================================================================\n",
      "Significance codes:  0 '***' 0.001 '**' 0.01 '*' 0.05 '.' 0.1 ' ' 1\n",
      "\n",
      "WARNING: Fitting splines and a linear function to a feature introduces a model identifiability problem\n",
      "         which can cause p-values to appear significant when they are not.\n",
      "\n",
      "WARNING: p-values calculated in this manner behave correctly for un-penalized models or models with\n",
      "         known smoothing parameters, but when smoothing parameters have been estimated, the p-values\n",
      "         are typically lower than they should be, meaning that the tests reject the null too readily.\n"
     ]
    },
    {
     "name": "stderr",
     "output_type": "stream",
     "text": [
      "/var/folders/6g/kgz5rml118s6lqw25w5sv5mr0000gn/T/ipykernel_3570/1847518293.py:19: UserWarning: KNOWN BUG: p-values computed in this summary are likely much smaller than they should be. \n",
      " \n",
      "Please do not make inferences based on these values! \n",
      "\n",
      "Collaborate on a solution, and stay up to date at: \n",
      "github.com/dswah/pyGAM/issues/163 \n",
      "\n",
      "  gam_canopy_500.summary()\n"
     ]
    }
   ],
   "source": [
    "# data/predictors as the NDVI_500\n",
    "df = pd.DataFrame(gdf_500, columns=['NDVI_500'])\n",
    "\n",
    "# target as Canopy%_500\n",
    "target = pd.DataFrame(gdf_500, columns=['Canopy%_500'])\n",
    "\n",
    "# define X and Y\n",
    "X = df\n",
    "y = target['Canopy%_500']\n",
    "\n",
    "# split independent and dependent variables into training and test data\n",
    "X_train, X_test, y_train, y_test = train_test_split(X, y, test_size=0.2, random_state=0)\n",
    "\n",
    "# GAM model\n",
    "warnings.filterwarnings(\"ignore\", category=RuntimeWarning)\n",
    "gam_canopy_500 = LinearGAM(s(0)).fit(X_train, y_train)\n",
    "\n",
    "gam_canopy_500.gridsearch(X_train, y_train)\n",
    "gam_canopy_500.summary()"
   ]
  },
  {
   "cell_type": "code",
   "execution_count": 112,
   "id": "caa32aa0",
   "metadata": {},
   "outputs": [
    {
     "data": {
      "image/png": "[encoded data removed]",
      "text/plain": [
       "<Figure size 432x288 with 1 Axes>"
      ]
     },
     "metadata": {
      "needs_background": "light"
     },
     "output_type": "display_data"
    }
   ],
   "source": [
    "# plotting\n",
    "for i, term in enumerate(gam_canopy_500.terms):\n",
    "    if term.isintercept:\n",
    "        continue\n",
    "\n",
    "    XX = gam_canopy_500.generate_X_grid(term=i)\n",
    "    pdep, confi = gam_canopy_500.partial_dependence(term=i, X=XX, width=0.95)\n",
    "\n",
    "    plt.figure()\n",
    "    plt.plot(XX[:, term.feature], pdep)\n",
    "    plt.hlines(y=0, xmin=0, xmax=1, linewidth=1, color='black', linestyle='--')\n",
    "    plt.plot(XX[:, term.feature], confi, c='r', ls='--')\n",
    "#    plt.ylim(-0.5, 0.5)\n",
    "    # set title, xlabel and ylabel\n",
    "    plt.title('Relative change of canopy%_500 (mean) \\n on NDVI_500, with GAM')\n",
    "    plt.xlabel('NDVI_500')\n",
    "    plt.ylabel('Canopy%_500')\n",
    "    # save the figure\n",
    "    plt.savefig('thesis_project/visualizations/modelling/gam_canopy_500_plot.png', dpi=300, bbox_inches='tight')\n",
    "    plt.show()"
   ]
  },
  {
   "cell_type": "code",
   "execution_count": 113,
   "id": "98e8fb83",
   "metadata": {},
   "outputs": [
    {
     "name": "stdout",
     "output_type": "stream",
     "text": [
      "If NDVI goes from 0.25 to 0.35, canopy%_500 increases by: 0.04109111787259234\n"
     ]
    }
   ],
   "source": [
    "# Change in low NDVI values: how does Canopy% increase, if NDVI changes from 0.25 to 0.35?\n",
    "canopy_l0 = gam_canopy_500.predict(0.25)\n",
    "canopy_l1 = gam_canopy_500.predict(0.35)\n",
    "canopy_sens_low_500 = float(canopy_l1 - canopy_l0)\n",
    "print('If NDVI goes from 0.25 to 0.35, canopy%_500 increases by:', canopy_sens_low_500)"
   ]
  },
  {
   "cell_type": "code",
   "execution_count": 114,
   "id": "b2b333d9",
   "metadata": {},
   "outputs": [
    {
     "name": "stdout",
     "output_type": "stream",
     "text": [
      "If NDVI goes from 0.45 to 0.55, canopy%_500 increases by: 0.03488364838650648\n"
     ]
    }
   ],
   "source": [
    "# Change in medium NDVI values: how does canopy% increase, if NDVI changes from 0.45 to 0.55?\n",
    "canopy_m0 = gam_canopy_500.predict(0.45)\n",
    "canopy_m1 = gam_canopy_500.predict(0.55)\n",
    "canopy_sens_mid_500 = float(canopy_m1 - canopy_m0)\n",
    "print('If NDVI goes from 0.45 to 0.55, canopy%_500 increases by:', canopy_sens_mid_500)"
   ]
  },
  {
   "cell_type": "code",
   "execution_count": 115,
   "id": "976911ed",
   "metadata": {},
   "outputs": [
    {
     "name": "stdout",
     "output_type": "stream",
     "text": [
      "If NDVI goes from 0.65 to 0.75, canopy%_500 increases by: 0.01057659406173278\n"
     ]
    }
   ],
   "source": [
    "# Change in high NDVI values: how does canopy% increase, if NDVI changes from 0.65 to 0.75?\n",
    "canopy_h0 = gam_canopy_500.predict(0.65)\n",
    "canopy_h1 = gam_canopy_500.predict(0.75)\n",
    "canopy_sens_hig_500 = float(canopy_h1 - canopy_h0)\n",
    "print('If NDVI goes from 0.65 to 0.75, canopy%_500 increases by:', canopy_sens_hig_500)"
   ]
  },
  {
   "cell_type": "markdown",
   "id": "571b2a1f",
   "metadata": {},
   "source": [
    "### 3.3. How does NDVI predict Grass%?"
   ]
  },
  {
   "cell_type": "markdown",
   "id": "ff3738ce",
   "metadata": {},
   "source": [
    "#### 3.3.1. Linear Regression Model"
   ]
  },
  {
   "cell_type": "code",
   "execution_count": 116,
   "id": "f7bc5b1b",
   "metadata": {},
   "outputs": [],
   "source": [
    "# NDVI_500 as the predictor\n",
    "df = pd.DataFrame(gdf_500, columns=['NDVI_500'])\n",
    "\n",
    "# Grass%_500 as the target\n",
    "target = pd.DataFrame(gdf_500, columns=['Grass%_500'])\n",
    "\n",
    "# define X and y\n",
    "X = df\n",
    "y = target['Grass%_500']\n",
    "\n",
    "# split independent and dependent variables into training and test data\n",
    "X_train, X_test, y_train, y_test = train_test_split(X, y, test_size=0.2, random_state=0)\n",
    "\n",
    "# fit the linear model\n",
    "lm_500 = linear_model.LinearRegression()\n",
    "model_500 = lm_500.fit(X_train,y_train)"
   ]
  },
  {
   "cell_type": "code",
   "execution_count": 117,
   "id": "2af90318",
   "metadata": {},
   "outputs": [
    {
     "name": "stdout",
     "output_type": "stream",
     "text": [
      "Coefficient of NDVI_500 (or slope): [0.47692271]\n",
      "Intercept: -0.05747867199924933\n",
      "R-squared: 0.30354565185752735\n"
     ]
    }
   ],
   "source": [
    "# linear model coefficient, intercept, and R-squared \n",
    "print('Coefficient of NDVI_500 (or slope):', model_500.coef_)\n",
    "print('Intercept:', model_500.intercept_)\n",
    "print('R-squared:', model_500.score(X_train,y_train))"
   ]
  },
  {
   "cell_type": "code",
   "execution_count": 118,
   "id": "54a46031",
   "metadata": {},
   "outputs": [],
   "source": [
    "# make predictions\n",
    "y_pred = model_500.predict(X_test)\n",
    "\n",
    "# compare actual values with predicted ones\n",
    "df = pd.DataFrame({'Actual': y_test, 'Predicted': y_pred})\n",
    "\n",
    "# convert X_test to array values (for later use when plotting)\n",
    "X_test = X_test.iloc[:, 0:1].values"
   ]
  },
  {
   "cell_type": "code",
   "execution_count": 119,
   "id": "9c22eca0",
   "metadata": {},
   "outputs": [
    {
     "name": "stdout",
     "output_type": "stream",
     "text": [
      "Mean Absolute Error: 0.0801137233733905\n",
      "Mean Squared Error: 0.01252795906039497\n",
      "Root Mean Squared Error: 0.11192836575415085\n"
     ]
    }
   ],
   "source": [
    "# evaluate the model\n",
    "print('Mean Absolute Error:', metrics.mean_absolute_error(y_test, y_pred))\n",
    "print('Mean Squared Error:', metrics.mean_squared_error(y_test, y_pred))\n",
    "print('Root Mean Squared Error:', np.sqrt(metrics.mean_squared_error(y_test, y_pred)))"
   ]
  },
  {
   "cell_type": "code",
   "execution_count": 120,
   "id": "91f64287",
   "metadata": {},
   "outputs": [
    {
     "data": {
      "image/png": "[encoded data removed]",
      "text/plain": [
       "<Figure size 432x288 with 1 Axes>"
      ]
     },
     "metadata": {
      "needs_background": "light"
     },
     "output_type": "display_data"
    }
   ],
   "source": [
    "# plot outputs\n",
    "plt.scatter(X_test, y_test, color=\"forestgreen\")\n",
    "plt.plot(X_test, y_pred, color=\"black\", linewidth=2)\n",
    "\n",
    "plt.xticks(np.arange(0, 1.1, step = 0.2))\n",
    "plt.yticks(np.arange(0, 1.1, step = 0.2))\n",
    "\n",
    "# set title, xlabel and ylabel\n",
    "plt.title('Change of grass%_500 on NDVI_500, with LR')\n",
    "plt.xlabel('NDVI_500')\n",
    "plt.ylabel('Grass%_500')\n",
    "\n",
    "# save the figure\n",
    "plt.savefig('thesis_project/visualizations/modelling/lr_grass_500_plot.png', dpi=300, bbox_inches='tight')\n",
    "\n",
    "plt.show()"
   ]
  },
  {
   "cell_type": "markdown",
   "id": "b9d62684",
   "metadata": {},
   "source": [
    "#### 3.3.2. Generalized Additive Model (GAM)"
   ]
  },
  {
   "cell_type": "code",
   "execution_count": 121,
   "id": "51dc453c",
   "metadata": {},
   "outputs": [
    {
     "name": "stderr",
     "output_type": "stream",
     "text": [
      "100% (11 of 11) |########################| Elapsed Time: 0:00:00 Time:  0:00:00\n"
     ]
    },
    {
     "name": "stdout",
     "output_type": "stream",
     "text": [
      "LinearGAM                                                                                                 \n",
      "=============================================== ==========================================================\n",
      "Distribution:                        NormalDist Effective DoF:                                      3.9675\n",
      "Link Function:                     IdentityLink Log Likelihood:                                -66656.3929\n",
      "Number of Samples:                         2318 AIC:                                           133322.7208\n",
      "                                                AICc:                                          133322.7464\n",
      "                                                GCV:                                                0.0156\n",
      "                                                Scale:                                              0.0156\n",
      "                                                Pseudo R-Squared:                                   0.3046\n",
      "==========================================================================================================\n",
      "Feature Function                  Lambda               Rank         EDoF         P > x        Sig. Code   \n",
      "================================= ==================== ============ ============ ============ ============\n",
      "s(0)                              [1000.]              20           4.0          1.11e-16     ***         \n",
      "intercept                                              1            0.0          1.11e-16     ***         \n",
      "==========================================================================================================\n",
      "Significance codes:  0 '***' 0.001 '**' 0.01 '*' 0.05 '.' 0.1 ' ' 1\n",
      "\n",
      "WARNING: Fitting splines and a linear function to a feature introduces a model identifiability problem\n",
      "         which can cause p-values to appear significant when they are not.\n",
      "\n",
      "WARNING: p-values calculated in this manner behave correctly for un-penalized models or models with\n",
      "         known smoothing parameters, but when smoothing parameters have been estimated, the p-values\n",
      "         are typically lower than they should be, meaning that the tests reject the null too readily.\n"
     ]
    },
    {
     "name": "stderr",
     "output_type": "stream",
     "text": [
      "/var/folders/6g/kgz5rml118s6lqw25w5sv5mr0000gn/T/ipykernel_3570/2139372779.py:19: UserWarning: KNOWN BUG: p-values computed in this summary are likely much smaller than they should be. \n",
      " \n",
      "Please do not make inferences based on these values! \n",
      "\n",
      "Collaborate on a solution, and stay up to date at: \n",
      "github.com/dswah/pyGAM/issues/163 \n",
      "\n",
      "  gam_grass_500.summary()\n"
     ]
    }
   ],
   "source": [
    "# data/predictors as the NDVI_500\n",
    "df = pd.DataFrame(gdf_500, columns=['NDVI_500'])\n",
    "\n",
    "# target as Grass%_500\n",
    "target = pd.DataFrame(gdf_500, columns=['Grass%_500'])\n",
    "\n",
    "# define X and Y\n",
    "X = df\n",
    "y = target['Grass%_500']\n",
    "\n",
    "# split independent and dependent variables into training and test data\n",
    "X_train, X_test, y_train, y_test = train_test_split(X, y, test_size=0.2, random_state=0)\n",
    "\n",
    "# GAM model\n",
    "warnings.filterwarnings(\"ignore\", category=RuntimeWarning)\n",
    "gam_grass_500 = LinearGAM(s(0)).fit(X_train, y_train)\n",
    "\n",
    "gam_grass_500.gridsearch(X_train, y_train)\n",
    "gam_grass_500.summary()"
   ]
  },
  {
   "cell_type": "code",
   "execution_count": 122,
   "id": "96c1d48c",
   "metadata": {},
   "outputs": [
    {
     "data": {
      "image/png": "[encoded data removed]",
      "text/plain": [
       "<Figure size 432x288 with 1 Axes>"
      ]
     },
     "metadata": {
      "needs_background": "light"
     },
     "output_type": "display_data"
    }
   ],
   "source": [
    "# plotting\n",
    "for i, term in enumerate(gam_grass_500.terms):\n",
    "    if term.isintercept:\n",
    "        continue\n",
    "\n",
    "    XX = gam_grass_500.generate_X_grid(term=i)\n",
    "    pdep, confi = gam_grass_500.partial_dependence(term=i, X=XX, width=0.95)\n",
    "\n",
    "    plt.figure()\n",
    "    plt.plot(XX[:, term.feature], pdep)\n",
    "    plt.hlines(y=0, xmin=0, xmax=1, linewidth=1, color='black', linestyle='--')\n",
    "    plt.plot(XX[:, term.feature], confi, c='r', ls='--')\n",
    "#    plt.ylim(-0.5, 0.5)\n",
    "    # set title, xlabel and ylabel\n",
    "    plt.title('Relative change of grass%_500 (mean) \\n on NDVI_500, with GAM')\n",
    "    plt.xlabel('NDVI_500')\n",
    "    plt.ylabel('Grass%_500')\n",
    "    # save the figure\n",
    "    plt.savefig('thesis_project/visualizations/modelling/gam_grass_500_plot.png', dpi=300, bbox_inches='tight')\n",
    "    plt.show()"
   ]
  },
  {
   "cell_type": "code",
   "execution_count": 123,
   "id": "14a955a9",
   "metadata": {},
   "outputs": [
    {
     "name": "stdout",
     "output_type": "stream",
     "text": [
      "If NDVI goes from 0.25 to 0.35, grass%_500 increases by: 0.04137967329645956\n"
     ]
    }
   ],
   "source": [
    "# Change in low NDVI values: how does grass% increase, if NDVI changes from 0.25 to 0.35?\n",
    "grass_l0 = gam_grass_500.predict(0.25)\n",
    "grass_l1 = gam_grass_500.predict(0.35)\n",
    "grass_sens_low_500 = float(grass_l1 - grass_l0)\n",
    "print('If NDVI goes from 0.25 to 0.35, grass%_500 increases by:', grass_sens_low_500)"
   ]
  },
  {
   "cell_type": "code",
   "execution_count": 124,
   "id": "e116e05d",
   "metadata": {},
   "outputs": [
    {
     "name": "stdout",
     "output_type": "stream",
     "text": [
      "If NDVI goes from 0.45 to 0.55, grass%_500 increases by: 0.048008475472902434\n"
     ]
    }
   ],
   "source": [
    "# Change in medium NDVI values: how does grass% increase, if NDVI changes from 0.45 to 0.55?\n",
    "grass_m0 = gam_grass_500.predict(0.45)\n",
    "grass_m1 = gam_grass_500.predict(0.55)\n",
    "grass_sens_mid_500 = float(grass_m1 - grass_m0)\n",
    "print('If NDVI goes from 0.45 to 0.55, grass%_500 increases by:', grass_sens_mid_500)"
   ]
  },
  {
   "cell_type": "code",
   "execution_count": 125,
   "id": "d08caffe",
   "metadata": {},
   "outputs": [
    {
     "name": "stdout",
     "output_type": "stream",
     "text": [
      "If NDVI goes from 0.65 to 0.75, grass%_500 increases by: 0.04714817613866579\n"
     ]
    }
   ],
   "source": [
    "# Change in high NDVI values: how does grass% increase, if NDVI changes from 0.65 to 0.75?\n",
    "grass_h0 = gam_grass_500.predict(0.65)\n",
    "grass_h1 = gam_grass_500.predict(0.75)\n",
    "grass_sens_hig_500 = float(grass_h1 - grass_h0)\n",
    "print('If NDVI goes from 0.65 to 0.75, grass%_500 increases by:', grass_sens_hig_500)"
   ]
  },
  {
   "cell_type": "markdown",
   "id": "9fcfc4be",
   "metadata": {},
   "source": [
    "### 3.4. How does NDVI predict Shrubs%?"
   ]
  },
  {
   "cell_type": "markdown",
   "id": "8bd113b2",
   "metadata": {},
   "source": [
    "#### 3.4.1. Linear Regression Model"
   ]
  },
  {
   "cell_type": "code",
   "execution_count": 126,
   "id": "b3aa53b6",
   "metadata": {},
   "outputs": [],
   "source": [
    "# NDVI_500 as the predictor\n",
    "df = pd.DataFrame(gdf_500, columns=['NDVI_500'])\n",
    "\n",
    "# Shrubs%_500 as the target\n",
    "target = pd.DataFrame(gdf_500, columns=['Shrubs%_500'])\n",
    "\n",
    "# define X and y\n",
    "X = df\n",
    "y = target['Shrubs%_500']\n",
    "\n",
    "# split independent and dependent variables into training and test data\n",
    "X_train, X_test, y_train, y_test = train_test_split(X, y, test_size=0.2, random_state=0)\n",
    "\n",
    "# fit the linear model\n",
    "lm_500 = linear_model.LinearRegression()\n",
    "model_500 = lm_500.fit(X_train,y_train)"
   ]
  },
  {
   "cell_type": "code",
   "execution_count": 127,
   "id": "e001b876",
   "metadata": {},
   "outputs": [
    {
     "name": "stdout",
     "output_type": "stream",
     "text": [
      "Coefficient of NDVI_500 (or slope): [0.5244964]\n",
      "Intercept: -0.0022765034762127767\n",
      "R-squared: 0.1673164051679844\n"
     ]
    }
   ],
   "source": [
    "# linear model coefficient, intercept, and R-squared \n",
    "print('Coefficient of NDVI_500 (or slope):', model_500.coef_)\n",
    "print('Intercept:', model_500.intercept_)\n",
    "print('R-squared:', model_500.score(X_train,y_train))"
   ]
  },
  {
   "cell_type": "code",
   "execution_count": 128,
   "id": "53776d83",
   "metadata": {},
   "outputs": [],
   "source": [
    "# make predictions\n",
    "y_pred = model_500.predict(X_test)\n",
    "\n",
    "# compare actual values with predicted ones\n",
    "df = pd.DataFrame({'Actual': y_test, 'Predicted': y_pred})\n",
    "\n",
    "# convert X_test to array values (for later use when plotting)\n",
    "X_test = X_test.iloc[:, 0:1].values"
   ]
  },
  {
   "cell_type": "code",
   "execution_count": 129,
   "id": "5c650939",
   "metadata": {},
   "outputs": [
    {
     "name": "stdout",
     "output_type": "stream",
     "text": [
      "Mean Absolute Error: 0.1346745633580186\n",
      "Mean Squared Error: 0.038184439145696414\n",
      "Root Mean Squared Error: 0.19540839067372828\n"
     ]
    }
   ],
   "source": [
    "# evaluate the model\n",
    "print('Mean Absolute Error:', metrics.mean_absolute_error(y_test, y_pred))\n",
    "print('Mean Squared Error:', metrics.mean_squared_error(y_test, y_pred))\n",
    "print('Root Mean Squared Error:', np.sqrt(metrics.mean_squared_error(y_test, y_pred)))"
   ]
  },
  {
   "cell_type": "code",
   "execution_count": 130,
   "id": "5be3ab66",
   "metadata": {},
   "outputs": [
    {
     "data": {
      "image/png": "[encoded data removed]",
      "text/plain": [
       "<Figure size 432x288 with 1 Axes>"
      ]
     },
     "metadata": {
      "needs_background": "light"
     },
     "output_type": "display_data"
    }
   ],
   "source": [
    "# plot outputs\n",
    "plt.scatter(X_test, y_test, color=\"forestgreen\")\n",
    "plt.plot(X_test, y_pred, color=\"black\", linewidth=2)\n",
    "\n",
    "plt.xticks(np.arange(0, 1.1, step = 0.2))\n",
    "plt.yticks(np.arange(0, 1.1, step = 0.2))\n",
    "\n",
    "# set title, xlabel and ylabel\n",
    "plt.title('Change of shrubs%_500 on NDVI_500, with LR')\n",
    "plt.xlabel('NDVI_500')\n",
    "plt.ylabel('Shrubs%_500')\n",
    "\n",
    "# save the figure\n",
    "plt.savefig('thesis_project/visualizations/modelling/lr_shrubs_500_plot.png', dpi=300, bbox_inches='tight')\n",
    "\n",
    "plt.show()"
   ]
  },
  {
   "cell_type": "markdown",
   "id": "5fd838a3",
   "metadata": {},
   "source": [
    "#### 3.4.2. Generalized Additive Model (GAM)"
   ]
  },
  {
   "cell_type": "code",
   "execution_count": 131,
   "id": "828e28db",
   "metadata": {},
   "outputs": [
    {
     "name": "stderr",
     "output_type": "stream",
     "text": [
      "100% (11 of 11) |########################| Elapsed Time: 0:00:00 Time:  0:00:00\n"
     ]
    },
    {
     "name": "stdout",
     "output_type": "stream",
     "text": [
      "LinearGAM                                                                                                 \n",
      "=============================================== ==========================================================\n",
      "Distribution:                        NormalDist Effective DoF:                                      8.7962\n",
      "Link Function:                     IdentityLink Log Likelihood:                                -23221.4333\n",
      "Number of Samples:                         2318 AIC:                                            46462.4589\n",
      "                                                AICc:                                           46462.5506\n",
      "                                                GCV:                                                0.0408\n",
      "                                                Scale:                                              0.0405\n",
      "                                                Pseudo R-Squared:                                   0.1794\n",
      "==========================================================================================================\n",
      "Feature Function                  Lambda               Rank         EDoF         P > x        Sig. Code   \n",
      "================================= ==================== ============ ============ ============ ============\n",
      "s(0)                              [15.8489]            20           8.8          1.11e-16     ***         \n",
      "intercept                                              1            0.0          1.11e-16     ***         \n",
      "==========================================================================================================\n",
      "Significance codes:  0 '***' 0.001 '**' 0.01 '*' 0.05 '.' 0.1 ' ' 1\n",
      "\n",
      "WARNING: Fitting splines and a linear function to a feature introduces a model identifiability problem\n",
      "         which can cause p-values to appear significant when they are not.\n",
      "\n",
      "WARNING: p-values calculated in this manner behave correctly for un-penalized models or models with\n",
      "         known smoothing parameters, but when smoothing parameters have been estimated, the p-values\n",
      "         are typically lower than they should be, meaning that the tests reject the null too readily.\n"
     ]
    },
    {
     "name": "stderr",
     "output_type": "stream",
     "text": [
      "/var/folders/6g/kgz5rml118s6lqw25w5sv5mr0000gn/T/ipykernel_3570/2264749580.py:19: UserWarning: KNOWN BUG: p-values computed in this summary are likely much smaller than they should be. \n",
      " \n",
      "Please do not make inferences based on these values! \n",
      "\n",
      "Collaborate on a solution, and stay up to date at: \n",
      "github.com/dswah/pyGAM/issues/163 \n",
      "\n",
      "  gam_shrubs_500.summary()\n"
     ]
    }
   ],
   "source": [
    "# data/predictors as the NDVI_500\n",
    "df = pd.DataFrame(gdf_500, columns=['NDVI_500'])\n",
    "\n",
    "# target as Shrubs%_500\n",
    "target = pd.DataFrame(gdf_500, columns=['Shrubs%_500'])\n",
    "\n",
    "# define X and Y\n",
    "X = df\n",
    "y = target['Shrubs%_500']\n",
    "\n",
    "# split independent and dependent variables into training and test data\n",
    "X_train, X_test, y_train, y_test = train_test_split(X, y, test_size=0.2, random_state=0)\n",
    "\n",
    "# GAM model\n",
    "warnings.filterwarnings(\"ignore\", category=RuntimeWarning)\n",
    "gam_shrubs_500 = LinearGAM(s(0)).fit(X_train, y_train)\n",
    "\n",
    "gam_shrubs_500.gridsearch(X_train, y_train)\n",
    "gam_shrubs_500.summary()"
   ]
  },
  {
   "cell_type": "code",
   "execution_count": 132,
   "id": "cb9915a7",
   "metadata": {},
   "outputs": [
    {
     "data": {
      "image/png": "[encoded data removed]",
      "text/plain": [
       "<Figure size 432x288 with 1 Axes>"
      ]
     },
     "metadata": {
      "needs_background": "light"
     },
     "output_type": "display_data"
    }
   ],
   "source": [
    "# plotting\n",
    "for i, term in enumerate(gam_shrubs_500.terms):\n",
    "    if term.isintercept:\n",
    "        continue\n",
    "\n",
    "    XX = gam_shrubs_500.generate_X_grid(term=i)\n",
    "    pdep, confi = gam_shrubs_500.partial_dependence(term=i, X=XX, width=0.95)\n",
    "\n",
    "    plt.figure()\n",
    "    plt.plot(XX[:, term.feature], pdep)\n",
    "    plt.hlines(y=0, xmin=0, xmax=1, linewidth=1, color='black', linestyle='--')\n",
    "    plt.plot(XX[:, term.feature], confi, c='r', ls='--')\n",
    "#    plt.ylim(-0.5, 0.5)\n",
    "    # set title, xlabel and ylabel\n",
    "    plt.title('Relative change of shrubs%_500 (mean) \\n on NDVI_500, with GAM')\n",
    "    plt.xlabel('NDVI_500')\n",
    "    plt.ylabel('Shrubs%_500')\n",
    "    # save the figure\n",
    "    plt.savefig('thesis_project/visualizations/modelling/gam_shrubs_500_plot.png', dpi=300, bbox_inches='tight')\n",
    "    plt.show()"
   ]
  },
  {
   "cell_type": "code",
   "execution_count": 133,
   "id": "7aef5eb2",
   "metadata": {},
   "outputs": [
    {
     "name": "stdout",
     "output_type": "stream",
     "text": [
      "If NDVI goes from 0.25 to 0.35, shrubs%_500 increases by: 0.04947840922372468\n"
     ]
    }
   ],
   "source": [
    "# Change in low NDVI values: how does shrubs% increase, if NDVI changes from 0.25 to 0.35?\n",
    "shrubs_l0 = gam_shrubs_500.predict(0.25)\n",
    "shrubs_l1 = gam_shrubs_500.predict(0.35)\n",
    "shrubs_sens_low_500 = float(shrubs_l1 - shrubs_l0)\n",
    "print('If NDVI goes from 0.25 to 0.35, shrubs%_500 increases by:', shrubs_sens_low_500)"
   ]
  },
  {
   "cell_type": "code",
   "execution_count": 134,
   "id": "5c004ae6",
   "metadata": {},
   "outputs": [
    {
     "name": "stdout",
     "output_type": "stream",
     "text": [
      "If NDVI goes from 0.45 to 0.55, shrubs%_500 increases by: 0.10366540398313567\n"
     ]
    }
   ],
   "source": [
    "# Change in medium NDVI values: how does shrubs% increase, if NDVI changes from 0.45 to 0.55?\n",
    "shrubs_m0 = gam_shrubs_500.predict(0.45)\n",
    "shrubs_m1 = gam_shrubs_500.predict(0.55)\n",
    "shrubs_sens_mid_500 = float(shrubs_m1 - shrubs_m0)\n",
    "print('If NDVI goes from 0.45 to 0.55, shrubs%_500 increases by:', shrubs_sens_mid_500)"
   ]
  },
  {
   "cell_type": "code",
   "execution_count": 135,
   "id": "ef026c90",
   "metadata": {},
   "outputs": [
    {
     "name": "stdout",
     "output_type": "stream",
     "text": [
      "If NDVI goes from 0.65 to 0.75, shrubs%_500 increases by: 0.04532026594024574\n"
     ]
    }
   ],
   "source": [
    "# Change in high NDVI values: how does shrubs% increase, if NDVI changes from 0.65 to 0.75?\n",
    "shrubs_h0 = gam_shrubs_500.predict(0.65)\n",
    "shrubs_h1 = gam_shrubs_500.predict(0.75)\n",
    "shrubs_sens_hig_500 = float(shrubs_h1 - shrubs_h0)\n",
    "print('If NDVI goes from 0.65 to 0.75, shrubs%_500 increases by:', shrubs_sens_hig_500)"
   ]
  },
  {
   "cell_type": "markdown",
   "id": "6982656c",
   "metadata": {},
   "source": [
    "### 3.5. How do Grass%, Canopy%, and Shrubs% predict NDVI?"
   ]
  },
  {
   "cell_type": "code",
   "execution_count": 136,
   "id": "bc5db3fd",
   "metadata": {},
   "outputs": [
    {
     "name": "stderr",
     "output_type": "stream",
     "text": [
      "100% (125 of 125) |######################| Elapsed Time: 0:00:05 Time:  0:00:05\n"
     ]
    },
    {
     "name": "stdout",
     "output_type": "stream",
     "text": [
      "LinearGAM                                                                                                 \n",
      "=============================================== ==========================================================\n",
      "Distribution:                        NormalDist Effective DoF:                                       30.37\n",
      "Link Function:                     IdentityLink Log Likelihood:                               -182891.8423\n",
      "Number of Samples:                         2318 AIC:                                           365846.4248\n",
      "                                                AICc:                                          365847.3133\n",
      "                                                GCV:                                                0.0061\n",
      "                                                Scale:                                              0.0059\n",
      "                                                Pseudo R-Squared:                                   0.8039\n",
      "==========================================================================================================\n",
      "Feature Function                  Lambda               Rank         EDoF         P > x        Sig. Code   \n",
      "================================= ==================== ============ ============ ============ ============\n",
      "s(0)                              [1000.]              20           4.4          1.11e-16     ***         \n",
      "s(1)                              [0.001]              20           17.5         1.11e-16     ***         \n",
      "s(2)                              [10.]                20           8.5          1.11e-16     ***         \n",
      "intercept                                              1            0.0          1.11e-16     ***         \n",
      "==========================================================================================================\n",
      "Significance codes:  0 '***' 0.001 '**' 0.01 '*' 0.05 '.' 0.1 ' ' 1\n",
      "\n",
      "WARNING: Fitting splines and a linear function to a feature introduces a model identifiability problem\n",
      "         which can cause p-values to appear significant when they are not.\n",
      "\n",
      "WARNING: p-values calculated in this manner behave correctly for un-penalized models or models with\n",
      "         known smoothing parameters, but when smoothing parameters have been estimated, the p-values\n",
      "         are typically lower than they should be, meaning that the tests reject the null too readily.\n"
     ]
    },
    {
     "name": "stderr",
     "output_type": "stream",
     "text": [
      "/var/folders/6g/kgz5rml118s6lqw25w5sv5mr0000gn/T/ipykernel_3570/3143020320.py:25: UserWarning: KNOWN BUG: p-values computed in this summary are likely much smaller than they should be. \n",
      " \n",
      "Please do not make inferences based on these values! \n",
      "\n",
      "Collaborate on a solution, and stay up to date at: \n",
      "github.com/dswah/pyGAM/issues/163 \n",
      "\n",
      "  gam_ndvi_500.summary()\n"
     ]
    }
   ],
   "source": [
    "# data/predictors as Grass%, Canopy%, and Shrubs%\n",
    "cols = ['Grass%_500', 'Canopy%_500', 'Shrubs%_500']\n",
    "df = pd.DataFrame(gdf_500, columns=cols)\n",
    "\n",
    "# target as NDVI_500\n",
    "target = pd.DataFrame(gdf_500, columns=['NDVI_500'])\n",
    "\n",
    "# define X and Y\n",
    "X = df\n",
    "y = target['NDVI_500']\n",
    "#X = df.iloc[:, 0:3].values\n",
    "\n",
    "# split independent and dependent variables into training and test data\n",
    "X_train, X_test, y_train, y_test = train_test_split(X, y, test_size=0.2, random_state=0)\n",
    "\n",
    "# GAM model candidate 1\n",
    "warnings.filterwarnings(\"ignore\", category=RuntimeWarning)\n",
    "gam_ndvi_500 = LinearGAM(s(0) + s(1) + s(2)).fit(X_train, y_train)\n",
    "\n",
    "# using gridsearch to tune the lambdas indvidually\n",
    "lam = np.logspace(-3, 5, 5)\n",
    "lams = [lam] * 3\n",
    "\n",
    "gam_ndvi_500.gridsearch(X_train, y_train, lam=lams)\n",
    "gam_ndvi_500.summary()"
   ]
  },
  {
   "cell_type": "code",
   "execution_count": 137,
   "id": "f4b54557",
   "metadata": {},
   "outputs": [
    {
     "data": {
      "text/plain": [
       "<Figure size 432x288 with 0 Axes>"
      ]
     },
     "metadata": {},
     "output_type": "display_data"
    },
    {
     "data": {
      "image/png": "[encoded data removed]",
      "text/plain": [
       "<Figure size 864x288 with 3 Axes>"
      ]
     },
     "metadata": {
      "needs_background": "light"
     },
     "output_type": "display_data"
    }
   ],
   "source": [
    "## plotting\n",
    "plt.figure();\n",
    "fig, axs = plt.subplots(1,3, figsize=(12,4));\n",
    "\n",
    "titles = ['Grass%_500', 'Canopy%_500', 'Shrubs%_500']\n",
    "for i, ax in enumerate(axs):\n",
    "    XX = gam_ndvi_500.generate_X_grid(term=i)\n",
    "    ax.plot(XX[:, i], gam_ndvi_500.partial_dependence(term=i, X=XX))\n",
    "    ax.plot(XX[:, i], gam_ndvi_500.partial_dependence(term=i, X=XX, width=.95)[1], c='r', ls='--')\n",
    "    ax.set_ylim(-0.5, 0.5)\n",
    "    ax.set_xticks(list(ax.get_xticks()))\n",
    "    ax.hlines(y=0, xmin=0, xmax=1, linewidth=1, color='black', linestyle='--')\n",
    "    ax.set_ylabel('Relative change of NDVI_500 (mean)', fontsize=12)\n",
    "    ax.set_title(titles[i], fontsize=12);\n",
    "    \n",
    "# non-overlapping subplots\n",
    "plt.tight_layout()\n",
    "    \n",
    "# save the figure\n",
    "plt.savefig('thesis_project/visualizations/modelling/gam_ndvi_500_plot.png', dpi=300, bbox_inches='tight')\n",
    "\n",
    "plt.show()"
   ]
  },
  {
   "cell_type": "markdown",
   "id": "5e5b7c1b",
   "metadata": {},
   "source": [
    "## 4. Prediction sensitivity to changes in low, mid, and high NDVI values"
   ]
  },
  {
   "cell_type": "markdown",
   "id": "ecd57d5a",
   "metadata": {},
   "source": [
    "### 4.1. At 100m"
   ]
  },
  {
   "cell_type": "code",
   "execution_count": 138,
   "id": "d3881cc6",
   "metadata": {},
   "outputs": [
    {
     "data": {
      "text/html": [
       "<div>\n",
       "<style scoped>\n",
       "    .dataframe tbody tr th:only-of-type {\n",
       "        vertical-align: middle;\n",
       "    }\n",
       "\n",
       "    .dataframe tbody tr th {\n",
       "        vertical-align: top;\n",
       "    }\n",
       "\n",
       "    .dataframe thead th {\n",
       "        text-align: right;\n",
       "    }\n",
       "</style>\n",
       "<table border=\"1\" class=\"dataframe\">\n",
       "  <thead>\n",
       "    <tr style=\"text-align: right;\">\n",
       "      <th></th>\n",
       "      <th>Changes in NDVI</th>\n",
       "      <th>Greenspace%_100</th>\n",
       "      <th>Grass%_100</th>\n",
       "      <th>Canopy%_100</th>\n",
       "      <th>Shrubs%_100</th>\n",
       "    </tr>\n",
       "  </thead>\n",
       "  <tbody>\n",
       "    <tr>\n",
       "      <th>0</th>\n",
       "      <td>Low-range (0.25 to 0.35)</td>\n",
       "      <td>0.10103</td>\n",
       "      <td>0.01087</td>\n",
       "      <td>0.03760</td>\n",
       "      <td>0.06083</td>\n",
       "    </tr>\n",
       "    <tr>\n",
       "      <th>1</th>\n",
       "      <td>Mid-range (0.45 to 0.55)</td>\n",
       "      <td>0.21571</td>\n",
       "      <td>0.06220</td>\n",
       "      <td>0.04417</td>\n",
       "      <td>0.11102</td>\n",
       "    </tr>\n",
       "    <tr>\n",
       "      <th>2</th>\n",
       "      <td>High-range (0.65 to 0.75)</td>\n",
       "      <td>0.15325</td>\n",
       "      <td>0.01754</td>\n",
       "      <td>0.06734</td>\n",
       "      <td>0.07657</td>\n",
       "    </tr>\n",
       "  </tbody>\n",
       "</table>\n",
       "</div>"
      ],
      "text/plain": [
       "             Changes in NDVI  Greenspace%_100  Grass%_100  Canopy%_100  \\\n",
       "0   Low-range (0.25 to 0.35)          0.10103     0.01087      0.03760   \n",
       "1   Mid-range (0.45 to 0.55)          0.21571     0.06220      0.04417   \n",
       "2  High-range (0.65 to 0.75)          0.15325     0.01754      0.06734   \n",
       "\n",
       "   Shrubs%_100  \n",
       "0      0.06083  \n",
       "1      0.11102  \n",
       "2      0.07657  "
      ]
     },
     "execution_count": 138,
     "metadata": {},
     "output_type": "execute_result"
    }
   ],
   "source": [
    "# vegetation metrics sensitivity to changes in NDVI\n",
    "data_100 = {'Changes in NDVI': ['Low-range (0.25 to 0.35)', 'Mid-range (0.45 to 0.55)', 'High-range (0.65 to 0.75)'], \n",
    "        'Greenspace%_100': [green_sens_low, green_sens_mid, green_sens_hig],\n",
    "        'Grass%_100': [grass_sens_low, grass_sens_mid, grass_sens_hig],\n",
    "        'Canopy%_100': [canopy_sens_low, canopy_sens_mid, canopy_sens_hig], \n",
    "        'Shrubs%_100': [shrubs_sens_low, shrubs_sens_mid, shrubs_sens_hig]}  \n",
    "  \n",
    "# create DataFrame  \n",
    "df_sens_100 = pd.DataFrame(data_100)\n",
    "df_sens_100 = df_sens_100.round(5)\n",
    "df_sens_100.head()"
   ]
  },
  {
   "cell_type": "code",
   "execution_count": 139,
   "id": "f477c27d",
   "metadata": {},
   "outputs": [
    {
     "data": {
      "image/png": "[encoded data removed]",
      "text/plain": [
       "<Figure size 432x288 with 1 Axes>"
      ]
     },
     "metadata": {
      "needs_background": "light"
     },
     "output_type": "display_data"
    }
   ],
   "source": [
    "# plotting\n",
    "fig, ax = plt.subplots()\n",
    "\n",
    "# hide axes\n",
    "fig.patch.set_visible(False)\n",
    "ax.axis('off')\n",
    "ax.axis('tight')\n",
    "\n",
    "ax.table(cellText=df_sens_100.values, colLabels=df_sens_100.columns, loc='center')\n",
    "\n",
    "fig.tight_layout()\n",
    "\n",
    "# save the figure\n",
    "plt.savefig('thesis_project/visualizations/modelling/sensitivity_100_table.png', dpi=300, bbox_inches='tight')\n",
    "\n",
    "plt.show()"
   ]
  },
  {
   "cell_type": "markdown",
   "id": "5dfe56f6",
   "metadata": {},
   "source": [
    "### 4.2. At 300m"
   ]
  },
  {
   "cell_type": "code",
   "execution_count": 140,
   "id": "7e8c3d6a",
   "metadata": {},
   "outputs": [
    {
     "data": {
      "text/html": [
       "<div>\n",
       "<style scoped>\n",
       "    .dataframe tbody tr th:only-of-type {\n",
       "        vertical-align: middle;\n",
       "    }\n",
       "\n",
       "    .dataframe tbody tr th {\n",
       "        vertical-align: top;\n",
       "    }\n",
       "\n",
       "    .dataframe thead th {\n",
       "        text-align: right;\n",
       "    }\n",
       "</style>\n",
       "<table border=\"1\" class=\"dataframe\">\n",
       "  <thead>\n",
       "    <tr style=\"text-align: right;\">\n",
       "      <th></th>\n",
       "      <th>Changes in NDVI</th>\n",
       "      <th>Greenspace%_300</th>\n",
       "      <th>Grass%_300</th>\n",
       "      <th>Canopy%_300</th>\n",
       "      <th>Shrubs%_300</th>\n",
       "    </tr>\n",
       "  </thead>\n",
       "  <tbody>\n",
       "    <tr>\n",
       "      <th>0</th>\n",
       "      <td>Low-range (0.25 to 0.35)</td>\n",
       "      <td>0.1361</td>\n",
       "      <td>0.0342</td>\n",
       "      <td>0.0375</td>\n",
       "      <td>0.0772</td>\n",
       "    </tr>\n",
       "    <tr>\n",
       "      <th>1</th>\n",
       "      <td>Mid-range (0.45 to 0.55)</td>\n",
       "      <td>0.1762</td>\n",
       "      <td>0.0435</td>\n",
       "      <td>0.0320</td>\n",
       "      <td>0.1221</td>\n",
       "    </tr>\n",
       "    <tr>\n",
       "      <th>2</th>\n",
       "      <td>High-range (0.65 to 0.75)</td>\n",
       "      <td>0.0992</td>\n",
       "      <td>0.0418</td>\n",
       "      <td>0.0028</td>\n",
       "      <td>0.0676</td>\n",
       "    </tr>\n",
       "  </tbody>\n",
       "</table>\n",
       "</div>"
      ],
      "text/plain": [
       "             Changes in NDVI  Greenspace%_300  Grass%_300  Canopy%_300  \\\n",
       "0   Low-range (0.25 to 0.35)           0.1361      0.0342       0.0375   \n",
       "1   Mid-range (0.45 to 0.55)           0.1762      0.0435       0.0320   \n",
       "2  High-range (0.65 to 0.75)           0.0992      0.0418       0.0028   \n",
       "\n",
       "   Shrubs%_300  \n",
       "0       0.0772  \n",
       "1       0.1221  \n",
       "2       0.0676  "
      ]
     },
     "execution_count": 140,
     "metadata": {},
     "output_type": "execute_result"
    }
   ],
   "source": [
    "# vegetation metrics sensitivity to changes in NDVI\n",
    "data_300 = {'Changes in NDVI': ['Low-range (0.25 to 0.35)', 'Mid-range (0.45 to 0.55)', 'High-range (0.65 to 0.75)'], \n",
    "        'Greenspace%_300': [green_sens_low_300, green_sens_mid_300, green_sens_hig_300],\n",
    "        'Grass%_300': [grass_sens_low_300, grass_sens_mid_300, grass_sens_hig_300],\n",
    "        'Canopy%_300': [canopy_sens_low_300, canopy_sens_mid_300, canopy_sens_hig_300], \n",
    "        'Shrubs%_300': [shrubs_sens_low_300, shrubs_sens_mid_300, shrubs_sens_hig_300]}  \n",
    "  \n",
    "# create DataFrame  \n",
    "df_sens_300 = pd.DataFrame(data_300)\n",
    "df_sens_300 = df_sens_300.round(4)\n",
    "df_sens_300.head()"
   ]
  },
  {
   "cell_type": "code",
   "execution_count": 141,
   "id": "1c677c59",
   "metadata": {},
   "outputs": [
    {
     "data": {
      "image/png": "[encoded data removed]",
      "text/plain": [
       "<Figure size 432x288 with 1 Axes>"
      ]
     },
     "metadata": {
      "needs_background": "light"
     },
     "output_type": "display_data"
    }
   ],
   "source": [
    "# plotting\n",
    "fig, ax = plt.subplots()\n",
    "\n",
    "# hide axes\n",
    "fig.patch.set_visible(False)\n",
    "ax.axis('off')\n",
    "ax.axis('tight')\n",
    "\n",
    "ax.table(cellText=df_sens_300.values, colLabels=df_sens_300.columns, loc='center')\n",
    "\n",
    "fig.tight_layout()\n",
    "\n",
    "# save the figure\n",
    "plt.savefig('thesis_project/visualizations/modelling/sensitivity_300_table.png', dpi=300, bbox_inches='tight')\n",
    "\n",
    "plt.show()"
   ]
  },
  {
   "cell_type": "markdown",
   "id": "983bbab1",
   "metadata": {},
   "source": [
    "### 4.3. At 500m"
   ]
  },
  {
   "cell_type": "code",
   "execution_count": 142,
   "id": "467b27b2",
   "metadata": {
    "scrolled": true
   },
   "outputs": [
    {
     "data": {
      "text/html": [
       "<div>\n",
       "<style scoped>\n",
       "    .dataframe tbody tr th:only-of-type {\n",
       "        vertical-align: middle;\n",
       "    }\n",
       "\n",
       "    .dataframe tbody tr th {\n",
       "        vertical-align: top;\n",
       "    }\n",
       "\n",
       "    .dataframe thead th {\n",
       "        text-align: right;\n",
       "    }\n",
       "</style>\n",
       "<table border=\"1\" class=\"dataframe\">\n",
       "  <thead>\n",
       "    <tr style=\"text-align: right;\">\n",
       "      <th></th>\n",
       "      <th>Changes in NDVI</th>\n",
       "      <th>Greenspace%_500</th>\n",
       "      <th>Grass%_500</th>\n",
       "      <th>Canopy%_500</th>\n",
       "      <th>Shrubs%_500</th>\n",
       "    </tr>\n",
       "  </thead>\n",
       "  <tbody>\n",
       "    <tr>\n",
       "      <th>0</th>\n",
       "      <td>Low-range (0.25 to 0.35)</td>\n",
       "      <td>0.1105</td>\n",
       "      <td>0.0414</td>\n",
       "      <td>0.0411</td>\n",
       "      <td>0.0495</td>\n",
       "    </tr>\n",
       "    <tr>\n",
       "      <th>1</th>\n",
       "      <td>Mid-range (0.45 to 0.55)</td>\n",
       "      <td>0.1664</td>\n",
       "      <td>0.0480</td>\n",
       "      <td>0.0349</td>\n",
       "      <td>0.1037</td>\n",
       "    </tr>\n",
       "    <tr>\n",
       "      <th>2</th>\n",
       "      <td>High-range (0.65 to 0.75)</td>\n",
       "      <td>0.0926</td>\n",
       "      <td>0.0471</td>\n",
       "      <td>0.0106</td>\n",
       "      <td>0.0453</td>\n",
       "    </tr>\n",
       "  </tbody>\n",
       "</table>\n",
       "</div>"
      ],
      "text/plain": [
       "             Changes in NDVI  Greenspace%_500  Grass%_500  Canopy%_500  \\\n",
       "0   Low-range (0.25 to 0.35)           0.1105      0.0414       0.0411   \n",
       "1   Mid-range (0.45 to 0.55)           0.1664      0.0480       0.0349   \n",
       "2  High-range (0.65 to 0.75)           0.0926      0.0471       0.0106   \n",
       "\n",
       "   Shrubs%_500  \n",
       "0       0.0495  \n",
       "1       0.1037  \n",
       "2       0.0453  "
      ]
     },
     "execution_count": 142,
     "metadata": {},
     "output_type": "execute_result"
    }
   ],
   "source": [
    "# vegetation metrics sensitivity to changes in NDVI\n",
    "data_500 = {'Changes in NDVI': ['Low-range (0.25 to 0.35)', 'Mid-range (0.45 to 0.55)', 'High-range (0.65 to 0.75)'], \n",
    "        'Greenspace%_500': [green_sens_low_500, green_sens_mid_500, green_sens_hig_500],\n",
    "        'Grass%_500': [grass_sens_low_500, grass_sens_mid_500, grass_sens_hig_500],\n",
    "        'Canopy%_500': [canopy_sens_low_500, canopy_sens_mid_500, canopy_sens_hig_500], \n",
    "        'Shrubs%_500': [shrubs_sens_low_500, shrubs_sens_mid_500, shrubs_sens_hig_500]}  \n",
    "  \n",
    "# create DataFrame  \n",
    "df_sens_500 = pd.DataFrame(data_500)\n",
    "df_sens_500 = df_sens_500.round(4)\n",
    "df_sens_500.head()"
   ]
  },
  {
   "cell_type": "code",
   "execution_count": 143,
   "id": "2296412f",
   "metadata": {},
   "outputs": [
    {
     "data": {
      "image/png": "[encoded data removed]",
      "text/plain": [
       "<Figure size 432x288 with 1 Axes>"
      ]
     },
     "metadata": {
      "needs_background": "light"
     },
     "output_type": "display_data"
    }
   ],
   "source": [
    "# plotting\n",
    "fig, ax = plt.subplots()\n",
    "\n",
    "# hide axes\n",
    "fig.patch.set_visible(False)\n",
    "ax.axis('off')\n",
    "ax.axis('tight')\n",
    "\n",
    "ax.table(cellText=df_sens_500.values, colLabels=df_sens_500.columns, loc='center')\n",
    "\n",
    "fig.tight_layout()\n",
    "\n",
    "# save the figure\n",
    "plt.savefig('thesis_project/visualizations/modelling/sensitivity_500_table.png', dpi=300, bbox_inches='tight')\n",
    "\n",
    "plt.show()"
   ]
  }
 ],
 "metadata": {
  "kernelspec": {
   "display_name": "Python 3 (ipykernel)",
   "language": "python",
   "name": "python3"
  },
  "language_info": {
   "codemirror_mode": {
    "name": "ipython",
    "version": 3
   },
   "file_extension": ".py",
   "mimetype": "text/x-python",
   "name": "python",
   "nbconvert_exporter": "python",
   "pygments_lexer": "ipython3",
   "version": "3.9.10"
  }
 },
 "nbformat": 4,
 "nbformat_minor": 5
}
