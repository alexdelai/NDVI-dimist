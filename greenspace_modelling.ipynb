{
 "cells": [
  {
   "cell_type": "markdown",
   "id": "9744e7bb",
   "metadata": {},
   "source": [
    "# Modelling Greenspace Metrics"
   ]
  },
  {
   "cell_type": "code",
   "execution_count": 2,
   "id": "febe111d",
   "metadata": {},
   "outputs": [],
   "source": [
    "import numpy as np\n",
    "import pandas as pd\n",
    "import geopandas as gpd\n",
    "import matplotlib.pyplot as plt\n",
    "from pygam import LinearGAM, s\n",
    "from sklearn import linear_model, metrics\n",
    "from sklearn.model_selection import train_test_split\n",
    "from sklearn.metrics import accuracy_score"
   ]
  },
  {
   "cell_type": "code",
   "execution_count": 2,
   "id": "aeed14f2",
   "metadata": {},
   "outputs": [],
   "source": [
    "#! pip install pygam"
   ]
  },
  {
   "cell_type": "markdown",
   "id": "48da419d",
   "metadata": {},
   "source": [
    "## 1. Modelling greenspace metrics at 100m"
   ]
  },
  {
   "cell_type": "code",
   "execution_count": 3,
   "id": "8e0e7418",
   "metadata": {},
   "outputs": [
    {
     "data": {
      "text/html": [
       "<div>\n",
       "<style scoped>\n",
       "    .dataframe tbody tr th:only-of-type {\n",
       "        vertical-align: middle;\n",
       "    }\n",
       "\n",
       "    .dataframe tbody tr th {\n",
       "        vertical-align: top;\n",
       "    }\n",
       "\n",
       "    .dataframe thead th {\n",
       "        text-align: right;\n",
       "    }\n",
       "</style>\n",
       "<table border=\"1\" class=\"dataframe\">\n",
       "  <thead>\n",
       "    <tr style=\"text-align: right;\">\n",
       "      <th></th>\n",
       "      <th>NDVI_100</th>\n",
       "      <th>Greenspace%_100</th>\n",
       "      <th>Canopy%_100</th>\n",
       "      <th>Grass%_100</th>\n",
       "      <th>Shrubs%_100</th>\n",
       "      <th>geometry</th>\n",
       "    </tr>\n",
       "  </thead>\n",
       "  <tbody>\n",
       "    <tr>\n",
       "      <th>0</th>\n",
       "      <td>0.641659</td>\n",
       "      <td>0.780488</td>\n",
       "      <td>0.787667</td>\n",
       "      <td>0.158730</td>\n",
       "      <td>0.129252</td>\n",
       "      <td>POINT (400173.361 405813.506)</td>\n",
       "    </tr>\n",
       "    <tr>\n",
       "      <th>1</th>\n",
       "      <td>0.675657</td>\n",
       "      <td>0.665080</td>\n",
       "      <td>0.210689</td>\n",
       "      <td>0.038549</td>\n",
       "      <td>0.482993</td>\n",
       "      <td>POINT (372621.724 413362.205)</td>\n",
       "    </tr>\n",
       "    <tr>\n",
       "      <th>2</th>\n",
       "      <td>0.871239</td>\n",
       "      <td>1.000000</td>\n",
       "      <td>0.426927</td>\n",
       "      <td>0.489796</td>\n",
       "      <td>0.192744</td>\n",
       "      <td>POINT (383564.442 390537.080)</td>\n",
       "    </tr>\n",
       "    <tr>\n",
       "      <th>3</th>\n",
       "      <td>0.805049</td>\n",
       "      <td>0.916716</td>\n",
       "      <td>0.253443</td>\n",
       "      <td>0.056689</td>\n",
       "      <td>0.696145</td>\n",
       "      <td>POINT (390233.154 383013.102)</td>\n",
       "    </tr>\n",
       "    <tr>\n",
       "      <th>4</th>\n",
       "      <td>0.472362</td>\n",
       "      <td>0.403331</td>\n",
       "      <td>0.158479</td>\n",
       "      <td>0.156463</td>\n",
       "      <td>0.124717</td>\n",
       "      <td>POINT (391596.504 398918.321)</td>\n",
       "    </tr>\n",
       "  </tbody>\n",
       "</table>\n",
       "</div>"
      ],
      "text/plain": [
       "   NDVI_100  Greenspace%_100  Canopy%_100  Grass%_100  Shrubs%_100  \\\n",
       "0  0.641659         0.780488     0.787667    0.158730     0.129252   \n",
       "1  0.675657         0.665080     0.210689    0.038549     0.482993   \n",
       "2  0.871239         1.000000     0.426927    0.489796     0.192744   \n",
       "3  0.805049         0.916716     0.253443    0.056689     0.696145   \n",
       "4  0.472362         0.403331     0.158479    0.156463     0.124717   \n",
       "\n",
       "                        geometry  \n",
       "0  POINT (400173.361 405813.506)  \n",
       "1  POINT (372621.724 413362.205)  \n",
       "2  POINT (383564.442 390537.080)  \n",
       "3  POINT (390233.154 383013.102)  \n",
       "4  POINT (391596.504 398918.321)  "
      ]
     },
     "execution_count": 3,
     "metadata": {},
     "output_type": "execute_result"
    }
   ],
   "source": [
    "# load greenspace metrics at 100m geodataframe\n",
    "gdf_100 = gpd.read_file(\"thesis_project/output/dataframes/greenspace_metrics_100_df.json\")\n",
    "gdf_100.head()"
   ]
  },
  {
   "cell_type": "markdown",
   "id": "c6cf24c0",
   "metadata": {},
   "source": [
    "### 1.1. How does NDVI predict Greenspace%?"
   ]
  },
  {
   "cell_type": "markdown",
   "id": "cad2f999",
   "metadata": {},
   "source": [
    "#### 1.1.1. Linear Regression Model"
   ]
  },
  {
   "cell_type": "code",
   "execution_count": 4,
   "id": "afbda8b2",
   "metadata": {},
   "outputs": [],
   "source": [
    "# data/predictors as the NDVI_100\n",
    "df_100 = pd.DataFrame(gdf_100, columns=['NDVI_100'])\n",
    "\n",
    "# target as Greenspace%_100\n",
    "target_100 = pd.DataFrame(gdf_100, columns=['Greenspace%_100'])\n",
    "\n",
    "# define X and y\n",
    "X = df_100\n",
    "y = target_100['Greenspace%_100']\n",
    "\n",
    "# split independent and dependent variables into training and test data\n",
    "X_train, X_test, y_train, y_test = train_test_split(X, y, test_size=0.2, random_state=0)\n",
    "\n",
    "# fit the linear model\n",
    "lm_100 = linear_model.LinearRegression()\n",
    "model_100 = lm_100.fit(X_train,y_train)"
   ]
  },
  {
   "cell_type": "code",
   "execution_count": 5,
   "id": "a657facf",
   "metadata": {},
   "outputs": [
    {
     "name": "stdout",
     "output_type": "stream",
     "text": [
      "Coefficient of NDVI_100 (or slope): [1.41737675]\n",
      "Intercept: -0.20786933866496082\n",
      "R-squared: 0.6638217928995317\n"
     ]
    }
   ],
   "source": [
    "# linear model coefficient, intercept, and R-squared \n",
    "print('Coefficient of NDVI_100 (or slope):', model_100.coef_)\n",
    "print('Intercept:', model_100.intercept_)\n",
    "print('R-squared:', model_100.score(X_train,y_train))"
   ]
  },
  {
   "cell_type": "code",
   "execution_count": 6,
   "id": "9fc8e351",
   "metadata": {},
   "outputs": [],
   "source": [
    "# make predictions\n",
    "y_pred = model_100.predict(X_test)\n",
    "\n",
    "# compare actual values with predicted ones\n",
    "df_pred = pd.DataFrame({'Actual': y_test, 'Predicted': y_pred})\n",
    "\n",
    "# convert X_test to array values\n",
    "X_test = X_test.iloc[:, 0:1].values"
   ]
  },
  {
   "cell_type": "code",
   "execution_count": 7,
   "id": "50baa1a9",
   "metadata": {},
   "outputs": [
    {
     "name": "stdout",
     "output_type": "stream",
     "text": [
      "Mean Absolute Error: 0.11303396555166897\n",
      "Mean Squared Error: 0.024839851768518682\n",
      "Root Mean Squared Error: 0.15760663618172518\n"
     ]
    }
   ],
   "source": [
    "# evaluate the model\n",
    "print('Mean Absolute Error:', metrics.mean_absolute_error(y_test, y_pred))\n",
    "print('Mean Squared Error:', metrics.mean_squared_error(y_test, y_pred))\n",
    "print('Root Mean Squared Error:', np.sqrt(metrics.mean_squared_error(y_test, y_pred)))"
   ]
  },
  {
   "cell_type": "code",
   "execution_count": 8,
   "id": "ca64fa1f",
   "metadata": {},
   "outputs": [
    {
     "data": {
      "image/png": "[encoded data removed]",
      "text/plain": [
       "<Figure size 432x288 with 1 Axes>"
      ]
     },
     "metadata": {
      "needs_background": "light"
     },
     "output_type": "display_data"
    }
   ],
   "source": [
    "# plot outputs\n",
    "plt.scatter(X_test, y_test, color=\"forestgreen\")\n",
    "plt.plot(X_test, y_pred, color=\"black\", linewidth=2)\n",
    "\n",
    "plt.xticks(np.arange(0, 1.1, step = 0.2))\n",
    "plt.yticks(np.arange(0, 1.1, step = 0.2))\n",
    "\n",
    "# set title, xlabel and ylabel\n",
    "plt.title('Linear Regression Model at 100m')\n",
    "plt.xlabel('NDVI_100')\n",
    "plt.ylabel('Greenspace%_100')\n",
    "\n",
    "# save the figure\n",
    "plt.savefig('thesis_project/visualizations/modelling/lm_ndvi_green_100_plot.png', dpi=300, bbox_inches='tight')\n",
    "\n",
    "plt.show()"
   ]
  },
  {
   "cell_type": "code",
   "execution_count": 9,
   "id": "bcdf53c0",
   "metadata": {},
   "outputs": [
    {
     "name": "stdout",
     "output_type": "stream",
     "text": [
      "[0.21734369]\n"
     ]
    },
    {
     "name": "stderr",
     "output_type": "stream",
     "text": [
      "/Applications/anaconda3/envs/ssml/lib/python3.9/site-packages/sklearn/base.py:450: UserWarning: X does not have valid feature names, but LinearRegression was fitted with feature names\n",
      "  warnings.warn(\n",
      "/Applications/anaconda3/envs/ssml/lib/python3.9/site-packages/sklearn/base.py:450: UserWarning: X does not have valid feature names, but LinearRegression was fitted with feature names\n",
      "  warnings.warn(\n"
     ]
    }
   ],
   "source": [
    "# predict Greenspace%_100 values for NDVI equalt to 0.3\n",
    "X_t_0 = [[0.3]]\n",
    "y_t_0 = model_100.predict(X_t_0)\n",
    "print(model_100.predict(X_t_0))"
   ]
  },
  {
   "cell_type": "code",
   "execution_count": 10,
   "id": "1d772e90",
   "metadata": {},
   "outputs": [
    {
     "name": "stdout",
     "output_type": "stream",
     "text": [
      "[0.35908136]\n"
     ]
    },
    {
     "name": "stderr",
     "output_type": "stream",
     "text": [
      "/Applications/anaconda3/envs/ssml/lib/python3.9/site-packages/sklearn/base.py:450: UserWarning: X does not have valid feature names, but LinearRegression was fitted with feature names\n",
      "  warnings.warn(\n",
      "/Applications/anaconda3/envs/ssml/lib/python3.9/site-packages/sklearn/base.py:450: UserWarning: X does not have valid feature names, but LinearRegression was fitted with feature names\n",
      "  warnings.warn(\n"
     ]
    }
   ],
   "source": [
    "# predict Greenspace%_100 values for NDVI equalt to 0.4\n",
    "X_t_1 = [[0.4]]\n",
    "y_t_1 = model_100.predict(X_t_1)\n",
    "print(model_100.predict(X_t_1))"
   ]
  },
  {
   "cell_type": "code",
   "execution_count": 11,
   "id": "eb36bfba",
   "metadata": {},
   "outputs": [
    {
     "name": "stdout",
     "output_type": "stream",
     "text": [
      "If NDVI goes from 0.3 to 0.4, Greenspace%_100 increases by: [0.14173767]\n"
     ]
    }
   ],
   "source": [
    "# how does Greenspace%_100 increase if NDVI goes from 0.3 to 0.4?\n",
    "#print('Greenspace%_100 increase if NDVI goes from 0.3 to 0.4:', y_t_1 - y_t_0)\n",
    "print('If NDVI goes from 0.3 to 0.4, Greenspace%_100 increases by:', y_t_1 - y_t_0)"
   ]
  },
  {
   "cell_type": "markdown",
   "id": "821fbc94",
   "metadata": {},
   "source": [
    "#### 1.1.2. Generalized Additive Model (GAM)"
   ]
  },
  {
   "cell_type": "code",
   "execution_count": 139,
   "id": "c412fbe9",
   "metadata": {},
   "outputs": [
    {
     "name": "stdout",
     "output_type": "stream",
     "text": [
      "LinearGAM                                                                                                 \n",
      "=============================================== ==========================================================\n",
      "Distribution:                        NormalDist Effective DoF:                                     14.2816\n",
      "Link Function:                     IdentityLink Log Likelihood:                                 -83790.689\n",
      "Number of Samples:                         4668 AIC:                                           167611.9413\n",
      "                                                AICc:                                          167612.0483\n",
      "                                                GCV:                                                0.0241\n",
      "                                                Scale:                                               0.024\n",
      "                                                Pseudo R-Squared:                                   0.6908\n",
      "==========================================================================================================\n",
      "Feature Function                  Lambda               Rank         EDoF         P > x        Sig. Code   \n",
      "================================= ==================== ============ ============ ============ ============\n",
      "s(0)                              [0.6]                20           14.3         1.11e-16     ***         \n",
      "intercept                                              1            0.0          1.11e-16     ***         \n",
      "==========================================================================================================\n",
      "Significance codes:  0 '***' 0.001 '**' 0.01 '*' 0.05 '.' 0.1 ' ' 1\n",
      "\n",
      "WARNING: Fitting splines and a linear function to a feature introduces a model identifiability problem\n",
      "         which can cause p-values to appear significant when they are not.\n",
      "\n",
      "WARNING: p-values calculated in this manner behave correctly for un-penalized models or models with\n",
      "         known smoothing parameters, but when smoothing parameters have been estimated, the p-values\n",
      "         are typically lower than they should be, meaning that the tests reject the null too readily.\n"
     ]
    },
    {
     "name": "stderr",
     "output_type": "stream",
     "text": [
      "/Applications/anaconda3/envs/ssml/lib/python3.9/site-packages/pygam/pygam.py:752: RuntimeWarning: invalid value encountered in reciprocal\n",
      "  np.fill_diagonal(Dinv, d**-1) # invert the singular values\n",
      "/var/folders/6g/kgz5rml118s6lqw25w5sv5mr0000gn/T/ipykernel_3269/198064715.py:19: UserWarning: KNOWN BUG: p-values computed in this summary are likely much smaller than they should be. \n",
      " \n",
      "Please do not make inferences based on these values! \n",
      "\n",
      "Collaborate on a solution, and stay up to date at: \n",
      "github.com/dswah/pyGAM/issues/163 \n",
      "\n",
      "  gam_100.summary()\n"
     ]
    }
   ],
   "source": [
    "# data/predictors as the NDVI_100\n",
    "df_100 = pd.DataFrame(gdf_100, columns=['NDVI_100'])\n",
    "\n",
    "# target as Greenspace%_100\n",
    "target_100 = pd.DataFrame(gdf_100, columns=['Greenspace%_100'])\n",
    "\n",
    "# define X and Y\n",
    "X = df_100\n",
    "y = target_100['Greenspace%_100']\n",
    "\n",
    "# split independent and dependent variables into training and test data\n",
    "X_train, X_test, y_train, y_test = train_test_split(X, y, test_size=0.2, random_state=0)\n",
    "\n",
    "# fit GAM model\n",
    "#gam_100 = LinearGAM(s(0, n_splines=25)).fit(X_train, y_train, weights=None)\n",
    "gam_100 = LinearGAM(s(0)).fit(X_train, y_train, weights=None)\n",
    "\n",
    "# check model statistics\n",
    "gam_100.summary()"
   ]
  },
  {
   "cell_type": "code",
   "execution_count": 140,
   "id": "f823743c",
   "metadata": {},
   "outputs": [],
   "source": [
    "# convert X_test and y_test to array values\n",
    "#y_test = y_test.iloc[:, 0:1].values\n",
    "X_test = X_test.iloc[:, 0:1].values\n",
    "\n",
    "# make predictions\n",
    "y_pred = gam_100.predict(X_test)"
   ]
  },
  {
   "cell_type": "code",
   "execution_count": 141,
   "id": "41f13b0d",
   "metadata": {},
   "outputs": [
    {
     "data": {
      "image/png": "[encoded data removed]",
      "text/plain": [
       "<Figure size 432x288 with 1 Axes>"
      ]
     },
     "metadata": {
      "needs_background": "light"
     },
     "output_type": "display_data"
    }
   ],
   "source": [
    "# plot output\n",
    "plt.scatter(X_test, y_test, color=\"forestgreen\")\n",
    "plt.plot(X_test, y_pred, color=\"black\", linewidth=2)\n",
    "\n",
    "# set title, xlabel and ylabel\n",
    "plt.title('Generalized Additive Model (GAM) at 100m')\n",
    "plt.xlabel('NDVI_100')\n",
    "plt.ylabel('Greenspace%_100')\n",
    "\n",
    "# save the figure\n",
    "plt.savefig('thesis_project/visualizations/modelling/gam_ndvi_green_100_plot.png', dpi=300, bbox_inches='tight')\n",
    "\n",
    "plt.show()"
   ]
  },
  {
   "cell_type": "code",
   "execution_count": 145,
   "id": "6b91567e",
   "metadata": {
    "scrolled": true
   },
   "outputs": [
    {
     "name": "stdout",
     "output_type": "stream",
     "text": [
      "If NDVI goes from 0.25 to 0.35, Greenspace%_100 increases by: 0.10558179930754596\n"
     ]
    }
   ],
   "source": [
    "# Change in low NDVI values: how does Greenspace% increase, if NDVI changes from 0.25 to 0.35?\n",
    "green_l0 = gam_100.predict(0.25)\n",
    "green_l1 = gam_100.predict(0.35)\n",
    "green_sens_low = float(green_l1 - green_l0)\n",
    "print('If NDVI goes from 0.25 to 0.35, Greenspace%_100 increases by:', green_sens_low)"
   ]
  },
  {
   "cell_type": "code",
   "execution_count": 147,
   "id": "2c268d75",
   "metadata": {},
   "outputs": [
    {
     "name": "stdout",
     "output_type": "stream",
     "text": [
      "If NDVI goes from 0.45 to 0.55, Greenspace%_100 increases by: 0.1984360621179868\n"
     ]
    }
   ],
   "source": [
    "# Change in mid NDVI values: how does Greenspace% increase, if NDVI changes from 0.45 to 0.55?\n",
    "green_m0 = gam_100.predict(0.45)\n",
    "green_m1 = gam_100.predict(0.55)\n",
    "green_sens_mid = float(green_m1 - green_m0)\n",
    "print('If NDVI goes from 0.45 to 0.55, Greenspace%_100 increases by:', green_sens_mid)"
   ]
  },
  {
   "cell_type": "code",
   "execution_count": 148,
   "id": "c923cf87",
   "metadata": {},
   "outputs": [
    {
     "name": "stdout",
     "output_type": "stream",
     "text": [
      "If NDVI goes from 0.65 to 0.75, Greenspace%_100 increases by: 0.11628007814870056\n"
     ]
    }
   ],
   "source": [
    "# Change in high NDVI values: how does Greenspace% increase, if NDVI changes from 0.65 to 0.75?\n",
    "green_h0 = gam_100.predict(0.65)\n",
    "green_h1 = gam_100.predict(0.75)\n",
    "green_sens_hig = float(green_h1 - green_h0)\n",
    "print('If NDVI goes from 0.65 to 0.75, Greenspace%_100 increases by:', green_sens_hig)"
   ]
  },
  {
   "cell_type": "markdown",
   "id": "b6c6462a",
   "metadata": {},
   "source": [
    "### 1.2. How does NDVI predict Canopy%?"
   ]
  },
  {
   "cell_type": "markdown",
   "id": "e1f3ec2f",
   "metadata": {},
   "source": [
    "#### 1.2.1. Linear Regression Model"
   ]
  },
  {
   "cell_type": "code",
   "execution_count": 19,
   "id": "c50b675d",
   "metadata": {},
   "outputs": [],
   "source": [
    "# NDVI_100 as the predictor\n",
    "df = pd.DataFrame(gdf_100, columns=['NDVI_100'])\n",
    "\n",
    "# Canopy%_100 as the target\n",
    "target = pd.DataFrame(gdf_100, columns=['Canopy%_100'])\n",
    "\n",
    "# define X and y\n",
    "X = df\n",
    "y = target['Canopy%_100']\n",
    "\n",
    "# split independent and dependent variables into training and test data\n",
    "X_train, X_test, y_train, y_test = train_test_split(X, y, test_size=0.2, random_state=0)\n",
    "\n",
    "# fit the linear model\n",
    "lm_100 = linear_model.LinearRegression()\n",
    "model_100 = lm_100.fit(X_train,y_train)"
   ]
  },
  {
   "cell_type": "code",
   "execution_count": 20,
   "id": "33870925",
   "metadata": {},
   "outputs": [
    {
     "name": "stdout",
     "output_type": "stream",
     "text": [
      "Coefficient of NDVI_100 (or slope): [-0.00517506]\n",
      "Intercept: 0.1994239797324285\n",
      "R-squared: 2.3242251511734757e-05\n"
     ]
    }
   ],
   "source": [
    "# linear model coefficient, intercept, and R-squared \n",
    "print('Coefficient of NDVI_100 (or slope):', model_100.coef_)\n",
    "print('Intercept:', model_100.intercept_)\n",
    "print('R-squared:', model_100.score(X_train,y_train))"
   ]
  },
  {
   "cell_type": "code",
   "execution_count": 21,
   "id": "8a9b43aa",
   "metadata": {},
   "outputs": [],
   "source": [
    "# make predictions\n",
    "y_pred = model_100.predict(X_test)\n",
    "\n",
    "# compare actual values with predicted ones\n",
    "df = pd.DataFrame({'Actual': y_test, 'Predicted': y_pred})\n",
    "\n",
    "# convert X_test to array values (for later use when plotting)\n",
    "X_test = X_test.iloc[:, 0:1].values"
   ]
  },
  {
   "cell_type": "code",
   "execution_count": 22,
   "id": "72d3b33b",
   "metadata": {},
   "outputs": [
    {
     "name": "stdout",
     "output_type": "stream",
     "text": [
      "Mean Absolute Error: 0.13522807129125317\n",
      "Mean Squared Error: 0.031499129800154346\n",
      "Root Mean Squared Error: 0.1774799419657172\n"
     ]
    }
   ],
   "source": [
    "# evaluate the model\n",
    "print('Mean Absolute Error:', metrics.mean_absolute_error(y_test, y_pred))\n",
    "print('Mean Squared Error:', metrics.mean_squared_error(y_test, y_pred))\n",
    "print('Root Mean Squared Error:', np.sqrt(metrics.mean_squared_error(y_test, y_pred)))"
   ]
  },
  {
   "cell_type": "code",
   "execution_count": 23,
   "id": "91847ac8",
   "metadata": {},
   "outputs": [
    {
     "data": {
      "image/png": "[encoded data removed]",
      "text/plain": [
       "<Figure size 432x288 with 1 Axes>"
      ]
     },
     "metadata": {
      "needs_background": "light"
     },
     "output_type": "display_data"
    }
   ],
   "source": [
    "# plot outputs\n",
    "plt.scatter(X_test, y_test, color=\"forestgreen\")\n",
    "plt.plot(X_test, y_pred, color=\"black\", linewidth=2)\n",
    "\n",
    "plt.xticks(np.arange(0, 1.1, step = 0.2))\n",
    "plt.yticks(np.arange(0, 1.1, step = 0.2))\n",
    "\n",
    "# set title, xlabel and ylabel\n",
    "plt.title('Linear Regression Model at 100m')\n",
    "plt.xlabel('NDVI_100')\n",
    "plt.ylabel('Canopy%_100')\n",
    "\n",
    "# save the figure\n",
    "plt.savefig('thesis_project/visualizations/modelling/lm_ndvi_canopy_100_plot.png', dpi=300, bbox_inches='tight')\n",
    "\n",
    "plt.show()"
   ]
  },
  {
   "cell_type": "markdown",
   "id": "273e58a8",
   "metadata": {},
   "source": [
    "#### 1.2.2. Generalized Additive Model (GAM)"
   ]
  },
  {
   "cell_type": "code",
   "execution_count": 156,
   "id": "5ce8ac62",
   "metadata": {},
   "outputs": [
    {
     "name": "stdout",
     "output_type": "stream",
     "text": [
      "LinearGAM                                                                                                 \n",
      "=============================================== ==========================================================\n",
      "Distribution:                        NormalDist Effective DoF:                                     14.2816\n",
      "Link Function:                     IdentityLink Log Likelihood:                                -73046.4405\n",
      "Number of Samples:                         4668 AIC:                                           146123.4443\n",
      "                                                AICc:                                          146123.5513\n",
      "                                                GCV:                                                0.0273\n",
      "                                                Scale:                                              0.0272\n",
      "                                                Pseudo R-Squared:                                   0.0805\n",
      "==========================================================================================================\n",
      "Feature Function                  Lambda               Rank         EDoF         P > x        Sig. Code   \n",
      "================================= ==================== ============ ============ ============ ============\n",
      "s(0)                              [0.6]                20           14.3         1.11e-16     ***         \n",
      "intercept                                              1            0.0          1.13e-04     ***         \n",
      "==========================================================================================================\n",
      "Significance codes:  0 '***' 0.001 '**' 0.01 '*' 0.05 '.' 0.1 ' ' 1\n",
      "\n",
      "WARNING: Fitting splines and a linear function to a feature introduces a model identifiability problem\n",
      "         which can cause p-values to appear significant when they are not.\n",
      "\n",
      "WARNING: p-values calculated in this manner behave correctly for un-penalized models or models with\n",
      "         known smoothing parameters, but when smoothing parameters have been estimated, the p-values\n",
      "         are typically lower than they should be, meaning that the tests reject the null too readily.\n"
     ]
    },
    {
     "name": "stderr",
     "output_type": "stream",
     "text": [
      "/Applications/anaconda3/envs/ssml/lib/python3.9/site-packages/pygam/pygam.py:752: RuntimeWarning: invalid value encountered in reciprocal\n",
      "  np.fill_diagonal(Dinv, d**-1) # invert the singular values\n",
      "/var/folders/6g/kgz5rml118s6lqw25w5sv5mr0000gn/T/ipykernel_3269/881848350.py:19: UserWarning: KNOWN BUG: p-values computed in this summary are likely much smaller than they should be. \n",
      " \n",
      "Please do not make inferences based on these values! \n",
      "\n",
      "Collaborate on a solution, and stay up to date at: \n",
      "github.com/dswah/pyGAM/issues/163 \n",
      "\n",
      "  gam_100.summary()\n"
     ]
    }
   ],
   "source": [
    "# data/predictors as the NDVI_100\n",
    "df = pd.DataFrame(gdf_100, columns=['NDVI_100'])\n",
    "\n",
    "# target as Canopy%_100\n",
    "target = pd.DataFrame(gdf_100, columns=['Canopy%_100'])\n",
    "\n",
    "# define X and Y\n",
    "X = df\n",
    "y = target['Canopy%_100']\n",
    "\n",
    "# split independent and dependent variables into training and test data\n",
    "X_train, X_test, y_train, y_test = train_test_split(X, y, test_size=0.2, random_state=0)\n",
    "\n",
    "# fit GAM model\n",
    "#gam_100 = LinearGAM(s(0, n_splines=25)).fit(X_train, y_train, weights=None)\n",
    "gam_100 = LinearGAM(s(0)).fit(X_train, y_train, weights=None)\n",
    "\n",
    "# check model statistics\n",
    "gam_100.summary()"
   ]
  },
  {
   "cell_type": "code",
   "execution_count": 157,
   "id": "514f24dc",
   "metadata": {},
   "outputs": [],
   "source": [
    "# convert X_test and y_test to array values\n",
    "#y_test = y_test.iloc[:, 0:1].values\n",
    "X_test = X_test.iloc[:, 0:1].values\n",
    "\n",
    "# make predictions\n",
    "y_pred = gam_100.predict(X_test)"
   ]
  },
  {
   "cell_type": "code",
   "execution_count": 158,
   "id": "d08ad26f",
   "metadata": {},
   "outputs": [
    {
     "data": {
      "image/png": "[encoded data removed]",
      "text/plain": [
       "<Figure size 432x288 with 1 Axes>"
      ]
     },
     "metadata": {
      "needs_background": "light"
     },
     "output_type": "display_data"
    }
   ],
   "source": [
    "# plot output\n",
    "plt.scatter(X_test, y_test, color=\"forestgreen\")\n",
    "plt.plot(X_test, y_pred, color=\"black\", linewidth=2)\n",
    "\n",
    "# set title, xlabel and ylabel\n",
    "plt.title('Generalized Additive Model (GAM) at 100m')\n",
    "plt.xlabel('NDVI_100')\n",
    "plt.ylabel('Canopy%_100')\n",
    "\n",
    "# save the figure\n",
    "plt.savefig('thesis_project/visualizations/modelling/gam_ndvi_canopy_100_plot.png', dpi=300, bbox_inches='tight')\n",
    "\n",
    "plt.show()"
   ]
  },
  {
   "cell_type": "code",
   "execution_count": 160,
   "id": "109150e1",
   "metadata": {},
   "outputs": [
    {
     "name": "stdout",
     "output_type": "stream",
     "text": [
      "If NDVI goes from 0.25 to 0.35, Canopy%_100 increases by: 0.05925175241204339\n"
     ]
    }
   ],
   "source": [
    "# Change in low NDVI values: how does Canopy% increase, if NDVI changes from 0.25 to 0.35?\n",
    "canopy_l0 = gam_100.predict(0.25)\n",
    "canopy_l1 = gam_100.predict(0.35)\n",
    "canopy_sens_low = float(canopy_l1 - canopy_l0)\n",
    "print('If NDVI goes from 0.25 to 0.35, Canopy%_100 increases by:', canopy_sens_low)"
   ]
  },
  {
   "cell_type": "code",
   "execution_count": 161,
   "id": "f0631a19",
   "metadata": {},
   "outputs": [
    {
     "name": "stdout",
     "output_type": "stream",
     "text": [
      "If NDVI goes from 0.45 to 0.55, Canopy%_100 increases by: 0.0720288180607698\n"
     ]
    }
   ],
   "source": [
    "# Change in mid NDVI values: how does Canopy% increase, if NDVI changes from 0.45 to 0.55?\n",
    "canopy_m0 = gam_100.predict(0.45)\n",
    "canopy_m1 = gam_100.predict(0.55)\n",
    "canopy_sens_mid = float(canopy_m1 - canopy_m0)\n",
    "print('If NDVI goes from 0.45 to 0.55, Canopy%_100 increases by:', canopy_sens_mid)"
   ]
  },
  {
   "cell_type": "code",
   "execution_count": 162,
   "id": "1840f58b",
   "metadata": {},
   "outputs": [
    {
     "name": "stdout",
     "output_type": "stream",
     "text": [
      "If NDVI goes from 0.65 to 0.75, Canopy%_100 increases by: -0.051608142585441746\n"
     ]
    }
   ],
   "source": [
    "# Change in low NDVI values: how does Canopy% increase, if NDVI changes from 0.65 to 0.75?\n",
    "canopy_h0 = gam_100.predict(0.65)\n",
    "canopy_h1 = gam_100.predict(0.75)\n",
    "canopy_sens_hig = float(canopy_h1 - canopy_h0)\n",
    "print('If NDVI goes from 0.65 to 0.75, Canopy%_100 increases by:', canopy_sens_hig)"
   ]
  },
  {
   "cell_type": "markdown",
   "id": "1faa82d4",
   "metadata": {},
   "source": [
    "### 1.3. How does NDVI predict Grass%?"
   ]
  },
  {
   "cell_type": "markdown",
   "id": "c70784e7",
   "metadata": {},
   "source": [
    "#### 1.3.1. Linear Regression Model"
   ]
  },
  {
   "cell_type": "code",
   "execution_count": 27,
   "id": "c85fa777",
   "metadata": {},
   "outputs": [],
   "source": [
    "# NDVI_100 as the predictor\n",
    "df = pd.DataFrame(gdf_100, columns=['NDVI_100'])\n",
    "\n",
    "# Grass%_100 as the target\n",
    "target = pd.DataFrame(gdf_100, columns=['Grass%_100'])\n",
    "\n",
    "# define X and y\n",
    "X = df\n",
    "y = target['Grass%_100']\n",
    "\n",
    "# split independent and dependent variables into training and test data\n",
    "X_train, X_test, y_train, y_test = train_test_split(X, y, test_size=0.2, random_state=0)\n",
    "\n",
    "# fit the linear model\n",
    "lm_100 = linear_model.LinearRegression()\n",
    "model_100 = lm_100.fit(X_train,y_train)"
   ]
  },
  {
   "cell_type": "code",
   "execution_count": 28,
   "id": "ac5b0193",
   "metadata": {},
   "outputs": [
    {
     "name": "stdout",
     "output_type": "stream",
     "text": [
      "Coefficient of NDVI_100 (or slope): [0.43524323]\n",
      "Intercept: -0.11750680018851642\n",
      "R-squared: 0.1571136918225765\n"
     ]
    }
   ],
   "source": [
    "# linear model coefficient, intercept, and R-squared \n",
    "print('Coefficient of NDVI_100 (or slope):', model_100.coef_)\n",
    "print('Intercept:', model_100.intercept_)\n",
    "print('R-squared:', model_100.score(X_train,y_train))"
   ]
  },
  {
   "cell_type": "code",
   "execution_count": 29,
   "id": "3f9c1c90",
   "metadata": {},
   "outputs": [],
   "source": [
    "# make predictions\n",
    "y_pred = model_100.predict(X_test)\n",
    "\n",
    "# compare actual values with predicted ones\n",
    "df = pd.DataFrame({'Actual': y_test, 'Predicted': y_pred})\n",
    "\n",
    "# convert X_test to array values (for later use when plotting)\n",
    "X_test = X_test.iloc[:, 0:1].values"
   ]
  },
  {
   "cell_type": "code",
   "execution_count": 30,
   "id": "9a356e99",
   "metadata": {},
   "outputs": [
    {
     "name": "stdout",
     "output_type": "stream",
     "text": [
      "Mean Absolute Error: 0.11148451456320206\n",
      "Mean Squared Error: 0.02698600149400303\n",
      "Root Mean Squared Error: 0.164274165631736\n"
     ]
    }
   ],
   "source": [
    "# evaluate the model\n",
    "print('Mean Absolute Error:', metrics.mean_absolute_error(y_test, y_pred))\n",
    "print('Mean Squared Error:', metrics.mean_squared_error(y_test, y_pred))\n",
    "print('Root Mean Squared Error:', np.sqrt(metrics.mean_squared_error(y_test, y_pred)))"
   ]
  },
  {
   "cell_type": "code",
   "execution_count": 31,
   "id": "656e8597",
   "metadata": {},
   "outputs": [
    {
     "data": {
      "image/png": "[encoded data removed]",
      "text/plain": [
       "<Figure size 432x288 with 1 Axes>"
      ]
     },
     "metadata": {
      "needs_background": "light"
     },
     "output_type": "display_data"
    }
   ],
   "source": [
    "# plot outputs\n",
    "plt.scatter(X_test, y_test, color=\"forestgreen\")\n",
    "plt.plot(X_test, y_pred, color=\"black\", linewidth=2)\n",
    "\n",
    "plt.xticks(np.arange(0, 1.1, step = 0.2))\n",
    "plt.yticks(np.arange(0, 1.1, step = 0.2))\n",
    "\n",
    "# set title, xlabel and ylabel\n",
    "plt.title('Linear Regression Model at 100m')\n",
    "plt.xlabel('NDVI_100')\n",
    "plt.ylabel('Grass%_100')\n",
    "\n",
    "# save the figure\n",
    "plt.savefig('thesis_project/visualizations/modelling/lm_ndvi_grass_100_plot.png', dpi=300, bbox_inches='tight')\n",
    "\n",
    "plt.show()"
   ]
  },
  {
   "cell_type": "markdown",
   "id": "71afcac1",
   "metadata": {},
   "source": [
    "#### 1.3.2. Generalized Additive Model (GAM)"
   ]
  },
  {
   "cell_type": "code",
   "execution_count": 150,
   "id": "c2959323",
   "metadata": {},
   "outputs": [
    {
     "name": "stdout",
     "output_type": "stream",
     "text": [
      "LinearGAM                                                                                                 \n",
      "=============================================== ==========================================================\n",
      "Distribution:                        NormalDist Effective DoF:                                     14.2816\n",
      "Link Function:                     IdentityLink Log Likelihood:                                -80755.4988\n",
      "Number of Samples:                         4668 AIC:                                           161541.5608\n",
      "                                                AICc:                                          161541.6678\n",
      "                                                GCV:                                                 0.025\n",
      "                                                Scale:                                              0.0248\n",
      "                                                Pseudo R-Squared:                                   0.1975\n",
      "==========================================================================================================\n",
      "Feature Function                  Lambda               Rank         EDoF         P > x        Sig. Code   \n",
      "================================= ==================== ============ ============ ============ ============\n",
      "s(0)                              [0.6]                20           14.3         1.11e-16     ***         \n",
      "intercept                                              1            0.0          8.38e-13     ***         \n",
      "==========================================================================================================\n",
      "Significance codes:  0 '***' 0.001 '**' 0.01 '*' 0.05 '.' 0.1 ' ' 1\n",
      "\n",
      "WARNING: Fitting splines and a linear function to a feature introduces a model identifiability problem\n",
      "         which can cause p-values to appear significant when they are not.\n",
      "\n",
      "WARNING: p-values calculated in this manner behave correctly for un-penalized models or models with\n",
      "         known smoothing parameters, but when smoothing parameters have been estimated, the p-values\n",
      "         are typically lower than they should be, meaning that the tests reject the null too readily.\n"
     ]
    },
    {
     "name": "stderr",
     "output_type": "stream",
     "text": [
      "/Applications/anaconda3/envs/ssml/lib/python3.9/site-packages/pygam/pygam.py:752: RuntimeWarning: invalid value encountered in reciprocal\n",
      "  np.fill_diagonal(Dinv, d**-1) # invert the singular values\n",
      "/var/folders/6g/kgz5rml118s6lqw25w5sv5mr0000gn/T/ipykernel_3269/191219612.py:19: UserWarning: KNOWN BUG: p-values computed in this summary are likely much smaller than they should be. \n",
      " \n",
      "Please do not make inferences based on these values! \n",
      "\n",
      "Collaborate on a solution, and stay up to date at: \n",
      "github.com/dswah/pyGAM/issues/163 \n",
      "\n",
      "  gam_100.summary()\n"
     ]
    }
   ],
   "source": [
    "# data/predictors as the NDVI_100\n",
    "df = pd.DataFrame(gdf_100, columns=['NDVI_100'])\n",
    "\n",
    "# target as Grass%_100\n",
    "target = pd.DataFrame(gdf_100, columns=['Grass%_100'])\n",
    "\n",
    "# define X and Y\n",
    "X = df\n",
    "y = target['Grass%_100']\n",
    "\n",
    "# split independent and dependent variables into training and test data\n",
    "X_train, X_test, y_train, y_test = train_test_split(X, y, test_size=0.2, random_state=0)\n",
    "\n",
    "# fit GAM model\n",
    "#gam_100 = LinearGAM(s(0, n_splines=25)).fit(X_train, y_train, weights=None)\n",
    "gam_100 = LinearGAM(s(0)).fit(X_train, y_train, weights=None)\n",
    "\n",
    "# check model statistics\n",
    "gam_100.summary()"
   ]
  },
  {
   "cell_type": "code",
   "execution_count": 151,
   "id": "2fc141a7",
   "metadata": {},
   "outputs": [],
   "source": [
    "# convert X_test and y_test to array values\n",
    "#y_test = y_test.iloc[:, 0:1].values\n",
    "X_test = X_test.iloc[:, 0:1].values\n",
    "\n",
    "# make predictions\n",
    "y_pred = gam_100.predict(X_test)"
   ]
  },
  {
   "cell_type": "code",
   "execution_count": 152,
   "id": "4007f1a3",
   "metadata": {},
   "outputs": [
    {
     "data": {
      "image/png": "[encoded data removed]",
      "text/plain": [
       "<Figure size 432x288 with 1 Axes>"
      ]
     },
     "metadata": {
      "needs_background": "light"
     },
     "output_type": "display_data"
    }
   ],
   "source": [
    "# plot output\n",
    "plt.scatter(X_test, y_test, color=\"forestgreen\")\n",
    "plt.plot(X_test, y_pred, color=\"black\", linewidth=2)\n",
    "\n",
    "# set title, xlabel and ylabel\n",
    "plt.title('Generalized Additive Model (GAM) at 100m')\n",
    "plt.xlabel('NDVI_100')\n",
    "plt.ylabel('Grass%_100')\n",
    "\n",
    "# save the figure\n",
    "plt.savefig('thesis_project/visualizations/modelling/gam_ndvi_grass_100_plot.png', dpi=300, bbox_inches='tight')\n",
    "\n",
    "plt.show()"
   ]
  },
  {
   "cell_type": "code",
   "execution_count": 153,
   "id": "4aff0fc9",
   "metadata": {},
   "outputs": [
    {
     "name": "stdout",
     "output_type": "stream",
     "text": [
      "If NDVI goes from 0.25 to 0.35, Grass%_100 increases by: 0.02237798115215814\n"
     ]
    }
   ],
   "source": [
    "# Change in low NDVI values: how does Grass% increase, if NDVI changes from 0.25 to 0.35?\n",
    "grass_l0 = gam_100.predict(0.25)\n",
    "grass_l1 = gam_100.predict(0.35)\n",
    "grass_sens_low = float(grass_l1 - grass_l0)\n",
    "print('If NDVI goes from 0.25 to 0.35, Grass%_100 increases by:', grass_sens_low)"
   ]
  },
  {
   "cell_type": "code",
   "execution_count": 154,
   "id": "142ad7ec",
   "metadata": {},
   "outputs": [
    {
     "name": "stdout",
     "output_type": "stream",
     "text": [
      "If NDVI goes from 0.45 to 0.55, Grass%_100 increases by: 0.03839167913941796\n"
     ]
    }
   ],
   "source": [
    "# Change in mid NDVI values: how does Grass% increase, if NDVI changes from 0.45 to 0.55?\n",
    "grass_m0 = gam_100.predict(0.45)\n",
    "grass_m1 = gam_100.predict(0.55)\n",
    "grass_sens_mid = float(grass_m1 - grass_m0)\n",
    "print('If NDVI goes from 0.45 to 0.55, Grass%_100 increases by:', grass_sens_mid)"
   ]
  },
  {
   "cell_type": "code",
   "execution_count": 155,
   "id": "72e407ef",
   "metadata": {},
   "outputs": [
    {
     "name": "stdout",
     "output_type": "stream",
     "text": [
      "If NDVI goes from 0.65 to 0.75, Grass%_100 increases by: 0.023844990079469025\n"
     ]
    }
   ],
   "source": [
    "# Change in high NDVI values: how does Grass% increase, if NDVI changes from 0.65 to 0.75?\n",
    "grass_h0 = gam_100.predict(0.65)\n",
    "grass_h1 = gam_100.predict(0.75)\n",
    "grass_sens_hig = float(grass_h1 - grass_h0)\n",
    "print('If NDVI goes from 0.65 to 0.75, Grass%_100 increases by:', grass_sens_hig)"
   ]
  },
  {
   "cell_type": "markdown",
   "id": "8b5e0c3d",
   "metadata": {},
   "source": [
    "### 1.4. How does NDVI predict Shrubs%?"
   ]
  },
  {
   "cell_type": "markdown",
   "id": "ce98adb9",
   "metadata": {},
   "source": [
    "#### 1.4.1. Linear Regression Model"
   ]
  },
  {
   "cell_type": "code",
   "execution_count": 93,
   "id": "9b38824a",
   "metadata": {},
   "outputs": [],
   "source": [
    "# data/predictors as the NDVI_100\n",
    "df_100 = pd.DataFrame(gdf_100, columns=['NDVI_100'])\n",
    "\n",
    "# target as Shrubs%_100\n",
    "target_100 = pd.DataFrame(gdf_100, columns=['Shrubs%_100'])\n",
    "\n",
    "# define X and y\n",
    "X = df_100\n",
    "y = target_100['Shrubs%_100']\n",
    "\n",
    "# split independent and dependent variables into training and test data\n",
    "X_train, X_test, y_train, y_test = train_test_split(X, y, test_size=0.2, random_state=0)\n",
    "\n",
    "# fit the linear model\n",
    "lm_100 = linear_model.LinearRegression()\n",
    "model_100 = lm_100.fit(X_train,y_train)"
   ]
  },
  {
   "cell_type": "code",
   "execution_count": 94,
   "id": "cebdbcf8",
   "metadata": {},
   "outputs": [
    {
     "name": "stdout",
     "output_type": "stream",
     "text": [
      "Coefficient of NDVI_100 (or slope): [0.69347401]\n",
      "Intercept: -0.10792750488582803\n",
      "R-squared: 0.15437465426410546\n"
     ]
    }
   ],
   "source": [
    "\n",
    "# linear model coefficient, intercept, and R-squared \n",
    "print('Coefficient of NDVI_100 (or slope):', model_100.coef_)\n",
    "print('Intercept:', model_100.intercept_)\n",
    "print('R-squared:', model_100.score(X_train,y_train))"
   ]
  },
  {
   "cell_type": "code",
   "execution_count": 95,
   "id": "edb09967",
   "metadata": {},
   "outputs": [],
   "source": [
    "# make predictions\n",
    "y_pred = model_100.predict(X_test)\n",
    "\n",
    "# compare actual values with predicted ones\n",
    "df_pred = pd.DataFrame({'Actual': y_test, 'Predicted': y_pred})\n",
    "\n",
    "# convert X_test to array values\n",
    "X_test = X_test.iloc[:, 0:1].values"
   ]
  },
  {
   "cell_type": "code",
   "execution_count": 96,
   "id": "e7e6957f",
   "metadata": {},
   "outputs": [
    {
     "name": "stdout",
     "output_type": "stream",
     "text": [
      "Mean Absolute Error: 0.19142208007866623\n",
      "Mean Squared Error: 0.062005786548886034\n",
      "Root Mean Squared Error: 0.24900961135844946\n"
     ]
    }
   ],
   "source": [
    "# evaluate the model\n",
    "print('Mean Absolute Error:', metrics.mean_absolute_error(y_test, y_pred))\n",
    "print('Mean Squared Error:', metrics.mean_squared_error(y_test, y_pred))\n",
    "print('Root Mean Squared Error:', np.sqrt(metrics.mean_squared_error(y_test, y_pred)))"
   ]
  },
  {
   "cell_type": "code",
   "execution_count": 97,
   "id": "1db53477",
   "metadata": {},
   "outputs": [
    {
     "data": {
      "image/png": "[encoded data removed]",
      "text/plain": [
       "<Figure size 432x288 with 1 Axes>"
      ]
     },
     "metadata": {
      "needs_background": "light"
     },
     "output_type": "display_data"
    }
   ],
   "source": [
    "# plot outputs\n",
    "plt.scatter(X_test, y_test, color=\"forestgreen\")\n",
    "plt.plot(X_test, y_pred, color=\"black\", linewidth=2)\n",
    "\n",
    "plt.xticks(np.arange(0, 1.1, step = 0.2))\n",
    "plt.yticks(np.arange(0, 1.1, step = 0.2))\n",
    "\n",
    "# set title, xlabel and ylabel\n",
    "plt.title('Linear Regression Model at 100m')\n",
    "plt.xlabel('NDVI_100')\n",
    "plt.ylabel('Shrubs%_100')\n",
    "\n",
    "# save the figure\n",
    "plt.savefig('thesis_project/visualizations/modelling/lm_ndvi_shrubs_100_plot.png', dpi=300, bbox_inches='tight')\n",
    "\n",
    "plt.show()"
   ]
  },
  {
   "cell_type": "markdown",
   "id": "65db9c88",
   "metadata": {},
   "source": [
    "#### 1.4.2. Generalized Additive Model (GAM)"
   ]
  },
  {
   "cell_type": "code",
   "execution_count": 163,
   "id": "0623a0bb",
   "metadata": {},
   "outputs": [
    {
     "name": "stdout",
     "output_type": "stream",
     "text": [
      "LinearGAM                                                                                                 \n",
      "=============================================== ==========================================================\n",
      "Distribution:                        NormalDist Effective DoF:                                     14.2816\n",
      "Link Function:                     IdentityLink Log Likelihood:                                -26814.1147\n",
      "Number of Samples:                         4668 AIC:                                            53658.7926\n",
      "                                                AICc:                                           53658.8996\n",
      "                                                GCV:                                                0.0665\n",
      "                                                Scale:                                              0.0661\n",
      "                                                Pseudo R-Squared:                                   0.1732\n",
      "==========================================================================================================\n",
      "Feature Function                  Lambda               Rank         EDoF         P > x        Sig. Code   \n",
      "================================= ==================== ============ ============ ============ ============\n",
      "s(0)                              [0.6]                20           14.3         1.11e-16     ***         \n",
      "intercept                                              1            0.0          2.22e-05     ***         \n",
      "==========================================================================================================\n",
      "Significance codes:  0 '***' 0.001 '**' 0.01 '*' 0.05 '.' 0.1 ' ' 1\n",
      "\n",
      "WARNING: Fitting splines and a linear function to a feature introduces a model identifiability problem\n",
      "         which can cause p-values to appear significant when they are not.\n",
      "\n",
      "WARNING: p-values calculated in this manner behave correctly for un-penalized models or models with\n",
      "         known smoothing parameters, but when smoothing parameters have been estimated, the p-values\n",
      "         are typically lower than they should be, meaning that the tests reject the null too readily.\n"
     ]
    },
    {
     "name": "stderr",
     "output_type": "stream",
     "text": [
      "/Applications/anaconda3/envs/ssml/lib/python3.9/site-packages/pygam/pygam.py:752: RuntimeWarning: invalid value encountered in reciprocal\n",
      "  np.fill_diagonal(Dinv, d**-1) # invert the singular values\n",
      "/var/folders/6g/kgz5rml118s6lqw25w5sv5mr0000gn/T/ipykernel_3269/2700002944.py:19: UserWarning: KNOWN BUG: p-values computed in this summary are likely much smaller than they should be. \n",
      " \n",
      "Please do not make inferences based on these values! \n",
      "\n",
      "Collaborate on a solution, and stay up to date at: \n",
      "github.com/dswah/pyGAM/issues/163 \n",
      "\n",
      "  gam_100.summary()\n"
     ]
    }
   ],
   "source": [
    "# data/predictors as the NDVI_100\n",
    "df_100 = pd.DataFrame(gdf_100, columns=['NDVI_100'])\n",
    "\n",
    "# target as Shrubs%_100\n",
    "target_100 = pd.DataFrame(gdf_100, columns=['Shrubs%_100'])\n",
    "\n",
    "# define X and Y\n",
    "X = df_100\n",
    "y = target_100['Shrubs%_100']\n",
    "\n",
    "# split independent and dependent variables into training and test data\n",
    "X_train, X_test, y_train, y_test = train_test_split(X, y, test_size=0.2, random_state=0)\n",
    "\n",
    "# fit GAM model\n",
    "#gam_100 = LinearGAM(s(0, n_splines=25)).fit(X_train, y_train, weights=None)\n",
    "gam_100 = LinearGAM(s(0)).fit(X_train, y_train, weights=None)\n",
    "\n",
    "# check model statistics\n",
    "gam_100.summary()"
   ]
  },
  {
   "cell_type": "code",
   "execution_count": 164,
   "id": "7cb25b4a",
   "metadata": {},
   "outputs": [],
   "source": [
    "# convert X_test and y_test to array values\n",
    "#y_test = y_test.iloc[:, 0:1].values\n",
    "X_test = X_test.iloc[:, 0:1].values\n",
    "\n",
    "# make predictions\n",
    "y_pred = gam_100.predict(X_test)"
   ]
  },
  {
   "cell_type": "code",
   "execution_count": 165,
   "id": "d08266c6",
   "metadata": {},
   "outputs": [
    {
     "data": {
      "image/png": "[encoded data removed]",
      "text/plain": [
       "<Figure size 432x288 with 1 Axes>"
      ]
     },
     "metadata": {
      "needs_background": "light"
     },
     "output_type": "display_data"
    }
   ],
   "source": [
    "# plot output\n",
    "plt.scatter(X_test, y_test, color=\"forestgreen\")\n",
    "plt.plot(X_test, y_pred, color=\"black\", linewidth=2)\n",
    "\n",
    "# set title, xlabel and ylabel\n",
    "plt.title('Generalized Additive Model (GAM) at 100m')\n",
    "plt.xlabel('NDVI_100')\n",
    "plt.ylabel('Shrubs%_100')\n",
    "\n",
    "# save the figure\n",
    "plt.savefig('thesis_project/visualizations/modelling/gam_ndvi_shrubs_100_plot.png', dpi=300, bbox_inches='tight')\n",
    "\n",
    "plt.show()"
   ]
  },
  {
   "cell_type": "code",
   "execution_count": 166,
   "id": "1ceffedf",
   "metadata": {},
   "outputs": [
    {
     "name": "stdout",
     "output_type": "stream",
     "text": [
      "If NDVI goes from 0.25 to 0.35, Shrubs%_100 increases by: 0.03598841281587113\n"
     ]
    }
   ],
   "source": [
    "# Change in low NDVI values: how does Shrubs% increase, if NDVI changes from 0.25 to 0.35?\n",
    "shrubs_l0 = gam_100.predict(0.25)\n",
    "shrubs_l1 = gam_100.predict(0.35)\n",
    "shrubs_sens_low = float(shrubs_l1 - shrubs_l0)\n",
    "print('If NDVI goes from 0.25 to 0.35, Shrubs%_100 increases by:', shrubs_sens_low)"
   ]
  },
  {
   "cell_type": "code",
   "execution_count": 167,
   "id": "181798b3",
   "metadata": {},
   "outputs": [
    {
     "name": "stdout",
     "output_type": "stream",
     "text": [
      "If NDVI goes from 0.45 to 0.55, Shrubs%_100 increases by: 0.10116356687125766\n"
     ]
    }
   ],
   "source": [
    "# Change in mid NDVI values: how does Shrubs% increase, if NDVI changes from 0.45 to 0.55?\n",
    "shrubs_m0 = gam_100.predict(0.45)\n",
    "shrubs_m1 = gam_100.predict(0.55)\n",
    "shrubs_sens_mid = float(shrubs_m1 - shrubs_m0)\n",
    "print('If NDVI goes from 0.45 to 0.55, Shrubs%_100 increases by:', shrubs_sens_mid)"
   ]
  },
  {
   "cell_type": "code",
   "execution_count": 168,
   "id": "3fef61f2",
   "metadata": {},
   "outputs": [
    {
     "name": "stdout",
     "output_type": "stream",
     "text": [
      "If NDVI goes from 0.65 to 0.75, Shrubs%_100 increases by: 0.08318956871732286\n"
     ]
    }
   ],
   "source": [
    "# Change in high NDVI values: how does Shrubs% increase, if NDVI changes from 0.65 to 0.75?\n",
    "shrubs_h0 = gam_100.predict(0.65)\n",
    "shrubs_h1 = gam_100.predict(0.75)\n",
    "shrubs_sens_hig = float(shrubs_h1 - shrubs_h0)\n",
    "print('If NDVI goes from 0.65 to 0.75, Shrubs%_100 increases by:', shrubs_sens_hig)"
   ]
  },
  {
   "cell_type": "markdown",
   "id": "8bc3e79c",
   "metadata": {},
   "source": [
    "### 1.5. How do Grass%, Canopy%, and Shrubs% predict NDVI?"
   ]
  },
  {
   "cell_type": "code",
   "execution_count": 54,
   "id": "636f2f91",
   "metadata": {},
   "outputs": [
    {
     "name": "stdout",
     "output_type": "stream",
     "text": [
      "LinearGAM                                                                                                 \n",
      "=============================================== ==========================================================\n",
      "Distribution:                        NormalDist Effective DoF:                                     44.8539\n",
      "Link Function:                     IdentityLink Log Likelihood:                               -182983.3579\n",
      "Number of Samples:                         4668 AIC:                                           366058.4235\n",
      "                                                AICc:                                          366059.3533\n",
      "                                                GCV:                                                0.0118\n",
      "                                                Scale:                                              0.0116\n",
      "                                                Pseudo R-Squared:                                   0.5514\n",
      "==========================================================================================================\n",
      "Feature Function                  Lambda               Rank         EDoF         P > x        Sig. Code   \n",
      "================================= ==================== ============ ============ ============ ============\n",
      "s(0)                              [0.6]                20           15.3         1.11e-16     ***         \n",
      "s(1)                              [0.6]                20           14.1         1.11e-16     ***         \n",
      "s(2)                              [0.6]                20           15.4         1.11e-16     ***         \n",
      "intercept                                              1            0.0          1.11e-16     ***         \n",
      "==========================================================================================================\n",
      "Significance codes:  0 '***' 0.001 '**' 0.01 '*' 0.05 '.' 0.1 ' ' 1\n",
      "\n",
      "WARNING: Fitting splines and a linear function to a feature introduces a model identifiability problem\n",
      "         which can cause p-values to appear significant when they are not.\n",
      "\n",
      "WARNING: p-values calculated in this manner behave correctly for un-penalized models or models with\n",
      "         known smoothing parameters, but when smoothing parameters have been estimated, the p-values\n",
      "         are typically lower than they should be, meaning that the tests reject the null too readily.\n"
     ]
    },
    {
     "name": "stderr",
     "output_type": "stream",
     "text": [
      "/Applications/anaconda3/envs/ssml/lib/python3.9/site-packages/pygam/pygam.py:752: RuntimeWarning: invalid value encountered in reciprocal\n",
      "  np.fill_diagonal(Dinv, d**-1) # invert the singular values\n",
      "/var/folders/6g/kgz5rml118s6lqw25w5sv5mr0000gn/T/ipykernel_3269/1087768425.py:23: UserWarning: KNOWN BUG: p-values computed in this summary are likely much smaller than they should be. \n",
      " \n",
      "Please do not make inferences based on these values! \n",
      "\n",
      "Collaborate on a solution, and stay up to date at: \n",
      "github.com/dswah/pyGAM/issues/163 \n",
      "\n",
      "  gam_100.summary()\n"
     ]
    }
   ],
   "source": [
    "# data/predictors as Grass%, Canopy%, and Shrubs%\n",
    "cols = ['Grass%_100', 'Canopy%_100', 'Shrubs%_100']\n",
    "df = pd.DataFrame(gdf_100, columns=cols)\n",
    "\n",
    "# target as NDVI_100\n",
    "target = pd.DataFrame(gdf_100, columns=['NDVI_100'])\n",
    "\n",
    "# define X and Y\n",
    "X = df\n",
    "y = target['NDVI_100']\n",
    "#X = df.iloc[:, 0:3].values\n",
    "\n",
    "# split independent and dependent variables into training and test data\n",
    "X_train, X_test, y_train, y_test = train_test_split(X, y, test_size=0.2, random_state=0)\n",
    "\n",
    "# model\n",
    "gam_100 = LinearGAM(s(0) + s(1) + s(2)).fit(X_train, y_train)\n",
    "#gam_100 = LinearGAM(n_splines=10).gridsearch(X, y)\n",
    "#gam_100 = LinearGAM(s(0) + s(1) + s(2))\n",
    "#gam_100.gridsearch(X, y)\n",
    "\n",
    "# check model statistics\n",
    "gam_100.summary()"
   ]
  },
  {
   "cell_type": "code",
   "execution_count": 89,
   "id": "75a3e169",
   "metadata": {},
   "outputs": [
    {
     "data": {
      "text/plain": [
       "<Figure size 432x288 with 0 Axes>"
      ]
     },
     "metadata": {},
     "output_type": "display_data"
    },
    {
     "data": {
      "image/png": "[encoded data removed]",
      "text/plain": [
       "<Figure size 432x288 with 3 Axes>"
      ]
     },
     "metadata": {
      "needs_background": "light"
     },
     "output_type": "display_data"
    }
   ],
   "source": [
    "## plotting\n",
    "plt.figure();\n",
    "fig, axs = plt.subplots(1,3);\n",
    "\n",
    "titles = ['Grass%_100', 'Canopy%_100', 'Shrubs%_100']\n",
    "for i, ax in enumerate(axs):\n",
    "    XX = gam_100.generate_X_grid(term=i)\n",
    "    ax.plot(XX[:, i], gam_100.partial_dependence(term=i, X=XX))\n",
    "    ax.plot(XX[:, i], gam_100.partial_dependence(term=i, X=XX, width=.95)[1], c='r', ls='--')\n",
    "    ax.set_ylim(-0.5, 0.5)\n",
    "    ax.set_xticks(list(ax.get_xticks()))\n",
    "    ax.hlines(y=0, xmin=0, xmax=1, linewidth=1, color='black', linestyle='--')\n",
    "    ax.set_ylabel('Predicted NDVI', fontsize=12)\n",
    "    ax.set_title(titles[i], fontsize=12);\n",
    "    \n",
    "# non-overlapping subplots\n",
    "plt.tight_layout()\n",
    "    \n",
    "# save the figure\n",
    "plt.savefig('thesis_project/visualizations/modelling/gam_ndvi_100_plot.png', dpi=300, bbox_inches='tight')\n",
    "\n",
    "plt.show()"
   ]
  },
  {
   "cell_type": "markdown",
   "id": "3f18a166",
   "metadata": {},
   "source": [
    "## 2. Modelling greenspace metrics at 300m"
   ]
  },
  {
   "cell_type": "code",
   "execution_count": 57,
   "id": "6a719d9f",
   "metadata": {},
   "outputs": [
    {
     "data": {
      "text/html": [
       "<div>\n",
       "<style scoped>\n",
       "    .dataframe tbody tr th:only-of-type {\n",
       "        vertical-align: middle;\n",
       "    }\n",
       "\n",
       "    .dataframe tbody tr th {\n",
       "        vertical-align: top;\n",
       "    }\n",
       "\n",
       "    .dataframe thead th {\n",
       "        text-align: right;\n",
       "    }\n",
       "</style>\n",
       "<table border=\"1\" class=\"dataframe\">\n",
       "  <thead>\n",
       "    <tr style=\"text-align: right;\">\n",
       "      <th></th>\n",
       "      <th>NDVI_300</th>\n",
       "      <th>Greenspace%_300</th>\n",
       "      <th>Canopy%_300</th>\n",
       "      <th>Grass%_300</th>\n",
       "      <th>Shrubs%_300</th>\n",
       "      <th>geometry</th>\n",
       "    </tr>\n",
       "  </thead>\n",
       "  <tbody>\n",
       "    <tr>\n",
       "      <th>0</th>\n",
       "      <td>0.281673</td>\n",
       "      <td>0.336101</td>\n",
       "      <td>1.897265e-01</td>\n",
       "      <td>0.037879</td>\n",
       "      <td>0.101613</td>\n",
       "      <td>POINT (382286.540 396971.736)</td>\n",
       "    </tr>\n",
       "    <tr>\n",
       "      <th>1</th>\n",
       "      <td>0.908959</td>\n",
       "      <td>0.961154</td>\n",
       "      <td>2.296515e-01</td>\n",
       "      <td>0.488981</td>\n",
       "      <td>0.274194</td>\n",
       "      <td>POINT (380292.947 385966.872)</td>\n",
       "    </tr>\n",
       "    <tr>\n",
       "      <th>2</th>\n",
       "      <td>0.662655</td>\n",
       "      <td>0.751865</td>\n",
       "      <td>2.449267e-01</td>\n",
       "      <td>0.125344</td>\n",
       "      <td>0.338441</td>\n",
       "      <td>POINT (388038.733 412187.156)</td>\n",
       "    </tr>\n",
       "    <tr>\n",
       "      <th>3</th>\n",
       "      <td>0.552645</td>\n",
       "      <td>0.994652</td>\n",
       "      <td>1.982036e-16</td>\n",
       "      <td>0.069215</td>\n",
       "      <td>0.897849</td>\n",
       "      <td>POINT (376338.417 418312.798)</td>\n",
       "    </tr>\n",
       "    <tr>\n",
       "      <th>4</th>\n",
       "      <td>0.783100</td>\n",
       "      <td>0.884166</td>\n",
       "      <td>2.393294e-01</td>\n",
       "      <td>0.173898</td>\n",
       "      <td>0.659140</td>\n",
       "      <td>POINT (400702.374 407703.870)</td>\n",
       "    </tr>\n",
       "  </tbody>\n",
       "</table>\n",
       "</div>"
      ],
      "text/plain": [
       "   NDVI_300  Greenspace%_300   Canopy%_300  Grass%_300  Shrubs%_300  \\\n",
       "0  0.281673         0.336101  1.897265e-01    0.037879     0.101613   \n",
       "1  0.908959         0.961154  2.296515e-01    0.488981     0.274194   \n",
       "2  0.662655         0.751865  2.449267e-01    0.125344     0.338441   \n",
       "3  0.552645         0.994652  1.982036e-16    0.069215     0.897849   \n",
       "4  0.783100         0.884166  2.393294e-01    0.173898     0.659140   \n",
       "\n",
       "                        geometry  \n",
       "0  POINT (382286.540 396971.736)  \n",
       "1  POINT (380292.947 385966.872)  \n",
       "2  POINT (388038.733 412187.156)  \n",
       "3  POINT (376338.417 418312.798)  \n",
       "4  POINT (400702.374 407703.870)  "
      ]
     },
     "execution_count": 57,
     "metadata": {},
     "output_type": "execute_result"
    }
   ],
   "source": [
    "# load greenspace metrics at 300m geodataframe\n",
    "gdf_300 = gpd.read_file(\"thesis_project/output/dataframes/greenspace_metrics_300_df.json\")\n",
    "gdf_300.head()"
   ]
  },
  {
   "cell_type": "markdown",
   "id": "1d5595d8",
   "metadata": {},
   "source": [
    "### 2.1. How does NDVI predict Greenspace%?"
   ]
  },
  {
   "cell_type": "markdown",
   "id": "f95fbe66",
   "metadata": {},
   "source": [
    "#### 2.1.1. Linear Regression Model"
   ]
  },
  {
   "cell_type": "code",
   "execution_count": 36,
   "id": "36673403",
   "metadata": {},
   "outputs": [],
   "source": [
    "# NDVI_300 as the predictor\n",
    "df = pd.DataFrame(gdf_300, columns=['NDVI_300'])\n",
    "\n",
    "# Greenspace%_300 as the target\n",
    "target = pd.DataFrame(gdf_300, columns=['Greenspace%_300'])\n",
    "\n",
    "# define X and y\n",
    "X = df\n",
    "y = target['Greenspace%_300']\n",
    "\n",
    "# split independent and dependent variables into training and test data\n",
    "X_train, X_test, y_train, y_test = train_test_split(X, y, test_size=0.2, random_state=0)\n",
    "\n",
    "# fit the linear model\n",
    "lm_300 = linear_model.LinearRegression()\n",
    "model_300 = lm_300.fit(X_train,y_train)"
   ]
  },
  {
   "cell_type": "code",
   "execution_count": 37,
   "id": "0b759d4f",
   "metadata": {},
   "outputs": [
    {
     "name": "stdout",
     "output_type": "stream",
     "text": [
      "Coefficient of NDVI_300 (or slope): [1.12608828]\n",
      "Intercept: 0.025260875380742398\n",
      "R-squared: 0.6735037485013325\n"
     ]
    }
   ],
   "source": [
    "# linear model coefficient, intercept, and R-squared \n",
    "print('Coefficient of NDVI_300 (or slope):', model_300.coef_)\n",
    "print('Intercept:', model_300.intercept_)\n",
    "print('R-squared:', model_300.score(X_train,y_train))"
   ]
  },
  {
   "cell_type": "code",
   "execution_count": 38,
   "id": "778d87a1",
   "metadata": {},
   "outputs": [],
   "source": [
    "# make predictions\n",
    "y_pred = model_300.predict(X_test)\n",
    "\n",
    "# compare actual values with predicted ones\n",
    "df = pd.DataFrame({'Actual': y_test, 'Predicted': y_pred})\n",
    "\n",
    "# convert X_test to array values (for later use when plotting)\n",
    "X_test = X_test.iloc[:, 0:1].values"
   ]
  },
  {
   "cell_type": "code",
   "execution_count": 39,
   "id": "58b51e04",
   "metadata": {},
   "outputs": [
    {
     "name": "stdout",
     "output_type": "stream",
     "text": [
      "Mean Absolute Error: 0.09313176412427915\n",
      "Mean Squared Error: 0.017602399077306513\n",
      "Root Mean Squared Error: 0.13267403316891557\n"
     ]
    }
   ],
   "source": [
    "# evaluate the model\n",
    "print('Mean Absolute Error:', metrics.mean_absolute_error(y_test, y_pred))\n",
    "print('Mean Squared Error:', metrics.mean_squared_error(y_test, y_pred))\n",
    "print('Root Mean Squared Error:', np.sqrt(metrics.mean_squared_error(y_test, y_pred)))"
   ]
  },
  {
   "cell_type": "code",
   "execution_count": 40,
   "id": "1c44a126",
   "metadata": {},
   "outputs": [
    {
     "data": {
      "image/png": "[encoded data removed]",
      "text/plain": [
       "<Figure size 432x288 with 1 Axes>"
      ]
     },
     "metadata": {
      "needs_background": "light"
     },
     "output_type": "display_data"
    }
   ],
   "source": [
    "# plot outputs\n",
    "plt.scatter(X_test, y_test, color=\"forestgreen\")\n",
    "plt.plot(X_test, y_pred, color=\"black\", linewidth=2)\n",
    "\n",
    "plt.xticks(np.arange(0, 1.1, step = 0.2))\n",
    "plt.yticks(np.arange(0, 1.1, step = 0.2))\n",
    "\n",
    "# set title, xlabel and ylabel\n",
    "plt.title('Linear Regression Model at 300m')\n",
    "plt.xlabel('NDVI_300')\n",
    "plt.ylabel('Greenspace%_300')\n",
    "\n",
    "# save the figure\n",
    "plt.savefig('thesis_project/visualizations/modelling/lm_ndvi_green_300_plot.png', dpi=300, bbox_inches='tight')\n",
    "\n",
    "plt.show()"
   ]
  },
  {
   "cell_type": "code",
   "execution_count": 41,
   "id": "2b4def1f",
   "metadata": {},
   "outputs": [
    {
     "name": "stdout",
     "output_type": "stream",
     "text": [
      "If NDVI goes from 0.3 to 0.4, Greenspace%_100 increases by: [0.11260883]\n"
     ]
    },
    {
     "name": "stderr",
     "output_type": "stream",
     "text": [
      "/Applications/anaconda3/envs/ssml/lib/python3.9/site-packages/sklearn/base.py:450: UserWarning: X does not have valid feature names, but LinearRegression was fitted with feature names\n",
      "  warnings.warn(\n",
      "/Applications/anaconda3/envs/ssml/lib/python3.9/site-packages/sklearn/base.py:450: UserWarning: X does not have valid feature names, but LinearRegression was fitted with feature names\n",
      "  warnings.warn(\n"
     ]
    }
   ],
   "source": [
    "# Change in NDVI values: how does Greenspace% increase, if NDVI changes from 0.3 to 0.4?\n",
    "green0 = model_300.predict([[0.3]])\n",
    "green1 = model_300.predict([[0.4]])\n",
    "print('If NDVI goes from 0.3 to 0.4, Greenspace%_100 increases by:', green1 - green0)"
   ]
  },
  {
   "cell_type": "markdown",
   "id": "45f540ac",
   "metadata": {},
   "source": [
    "#### 2.1.2. Generalized Additive Model (GAM)"
   ]
  },
  {
   "cell_type": "code",
   "execution_count": 42,
   "id": "396c23a6",
   "metadata": {},
   "outputs": [
    {
     "name": "stdout",
     "output_type": "stream",
     "text": [
      "LinearGAM                                                                                                 \n",
      "=============================================== ==========================================================\n",
      "Distribution:                        NormalDist Effective DoF:                                     15.3555\n",
      "Link Function:                     IdentityLink Log Likelihood:                                -121556.769\n",
      "Number of Samples:                         4688 AIC:                                            243146.249\n",
      "                                                AICc:                                          243146.3705\n",
      "                                                GCV:                                                0.0172\n",
      "                                                Scale:                                              0.0171\n",
      "                                                Pseudo R-Squared:                                   0.6975\n",
      "==========================================================================================================\n",
      "Feature Function                  Lambda               Rank         EDoF         P > x        Sig. Code   \n",
      "================================= ==================== ============ ============ ============ ============\n",
      "s(0)                              [0.6]                20           15.4         1.11e-16     ***         \n",
      "intercept                                              1            0.0          1.11e-16     ***         \n",
      "==========================================================================================================\n",
      "Significance codes:  0 '***' 0.001 '**' 0.01 '*' 0.05 '.' 0.1 ' ' 1\n",
      "\n",
      "WARNING: Fitting splines and a linear function to a feature introduces a model identifiability problem\n",
      "         which can cause p-values to appear significant when they are not.\n",
      "\n",
      "WARNING: p-values calculated in this manner behave correctly for un-penalized models or models with\n",
      "         known smoothing parameters, but when smoothing parameters have been estimated, the p-values\n",
      "         are typically lower than they should be, meaning that the tests reject the null too readily.\n"
     ]
    },
    {
     "name": "stderr",
     "output_type": "stream",
     "text": [
      "/Applications/anaconda3/envs/ssml/lib/python3.9/site-packages/pygam/pygam.py:752: RuntimeWarning: invalid value encountered in reciprocal\n",
      "  np.fill_diagonal(Dinv, d**-1) # invert the singular values\n",
      "/var/folders/6g/kgz5rml118s6lqw25w5sv5mr0000gn/T/ipykernel_2333/847380652.py:19: UserWarning: KNOWN BUG: p-values computed in this summary are likely much smaller than they should be. \n",
      " \n",
      "Please do not make inferences based on these values! \n",
      "\n",
      "Collaborate on a solution, and stay up to date at: \n",
      "github.com/dswah/pyGAM/issues/163 \n",
      "\n",
      "  gam_300.summary()\n"
     ]
    }
   ],
   "source": [
    "# data/predictors as the NDVI_300\n",
    "df_300 = pd.DataFrame(gdf_300, columns=['NDVI_300'])\n",
    "\n",
    "# target as Greenspace%_300\n",
    "target_300 = pd.DataFrame(gdf_300, columns=['Greenspace%_300'])\n",
    "\n",
    "# define X and Y\n",
    "X = df_300\n",
    "y = target_300['Greenspace%_300']\n",
    "\n",
    "# split independent and dependent variables into training and test data\n",
    "X_train, X_test, y_train, y_test = train_test_split(X, y, test_size=0.2, random_state=0)\n",
    "\n",
    "# fit GAM model\n",
    "#gam_300 = LinearGAM(s(0, n_splines=25)).fit(X_train, y_train, weights=None)\n",
    "gam_300 = LinearGAM(s(0)).fit(X_train, y_train, weights=None)\n",
    "\n",
    "# check model statistics\n",
    "gam_300.summary()"
   ]
  },
  {
   "cell_type": "code",
   "execution_count": 43,
   "id": "aa811a49",
   "metadata": {},
   "outputs": [],
   "source": [
    "# convert X_test and y_test to array values\n",
    "#y_test = y_test.iloc[:, 0:1].values\n",
    "X_test = X_test.iloc[:, 0:1].values\n",
    "\n",
    "# make predictions\n",
    "y_pred = gam_300.predict(X_test)"
   ]
  },
  {
   "cell_type": "code",
   "execution_count": 44,
   "id": "61b876b3",
   "metadata": {},
   "outputs": [
    {
     "data": {
      "image/png": "[encoded data removed]",
      "text/plain": [
       "<Figure size 432x288 with 1 Axes>"
      ]
     },
     "metadata": {
      "needs_background": "light"
     },
     "output_type": "display_data"
    }
   ],
   "source": [
    "# plot output\n",
    "plt.scatter(X_test, y_test, color=\"forestgreen\")\n",
    "plt.plot(X_test, y_pred, color=\"black\", linewidth=2)\n",
    "\n",
    "# set title, xlabel and ylabel\n",
    "plt.title('Generalized Additive Model (GAM) at 300m')\n",
    "plt.xlabel('NDVI_300')\n",
    "plt.ylabel('Greenspace%_300')\n",
    "\n",
    "# save the figure\n",
    "plt.savefig('thesis_project/visualizations/modelling/gam_ndvi_green_300_plot.png', dpi=300, bbox_inches='tight')\n",
    "\n",
    "plt.show()"
   ]
  },
  {
   "cell_type": "code",
   "execution_count": 45,
   "id": "3daefd81",
   "metadata": {},
   "outputs": [
    {
     "name": "stdout",
     "output_type": "stream",
     "text": [
      "If NDVI goes from 0.25 to 0.35, Greenspace%_100 increases by: [0.11849471]\n"
     ]
    }
   ],
   "source": [
    "# Change in low NDVI values: how does Greenspace% increase, if NDVI changes from 0.25 to 0.35?\n",
    "green_l0 = gam_300.predict(0.25)\n",
    "green_l1 = gam_300.predict(0.35)\n",
    "print('If NDVI goes from 0.25 to 0.35, Greenspace%_100 increases by:', green_l1 - green_l0)"
   ]
  },
  {
   "cell_type": "code",
   "execution_count": 46,
   "id": "99e6dfe8",
   "metadata": {},
   "outputs": [
    {
     "name": "stdout",
     "output_type": "stream",
     "text": [
      "If NDVI goes from 0.45 to 0.55, Greenspace%_100 increases by: [0.15972124]\n"
     ]
    }
   ],
   "source": [
    "# Change in medium NDVI values: how does Greenspace% increase, if NDVI changes from 0.45 to 0.55?\n",
    "green_m0 = gam_300.predict(0.45)\n",
    "green_m1 = gam_300.predict(0.55)\n",
    "print('If NDVI goes from 0.45 to 0.55, Greenspace%_100 increases by:', green_m1 - green_m0)"
   ]
  },
  {
   "cell_type": "code",
   "execution_count": 47,
   "id": "8a3b269e",
   "metadata": {},
   "outputs": [
    {
     "name": "stdout",
     "output_type": "stream",
     "text": [
      "If NDVI goes from 0.65 to 0.75, Greenspace%_100 increases by: [0.09143221]\n"
     ]
    }
   ],
   "source": [
    "# Change in high NDVI values: how does Greenspace% increase, if NDVI changes from 0.65 to 0.75?\n",
    "green_h0 = gam_300.predict(0.65)\n",
    "green_h1 = gam_300.predict(0.75)\n",
    "print('If NDVI goes from 0.65 to 0.75, Greenspace%_100 increases by:', green_h1 - green_h0)"
   ]
  },
  {
   "cell_type": "markdown",
   "id": "a74e162b",
   "metadata": {},
   "source": [
    "### 2.2. How does NDVI predict Canopy%?"
   ]
  },
  {
   "cell_type": "markdown",
   "id": "c3fb948c",
   "metadata": {},
   "source": [
    "#### 2.2.1. Linear Regression Model"
   ]
  },
  {
   "cell_type": "code",
   "execution_count": 48,
   "id": "c5a97c2a",
   "metadata": {},
   "outputs": [],
   "source": [
    "# NDVI_300 as the predictor\n",
    "df = pd.DataFrame(gdf_300, columns=['NDVI_300'])\n",
    "\n",
    "# Canopy%_300 as the target\n",
    "target = pd.DataFrame(gdf_300, columns=['Canopy%_300'])\n",
    "\n",
    "# define X and y\n",
    "X = df\n",
    "y = target['Canopy%_300']\n",
    "\n",
    "# split independent and dependent variables into training and test data\n",
    "X_train, X_test, y_train, y_test = train_test_split(X, y, test_size=0.2, random_state=0)\n",
    "\n",
    "# fit the linear model\n",
    "lm_300 = linear_model.LinearRegression()\n",
    "model_300 = lm_300.fit(X_train,y_train)"
   ]
  },
  {
   "cell_type": "code",
   "execution_count": 49,
   "id": "a0b35004",
   "metadata": {},
   "outputs": [
    {
     "name": "stdout",
     "output_type": "stream",
     "text": [
      "Coefficient of NDVI_300 (or slope): [-0.08309671]\n",
      "Intercept: 0.28283368242176493\n",
      "R-squared: 0.008500217422386491\n"
     ]
    }
   ],
   "source": [
    "# linear model coefficient, intercept, and R-squared \n",
    "print('Coefficient of NDVI_300 (or slope):', model_300.coef_)\n",
    "print('Intercept:', model_300.intercept_)\n",
    "print('R-squared:', model_300.score(X_train,y_train))"
   ]
  },
  {
   "cell_type": "code",
   "execution_count": 50,
   "id": "e7657482",
   "metadata": {},
   "outputs": [],
   "source": [
    "# make predictions\n",
    "y_pred = model_300.predict(X_test)\n",
    "\n",
    "# compare actual values with predicted ones\n",
    "df = pd.DataFrame({'Actual': y_test, 'Predicted': y_pred})\n",
    "\n",
    "# convert X_test to array values (for later use when plotting)\n",
    "X_test = X_test.iloc[:, 0:1].values"
   ]
  },
  {
   "cell_type": "code",
   "execution_count": 51,
   "id": "44ba80ef",
   "metadata": {},
   "outputs": [
    {
     "name": "stdout",
     "output_type": "stream",
     "text": [
      "Mean Absolute Error: 0.11585049308665299\n",
      "Mean Squared Error: 0.022159794217830577\n",
      "Root Mean Squared Error: 0.14886166134310935\n"
     ]
    }
   ],
   "source": [
    "# evaluate the model\n",
    "print('Mean Absolute Error:', metrics.mean_absolute_error(y_test, y_pred))\n",
    "print('Mean Squared Error:', metrics.mean_squared_error(y_test, y_pred))\n",
    "print('Root Mean Squared Error:', np.sqrt(metrics.mean_squared_error(y_test, y_pred)))"
   ]
  },
  {
   "cell_type": "code",
   "execution_count": 52,
   "id": "c40137b7",
   "metadata": {},
   "outputs": [
    {
     "data": {
      "image/png": "[encoded data removed]",
      "text/plain": [
       "<Figure size 432x288 with 1 Axes>"
      ]
     },
     "metadata": {
      "needs_background": "light"
     },
     "output_type": "display_data"
    }
   ],
   "source": [
    "# plot outputs\n",
    "plt.scatter(X_test, y_test, color=\"forestgreen\")\n",
    "plt.plot(X_test, y_pred, color=\"black\", linewidth=2)\n",
    "\n",
    "plt.xticks(np.arange(0, 1.1, step = 0.2))\n",
    "plt.yticks(np.arange(0, 1.1, step = 0.2))\n",
    "\n",
    "# set title, xlabel and ylabel\n",
    "plt.title('Linear Regression Model at 300m')\n",
    "plt.xlabel('NDVI_300')\n",
    "plt.ylabel('Canopy%_300')\n",
    "\n",
    "# save the figure\n",
    "plt.savefig('thesis_project/visualizations/modelling/lm_ndvi_canopy_300_plot.png', dpi=300, bbox_inches='tight')\n",
    "\n",
    "plt.show()"
   ]
  },
  {
   "cell_type": "markdown",
   "id": "a6eaa0e9",
   "metadata": {},
   "source": [
    "#### 2.2.2. Generalized Additive Model (GAM)"
   ]
  },
  {
   "cell_type": "code",
   "execution_count": 53,
   "id": "c3a322e7",
   "metadata": {},
   "outputs": [
    {
     "name": "stdout",
     "output_type": "stream",
     "text": [
      "LinearGAM                                                                                                 \n",
      "=============================================== ==========================================================\n",
      "Distribution:                        NormalDist Effective DoF:                                     15.3555\n",
      "Link Function:                     IdentityLink Log Likelihood:                                 -88420.996\n",
      "Number of Samples:                         4688 AIC:                                           176874.7029\n",
      "                                                AICc:                                          176874.8245\n",
      "                                                GCV:                                                0.0231\n",
      "                                                Scale:                                              0.0229\n",
      "                                                Pseudo R-Squared:                                   0.0611\n",
      "==========================================================================================================\n",
      "Feature Function                  Lambda               Rank         EDoF         P > x        Sig. Code   \n",
      "================================= ==================== ============ ============ ============ ============\n",
      "s(0)                              [0.6]                20           15.4         1.11e-16     ***         \n",
      "intercept                                              1            0.0          1.11e-16     ***         \n",
      "==========================================================================================================\n",
      "Significance codes:  0 '***' 0.001 '**' 0.01 '*' 0.05 '.' 0.1 ' ' 1\n",
      "\n",
      "WARNING: Fitting splines and a linear function to a feature introduces a model identifiability problem\n",
      "         which can cause p-values to appear significant when they are not.\n",
      "\n",
      "WARNING: p-values calculated in this manner behave correctly for un-penalized models or models with\n",
      "         known smoothing parameters, but when smoothing parameters have been estimated, the p-values\n",
      "         are typically lower than they should be, meaning that the tests reject the null too readily.\n"
     ]
    },
    {
     "name": "stderr",
     "output_type": "stream",
     "text": [
      "/Applications/anaconda3/envs/ssml/lib/python3.9/site-packages/pygam/pygam.py:752: RuntimeWarning: invalid value encountered in reciprocal\n",
      "  np.fill_diagonal(Dinv, d**-1) # invert the singular values\n",
      "/var/folders/6g/kgz5rml118s6lqw25w5sv5mr0000gn/T/ipykernel_2333/407199068.py:19: UserWarning: KNOWN BUG: p-values computed in this summary are likely much smaller than they should be. \n",
      " \n",
      "Please do not make inferences based on these values! \n",
      "\n",
      "Collaborate on a solution, and stay up to date at: \n",
      "github.com/dswah/pyGAM/issues/163 \n",
      "\n",
      "  gam_300.summary()\n"
     ]
    }
   ],
   "source": [
    "# data/predictors as the NDVI_300\n",
    "df_300 = pd.DataFrame(gdf_300, columns=['NDVI_300'])\n",
    "\n",
    "# target as Greenspace%_300\n",
    "target_300 = pd.DataFrame(gdf_300, columns=['Canopy%_300'])\n",
    "\n",
    "# define X and Y\n",
    "X = df_300\n",
    "y = target_300['Canopy%_300']\n",
    "\n",
    "# split independent and dependent variables into training and test data\n",
    "X_train, X_test, y_train, y_test = train_test_split(X, y, test_size=0.2, random_state=0)\n",
    "\n",
    "# fit GAM model\n",
    "#gam_300 = LinearGAM(s(0, n_splines=25)).fit(X_train, y_train, weights=None)\n",
    "gam_300 = LinearGAM(s(0)).fit(X_train, y_train, weights=None)\n",
    "\n",
    "# check model statistics\n",
    "gam_300.summary()"
   ]
  },
  {
   "cell_type": "code",
   "execution_count": 54,
   "id": "f9152b28",
   "metadata": {},
   "outputs": [],
   "source": [
    "# convert X_test and y_test to array values\n",
    "#y_test = y_test.iloc[:, 0:1].values\n",
    "X_test = X_test.iloc[:, 0:1].values\n",
    "\n",
    "# make predictions\n",
    "y_pred = gam_300.predict(X_test)"
   ]
  },
  {
   "cell_type": "code",
   "execution_count": 55,
   "id": "bf29d6a4",
   "metadata": {},
   "outputs": [
    {
     "data": {
      "image/png": "[encoded data removed]",
      "text/plain": [
       "<Figure size 432x288 with 1 Axes>"
      ]
     },
     "metadata": {
      "needs_background": "light"
     },
     "output_type": "display_data"
    }
   ],
   "source": [
    "# plot output\n",
    "plt.scatter(X_test, y_test, color=\"forestgreen\")\n",
    "plt.plot(X_test, y_pred, color=\"black\", linewidth=2)\n",
    "\n",
    "# set title, xlabel and ylabel\n",
    "plt.title('Generalized Additive Model (GAM) at 300m')\n",
    "plt.xlabel('NDVI_300')\n",
    "plt.ylabel('Canopy%_300')\n",
    "\n",
    "# save the figure\n",
    "plt.savefig('thesis_project/visualizations/modelling/gam_ndvi_canopy_300_plot.png', dpi=300, bbox_inches='tight')\n",
    "\n",
    "plt.show()"
   ]
  },
  {
   "cell_type": "markdown",
   "id": "6d7ecd4a",
   "metadata": {},
   "source": [
    "### 2.3. How does NDVI predict Grass%?"
   ]
  },
  {
   "cell_type": "markdown",
   "id": "4f847326",
   "metadata": {},
   "source": [
    "#### 2.3.1. Linear Regression Model"
   ]
  },
  {
   "cell_type": "code",
   "execution_count": 56,
   "id": "4754fece",
   "metadata": {},
   "outputs": [],
   "source": [
    "# NDVI_300 as the predictor\n",
    "df = pd.DataFrame(gdf_300, columns=['NDVI_300'])\n",
    "\n",
    "# Grass%_300 as the target\n",
    "target = pd.DataFrame(gdf_300, columns=['Grass%_300'])\n",
    "\n",
    "# define X and y\n",
    "X = df\n",
    "y = target['Grass%_300']\n",
    "\n",
    "# split independent and dependent variables into training and test data\n",
    "X_train, X_test, y_train, y_test = train_test_split(X, y, test_size=0.2, random_state=0)\n",
    "\n",
    "# fit the linear model\n",
    "lm_300 = linear_model.LinearRegression()\n",
    "model_300 = lm_300.fit(X_train,y_train)"
   ]
  },
  {
   "cell_type": "code",
   "execution_count": 57,
   "id": "bf79dbe1",
   "metadata": {},
   "outputs": [
    {
     "name": "stdout",
     "output_type": "stream",
     "text": [
      "Coefficient of NDVI_300 (or slope): [0.43498223]\n",
      "Intercept: -0.052730262539813055\n",
      "R-squared: 0.2355554894443569\n"
     ]
    }
   ],
   "source": [
    "# linear model coefficient, intercept, and R-squared \n",
    "print('Coefficient of NDVI_300 (or slope):', model_300.coef_)\n",
    "print('Intercept:', model_300.intercept_)\n",
    "print('R-squared:', model_300.score(X_train,y_train))"
   ]
  },
  {
   "cell_type": "code",
   "execution_count": 58,
   "id": "20883065",
   "metadata": {},
   "outputs": [],
   "source": [
    "# make predictions\n",
    "y_pred = model_300.predict(X_test)\n",
    "\n",
    "# compare actual values with predicted ones\n",
    "df = pd.DataFrame({'Actual': y_test, 'Predicted': y_pred})\n",
    "\n",
    "# convert X_test to array values (for later use when plotting)\n",
    "X_test = X_test.iloc[:, 0:1].values"
   ]
  },
  {
   "cell_type": "code",
   "execution_count": 59,
   "id": "618274f0",
   "metadata": {},
   "outputs": [
    {
     "name": "stdout",
     "output_type": "stream",
     "text": [
      "Mean Absolute Error: 0.0915891819298669\n",
      "Mean Squared Error: 0.016212407568546677\n",
      "Root Mean Squared Error: 0.12732795281691556\n"
     ]
    }
   ],
   "source": [
    "# evaluate the model\n",
    "print('Mean Absolute Error:', metrics.mean_absolute_error(y_test, y_pred))\n",
    "print('Mean Squared Error:', metrics.mean_squared_error(y_test, y_pred))\n",
    "print('Root Mean Squared Error:', np.sqrt(metrics.mean_squared_error(y_test, y_pred)))"
   ]
  },
  {
   "cell_type": "code",
   "execution_count": 60,
   "id": "872a4cb8",
   "metadata": {},
   "outputs": [
    {
     "data": {
      "image/png": "[encoded data removed]",
      "text/plain": [
       "<Figure size 432x288 with 1 Axes>"
      ]
     },
     "metadata": {
      "needs_background": "light"
     },
     "output_type": "display_data"
    }
   ],
   "source": [
    "# plot outputs\n",
    "plt.scatter(X_test, y_test, color=\"forestgreen\")\n",
    "plt.plot(X_test, y_pred, color=\"black\", linewidth=2)\n",
    "\n",
    "plt.xticks(np.arange(0, 1.1, step = 0.2))\n",
    "plt.yticks(np.arange(0, 1.1, step = 0.2))\n",
    "\n",
    "# set title, xlabel and ylabel\n",
    "plt.title('Linear Regression Model at 300m')\n",
    "plt.xlabel('NDVI_300')\n",
    "plt.ylabel('Grass%_300')\n",
    "\n",
    "# save the figure\n",
    "plt.savefig('thesis_project/visualizations/modelling/lm_ndvi_grass_300_plot.png', dpi=300, bbox_inches='tight')\n",
    "\n",
    "plt.show()"
   ]
  },
  {
   "cell_type": "markdown",
   "id": "5a1a03ed",
   "metadata": {},
   "source": [
    "#### 2.3.2. Generalized Additive Model (GAM)"
   ]
  },
  {
   "cell_type": "code",
   "execution_count": 61,
   "id": "c440a993",
   "metadata": {},
   "outputs": [
    {
     "name": "stdout",
     "output_type": "stream",
     "text": [
      "LinearGAM                                                                                                 \n",
      "=============================================== ==========================================================\n",
      "Distribution:                        NormalDist Effective DoF:                                     15.3555\n",
      "Link Function:                     IdentityLink Log Likelihood:                               -114174.5202\n",
      "Number of Samples:                         4688 AIC:                                           228381.7513\n",
      "                                                AICc:                                          228381.8729\n",
      "                                                GCV:                                                0.0183\n",
      "                                                Scale:                                              0.0182\n",
      "                                                Pseudo R-Squared:                                   0.2486\n",
      "==========================================================================================================\n",
      "Feature Function                  Lambda               Rank         EDoF         P > x        Sig. Code   \n",
      "================================= ==================== ============ ============ ============ ============\n",
      "s(0)                              [0.6]                20           15.4         1.11e-16     ***         \n",
      "intercept                                              1            0.0          1.11e-16     ***         \n",
      "==========================================================================================================\n",
      "Significance codes:  0 '***' 0.001 '**' 0.01 '*' 0.05 '.' 0.1 ' ' 1\n",
      "\n",
      "WARNING: Fitting splines and a linear function to a feature introduces a model identifiability problem\n",
      "         which can cause p-values to appear significant when they are not.\n",
      "\n",
      "WARNING: p-values calculated in this manner behave correctly for un-penalized models or models with\n",
      "         known smoothing parameters, but when smoothing parameters have been estimated, the p-values\n",
      "         are typically lower than they should be, meaning that the tests reject the null too readily.\n"
     ]
    },
    {
     "name": "stderr",
     "output_type": "stream",
     "text": [
      "/Applications/anaconda3/envs/ssml/lib/python3.9/site-packages/pygam/pygam.py:752: RuntimeWarning: invalid value encountered in reciprocal\n",
      "  np.fill_diagonal(Dinv, d**-1) # invert the singular values\n",
      "/var/folders/6g/kgz5rml118s6lqw25w5sv5mr0000gn/T/ipykernel_2333/2613320662.py:19: UserWarning: KNOWN BUG: p-values computed in this summary are likely much smaller than they should be. \n",
      " \n",
      "Please do not make inferences based on these values! \n",
      "\n",
      "Collaborate on a solution, and stay up to date at: \n",
      "github.com/dswah/pyGAM/issues/163 \n",
      "\n",
      "  gam_300.summary()\n"
     ]
    }
   ],
   "source": [
    "# data/predictors as the NDVI_300\n",
    "df_300 = pd.DataFrame(gdf_300, columns=['NDVI_300'])\n",
    "\n",
    "# target as Grass%_300\n",
    "target_300 = pd.DataFrame(gdf_300, columns=['Grass%_300'])\n",
    "\n",
    "# define X and Y\n",
    "X = df_300\n",
    "y = target_300['Grass%_300']\n",
    "\n",
    "# split independent and dependent variables into training and test data\n",
    "X_train, X_test, y_train, y_test = train_test_split(X, y, test_size=0.2, random_state=0)\n",
    "\n",
    "# fit GAM model\n",
    "#gam_300 = LinearGAM(s(0, n_splines=25)).fit(X_train, y_train, weights=None)\n",
    "gam_300 = LinearGAM(s(0)).fit(X_train, y_train, weights=None)\n",
    "\n",
    "# check model statistics\n",
    "gam_300.summary()"
   ]
  },
  {
   "cell_type": "code",
   "execution_count": 62,
   "id": "90d21391",
   "metadata": {},
   "outputs": [],
   "source": [
    "# convert X_test and y_test to array values\n",
    "#y_test = y_test.iloc[:, 0:1].values\n",
    "X_test = X_test.iloc[:, 0:1].values\n",
    "\n",
    "# make predictions\n",
    "y_pred = gam_300.predict(X_test)"
   ]
  },
  {
   "cell_type": "code",
   "execution_count": 63,
   "id": "008d6fd7",
   "metadata": {},
   "outputs": [
    {
     "data": {
      "image/png": "[encoded data removed]",
      "text/plain": [
       "<Figure size 432x288 with 1 Axes>"
      ]
     },
     "metadata": {
      "needs_background": "light"
     },
     "output_type": "display_data"
    }
   ],
   "source": [
    "# plot output\n",
    "plt.scatter(X_test, y_test, color=\"forestgreen\")\n",
    "plt.plot(X_test, y_pred, color=\"black\", linewidth=2)\n",
    "\n",
    "# set title, xlabel and ylabel\n",
    "plt.title('Generalized Additive Model (GAM) at 300m')\n",
    "plt.xlabel('NDVI_300')\n",
    "plt.ylabel('Grass%_300')\n",
    "\n",
    "# save the figure\n",
    "plt.savefig('thesis_project/visualizations/modelling/gam_ndvi_grass_300_plot.png', dpi=300, bbox_inches='tight')\n",
    "\n",
    "plt.show()"
   ]
  },
  {
   "cell_type": "markdown",
   "id": "ff399261",
   "metadata": {},
   "source": [
    "### 2.4. How does NDVI predict Shrubs%?"
   ]
  },
  {
   "cell_type": "markdown",
   "id": "9a222cfe",
   "metadata": {},
   "source": [
    "#### 2.4.1. Linear Regression Model"
   ]
  },
  {
   "cell_type": "code",
   "execution_count": 101,
   "id": "a58f7093",
   "metadata": {},
   "outputs": [],
   "source": [
    "# data/predictors as the NDVI_300\n",
    "df_300 = pd.DataFrame(gdf_300, columns=['NDVI_300'])\n",
    "\n",
    "# target as Shrubs%_300\n",
    "target_300 = pd.DataFrame(gdf_300, columns=['Shrubs%_300'])\n",
    "\n",
    "# define X and y\n",
    "X = df_300\n",
    "y = target_300['Shrubs%_300']\n",
    "\n",
    "# split independent and dependent variables into training and test data\n",
    "X_train, X_test, y_train, y_test = train_test_split(X, y, test_size=0.2, random_state=0)\n",
    "\n",
    "# fit the linear model\n",
    "lm_300 = linear_model.LinearRegression()\n",
    "model_300 = lm_300.fit(X_train,y_train)"
   ]
  },
  {
   "cell_type": "code",
   "execution_count": 102,
   "id": "a21d44b8",
   "metadata": {},
   "outputs": [
    {
     "name": "stdout",
     "output_type": "stream",
     "text": [
      "Coefficient of NDVI_300 (or slope): [0.56388071]\n",
      "Intercept: -0.007672786497563533\n",
      "R-squared: 0.16841788198096963\n"
     ]
    }
   ],
   "source": [
    "# linear model coefficient, intercept, and R-squared \n",
    "print('Coefficient of NDVI_300 (or slope):', model_300.coef_)\n",
    "print('Intercept:', model_300.intercept_)\n",
    "print('R-squared:', model_300.score(X_train,y_train))"
   ]
  },
  {
   "cell_type": "code",
   "execution_count": 103,
   "id": "581b688c",
   "metadata": {},
   "outputs": [],
   "source": [
    "# make predictions\n",
    "y_pred = model_300.predict(X_test)\n",
    "\n",
    "# compare actual values with predicted ones\n",
    "df_pred = pd.DataFrame({'Actual': y_test, 'Predicted': y_pred})\n",
    "\n",
    "# convert X_test to array values\n",
    "X_test = X_test.iloc[:, 0:1].values"
   ]
  },
  {
   "cell_type": "code",
   "execution_count": 104,
   "id": "ddef903e",
   "metadata": {},
   "outputs": [
    {
     "name": "stdout",
     "output_type": "stream",
     "text": [
      "Mean Absolute Error: 0.1546318969692588\n",
      "Mean Squared Error: 0.0467939128940856\n",
      "Root Mean Squared Error: 0.21631900724181774\n"
     ]
    }
   ],
   "source": [
    "# evaluate the model\n",
    "print('Mean Absolute Error:', metrics.mean_absolute_error(y_test, y_pred))\n",
    "print('Mean Squared Error:', metrics.mean_squared_error(y_test, y_pred))\n",
    "print('Root Mean Squared Error:', np.sqrt(metrics.mean_squared_error(y_test, y_pred)))"
   ]
  },
  {
   "cell_type": "code",
   "execution_count": 105,
   "id": "a57e0494",
   "metadata": {},
   "outputs": [
    {
     "data": {
      "image/png": "[encoded data removed]",
      "text/plain": [
       "<Figure size 432x288 with 1 Axes>"
      ]
     },
     "metadata": {
      "needs_background": "light"
     },
     "output_type": "display_data"
    }
   ],
   "source": [
    "# plot outputs\n",
    "plt.scatter(X_test, y_test, color=\"forestgreen\")\n",
    "plt.plot(X_test, y_pred, color=\"black\", linewidth=2)\n",
    "\n",
    "plt.xticks(np.arange(0, 1.1, step = 0.2))\n",
    "plt.yticks(np.arange(0, 1.1, step = 0.2))\n",
    "\n",
    "# set title, xlabel and ylabel\n",
    "plt.title('Linear Regression Model at 300m')\n",
    "plt.xlabel('NDVI_300')\n",
    "plt.ylabel('Shrubs%_300')\n",
    "\n",
    "# save the figure\n",
    "plt.savefig('thesis_project/visualizations/modelling/lm_ndvi_shrubs_300_plot.png', dpi=300, bbox_inches='tight')\n",
    "\n",
    "plt.show()"
   ]
  },
  {
   "cell_type": "markdown",
   "id": "9cf9f4ba",
   "metadata": {},
   "source": [
    "#### 2.4.2. Generalized Additive Model (GAM)"
   ]
  },
  {
   "cell_type": "code",
   "execution_count": 106,
   "id": "d80293ce",
   "metadata": {},
   "outputs": [
    {
     "name": "stdout",
     "output_type": "stream",
     "text": [
      "LinearGAM                                                                                                 \n",
      "=============================================== ==========================================================\n",
      "Distribution:                        NormalDist Effective DoF:                                     15.3555\n",
      "Link Function:                     IdentityLink Log Likelihood:                                -40059.5128\n",
      "Number of Samples:                         4688 AIC:                                            80151.7365\n",
      "                                                AICc:                                           80151.8581\n",
      "                                                GCV:                                                0.0469\n",
      "                                                Scale:                                              0.0466\n",
      "                                                Pseudo R-Squared:                                   0.1795\n",
      "==========================================================================================================\n",
      "Feature Function                  Lambda               Rank         EDoF         P > x        Sig. Code   \n",
      "================================= ==================== ============ ============ ============ ============\n",
      "s(0)                              [0.6]                20           15.4         1.11e-16     ***         \n",
      "intercept                                              1            0.0          1.11e-16     ***         \n",
      "==========================================================================================================\n",
      "Significance codes:  0 '***' 0.001 '**' 0.01 '*' 0.05 '.' 0.1 ' ' 1\n",
      "\n",
      "WARNING: Fitting splines and a linear function to a feature introduces a model identifiability problem\n",
      "         which can cause p-values to appear significant when they are not.\n",
      "\n",
      "WARNING: p-values calculated in this manner behave correctly for un-penalized models or models with\n",
      "         known smoothing parameters, but when smoothing parameters have been estimated, the p-values\n",
      "         are typically lower than they should be, meaning that the tests reject the null too readily.\n"
     ]
    },
    {
     "name": "stderr",
     "output_type": "stream",
     "text": [
      "/Applications/anaconda3/envs/ssml/lib/python3.9/site-packages/pygam/pygam.py:752: RuntimeWarning: invalid value encountered in reciprocal\n",
      "  np.fill_diagonal(Dinv, d**-1) # invert the singular values\n",
      "/var/folders/6g/kgz5rml118s6lqw25w5sv5mr0000gn/T/ipykernel_2333/1184836041.py:19: UserWarning: KNOWN BUG: p-values computed in this summary are likely much smaller than they should be. \n",
      " \n",
      "Please do not make inferences based on these values! \n",
      "\n",
      "Collaborate on a solution, and stay up to date at: \n",
      "github.com/dswah/pyGAM/issues/163 \n",
      "\n",
      "  gam_300.summary()\n"
     ]
    }
   ],
   "source": [
    "# data/predictors as the NDVI_300\n",
    "df_300 = pd.DataFrame(gdf_300, columns=['NDVI_300'])\n",
    "\n",
    "# target as Shrubs%_300\n",
    "target_300 = pd.DataFrame(gdf_300, columns=['Shrubs%_300'])\n",
    "\n",
    "# define X and y\n",
    "X = df_300\n",
    "y = target_300['Shrubs%_300']\n",
    "\n",
    "# split independent and dependent variables into training and test data\n",
    "X_train, X_test, y_train, y_test = train_test_split(X, y, test_size=0.2, random_state=0)\n",
    "\n",
    "# fit GAM model\n",
    "#gam_300 = LinearGAM(s(0, n_splines=25)).fit(X_train, y_train, weights=None)\n",
    "gam_300 = LinearGAM(s(0)).fit(X_train, y_train, weights=None)\n",
    "\n",
    "# check model statistics\n",
    "gam_300.summary()"
   ]
  },
  {
   "cell_type": "code",
   "execution_count": 107,
   "id": "b0706d15",
   "metadata": {},
   "outputs": [],
   "source": [
    "# convert X_test and y_test to array values\n",
    "#y_test = y_test.iloc[:, 0:1].values\n",
    "X_test = X_test.iloc[:, 0:1].values\n",
    "\n",
    "# make predictions\n",
    "y_pred = gam_300.predict(X_test)"
   ]
  },
  {
   "cell_type": "code",
   "execution_count": 108,
   "id": "24f67f04",
   "metadata": {},
   "outputs": [
    {
     "data": {
      "image/png": "[encoded data removed]",
      "text/plain": [
       "<Figure size 432x288 with 1 Axes>"
      ]
     },
     "metadata": {
      "needs_background": "light"
     },
     "output_type": "display_data"
    }
   ],
   "source": [
    "# plot output\n",
    "plt.scatter(X_test, y_test, color=\"forestgreen\")\n",
    "plt.plot(X_test, y_pred, color=\"black\", linewidth=2)\n",
    "\n",
    "# set title, xlabel and ylabel\n",
    "plt.title('Generalized Additive Model (GAM) at 300m')\n",
    "plt.xlabel('NDVI_300')\n",
    "plt.ylabel('Shrubs%_300')\n",
    "\n",
    "# save the figure\n",
    "plt.savefig('thesis_project/visualizations/modelling/gam_ndvi_shrubs_300_plot.png', dpi=300, bbox_inches='tight')\n",
    "\n",
    "plt.show()"
   ]
  },
  {
   "cell_type": "markdown",
   "id": "4ca604b4",
   "metadata": {},
   "source": [
    "### 2.5. How do Grass%, Canopy%, and Shrubs% predict NDVI?"
   ]
  },
  {
   "cell_type": "code",
   "execution_count": 84,
   "id": "813c5888",
   "metadata": {
    "scrolled": true
   },
   "outputs": [
    {
     "name": "stdout",
     "output_type": "stream",
     "text": [
      "LinearGAM                                                                                                 \n",
      "=============================================== ==========================================================\n",
      "Distribution:                        NormalDist Effective DoF:                                      43.844\n",
      "Link Function:                     IdentityLink Log Likelihood:                               -204271.4474\n",
      "Number of Samples:                         4688 AIC:                                           408632.5827\n",
      "                                                AICc:                                          408633.4684\n",
      "                                                GCV:                                                0.0107\n",
      "                                                Scale:                                              0.0105\n",
      "                                                Pseudo R-Squared:                                   0.6534\n",
      "==========================================================================================================\n",
      "Feature Function                  Lambda               Rank         EDoF         P > x        Sig. Code   \n",
      "================================= ==================== ============ ============ ============ ============\n",
      "s(0)                              [0.6]                20           15.0         1.11e-16     ***         \n",
      "s(1)                              [0.6]                20           13.8         1.11e-16     ***         \n",
      "s(2)                              [0.6]                20           15.0         1.11e-16     ***         \n",
      "intercept                                              1            0.0          1.11e-16     ***         \n",
      "==========================================================================================================\n",
      "Significance codes:  0 '***' 0.001 '**' 0.01 '*' 0.05 '.' 0.1 ' ' 1\n",
      "\n",
      "WARNING: Fitting splines and a linear function to a feature introduces a model identifiability problem\n",
      "         which can cause p-values to appear significant when they are not.\n",
      "\n",
      "WARNING: p-values calculated in this manner behave correctly for un-penalized models or models with\n",
      "         known smoothing parameters, but when smoothing parameters have been estimated, the p-values\n",
      "         are typically lower than they should be, meaning that the tests reject the null too readily.\n"
     ]
    },
    {
     "name": "stderr",
     "output_type": "stream",
     "text": [
      "/Applications/anaconda3/envs/ssml/lib/python3.9/site-packages/pygam/pygam.py:752: RuntimeWarning: invalid value encountered in reciprocal\n",
      "  np.fill_diagonal(Dinv, d**-1) # invert the singular values\n",
      "/var/folders/6g/kgz5rml118s6lqw25w5sv5mr0000gn/T/ipykernel_3269/3200285638.py:23: UserWarning: KNOWN BUG: p-values computed in this summary are likely much smaller than they should be. \n",
      " \n",
      "Please do not make inferences based on these values! \n",
      "\n",
      "Collaborate on a solution, and stay up to date at: \n",
      "github.com/dswah/pyGAM/issues/163 \n",
      "\n",
      "  gam_300.summary()\n"
     ]
    }
   ],
   "source": [
    "# data/predictors as Grass%, Canopy%, and Shrubs%\n",
    "cols = ['Grass%_300', 'Canopy%_300', 'Shrubs%_300']\n",
    "df = pd.DataFrame(gdf_300, columns=cols)\n",
    "\n",
    "# target as NDVI_300\n",
    "target = pd.DataFrame(gdf_300, columns=['NDVI_300'])\n",
    "\n",
    "# define X and Y\n",
    "X = df\n",
    "y = target['NDVI_300']\n",
    "#X = df.iloc[:, 0:3].values\n",
    "\n",
    "# split independent and dependent variables into training and test data\n",
    "X_train, X_test, y_train, y_test = train_test_split(X, y, test_size=0.2, random_state=0)\n",
    "\n",
    "# model\n",
    "gam_300 = LinearGAM(s(0) + s(1) + s(2)).fit(X_train, y_train)\n",
    "#gam_300 = LinearGAM(n_splines=10).gridsearch(X, y)\n",
    "#gam_300 = LinearGAM(s(0) + s(1) + s(2))\n",
    "#gam_300.gridsearch(X, y)\n",
    "\n",
    "# check model statistics\n",
    "gam_300.summary()"
   ]
  },
  {
   "cell_type": "code",
   "execution_count": 87,
   "id": "d2c6b628",
   "metadata": {},
   "outputs": [
    {
     "data": {
      "text/plain": [
       "<Figure size 432x288 with 0 Axes>"
      ]
     },
     "metadata": {},
     "output_type": "display_data"
    },
    {
     "data": {
      "image/png": "[encoded data removed]",
      "text/plain": [
       "<Figure size 432x288 with 3 Axes>"
      ]
     },
     "metadata": {
      "needs_background": "light"
     },
     "output_type": "display_data"
    }
   ],
   "source": [
    "## plotting\n",
    "plt.figure();\n",
    "fig, axs = plt.subplots(1,3);\n",
    "\n",
    "titles = ['Grass%_300', 'Canopy%_300', 'Shrubs%_300']\n",
    "for i, ax in enumerate(axs):\n",
    "    XX = gam_300.generate_X_grid(term=i)\n",
    "    ax.plot(XX[:, i], gam_300.partial_dependence(term=i, X=XX))\n",
    "    ax.plot(XX[:, i], gam_300.partial_dependence(term=i, X=XX, width=.95)[1], c='r', ls='--')\n",
    "    ax.set_ylim(-0.5, 0.5)\n",
    "    ax.set_xticks(list(ax.get_xticks()))\n",
    "    ax.hlines(y=0, xmin=0, xmax=1, linewidth=1, color='black', linestyle='--')\n",
    "    ax.set_ylabel('Predicted NDVI', fontsize=12)\n",
    "    ax.set_title(titles[i], fontsize=12);\n",
    "    \n",
    "# non-overlapping subplots\n",
    "plt.tight_layout()\n",
    "    \n",
    "# save the figure\n",
    "plt.savefig('thesis_project/visualizations/modelling/gam_ndvi_300_plot.png', dpi=300, bbox_inches='tight')\n",
    "\n",
    "plt.show()"
   ]
  },
  {
   "cell_type": "markdown",
   "id": "d3e319e6",
   "metadata": {},
   "source": [
    "## 3. Modelling greenspace metrics at 500m"
   ]
  },
  {
   "cell_type": "code",
   "execution_count": 81,
   "id": "056870cd",
   "metadata": {},
   "outputs": [
    {
     "data": {
      "text/html": [
       "<div>\n",
       "<style scoped>\n",
       "    .dataframe tbody tr th:only-of-type {\n",
       "        vertical-align: middle;\n",
       "    }\n",
       "\n",
       "    .dataframe tbody tr th {\n",
       "        vertical-align: top;\n",
       "    }\n",
       "\n",
       "    .dataframe thead th {\n",
       "        text-align: right;\n",
       "    }\n",
       "</style>\n",
       "<table border=\"1\" class=\"dataframe\">\n",
       "  <thead>\n",
       "    <tr style=\"text-align: right;\">\n",
       "      <th></th>\n",
       "      <th>NDVI_500</th>\n",
       "      <th>Greenspace%_500</th>\n",
       "      <th>Canopy%_500</th>\n",
       "      <th>Grass%_500</th>\n",
       "      <th>Shrubs%_500</th>\n",
       "      <th>geometry</th>\n",
       "    </tr>\n",
       "  </thead>\n",
       "  <tbody>\n",
       "    <tr>\n",
       "      <th>0</th>\n",
       "      <td>0.705614</td>\n",
       "      <td>0.883310</td>\n",
       "      <td>0.223834</td>\n",
       "      <td>0.096864</td>\n",
       "      <td>0.394812</td>\n",
       "      <td>POINT (362886.156 402352.157)</td>\n",
       "    </tr>\n",
       "    <tr>\n",
       "      <th>1</th>\n",
       "      <td>0.617635</td>\n",
       "      <td>0.871672</td>\n",
       "      <td>0.294723</td>\n",
       "      <td>0.504887</td>\n",
       "      <td>0.241740</td>\n",
       "      <td>POINT (354204.802 403929.521)</td>\n",
       "    </tr>\n",
       "    <tr>\n",
       "      <th>2</th>\n",
       "      <td>0.482378</td>\n",
       "      <td>0.430316</td>\n",
       "      <td>0.417175</td>\n",
       "      <td>0.186725</td>\n",
       "      <td>0.096558</td>\n",
       "      <td>POINT (379393.300 410476.219)</td>\n",
       "    </tr>\n",
       "    <tr>\n",
       "      <th>3</th>\n",
       "      <td>0.612922</td>\n",
       "      <td>0.635173</td>\n",
       "      <td>0.605278</td>\n",
       "      <td>0.147921</td>\n",
       "      <td>0.167965</td>\n",
       "      <td>POINT (385552.048 388856.047)</td>\n",
       "    </tr>\n",
       "    <tr>\n",
       "      <th>4</th>\n",
       "      <td>0.880711</td>\n",
       "      <td>0.992519</td>\n",
       "      <td>0.096232</td>\n",
       "      <td>0.329978</td>\n",
       "      <td>0.685176</td>\n",
       "      <td>POINT (367806.732 411583.484)</td>\n",
       "    </tr>\n",
       "  </tbody>\n",
       "</table>\n",
       "</div>"
      ],
      "text/plain": [
       "   NDVI_500  Greenspace%_500  Canopy%_500  Grass%_500  Shrubs%_500  \\\n",
       "0  0.705614         0.883310     0.223834    0.096864     0.394812   \n",
       "1  0.617635         0.871672     0.294723    0.504887     0.241740   \n",
       "2  0.482378         0.430316     0.417175    0.186725     0.096558   \n",
       "3  0.612922         0.635173     0.605278    0.147921     0.167965   \n",
       "4  0.880711         0.992519     0.096232    0.329978     0.685176   \n",
       "\n",
       "                        geometry  \n",
       "0  POINT (362886.156 402352.157)  \n",
       "1  POINT (354204.802 403929.521)  \n",
       "2  POINT (379393.300 410476.219)  \n",
       "3  POINT (385552.048 388856.047)  \n",
       "4  POINT (367806.732 411583.484)  "
      ]
     },
     "execution_count": 81,
     "metadata": {},
     "output_type": "execute_result"
    }
   ],
   "source": [
    "# load greenspace metrics at 500m geodataframe\n",
    "gdf_500 = gpd.read_file(\"thesis_project/output/dataframes/greenspace_metrics_500_df.json\")\n",
    "gdf_500.head()"
   ]
  },
  {
   "cell_type": "markdown",
   "id": "71ee4c9c",
   "metadata": {},
   "source": [
    "### 3.1. How does NDVI predict Greenspace%?"
   ]
  },
  {
   "cell_type": "markdown",
   "id": "75021aa9",
   "metadata": {},
   "source": [
    "#### 3.1.1. Linear Regression Model"
   ]
  },
  {
   "cell_type": "code",
   "execution_count": 65,
   "id": "150814b6",
   "metadata": {},
   "outputs": [],
   "source": [
    "# NDVI_500 as the predictor\n",
    "df = pd.DataFrame(gdf_500, columns=['NDVI_500'])\n",
    "\n",
    "# Greenspace%_300 as the target\n",
    "target = pd.DataFrame(gdf_500, columns=['Greenspace%_500'])\n",
    "\n",
    "# define X and y\n",
    "X = df\n",
    "y = target['Greenspace%_500']\n",
    "\n",
    "# split independent and dependent variables into training and test data\n",
    "X_train, X_test, y_train, y_test = train_test_split(X, y, test_size=0.2, random_state=0)\n",
    "\n",
    "# fit the linear model\n",
    "lm_500 = linear_model.LinearRegression()\n",
    "model_500 = lm_500.fit(X_train,y_train)"
   ]
  },
  {
   "cell_type": "code",
   "execution_count": 66,
   "id": "394b96ed",
   "metadata": {},
   "outputs": [
    {
     "name": "stdout",
     "output_type": "stream",
     "text": [
      "Coefficient of NDVI_500 (or slope): [1.07648054]\n",
      "Intercept: 0.022356688059548935\n",
      "R-squared: 0.6880493425932274\n"
     ]
    }
   ],
   "source": [
    "# linear model coefficient, intercept, and R-squared \n",
    "print('Coefficient of NDVI_500 (or slope):', model_500.coef_)\n",
    "print('Intercept:', model_500.intercept_)\n",
    "print('R-squared:', model_500.score(X_train,y_train))"
   ]
  },
  {
   "cell_type": "code",
   "execution_count": 67,
   "id": "82c988fa",
   "metadata": {},
   "outputs": [],
   "source": [
    "# make predictions\n",
    "y_pred = model_500.predict(X_test)\n",
    "\n",
    "# compare actual values with predicted ones\n",
    "df = pd.DataFrame({'Actual': y_test, 'Predicted': y_pred})\n",
    "\n",
    "# convert X_test to array values (for later use when plotting)\n",
    "X_test = X_test.iloc[:, 0:1].values"
   ]
  },
  {
   "cell_type": "code",
   "execution_count": 68,
   "id": "09cc3d6f",
   "metadata": {},
   "outputs": [
    {
     "name": "stdout",
     "output_type": "stream",
     "text": [
      "Mean Absolute Error: 0.08739290113836838\n",
      "Mean Squared Error: 0.01715198949087206\n",
      "Root Mean Squared Error: 0.1309656042282555\n"
     ]
    }
   ],
   "source": [
    "# evaluate the model\n",
    "print('Mean Absolute Error:', metrics.mean_absolute_error(y_test, y_pred))\n",
    "print('Mean Squared Error:', metrics.mean_squared_error(y_test, y_pred))\n",
    "print('Root Mean Squared Error:', np.sqrt(metrics.mean_squared_error(y_test, y_pred)))"
   ]
  },
  {
   "cell_type": "code",
   "execution_count": 69,
   "id": "64faab7a",
   "metadata": {},
   "outputs": [
    {
     "data": {
      "image/png": "[encoded data removed]",
      "text/plain": [
       "<Figure size 432x288 with 1 Axes>"
      ]
     },
     "metadata": {
      "needs_background": "light"
     },
     "output_type": "display_data"
    }
   ],
   "source": [
    "# plot outputs\n",
    "plt.scatter(X_test, y_test, color=\"forestgreen\")\n",
    "plt.plot(X_test, y_pred, color=\"black\", linewidth=2)\n",
    "\n",
    "plt.xticks(np.arange(0, 1.1, step = 0.2))\n",
    "plt.yticks(np.arange(0, 1.1, step = 0.2))\n",
    "\n",
    "# set title, xlabel and ylabel\n",
    "plt.title('Linear Regression Model at 500m')\n",
    "plt.xlabel('NDVI_500')\n",
    "plt.ylabel('Greenspace%_500')\n",
    "\n",
    "# save the figure\n",
    "plt.savefig('thesis_project/visualizations/modelling/lm_ndvi_green_500_plot.png', dpi=300, bbox_inches='tight')\n",
    "\n",
    "plt.show()"
   ]
  },
  {
   "cell_type": "code",
   "execution_count": 70,
   "id": "86636488",
   "metadata": {},
   "outputs": [
    {
     "name": "stdout",
     "output_type": "stream",
     "text": [
      "If NDVI goes from 0.3 to 0.4, Greenspace%_100 increases by: [0.10764805]\n"
     ]
    },
    {
     "name": "stderr",
     "output_type": "stream",
     "text": [
      "/Applications/anaconda3/envs/ssml/lib/python3.9/site-packages/sklearn/base.py:450: UserWarning: X does not have valid feature names, but LinearRegression was fitted with feature names\n",
      "  warnings.warn(\n",
      "/Applications/anaconda3/envs/ssml/lib/python3.9/site-packages/sklearn/base.py:450: UserWarning: X does not have valid feature names, but LinearRegression was fitted with feature names\n",
      "  warnings.warn(\n"
     ]
    }
   ],
   "source": [
    "# Change in NDVI values: how does Greenspace% increase, if NDVI changes from 0.3 to 0.4?\n",
    "green0 = model_500.predict([[0.3]])\n",
    "green1 = model_500.predict([[0.4]])\n",
    "print('If NDVI goes from 0.3 to 0.4, Greenspace%_100 increases by:', green1 - green0)"
   ]
  },
  {
   "cell_type": "markdown",
   "id": "fe1f4557",
   "metadata": {},
   "source": [
    "#### 3.1.2. Generalized Additive Model (GAM)"
   ]
  },
  {
   "cell_type": "code",
   "execution_count": 71,
   "id": "ec9e14a5",
   "metadata": {},
   "outputs": [
    {
     "name": "stdout",
     "output_type": "stream",
     "text": [
      "LinearGAM                                                                                                 \n",
      "=============================================== ==========================================================\n",
      "Distribution:                        NormalDist Effective DoF:                                     14.5125\n",
      "Link Function:                     IdentityLink Log Likelihood:                                -72868.8151\n",
      "Number of Samples:                         2325 AIC:                                           145768.6551\n",
      "                                                AICc:                                           145768.877\n",
      "                                                GCV:                                                0.0145\n",
      "                                                Scale:                                              0.0143\n",
      "                                                Pseudo R-Squared:                                   0.7151\n",
      "==========================================================================================================\n",
      "Feature Function                  Lambda               Rank         EDoF         P > x        Sig. Code   \n",
      "================================= ==================== ============ ============ ============ ============\n",
      "s(0)                              [0.6]                20           14.5         1.11e-16     ***         \n",
      "intercept                                              1            0.0          1.11e-16     ***         \n",
      "==========================================================================================================\n",
      "Significance codes:  0 '***' 0.001 '**' 0.01 '*' 0.05 '.' 0.1 ' ' 1\n",
      "\n",
      "WARNING: Fitting splines and a linear function to a feature introduces a model identifiability problem\n",
      "         which can cause p-values to appear significant when they are not.\n",
      "\n",
      "WARNING: p-values calculated in this manner behave correctly for un-penalized models or models with\n",
      "         known smoothing parameters, but when smoothing parameters have been estimated, the p-values\n",
      "         are typically lower than they should be, meaning that the tests reject the null too readily.\n"
     ]
    },
    {
     "name": "stderr",
     "output_type": "stream",
     "text": [
      "/Applications/anaconda3/envs/ssml/lib/python3.9/site-packages/pygam/pygam.py:593: RuntimeWarning: invalid value encountered in reciprocal\n",
      "  weights ** -1)**-0.5)\n",
      "/Applications/anaconda3/envs/ssml/lib/python3.9/site-packages/pygam/pygam.py:752: RuntimeWarning: invalid value encountered in reciprocal\n",
      "  np.fill_diagonal(Dinv, d**-1) # invert the singular values\n",
      "/Applications/anaconda3/envs/ssml/lib/python3.9/site-packages/pygam/distributions.py:86: RuntimeWarning: invalid value encountered in reciprocal\n",
      "  return (np.sum(weights * self.V(mu)**-1 * (y - mu)**2) /\n",
      "/var/folders/6g/kgz5rml118s6lqw25w5sv5mr0000gn/T/ipykernel_2333/2741797941.py:19: UserWarning: KNOWN BUG: p-values computed in this summary are likely much smaller than they should be. \n",
      " \n",
      "Please do not make inferences based on these values! \n",
      "\n",
      "Collaborate on a solution, and stay up to date at: \n",
      "github.com/dswah/pyGAM/issues/163 \n",
      "\n",
      "  gam_500.summary()\n"
     ]
    }
   ],
   "source": [
    "# data/predictors as the NDVI_500\n",
    "df = pd.DataFrame(gdf_500, columns=['NDVI_500'])\n",
    "\n",
    "# target as Greenspace%_500\n",
    "target = pd.DataFrame(gdf_500, columns=['Greenspace%_500'])\n",
    "\n",
    "# define X and Y\n",
    "X = df\n",
    "y = target['Greenspace%_500']\n",
    "\n",
    "# split independent and dependent variables into training and test data\n",
    "X_train, X_test, y_train, y_test = train_test_split(X, y, test_size=0.2, random_state=0)\n",
    "\n",
    "# fit GAM model\n",
    "#gam_500 = LinearGAM(s(0, n_splines=25)).fit(X_train, y_train, weights=None)\n",
    "gam_500 = LinearGAM(s(0)).fit(X_train, y_train, weights=None)\n",
    "\n",
    "# check model statistics\n",
    "gam_500.summary()"
   ]
  },
  {
   "cell_type": "code",
   "execution_count": 72,
   "id": "d2b2652c",
   "metadata": {},
   "outputs": [],
   "source": [
    "# convert X_test and y_test to array values\n",
    "#y_test = y_test.iloc[:, 0:1].values\n",
    "X_test = X_test.iloc[:, 0:1].values\n",
    "\n",
    "# make predictions\n",
    "y_pred = gam_500.predict(X_test)"
   ]
  },
  {
   "cell_type": "code",
   "execution_count": 73,
   "id": "e4ec89e0",
   "metadata": {},
   "outputs": [
    {
     "data": {
      "image/png": "[encoded data removed]",
      "text/plain": [
       "<Figure size 432x288 with 1 Axes>"
      ]
     },
     "metadata": {
      "needs_background": "light"
     },
     "output_type": "display_data"
    }
   ],
   "source": [
    "# plot output\n",
    "plt.scatter(X_test, y_test, color=\"forestgreen\")\n",
    "plt.plot(X_test, y_pred, color=\"black\", linewidth=2)\n",
    "\n",
    "# set title, xlabel and ylabel\n",
    "plt.title('Generalized Additive Model (GAM) at 500m')\n",
    "plt.xlabel('NDVI_500')\n",
    "plt.ylabel('Greenspace%_500')\n",
    "\n",
    "# save the figure\n",
    "plt.savefig('thesis_project/visualizations/modelling/gam_ndvi_green_500_plot.png', dpi=300, bbox_inches='tight')\n",
    "\n",
    "plt.show()"
   ]
  },
  {
   "cell_type": "code",
   "execution_count": 74,
   "id": "6fb0a348",
   "metadata": {},
   "outputs": [
    {
     "name": "stdout",
     "output_type": "stream",
     "text": [
      "If NDVI goes from 0.25 to 0.35, Greenspace%_100 increases by: [0.08863647]\n"
     ]
    }
   ],
   "source": [
    "# Change in low NDVI values: how does Greenspace% increase, if NDVI changes from 0.25 to 0.35?\n",
    "green_l0 = gam_500.predict(0.25)\n",
    "green_l1 = gam_500.predict(0.35)\n",
    "print('If NDVI goes from 0.25 to 0.35, Greenspace%_100 increases by:', green_l1 - green_l0)"
   ]
  },
  {
   "cell_type": "code",
   "execution_count": 75,
   "id": "c3d945c5",
   "metadata": {},
   "outputs": [
    {
     "name": "stdout",
     "output_type": "stream",
     "text": [
      "If NDVI goes from 0.45 to 0.55, Greenspace%_100 increases by: [0.18807665]\n"
     ]
    }
   ],
   "source": [
    "# Change in medium NDVI values: how does Greenspace% increase, if NDVI changes from 0.45 to 0.55?\n",
    "green_m0 = gam_500.predict(0.45)\n",
    "green_m1 = gam_500.predict(0.55)\n",
    "print('If NDVI goes from 0.45 to 0.55, Greenspace%_100 increases by:', green_m1 - green_m0)"
   ]
  },
  {
   "cell_type": "code",
   "execution_count": 76,
   "id": "73f655eb",
   "metadata": {},
   "outputs": [
    {
     "name": "stdout",
     "output_type": "stream",
     "text": [
      "If NDVI goes from 0.65 to 0.75, Greenspace%_100 increases by: [0.08037928]\n"
     ]
    }
   ],
   "source": [
    "# Change in high NDVI values: how does Greenspace% increase, if NDVI changes from 0.65 to 0.75?\n",
    "green_h0 = gam_500.predict(0.65)\n",
    "green_h1 = gam_500.predict(0.75)\n",
    "print('If NDVI goes from 0.65 to 0.75, Greenspace%_100 increases by:', green_h1 - green_h0)"
   ]
  },
  {
   "cell_type": "markdown",
   "id": "24b4f8b0",
   "metadata": {},
   "source": [
    "### 3.2. How does NDVI predict Canopy%?"
   ]
  },
  {
   "cell_type": "markdown",
   "id": "d91c47a1",
   "metadata": {},
   "source": [
    "#### 3.2.1. Linear Regression Model"
   ]
  },
  {
   "cell_type": "code",
   "execution_count": 77,
   "id": "68ee1650",
   "metadata": {},
   "outputs": [],
   "source": [
    "# NDVI_500 as the predictor\n",
    "df = pd.DataFrame(gdf_500, columns=['NDVI_500'])\n",
    "\n",
    "# Greenspace%_300 as the target\n",
    "target = pd.DataFrame(gdf_500, columns=['Canopy%_500'])\n",
    "\n",
    "# define X and y\n",
    "X = df\n",
    "y = target['Canopy%_500']\n",
    "\n",
    "# split independent and dependent variables into training and test data\n",
    "X_train, X_test, y_train, y_test = train_test_split(X, y, test_size=0.2, random_state=0)\n",
    "\n",
    "# fit the linear model\n",
    "lm_500 = linear_model.LinearRegression()\n",
    "model_500 = lm_500.fit(X_train,y_train)"
   ]
  },
  {
   "cell_type": "code",
   "execution_count": 78,
   "id": "dc0e045c",
   "metadata": {},
   "outputs": [
    {
     "name": "stdout",
     "output_type": "stream",
     "text": [
      "Coefficient of NDVI_500 (or slope): [-0.09849543]\n",
      "Intercept: 0.32325547937498655\n",
      "R-squared: 0.011636128118764355\n"
     ]
    }
   ],
   "source": [
    "# linear model coefficient, intercept, and R-squared \n",
    "print('Coefficient of NDVI_500 (or slope):', model_500.coef_)\n",
    "print('Intercept:', model_500.intercept_)\n",
    "print('R-squared:', model_500.score(X_train,y_train))"
   ]
  },
  {
   "cell_type": "code",
   "execution_count": 79,
   "id": "43830f53",
   "metadata": {},
   "outputs": [],
   "source": [
    "# make predictions\n",
    "y_pred = model_500.predict(X_test)\n",
    "\n",
    "# compare actual values with predicted ones\n",
    "df = pd.DataFrame({'Actual': y_test, 'Predicted': y_pred})\n",
    "\n",
    "# convert X_test to array values (for later use when plotting)\n",
    "X_test = X_test.iloc[:, 0:1].values"
   ]
  },
  {
   "cell_type": "code",
   "execution_count": 80,
   "id": "23568166",
   "metadata": {},
   "outputs": [
    {
     "name": "stdout",
     "output_type": "stream",
     "text": [
      "Mean Absolute Error: 0.12011960999568033\n",
      "Mean Squared Error: 0.0241886203562305\n",
      "Root Mean Squared Error: 0.15552691199991886\n"
     ]
    }
   ],
   "source": [
    "# evaluate the model\n",
    "print('Mean Absolute Error:', metrics.mean_absolute_error(y_test, y_pred))\n",
    "print('Mean Squared Error:', metrics.mean_squared_error(y_test, y_pred))\n",
    "print('Root Mean Squared Error:', np.sqrt(metrics.mean_squared_error(y_test, y_pred)))"
   ]
  },
  {
   "cell_type": "code",
   "execution_count": 81,
   "id": "e67f7d14",
   "metadata": {},
   "outputs": [
    {
     "data": {
      "image/png": "[encoded data removed]",
      "text/plain": [
       "<Figure size 432x288 with 1 Axes>"
      ]
     },
     "metadata": {
      "needs_background": "light"
     },
     "output_type": "display_data"
    }
   ],
   "source": [
    "# plot outputs\n",
    "plt.scatter(X_test, y_test, color=\"forestgreen\")\n",
    "plt.plot(X_test, y_pred, color=\"black\", linewidth=2)\n",
    "\n",
    "plt.xticks(np.arange(0, 1.1, step = 0.2))\n",
    "plt.yticks(np.arange(0, 1.1, step = 0.2))\n",
    "\n",
    "# set title, xlabel and ylabel\n",
    "plt.title('Linear Regression Model at 500m')\n",
    "plt.xlabel('NDVI_500')\n",
    "plt.ylabel('Canopy%_500')\n",
    "\n",
    "# save the figure\n",
    "plt.savefig('thesis_project/visualizations/modelling/lm_ndvi_canopy_500_plot.png', dpi=300, bbox_inches='tight')\n",
    "\n",
    "plt.show()"
   ]
  },
  {
   "cell_type": "markdown",
   "id": "5a34627b",
   "metadata": {},
   "source": [
    "#### 3.2.2. Generalized Additive Model (GAM)"
   ]
  },
  {
   "cell_type": "code",
   "execution_count": 82,
   "id": "01311a0a",
   "metadata": {},
   "outputs": [
    {
     "name": "stdout",
     "output_type": "stream",
     "text": [
      "LinearGAM                                                                                                 \n",
      "=============================================== ==========================================================\n",
      "Distribution:                        NormalDist Effective DoF:                                     14.5125\n",
      "Link Function:                     IdentityLink Log Likelihood:                                -42587.9854\n",
      "Number of Samples:                         2325 AIC:                                            85206.9957\n",
      "                                                AICc:                                           85207.2176\n",
      "                                                GCV:                                                0.0238\n",
      "                                                Scale:                                              0.0235\n",
      "                                                Pseudo R-Squared:                                   0.0565\n",
      "==========================================================================================================\n",
      "Feature Function                  Lambda               Rank         EDoF         P > x        Sig. Code   \n",
      "================================= ==================== ============ ============ ============ ============\n",
      "s(0)                              [0.6]                20           14.5         1.11e-16     ***         \n",
      "intercept                                              1            0.0          1.11e-16     ***         \n",
      "==========================================================================================================\n",
      "Significance codes:  0 '***' 0.001 '**' 0.01 '*' 0.05 '.' 0.1 ' ' 1\n",
      "\n",
      "WARNING: Fitting splines and a linear function to a feature introduces a model identifiability problem\n",
      "         which can cause p-values to appear significant when they are not.\n",
      "\n",
      "WARNING: p-values calculated in this manner behave correctly for un-penalized models or models with\n",
      "         known smoothing parameters, but when smoothing parameters have been estimated, the p-values\n",
      "         are typically lower than they should be, meaning that the tests reject the null too readily.\n"
     ]
    },
    {
     "name": "stderr",
     "output_type": "stream",
     "text": [
      "/Applications/anaconda3/envs/ssml/lib/python3.9/site-packages/pygam/pygam.py:593: RuntimeWarning: invalid value encountered in reciprocal\n",
      "  weights ** -1)**-0.5)\n",
      "/Applications/anaconda3/envs/ssml/lib/python3.9/site-packages/pygam/pygam.py:752: RuntimeWarning: invalid value encountered in reciprocal\n",
      "  np.fill_diagonal(Dinv, d**-1) # invert the singular values\n",
      "/Applications/anaconda3/envs/ssml/lib/python3.9/site-packages/pygam/distributions.py:86: RuntimeWarning: invalid value encountered in reciprocal\n",
      "  return (np.sum(weights * self.V(mu)**-1 * (y - mu)**2) /\n",
      "/var/folders/6g/kgz5rml118s6lqw25w5sv5mr0000gn/T/ipykernel_2333/1293848242.py:19: UserWarning: KNOWN BUG: p-values computed in this summary are likely much smaller than they should be. \n",
      " \n",
      "Please do not make inferences based on these values! \n",
      "\n",
      "Collaborate on a solution, and stay up to date at: \n",
      "github.com/dswah/pyGAM/issues/163 \n",
      "\n",
      "  gam_500.summary()\n"
     ]
    }
   ],
   "source": [
    "# data/predictors as the NDVI_500\n",
    "df = pd.DataFrame(gdf_500, columns=['NDVI_500'])\n",
    "\n",
    "# target as Canopy%_500\n",
    "target = pd.DataFrame(gdf_500, columns=['Canopy%_500'])\n",
    "\n",
    "# define X and Y\n",
    "X = df\n",
    "y = target['Canopy%_500']\n",
    "\n",
    "# split independent and dependent variables into training and test data\n",
    "X_train, X_test, y_train, y_test = train_test_split(X, y, test_size=0.2, random_state=0)\n",
    "\n",
    "# fit GAM model\n",
    "#gam_500 = LinearGAM(s(0, n_splines=25)).fit(X_train, y_train, weights=None)\n",
    "gam_500 = LinearGAM(s(0)).fit(X_train, y_train, weights=None)\n",
    "\n",
    "# check model statistics\n",
    "gam_500.summary()"
   ]
  },
  {
   "cell_type": "code",
   "execution_count": 83,
   "id": "29d1f6c2",
   "metadata": {},
   "outputs": [],
   "source": [
    "# convert X_test and y_test to array values\n",
    "#y_test = y_test.iloc[:, 0:1].values\n",
    "X_test = X_test.iloc[:, 0:1].values\n",
    "\n",
    "# make predictions\n",
    "y_pred = gam_500.predict(X_test)"
   ]
  },
  {
   "cell_type": "code",
   "execution_count": 84,
   "id": "caa32aa0",
   "metadata": {},
   "outputs": [
    {
     "data": {
      "image/png": "[encoded data removed]",
      "text/plain": [
       "<Figure size 432x288 with 1 Axes>"
      ]
     },
     "metadata": {
      "needs_background": "light"
     },
     "output_type": "display_data"
    }
   ],
   "source": [
    "# plot output\n",
    "plt.scatter(X_test, y_test, color=\"forestgreen\")\n",
    "plt.plot(X_test, y_pred, color=\"black\", linewidth=2)\n",
    "\n",
    "# set title, xlabel and ylabel\n",
    "plt.title('Generalized Additive Model (GAM) at 500m')\n",
    "plt.xlabel('NDVI_500')\n",
    "plt.ylabel('Canopy%_500')\n",
    "\n",
    "# save the figure\n",
    "plt.savefig('thesis_project/visualizations/modelling/gam_ndvi_canopy_500_plot.png', dpi=300, bbox_inches='tight')\n",
    "\n",
    "plt.show()"
   ]
  },
  {
   "cell_type": "markdown",
   "id": "571b2a1f",
   "metadata": {},
   "source": [
    "### 3.3. How does NDVI predict Grass%?"
   ]
  },
  {
   "cell_type": "markdown",
   "id": "ff3738ce",
   "metadata": {},
   "source": [
    "#### 3.3.1. Linear Regression Model"
   ]
  },
  {
   "cell_type": "code",
   "execution_count": 85,
   "id": "f7bc5b1b",
   "metadata": {},
   "outputs": [],
   "source": [
    "# NDVI_500 as the predictor\n",
    "df = pd.DataFrame(gdf_500, columns=['NDVI_500'])\n",
    "\n",
    "# Grass%_500 as the target\n",
    "target = pd.DataFrame(gdf_500, columns=['Grass%_500'])\n",
    "\n",
    "# define X and y\n",
    "X = df\n",
    "y = target['Grass%_500']\n",
    "\n",
    "# split independent and dependent variables into training and test data\n",
    "X_train, X_test, y_train, y_test = train_test_split(X, y, test_size=0.2, random_state=0)\n",
    "\n",
    "# fit the linear model\n",
    "lm_500 = linear_model.LinearRegression()\n",
    "model_500 = lm_500.fit(X_train,y_train)"
   ]
  },
  {
   "cell_type": "code",
   "execution_count": 86,
   "id": "2af90318",
   "metadata": {},
   "outputs": [
    {
     "name": "stdout",
     "output_type": "stream",
     "text": [
      "Coefficient of NDVI_500 (or slope): [0.45673844]\n",
      "Intercept: -0.047191395583967316\n",
      "R-squared: 0.2969569959161814\n"
     ]
    }
   ],
   "source": [
    "# linear model coefficient, intercept, and R-squared \n",
    "print('Coefficient of NDVI_500 (or slope):', model_500.coef_)\n",
    "print('Intercept:', model_500.intercept_)\n",
    "print('R-squared:', model_500.score(X_train,y_train))"
   ]
  },
  {
   "cell_type": "code",
   "execution_count": 87,
   "id": "54a46031",
   "metadata": {},
   "outputs": [],
   "source": [
    "# make predictions\n",
    "y_pred = model_500.predict(X_test)\n",
    "\n",
    "# compare actual values with predicted ones\n",
    "df = pd.DataFrame({'Actual': y_test, 'Predicted': y_pred})\n",
    "\n",
    "# convert X_test to array values (for later use when plotting)\n",
    "X_test = X_test.iloc[:, 0:1].values"
   ]
  },
  {
   "cell_type": "code",
   "execution_count": 88,
   "id": "9c22eca0",
   "metadata": {},
   "outputs": [
    {
     "name": "stdout",
     "output_type": "stream",
     "text": [
      "Mean Absolute Error: 0.08474701377696026\n",
      "Mean Squared Error: 0.01406318076842141\n",
      "Root Mean Squared Error: 0.11858828259327062\n"
     ]
    }
   ],
   "source": [
    "# evaluate the model\n",
    "print('Mean Absolute Error:', metrics.mean_absolute_error(y_test, y_pred))\n",
    "print('Mean Squared Error:', metrics.mean_squared_error(y_test, y_pred))\n",
    "print('Root Mean Squared Error:', np.sqrt(metrics.mean_squared_error(y_test, y_pred)))"
   ]
  },
  {
   "cell_type": "code",
   "execution_count": 89,
   "id": "91f64287",
   "metadata": {},
   "outputs": [
    {
     "data": {
      "image/png": "[encoded data removed]",
      "text/plain": [
       "<Figure size 432x288 with 1 Axes>"
      ]
     },
     "metadata": {
      "needs_background": "light"
     },
     "output_type": "display_data"
    }
   ],
   "source": [
    "# plot outputs\n",
    "plt.scatter(X_test, y_test, color=\"forestgreen\")\n",
    "plt.plot(X_test, y_pred, color=\"black\", linewidth=2)\n",
    "\n",
    "plt.xticks(np.arange(0, 1.1, step = 0.2))\n",
    "plt.yticks(np.arange(0, 1.1, step = 0.2))\n",
    "\n",
    "# set title, xlabel and ylabel\n",
    "plt.title('Linear Regression Model at 500m')\n",
    "plt.xlabel('NDVI_500')\n",
    "plt.ylabel('Grass%_500')\n",
    "\n",
    "# save the figure\n",
    "plt.savefig('thesis_project/visualizations/modelling/lm_ndvi_grass_500_plot.png', dpi=300, bbox_inches='tight')\n",
    "\n",
    "plt.show()"
   ]
  },
  {
   "cell_type": "markdown",
   "id": "b9d62684",
   "metadata": {},
   "source": [
    "#### 3.3.2. Generalized Additive Model (GAM)"
   ]
  },
  {
   "cell_type": "code",
   "execution_count": 90,
   "id": "51dc453c",
   "metadata": {},
   "outputs": [
    {
     "name": "stdout",
     "output_type": "stream",
     "text": [
      "LinearGAM                                                                                                 \n",
      "=============================================== ==========================================================\n",
      "Distribution:                        NormalDist Effective DoF:                                     14.5125\n",
      "Link Function:                     IdentityLink Log Likelihood:                                -71260.1163\n",
      "Number of Samples:                         2325 AIC:                                           142551.2575\n",
      "                                                AICc:                                          142551.4795\n",
      "                                                GCV:                                                0.0148\n",
      "                                                Scale:                                              0.0146\n",
      "                                                Pseudo R-Squared:                                   0.3026\n",
      "==========================================================================================================\n",
      "Feature Function                  Lambda               Rank         EDoF         P > x        Sig. Code   \n",
      "================================= ==================== ============ ============ ============ ============\n",
      "s(0)                              [0.6]                20           14.5         1.11e-16     ***         \n",
      "intercept                                              1            0.0          1.11e-16     ***         \n",
      "==========================================================================================================\n",
      "Significance codes:  0 '***' 0.001 '**' 0.01 '*' 0.05 '.' 0.1 ' ' 1\n",
      "\n",
      "WARNING: Fitting splines and a linear function to a feature introduces a model identifiability problem\n",
      "         which can cause p-values to appear significant when they are not.\n",
      "\n",
      "WARNING: p-values calculated in this manner behave correctly for un-penalized models or models with\n",
      "         known smoothing parameters, but when smoothing parameters have been estimated, the p-values\n",
      "         are typically lower than they should be, meaning that the tests reject the null too readily.\n"
     ]
    },
    {
     "name": "stderr",
     "output_type": "stream",
     "text": [
      "/Applications/anaconda3/envs/ssml/lib/python3.9/site-packages/pygam/pygam.py:593: RuntimeWarning: invalid value encountered in reciprocal\n",
      "  weights ** -1)**-0.5)\n",
      "/Applications/anaconda3/envs/ssml/lib/python3.9/site-packages/pygam/pygam.py:752: RuntimeWarning: invalid value encountered in reciprocal\n",
      "  np.fill_diagonal(Dinv, d**-1) # invert the singular values\n",
      "/Applications/anaconda3/envs/ssml/lib/python3.9/site-packages/pygam/distributions.py:86: RuntimeWarning: invalid value encountered in reciprocal\n",
      "  return (np.sum(weights * self.V(mu)**-1 * (y - mu)**2) /\n",
      "/var/folders/6g/kgz5rml118s6lqw25w5sv5mr0000gn/T/ipykernel_2333/4189625168.py:19: UserWarning: KNOWN BUG: p-values computed in this summary are likely much smaller than they should be. \n",
      " \n",
      "Please do not make inferences based on these values! \n",
      "\n",
      "Collaborate on a solution, and stay up to date at: \n",
      "github.com/dswah/pyGAM/issues/163 \n",
      "\n",
      "  gam_500.summary()\n"
     ]
    }
   ],
   "source": [
    "# data/predictors as the NDVI_500\n",
    "df = pd.DataFrame(gdf_500, columns=['NDVI_500'])\n",
    "\n",
    "# target as Grass%_500\n",
    "target = pd.DataFrame(gdf_500, columns=['Grass%_500'])\n",
    "\n",
    "# define X and Y\n",
    "X = df\n",
    "y = target['Grass%_500']\n",
    "\n",
    "# split independent and dependent variables into training and test data\n",
    "X_train, X_test, y_train, y_test = train_test_split(X, y, test_size=0.2, random_state=0)\n",
    "\n",
    "# fit GAM model\n",
    "#gam_500 = LinearGAM(s(0, n_splines=25)).fit(X_train, y_train, weights=None)\n",
    "gam_500 = LinearGAM(s(0)).fit(X_train, y_train, weights=None)\n",
    "\n",
    "# check model statistics\n",
    "gam_500.summary()"
   ]
  },
  {
   "cell_type": "code",
   "execution_count": 91,
   "id": "2995eacb",
   "metadata": {},
   "outputs": [],
   "source": [
    "# convert X_test and y_test to array values\n",
    "#y_test = y_test.iloc[:, 0:1].values\n",
    "X_test = X_test.iloc[:, 0:1].values\n",
    "\n",
    "# make predictions\n",
    "y_pred = gam_500.predict(X_test)"
   ]
  },
  {
   "cell_type": "code",
   "execution_count": 92,
   "id": "96c1d48c",
   "metadata": {},
   "outputs": [
    {
     "data": {
      "image/png": "[encoded data removed]",
      "text/plain": [
       "<Figure size 432x288 with 1 Axes>"
      ]
     },
     "metadata": {
      "needs_background": "light"
     },
     "output_type": "display_data"
    }
   ],
   "source": [
    "# plot output\n",
    "plt.scatter(X_test, y_test, color=\"forestgreen\")\n",
    "plt.plot(X_test, y_pred, color=\"black\", linewidth=2)\n",
    "\n",
    "# set title, xlabel and ylabel\n",
    "plt.title('Generalized Additive Model (GAM) at 500m')\n",
    "plt.xlabel('NDVI_500')\n",
    "plt.ylabel('Grass%_500')\n",
    "\n",
    "# save the figure\n",
    "plt.savefig('thesis_project/visualizations/modelling/gam_ndvi_grass_500_plot.png', dpi=300, bbox_inches='tight')\n",
    "\n",
    "plt.show()"
   ]
  },
  {
   "cell_type": "markdown",
   "id": "9fcfc4be",
   "metadata": {},
   "source": [
    "### 3.4. How does NDVI predict Shrubs%?"
   ]
  },
  {
   "cell_type": "markdown",
   "id": "8bd113b2",
   "metadata": {},
   "source": [
    "#### 3.4.1. Linear Regression Model"
   ]
  },
  {
   "cell_type": "code",
   "execution_count": 109,
   "id": "b3aa53b6",
   "metadata": {},
   "outputs": [],
   "source": [
    "# NDVI_500 as the predictor\n",
    "df = pd.DataFrame(gdf_500, columns=['NDVI_500'])\n",
    "\n",
    "# Shrubs%_500 as the target\n",
    "target = pd.DataFrame(gdf_500, columns=['Shrubs%_500'])\n",
    "\n",
    "# define X and y\n",
    "X = df\n",
    "y = target['Shrubs%_500']\n",
    "\n",
    "# split independent and dependent variables into training and test data\n",
    "X_train, X_test, y_train, y_test = train_test_split(X, y, test_size=0.2, random_state=0)\n",
    "\n",
    "# fit the linear model\n",
    "lm_500 = linear_model.LinearRegression()\n",
    "model_500 = lm_500.fit(X_train,y_train)"
   ]
  },
  {
   "cell_type": "code",
   "execution_count": 110,
   "id": "e001b876",
   "metadata": {},
   "outputs": [
    {
     "name": "stdout",
     "output_type": "stream",
     "text": [
      "Coefficient of NDVI_500 (or slope): [0.55192994]\n",
      "Intercept: -0.01895652192903391\n",
      "R-squared: 0.18863045187781124\n"
     ]
    }
   ],
   "source": [
    "# linear model coefficient, intercept, and R-squared \n",
    "print('Coefficient of NDVI_500 (or slope):', model_500.coef_)\n",
    "print('Intercept:', model_500.intercept_)\n",
    "print('R-squared:', model_500.score(X_train,y_train))"
   ]
  },
  {
   "cell_type": "code",
   "execution_count": 111,
   "id": "53776d83",
   "metadata": {},
   "outputs": [],
   "source": [
    "# make predictions\n",
    "y_pred = model_500.predict(X_test)\n",
    "\n",
    "# compare actual values with predicted ones\n",
    "df = pd.DataFrame({'Actual': y_test, 'Predicted': y_pred})\n",
    "\n",
    "# convert X_test to array values (for later use when plotting)\n",
    "X_test = X_test.iloc[:, 0:1].values"
   ]
  },
  {
   "cell_type": "code",
   "execution_count": 112,
   "id": "5c650939",
   "metadata": {},
   "outputs": [
    {
     "name": "stdout",
     "output_type": "stream",
     "text": [
      "Mean Absolute Error: 0.14067685530427945\n",
      "Mean Squared Error: 0.041838321807468375\n",
      "Root Mean Squared Error: 0.20454418057590487\n"
     ]
    }
   ],
   "source": [
    "# evaluate the model\n",
    "print('Mean Absolute Error:', metrics.mean_absolute_error(y_test, y_pred))\n",
    "print('Mean Squared Error:', metrics.mean_squared_error(y_test, y_pred))\n",
    "print('Root Mean Squared Error:', np.sqrt(metrics.mean_squared_error(y_test, y_pred)))"
   ]
  },
  {
   "cell_type": "code",
   "execution_count": 113,
   "id": "5be3ab66",
   "metadata": {},
   "outputs": [
    {
     "data": {
      "image/png": "[encoded data removed]",
      "text/plain": [
       "<Figure size 432x288 with 1 Axes>"
      ]
     },
     "metadata": {
      "needs_background": "light"
     },
     "output_type": "display_data"
    }
   ],
   "source": [
    "# plot outputs\n",
    "plt.scatter(X_test, y_test, color=\"forestgreen\")\n",
    "plt.plot(X_test, y_pred, color=\"black\", linewidth=2)\n",
    "\n",
    "plt.xticks(np.arange(0, 1.1, step = 0.2))\n",
    "plt.yticks(np.arange(0, 1.1, step = 0.2))\n",
    "\n",
    "# set title, xlabel and ylabel\n",
    "plt.title('Linear Regression Model at 500m')\n",
    "plt.xlabel('NDVI_500')\n",
    "plt.ylabel('Shrubs%_500')\n",
    "\n",
    "# save the figure\n",
    "plt.savefig('thesis_project/visualizations/modelling/lm_ndvi_shrubs_500_plot.png', dpi=300, bbox_inches='tight')\n",
    "\n",
    "plt.show()"
   ]
  },
  {
   "cell_type": "markdown",
   "id": "5fd838a3",
   "metadata": {},
   "source": [
    "#### 3.4.2. Generalized Additive Model (GAM)"
   ]
  },
  {
   "cell_type": "code",
   "execution_count": 114,
   "id": "828e28db",
   "metadata": {},
   "outputs": [
    {
     "name": "stdout",
     "output_type": "stream",
     "text": [
      "LinearGAM                                                                                                 \n",
      "=============================================== ==========================================================\n",
      "Distribution:                        NormalDist Effective DoF:                                     14.5125\n",
      "Link Function:                     IdentityLink Log Likelihood:                                -24793.1515\n",
      "Number of Samples:                         2325 AIC:                                            49617.3278\n",
      "                                                AICc:                                           49617.5498\n",
      "                                                GCV:                                                0.0386\n",
      "                                                Scale:                                              0.0382\n",
      "                                                Pseudo R-Squared:                                   0.2082\n",
      "==========================================================================================================\n",
      "Feature Function                  Lambda               Rank         EDoF         P > x        Sig. Code   \n",
      "================================= ==================== ============ ============ ============ ============\n",
      "s(0)                              [0.6]                20           14.5         1.11e-16     ***         \n",
      "intercept                                              1            0.0          1.11e-16     ***         \n",
      "==========================================================================================================\n",
      "Significance codes:  0 '***' 0.001 '**' 0.01 '*' 0.05 '.' 0.1 ' ' 1\n",
      "\n",
      "WARNING: Fitting splines and a linear function to a feature introduces a model identifiability problem\n",
      "         which can cause p-values to appear significant when they are not.\n",
      "\n",
      "WARNING: p-values calculated in this manner behave correctly for un-penalized models or models with\n",
      "         known smoothing parameters, but when smoothing parameters have been estimated, the p-values\n",
      "         are typically lower than they should be, meaning that the tests reject the null too readily.\n"
     ]
    },
    {
     "name": "stderr",
     "output_type": "stream",
     "text": [
      "/Applications/anaconda3/envs/ssml/lib/python3.9/site-packages/pygam/pygam.py:593: RuntimeWarning: invalid value encountered in reciprocal\n",
      "  weights ** -1)**-0.5)\n",
      "/Applications/anaconda3/envs/ssml/lib/python3.9/site-packages/pygam/pygam.py:752: RuntimeWarning: invalid value encountered in reciprocal\n",
      "  np.fill_diagonal(Dinv, d**-1) # invert the singular values\n",
      "/Applications/anaconda3/envs/ssml/lib/python3.9/site-packages/pygam/distributions.py:86: RuntimeWarning: invalid value encountered in reciprocal\n",
      "  return (np.sum(weights * self.V(mu)**-1 * (y - mu)**2) /\n",
      "/var/folders/6g/kgz5rml118s6lqw25w5sv5mr0000gn/T/ipykernel_2333/1732242172.py:19: UserWarning: KNOWN BUG: p-values computed in this summary are likely much smaller than they should be. \n",
      " \n",
      "Please do not make inferences based on these values! \n",
      "\n",
      "Collaborate on a solution, and stay up to date at: \n",
      "github.com/dswah/pyGAM/issues/163 \n",
      "\n",
      "  gam_500.summary()\n"
     ]
    }
   ],
   "source": [
    "# data/predictors as the NDVI_500\n",
    "df = pd.DataFrame(gdf_500, columns=['NDVI_500'])\n",
    "\n",
    "# target as Shrubs%_500\n",
    "target = pd.DataFrame(gdf_500, columns=['Shrubs%_500'])\n",
    "\n",
    "# define X and Y\n",
    "X = df\n",
    "y = target['Shrubs%_500']\n",
    "\n",
    "# split independent and dependent variables into training and test data\n",
    "X_train, X_test, y_train, y_test = train_test_split(X, y, test_size=0.2, random_state=0)\n",
    "\n",
    "# fit GAM model\n",
    "#gam_500 = LinearGAM(s(0, n_splines=25)).fit(X_train, y_train, weights=None)\n",
    "gam_500 = LinearGAM(s(0)).fit(X_train, y_train, weights=None)\n",
    "\n",
    "# check model statistics\n",
    "gam_500.summary()"
   ]
  },
  {
   "cell_type": "code",
   "execution_count": 115,
   "id": "6839e317",
   "metadata": {},
   "outputs": [],
   "source": [
    "# convert X_test and y_test to array values\n",
    "#y_test = y_test.iloc[:, 0:1].values\n",
    "X_test = X_test.iloc[:, 0:1].values\n",
    "\n",
    "# make predictions\n",
    "y_pred = gam_500.predict(X_test)"
   ]
  },
  {
   "cell_type": "code",
   "execution_count": 116,
   "id": "cb9915a7",
   "metadata": {},
   "outputs": [
    {
     "data": {
      "image/png": "[encoded data removed]",
      "text/plain": [
       "<Figure size 432x288 with 1 Axes>"
      ]
     },
     "metadata": {
      "needs_background": "light"
     },
     "output_type": "display_data"
    }
   ],
   "source": [
    "# plot output\n",
    "plt.scatter(X_test, y_test, color=\"forestgreen\")\n",
    "plt.plot(X_test, y_pred, color=\"black\", linewidth=2)\n",
    "\n",
    "# set title, xlabel and ylabel\n",
    "plt.title('Generalized Additive Model (GAM) at 500m')\n",
    "plt.xlabel('NDVI_500')\n",
    "plt.ylabel('Shrubs%_500')\n",
    "\n",
    "# save the figure\n",
    "plt.savefig('thesis_project/visualizations/modelling/gam_ndvi_shrubs_500_plot.png', dpi=300, bbox_inches='tight')\n",
    "\n",
    "plt.show()"
   ]
  },
  {
   "cell_type": "markdown",
   "id": "6982656c",
   "metadata": {},
   "source": [
    "### 3.5. How do Grass%, Canopy%, and Shrubs% predict NDVI?"
   ]
  },
  {
   "cell_type": "code",
   "execution_count": 82,
   "id": "bc5db3fd",
   "metadata": {},
   "outputs": [
    {
     "name": "stdout",
     "output_type": "stream",
     "text": [
      "LinearGAM                                                                                                 \n",
      "=============================================== ==========================================================\n",
      "Distribution:                        NormalDist Effective DoF:                                      39.986\n",
      "Link Function:                     IdentityLink Log Likelihood:                               -125772.0245\n",
      "Number of Samples:                         2325 AIC:                                           251626.0211\n",
      "                                                AICc:                                          251627.5286\n",
      "                                                GCV:                                                0.0088\n",
      "                                                Scale:                                              0.0085\n",
      "                                                Pseudo R-Squared:                                   0.7192\n",
      "==========================================================================================================\n",
      "Feature Function                  Lambda               Rank         EDoF         P > x        Sig. Code   \n",
      "================================= ==================== ============ ============ ============ ============\n",
      "s(0)                              [0.6]                20           13.4         1.11e-16     ***         \n",
      "s(1)                              [0.6]                20           12.9         1.11e-16     ***         \n",
      "s(2)                              [0.6]                20           13.7         1.11e-16     ***         \n",
      "intercept                                              1            0.0          1.11e-16     ***         \n",
      "==========================================================================================================\n",
      "Significance codes:  0 '***' 0.001 '**' 0.01 '*' 0.05 '.' 0.1 ' ' 1\n",
      "\n",
      "WARNING: Fitting splines and a linear function to a feature introduces a model identifiability problem\n",
      "         which can cause p-values to appear significant when they are not.\n",
      "\n",
      "WARNING: p-values calculated in this manner behave correctly for un-penalized models or models with\n",
      "         known smoothing parameters, but when smoothing parameters have been estimated, the p-values\n",
      "         are typically lower than they should be, meaning that the tests reject the null too readily.\n"
     ]
    },
    {
     "name": "stderr",
     "output_type": "stream",
     "text": [
      "/Applications/anaconda3/envs/ssml/lib/python3.9/site-packages/pygam/pygam.py:593: RuntimeWarning: invalid value encountered in reciprocal\n",
      "  weights ** -1)**-0.5)\n",
      "/Applications/anaconda3/envs/ssml/lib/python3.9/site-packages/pygam/pygam.py:752: RuntimeWarning: invalid value encountered in reciprocal\n",
      "  np.fill_diagonal(Dinv, d**-1) # invert the singular values\n",
      "/Applications/anaconda3/envs/ssml/lib/python3.9/site-packages/pygam/distributions.py:86: RuntimeWarning: invalid value encountered in reciprocal\n",
      "  return (np.sum(weights * self.V(mu)**-1 * (y - mu)**2) /\n",
      "/var/folders/6g/kgz5rml118s6lqw25w5sv5mr0000gn/T/ipykernel_3269/109390558.py:23: UserWarning: KNOWN BUG: p-values computed in this summary are likely much smaller than they should be. \n",
      " \n",
      "Please do not make inferences based on these values! \n",
      "\n",
      "Collaborate on a solution, and stay up to date at: \n",
      "github.com/dswah/pyGAM/issues/163 \n",
      "\n",
      "  gam_500.summary()\n"
     ]
    }
   ],
   "source": [
    "# data/predictors as Grass%, Canopy%, and Shrubs%\n",
    "cols = ['Grass%_500', 'Canopy%_500', 'Shrubs%_500']\n",
    "df = pd.DataFrame(gdf_500, columns=cols)\n",
    "\n",
    "# target as NDVI_500\n",
    "target = pd.DataFrame(gdf_500, columns=['NDVI_500'])\n",
    "\n",
    "# define X and Y\n",
    "X = df\n",
    "y = target['NDVI_500']\n",
    "#X = df.iloc[:, 0:3].values\n",
    "\n",
    "# split independent and dependent variables into training and test data\n",
    "X_train, X_test, y_train, y_test = train_test_split(X, y, test_size=0.2, random_state=0)\n",
    "\n",
    "# model\n",
    "gam_500 = LinearGAM(s(0) + s(1) + s(2)).fit(X_train, y_train)\n",
    "#gam_500 = LinearGAM(n_splines=10).gridsearch(X, y)\n",
    "#gam_500 = LinearGAM(s(0) + s(1) + s(2))\n",
    "#gam_500.gridsearch(X, y)\n",
    "\n",
    "# check model statistics\n",
    "gam_500.summary()"
   ]
  },
  {
   "cell_type": "code",
   "execution_count": 88,
   "id": "f4b54557",
   "metadata": {},
   "outputs": [
    {
     "data": {
      "text/plain": [
       "<Figure size 432x288 with 0 Axes>"
      ]
     },
     "metadata": {},
     "output_type": "display_data"
    },
    {
     "data": {
      "image/png": "[encoded data removed]",
      "text/plain": [
       "<Figure size 432x288 with 3 Axes>"
      ]
     },
     "metadata": {
      "needs_background": "light"
     },
     "output_type": "display_data"
    }
   ],
   "source": [
    "## plotting\n",
    "plt.figure();\n",
    "fig, axs = plt.subplots(1,3);\n",
    "\n",
    "titles = ['Grass%_500', 'Canopy%_500', 'Shrubs%_500']\n",
    "for i, ax in enumerate(axs):\n",
    "    XX = gam_500.generate_X_grid(term=i)\n",
    "    ax.plot(XX[:, i], gam_500.partial_dependence(term=i, X=XX))\n",
    "    ax.plot(XX[:, i], gam_500.partial_dependence(term=i, X=XX, width=.95)[1], c='r', ls='--')\n",
    "    ax.set_ylim(-0.5, 0.5)\n",
    "    ax.set_xticks(list(ax.get_xticks()))\n",
    "    ax.hlines(y=0, xmin=0, xmax=1, linewidth=1, color='black', linestyle='--')\n",
    "    ax.set_ylabel('Predicted NDVI', fontsize=12)\n",
    "    ax.set_title(titles[i], fontsize=12);\n",
    "    \n",
    "# non-overlapping subplots\n",
    "plt.tight_layout()\n",
    "    \n",
    "# save the figure\n",
    "plt.savefig('thesis_project/visualizations/modelling/gam_ndvi_500_plot.png', dpi=300, bbox_inches='tight')\n",
    "\n",
    "plt.show()"
   ]
  },
  {
   "cell_type": "markdown",
   "id": "5e5b7c1b",
   "metadata": {},
   "source": [
    "## 4. Prediction sensitivity to changes in low, mid, and high NDVI values"
   ]
  },
  {
   "cell_type": "markdown",
   "id": "ecd57d5a",
   "metadata": {},
   "source": [
    "### 4.1. At 100m"
   ]
  },
  {
   "cell_type": "code",
   "execution_count": 184,
   "id": "d3881cc6",
   "metadata": {},
   "outputs": [
    {
     "data": {
      "text/html": [
       "<div>\n",
       "<style scoped>\n",
       "    .dataframe tbody tr th:only-of-type {\n",
       "        vertical-align: middle;\n",
       "    }\n",
       "\n",
       "    .dataframe tbody tr th {\n",
       "        vertical-align: top;\n",
       "    }\n",
       "\n",
       "    .dataframe thead th {\n",
       "        text-align: right;\n",
       "    }\n",
       "</style>\n",
       "<table border=\"1\" class=\"dataframe\">\n",
       "  <thead>\n",
       "    <tr style=\"text-align: right;\">\n",
       "      <th></th>\n",
       "      <th>Changes in NDVI</th>\n",
       "      <th>Greenspace%_100</th>\n",
       "      <th>Grass%_100</th>\n",
       "      <th>Canopy%_100</th>\n",
       "      <th>Shrubs%_100</th>\n",
       "    </tr>\n",
       "  </thead>\n",
       "  <tbody>\n",
       "    <tr>\n",
       "      <th>0</th>\n",
       "      <td>Low-range (0.25 to 0.35)</td>\n",
       "      <td>0.1056</td>\n",
       "      <td>0.0224</td>\n",
       "      <td>0.0593</td>\n",
       "      <td>0.0360</td>\n",
       "    </tr>\n",
       "    <tr>\n",
       "      <th>1</th>\n",
       "      <td>Mid-range (0.45 to 0.55)</td>\n",
       "      <td>0.1984</td>\n",
       "      <td>0.0384</td>\n",
       "      <td>0.0720</td>\n",
       "      <td>0.1012</td>\n",
       "    </tr>\n",
       "    <tr>\n",
       "      <th>2</th>\n",
       "      <td>High-range (0.65 to 0.75)</td>\n",
       "      <td>0.1163</td>\n",
       "      <td>0.0238</td>\n",
       "      <td>-0.0516</td>\n",
       "      <td>0.0832</td>\n",
       "    </tr>\n",
       "  </tbody>\n",
       "</table>\n",
       "</div>"
      ],
      "text/plain": [
       "             Changes in NDVI  Greenspace%_100  Grass%_100  Canopy%_100  \\\n",
       "0   Low-range (0.25 to 0.35)           0.1056      0.0224       0.0593   \n",
       "1   Mid-range (0.45 to 0.55)           0.1984      0.0384       0.0720   \n",
       "2  High-range (0.65 to 0.75)           0.1163      0.0238      -0.0516   \n",
       "\n",
       "   Shrubs%_100  \n",
       "0       0.0360  \n",
       "1       0.1012  \n",
       "2       0.0832  "
      ]
     },
     "execution_count": 184,
     "metadata": {},
     "output_type": "execute_result"
    }
   ],
   "source": [
    "# data of lists\n",
    "data_100 = {'Changes in NDVI': ['Low-range (0.25 to 0.35)', 'Mid-range (0.45 to 0.55)', 'High-range (0.65 to 0.75)'], \n",
    "        'Greenspace%_100': [green_sens_low, green_sens_mid, green_sens_hig],\n",
    "        'Grass%_100': [grass_sens_low, grass_sens_mid, grass_sens_hig],\n",
    "        'Canopy%_100': [canopy_sens_low, canopy_sens_mid, canopy_sens_hig], \n",
    "        'Shrubs%_100': [shrubs_sens_low, shrubs_sens_mid, shrubs_sens_hig]}  \n",
    "  \n",
    "# create DataFrame  \n",
    "df_sens_100 = pd.DataFrame(data_100)\n",
    "df_sens_100 = df_sens_100.round(4)\n",
    "df_sens_100.head()"
   ]
  },
  {
   "cell_type": "code",
   "execution_count": 185,
   "id": "f477c27d",
   "metadata": {},
   "outputs": [
    {
     "data": {
      "image/png": "[encoded data removed]",
      "text/plain": [
       "<Figure size 432x288 with 1 Axes>"
      ]
     },
     "metadata": {
      "needs_background": "light"
     },
     "output_type": "display_data"
    }
   ],
   "source": [
    "# plotting\n",
    "fig, ax = plt.subplots()\n",
    "\n",
    "# hide axes\n",
    "fig.patch.set_visible(False)\n",
    "ax.axis('off')\n",
    "ax.axis('tight')\n",
    "\n",
    "#df = pd.DataFrame(np.random.randn(10, 4), columns=list('ABCD'))\n",
    "\n",
    "ax.table(cellText=df_sens_100.values, colLabels=df_sens_100.columns, loc='center')\n",
    "\n",
    "fig.tight_layout()\n",
    "\n",
    "# save the figure\n",
    "plt.savefig('thesis_project/visualizations/modelling/sensitivity_100_table.png', dpi=300, bbox_inches='tight')\n",
    "\n",
    "plt.show()"
   ]
  },
  {
   "cell_type": "markdown",
   "id": "5dfe56f6",
   "metadata": {},
   "source": [
    "### 4.2. At 300m"
   ]
  },
  {
   "cell_type": "code",
   "execution_count": null,
   "id": "7e8c3d6a",
   "metadata": {},
   "outputs": [],
   "source": [
    "# data of lists\n",
    "data_100 = {'Changes in NDVI': ['Low-range (0.25 to 0.35)', 'Mid-range (0.45 to 0.55)', 'High-range (0.65 to 0.75)'], \n",
    "        'Greenspace%_100': [green_sens_low, green_sens_mid, green_sens_hig],\n",
    "        'Grass%_100': [grass_sens_low, grass_sens_mid, grass_sens_hig],\n",
    "        'Canopy%_100': [canopy_sens_low, canopy_sens_mid, canopy_sens_hig], \n",
    "        'Shrubs%_100': [shrubs_sens_low, shrubs_sens_mid, shrubs_sens_hig]}  \n",
    "  \n",
    "# create DataFrame  \n",
    "df_sens_100 = pd.DataFrame(data_100)\n",
    "df_sens_100 = df_sens_100.round(4)\n",
    "df_sens_100.head()"
   ]
  },
  {
   "cell_type": "markdown",
   "id": "983bbab1",
   "metadata": {},
   "source": [
    "### 4.3. At 500m"
   ]
  }
 ],
 "metadata": {
  "kernelspec": {
   "display_name": "Python 3 (ipykernel)",
   "language": "python",
   "name": "python3"
  },
  "language_info": {
   "codemirror_mode": {
    "name": "ipython",
    "version": 3
   },
   "file_extension": ".py",
   "mimetype": "text/x-python",
   "name": "python",
   "nbconvert_exporter": "python",
   "pygments_lexer": "ipython3",
   "version": "3.9.10"
  }
 },
 "nbformat": 4,
 "nbformat_minor": 5
}
