{
 "cells": [
  {
   "cell_type": "markdown",
   "id": "9744e7bb",
   "metadata": {},
   "source": [
    "# Modelling Greenspace Metrics"
   ]
  },
  {
   "cell_type": "code",
   "execution_count": 1,
   "id": "febe111d",
   "metadata": {},
   "outputs": [],
   "source": [
    "import numpy as np\n",
    "import pandas as pd\n",
    "import geopandas as gpd\n",
    "import matplotlib.pyplot as plt\n",
    "from pygam import LinearGAM, s\n",
    "from sklearn import linear_model, metrics\n",
    "from sklearn.model_selection import train_test_split\n",
    "from sklearn.metrics import accuracy_score"
   ]
  },
  {
   "cell_type": "code",
   "execution_count": 2,
   "id": "aeed14f2",
   "metadata": {},
   "outputs": [],
   "source": [
    "#! pip install pygam"
   ]
  },
  {
   "cell_type": "markdown",
   "id": "48da419d",
   "metadata": {},
   "source": [
    "## 1. Modelling greenspace metrics at 100m"
   ]
  },
  {
   "cell_type": "code",
   "execution_count": 3,
   "id": "8e0e7418",
   "metadata": {},
   "outputs": [
    {
     "data": {
      "text/html": [
       "<div>\n",
       "<style scoped>\n",
       "    .dataframe tbody tr th:only-of-type {\n",
       "        vertical-align: middle;\n",
       "    }\n",
       "\n",
       "    .dataframe tbody tr th {\n",
       "        vertical-align: top;\n",
       "    }\n",
       "\n",
       "    .dataframe thead th {\n",
       "        text-align: right;\n",
       "    }\n",
       "</style>\n",
       "<table border=\"1\" class=\"dataframe\">\n",
       "  <thead>\n",
       "    <tr style=\"text-align: right;\">\n",
       "      <th></th>\n",
       "      <th>NDVI_100</th>\n",
       "      <th>Greenspace%_100</th>\n",
       "      <th>Canopy%_100</th>\n",
       "      <th>Grass%_100</th>\n",
       "      <th>geometry</th>\n",
       "    </tr>\n",
       "  </thead>\n",
       "  <tbody>\n",
       "    <tr>\n",
       "      <th>0</th>\n",
       "      <td>0.604345</td>\n",
       "      <td>0.601428</td>\n",
       "      <td>0.188163</td>\n",
       "      <td>0.127273</td>\n",
       "      <td>POINT (366247.996 408833.065)</td>\n",
       "    </tr>\n",
       "    <tr>\n",
       "      <th>1</th>\n",
       "      <td>0.488456</td>\n",
       "      <td>0.465199</td>\n",
       "      <td>0.479434</td>\n",
       "      <td>0.054545</td>\n",
       "      <td>POINT (385813.833 395579.780)</td>\n",
       "    </tr>\n",
       "    <tr>\n",
       "      <th>2</th>\n",
       "      <td>0.692624</td>\n",
       "      <td>0.805473</td>\n",
       "      <td>0.205100</td>\n",
       "      <td>0.070455</td>\n",
       "      <td>POINT (386030.989 413487.405)</td>\n",
       "    </tr>\n",
       "    <tr>\n",
       "      <th>3</th>\n",
       "      <td>0.456658</td>\n",
       "      <td>0.837002</td>\n",
       "      <td>0.114089</td>\n",
       "      <td>0.084091</td>\n",
       "      <td>POINT (358245.324 404183.111)</td>\n",
       "    </tr>\n",
       "    <tr>\n",
       "      <th>4</th>\n",
       "      <td>0.466913</td>\n",
       "      <td>0.389054</td>\n",
       "      <td>0.269682</td>\n",
       "      <td>0.052273</td>\n",
       "      <td>POINT (378537.192 392738.452)</td>\n",
       "    </tr>\n",
       "  </tbody>\n",
       "</table>\n",
       "</div>"
      ],
      "text/plain": [
       "   NDVI_100  Greenspace%_100  Canopy%_100  Grass%_100  \\\n",
       "0  0.604345         0.601428     0.188163    0.127273   \n",
       "1  0.488456         0.465199     0.479434    0.054545   \n",
       "2  0.692624         0.805473     0.205100    0.070455   \n",
       "3  0.456658         0.837002     0.114089    0.084091   \n",
       "4  0.466913         0.389054     0.269682    0.052273   \n",
       "\n",
       "                        geometry  \n",
       "0  POINT (366247.996 408833.065)  \n",
       "1  POINT (385813.833 395579.780)  \n",
       "2  POINT (386030.989 413487.405)  \n",
       "3  POINT (358245.324 404183.111)  \n",
       "4  POINT (378537.192 392738.452)  "
      ]
     },
     "execution_count": 3,
     "metadata": {},
     "output_type": "execute_result"
    }
   ],
   "source": [
    "# load greenspace metrics at 100m geodataframe\n",
    "gdf_100 = gpd.read_file(\"thesis_project/output/dataframes/greenspace_metrics_100_gm.json\")\n",
    "gdf_100.head()"
   ]
  },
  {
   "cell_type": "markdown",
   "id": "c6cf24c0",
   "metadata": {},
   "source": [
    "### 1.1. How does NDVI predict Greenspace%?"
   ]
  },
  {
   "cell_type": "markdown",
   "id": "cad2f999",
   "metadata": {},
   "source": [
    "#### 1.1.1. Linear Regression Model"
   ]
  },
  {
   "cell_type": "code",
   "execution_count": 4,
   "id": "afbda8b2",
   "metadata": {},
   "outputs": [],
   "source": [
    "# data/predictors as the NDVI_100\n",
    "df_100 = pd.DataFrame(gdf_100, columns=['NDVI_100'])\n",
    "\n",
    "# target as Greenspace%_100\n",
    "target_100 = pd.DataFrame(gdf_100, columns=['Greenspace%_100'])\n",
    "\n",
    "# define X and y\n",
    "X = df_100\n",
    "y = target_100['Greenspace%_100']\n",
    "\n",
    "# split independent and dependent variables into training and test data\n",
    "X_train, X_test, y_train, y_test = train_test_split(X, y, test_size=0.2, random_state=0)\n",
    "\n",
    "# fit the linear model\n",
    "lm_100 = linear_model.LinearRegression()\n",
    "model_100 = lm_100.fit(X_train,y_train)"
   ]
  },
  {
   "cell_type": "code",
   "execution_count": 5,
   "id": "a657facf",
   "metadata": {},
   "outputs": [
    {
     "name": "stdout",
     "output_type": "stream",
     "text": [
      "Coefficient of NDVI_100 (or slope): [1.40352637]\n",
      "Intercept: -0.15549657891201918\n",
      "R-squared: 0.6806489209777122\n"
     ]
    }
   ],
   "source": [
    "# linear model coefficient, intercept, and R-squared \n",
    "print('Coefficient of NDVI_100 (or slope):', model_100.coef_)\n",
    "print('Intercept:', model_100.intercept_)\n",
    "print('R-squared:', model_100.score(X_train,y_train))"
   ]
  },
  {
   "cell_type": "code",
   "execution_count": 6,
   "id": "9fc8e351",
   "metadata": {},
   "outputs": [],
   "source": [
    "# make predictions\n",
    "y_pred = model_100.predict(X_test)\n",
    "\n",
    "# compare actual values with predicted ones\n",
    "df_pred = pd.DataFrame({'Actual': y_test, 'Predicted': y_pred})\n",
    "\n",
    "# convert X_test to array values\n",
    "X_test = X_test.iloc[:, 0:1].values"
   ]
  },
  {
   "cell_type": "code",
   "execution_count": 7,
   "id": "50baa1a9",
   "metadata": {},
   "outputs": [
    {
     "name": "stdout",
     "output_type": "stream",
     "text": [
      "Mean Absolute Error: 0.10836987631358297\n",
      "Mean Squared Error: 0.023276392656485897\n",
      "Root Mean Squared Error: 0.15256602720293236\n"
     ]
    }
   ],
   "source": [
    "# evaluate the model\n",
    "print('Mean Absolute Error:', metrics.mean_absolute_error(y_test, y_pred))\n",
    "print('Mean Squared Error:', metrics.mean_squared_error(y_test, y_pred))\n",
    "print('Root Mean Squared Error:', np.sqrt(metrics.mean_squared_error(y_test, y_pred)))"
   ]
  },
  {
   "cell_type": "code",
   "execution_count": 8,
   "id": "ca64fa1f",
   "metadata": {},
   "outputs": [
    {
     "data": {
      "image/png": "[encoded data removed]",
      "text/plain": [
       "<Figure size 432x288 with 1 Axes>"
      ]
     },
     "metadata": {
      "needs_background": "light"
     },
     "output_type": "display_data"
    }
   ],
   "source": [
    "# plot outputs\n",
    "plt.scatter(X_test, y_test, color=\"forestgreen\")\n",
    "plt.plot(X_test, y_pred, color=\"black\", linewidth=2)\n",
    "\n",
    "plt.xticks(np.arange(0, 1.1, step = 0.2))\n",
    "plt.yticks(np.arange(0, 1.1, step = 0.2))\n",
    "\n",
    "# set title, xlabel and ylabel\n",
    "plt.title('Linear Regression Model at 100m')\n",
    "plt.xlabel('NDVI_100')\n",
    "plt.ylabel('Greenspace%_100')\n",
    "\n",
    "# save the figure\n",
    "plt.savefig('thesis_project/visualizations/modelling/lm_ndvi_green_100_plot.png', dpi=300, bbox_inches='tight')\n",
    "\n",
    "plt.show()"
   ]
  },
  {
   "cell_type": "code",
   "execution_count": 9,
   "id": "bcdf53c0",
   "metadata": {},
   "outputs": [
    {
     "name": "stdout",
     "output_type": "stream",
     "text": [
      "[0.26556133]\n"
     ]
    },
    {
     "name": "stderr",
     "output_type": "stream",
     "text": [
      "/Applications/anaconda3/envs/ssml/lib/python3.9/site-packages/sklearn/base.py:450: UserWarning: X does not have valid feature names, but LinearRegression was fitted with feature names\n",
      "  warnings.warn(\n",
      "/Applications/anaconda3/envs/ssml/lib/python3.9/site-packages/sklearn/base.py:450: UserWarning: X does not have valid feature names, but LinearRegression was fitted with feature names\n",
      "  warnings.warn(\n"
     ]
    }
   ],
   "source": [
    "# predict Greenspace%_100 values for NDVI equalt to 0.3\n",
    "X_t_0 = [[0.3]]\n",
    "y_t_0 = model_100.predict(X_t_0)\n",
    "print(model_100.predict(X_t_0))"
   ]
  },
  {
   "cell_type": "code",
   "execution_count": 10,
   "id": "1d772e90",
   "metadata": {},
   "outputs": [
    {
     "name": "stdout",
     "output_type": "stream",
     "text": [
      "[0.40591397]\n"
     ]
    },
    {
     "name": "stderr",
     "output_type": "stream",
     "text": [
      "/Applications/anaconda3/envs/ssml/lib/python3.9/site-packages/sklearn/base.py:450: UserWarning: X does not have valid feature names, but LinearRegression was fitted with feature names\n",
      "  warnings.warn(\n",
      "/Applications/anaconda3/envs/ssml/lib/python3.9/site-packages/sklearn/base.py:450: UserWarning: X does not have valid feature names, but LinearRegression was fitted with feature names\n",
      "  warnings.warn(\n"
     ]
    }
   ],
   "source": [
    "# predict Greenspace%_100 values for NDVI equalt to 0.4\n",
    "X_t_1 = [[0.4]]\n",
    "y_t_1 = model_100.predict(X_t_1)\n",
    "print(model_100.predict(X_t_1))"
   ]
  },
  {
   "cell_type": "code",
   "execution_count": 11,
   "id": "eb36bfba",
   "metadata": {},
   "outputs": [
    {
     "name": "stdout",
     "output_type": "stream",
     "text": [
      "If NDVI goes from 0.3 to 0.4, Greenspace%_100 increases by: [0.14035264]\n"
     ]
    }
   ],
   "source": [
    "# how does Greenspace%_100 increase if NDVI goes from 0.3 to 0.4?\n",
    "#print('Greenspace%_100 increase if NDVI goes from 0.3 to 0.4:', y_t_1 - y_t_0)\n",
    "print('If NDVI goes from 0.3 to 0.4, Greenspace%_100 increases by:', y_t_1 - y_t_0)"
   ]
  },
  {
   "cell_type": "markdown",
   "id": "821fbc94",
   "metadata": {},
   "source": [
    "#### 1.1.2. Generalized Additive Model (GAM)"
   ]
  },
  {
   "cell_type": "code",
   "execution_count": 12,
   "id": "c412fbe9",
   "metadata": {},
   "outputs": [
    {
     "name": "stdout",
     "output_type": "stream",
     "text": [
      "LinearGAM                                                                                                 \n",
      "=============================================== ==========================================================\n",
      "Distribution:                        NormalDist Effective DoF:                                     14.6836\n",
      "Link Function:                     IdentityLink Log Likelihood:                                -91244.4771\n",
      "Number of Samples:                         4702 AIC:                                           182520.3214\n",
      "                                                AICc:                                          182520.4331\n",
      "                                                GCV:                                                0.0225\n",
      "                                                Scale:                                              0.0224\n",
      "                                                Pseudo R-Squared:                                   0.7088\n",
      "==========================================================================================================\n",
      "Feature Function                  Lambda               Rank         EDoF         P > x        Sig. Code   \n",
      "================================= ==================== ============ ============ ============ ============\n",
      "s(0)                              [0.6]                20           14.7         1.11e-16     ***         \n",
      "intercept                                              1            0.0          1.11e-16     ***         \n",
      "==========================================================================================================\n",
      "Significance codes:  0 '***' 0.001 '**' 0.01 '*' 0.05 '.' 0.1 ' ' 1\n",
      "\n",
      "WARNING: Fitting splines and a linear function to a feature introduces a model identifiability problem\n",
      "         which can cause p-values to appear significant when they are not.\n",
      "\n",
      "WARNING: p-values calculated in this manner behave correctly for un-penalized models or models with\n",
      "         known smoothing parameters, but when smoothing parameters have been estimated, the p-values\n",
      "         are typically lower than they should be, meaning that the tests reject the null too readily.\n"
     ]
    },
    {
     "name": "stderr",
     "output_type": "stream",
     "text": [
      "/Applications/anaconda3/envs/ssml/lib/python3.9/site-packages/pygam/pygam.py:752: RuntimeWarning: invalid value encountered in reciprocal\n",
      "  np.fill_diagonal(Dinv, d**-1) # invert the singular values\n",
      "/var/folders/6g/kgz5rml118s6lqw25w5sv5mr0000gn/T/ipykernel_2171/198064715.py:19: UserWarning: KNOWN BUG: p-values computed in this summary are likely much smaller than they should be. \n",
      " \n",
      "Please do not make inferences based on these values! \n",
      "\n",
      "Collaborate on a solution, and stay up to date at: \n",
      "github.com/dswah/pyGAM/issues/163 \n",
      "\n",
      "  gam_100.summary()\n"
     ]
    }
   ],
   "source": [
    "# data/predictors as the NDVI_100\n",
    "df_100 = pd.DataFrame(gdf_100, columns=['NDVI_100'])\n",
    "\n",
    "# target as Greenspace%_100\n",
    "target_100 = pd.DataFrame(gdf_100, columns=['Greenspace%_100'])\n",
    "\n",
    "# define X and Y\n",
    "X = df_100\n",
    "y = target_100['Greenspace%_100']\n",
    "\n",
    "# split independent and dependent variables into training and test data\n",
    "X_train, X_test, y_train, y_test = train_test_split(X, y, test_size=0.2, random_state=0)\n",
    "\n",
    "# fit GAM model\n",
    "#gam_100 = LinearGAM(s(0, n_splines=25)).fit(X_train, y_train, weights=None)\n",
    "gam_100 = LinearGAM(s(0)).fit(X_train, y_train, weights=None)\n",
    "\n",
    "# check model statistics\n",
    "gam_100.summary()"
   ]
  },
  {
   "cell_type": "code",
   "execution_count": 13,
   "id": "973efbfc",
   "metadata": {},
   "outputs": [],
   "source": [
    "# plot outpus\n",
    "#XX = gam_100.generate_X_grid(term=0)\n",
    "#plt.rcParams['figure.figsize'] = (8, 8)\n",
    "#fig, axs = plt.subplots(1, 1)\n",
    "#titles = ['Generalized Additive Model (GAM) at 100m']\n",
    "#pdep, confi = gam_100.partial_dependence(XX, term=0, features = 1, width=0.95)\n",
    "#ax.plot(XX[:, 1], pdep)\n",
    "#ax.plot(XX[:, 1], confi[0][:, 0], c='grey', ls='--')\n",
    "#ax.plot(XX[:, 1], confi[0][:, 1], c='grey', ls='--')\n",
    "#ax.set_title(titles, fontsize=26)\n",
    "#plt.show()"
   ]
  },
  {
   "cell_type": "code",
   "execution_count": 14,
   "id": "f823743c",
   "metadata": {},
   "outputs": [],
   "source": [
    "# convert X_test and y_test to array values\n",
    "#y_test = y_test.iloc[:, 0:1].values\n",
    "X_test = X_test.iloc[:, 0:1].values\n",
    "\n",
    "# make predictions\n",
    "y_pred = gam_100.predict(X_test)"
   ]
  },
  {
   "cell_type": "code",
   "execution_count": 15,
   "id": "41f13b0d",
   "metadata": {},
   "outputs": [
    {
     "data": {
      "image/png": "[encoded data removed]",
      "text/plain": [
       "<Figure size 432x288 with 1 Axes>"
      ]
     },
     "metadata": {
      "needs_background": "light"
     },
     "output_type": "display_data"
    }
   ],
   "source": [
    "# plot output\n",
    "plt.scatter(X_test, y_test, color=\"forestgreen\")\n",
    "plt.plot(X_test, y_pred, color=\"black\", linewidth=2)\n",
    "\n",
    "# set title, xlabel and ylabel\n",
    "plt.title('Generalized Additive Model (GAM) at 100m')\n",
    "plt.xlabel('NDVI_100')\n",
    "plt.ylabel('Greenspace%_100')\n",
    "\n",
    "# save the figure\n",
    "plt.savefig('thesis_project/visualizations/modelling/gam_ndvi_green_100_plot.png', dpi=300, bbox_inches='tight')\n",
    "\n",
    "plt.show()"
   ]
  },
  {
   "cell_type": "code",
   "execution_count": 16,
   "id": "150a7ac7",
   "metadata": {
    "scrolled": true
   },
   "outputs": [
    {
     "name": "stdout",
     "output_type": "stream",
     "text": [
      "If NDVI goes from 0.25 to 0.35, Greenspace%_100 increases by: [0.17707596]\n"
     ]
    }
   ],
   "source": [
    "# Change in low NDVI values: how does Greenspace% increase, if NDVI changes from 0.25 to 0.35?\n",
    "green_l0 = gam_100.predict(0.25)\n",
    "green_l1 = gam_100.predict(0.35)\n",
    "print('If NDVI goes from 0.25 to 0.35, Greenspace%_100 increases by:', green_l1 - green_l0)"
   ]
  },
  {
   "cell_type": "code",
   "execution_count": 17,
   "id": "e5540d97",
   "metadata": {},
   "outputs": [
    {
     "name": "stdout",
     "output_type": "stream",
     "text": [
      "If NDVI goes from 0.45 to 0.55, Greenspace%_100 increases by: [0.21090473]\n"
     ]
    }
   ],
   "source": [
    "# Change in medium NDVI values: how does Greenspace% increase, if NDVI changes from 0.45 to 0.55?\n",
    "green_m0 = gam_100.predict(0.45)\n",
    "green_m1 = gam_100.predict(0.55)\n",
    "print('If NDVI goes from 0.45 to 0.55, Greenspace%_100 increases by:', green_m1 - green_m0)"
   ]
  },
  {
   "cell_type": "code",
   "execution_count": 18,
   "id": "cf5bec3c",
   "metadata": {},
   "outputs": [
    {
     "name": "stdout",
     "output_type": "stream",
     "text": [
      "If NDVI goes from 0.65 to 0.75, Greenspace%_100 increases by: [0.10809633]\n"
     ]
    }
   ],
   "source": [
    "# Change in high NDVI values: how does Greenspace% increase, if NDVI changes from 0.65 to 0.75?\n",
    "green_h0 = gam_100.predict(0.65)\n",
    "green_h1 = gam_100.predict(0.75)\n",
    "print('If NDVI goes from 0.65 to 0.75, Greenspace%_100 increases by:', green_h1 - green_h0)"
   ]
  },
  {
   "cell_type": "markdown",
   "id": "b6c6462a",
   "metadata": {},
   "source": [
    "### 1.2. How does NDVI predict Canopy%?"
   ]
  },
  {
   "cell_type": "markdown",
   "id": "e1f3ec2f",
   "metadata": {},
   "source": [
    "#### 1.2.1. Linear Regression Model"
   ]
  },
  {
   "cell_type": "code",
   "execution_count": 19,
   "id": "c50b675d",
   "metadata": {},
   "outputs": [],
   "source": [
    "# NDVI_100 as the predictor\n",
    "df = pd.DataFrame(gdf_100, columns=['NDVI_100'])\n",
    "\n",
    "# Canopy%_100 as the target\n",
    "target = pd.DataFrame(gdf_100, columns=['Canopy%_100'])\n",
    "\n",
    "# define X and y\n",
    "X = df\n",
    "y = target['Canopy%_100']\n",
    "\n",
    "# split independent and dependent variables into training and test data\n",
    "X_train, X_test, y_train, y_test = train_test_split(X, y, test_size=0.2, random_state=0)\n",
    "\n",
    "# fit the linear model\n",
    "lm_100 = linear_model.LinearRegression()\n",
    "model_100 = lm_100.fit(X_train,y_train)"
   ]
  },
  {
   "cell_type": "code",
   "execution_count": 20,
   "id": "33870925",
   "metadata": {},
   "outputs": [
    {
     "name": "stdout",
     "output_type": "stream",
     "text": [
      "Coefficient of NDVI_100 (or slope): [-0.00423051]\n",
      "Intercept: 0.1809361967159148\n",
      "R-squared: 2.01803862752703e-05\n"
     ]
    }
   ],
   "source": [
    "# linear model coefficient, intercept, and R-squared \n",
    "print('Coefficient of NDVI_100 (or slope):', model_100.coef_)\n",
    "print('Intercept:', model_100.intercept_)\n",
    "print('R-squared:', model_100.score(X_train,y_train))"
   ]
  },
  {
   "cell_type": "code",
   "execution_count": 21,
   "id": "8a9b43aa",
   "metadata": {},
   "outputs": [],
   "source": [
    "# make predictions\n",
    "y_pred = model_100.predict(X_test)\n",
    "\n",
    "# compare actual values with predicted ones\n",
    "df = pd.DataFrame({'Actual': y_test, 'Predicted': y_pred})\n",
    "\n",
    "# convert X_test to array values (for later use when plotting)\n",
    "X_test = X_test.iloc[:, 0:1].values"
   ]
  },
  {
   "cell_type": "code",
   "execution_count": 22,
   "id": "72d3b33b",
   "metadata": {},
   "outputs": [
    {
     "name": "stdout",
     "output_type": "stream",
     "text": [
      "Mean Absolute Error: 0.11901758336671131\n",
      "Mean Squared Error: 0.022477426490116144\n",
      "Root Mean Squared Error: 0.14992473608486406\n"
     ]
    }
   ],
   "source": [
    "# evaluate the model\n",
    "print('Mean Absolute Error:', metrics.mean_absolute_error(y_test, y_pred))\n",
    "print('Mean Squared Error:', metrics.mean_squared_error(y_test, y_pred))\n",
    "print('Root Mean Squared Error:', np.sqrt(metrics.mean_squared_error(y_test, y_pred)))"
   ]
  },
  {
   "cell_type": "code",
   "execution_count": 23,
   "id": "91847ac8",
   "metadata": {},
   "outputs": [
    {
     "data": {
      "image/png": "[encoded data removed]",
      "text/plain": [
       "<Figure size 432x288 with 1 Axes>"
      ]
     },
     "metadata": {
      "needs_background": "light"
     },
     "output_type": "display_data"
    }
   ],
   "source": [
    "# plot outputs\n",
    "plt.scatter(X_test, y_test, color=\"forestgreen\")\n",
    "plt.plot(X_test, y_pred, color=\"black\", linewidth=2)\n",
    "\n",
    "plt.xticks(np.arange(0, 1.1, step = 0.2))\n",
    "plt.yticks(np.arange(0, 1.1, step = 0.2))\n",
    "\n",
    "# set title, xlabel and ylabel\n",
    "plt.title('Linear Regression Model at 100m')\n",
    "plt.xlabel('NDVI_100')\n",
    "plt.ylabel('Canopy%_100')\n",
    "\n",
    "# save the figure\n",
    "plt.savefig('thesis_project/visualizations/modelling/lm_ndvi_canopy_100_plot.png', dpi=300, bbox_inches='tight')\n",
    "\n",
    "plt.show()"
   ]
  },
  {
   "cell_type": "markdown",
   "id": "273e58a8",
   "metadata": {},
   "source": [
    "#### 1.2.2. Generalized Additive Model (GAM)"
   ]
  },
  {
   "cell_type": "code",
   "execution_count": 24,
   "id": "5ce8ac62",
   "metadata": {},
   "outputs": [
    {
     "name": "stdout",
     "output_type": "stream",
     "text": [
      "LinearGAM                                                                                                 \n",
      "=============================================== ==========================================================\n",
      "Distribution:                        NormalDist Effective DoF:                                     14.6836\n",
      "Link Function:                     IdentityLink Log Likelihood:                                -94317.7117\n",
      "Number of Samples:                         4702 AIC:                                           188666.7905\n",
      "                                                AICc:                                          188666.9022\n",
      "                                                GCV:                                                0.0218\n",
      "                                                Scale:                                              0.0217\n",
      "                                                Pseudo R-Squared:                                   0.0781\n",
      "==========================================================================================================\n",
      "Feature Function                  Lambda               Rank         EDoF         P > x        Sig. Code   \n",
      "================================= ==================== ============ ============ ============ ============\n",
      "s(0)                              [0.6]                20           14.7         1.11e-16     ***         \n",
      "intercept                                              1            0.0          6.91e-07     ***         \n",
      "==========================================================================================================\n",
      "Significance codes:  0 '***' 0.001 '**' 0.01 '*' 0.05 '.' 0.1 ' ' 1\n",
      "\n",
      "WARNING: Fitting splines and a linear function to a feature introduces a model identifiability problem\n",
      "         which can cause p-values to appear significant when they are not.\n",
      "\n",
      "WARNING: p-values calculated in this manner behave correctly for un-penalized models or models with\n",
      "         known smoothing parameters, but when smoothing parameters have been estimated, the p-values\n",
      "         are typically lower than they should be, meaning that the tests reject the null too readily.\n"
     ]
    },
    {
     "name": "stderr",
     "output_type": "stream",
     "text": [
      "/Applications/anaconda3/envs/ssml/lib/python3.9/site-packages/pygam/pygam.py:752: RuntimeWarning: invalid value encountered in reciprocal\n",
      "  np.fill_diagonal(Dinv, d**-1) # invert the singular values\n",
      "/var/folders/6g/kgz5rml118s6lqw25w5sv5mr0000gn/T/ipykernel_2171/881848350.py:19: UserWarning: KNOWN BUG: p-values computed in this summary are likely much smaller than they should be. \n",
      " \n",
      "Please do not make inferences based on these values! \n",
      "\n",
      "Collaborate on a solution, and stay up to date at: \n",
      "github.com/dswah/pyGAM/issues/163 \n",
      "\n",
      "  gam_100.summary()\n"
     ]
    }
   ],
   "source": [
    "# data/predictors as the NDVI_100\n",
    "df = pd.DataFrame(gdf_100, columns=['NDVI_100'])\n",
    "\n",
    "# target as Canopy%_100\n",
    "target = pd.DataFrame(gdf_100, columns=['Canopy%_100'])\n",
    "\n",
    "# define X and Y\n",
    "X = df\n",
    "y = target['Canopy%_100']\n",
    "\n",
    "# split independent and dependent variables into training and test data\n",
    "X_train, X_test, y_train, y_test = train_test_split(X, y, test_size=0.2, random_state=0)\n",
    "\n",
    "# fit GAM model\n",
    "#gam_100 = LinearGAM(s(0, n_splines=25)).fit(X_train, y_train, weights=None)\n",
    "gam_100 = LinearGAM(s(0)).fit(X_train, y_train, weights=None)\n",
    "\n",
    "# check model statistics\n",
    "gam_100.summary()"
   ]
  },
  {
   "cell_type": "code",
   "execution_count": 25,
   "id": "514f24dc",
   "metadata": {},
   "outputs": [],
   "source": [
    "# convert X_test and y_test to array values\n",
    "#y_test = y_test.iloc[:, 0:1].values\n",
    "X_test = X_test.iloc[:, 0:1].values\n",
    "\n",
    "# make predictions\n",
    "y_pred = gam_100.predict(X_test)"
   ]
  },
  {
   "cell_type": "code",
   "execution_count": 26,
   "id": "d08ad26f",
   "metadata": {},
   "outputs": [
    {
     "data": {
      "image/png": "[encoded data removed]",
      "text/plain": [
       "<Figure size 432x288 with 1 Axes>"
      ]
     },
     "metadata": {
      "needs_background": "light"
     },
     "output_type": "display_data"
    }
   ],
   "source": [
    "# plot output\n",
    "plt.scatter(X_test, y_test, color=\"forestgreen\")\n",
    "plt.plot(X_test, y_pred, color=\"black\", linewidth=2)\n",
    "\n",
    "# set title, xlabel and ylabel\n",
    "plt.title('Generalized Additive Model (GAM) at 100m')\n",
    "plt.xlabel('NDVI_100')\n",
    "plt.ylabel('Canopy%_100')\n",
    "\n",
    "# save the figure\n",
    "plt.savefig('thesis_project/visualizations/modelling/gam_ndvi_canopy_100_plot.png', dpi=300, bbox_inches='tight')\n",
    "\n",
    "plt.show()"
   ]
  },
  {
   "cell_type": "markdown",
   "id": "c00f0fca",
   "metadata": {},
   "source": [
    "### 1.3. How does NDVI predict Grass%?"
   ]
  },
  {
   "cell_type": "markdown",
   "id": "b9776738",
   "metadata": {},
   "source": [
    "#### 1.3.1. Linear Regression Model"
   ]
  },
  {
   "cell_type": "code",
   "execution_count": 27,
   "id": "2a750009",
   "metadata": {},
   "outputs": [],
   "source": [
    "# NDVI_100 as the predictor\n",
    "df = pd.DataFrame(gdf_100, columns=['NDVI_100'])\n",
    "\n",
    "# Grass%_100 as the target\n",
    "target = pd.DataFrame(gdf_100, columns=['Grass%_100'])\n",
    "\n",
    "# define X and y\n",
    "X = df\n",
    "y = target['Grass%_100']\n",
    "\n",
    "# split independent and dependent variables into training and test data\n",
    "X_train, X_test, y_train, y_test = train_test_split(X, y, test_size=0.2, random_state=0)\n",
    "\n",
    "# fit the linear model\n",
    "lm_100 = linear_model.LinearRegression()\n",
    "model_100 = lm_100.fit(X_train,y_train)"
   ]
  },
  {
   "cell_type": "code",
   "execution_count": 28,
   "id": "c0a90e40",
   "metadata": {},
   "outputs": [
    {
     "name": "stdout",
     "output_type": "stream",
     "text": [
      "Coefficient of NDVI_100 (or slope): [0.42661575]\n",
      "Intercept: -0.09777714949346028\n",
      "R-squared: 0.1581932828995467\n"
     ]
    }
   ],
   "source": [
    "# linear model coefficient, intercept, and R-squared \n",
    "print('Coefficient of NDVI_100 (or slope):', model_100.coef_)\n",
    "print('Intercept:', model_100.intercept_)\n",
    "print('R-squared:', model_100.score(X_train,y_train))"
   ]
  },
  {
   "cell_type": "code",
   "execution_count": 29,
   "id": "53442825",
   "metadata": {},
   "outputs": [],
   "source": [
    "# make predictions\n",
    "y_pred = model_100.predict(X_test)\n",
    "\n",
    "# compare actual values with predicted ones\n",
    "df = pd.DataFrame({'Actual': y_test, 'Predicted': y_pred})\n",
    "\n",
    "# convert X_test to array values (for later use when plotting)\n",
    "X_test = X_test.iloc[:, 0:1].values"
   ]
  },
  {
   "cell_type": "code",
   "execution_count": 30,
   "id": "d16526c2",
   "metadata": {},
   "outputs": [
    {
     "name": "stdout",
     "output_type": "stream",
     "text": [
      "Mean Absolute Error: 0.11259600832091017\n",
      "Mean Squared Error: 0.0265465001519563\n",
      "Root Mean Squared Error: 0.16293096744313618\n"
     ]
    }
   ],
   "source": [
    "# evaluate the model\n",
    "print('Mean Absolute Error:', metrics.mean_absolute_error(y_test, y_pred))\n",
    "print('Mean Squared Error:', metrics.mean_squared_error(y_test, y_pred))\n",
    "print('Root Mean Squared Error:', np.sqrt(metrics.mean_squared_error(y_test, y_pred)))"
   ]
  },
  {
   "cell_type": "code",
   "execution_count": 31,
   "id": "53b875c1",
   "metadata": {},
   "outputs": [
    {
     "data": {
      "image/png": "[encoded data removed]",
      "text/plain": [
       "<Figure size 432x288 with 1 Axes>"
      ]
     },
     "metadata": {
      "needs_background": "light"
     },
     "output_type": "display_data"
    }
   ],
   "source": [
    "# plot outputs\n",
    "plt.scatter(X_test, y_test, color=\"forestgreen\")\n",
    "plt.plot(X_test, y_pred, color=\"black\", linewidth=2)\n",
    "\n",
    "plt.xticks(np.arange(0, 1.1, step = 0.2))\n",
    "plt.yticks(np.arange(0, 1.1, step = 0.2))\n",
    "\n",
    "# set title, xlabel and ylabel\n",
    "plt.title('Linear Regression Model at 100m')\n",
    "plt.xlabel('NDVI_100')\n",
    "plt.ylabel('Grass%_100')\n",
    "\n",
    "# save the figure\n",
    "plt.savefig('thesis_project/visualizations/modelling/lm_ndvi_grass_100_plot.png', dpi=300, bbox_inches='tight')\n",
    "\n",
    "plt.show()"
   ]
  },
  {
   "cell_type": "markdown",
   "id": "48f87433",
   "metadata": {},
   "source": [
    "#### 1.3.2. Generalized Additive Model (GAM)"
   ]
  },
  {
   "cell_type": "code",
   "execution_count": 32,
   "id": "e26678e8",
   "metadata": {},
   "outputs": [
    {
     "name": "stdout",
     "output_type": "stream",
     "text": [
      "LinearGAM                                                                                                 \n",
      "=============================================== ==========================================================\n",
      "Distribution:                        NormalDist Effective DoF:                                     14.6836\n",
      "Link Function:                     IdentityLink Log Likelihood:                                -82261.3108\n",
      "Number of Samples:                         4702 AIC:                                           164553.9888\n",
      "                                                AICc:                                          164554.1005\n",
      "                                                GCV:                                                0.0247\n",
      "                                                Scale:                                              0.0246\n",
      "                                                Pseudo R-Squared:                                   0.1951\n",
      "==========================================================================================================\n",
      "Feature Function                  Lambda               Rank         EDoF         P > x        Sig. Code   \n",
      "================================= ==================== ============ ============ ============ ============\n",
      "s(0)                              [0.6]                20           14.7         1.11e-16     ***         \n",
      "intercept                                              1            0.0          1.11e-16     ***         \n",
      "==========================================================================================================\n",
      "Significance codes:  0 '***' 0.001 '**' 0.01 '*' 0.05 '.' 0.1 ' ' 1\n",
      "\n",
      "WARNING: Fitting splines and a linear function to a feature introduces a model identifiability problem\n",
      "         which can cause p-values to appear significant when they are not.\n",
      "\n",
      "WARNING: p-values calculated in this manner behave correctly for un-penalized models or models with\n",
      "         known smoothing parameters, but when smoothing parameters have been estimated, the p-values\n",
      "         are typically lower than they should be, meaning that the tests reject the null too readily.\n"
     ]
    },
    {
     "name": "stderr",
     "output_type": "stream",
     "text": [
      "/Applications/anaconda3/envs/ssml/lib/python3.9/site-packages/pygam/pygam.py:752: RuntimeWarning: invalid value encountered in reciprocal\n",
      "  np.fill_diagonal(Dinv, d**-1) # invert the singular values\n",
      "/var/folders/6g/kgz5rml118s6lqw25w5sv5mr0000gn/T/ipykernel_2171/191219612.py:19: UserWarning: KNOWN BUG: p-values computed in this summary are likely much smaller than they should be. \n",
      " \n",
      "Please do not make inferences based on these values! \n",
      "\n",
      "Collaborate on a solution, and stay up to date at: \n",
      "github.com/dswah/pyGAM/issues/163 \n",
      "\n",
      "  gam_100.summary()\n"
     ]
    }
   ],
   "source": [
    "# data/predictors as the NDVI_100\n",
    "df = pd.DataFrame(gdf_100, columns=['NDVI_100'])\n",
    "\n",
    "# target as Grass%_100\n",
    "target = pd.DataFrame(gdf_100, columns=['Grass%_100'])\n",
    "\n",
    "# define X and Y\n",
    "X = df\n",
    "y = target['Grass%_100']\n",
    "\n",
    "# split independent and dependent variables into training and test data\n",
    "X_train, X_test, y_train, y_test = train_test_split(X, y, test_size=0.2, random_state=0)\n",
    "\n",
    "# fit GAM model\n",
    "#gam_100 = LinearGAM(s(0, n_splines=25)).fit(X_train, y_train, weights=None)\n",
    "gam_100 = LinearGAM(s(0)).fit(X_train, y_train, weights=None)\n",
    "\n",
    "# check model statistics\n",
    "gam_100.summary()"
   ]
  },
  {
   "cell_type": "code",
   "execution_count": 33,
   "id": "9447ad10",
   "metadata": {},
   "outputs": [],
   "source": [
    "# convert X_test and y_test to array values\n",
    "#y_test = y_test.iloc[:, 0:1].values\n",
    "X_test = X_test.iloc[:, 0:1].values\n",
    "\n",
    "# make predictions\n",
    "y_pred = gam_100.predict(X_test)"
   ]
  },
  {
   "cell_type": "code",
   "execution_count": 34,
   "id": "ecf39fd4",
   "metadata": {},
   "outputs": [
    {
     "data": {
      "image/png": "[encoded data removed]",
      "text/plain": [
       "<Figure size 432x288 with 1 Axes>"
      ]
     },
     "metadata": {
      "needs_background": "light"
     },
     "output_type": "display_data"
    }
   ],
   "source": [
    "# plot output\n",
    "plt.scatter(X_test, y_test, color=\"forestgreen\")\n",
    "plt.plot(X_test, y_pred, color=\"black\", linewidth=2)\n",
    "\n",
    "# set title, xlabel and ylabel\n",
    "plt.title('Generalized Additive Model (GAM) at 100m')\n",
    "plt.xlabel('NDVI_100')\n",
    "plt.ylabel('Grass%_100')\n",
    "\n",
    "# save the figure\n",
    "plt.savefig('thesis_project/visualizations/modelling/gam_ndvi_grass_100_plot.png', dpi=300, bbox_inches='tight')\n",
    "\n",
    "plt.show()"
   ]
  },
  {
   "cell_type": "markdown",
   "id": "3f18a166",
   "metadata": {},
   "source": [
    "## 2. Modelling greenspace metrics at 300m"
   ]
  },
  {
   "cell_type": "code",
   "execution_count": 35,
   "id": "6a719d9f",
   "metadata": {},
   "outputs": [
    {
     "data": {
      "text/html": [
       "<div>\n",
       "<style scoped>\n",
       "    .dataframe tbody tr th:only-of-type {\n",
       "        vertical-align: middle;\n",
       "    }\n",
       "\n",
       "    .dataframe tbody tr th {\n",
       "        vertical-align: top;\n",
       "    }\n",
       "\n",
       "    .dataframe thead th {\n",
       "        text-align: right;\n",
       "    }\n",
       "</style>\n",
       "<table border=\"1\" class=\"dataframe\">\n",
       "  <thead>\n",
       "    <tr style=\"text-align: right;\">\n",
       "      <th></th>\n",
       "      <th>NDVI_300</th>\n",
       "      <th>Greenspace%_300</th>\n",
       "      <th>Canopy%_300</th>\n",
       "      <th>Grass%_300</th>\n",
       "      <th>geometry</th>\n",
       "    </tr>\n",
       "  </thead>\n",
       "  <tbody>\n",
       "    <tr>\n",
       "      <th>0</th>\n",
       "      <td>0.485173</td>\n",
       "      <td>0.528844</td>\n",
       "      <td>0.442425</td>\n",
       "      <td>0.167111</td>\n",
       "      <td>POINT (384713.357 394255.209)</td>\n",
       "    </tr>\n",
       "    <tr>\n",
       "      <th>1</th>\n",
       "      <td>0.285426</td>\n",
       "      <td>0.293025</td>\n",
       "      <td>0.247789</td>\n",
       "      <td>0.086057</td>\n",
       "      <td>POINT (387034.589 396075.398)</td>\n",
       "    </tr>\n",
       "    <tr>\n",
       "      <th>2</th>\n",
       "      <td>0.462789</td>\n",
       "      <td>0.462798</td>\n",
       "      <td>0.464153</td>\n",
       "      <td>0.065043</td>\n",
       "      <td>POINT (395300.134 404726.178)</td>\n",
       "    </tr>\n",
       "    <tr>\n",
       "      <th>3</th>\n",
       "      <td>0.594440</td>\n",
       "      <td>0.987531</td>\n",
       "      <td>0.225635</td>\n",
       "      <td>0.154770</td>\n",
       "      <td>POINT (369879.786 397440.240)</td>\n",
       "    </tr>\n",
       "    <tr>\n",
       "      <th>4</th>\n",
       "      <td>0.584577</td>\n",
       "      <td>0.532749</td>\n",
       "      <td>0.220658</td>\n",
       "      <td>0.240494</td>\n",
       "      <td>POINT (356385.617 406274.434)</td>\n",
       "    </tr>\n",
       "  </tbody>\n",
       "</table>\n",
       "</div>"
      ],
      "text/plain": [
       "   NDVI_300  Greenspace%_300  Canopy%_300  Grass%_300  \\\n",
       "0  0.485173         0.528844     0.442425    0.167111   \n",
       "1  0.285426         0.293025     0.247789    0.086057   \n",
       "2  0.462789         0.462798     0.464153    0.065043   \n",
       "3  0.594440         0.987531     0.225635    0.154770   \n",
       "4  0.584577         0.532749     0.220658    0.240494   \n",
       "\n",
       "                        geometry  \n",
       "0  POINT (384713.357 394255.209)  \n",
       "1  POINT (387034.589 396075.398)  \n",
       "2  POINT (395300.134 404726.178)  \n",
       "3  POINT (369879.786 397440.240)  \n",
       "4  POINT (356385.617 406274.434)  "
      ]
     },
     "execution_count": 35,
     "metadata": {},
     "output_type": "execute_result"
    }
   ],
   "source": [
    "# load greenspace metrics at 300m geodataframe\n",
    "gdf_300 = gpd.read_file(\"thesis_project/output/dataframes/greenspace_metrics_300_gm.json\")\n",
    "gdf_300.head()"
   ]
  },
  {
   "cell_type": "markdown",
   "id": "1d5595d8",
   "metadata": {},
   "source": [
    "### 2.1. How does NDVI predict Greenspace%?"
   ]
  },
  {
   "cell_type": "markdown",
   "id": "f95fbe66",
   "metadata": {},
   "source": [
    "#### 2.1.1. Linear Regression Model"
   ]
  },
  {
   "cell_type": "code",
   "execution_count": 36,
   "id": "36673403",
   "metadata": {},
   "outputs": [],
   "source": [
    "# NDVI_300 as the predictor\n",
    "df = pd.DataFrame(gdf_300, columns=['NDVI_300'])\n",
    "\n",
    "# Greenspace%_300 as the target\n",
    "target = pd.DataFrame(gdf_300, columns=['Greenspace%_300'])\n",
    "\n",
    "# define X and y\n",
    "X = df\n",
    "y = target['Greenspace%_300']\n",
    "\n",
    "# split independent and dependent variables into training and test data\n",
    "X_train, X_test, y_train, y_test = train_test_split(X, y, test_size=0.2, random_state=0)\n",
    "\n",
    "# fit the linear model\n",
    "lm_300 = linear_model.LinearRegression()\n",
    "model_300 = lm_300.fit(X_train,y_train)"
   ]
  },
  {
   "cell_type": "code",
   "execution_count": 37,
   "id": "0b759d4f",
   "metadata": {},
   "outputs": [
    {
     "name": "stdout",
     "output_type": "stream",
     "text": [
      "Coefficient of NDVI_300 (or slope): [1.1359718]\n",
      "Intercept: 0.02219447548085196\n",
      "R-squared: 0.6921249306453257\n"
     ]
    }
   ],
   "source": [
    "# linear model coefficient, intercept, and R-squared \n",
    "print('Coefficient of NDVI_300 (or slope):', model_300.coef_)\n",
    "print('Intercept:', model_300.intercept_)\n",
    "print('R-squared:', model_300.score(X_train,y_train))"
   ]
  },
  {
   "cell_type": "code",
   "execution_count": 38,
   "id": "778d87a1",
   "metadata": {},
   "outputs": [],
   "source": [
    "# make predictions\n",
    "y_pred = model_300.predict(X_test)\n",
    "\n",
    "# compare actual values with predicted ones\n",
    "df = pd.DataFrame({'Actual': y_test, 'Predicted': y_pred})\n",
    "\n",
    "# convert X_test to array values (for later use when plotting)\n",
    "X_test = X_test.iloc[:, 0:1].values"
   ]
  },
  {
   "cell_type": "code",
   "execution_count": 39,
   "id": "58b51e04",
   "metadata": {},
   "outputs": [
    {
     "name": "stdout",
     "output_type": "stream",
     "text": [
      "Mean Absolute Error: 0.08934573648402441\n",
      "Mean Squared Error: 0.01610827472555938\n",
      "Root Mean Squared Error: 0.1269183782025258\n"
     ]
    }
   ],
   "source": [
    "# evaluate the model\n",
    "print('Mean Absolute Error:', metrics.mean_absolute_error(y_test, y_pred))\n",
    "print('Mean Squared Error:', metrics.mean_squared_error(y_test, y_pred))\n",
    "print('Root Mean Squared Error:', np.sqrt(metrics.mean_squared_error(y_test, y_pred)))"
   ]
  },
  {
   "cell_type": "code",
   "execution_count": 40,
   "id": "1c44a126",
   "metadata": {},
   "outputs": [
    {
     "data": {
      "image/png": "[encoded data removed]",
      "text/plain": [
       "<Figure size 432x288 with 1 Axes>"
      ]
     },
     "metadata": {
      "needs_background": "light"
     },
     "output_type": "display_data"
    }
   ],
   "source": [
    "# plot outputs\n",
    "plt.scatter(X_test, y_test, color=\"forestgreen\")\n",
    "plt.plot(X_test, y_pred, color=\"black\", linewidth=2)\n",
    "\n",
    "plt.xticks(np.arange(0, 1.1, step = 0.2))\n",
    "plt.yticks(np.arange(0, 1.1, step = 0.2))\n",
    "\n",
    "# set title, xlabel and ylabel\n",
    "plt.title('Linear Regression Model at 300m')\n",
    "plt.xlabel('NDVI_300')\n",
    "plt.ylabel('Greenspace%_300')\n",
    "\n",
    "# save the figure\n",
    "plt.savefig('thesis_project/visualizations/modelling/lm_ndvi_green_300_plot.png', dpi=300, bbox_inches='tight')\n",
    "\n",
    "plt.show()"
   ]
  },
  {
   "cell_type": "code",
   "execution_count": 41,
   "id": "ca158aba",
   "metadata": {},
   "outputs": [
    {
     "name": "stdout",
     "output_type": "stream",
     "text": [
      "If NDVI goes from 0.3 to 0.4, Greenspace%_100 increases by: [0.11359718]\n"
     ]
    },
    {
     "name": "stderr",
     "output_type": "stream",
     "text": [
      "/Applications/anaconda3/envs/ssml/lib/python3.9/site-packages/sklearn/base.py:450: UserWarning: X does not have valid feature names, but LinearRegression was fitted with feature names\n",
      "  warnings.warn(\n",
      "/Applications/anaconda3/envs/ssml/lib/python3.9/site-packages/sklearn/base.py:450: UserWarning: X does not have valid feature names, but LinearRegression was fitted with feature names\n",
      "  warnings.warn(\n"
     ]
    }
   ],
   "source": [
    "# Change in NDVI values: how does Greenspace% increase, if NDVI changes from 0.3 to 0.4?\n",
    "green0 = model_300.predict([[0.3]])\n",
    "green1 = model_300.predict([[0.4]])\n",
    "print('If NDVI goes from 0.3 to 0.4, Greenspace%_100 increases by:', green1 - green0)"
   ]
  },
  {
   "cell_type": "markdown",
   "id": "45f540ac",
   "metadata": {},
   "source": [
    "#### 2.1.2. Generalized Additive Model (GAM)"
   ]
  },
  {
   "cell_type": "code",
   "execution_count": 42,
   "id": "396c23a6",
   "metadata": {},
   "outputs": [
    {
     "name": "stdout",
     "output_type": "stream",
     "text": [
      "LinearGAM                                                                                                 \n",
      "=============================================== ==========================================================\n",
      "Distribution:                        NormalDist Effective DoF:                                     15.2801\n",
      "Link Function:                     IdentityLink Log Likelihood:                               -134374.2796\n",
      "Number of Samples:                         4624 AIC:                                           268781.1194\n",
      "                                                AICc:                                          268781.2415\n",
      "                                                GCV:                                                0.0155\n",
      "                                                Scale:                                              0.0154\n",
      "                                                Pseudo R-Squared:                                   0.7175\n",
      "==========================================================================================================\n",
      "Feature Function                  Lambda               Rank         EDoF         P > x        Sig. Code   \n",
      "================================= ==================== ============ ============ ============ ============\n",
      "s(0)                              [0.6]                20           15.3         1.11e-16     ***         \n",
      "intercept                                              1            0.0          1.11e-16     ***         \n",
      "==========================================================================================================\n",
      "Significance codes:  0 '***' 0.001 '**' 0.01 '*' 0.05 '.' 0.1 ' ' 1\n",
      "\n",
      "WARNING: Fitting splines and a linear function to a feature introduces a model identifiability problem\n",
      "         which can cause p-values to appear significant when they are not.\n",
      "\n",
      "WARNING: p-values calculated in this manner behave correctly for un-penalized models or models with\n",
      "         known smoothing parameters, but when smoothing parameters have been estimated, the p-values\n",
      "         are typically lower than they should be, meaning that the tests reject the null too readily.\n"
     ]
    },
    {
     "name": "stderr",
     "output_type": "stream",
     "text": [
      "/Applications/anaconda3/envs/ssml/lib/python3.9/site-packages/pygam/pygam.py:752: RuntimeWarning: invalid value encountered in reciprocal\n",
      "  np.fill_diagonal(Dinv, d**-1) # invert the singular values\n",
      "/var/folders/6g/kgz5rml118s6lqw25w5sv5mr0000gn/T/ipykernel_2171/847380652.py:19: UserWarning: KNOWN BUG: p-values computed in this summary are likely much smaller than they should be. \n",
      " \n",
      "Please do not make inferences based on these values! \n",
      "\n",
      "Collaborate on a solution, and stay up to date at: \n",
      "github.com/dswah/pyGAM/issues/163 \n",
      "\n",
      "  gam_300.summary()\n"
     ]
    }
   ],
   "source": [
    "# data/predictors as the NDVI_300\n",
    "df_300 = pd.DataFrame(gdf_300, columns=['NDVI_300'])\n",
    "\n",
    "# target as Greenspace%_300\n",
    "target_300 = pd.DataFrame(gdf_300, columns=['Greenspace%_300'])\n",
    "\n",
    "# define X and Y\n",
    "X = df_300\n",
    "y = target_300['Greenspace%_300']\n",
    "\n",
    "# split independent and dependent variables into training and test data\n",
    "X_train, X_test, y_train, y_test = train_test_split(X, y, test_size=0.2, random_state=0)\n",
    "\n",
    "# fit GAM model\n",
    "#gam_300 = LinearGAM(s(0, n_splines=25)).fit(X_train, y_train, weights=None)\n",
    "gam_300 = LinearGAM(s(0)).fit(X_train, y_train, weights=None)\n",
    "\n",
    "# check model statistics\n",
    "gam_300.summary()"
   ]
  },
  {
   "cell_type": "code",
   "execution_count": 43,
   "id": "aa811a49",
   "metadata": {},
   "outputs": [],
   "source": [
    "# convert X_test and y_test to array values\n",
    "#y_test = y_test.iloc[:, 0:1].values\n",
    "X_test = X_test.iloc[:, 0:1].values\n",
    "\n",
    "# make predictions\n",
    "y_pred = gam_300.predict(X_test)"
   ]
  },
  {
   "cell_type": "code",
   "execution_count": 44,
   "id": "61b876b3",
   "metadata": {},
   "outputs": [
    {
     "data": {
      "image/png": "[encoded data removed]",
      "text/plain": [
       "<Figure size 432x288 with 1 Axes>"
      ]
     },
     "metadata": {
      "needs_background": "light"
     },
     "output_type": "display_data"
    }
   ],
   "source": [
    "# plot output\n",
    "plt.scatter(X_test, y_test, color=\"forestgreen\")\n",
    "plt.plot(X_test, y_pred, color=\"black\", linewidth=2)\n",
    "\n",
    "# set title, xlabel and ylabel\n",
    "plt.title('Generalized Additive Model (GAM) at 300m')\n",
    "plt.xlabel('NDVI_300')\n",
    "plt.ylabel('Greenspace%_300')\n",
    "\n",
    "# save the figure\n",
    "plt.savefig('thesis_project/visualizations/modelling/gam_ndvi_green_300_plot.png', dpi=300, bbox_inches='tight')\n",
    "\n",
    "plt.show()"
   ]
  },
  {
   "cell_type": "code",
   "execution_count": 45,
   "id": "4074e521",
   "metadata": {},
   "outputs": [
    {
     "name": "stdout",
     "output_type": "stream",
     "text": [
      "If NDVI goes from 0.25 to 0.35, Greenspace%_100 increases by: [0.10137472]\n"
     ]
    }
   ],
   "source": [
    "# Change in low NDVI values: how does Greenspace% increase, if NDVI changes from 0.25 to 0.35?\n",
    "green_l0 = gam_300.predict(0.25)\n",
    "green_l1 = gam_300.predict(0.35)\n",
    "print('If NDVI goes from 0.25 to 0.35, Greenspace%_100 increases by:', green_l1 - green_l0)"
   ]
  },
  {
   "cell_type": "code",
   "execution_count": 46,
   "id": "700878e5",
   "metadata": {},
   "outputs": [
    {
     "name": "stdout",
     "output_type": "stream",
     "text": [
      "If NDVI goes from 0.45 to 0.55, Greenspace%_100 increases by: [0.17345012]\n"
     ]
    }
   ],
   "source": [
    "# Change in medium NDVI values: how does Greenspace% increase, if NDVI changes from 0.45 to 0.55?\n",
    "green_m0 = gam_300.predict(0.45)\n",
    "green_m1 = gam_300.predict(0.55)\n",
    "print('If NDVI goes from 0.45 to 0.55, Greenspace%_100 increases by:', green_m1 - green_m0)"
   ]
  },
  {
   "cell_type": "code",
   "execution_count": 47,
   "id": "cd2b6060",
   "metadata": {},
   "outputs": [
    {
     "name": "stdout",
     "output_type": "stream",
     "text": [
      "If NDVI goes from 0.65 to 0.75, Greenspace%_100 increases by: [0.08738719]\n"
     ]
    }
   ],
   "source": [
    "# Change in high NDVI values: how does Greenspace% increase, if NDVI changes from 0.65 to 0.75?\n",
    "green_h0 = gam_300.predict(0.65)\n",
    "green_h1 = gam_300.predict(0.75)\n",
    "print('If NDVI goes from 0.65 to 0.75, Greenspace%_100 increases by:', green_h1 - green_h0)"
   ]
  },
  {
   "cell_type": "markdown",
   "id": "a74e162b",
   "metadata": {},
   "source": [
    "### 2.2. How does NDVI predict Canopy%?"
   ]
  },
  {
   "cell_type": "markdown",
   "id": "c3fb948c",
   "metadata": {},
   "source": [
    "#### 2.2.1. Linear Regression Model"
   ]
  },
  {
   "cell_type": "code",
   "execution_count": 48,
   "id": "c5a97c2a",
   "metadata": {},
   "outputs": [],
   "source": [
    "# NDVI_300 as the predictor\n",
    "df = pd.DataFrame(gdf_300, columns=['NDVI_300'])\n",
    "\n",
    "# Canopy%_300 as the target\n",
    "target = pd.DataFrame(gdf_300, columns=['Canopy%_300'])\n",
    "\n",
    "# define X and y\n",
    "X = df\n",
    "y = target['Canopy%_300']\n",
    "\n",
    "# split independent and dependent variables into training and test data\n",
    "X_train, X_test, y_train, y_test = train_test_split(X, y, test_size=0.2, random_state=0)\n",
    "\n",
    "# fit the linear model\n",
    "lm_300 = linear_model.LinearRegression()\n",
    "model_300 = lm_300.fit(X_train,y_train)"
   ]
  },
  {
   "cell_type": "code",
   "execution_count": 49,
   "id": "a0b35004",
   "metadata": {},
   "outputs": [
    {
     "name": "stdout",
     "output_type": "stream",
     "text": [
      "Coefficient of NDVI_300 (or slope): [-0.08080014]\n",
      "Intercept: 0.2886264074760401\n",
      "R-squared: 0.007596799374733454\n"
     ]
    }
   ],
   "source": [
    "# linear model coefficient, intercept, and R-squared \n",
    "print('Coefficient of NDVI_300 (or slope):', model_300.coef_)\n",
    "print('Intercept:', model_300.intercept_)\n",
    "print('R-squared:', model_300.score(X_train,y_train))"
   ]
  },
  {
   "cell_type": "code",
   "execution_count": 50,
   "id": "e7657482",
   "metadata": {},
   "outputs": [],
   "source": [
    "# make predictions\n",
    "y_pred = model_300.predict(X_test)\n",
    "\n",
    "# compare actual values with predicted ones\n",
    "df = pd.DataFrame({'Actual': y_test, 'Predicted': y_pred})\n",
    "\n",
    "# convert X_test to array values (for later use when plotting)\n",
    "X_test = X_test.iloc[:, 0:1].values"
   ]
  },
  {
   "cell_type": "code",
   "execution_count": 51,
   "id": "44ba80ef",
   "metadata": {},
   "outputs": [
    {
     "name": "stdout",
     "output_type": "stream",
     "text": [
      "Mean Absolute Error: 0.12067054159879056\n",
      "Mean Squared Error: 0.025458426372861536\n",
      "Root Mean Squared Error: 0.1595569690513753\n"
     ]
    }
   ],
   "source": [
    "# evaluate the model\n",
    "print('Mean Absolute Error:', metrics.mean_absolute_error(y_test, y_pred))\n",
    "print('Mean Squared Error:', metrics.mean_squared_error(y_test, y_pred))\n",
    "print('Root Mean Squared Error:', np.sqrt(metrics.mean_squared_error(y_test, y_pred)))"
   ]
  },
  {
   "cell_type": "code",
   "execution_count": 52,
   "id": "c40137b7",
   "metadata": {},
   "outputs": [
    {
     "data": {
      "image/png": "[encoded data removed]",
      "text/plain": [
       "<Figure size 432x288 with 1 Axes>"
      ]
     },
     "metadata": {
      "needs_background": "light"
     },
     "output_type": "display_data"
    }
   ],
   "source": [
    "# plot outputs\n",
    "plt.scatter(X_test, y_test, color=\"forestgreen\")\n",
    "plt.plot(X_test, y_pred, color=\"black\", linewidth=2)\n",
    "\n",
    "plt.xticks(np.arange(0, 1.1, step = 0.2))\n",
    "plt.yticks(np.arange(0, 1.1, step = 0.2))\n",
    "\n",
    "# set title, xlabel and ylabel\n",
    "plt.title('Linear Regression Model at 300m')\n",
    "plt.xlabel('NDVI_300')\n",
    "plt.ylabel('Canopy%_300')\n",
    "\n",
    "# save the figure\n",
    "plt.savefig('thesis_project/visualizations/modelling/lm_ndvi_canopy_300_plot.png', dpi=300, bbox_inches='tight')\n",
    "\n",
    "plt.show()"
   ]
  },
  {
   "cell_type": "markdown",
   "id": "a6eaa0e9",
   "metadata": {},
   "source": [
    "#### 2.2.2. Generalized Additive Model (GAM)"
   ]
  },
  {
   "cell_type": "code",
   "execution_count": 53,
   "id": "c3a322e7",
   "metadata": {},
   "outputs": [
    {
     "name": "stdout",
     "output_type": "stream",
     "text": [
      "LinearGAM                                                                                                 \n",
      "=============================================== ==========================================================\n",
      "Distribution:                        NormalDist Effective DoF:                                     15.2801\n",
      "Link Function:                     IdentityLink Log Likelihood:                                -85309.1359\n",
      "Number of Samples:                         4624 AIC:                                           170650.8319\n",
      "                                                AICc:                                          170650.9541\n",
      "                                                GCV:                                                0.0236\n",
      "                                                Scale:                                              0.0234\n",
      "                                                Pseudo R-Squared:                                   0.0697\n",
      "==========================================================================================================\n",
      "Feature Function                  Lambda               Rank         EDoF         P > x        Sig. Code   \n",
      "================================= ==================== ============ ============ ============ ============\n",
      "s(0)                              [0.6]                20           15.3         1.11e-16     ***         \n",
      "intercept                                              1            0.0          1.11e-16     ***         \n",
      "==========================================================================================================\n",
      "Significance codes:  0 '***' 0.001 '**' 0.01 '*' 0.05 '.' 0.1 ' ' 1\n",
      "\n",
      "WARNING: Fitting splines and a linear function to a feature introduces a model identifiability problem\n",
      "         which can cause p-values to appear significant when they are not.\n",
      "\n",
      "WARNING: p-values calculated in this manner behave correctly for un-penalized models or models with\n",
      "         known smoothing parameters, but when smoothing parameters have been estimated, the p-values\n",
      "         are typically lower than they should be, meaning that the tests reject the null too readily.\n"
     ]
    },
    {
     "name": "stderr",
     "output_type": "stream",
     "text": [
      "/Applications/anaconda3/envs/ssml/lib/python3.9/site-packages/pygam/pygam.py:752: RuntimeWarning: invalid value encountered in reciprocal\n",
      "  np.fill_diagonal(Dinv, d**-1) # invert the singular values\n",
      "/var/folders/6g/kgz5rml118s6lqw25w5sv5mr0000gn/T/ipykernel_2171/407199068.py:19: UserWarning: KNOWN BUG: p-values computed in this summary are likely much smaller than they should be. \n",
      " \n",
      "Please do not make inferences based on these values! \n",
      "\n",
      "Collaborate on a solution, and stay up to date at: \n",
      "github.com/dswah/pyGAM/issues/163 \n",
      "\n",
      "  gam_300.summary()\n"
     ]
    }
   ],
   "source": [
    "# data/predictors as the NDVI_300\n",
    "df_300 = pd.DataFrame(gdf_300, columns=['NDVI_300'])\n",
    "\n",
    "# target as Greenspace%_300\n",
    "target_300 = pd.DataFrame(gdf_300, columns=['Canopy%_300'])\n",
    "\n",
    "# define X and Y\n",
    "X = df_300\n",
    "y = target_300['Canopy%_300']\n",
    "\n",
    "# split independent and dependent variables into training and test data\n",
    "X_train, X_test, y_train, y_test = train_test_split(X, y, test_size=0.2, random_state=0)\n",
    "\n",
    "# fit GAM model\n",
    "#gam_300 = LinearGAM(s(0, n_splines=25)).fit(X_train, y_train, weights=None)\n",
    "gam_300 = LinearGAM(s(0)).fit(X_train, y_train, weights=None)\n",
    "\n",
    "# check model statistics\n",
    "gam_300.summary()"
   ]
  },
  {
   "cell_type": "code",
   "execution_count": 54,
   "id": "f9152b28",
   "metadata": {},
   "outputs": [],
   "source": [
    "# convert X_test and y_test to array values\n",
    "#y_test = y_test.iloc[:, 0:1].values\n",
    "X_test = X_test.iloc[:, 0:1].values\n",
    "\n",
    "# make predictions\n",
    "y_pred = gam_300.predict(X_test)"
   ]
  },
  {
   "cell_type": "code",
   "execution_count": 55,
   "id": "bf29d6a4",
   "metadata": {},
   "outputs": [
    {
     "data": {
      "image/png": "[encoded data removed]",
      "text/plain": [
       "<Figure size 432x288 with 1 Axes>"
      ]
     },
     "metadata": {
      "needs_background": "light"
     },
     "output_type": "display_data"
    }
   ],
   "source": [
    "# plot output\n",
    "plt.scatter(X_test, y_test, color=\"forestgreen\")\n",
    "plt.plot(X_test, y_pred, color=\"black\", linewidth=2)\n",
    "\n",
    "# set title, xlabel and ylabel\n",
    "plt.title('Generalized Additive Model (GAM) at 300m')\n",
    "plt.xlabel('NDVI_300')\n",
    "plt.ylabel('Canopy%_300')\n",
    "\n",
    "# save the figure\n",
    "plt.savefig('thesis_project/visualizations/modelling/gam_ndvi_canopy_300_plot.png', dpi=300, bbox_inches='tight')\n",
    "\n",
    "plt.show()"
   ]
  },
  {
   "cell_type": "markdown",
   "id": "dd157e35",
   "metadata": {},
   "source": [
    "### 2.3. How does NDVI predict Grass%?"
   ]
  },
  {
   "cell_type": "markdown",
   "id": "6ff5b6c3",
   "metadata": {},
   "source": [
    "#### 2.3.1. Linear Regression Model"
   ]
  },
  {
   "cell_type": "code",
   "execution_count": 56,
   "id": "99f86285",
   "metadata": {},
   "outputs": [],
   "source": [
    "# NDVI_300 as the predictor\n",
    "df = pd.DataFrame(gdf_300, columns=['NDVI_300'])\n",
    "\n",
    "# Grass%_300 as the target\n",
    "target = pd.DataFrame(gdf_300, columns=['Grass%_300'])\n",
    "\n",
    "# define X and y\n",
    "X = df\n",
    "y = target['Grass%_300']\n",
    "\n",
    "# split independent and dependent variables into training and test data\n",
    "X_train, X_test, y_train, y_test = train_test_split(X, y, test_size=0.2, random_state=0)\n",
    "\n",
    "# fit the linear model\n",
    "lm_300 = linear_model.LinearRegression()\n",
    "model_300 = lm_300.fit(X_train,y_train)"
   ]
  },
  {
   "cell_type": "code",
   "execution_count": 57,
   "id": "a787ffdb",
   "metadata": {},
   "outputs": [
    {
     "name": "stdout",
     "output_type": "stream",
     "text": [
      "Coefficient of NDVI_300 (or slope): [0.43572792]\n",
      "Intercept: -0.06157488805742506\n",
      "R-squared: 0.2522562307658959\n"
     ]
    }
   ],
   "source": [
    "# linear model coefficient, intercept, and R-squared \n",
    "print('Coefficient of NDVI_300 (or slope):', model_300.coef_)\n",
    "print('Intercept:', model_300.intercept_)\n",
    "print('R-squared:', model_300.score(X_train,y_train))"
   ]
  },
  {
   "cell_type": "code",
   "execution_count": 58,
   "id": "e9a1f81c",
   "metadata": {},
   "outputs": [],
   "source": [
    "# make predictions\n",
    "y_pred = model_300.predict(X_test)\n",
    "\n",
    "# compare actual values with predicted ones\n",
    "df = pd.DataFrame({'Actual': y_test, 'Predicted': y_pred})\n",
    "\n",
    "# convert X_test to array values (for later use when plotting)\n",
    "X_test = X_test.iloc[:, 0:1].values"
   ]
  },
  {
   "cell_type": "code",
   "execution_count": 59,
   "id": "2623f232",
   "metadata": {},
   "outputs": [
    {
     "name": "stdout",
     "output_type": "stream",
     "text": [
      "Mean Absolute Error: 0.09072289617191483\n",
      "Mean Squared Error: 0.01716985580502281\n",
      "Root Mean Squared Error: 0.13103379642299468\n"
     ]
    }
   ],
   "source": [
    "# evaluate the model\n",
    "print('Mean Absolute Error:', metrics.mean_absolute_error(y_test, y_pred))\n",
    "print('Mean Squared Error:', metrics.mean_squared_error(y_test, y_pred))\n",
    "print('Root Mean Squared Error:', np.sqrt(metrics.mean_squared_error(y_test, y_pred)))"
   ]
  },
  {
   "cell_type": "code",
   "execution_count": 60,
   "id": "ae84b919",
   "metadata": {},
   "outputs": [
    {
     "data": {
      "image/png": "[encoded data removed]",
      "text/plain": [
       "<Figure size 432x288 with 1 Axes>"
      ]
     },
     "metadata": {
      "needs_background": "light"
     },
     "output_type": "display_data"
    }
   ],
   "source": [
    "# plot outputs\n",
    "plt.scatter(X_test, y_test, color=\"forestgreen\")\n",
    "plt.plot(X_test, y_pred, color=\"black\", linewidth=2)\n",
    "\n",
    "plt.xticks(np.arange(0, 1.1, step = 0.2))\n",
    "plt.yticks(np.arange(0, 1.1, step = 0.2))\n",
    "\n",
    "# set title, xlabel and ylabel\n",
    "plt.title('Linear Regression Model at 300m')\n",
    "plt.xlabel('NDVI_300')\n",
    "plt.ylabel('Grass%_300')\n",
    "\n",
    "# save the figure\n",
    "plt.savefig('thesis_project/visualizations/modelling/lm_ndvi_grass_300_plot.png', dpi=300, bbox_inches='tight')\n",
    "\n",
    "plt.show()"
   ]
  },
  {
   "cell_type": "markdown",
   "id": "65ca4f4e",
   "metadata": {},
   "source": [
    "#### 2.3.2. Generalized Additive Model (GAM)"
   ]
  },
  {
   "cell_type": "code",
   "execution_count": 61,
   "id": "113400a4",
   "metadata": {},
   "outputs": [
    {
     "name": "stdout",
     "output_type": "stream",
     "text": [
      "LinearGAM                                                                                                 \n",
      "=============================================== ==========================================================\n",
      "Distribution:                        NormalDist Effective DoF:                                     15.2801\n",
      "Link Function:                     IdentityLink Log Likelihood:                               -127428.6186\n",
      "Number of Samples:                         4624 AIC:                                           254889.7974\n",
      "                                                AICc:                                          254889.9195\n",
      "                                                GCV:                                                0.0163\n",
      "                                                Scale:                                              0.0162\n",
      "                                                Pseudo R-Squared:                                    0.265\n",
      "==========================================================================================================\n",
      "Feature Function                  Lambda               Rank         EDoF         P > x        Sig. Code   \n",
      "================================= ==================== ============ ============ ============ ============\n",
      "s(0)                              [0.6]                20           15.3         1.11e-16     ***         \n",
      "intercept                                              1            0.0          1.11e-16     ***         \n",
      "==========================================================================================================\n",
      "Significance codes:  0 '***' 0.001 '**' 0.01 '*' 0.05 '.' 0.1 ' ' 1\n",
      "\n",
      "WARNING: Fitting splines and a linear function to a feature introduces a model identifiability problem\n",
      "         which can cause p-values to appear significant when they are not.\n",
      "\n",
      "WARNING: p-values calculated in this manner behave correctly for un-penalized models or models with\n",
      "         known smoothing parameters, but when smoothing parameters have been estimated, the p-values\n",
      "         are typically lower than they should be, meaning that the tests reject the null too readily.\n"
     ]
    },
    {
     "name": "stderr",
     "output_type": "stream",
     "text": [
      "/Applications/anaconda3/envs/ssml/lib/python3.9/site-packages/pygam/pygam.py:752: RuntimeWarning: invalid value encountered in reciprocal\n",
      "  np.fill_diagonal(Dinv, d**-1) # invert the singular values\n",
      "/var/folders/6g/kgz5rml118s6lqw25w5sv5mr0000gn/T/ipykernel_2171/2613320662.py:19: UserWarning: KNOWN BUG: p-values computed in this summary are likely much smaller than they should be. \n",
      " \n",
      "Please do not make inferences based on these values! \n",
      "\n",
      "Collaborate on a solution, and stay up to date at: \n",
      "github.com/dswah/pyGAM/issues/163 \n",
      "\n",
      "  gam_300.summary()\n"
     ]
    }
   ],
   "source": [
    "# data/predictors as the NDVI_300\n",
    "df_300 = pd.DataFrame(gdf_300, columns=['NDVI_300'])\n",
    "\n",
    "# target as Grass%_300\n",
    "target_300 = pd.DataFrame(gdf_300, columns=['Grass%_300'])\n",
    "\n",
    "# define X and Y\n",
    "X = df_300\n",
    "y = target_300['Grass%_300']\n",
    "\n",
    "# split independent and dependent variables into training and test data\n",
    "X_train, X_test, y_train, y_test = train_test_split(X, y, test_size=0.2, random_state=0)\n",
    "\n",
    "# fit GAM model\n",
    "#gam_300 = LinearGAM(s(0, n_splines=25)).fit(X_train, y_train, weights=None)\n",
    "gam_300 = LinearGAM(s(0)).fit(X_train, y_train, weights=None)\n",
    "\n",
    "# check model statistics\n",
    "gam_300.summary()"
   ]
  },
  {
   "cell_type": "code",
   "execution_count": 62,
   "id": "8e8b1513",
   "metadata": {},
   "outputs": [],
   "source": [
    "# convert X_test and y_test to array values\n",
    "#y_test = y_test.iloc[:, 0:1].values\n",
    "X_test = X_test.iloc[:, 0:1].values\n",
    "\n",
    "# make predictions\n",
    "y_pred = gam_300.predict(X_test)"
   ]
  },
  {
   "cell_type": "code",
   "execution_count": 63,
   "id": "c79d7865",
   "metadata": {},
   "outputs": [
    {
     "data": {
      "image/png": "[encoded data removed]",
      "text/plain": [
       "<Figure size 432x288 with 1 Axes>"
      ]
     },
     "metadata": {
      "needs_background": "light"
     },
     "output_type": "display_data"
    }
   ],
   "source": [
    "# plot output\n",
    "plt.scatter(X_test, y_test, color=\"forestgreen\")\n",
    "plt.plot(X_test, y_pred, color=\"black\", linewidth=2)\n",
    "\n",
    "# set title, xlabel and ylabel\n",
    "plt.title('Generalized Additive Model (GAM) at 300m')\n",
    "plt.xlabel('NDVI_300')\n",
    "plt.ylabel('Grass%_300')\n",
    "\n",
    "# save the figure\n",
    "plt.savefig('thesis_project/visualizations/modelling/gam_ndvi_grass_300_plot.png', dpi=300, bbox_inches='tight')\n",
    "\n",
    "plt.show()"
   ]
  },
  {
   "cell_type": "markdown",
   "id": "d3e319e6",
   "metadata": {},
   "source": [
    "## 3. Modelling greenspace metrics at 500m"
   ]
  },
  {
   "cell_type": "code",
   "execution_count": 64,
   "id": "056870cd",
   "metadata": {},
   "outputs": [
    {
     "data": {
      "text/html": [
       "<div>\n",
       "<style scoped>\n",
       "    .dataframe tbody tr th:only-of-type {\n",
       "        vertical-align: middle;\n",
       "    }\n",
       "\n",
       "    .dataframe tbody tr th {\n",
       "        vertical-align: top;\n",
       "    }\n",
       "\n",
       "    .dataframe thead th {\n",
       "        text-align: right;\n",
       "    }\n",
       "</style>\n",
       "<table border=\"1\" class=\"dataframe\">\n",
       "  <thead>\n",
       "    <tr style=\"text-align: right;\">\n",
       "      <th></th>\n",
       "      <th>NDVI_500</th>\n",
       "      <th>Greenspace%_500</th>\n",
       "      <th>Canopy%_500</th>\n",
       "      <th>Grass%_500</th>\n",
       "      <th>geometry</th>\n",
       "    </tr>\n",
       "  </thead>\n",
       "  <tbody>\n",
       "    <tr>\n",
       "      <th>0</th>\n",
       "      <td>0.502140</td>\n",
       "      <td>0.485566</td>\n",
       "      <td>0.339339</td>\n",
       "      <td>0.197578</td>\n",
       "      <td>POINT (372673.972 394848.116)</td>\n",
       "    </tr>\n",
       "    <tr>\n",
       "      <th>1</th>\n",
       "      <td>0.634665</td>\n",
       "      <td>0.641850</td>\n",
       "      <td>0.181328</td>\n",
       "      <td>0.265021</td>\n",
       "      <td>POINT (383073.527 408838.647)</td>\n",
       "    </tr>\n",
       "    <tr>\n",
       "      <th>2</th>\n",
       "      <td>0.606910</td>\n",
       "      <td>0.969945</td>\n",
       "      <td>0.164166</td>\n",
       "      <td>0.448651</td>\n",
       "      <td>POINT (372549.883 390299.040)</td>\n",
       "    </tr>\n",
       "    <tr>\n",
       "      <th>3</th>\n",
       "      <td>0.719913</td>\n",
       "      <td>0.824603</td>\n",
       "      <td>0.294875</td>\n",
       "      <td>0.235132</td>\n",
       "      <td>POINT (372644.583 414079.514)</td>\n",
       "    </tr>\n",
       "    <tr>\n",
       "      <th>4</th>\n",
       "      <td>0.710023</td>\n",
       "      <td>0.980069</td>\n",
       "      <td>0.031487</td>\n",
       "      <td>0.184703</td>\n",
       "      <td>POINT (369449.827 413462.285)</td>\n",
       "    </tr>\n",
       "  </tbody>\n",
       "</table>\n",
       "</div>"
      ],
      "text/plain": [
       "   NDVI_500  Greenspace%_500  Canopy%_500  Grass%_500  \\\n",
       "0  0.502140         0.485566     0.339339    0.197578   \n",
       "1  0.634665         0.641850     0.181328    0.265021   \n",
       "2  0.606910         0.969945     0.164166    0.448651   \n",
       "3  0.719913         0.824603     0.294875    0.235132   \n",
       "4  0.710023         0.980069     0.031487    0.184703   \n",
       "\n",
       "                        geometry  \n",
       "0  POINT (372673.972 394848.116)  \n",
       "1  POINT (383073.527 408838.647)  \n",
       "2  POINT (372549.883 390299.040)  \n",
       "3  POINT (372644.583 414079.514)  \n",
       "4  POINT (369449.827 413462.285)  "
      ]
     },
     "execution_count": 64,
     "metadata": {},
     "output_type": "execute_result"
    }
   ],
   "source": [
    "# load greenspace metrics at 500m geodataframe\n",
    "gdf_500 = gpd.read_file(\"thesis_project/output/dataframes/greenspace_metrics_500_gm.json\")\n",
    "gdf_500.head()"
   ]
  },
  {
   "cell_type": "markdown",
   "id": "71ee4c9c",
   "metadata": {},
   "source": [
    "### 3.1. How does NDVI predict Greenspace%?"
   ]
  },
  {
   "cell_type": "markdown",
   "id": "75021aa9",
   "metadata": {},
   "source": [
    "#### 3.1.1. Linear Regression Model"
   ]
  },
  {
   "cell_type": "code",
   "execution_count": 65,
   "id": "150814b6",
   "metadata": {},
   "outputs": [],
   "source": [
    "# NDVI_500 as the predictor\n",
    "df = pd.DataFrame(gdf_500, columns=['NDVI_500'])\n",
    "\n",
    "# Greenspace%_300 as the target\n",
    "target = pd.DataFrame(gdf_500, columns=['Greenspace%_500'])\n",
    "\n",
    "# define X and y\n",
    "X = df\n",
    "y = target['Greenspace%_500']\n",
    "\n",
    "# split independent and dependent variables into training and test data\n",
    "X_train, X_test, y_train, y_test = train_test_split(X, y, test_size=0.2, random_state=0)\n",
    "\n",
    "# fit the linear model\n",
    "lm_500 = linear_model.LinearRegression()\n",
    "model_500 = lm_500.fit(X_train,y_train)"
   ]
  },
  {
   "cell_type": "code",
   "execution_count": 66,
   "id": "394b96ed",
   "metadata": {},
   "outputs": [
    {
     "name": "stdout",
     "output_type": "stream",
     "text": [
      "Coefficient of NDVI_500 (or slope): [1.10297259]\n",
      "Intercept: 0.016788191733490554\n",
      "R-squared: 0.6732817510651916\n"
     ]
    }
   ],
   "source": [
    "# linear model coefficient, intercept, and R-squared \n",
    "print('Coefficient of NDVI_500 (or slope):', model_500.coef_)\n",
    "print('Intercept:', model_500.intercept_)\n",
    "print('R-squared:', model_500.score(X_train,y_train))"
   ]
  },
  {
   "cell_type": "code",
   "execution_count": 67,
   "id": "82c988fa",
   "metadata": {},
   "outputs": [],
   "source": [
    "# make predictions\n",
    "y_pred = model_500.predict(X_test)\n",
    "\n",
    "# compare actual values with predicted ones\n",
    "df = pd.DataFrame({'Actual': y_test, 'Predicted': y_pred})\n",
    "\n",
    "# convert X_test to array values (for later use when plotting)\n",
    "X_test = X_test.iloc[:, 0:1].values"
   ]
  },
  {
   "cell_type": "code",
   "execution_count": 68,
   "id": "09cc3d6f",
   "metadata": {},
   "outputs": [
    {
     "name": "stdout",
     "output_type": "stream",
     "text": [
      "Mean Absolute Error: 0.08462592877548988\n",
      "Mean Squared Error: 0.015352208136519737\n",
      "Root Mean Squared Error: 0.12390402792693923\n"
     ]
    }
   ],
   "source": [
    "# evaluate the model\n",
    "print('Mean Absolute Error:', metrics.mean_absolute_error(y_test, y_pred))\n",
    "print('Mean Squared Error:', metrics.mean_squared_error(y_test, y_pred))\n",
    "print('Root Mean Squared Error:', np.sqrt(metrics.mean_squared_error(y_test, y_pred)))"
   ]
  },
  {
   "cell_type": "code",
   "execution_count": 69,
   "id": "64faab7a",
   "metadata": {},
   "outputs": [
    {
     "data": {
      "image/png": "[encoded data removed]",
      "text/plain": [
       "<Figure size 432x288 with 1 Axes>"
      ]
     },
     "metadata": {
      "needs_background": "light"
     },
     "output_type": "display_data"
    }
   ],
   "source": [
    "# plot outputs\n",
    "plt.scatter(X_test, y_test, color=\"forestgreen\")\n",
    "plt.plot(X_test, y_pred, color=\"black\", linewidth=2)\n",
    "\n",
    "plt.xticks(np.arange(0, 1.1, step = 0.2))\n",
    "plt.yticks(np.arange(0, 1.1, step = 0.2))\n",
    "\n",
    "# set title, xlabel and ylabel\n",
    "plt.title('Linear Regression Model at 500m')\n",
    "plt.xlabel('NDVI_500')\n",
    "plt.ylabel('Greenspace%_500')\n",
    "\n",
    "# save the figure\n",
    "plt.savefig('thesis_project/visualizations/modelling/lm_ndvi_green_500_plot.png', dpi=300, bbox_inches='tight')\n",
    "\n",
    "plt.show()"
   ]
  },
  {
   "cell_type": "code",
   "execution_count": 70,
   "id": "c9dc0831",
   "metadata": {},
   "outputs": [
    {
     "name": "stdout",
     "output_type": "stream",
     "text": [
      "If NDVI goes from 0.3 to 0.4, Greenspace%_100 increases by: [0.11029726]\n"
     ]
    },
    {
     "name": "stderr",
     "output_type": "stream",
     "text": [
      "/Applications/anaconda3/envs/ssml/lib/python3.9/site-packages/sklearn/base.py:450: UserWarning: X does not have valid feature names, but LinearRegression was fitted with feature names\n",
      "  warnings.warn(\n",
      "/Applications/anaconda3/envs/ssml/lib/python3.9/site-packages/sklearn/base.py:450: UserWarning: X does not have valid feature names, but LinearRegression was fitted with feature names\n",
      "  warnings.warn(\n"
     ]
    }
   ],
   "source": [
    "# Change in NDVI values: how does Greenspace% increase, if NDVI changes from 0.3 to 0.4?\n",
    "green0 = model_500.predict([[0.3]])\n",
    "green1 = model_500.predict([[0.4]])\n",
    "print('If NDVI goes from 0.3 to 0.4, Greenspace%_100 increases by:', green1 - green0)"
   ]
  },
  {
   "cell_type": "markdown",
   "id": "fe1f4557",
   "metadata": {},
   "source": [
    "#### 3.1.2. Generalized Additive Model (GAM)"
   ]
  },
  {
   "cell_type": "code",
   "execution_count": 71,
   "id": "ec9e14a5",
   "metadata": {},
   "outputs": [
    {
     "name": "stdout",
     "output_type": "stream",
     "text": [
      "LinearGAM                                                                                                 \n",
      "=============================================== ==========================================================\n",
      "Distribution:                        NormalDist Effective DoF:                                     14.1664\n",
      "Link Function:                     IdentityLink Log Likelihood:                                -68119.7645\n",
      "Number of Samples:                         2304 AIC:                                           136269.8617\n",
      "                                                AICc:                                          136270.0761\n",
      "                                                GCV:                                                0.0153\n",
      "                                                Scale:                                              0.0151\n",
      "                                                Pseudo R-Squared:                                   0.6972\n",
      "==========================================================================================================\n",
      "Feature Function                  Lambda               Rank         EDoF         P > x        Sig. Code   \n",
      "================================= ==================== ============ ============ ============ ============\n",
      "s(0)                              [0.6]                20           14.2         1.11e-16     ***         \n",
      "intercept                                              1            0.0          1.11e-16     ***         \n",
      "==========================================================================================================\n",
      "Significance codes:  0 '***' 0.001 '**' 0.01 '*' 0.05 '.' 0.1 ' ' 1\n",
      "\n",
      "WARNING: Fitting splines and a linear function to a feature introduces a model identifiability problem\n",
      "         which can cause p-values to appear significant when they are not.\n",
      "\n",
      "WARNING: p-values calculated in this manner behave correctly for un-penalized models or models with\n",
      "         known smoothing parameters, but when smoothing parameters have been estimated, the p-values\n",
      "         are typically lower than they should be, meaning that the tests reject the null too readily.\n"
     ]
    },
    {
     "name": "stderr",
     "output_type": "stream",
     "text": [
      "/Applications/anaconda3/envs/ssml/lib/python3.9/site-packages/pygam/pygam.py:752: RuntimeWarning: invalid value encountered in reciprocal\n",
      "  np.fill_diagonal(Dinv, d**-1) # invert the singular values\n",
      "/var/folders/6g/kgz5rml118s6lqw25w5sv5mr0000gn/T/ipykernel_2171/2741797941.py:19: UserWarning: KNOWN BUG: p-values computed in this summary are likely much smaller than they should be. \n",
      " \n",
      "Please do not make inferences based on these values! \n",
      "\n",
      "Collaborate on a solution, and stay up to date at: \n",
      "github.com/dswah/pyGAM/issues/163 \n",
      "\n",
      "  gam_500.summary()\n"
     ]
    }
   ],
   "source": [
    "# data/predictors as the NDVI_500\n",
    "df = pd.DataFrame(gdf_500, columns=['NDVI_500'])\n",
    "\n",
    "# target as Greenspace%_500\n",
    "target = pd.DataFrame(gdf_500, columns=['Greenspace%_500'])\n",
    "\n",
    "# define X and Y\n",
    "X = df\n",
    "y = target['Greenspace%_500']\n",
    "\n",
    "# split independent and dependent variables into training and test data\n",
    "X_train, X_test, y_train, y_test = train_test_split(X, y, test_size=0.2, random_state=0)\n",
    "\n",
    "# fit GAM model\n",
    "#gam_500 = LinearGAM(s(0, n_splines=25)).fit(X_train, y_train, weights=None)\n",
    "gam_500 = LinearGAM(s(0)).fit(X_train, y_train, weights=None)\n",
    "\n",
    "# check model statistics\n",
    "gam_500.summary()"
   ]
  },
  {
   "cell_type": "code",
   "execution_count": 72,
   "id": "d2b2652c",
   "metadata": {},
   "outputs": [],
   "source": [
    "# convert X_test and y_test to array values\n",
    "#y_test = y_test.iloc[:, 0:1].values\n",
    "X_test = X_test.iloc[:, 0:1].values\n",
    "\n",
    "# make predictions\n",
    "y_pred = gam_500.predict(X_test)"
   ]
  },
  {
   "cell_type": "code",
   "execution_count": 73,
   "id": "e4ec89e0",
   "metadata": {},
   "outputs": [
    {
     "data": {
      "image/png": "[encoded data removed]",
      "text/plain": [
       "<Figure size 432x288 with 1 Axes>"
      ]
     },
     "metadata": {
      "needs_background": "light"
     },
     "output_type": "display_data"
    }
   ],
   "source": [
    "# plot output\n",
    "plt.scatter(X_test, y_test, color=\"forestgreen\")\n",
    "plt.plot(X_test, y_pred, color=\"black\", linewidth=2)\n",
    "\n",
    "# set title, xlabel and ylabel\n",
    "plt.title('Generalized Additive Model (GAM) at 500m')\n",
    "plt.xlabel('NDVI_500')\n",
    "plt.ylabel('Greenspace%_500')\n",
    "\n",
    "# save the figure\n",
    "plt.savefig('thesis_project/visualizations/modelling/gam_ndvi_green_500_plot.png', dpi=300, bbox_inches='tight')\n",
    "\n",
    "plt.show()"
   ]
  },
  {
   "cell_type": "code",
   "execution_count": 74,
   "id": "c705b1db",
   "metadata": {},
   "outputs": [
    {
     "name": "stdout",
     "output_type": "stream",
     "text": [
      "If NDVI goes from 0.25 to 0.35, Greenspace%_100 increases by: [0.07029081]\n"
     ]
    }
   ],
   "source": [
    "# Change in low NDVI values: how does Greenspace% increase, if NDVI changes from 0.25 to 0.35?\n",
    "green_l0 = gam_500.predict(0.25)\n",
    "green_l1 = gam_500.predict(0.35)\n",
    "print('If NDVI goes from 0.25 to 0.35, Greenspace%_100 increases by:', green_l1 - green_l0)"
   ]
  },
  {
   "cell_type": "code",
   "execution_count": 75,
   "id": "8ca98a7a",
   "metadata": {},
   "outputs": [
    {
     "name": "stdout",
     "output_type": "stream",
     "text": [
      "If NDVI goes from 0.45 to 0.55, Greenspace%_100 increases by: [0.14346386]\n"
     ]
    }
   ],
   "source": [
    "# Change in medium NDVI values: how does Greenspace% increase, if NDVI changes from 0.45 to 0.55?\n",
    "green_m0 = gam_500.predict(0.45)\n",
    "green_m1 = gam_500.predict(0.55)\n",
    "print('If NDVI goes from 0.45 to 0.55, Greenspace%_100 increases by:', green_m1 - green_m0)"
   ]
  },
  {
   "cell_type": "code",
   "execution_count": 76,
   "id": "eec9c559",
   "metadata": {},
   "outputs": [
    {
     "name": "stdout",
     "output_type": "stream",
     "text": [
      "If NDVI goes from 0.65 to 0.75, Greenspace%_100 increases by: [0.07383312]\n"
     ]
    }
   ],
   "source": [
    "# Change in high NDVI values: how does Greenspace% increase, if NDVI changes from 0.65 to 0.75?\n",
    "green_h0 = gam_500.predict(0.65)\n",
    "green_h1 = gam_500.predict(0.75)\n",
    "print('If NDVI goes from 0.65 to 0.75, Greenspace%_100 increases by:', green_h1 - green_h0)"
   ]
  },
  {
   "cell_type": "markdown",
   "id": "24b4f8b0",
   "metadata": {},
   "source": [
    "### 3.2. How does NDVI predict Canopy%?"
   ]
  },
  {
   "cell_type": "markdown",
   "id": "d91c47a1",
   "metadata": {},
   "source": [
    "#### 3.2.1. Linear Regression Model"
   ]
  },
  {
   "cell_type": "code",
   "execution_count": 77,
   "id": "68ee1650",
   "metadata": {},
   "outputs": [],
   "source": [
    "# NDVI_500 as the predictor\n",
    "df = pd.DataFrame(gdf_500, columns=['NDVI_500'])\n",
    "\n",
    "# Greenspace%_300 as the target\n",
    "target = pd.DataFrame(gdf_500, columns=['Canopy%_500'])\n",
    "\n",
    "# define X and y\n",
    "X = df\n",
    "y = target['Canopy%_500']\n",
    "\n",
    "# split independent and dependent variables into training and test data\n",
    "X_train, X_test, y_train, y_test = train_test_split(X, y, test_size=0.2, random_state=0)\n",
    "\n",
    "# fit the linear model\n",
    "lm_500 = linear_model.LinearRegression()\n",
    "model_500 = lm_500.fit(X_train,y_train)"
   ]
  },
  {
   "cell_type": "code",
   "execution_count": 78,
   "id": "dc0e045c",
   "metadata": {},
   "outputs": [
    {
     "name": "stdout",
     "output_type": "stream",
     "text": [
      "Coefficient of NDVI_500 (or slope): [-0.124209]\n",
      "Intercept: 0.3495300528153746\n",
      "R-squared: 0.015580297735448112\n"
     ]
    }
   ],
   "source": [
    "# linear model coefficient, intercept, and R-squared \n",
    "print('Coefficient of NDVI_500 (or slope):', model_500.coef_)\n",
    "print('Intercept:', model_500.intercept_)\n",
    "print('R-squared:', model_500.score(X_train,y_train))"
   ]
  },
  {
   "cell_type": "code",
   "execution_count": 79,
   "id": "43830f53",
   "metadata": {},
   "outputs": [],
   "source": [
    "# make predictions\n",
    "y_pred = model_500.predict(X_test)\n",
    "\n",
    "# compare actual values with predicted ones\n",
    "df = pd.DataFrame({'Actual': y_test, 'Predicted': y_pred})\n",
    "\n",
    "# convert X_test to array values (for later use when plotting)\n",
    "X_test = X_test.iloc[:, 0:1].values"
   ]
  },
  {
   "cell_type": "code",
   "execution_count": 80,
   "id": "23568166",
   "metadata": {},
   "outputs": [
    {
     "name": "stdout",
     "output_type": "stream",
     "text": [
      "Mean Absolute Error: 0.12753937170726817\n",
      "Mean Squared Error: 0.02723193709975635\n",
      "Root Mean Squared Error: 0.16502102017548054\n"
     ]
    }
   ],
   "source": [
    "# evaluate the model\n",
    "print('Mean Absolute Error:', metrics.mean_absolute_error(y_test, y_pred))\n",
    "print('Mean Squared Error:', metrics.mean_squared_error(y_test, y_pred))\n",
    "print('Root Mean Squared Error:', np.sqrt(metrics.mean_squared_error(y_test, y_pred)))"
   ]
  },
  {
   "cell_type": "code",
   "execution_count": 81,
   "id": "e67f7d14",
   "metadata": {},
   "outputs": [
    {
     "data": {
      "image/png": "[encoded data removed]",
      "text/plain": [
       "<Figure size 432x288 with 1 Axes>"
      ]
     },
     "metadata": {
      "needs_background": "light"
     },
     "output_type": "display_data"
    }
   ],
   "source": [
    "# plot outputs\n",
    "plt.scatter(X_test, y_test, color=\"forestgreen\")\n",
    "plt.plot(X_test, y_pred, color=\"black\", linewidth=2)\n",
    "\n",
    "plt.xticks(np.arange(0, 1.1, step = 0.2))\n",
    "plt.yticks(np.arange(0, 1.1, step = 0.2))\n",
    "\n",
    "# set title, xlabel and ylabel\n",
    "plt.title('Linear Regression Model at 500m')\n",
    "plt.xlabel('NDVI_500')\n",
    "plt.ylabel('Canopy%_500')\n",
    "\n",
    "# save the figure\n",
    "plt.savefig('thesis_project/visualizations/modelling/lm_ndvi_canopy_500_plot.png', dpi=300, bbox_inches='tight')\n",
    "\n",
    "plt.show()"
   ]
  },
  {
   "cell_type": "markdown",
   "id": "5a34627b",
   "metadata": {},
   "source": [
    "#### 3.2.2. Generalized Additive Model (GAM)"
   ]
  },
  {
   "cell_type": "code",
   "execution_count": 82,
   "id": "01311a0a",
   "metadata": {},
   "outputs": [
    {
     "name": "stdout",
     "output_type": "stream",
     "text": [
      "LinearGAM                                                                                                 \n",
      "=============================================== ==========================================================\n",
      "Distribution:                        NormalDist Effective DoF:                                     14.1664\n",
      "Link Function:                     IdentityLink Log Likelihood:                                -37870.1711\n",
      "Number of Samples:                         2304 AIC:                                            75770.6749\n",
      "                                                AICc:                                           75770.8893\n",
      "                                                GCV:                                                0.0262\n",
      "                                                Scale:                                              0.0259\n",
      "                                                Pseudo R-Squared:                                   0.0535\n",
      "==========================================================================================================\n",
      "Feature Function                  Lambda               Rank         EDoF         P > x        Sig. Code   \n",
      "================================= ==================== ============ ============ ============ ============\n",
      "s(0)                              [0.6]                20           14.2         1.11e-16     ***         \n",
      "intercept                                              1            0.0          1.11e-16     ***         \n",
      "==========================================================================================================\n",
      "Significance codes:  0 '***' 0.001 '**' 0.01 '*' 0.05 '.' 0.1 ' ' 1\n",
      "\n",
      "WARNING: Fitting splines and a linear function to a feature introduces a model identifiability problem\n",
      "         which can cause p-values to appear significant when they are not.\n",
      "\n",
      "WARNING: p-values calculated in this manner behave correctly for un-penalized models or models with\n",
      "         known smoothing parameters, but when smoothing parameters have been estimated, the p-values\n",
      "         are typically lower than they should be, meaning that the tests reject the null too readily.\n"
     ]
    },
    {
     "name": "stderr",
     "output_type": "stream",
     "text": [
      "/Applications/anaconda3/envs/ssml/lib/python3.9/site-packages/pygam/pygam.py:752: RuntimeWarning: invalid value encountered in reciprocal\n",
      "  np.fill_diagonal(Dinv, d**-1) # invert the singular values\n",
      "/var/folders/6g/kgz5rml118s6lqw25w5sv5mr0000gn/T/ipykernel_2171/1293848242.py:19: UserWarning: KNOWN BUG: p-values computed in this summary are likely much smaller than they should be. \n",
      " \n",
      "Please do not make inferences based on these values! \n",
      "\n",
      "Collaborate on a solution, and stay up to date at: \n",
      "github.com/dswah/pyGAM/issues/163 \n",
      "\n",
      "  gam_500.summary()\n"
     ]
    }
   ],
   "source": [
    "# data/predictors as the NDVI_500\n",
    "df = pd.DataFrame(gdf_500, columns=['NDVI_500'])\n",
    "\n",
    "# target as Canopy%_500\n",
    "target = pd.DataFrame(gdf_500, columns=['Canopy%_500'])\n",
    "\n",
    "# define X and Y\n",
    "X = df\n",
    "y = target['Canopy%_500']\n",
    "\n",
    "# split independent and dependent variables into training and test data\n",
    "X_train, X_test, y_train, y_test = train_test_split(X, y, test_size=0.2, random_state=0)\n",
    "\n",
    "# fit GAM model\n",
    "#gam_500 = LinearGAM(s(0, n_splines=25)).fit(X_train, y_train, weights=None)\n",
    "gam_500 = LinearGAM(s(0)).fit(X_train, y_train, weights=None)\n",
    "\n",
    "# check model statistics\n",
    "gam_500.summary()"
   ]
  },
  {
   "cell_type": "code",
   "execution_count": 83,
   "id": "29d1f6c2",
   "metadata": {},
   "outputs": [],
   "source": [
    "# convert X_test and y_test to array values\n",
    "#y_test = y_test.iloc[:, 0:1].values\n",
    "X_test = X_test.iloc[:, 0:1].values\n",
    "\n",
    "# make predictions\n",
    "y_pred = gam_500.predict(X_test)"
   ]
  },
  {
   "cell_type": "code",
   "execution_count": 84,
   "id": "caa32aa0",
   "metadata": {},
   "outputs": [
    {
     "data": {
      "image/png": "[encoded data removed]",
      "text/plain": [
       "<Figure size 432x288 with 1 Axes>"
      ]
     },
     "metadata": {
      "needs_background": "light"
     },
     "output_type": "display_data"
    }
   ],
   "source": [
    "# plot output\n",
    "plt.scatter(X_test, y_test, color=\"forestgreen\")\n",
    "plt.plot(X_test, y_pred, color=\"black\", linewidth=2)\n",
    "\n",
    "# set title, xlabel and ylabel\n",
    "plt.title('Generalized Additive Model (GAM) at 500m')\n",
    "plt.xlabel('NDVI_500')\n",
    "plt.ylabel('Canopy%_500')\n",
    "\n",
    "# save the figure\n",
    "plt.savefig('thesis_project/visualizations/modelling/gam_ndvi_canopy_500_plot.png', dpi=300, bbox_inches='tight')\n",
    "\n",
    "plt.show()"
   ]
  },
  {
   "cell_type": "markdown",
   "id": "cc3c8110",
   "metadata": {},
   "source": [
    "### 3.3. How does NDVI predict Grass%?"
   ]
  },
  {
   "cell_type": "markdown",
   "id": "1d2fe1ab",
   "metadata": {},
   "source": [
    "#### 3.3.1. Linear Regression Model"
   ]
  },
  {
   "cell_type": "code",
   "execution_count": 85,
   "id": "e756f28b",
   "metadata": {},
   "outputs": [],
   "source": [
    "# NDVI_500 as the predictor\n",
    "df = pd.DataFrame(gdf_500, columns=['NDVI_500'])\n",
    "\n",
    "# Grass%_500 as the target\n",
    "target = pd.DataFrame(gdf_500, columns=['Grass%_500'])\n",
    "\n",
    "# define X and y\n",
    "X = df\n",
    "y = target['Grass%_500']\n",
    "\n",
    "# split independent and dependent variables into training and test data\n",
    "X_train, X_test, y_train, y_test = train_test_split(X, y, test_size=0.2, random_state=0)\n",
    "\n",
    "# fit the linear model\n",
    "lm_500 = linear_model.LinearRegression()\n",
    "model_500 = lm_500.fit(X_train,y_train)"
   ]
  },
  {
   "cell_type": "code",
   "execution_count": 86,
   "id": "f93145c3",
   "metadata": {},
   "outputs": [
    {
     "name": "stdout",
     "output_type": "stream",
     "text": [
      "Coefficient of NDVI_500 (or slope): [0.49277721]\n",
      "Intercept: -0.047516668609195234\n",
      "R-squared: 0.2848611542118078\n"
     ]
    }
   ],
   "source": [
    "# linear model coefficient, intercept, and R-squared \n",
    "print('Coefficient of NDVI_500 (or slope):', model_500.coef_)\n",
    "print('Intercept:', model_500.intercept_)\n",
    "print('R-squared:', model_500.score(X_train,y_train))"
   ]
  },
  {
   "cell_type": "code",
   "execution_count": 87,
   "id": "deb10023",
   "metadata": {},
   "outputs": [],
   "source": [
    "# make predictions\n",
    "y_pred = model_500.predict(X_test)\n",
    "\n",
    "# compare actual values with predicted ones\n",
    "df = pd.DataFrame({'Actual': y_test, 'Predicted': y_pred})\n",
    "\n",
    "# convert X_test to array values (for later use when plotting)\n",
    "X_test = X_test.iloc[:, 0:1].values"
   ]
  },
  {
   "cell_type": "code",
   "execution_count": 88,
   "id": "b5304923",
   "metadata": {},
   "outputs": [
    {
     "name": "stdout",
     "output_type": "stream",
     "text": [
      "Mean Absolute Error: 0.0897873635354608\n",
      "Mean Squared Error: 0.01647871773066067\n",
      "Root Mean Squared Error: 0.12836945793552557\n"
     ]
    }
   ],
   "source": [
    "# evaluate the model\n",
    "print('Mean Absolute Error:', metrics.mean_absolute_error(y_test, y_pred))\n",
    "print('Mean Squared Error:', metrics.mean_squared_error(y_test, y_pred))\n",
    "print('Root Mean Squared Error:', np.sqrt(metrics.mean_squared_error(y_test, y_pred)))"
   ]
  },
  {
   "cell_type": "code",
   "execution_count": 89,
   "id": "03138efe",
   "metadata": {},
   "outputs": [
    {
     "data": {
      "image/png": "[encoded data removed]",
      "text/plain": [
       "<Figure size 432x288 with 1 Axes>"
      ]
     },
     "metadata": {
      "needs_background": "light"
     },
     "output_type": "display_data"
    }
   ],
   "source": [
    "# plot outputs\n",
    "plt.scatter(X_test, y_test, color=\"forestgreen\")\n",
    "plt.plot(X_test, y_pred, color=\"black\", linewidth=2)\n",
    "\n",
    "plt.xticks(np.arange(0, 1.1, step = 0.2))\n",
    "plt.yticks(np.arange(0, 1.1, step = 0.2))\n",
    "\n",
    "# set title, xlabel and ylabel\n",
    "plt.title('Linear Regression Model at 500m')\n",
    "plt.xlabel('NDVI_500')\n",
    "plt.ylabel('Grass%_500')\n",
    "\n",
    "# save the figure\n",
    "plt.savefig('thesis_project/visualizations/modelling/lm_ndvi_grass_500_plot.png', dpi=300, bbox_inches='tight')\n",
    "\n",
    "plt.show()"
   ]
  },
  {
   "cell_type": "markdown",
   "id": "13cd94fd",
   "metadata": {},
   "source": [
    "#### 3.3.2. Generalized Additive Model (GAM)"
   ]
  },
  {
   "cell_type": "code",
   "execution_count": 90,
   "id": "97522f1d",
   "metadata": {},
   "outputs": [
    {
     "name": "stdout",
     "output_type": "stream",
     "text": [
      "LinearGAM                                                                                                 \n",
      "=============================================== ==========================================================\n",
      "Distribution:                        NormalDist Effective DoF:                                     14.1664\n",
      "Link Function:                     IdentityLink Log Likelihood:                                -61159.0113\n",
      "Number of Samples:                         2304 AIC:                                           122348.3553\n",
      "                                                AICc:                                          122348.5697\n",
      "                                                GCV:                                                0.0169\n",
      "                                                Scale:                                              0.0167\n",
      "                                                Pseudo R-Squared:                                   0.2907\n",
      "==========================================================================================================\n",
      "Feature Function                  Lambda               Rank         EDoF         P > x        Sig. Code   \n",
      "================================= ==================== ============ ============ ============ ============\n",
      "s(0)                              [0.6]                20           14.2         1.11e-16     ***         \n",
      "intercept                                              1            0.0          1.11e-16     ***         \n",
      "==========================================================================================================\n",
      "Significance codes:  0 '***' 0.001 '**' 0.01 '*' 0.05 '.' 0.1 ' ' 1\n",
      "\n",
      "WARNING: Fitting splines and a linear function to a feature introduces a model identifiability problem\n",
      "         which can cause p-values to appear significant when they are not.\n",
      "\n",
      "WARNING: p-values calculated in this manner behave correctly for un-penalized models or models with\n",
      "         known smoothing parameters, but when smoothing parameters have been estimated, the p-values\n",
      "         are typically lower than they should be, meaning that the tests reject the null too readily.\n"
     ]
    },
    {
     "name": "stderr",
     "output_type": "stream",
     "text": [
      "/Applications/anaconda3/envs/ssml/lib/python3.9/site-packages/pygam/pygam.py:752: RuntimeWarning: invalid value encountered in reciprocal\n",
      "  np.fill_diagonal(Dinv, d**-1) # invert the singular values\n",
      "/var/folders/6g/kgz5rml118s6lqw25w5sv5mr0000gn/T/ipykernel_2171/4189625168.py:19: UserWarning: KNOWN BUG: p-values computed in this summary are likely much smaller than they should be. \n",
      " \n",
      "Please do not make inferences based on these values! \n",
      "\n",
      "Collaborate on a solution, and stay up to date at: \n",
      "github.com/dswah/pyGAM/issues/163 \n",
      "\n",
      "  gam_500.summary()\n"
     ]
    }
   ],
   "source": [
    "# data/predictors as the NDVI_500\n",
    "df = pd.DataFrame(gdf_500, columns=['NDVI_500'])\n",
    "\n",
    "# target as Grass%_500\n",
    "target = pd.DataFrame(gdf_500, columns=['Grass%_500'])\n",
    "\n",
    "# define X and Y\n",
    "X = df\n",
    "y = target['Grass%_500']\n",
    "\n",
    "# split independent and dependent variables into training and test data\n",
    "X_train, X_test, y_train, y_test = train_test_split(X, y, test_size=0.2, random_state=0)\n",
    "\n",
    "# fit GAM model\n",
    "#gam_500 = LinearGAM(s(0, n_splines=25)).fit(X_train, y_train, weights=None)\n",
    "gam_500 = LinearGAM(s(0)).fit(X_train, y_train, weights=None)\n",
    "\n",
    "# check model statistics\n",
    "gam_500.summary()"
   ]
  },
  {
   "cell_type": "code",
   "execution_count": 91,
   "id": "eadf419b",
   "metadata": {},
   "outputs": [],
   "source": [
    "# convert X_test and y_test to array values\n",
    "#y_test = y_test.iloc[:, 0:1].values\n",
    "X_test = X_test.iloc[:, 0:1].values\n",
    "\n",
    "# make predictions\n",
    "y_pred = gam_500.predict(X_test)"
   ]
  },
  {
   "cell_type": "code",
   "execution_count": 92,
   "id": "0938bee2",
   "metadata": {},
   "outputs": [
    {
     "data": {
      "image/png": "[encoded data removed]",
      "text/plain": [
       "<Figure size 432x288 with 1 Axes>"
      ]
     },
     "metadata": {
      "needs_background": "light"
     },
     "output_type": "display_data"
    }
   ],
   "source": [
    "# plot output\n",
    "plt.scatter(X_test, y_test, color=\"forestgreen\")\n",
    "plt.plot(X_test, y_pred, color=\"black\", linewidth=2)\n",
    "\n",
    "# set title, xlabel and ylabel\n",
    "plt.title('Generalized Additive Model (GAM) at 500m')\n",
    "plt.xlabel('NDVI_500')\n",
    "plt.ylabel('Grass%_500')\n",
    "\n",
    "# save the figure\n",
    "plt.savefig('thesis_project/visualizations/modelling/gam_ndvi_grass_500_plot.png', dpi=300, bbox_inches='tight')\n",
    "\n",
    "plt.show()"
   ]
  }
 ],
 "metadata": {
  "kernelspec": {
   "display_name": "Python 3 (ipykernel)",
   "language": "python",
   "name": "python3"
  },
  "language_info": {
   "codemirror_mode": {
    "name": "ipython",
    "version": 3
   },
   "file_extension": ".py",
   "mimetype": "text/x-python",
   "name": "python",
   "nbconvert_exporter": "python",
   "pygments_lexer": "ipython3",
   "version": "3.9.10"
  }
 },
 "nbformat": 4,
 "nbformat_minor": 5
}
