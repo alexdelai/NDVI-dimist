{
 "cells": [
  {
   "cell_type": "markdown",
   "id": "9744e7bb",
   "metadata": {},
   "source": [
    "# Modelling Greenspace Metrics"
   ]
  },
  {
   "cell_type": "code",
   "execution_count": 1,
   "id": "febe111d",
   "metadata": {},
   "outputs": [],
   "source": [
    "import numpy as np\n",
    "import pandas as pd\n",
    "import geopandas as gpd\n",
    "import matplotlib.pyplot as plt\n",
    "from pygam import LinearGAM, s\n",
    "from sklearn import linear_model, metrics\n",
    "from sklearn.model_selection import train_test_split\n",
    "from sklearn.metrics import accuracy_score"
   ]
  },
  {
   "cell_type": "code",
   "execution_count": 2,
   "id": "aeed14f2",
   "metadata": {},
   "outputs": [],
   "source": [
    "#! pip install pygam"
   ]
  },
  {
   "cell_type": "markdown",
   "id": "f71bad8c",
   "metadata": {},
   "source": [
    "## 1. Modelling greenspace metrics at 100m"
   ]
  },
  {
   "cell_type": "code",
   "execution_count": 3,
   "id": "8e0e7418",
   "metadata": {},
   "outputs": [
    {
     "data": {
      "text/html": [
       "<div>\n",
       "<style scoped>\n",
       "    .dataframe tbody tr th:only-of-type {\n",
       "        vertical-align: middle;\n",
       "    }\n",
       "\n",
       "    .dataframe tbody tr th {\n",
       "        vertical-align: top;\n",
       "    }\n",
       "\n",
       "    .dataframe thead th {\n",
       "        text-align: right;\n",
       "    }\n",
       "</style>\n",
       "<table border=\"1\" class=\"dataframe\">\n",
       "  <thead>\n",
       "    <tr style=\"text-align: right;\">\n",
       "      <th></th>\n",
       "      <th>NDVI_100</th>\n",
       "      <th>Greenspace%_100</th>\n",
       "      <th>Canopy%_100</th>\n",
       "      <th>geometry</th>\n",
       "    </tr>\n",
       "  </thead>\n",
       "  <tbody>\n",
       "    <tr>\n",
       "      <th>0</th>\n",
       "      <td>0.604345</td>\n",
       "      <td>0.601428</td>\n",
       "      <td>0.188163</td>\n",
       "      <td>POINT (366247.996 408833.065)</td>\n",
       "    </tr>\n",
       "    <tr>\n",
       "      <th>1</th>\n",
       "      <td>0.488456</td>\n",
       "      <td>0.465199</td>\n",
       "      <td>0.479434</td>\n",
       "      <td>POINT (385813.833 395579.780)</td>\n",
       "    </tr>\n",
       "    <tr>\n",
       "      <th>2</th>\n",
       "      <td>0.692624</td>\n",
       "      <td>0.805473</td>\n",
       "      <td>0.205100</td>\n",
       "      <td>POINT (386030.989 413487.405)</td>\n",
       "    </tr>\n",
       "    <tr>\n",
       "      <th>3</th>\n",
       "      <td>0.456658</td>\n",
       "      <td>0.837002</td>\n",
       "      <td>0.114089</td>\n",
       "      <td>POINT (358245.324 404183.111)</td>\n",
       "    </tr>\n",
       "    <tr>\n",
       "      <th>4</th>\n",
       "      <td>0.466913</td>\n",
       "      <td>0.389054</td>\n",
       "      <td>0.269682</td>\n",
       "      <td>POINT (378537.192 392738.452)</td>\n",
       "    </tr>\n",
       "  </tbody>\n",
       "</table>\n",
       "</div>"
      ],
      "text/plain": [
       "   NDVI_100  Greenspace%_100  Canopy%_100                       geometry\n",
       "0  0.604345         0.601428     0.188163  POINT (366247.996 408833.065)\n",
       "1  0.488456         0.465199     0.479434  POINT (385813.833 395579.780)\n",
       "2  0.692624         0.805473     0.205100  POINT (386030.989 413487.405)\n",
       "3  0.456658         0.837002     0.114089  POINT (358245.324 404183.111)\n",
       "4  0.466913         0.389054     0.269682  POINT (378537.192 392738.452)"
      ]
     },
     "execution_count": 3,
     "metadata": {},
     "output_type": "execute_result"
    }
   ],
   "source": [
    "# load greenspace metrics at 100m geodataframe\n",
    "gdf_100 = gpd.read_file(\"thesis_project/output/greenspace_metrics_100_gm.json\")\n",
    "gdf_100.head()"
   ]
  },
  {
   "cell_type": "markdown",
   "id": "31d3b944",
   "metadata": {},
   "source": [
    "### 1.1. How does NDVI predict Greenspace%?"
   ]
  },
  {
   "cell_type": "markdown",
   "id": "d3c17267",
   "metadata": {},
   "source": [
    "#### 1.1.1. Linear Regression Model"
   ]
  },
  {
   "cell_type": "code",
   "execution_count": 55,
   "id": "9cb796cc",
   "metadata": {},
   "outputs": [],
   "source": [
    "# data/predictors as the NDVI_100\n",
    "df_100 = pd.DataFrame(gdf_100, columns=['NDVI_100'])\n",
    "\n",
    "# target as Greenspace%_100\n",
    "target_100 = pd.DataFrame(gdf_100, columns=['Greenspace%_100'])\n",
    "\n",
    "# define X and y\n",
    "X = df_100\n",
    "y = target_100['Greenspace%_100']\n",
    "\n",
    "# split independent and dependent variables into training and test data\n",
    "X_train, X_test, y_train, y_test = train_test_split(X, y, test_size=0.2, random_state=0)\n",
    "\n",
    "# fit the linear model\n",
    "lm_100 = linear_model.LinearRegression()\n",
    "model_100 = lm_100.fit(X_train,y_train)"
   ]
  },
  {
   "cell_type": "code",
   "execution_count": 56,
   "id": "fa240dcd",
   "metadata": {},
   "outputs": [
    {
     "name": "stdout",
     "output_type": "stream",
     "text": [
      "Coefficient of NDVI_100 (or slope): [1.40352637]\n",
      "Intercept: -0.15549657891201918\n",
      "R-squared: 0.6806489209777122\n"
     ]
    }
   ],
   "source": [
    "# linear model coefficient, intercept, and R-squared \n",
    "print('Coefficient of NDVI_100 (or slope):', model_100.coef_)\n",
    "print('Intercept:', model_100.intercept_)\n",
    "print('R-squared:', model_100.score(X_train,y_train))"
   ]
  },
  {
   "cell_type": "code",
   "execution_count": 57,
   "id": "37942ee2",
   "metadata": {},
   "outputs": [],
   "source": [
    "# make predictions\n",
    "y_pred = model_100.predict(X_test)\n",
    "\n",
    "# compare actual values with predicted ones\n",
    "df_pred = pd.DataFrame({'Actual': y_test, 'Predicted': y_pred})\n",
    "\n",
    "# convert X_test to array values\n",
    "X_test = X_test.iloc[:, 0:1].values"
   ]
  },
  {
   "cell_type": "code",
   "execution_count": 58,
   "id": "44b1c3f9",
   "metadata": {},
   "outputs": [
    {
     "name": "stdout",
     "output_type": "stream",
     "text": [
      "Mean Absolute Error: 0.10836987631358297\n",
      "Mean Squared Error: 0.023276392656485897\n",
      "Root Mean Squared Error: 0.15256602720293236\n"
     ]
    }
   ],
   "source": [
    "# evaluate the model\n",
    "print('Mean Absolute Error:', metrics.mean_absolute_error(y_test, y_pred))\n",
    "print('Mean Squared Error:', metrics.mean_squared_error(y_test, y_pred))\n",
    "print('Root Mean Squared Error:', np.sqrt(metrics.mean_squared_error(y_test, y_pred)))"
   ]
  },
  {
   "cell_type": "code",
   "execution_count": 59,
   "id": "7f64f022",
   "metadata": {},
   "outputs": [
    {
     "data": {
      "image/png": "[encoded data removed]",
      "text/plain": [
       "<Figure size 432x288 with 1 Axes>"
      ]
     },
     "metadata": {
      "needs_background": "light"
     },
     "output_type": "display_data"
    }
   ],
   "source": [
    "# plot outputs\n",
    "plt.scatter(X_test, y_test, color=\"forestgreen\")\n",
    "plt.plot(X_test, y_pred, color=\"black\", linewidth=2)\n",
    "\n",
    "plt.xticks(np.arange(0, 1.1, step = 0.2))\n",
    "plt.yticks(np.arange(0, 1.1, step = 0.2))\n",
    "\n",
    "# set title, xlabel and ylabel\n",
    "plt.title('Linear Regression Model at 100m')\n",
    "plt.xlabel('NDVI_100')\n",
    "plt.ylabel('Greenspace%_100')\n",
    "\n",
    "# save the figure\n",
    "plt.savefig('thesis_project/visualizations/modelling/lm_ndvi_green_100_plot.png', dpi=300, bbox_inches='tight')\n",
    "\n",
    "plt.show()"
   ]
  },
  {
   "cell_type": "code",
   "execution_count": 64,
   "id": "c8ac4de1",
   "metadata": {},
   "outputs": [
    {
     "name": "stdout",
     "output_type": "stream",
     "text": [
      "[0.26556133]\n"
     ]
    },
    {
     "name": "stderr",
     "output_type": "stream",
     "text": [
      "/Applications/anaconda3/envs/ssml/lib/python3.9/site-packages/sklearn/base.py:450: UserWarning: X does not have valid feature names, but LinearRegression was fitted with feature names\n",
      "  warnings.warn(\n",
      "/Applications/anaconda3/envs/ssml/lib/python3.9/site-packages/sklearn/base.py:450: UserWarning: X does not have valid feature names, but LinearRegression was fitted with feature names\n",
      "  warnings.warn(\n"
     ]
    }
   ],
   "source": [
    "# predict Greenspace%_100 values for NDVI equalt to 0.3\n",
    "X_t_0 = [[0.3]]\n",
    "y_t_0 = model_100.predict(X_t_0)\n",
    "print(model_100.predict(X_t_0))"
   ]
  },
  {
   "cell_type": "code",
   "execution_count": 65,
   "id": "5d2ac1bf",
   "metadata": {},
   "outputs": [
    {
     "name": "stdout",
     "output_type": "stream",
     "text": [
      "[0.40591397]\n"
     ]
    },
    {
     "name": "stderr",
     "output_type": "stream",
     "text": [
      "/Applications/anaconda3/envs/ssml/lib/python3.9/site-packages/sklearn/base.py:450: UserWarning: X does not have valid feature names, but LinearRegression was fitted with feature names\n",
      "  warnings.warn(\n",
      "/Applications/anaconda3/envs/ssml/lib/python3.9/site-packages/sklearn/base.py:450: UserWarning: X does not have valid feature names, but LinearRegression was fitted with feature names\n",
      "  warnings.warn(\n"
     ]
    }
   ],
   "source": [
    "# predict Greenspace%_100 values for NDVI equalt to 0.4\n",
    "X_t_1 = [[0.4]]\n",
    "y_t_1 = model_100.predict(X_t_1)\n",
    "print(model_100.predict(X_t_1))"
   ]
  },
  {
   "cell_type": "code",
   "execution_count": 70,
   "id": "0978a743",
   "metadata": {},
   "outputs": [
    {
     "name": "stdout",
     "output_type": "stream",
     "text": [
      "If NDVI goes from 0.3 to 0.4, Greenspace%_100 increases by: [0.14035264]\n"
     ]
    }
   ],
   "source": [
    "# how does Greenspace%_100 increase if NDVI goes from 0.3 to 0.4?\n",
    "#print('Greenspace%_100 increase if NDVI goes from 0.3 to 0.4:', y_t_1 - y_t_0)\n",
    "print('If NDVI goes from 0.3 to 0.4, Greenspace%_100 increases by:', y_t_1 - y_t_0)"
   ]
  },
  {
   "cell_type": "markdown",
   "id": "8adc5b16",
   "metadata": {},
   "source": [
    "#### 1.1.2. Generalized Additive Model (GAM)"
   ]
  },
  {
   "cell_type": "code",
   "execution_count": 9,
   "id": "c412fbe9",
   "metadata": {},
   "outputs": [
    {
     "name": "stdout",
     "output_type": "stream",
     "text": [
      "LinearGAM                                                                                                 \n",
      "=============================================== ==========================================================\n",
      "Distribution:                        NormalDist Effective DoF:                                     14.6836\n",
      "Link Function:                     IdentityLink Log Likelihood:                                -91244.4771\n",
      "Number of Samples:                         4702 AIC:                                           182520.3214\n",
      "                                                AICc:                                          182520.4331\n",
      "                                                GCV:                                                0.0225\n",
      "                                                Scale:                                              0.0224\n",
      "                                                Pseudo R-Squared:                                   0.7088\n",
      "==========================================================================================================\n",
      "Feature Function                  Lambda               Rank         EDoF         P > x        Sig. Code   \n",
      "================================= ==================== ============ ============ ============ ============\n",
      "s(0)                              [0.6]                20           14.7         1.11e-16     ***         \n",
      "intercept                                              1            0.0          1.11e-16     ***         \n",
      "==========================================================================================================\n",
      "Significance codes:  0 '***' 0.001 '**' 0.01 '*' 0.05 '.' 0.1 ' ' 1\n",
      "\n",
      "WARNING: Fitting splines and a linear function to a feature introduces a model identifiability problem\n",
      "         which can cause p-values to appear significant when they are not.\n",
      "\n",
      "WARNING: p-values calculated in this manner behave correctly for un-penalized models or models with\n",
      "         known smoothing parameters, but when smoothing parameters have been estimated, the p-values\n",
      "         are typically lower than they should be, meaning that the tests reject the null too readily.\n"
     ]
    },
    {
     "name": "stderr",
     "output_type": "stream",
     "text": [
      "/Applications/anaconda3/envs/ssml/lib/python3.9/site-packages/pygam/pygam.py:752: RuntimeWarning: invalid value encountered in reciprocal\n",
      "  np.fill_diagonal(Dinv, d**-1) # invert the singular values\n",
      "/var/folders/6g/kgz5rml118s6lqw25w5sv5mr0000gn/T/ipykernel_3446/198064715.py:19: UserWarning: KNOWN BUG: p-values computed in this summary are likely much smaller than they should be. \n",
      " \n",
      "Please do not make inferences based on these values! \n",
      "\n",
      "Collaborate on a solution, and stay up to date at: \n",
      "github.com/dswah/pyGAM/issues/163 \n",
      "\n",
      "  gam_100.summary()\n"
     ]
    }
   ],
   "source": [
    "# data/predictors as the NDVI_100\n",
    "df_100 = pd.DataFrame(gdf_100, columns=['NDVI_100'])\n",
    "\n",
    "# target as Greenspace%_100\n",
    "target_100 = pd.DataFrame(gdf_100, columns=['Greenspace%_100'])\n",
    "\n",
    "# define X and Y\n",
    "X = df_100\n",
    "y = target_100['Greenspace%_100']\n",
    "\n",
    "# split independent and dependent variables into training and test data\n",
    "X_train, X_test, y_train, y_test = train_test_split(X, y, test_size=0.2, random_state=0)\n",
    "\n",
    "# fit GAM model\n",
    "#gam_100 = LinearGAM(s(0, n_splines=25)).fit(X_train, y_train, weights=None)\n",
    "gam_100 = LinearGAM(s(0)).fit(X_train, y_train, weights=None)\n",
    "\n",
    "# check model statistics\n",
    "gam_100.summary()"
   ]
  },
  {
   "cell_type": "code",
   "execution_count": 10,
   "id": "af3c477f",
   "metadata": {},
   "outputs": [],
   "source": [
    "# plot outpus\n",
    "#XX = gam_100.generate_X_grid(term=0)\n",
    "#plt.rcParams['figure.figsize'] = (8, 8)\n",
    "#fig, axs = plt.subplots(1, 1)\n",
    "#titles = ['Generalized Additive Model (GAM) at 100m']\n",
    "#pdep, confi = gam_100.partial_dependence(XX, term=0, features = 1, width=0.95)\n",
    "#ax.plot(XX[:, 1], pdep)\n",
    "#ax.plot(XX[:, 1], confi[0][:, 0], c='grey', ls='--')\n",
    "#ax.plot(XX[:, 1], confi[0][:, 1], c='grey', ls='--')\n",
    "#ax.set_title(titles, fontsize=26)\n",
    "#plt.show()"
   ]
  },
  {
   "cell_type": "code",
   "execution_count": 11,
   "id": "003dd29f",
   "metadata": {},
   "outputs": [],
   "source": [
    "# convert X_test and y_test to array values\n",
    "#y_test = y_test.iloc[:, 0:1].values\n",
    "X_test = X_test.iloc[:, 0:1].values\n",
    "\n",
    "# make predictions\n",
    "y_pred = gam_100.predict(X_test)"
   ]
  },
  {
   "cell_type": "code",
   "execution_count": 12,
   "id": "41f13b0d",
   "metadata": {},
   "outputs": [
    {
     "data": {
      "image/png": "[encoded data removed]",
      "text/plain": [
       "<Figure size 432x288 with 1 Axes>"
      ]
     },
     "metadata": {
      "needs_background": "light"
     },
     "output_type": "display_data"
    }
   ],
   "source": [
    "# plot output\n",
    "plt.scatter(X_test, y_test, color=\"forestgreen\")\n",
    "plt.plot(X_test, y_pred, color=\"black\", linewidth=2)\n",
    "\n",
    "# set title, xlabel and ylabel\n",
    "plt.title('Generalized Additive Model (GAM) at 100m')\n",
    "plt.xlabel('NDVI_100')\n",
    "plt.ylabel('Greenspace%_100')\n",
    "\n",
    "# save the figure\n",
    "plt.savefig('thesis_project/visualizations/modelling/gam_ndvi_green_100_plot.png', dpi=300, bbox_inches='tight')\n",
    "\n",
    "plt.show()"
   ]
  },
  {
   "cell_type": "markdown",
   "id": "64957dae",
   "metadata": {},
   "source": [
    "### 1.2. How does NDVI predict Canopy%?"
   ]
  },
  {
   "cell_type": "markdown",
   "id": "f48afbf1",
   "metadata": {},
   "source": [
    "#### 1.2.1. Linear Regression Model"
   ]
  },
  {
   "cell_type": "code",
   "execution_count": 13,
   "id": "9fa2e121",
   "metadata": {},
   "outputs": [],
   "source": [
    "# NDVI_100 as the predictor\n",
    "df = pd.DataFrame(gdf_100, columns=['NDVI_100'])\n",
    "\n",
    "# Canopy%_100 as the target\n",
    "target = pd.DataFrame(gdf_100, columns=['Canopy%_100'])\n",
    "\n",
    "# define X and y\n",
    "X = df\n",
    "y = target['Canopy%_100']\n",
    "\n",
    "# split independent and dependent variables into training and test data\n",
    "X_train, X_test, y_train, y_test = train_test_split(X, y, test_size=0.2, random_state=0)\n",
    "\n",
    "# fit the linear model\n",
    "lm_100 = linear_model.LinearRegression()\n",
    "model_100 = lm_100.fit(X_train,y_train)"
   ]
  },
  {
   "cell_type": "code",
   "execution_count": 14,
   "id": "26f572c9",
   "metadata": {},
   "outputs": [
    {
     "name": "stdout",
     "output_type": "stream",
     "text": [
      "Coefficient of NDVI_100 (or slope): [-0.00423051]\n",
      "Intercept: 0.1809361967159148\n",
      "R-squared: 2.01803862752703e-05\n"
     ]
    }
   ],
   "source": [
    "# linear model coefficient, intercept, and R-squared \n",
    "print('Coefficient of NDVI_100 (or slope):', model_100.coef_)\n",
    "print('Intercept:', model_100.intercept_)\n",
    "print('R-squared:', model_100.score(X_train,y_train))"
   ]
  },
  {
   "cell_type": "code",
   "execution_count": 15,
   "id": "5600bf08",
   "metadata": {},
   "outputs": [],
   "source": [
    "# make predictions\n",
    "y_pred = model_100.predict(X_test)\n",
    "\n",
    "# compare actual values with predicted ones\n",
    "df = pd.DataFrame({'Actual': y_test, 'Predicted': y_pred})\n",
    "\n",
    "# convert X_test to array values (for later use when plotting)\n",
    "X_test = X_test.iloc[:, 0:1].values"
   ]
  },
  {
   "cell_type": "code",
   "execution_count": 16,
   "id": "eb906add",
   "metadata": {},
   "outputs": [
    {
     "name": "stdout",
     "output_type": "stream",
     "text": [
      "Mean Absolute Error: 0.11901758336671131\n",
      "Mean Squared Error: 0.022477426490116144\n",
      "Root Mean Squared Error: 0.14992473608486406\n"
     ]
    }
   ],
   "source": [
    "# evaluate the model\n",
    "print('Mean Absolute Error:', metrics.mean_absolute_error(y_test, y_pred))\n",
    "print('Mean Squared Error:', metrics.mean_squared_error(y_test, y_pred))\n",
    "print('Root Mean Squared Error:', np.sqrt(metrics.mean_squared_error(y_test, y_pred)))"
   ]
  },
  {
   "cell_type": "code",
   "execution_count": 17,
   "id": "4fc58060",
   "metadata": {},
   "outputs": [
    {
     "data": {
      "image/png": "[encoded data removed]",
      "text/plain": [
       "<Figure size 432x288 with 1 Axes>"
      ]
     },
     "metadata": {
      "needs_background": "light"
     },
     "output_type": "display_data"
    }
   ],
   "source": [
    "# plot outputs\n",
    "plt.scatter(X_test, y_test, color=\"forestgreen\")\n",
    "plt.plot(X_test, y_pred, color=\"black\", linewidth=2)\n",
    "\n",
    "plt.xticks(np.arange(0, 1.1, step = 0.2))\n",
    "plt.yticks(np.arange(0, 1.1, step = 0.2))\n",
    "\n",
    "# set title, xlabel and ylabel\n",
    "plt.title('Linear Regression Model at 100m')\n",
    "plt.xlabel('NDVI_100')\n",
    "plt.ylabel('Canopy%_100')\n",
    "\n",
    "# save the figure\n",
    "plt.savefig('thesis_project/visualizations/modelling/lm_ndvi_canopy_100_plot.png', dpi=300, bbox_inches='tight')\n",
    "\n",
    "plt.show()"
   ]
  },
  {
   "cell_type": "markdown",
   "id": "a744ad4d",
   "metadata": {},
   "source": [
    "#### 1.2.2. Generalized Additive Model (GAM)"
   ]
  },
  {
   "cell_type": "code",
   "execution_count": 18,
   "id": "286105ae",
   "metadata": {},
   "outputs": [
    {
     "name": "stdout",
     "output_type": "stream",
     "text": [
      "LinearGAM                                                                                                 \n",
      "=============================================== ==========================================================\n",
      "Distribution:                        NormalDist Effective DoF:                                     14.6836\n",
      "Link Function:                     IdentityLink Log Likelihood:                                -94317.7117\n",
      "Number of Samples:                         4702 AIC:                                           188666.7905\n",
      "                                                AICc:                                          188666.9022\n",
      "                                                GCV:                                                0.0218\n",
      "                                                Scale:                                              0.0217\n",
      "                                                Pseudo R-Squared:                                   0.0781\n",
      "==========================================================================================================\n",
      "Feature Function                  Lambda               Rank         EDoF         P > x        Sig. Code   \n",
      "================================= ==================== ============ ============ ============ ============\n",
      "s(0)                              [0.6]                20           14.7         1.11e-16     ***         \n",
      "intercept                                              1            0.0          6.91e-07     ***         \n",
      "==========================================================================================================\n",
      "Significance codes:  0 '***' 0.001 '**' 0.01 '*' 0.05 '.' 0.1 ' ' 1\n",
      "\n",
      "WARNING: Fitting splines and a linear function to a feature introduces a model identifiability problem\n",
      "         which can cause p-values to appear significant when they are not.\n",
      "\n",
      "WARNING: p-values calculated in this manner behave correctly for un-penalized models or models with\n",
      "         known smoothing parameters, but when smoothing parameters have been estimated, the p-values\n",
      "         are typically lower than they should be, meaning that the tests reject the null too readily.\n"
     ]
    },
    {
     "name": "stderr",
     "output_type": "stream",
     "text": [
      "/Applications/anaconda3/envs/ssml/lib/python3.9/site-packages/pygam/pygam.py:752: RuntimeWarning: invalid value encountered in reciprocal\n",
      "  np.fill_diagonal(Dinv, d**-1) # invert the singular values\n",
      "/var/folders/6g/kgz5rml118s6lqw25w5sv5mr0000gn/T/ipykernel_3446/881848350.py:19: UserWarning: KNOWN BUG: p-values computed in this summary are likely much smaller than they should be. \n",
      " \n",
      "Please do not make inferences based on these values! \n",
      "\n",
      "Collaborate on a solution, and stay up to date at: \n",
      "github.com/dswah/pyGAM/issues/163 \n",
      "\n",
      "  gam_100.summary()\n"
     ]
    }
   ],
   "source": [
    "# data/predictors as the NDVI_100\n",
    "df = pd.DataFrame(gdf_100, columns=['NDVI_100'])\n",
    "\n",
    "# target as Canopy%_100\n",
    "target = pd.DataFrame(gdf_100, columns=['Canopy%_100'])\n",
    "\n",
    "# define X and Y\n",
    "X = df\n",
    "y = target['Canopy%_100']\n",
    "\n",
    "# split independent and dependent variables into training and test data\n",
    "X_train, X_test, y_train, y_test = train_test_split(X, y, test_size=0.2, random_state=0)\n",
    "\n",
    "# fit GAM model\n",
    "#gam_100 = LinearGAM(s(0, n_splines=25)).fit(X_train, y_train, weights=None)\n",
    "gam_100 = LinearGAM(s(0)).fit(X_train, y_train, weights=None)\n",
    "\n",
    "# check model statistics\n",
    "gam_100.summary()"
   ]
  },
  {
   "cell_type": "code",
   "execution_count": 19,
   "id": "53c1b136",
   "metadata": {},
   "outputs": [],
   "source": [
    "# convert X_test and y_test to array values\n",
    "#y_test = y_test.iloc[:, 0:1].values\n",
    "X_test = X_test.iloc[:, 0:1].values\n",
    "\n",
    "# make predictions\n",
    "y_pred = gam_100.predict(X_test)"
   ]
  },
  {
   "cell_type": "code",
   "execution_count": 20,
   "id": "1450c824",
   "metadata": {},
   "outputs": [
    {
     "data": {
      "image/png": "[encoded data removed]",
      "text/plain": [
       "<Figure size 432x288 with 1 Axes>"
      ]
     },
     "metadata": {
      "needs_background": "light"
     },
     "output_type": "display_data"
    }
   ],
   "source": [
    "# plot output\n",
    "plt.scatter(X_test, y_test, color=\"forestgreen\")\n",
    "plt.plot(X_test, y_pred, color=\"black\", linewidth=2)\n",
    "\n",
    "# set title, xlabel and ylabel\n",
    "plt.title('Generalized Additive Model (GAM) at 100m')\n",
    "plt.xlabel('NDVI_100')\n",
    "plt.ylabel('Canopy%_100')\n",
    "\n",
    "# save the figure\n",
    "plt.savefig('thesis_project/visualizations/modelling/gam_ndvi_canopy_100_plot.png', dpi=300, bbox_inches='tight')\n",
    "\n",
    "plt.show()"
   ]
  },
  {
   "cell_type": "markdown",
   "id": "03cbb8de",
   "metadata": {},
   "source": [
    "## 2. Modelling greenspace metrics at 300m"
   ]
  },
  {
   "cell_type": "code",
   "execution_count": 21,
   "id": "9c3cb9a5",
   "metadata": {},
   "outputs": [
    {
     "data": {
      "text/html": [
       "<div>\n",
       "<style scoped>\n",
       "    .dataframe tbody tr th:only-of-type {\n",
       "        vertical-align: middle;\n",
       "    }\n",
       "\n",
       "    .dataframe tbody tr th {\n",
       "        vertical-align: top;\n",
       "    }\n",
       "\n",
       "    .dataframe thead th {\n",
       "        text-align: right;\n",
       "    }\n",
       "</style>\n",
       "<table border=\"1\" class=\"dataframe\">\n",
       "  <thead>\n",
       "    <tr style=\"text-align: right;\">\n",
       "      <th></th>\n",
       "      <th>NDVI_300</th>\n",
       "      <th>Greenspace%_300</th>\n",
       "      <th>Canopy%_300</th>\n",
       "      <th>geometry</th>\n",
       "    </tr>\n",
       "  </thead>\n",
       "  <tbody>\n",
       "    <tr>\n",
       "      <th>0</th>\n",
       "      <td>0.485173</td>\n",
       "      <td>0.528844</td>\n",
       "      <td>0.442425</td>\n",
       "      <td>POINT (384713.357 394255.209)</td>\n",
       "    </tr>\n",
       "    <tr>\n",
       "      <th>1</th>\n",
       "      <td>0.285426</td>\n",
       "      <td>0.293025</td>\n",
       "      <td>0.247789</td>\n",
       "      <td>POINT (387034.589 396075.398)</td>\n",
       "    </tr>\n",
       "    <tr>\n",
       "      <th>2</th>\n",
       "      <td>0.462789</td>\n",
       "      <td>0.462798</td>\n",
       "      <td>0.464153</td>\n",
       "      <td>POINT (395300.134 404726.178)</td>\n",
       "    </tr>\n",
       "    <tr>\n",
       "      <th>3</th>\n",
       "      <td>0.594440</td>\n",
       "      <td>0.987531</td>\n",
       "      <td>0.225635</td>\n",
       "      <td>POINT (369879.786 397440.240)</td>\n",
       "    </tr>\n",
       "    <tr>\n",
       "      <th>4</th>\n",
       "      <td>0.584577</td>\n",
       "      <td>0.532749</td>\n",
       "      <td>0.220658</td>\n",
       "      <td>POINT (356385.617 406274.434)</td>\n",
       "    </tr>\n",
       "  </tbody>\n",
       "</table>\n",
       "</div>"
      ],
      "text/plain": [
       "   NDVI_300  Greenspace%_300  Canopy%_300                       geometry\n",
       "0  0.485173         0.528844     0.442425  POINT (384713.357 394255.209)\n",
       "1  0.285426         0.293025     0.247789  POINT (387034.589 396075.398)\n",
       "2  0.462789         0.462798     0.464153  POINT (395300.134 404726.178)\n",
       "3  0.594440         0.987531     0.225635  POINT (369879.786 397440.240)\n",
       "4  0.584577         0.532749     0.220658  POINT (356385.617 406274.434)"
      ]
     },
     "execution_count": 21,
     "metadata": {},
     "output_type": "execute_result"
    }
   ],
   "source": [
    "# load greenspace metrics at 300m geodataframe\n",
    "gdf_300 = gpd.read_file(\"thesis_project/output/greenspace_metrics_300_gm.json\")\n",
    "gdf_300.head()"
   ]
  },
  {
   "cell_type": "markdown",
   "id": "dca75cc3",
   "metadata": {},
   "source": [
    "### 2.1. How does NDVI predict Greenspace%?"
   ]
  },
  {
   "cell_type": "markdown",
   "id": "aab12fca",
   "metadata": {},
   "source": [
    "#### 2.1.1. Linear Regression Model"
   ]
  },
  {
   "cell_type": "code",
   "execution_count": 22,
   "id": "da5b09d9",
   "metadata": {},
   "outputs": [],
   "source": [
    "# NDVI_300 as the predictor\n",
    "df = pd.DataFrame(gdf_300, columns=['NDVI_300'])\n",
    "\n",
    "# Greenspace%_300 as the target\n",
    "target = pd.DataFrame(gdf_300, columns=['Greenspace%_300'])\n",
    "\n",
    "# define X and y\n",
    "X = df\n",
    "y = target['Greenspace%_300']\n",
    "\n",
    "# split independent and dependent variables into training and test data\n",
    "X_train, X_test, y_train, y_test = train_test_split(X, y, test_size=0.2, random_state=0)\n",
    "\n",
    "# fit the linear model\n",
    "lm_300 = linear_model.LinearRegression()\n",
    "model_300 = lm_300.fit(X_train,y_train)"
   ]
  },
  {
   "cell_type": "code",
   "execution_count": 23,
   "id": "e107da9d",
   "metadata": {},
   "outputs": [
    {
     "name": "stdout",
     "output_type": "stream",
     "text": [
      "Coefficient of NDVI_300 (or slope): [1.1359718]\n",
      "Intercept: 0.02219447548085196\n",
      "R-squared: 0.6921249306453257\n"
     ]
    }
   ],
   "source": [
    "# linear model coefficient, intercept, and R-squared \n",
    "print('Coefficient of NDVI_300 (or slope):', model_300.coef_)\n",
    "print('Intercept:', model_300.intercept_)\n",
    "print('R-squared:', model_300.score(X_train,y_train))"
   ]
  },
  {
   "cell_type": "code",
   "execution_count": 24,
   "id": "47847c6d",
   "metadata": {},
   "outputs": [],
   "source": [
    "# make predictions\n",
    "y_pred = model_300.predict(X_test)\n",
    "\n",
    "# compare actual values with predicted ones\n",
    "df = pd.DataFrame({'Actual': y_test, 'Predicted': y_pred})\n",
    "\n",
    "# convert X_test to array values (for later use when plotting)\n",
    "X_test = X_test.iloc[:, 0:1].values"
   ]
  },
  {
   "cell_type": "code",
   "execution_count": 25,
   "id": "b4e6a5f8",
   "metadata": {},
   "outputs": [
    {
     "name": "stdout",
     "output_type": "stream",
     "text": [
      "Mean Absolute Error: 0.08934573648402441\n",
      "Mean Squared Error: 0.01610827472555938\n",
      "Root Mean Squared Error: 0.1269183782025258\n"
     ]
    }
   ],
   "source": [
    "# evaluate the model\n",
    "print('Mean Absolute Error:', metrics.mean_absolute_error(y_test, y_pred))\n",
    "print('Mean Squared Error:', metrics.mean_squared_error(y_test, y_pred))\n",
    "print('Root Mean Squared Error:', np.sqrt(metrics.mean_squared_error(y_test, y_pred)))"
   ]
  },
  {
   "cell_type": "code",
   "execution_count": 26,
   "id": "877e7f7d",
   "metadata": {},
   "outputs": [
    {
     "data": {
      "image/png": "[encoded data removed]",
      "text/plain": [
       "<Figure size 432x288 with 1 Axes>"
      ]
     },
     "metadata": {
      "needs_background": "light"
     },
     "output_type": "display_data"
    }
   ],
   "source": [
    "# plot outputs\n",
    "plt.scatter(X_test, y_test, color=\"forestgreen\")\n",
    "plt.plot(X_test, y_pred, color=\"black\", linewidth=2)\n",
    "\n",
    "plt.xticks(np.arange(0, 1.1, step = 0.2))\n",
    "plt.yticks(np.arange(0, 1.1, step = 0.2))\n",
    "\n",
    "# set title, xlabel and ylabel\n",
    "plt.title('Linear Regression Model at 300m')\n",
    "plt.xlabel('NDVI_300')\n",
    "plt.ylabel('Greenspace%_300')\n",
    "\n",
    "# save the figure\n",
    "plt.savefig('thesis_project/visualizations/modelling/lm_ndvi_green_300_plot.png', dpi=300, bbox_inches='tight')\n",
    "\n",
    "plt.show()"
   ]
  },
  {
   "cell_type": "markdown",
   "id": "37e41c36",
   "metadata": {},
   "source": [
    "#### 2.1.2. Generalized Additive Model (GAM)"
   ]
  },
  {
   "cell_type": "code",
   "execution_count": 27,
   "id": "cbfa9efe",
   "metadata": {},
   "outputs": [
    {
     "name": "stdout",
     "output_type": "stream",
     "text": [
      "LinearGAM                                                                                                 \n",
      "=============================================== ==========================================================\n",
      "Distribution:                        NormalDist Effective DoF:                                     15.2801\n",
      "Link Function:                     IdentityLink Log Likelihood:                               -134374.2796\n",
      "Number of Samples:                         4624 AIC:                                           268781.1194\n",
      "                                                AICc:                                          268781.2415\n",
      "                                                GCV:                                                0.0155\n",
      "                                                Scale:                                              0.0154\n",
      "                                                Pseudo R-Squared:                                   0.7175\n",
      "==========================================================================================================\n",
      "Feature Function                  Lambda               Rank         EDoF         P > x        Sig. Code   \n",
      "================================= ==================== ============ ============ ============ ============\n",
      "s(0)                              [0.6]                20           15.3         1.11e-16     ***         \n",
      "intercept                                              1            0.0          1.11e-16     ***         \n",
      "==========================================================================================================\n",
      "Significance codes:  0 '***' 0.001 '**' 0.01 '*' 0.05 '.' 0.1 ' ' 1\n",
      "\n",
      "WARNING: Fitting splines and a linear function to a feature introduces a model identifiability problem\n",
      "         which can cause p-values to appear significant when they are not.\n",
      "\n",
      "WARNING: p-values calculated in this manner behave correctly for un-penalized models or models with\n",
      "         known smoothing parameters, but when smoothing parameters have been estimated, the p-values\n",
      "         are typically lower than they should be, meaning that the tests reject the null too readily.\n"
     ]
    },
    {
     "name": "stderr",
     "output_type": "stream",
     "text": [
      "/Applications/anaconda3/envs/ssml/lib/python3.9/site-packages/pygam/pygam.py:752: RuntimeWarning: invalid value encountered in reciprocal\n",
      "  np.fill_diagonal(Dinv, d**-1) # invert the singular values\n",
      "/var/folders/6g/kgz5rml118s6lqw25w5sv5mr0000gn/T/ipykernel_3446/847380652.py:19: UserWarning: KNOWN BUG: p-values computed in this summary are likely much smaller than they should be. \n",
      " \n",
      "Please do not make inferences based on these values! \n",
      "\n",
      "Collaborate on a solution, and stay up to date at: \n",
      "github.com/dswah/pyGAM/issues/163 \n",
      "\n",
      "  gam_300.summary()\n"
     ]
    }
   ],
   "source": [
    "# data/predictors as the NDVI_300\n",
    "df_300 = pd.DataFrame(gdf_300, columns=['NDVI_300'])\n",
    "\n",
    "# target as Greenspace%_300\n",
    "target_300 = pd.DataFrame(gdf_300, columns=['Greenspace%_300'])\n",
    "\n",
    "# define X and Y\n",
    "X = df_300\n",
    "y = target_300['Greenspace%_300']\n",
    "\n",
    "# split independent and dependent variables into training and test data\n",
    "X_train, X_test, y_train, y_test = train_test_split(X, y, test_size=0.2, random_state=0)\n",
    "\n",
    "# fit GAM model\n",
    "#gam_300 = LinearGAM(s(0, n_splines=25)).fit(X_train, y_train, weights=None)\n",
    "gam_300 = LinearGAM(s(0)).fit(X_train, y_train, weights=None)\n",
    "\n",
    "# check model statistics\n",
    "gam_300.summary()"
   ]
  },
  {
   "cell_type": "code",
   "execution_count": 28,
   "id": "c74aaa63",
   "metadata": {},
   "outputs": [],
   "source": [
    "# convert X_test and y_test to array values\n",
    "#y_test = y_test.iloc[:, 0:1].values\n",
    "X_test = X_test.iloc[:, 0:1].values\n",
    "\n",
    "# make predictions\n",
    "y_pred = gam_300.predict(X_test)"
   ]
  },
  {
   "cell_type": "code",
   "execution_count": 29,
   "id": "83ea6769",
   "metadata": {},
   "outputs": [
    {
     "data": {
      "image/png": "[encoded data removed]",
      "text/plain": [
       "<Figure size 432x288 with 1 Axes>"
      ]
     },
     "metadata": {
      "needs_background": "light"
     },
     "output_type": "display_data"
    }
   ],
   "source": [
    "# plot output\n",
    "plt.scatter(X_test, y_test, color=\"forestgreen\")\n",
    "plt.plot(X_test, y_pred, color=\"black\", linewidth=2)\n",
    "\n",
    "# set title, xlabel and ylabel\n",
    "plt.title('Generalized Additive Model (GAM) at 300m')\n",
    "plt.xlabel('NDVI_300')\n",
    "plt.ylabel('Greenspace%_300')\n",
    "\n",
    "# save the figure\n",
    "plt.savefig('thesis_project/visualizations/modelling/gam_ndvi_green_300_plot.png', dpi=300, bbox_inches='tight')\n",
    "\n",
    "plt.show()"
   ]
  },
  {
   "cell_type": "markdown",
   "id": "e67454de",
   "metadata": {},
   "source": [
    "### 2.2. How does NDVI predict Canopy%?"
   ]
  },
  {
   "cell_type": "markdown",
   "id": "577d9f7b",
   "metadata": {},
   "source": [
    "#### 2.2.1. Linear Regression Model"
   ]
  },
  {
   "cell_type": "code",
   "execution_count": 30,
   "id": "682863c4",
   "metadata": {},
   "outputs": [],
   "source": [
    "# NDVI_300 as the predictor\n",
    "df = pd.DataFrame(gdf_300, columns=['NDVI_300'])\n",
    "\n",
    "# Canopy%_300 as the target\n",
    "target = pd.DataFrame(gdf_300, columns=['Canopy%_300'])\n",
    "\n",
    "# define X and y\n",
    "X = df\n",
    "y = target['Canopy%_300']\n",
    "\n",
    "# split independent and dependent variables into training and test data\n",
    "X_train, X_test, y_train, y_test = train_test_split(X, y, test_size=0.2, random_state=0)\n",
    "\n",
    "# fit the linear model\n",
    "lm_300 = linear_model.LinearRegression()\n",
    "model_300 = lm_300.fit(X_train,y_train)"
   ]
  },
  {
   "cell_type": "code",
   "execution_count": 31,
   "id": "d69045d7",
   "metadata": {},
   "outputs": [
    {
     "name": "stdout",
     "output_type": "stream",
     "text": [
      "Coefficient of NDVI_300 (or slope): [-0.08080014]\n",
      "Intercept: 0.2886264074760401\n",
      "R-squared: 0.007596799374733454\n"
     ]
    }
   ],
   "source": [
    "# linear model coefficient, intercept, and R-squared \n",
    "print('Coefficient of NDVI_300 (or slope):', model_300.coef_)\n",
    "print('Intercept:', model_300.intercept_)\n",
    "print('R-squared:', model_300.score(X_train,y_train))"
   ]
  },
  {
   "cell_type": "code",
   "execution_count": 32,
   "id": "bb587435",
   "metadata": {},
   "outputs": [],
   "source": [
    "# make predictions\n",
    "y_pred = model_300.predict(X_test)\n",
    "\n",
    "# compare actual values with predicted ones\n",
    "df = pd.DataFrame({'Actual': y_test, 'Predicted': y_pred})\n",
    "\n",
    "# convert X_test to array values (for later use when plotting)\n",
    "X_test = X_test.iloc[:, 0:1].values"
   ]
  },
  {
   "cell_type": "code",
   "execution_count": 33,
   "id": "9ff76b67",
   "metadata": {},
   "outputs": [
    {
     "name": "stdout",
     "output_type": "stream",
     "text": [
      "Mean Absolute Error: 0.12067054159879056\n",
      "Mean Squared Error: 0.025458426372861536\n",
      "Root Mean Squared Error: 0.1595569690513753\n"
     ]
    }
   ],
   "source": [
    "# evaluate the model\n",
    "print('Mean Absolute Error:', metrics.mean_absolute_error(y_test, y_pred))\n",
    "print('Mean Squared Error:', metrics.mean_squared_error(y_test, y_pred))\n",
    "print('Root Mean Squared Error:', np.sqrt(metrics.mean_squared_error(y_test, y_pred)))"
   ]
  },
  {
   "cell_type": "code",
   "execution_count": 34,
   "id": "89cd606b",
   "metadata": {},
   "outputs": [
    {
     "data": {
      "image/png": "[encoded data removed]",
      "text/plain": [
       "<Figure size 432x288 with 1 Axes>"
      ]
     },
     "metadata": {
      "needs_background": "light"
     },
     "output_type": "display_data"
    }
   ],
   "source": [
    "# plot outputs\n",
    "plt.scatter(X_test, y_test, color=\"forestgreen\")\n",
    "plt.plot(X_test, y_pred, color=\"black\", linewidth=2)\n",
    "\n",
    "plt.xticks(np.arange(0, 1.1, step = 0.2))\n",
    "plt.yticks(np.arange(0, 1.1, step = 0.2))\n",
    "\n",
    "# set title, xlabel and ylabel\n",
    "plt.title('Linear Regression Model at 300m')\n",
    "plt.xlabel('NDVI_300')\n",
    "plt.ylabel('Canopy%_300')\n",
    "\n",
    "# save the figure\n",
    "plt.savefig('thesis_project/visualizations/modelling/lm_ndvi_canopy_300_plot.png', dpi=300, bbox_inches='tight')\n",
    "\n",
    "plt.show()"
   ]
  },
  {
   "cell_type": "markdown",
   "id": "53bb4a4c",
   "metadata": {},
   "source": [
    "#### 2.2.2. Generalized Additive Model (GAM)"
   ]
  },
  {
   "cell_type": "code",
   "execution_count": 35,
   "id": "341cba93",
   "metadata": {},
   "outputs": [
    {
     "name": "stdout",
     "output_type": "stream",
     "text": [
      "LinearGAM                                                                                                 \n",
      "=============================================== ==========================================================\n",
      "Distribution:                        NormalDist Effective DoF:                                     15.2801\n",
      "Link Function:                     IdentityLink Log Likelihood:                                -85309.1359\n",
      "Number of Samples:                         4624 AIC:                                           170650.8319\n",
      "                                                AICc:                                          170650.9541\n",
      "                                                GCV:                                                0.0236\n",
      "                                                Scale:                                              0.0234\n",
      "                                                Pseudo R-Squared:                                   0.0697\n",
      "==========================================================================================================\n",
      "Feature Function                  Lambda               Rank         EDoF         P > x        Sig. Code   \n",
      "================================= ==================== ============ ============ ============ ============\n",
      "s(0)                              [0.6]                20           15.3         1.11e-16     ***         \n",
      "intercept                                              1            0.0          1.11e-16     ***         \n",
      "==========================================================================================================\n",
      "Significance codes:  0 '***' 0.001 '**' 0.01 '*' 0.05 '.' 0.1 ' ' 1\n",
      "\n",
      "WARNING: Fitting splines and a linear function to a feature introduces a model identifiability problem\n",
      "         which can cause p-values to appear significant when they are not.\n",
      "\n",
      "WARNING: p-values calculated in this manner behave correctly for un-penalized models or models with\n",
      "         known smoothing parameters, but when smoothing parameters have been estimated, the p-values\n",
      "         are typically lower than they should be, meaning that the tests reject the null too readily.\n"
     ]
    },
    {
     "name": "stderr",
     "output_type": "stream",
     "text": [
      "/Applications/anaconda3/envs/ssml/lib/python3.9/site-packages/pygam/pygam.py:752: RuntimeWarning: invalid value encountered in reciprocal\n",
      "  np.fill_diagonal(Dinv, d**-1) # invert the singular values\n",
      "/var/folders/6g/kgz5rml118s6lqw25w5sv5mr0000gn/T/ipykernel_3446/407199068.py:19: UserWarning: KNOWN BUG: p-values computed in this summary are likely much smaller than they should be. \n",
      " \n",
      "Please do not make inferences based on these values! \n",
      "\n",
      "Collaborate on a solution, and stay up to date at: \n",
      "github.com/dswah/pyGAM/issues/163 \n",
      "\n",
      "  gam_300.summary()\n"
     ]
    }
   ],
   "source": [
    "# data/predictors as the NDVI_300\n",
    "df_300 = pd.DataFrame(gdf_300, columns=['NDVI_300'])\n",
    "\n",
    "# target as Greenspace%_300\n",
    "target_300 = pd.DataFrame(gdf_300, columns=['Canopy%_300'])\n",
    "\n",
    "# define X and Y\n",
    "X = df_300\n",
    "y = target_300['Canopy%_300']\n",
    "\n",
    "# split independent and dependent variables into training and test data\n",
    "X_train, X_test, y_train, y_test = train_test_split(X, y, test_size=0.2, random_state=0)\n",
    "\n",
    "# fit GAM model\n",
    "#gam_300 = LinearGAM(s(0, n_splines=25)).fit(X_train, y_train, weights=None)\n",
    "gam_300 = LinearGAM(s(0)).fit(X_train, y_train, weights=None)\n",
    "\n",
    "# check model statistics\n",
    "gam_300.summary()"
   ]
  },
  {
   "cell_type": "code",
   "execution_count": 36,
   "id": "9629085f",
   "metadata": {},
   "outputs": [],
   "source": [
    "# convert X_test and y_test to array values\n",
    "#y_test = y_test.iloc[:, 0:1].values\n",
    "X_test = X_test.iloc[:, 0:1].values\n",
    "\n",
    "# make predictions\n",
    "y_pred = gam_300.predict(X_test)"
   ]
  },
  {
   "cell_type": "code",
   "execution_count": 37,
   "id": "570d8daf",
   "metadata": {},
   "outputs": [
    {
     "data": {
      "image/png": "[encoded data removed]",
      "text/plain": [
       "<Figure size 432x288 with 1 Axes>"
      ]
     },
     "metadata": {
      "needs_background": "light"
     },
     "output_type": "display_data"
    }
   ],
   "source": [
    "# plot output\n",
    "plt.scatter(X_test, y_test, color=\"forestgreen\")\n",
    "plt.plot(X_test, y_pred, color=\"black\", linewidth=2)\n",
    "\n",
    "# set title, xlabel and ylabel\n",
    "plt.title('Generalized Additive Model (GAM) at 300m')\n",
    "plt.xlabel('NDVI_300')\n",
    "plt.ylabel('Canopy%_300')\n",
    "\n",
    "# save the figure\n",
    "plt.savefig('thesis_project/visualizations/modelling/gam_ndvi_canopy_300_plot.png', dpi=300, bbox_inches='tight')\n",
    "\n",
    "plt.show()"
   ]
  },
  {
   "cell_type": "markdown",
   "id": "88172e61",
   "metadata": {},
   "source": [
    "## 3. Modelling greenspace metrics at 500m"
   ]
  },
  {
   "cell_type": "code",
   "execution_count": 38,
   "id": "ceffa1f6",
   "metadata": {},
   "outputs": [
    {
     "data": {
      "text/html": [
       "<div>\n",
       "<style scoped>\n",
       "    .dataframe tbody tr th:only-of-type {\n",
       "        vertical-align: middle;\n",
       "    }\n",
       "\n",
       "    .dataframe tbody tr th {\n",
       "        vertical-align: top;\n",
       "    }\n",
       "\n",
       "    .dataframe thead th {\n",
       "        text-align: right;\n",
       "    }\n",
       "</style>\n",
       "<table border=\"1\" class=\"dataframe\">\n",
       "  <thead>\n",
       "    <tr style=\"text-align: right;\">\n",
       "      <th></th>\n",
       "      <th>NDVI_500</th>\n",
       "      <th>Greenspace%_500</th>\n",
       "      <th>Canopy%_500</th>\n",
       "      <th>geometry</th>\n",
       "    </tr>\n",
       "  </thead>\n",
       "  <tbody>\n",
       "    <tr>\n",
       "      <th>0</th>\n",
       "      <td>0.502140</td>\n",
       "      <td>0.485566</td>\n",
       "      <td>0.339339</td>\n",
       "      <td>POINT (372673.972 394848.116)</td>\n",
       "    </tr>\n",
       "    <tr>\n",
       "      <th>1</th>\n",
       "      <td>0.634665</td>\n",
       "      <td>0.641850</td>\n",
       "      <td>0.181328</td>\n",
       "      <td>POINT (383073.527 408838.647)</td>\n",
       "    </tr>\n",
       "    <tr>\n",
       "      <th>2</th>\n",
       "      <td>0.606910</td>\n",
       "      <td>0.969945</td>\n",
       "      <td>0.164166</td>\n",
       "      <td>POINT (372549.883 390299.040)</td>\n",
       "    </tr>\n",
       "    <tr>\n",
       "      <th>3</th>\n",
       "      <td>0.719913</td>\n",
       "      <td>0.824603</td>\n",
       "      <td>0.294875</td>\n",
       "      <td>POINT (372644.583 414079.514)</td>\n",
       "    </tr>\n",
       "    <tr>\n",
       "      <th>4</th>\n",
       "      <td>0.710023</td>\n",
       "      <td>0.980069</td>\n",
       "      <td>0.031487</td>\n",
       "      <td>POINT (369449.827 413462.285)</td>\n",
       "    </tr>\n",
       "  </tbody>\n",
       "</table>\n",
       "</div>"
      ],
      "text/plain": [
       "   NDVI_500  Greenspace%_500  Canopy%_500                       geometry\n",
       "0  0.502140         0.485566     0.339339  POINT (372673.972 394848.116)\n",
       "1  0.634665         0.641850     0.181328  POINT (383073.527 408838.647)\n",
       "2  0.606910         0.969945     0.164166  POINT (372549.883 390299.040)\n",
       "3  0.719913         0.824603     0.294875  POINT (372644.583 414079.514)\n",
       "4  0.710023         0.980069     0.031487  POINT (369449.827 413462.285)"
      ]
     },
     "execution_count": 38,
     "metadata": {},
     "output_type": "execute_result"
    }
   ],
   "source": [
    "# load greenspace metrics at 500m geodataframe\n",
    "gdf_500 = gpd.read_file(\"thesis_project/output/greenspace_metrics_500_gm.json\")\n",
    "gdf_500.head()"
   ]
  },
  {
   "cell_type": "markdown",
   "id": "549ec560",
   "metadata": {},
   "source": [
    "### 3.1. How does NDVI predict Greenspace%?"
   ]
  },
  {
   "cell_type": "markdown",
   "id": "7c01aa84",
   "metadata": {},
   "source": [
    "#### 3.1.1. Linear Regression Model"
   ]
  },
  {
   "cell_type": "code",
   "execution_count": 39,
   "id": "6c60ff79",
   "metadata": {},
   "outputs": [],
   "source": [
    "# NDVI_500 as the predictor\n",
    "df = pd.DataFrame(gdf_500, columns=['NDVI_500'])\n",
    "\n",
    "# Greenspace%_300 as the target\n",
    "target = pd.DataFrame(gdf_500, columns=['Greenspace%_500'])\n",
    "\n",
    "# define X and y\n",
    "X = df\n",
    "y = target['Greenspace%_500']\n",
    "\n",
    "# split independent and dependent variables into training and test data\n",
    "X_train, X_test, y_train, y_test = train_test_split(X, y, test_size=0.2, random_state=0)\n",
    "\n",
    "# fit the linear model\n",
    "lm_500 = linear_model.LinearRegression()\n",
    "model_500 = lm_500.fit(X_train,y_train)"
   ]
  },
  {
   "cell_type": "code",
   "execution_count": 40,
   "id": "2b91c3e2",
   "metadata": {},
   "outputs": [
    {
     "name": "stdout",
     "output_type": "stream",
     "text": [
      "Coefficient of NDVI_500 (or slope): [1.10297259]\n",
      "Intercept: 0.016788191733490554\n",
      "R-squared: 0.6732817510651916\n"
     ]
    }
   ],
   "source": [
    "# linear model coefficient, intercept, and R-squared \n",
    "print('Coefficient of NDVI_500 (or slope):', model_500.coef_)\n",
    "print('Intercept:', model_500.intercept_)\n",
    "print('R-squared:', model_500.score(X_train,y_train))"
   ]
  },
  {
   "cell_type": "code",
   "execution_count": 41,
   "id": "701024de",
   "metadata": {},
   "outputs": [],
   "source": [
    "# make predictions\n",
    "y_pred = model_500.predict(X_test)\n",
    "\n",
    "# compare actual values with predicted ones\n",
    "df = pd.DataFrame({'Actual': y_test, 'Predicted': y_pred})\n",
    "\n",
    "# convert X_test to array values (for later use when plotting)\n",
    "X_test = X_test.iloc[:, 0:1].values"
   ]
  },
  {
   "cell_type": "code",
   "execution_count": 42,
   "id": "62264d5d",
   "metadata": {},
   "outputs": [
    {
     "name": "stdout",
     "output_type": "stream",
     "text": [
      "Mean Absolute Error: 0.08462592877548988\n",
      "Mean Squared Error: 0.015352208136519737\n",
      "Root Mean Squared Error: 0.12390402792693923\n"
     ]
    }
   ],
   "source": [
    "# evaluate the model\n",
    "print('Mean Absolute Error:', metrics.mean_absolute_error(y_test, y_pred))\n",
    "print('Mean Squared Error:', metrics.mean_squared_error(y_test, y_pred))\n",
    "print('Root Mean Squared Error:', np.sqrt(metrics.mean_squared_error(y_test, y_pred)))"
   ]
  },
  {
   "cell_type": "code",
   "execution_count": 43,
   "id": "473a258e",
   "metadata": {},
   "outputs": [
    {
     "data": {
      "image/png": "[encoded data removed]",
      "text/plain": [
       "<Figure size 432x288 with 1 Axes>"
      ]
     },
     "metadata": {
      "needs_background": "light"
     },
     "output_type": "display_data"
    }
   ],
   "source": [
    "# plot outputs\n",
    "plt.scatter(X_test, y_test, color=\"forestgreen\")\n",
    "plt.plot(X_test, y_pred, color=\"black\", linewidth=2)\n",
    "\n",
    "plt.xticks(np.arange(0, 1.1, step = 0.2))\n",
    "plt.yticks(np.arange(0, 1.1, step = 0.2))\n",
    "\n",
    "# set title, xlabel and ylabel\n",
    "plt.title('Linear Regression Model at 500m')\n",
    "plt.xlabel('NDVI_500')\n",
    "plt.ylabel('Greenspace%_500')\n",
    "\n",
    "# save the figure\n",
    "plt.savefig('thesis_project/visualizations/modelling/lm_ndvi_green_500_plot.png', dpi=300, bbox_inches='tight')\n",
    "\n",
    "plt.show()"
   ]
  },
  {
   "cell_type": "markdown",
   "id": "fff49c08",
   "metadata": {},
   "source": [
    "#### 3.1.2. Generalized Additive Model (GAM)"
   ]
  },
  {
   "cell_type": "code",
   "execution_count": 44,
   "id": "0206b05a",
   "metadata": {},
   "outputs": [
    {
     "name": "stdout",
     "output_type": "stream",
     "text": [
      "LinearGAM                                                                                                 \n",
      "=============================================== ==========================================================\n",
      "Distribution:                        NormalDist Effective DoF:                                     14.1664\n",
      "Link Function:                     IdentityLink Log Likelihood:                                -68119.7645\n",
      "Number of Samples:                         2304 AIC:                                           136269.8617\n",
      "                                                AICc:                                          136270.0761\n",
      "                                                GCV:                                                0.0153\n",
      "                                                Scale:                                              0.0151\n",
      "                                                Pseudo R-Squared:                                   0.6972\n",
      "==========================================================================================================\n",
      "Feature Function                  Lambda               Rank         EDoF         P > x        Sig. Code   \n",
      "================================= ==================== ============ ============ ============ ============\n",
      "s(0)                              [0.6]                20           14.2         1.11e-16     ***         \n",
      "intercept                                              1            0.0          1.11e-16     ***         \n",
      "==========================================================================================================\n",
      "Significance codes:  0 '***' 0.001 '**' 0.01 '*' 0.05 '.' 0.1 ' ' 1\n",
      "\n",
      "WARNING: Fitting splines and a linear function to a feature introduces a model identifiability problem\n",
      "         which can cause p-values to appear significant when they are not.\n",
      "\n",
      "WARNING: p-values calculated in this manner behave correctly for un-penalized models or models with\n",
      "         known smoothing parameters, but when smoothing parameters have been estimated, the p-values\n",
      "         are typically lower than they should be, meaning that the tests reject the null too readily.\n"
     ]
    },
    {
     "name": "stderr",
     "output_type": "stream",
     "text": [
      "/Applications/anaconda3/envs/ssml/lib/python3.9/site-packages/pygam/pygam.py:752: RuntimeWarning: invalid value encountered in reciprocal\n",
      "  np.fill_diagonal(Dinv, d**-1) # invert the singular values\n",
      "/var/folders/6g/kgz5rml118s6lqw25w5sv5mr0000gn/T/ipykernel_3446/2741797941.py:19: UserWarning: KNOWN BUG: p-values computed in this summary are likely much smaller than they should be. \n",
      " \n",
      "Please do not make inferences based on these values! \n",
      "\n",
      "Collaborate on a solution, and stay up to date at: \n",
      "github.com/dswah/pyGAM/issues/163 \n",
      "\n",
      "  gam_500.summary()\n"
     ]
    }
   ],
   "source": [
    "# data/predictors as the NDVI_500\n",
    "df = pd.DataFrame(gdf_500, columns=['NDVI_500'])\n",
    "\n",
    "# target as Greenspace%_500\n",
    "target = pd.DataFrame(gdf_500, columns=['Greenspace%_500'])\n",
    "\n",
    "# define X and Y\n",
    "X = df\n",
    "y = target['Greenspace%_500']\n",
    "\n",
    "# split independent and dependent variables into training and test data\n",
    "X_train, X_test, y_train, y_test = train_test_split(X, y, test_size=0.2, random_state=0)\n",
    "\n",
    "# fit GAM model\n",
    "#gam_500 = LinearGAM(s(0, n_splines=25)).fit(X_train, y_train, weights=None)\n",
    "gam_500 = LinearGAM(s(0)).fit(X_train, y_train, weights=None)\n",
    "\n",
    "# check model statistics\n",
    "gam_500.summary()"
   ]
  },
  {
   "cell_type": "code",
   "execution_count": 45,
   "id": "ff1371a2",
   "metadata": {},
   "outputs": [],
   "source": [
    "# convert X_test and y_test to array values\n",
    "#y_test = y_test.iloc[:, 0:1].values\n",
    "X_test = X_test.iloc[:, 0:1].values\n",
    "\n",
    "# make predictions\n",
    "y_pred = gam_500.predict(X_test)"
   ]
  },
  {
   "cell_type": "code",
   "execution_count": 46,
   "id": "a967bac0",
   "metadata": {},
   "outputs": [
    {
     "data": {
      "image/png": "[encoded data removed]",
      "text/plain": [
       "<Figure size 432x288 with 1 Axes>"
      ]
     },
     "metadata": {
      "needs_background": "light"
     },
     "output_type": "display_data"
    }
   ],
   "source": [
    "# plot output\n",
    "plt.scatter(X_test, y_test, color=\"forestgreen\")\n",
    "plt.plot(X_test, y_pred, color=\"black\", linewidth=2)\n",
    "\n",
    "# set title, xlabel and ylabel\n",
    "plt.title('Generalized Additive Model (GAM) at 500m')\n",
    "plt.xlabel('NDVI_500')\n",
    "plt.ylabel('Greenspace%_500')\n",
    "\n",
    "# save the figure\n",
    "plt.savefig('thesis_project/visualizations/modelling/gam_ndvi_green_500_plot.png', dpi=300, bbox_inches='tight')\n",
    "\n",
    "plt.show()"
   ]
  },
  {
   "cell_type": "markdown",
   "id": "065a30e4",
   "metadata": {},
   "source": [
    "### 3.2. How does NDVI predict Canopy%?"
   ]
  },
  {
   "cell_type": "markdown",
   "id": "84c26ee1",
   "metadata": {},
   "source": [
    "#### 3.2.1. Linear Regression Model"
   ]
  },
  {
   "cell_type": "code",
   "execution_count": 47,
   "id": "217040cf",
   "metadata": {},
   "outputs": [],
   "source": [
    "# NDVI_500 as the predictor\n",
    "df = pd.DataFrame(gdf_500, columns=['NDVI_500'])\n",
    "\n",
    "# Greenspace%_300 as the target\n",
    "target = pd.DataFrame(gdf_500, columns=['Canopy%_500'])\n",
    "\n",
    "# define X and y\n",
    "X = df\n",
    "y = target['Canopy%_500']\n",
    "\n",
    "# split independent and dependent variables into training and test data\n",
    "X_train, X_test, y_train, y_test = train_test_split(X, y, test_size=0.2, random_state=0)\n",
    "\n",
    "# fit the linear model\n",
    "lm_500 = linear_model.LinearRegression()\n",
    "model_500 = lm_500.fit(X_train,y_train)"
   ]
  },
  {
   "cell_type": "code",
   "execution_count": 48,
   "id": "cb7b8523",
   "metadata": {},
   "outputs": [
    {
     "name": "stdout",
     "output_type": "stream",
     "text": [
      "Coefficient of NDVI_500 (or slope): [-0.124209]\n",
      "Intercept: 0.3495300528153746\n",
      "R-squared: 0.015580297735448112\n"
     ]
    }
   ],
   "source": [
    "# linear model coefficient, intercept, and R-squared \n",
    "print('Coefficient of NDVI_500 (or slope):', model_500.coef_)\n",
    "print('Intercept:', model_500.intercept_)\n",
    "print('R-squared:', model_500.score(X_train,y_train))"
   ]
  },
  {
   "cell_type": "code",
   "execution_count": 49,
   "id": "bfefc7c0",
   "metadata": {},
   "outputs": [],
   "source": [
    "# make predictions\n",
    "y_pred = model_500.predict(X_test)\n",
    "\n",
    "# compare actual values with predicted ones\n",
    "df = pd.DataFrame({'Actual': y_test, 'Predicted': y_pred})\n",
    "\n",
    "# convert X_test to array values (for later use when plotting)\n",
    "X_test = X_test.iloc[:, 0:1].values"
   ]
  },
  {
   "cell_type": "code",
   "execution_count": 50,
   "id": "7806a4c8",
   "metadata": {},
   "outputs": [
    {
     "name": "stdout",
     "output_type": "stream",
     "text": [
      "Mean Absolute Error: 0.12753937170726817\n",
      "Mean Squared Error: 0.02723193709975635\n",
      "Root Mean Squared Error: 0.16502102017548054\n"
     ]
    }
   ],
   "source": [
    "# evaluate the model\n",
    "print('Mean Absolute Error:', metrics.mean_absolute_error(y_test, y_pred))\n",
    "print('Mean Squared Error:', metrics.mean_squared_error(y_test, y_pred))\n",
    "print('Root Mean Squared Error:', np.sqrt(metrics.mean_squared_error(y_test, y_pred)))"
   ]
  },
  {
   "cell_type": "code",
   "execution_count": 51,
   "id": "8c78ea0e",
   "metadata": {},
   "outputs": [
    {
     "data": {
      "image/png": "[encoded data removed]",
      "text/plain": [
       "<Figure size 432x288 with 1 Axes>"
      ]
     },
     "metadata": {
      "needs_background": "light"
     },
     "output_type": "display_data"
    }
   ],
   "source": [
    "# plot outputs\n",
    "plt.scatter(X_test, y_test, color=\"forestgreen\")\n",
    "plt.plot(X_test, y_pred, color=\"black\", linewidth=2)\n",
    "\n",
    "plt.xticks(np.arange(0, 1.1, step = 0.2))\n",
    "plt.yticks(np.arange(0, 1.1, step = 0.2))\n",
    "\n",
    "# set title, xlabel and ylabel\n",
    "plt.title('Linear Regression Model at 500m')\n",
    "plt.xlabel('NDVI_500')\n",
    "plt.ylabel('Canopy%_500')\n",
    "\n",
    "# save the figure\n",
    "plt.savefig('thesis_project/visualizations/modelling/lm_ndvi_canopy_500_plot.png', dpi=300, bbox_inches='tight')\n",
    "\n",
    "plt.show()"
   ]
  },
  {
   "cell_type": "markdown",
   "id": "af65997c",
   "metadata": {},
   "source": [
    "#### 3.2.2. Generalized Additive Model (GAM)"
   ]
  },
  {
   "cell_type": "code",
   "execution_count": 52,
   "id": "3fbe198d",
   "metadata": {},
   "outputs": [
    {
     "name": "stdout",
     "output_type": "stream",
     "text": [
      "LinearGAM                                                                                                 \n",
      "=============================================== ==========================================================\n",
      "Distribution:                        NormalDist Effective DoF:                                     14.1664\n",
      "Link Function:                     IdentityLink Log Likelihood:                                -37870.1711\n",
      "Number of Samples:                         2304 AIC:                                            75770.6749\n",
      "                                                AICc:                                           75770.8893\n",
      "                                                GCV:                                                0.0262\n",
      "                                                Scale:                                              0.0259\n",
      "                                                Pseudo R-Squared:                                   0.0535\n",
      "==========================================================================================================\n",
      "Feature Function                  Lambda               Rank         EDoF         P > x        Sig. Code   \n",
      "================================= ==================== ============ ============ ============ ============\n",
      "s(0)                              [0.6]                20           14.2         1.11e-16     ***         \n",
      "intercept                                              1            0.0          1.11e-16     ***         \n",
      "==========================================================================================================\n",
      "Significance codes:  0 '***' 0.001 '**' 0.01 '*' 0.05 '.' 0.1 ' ' 1\n",
      "\n",
      "WARNING: Fitting splines and a linear function to a feature introduces a model identifiability problem\n",
      "         which can cause p-values to appear significant when they are not.\n",
      "\n",
      "WARNING: p-values calculated in this manner behave correctly for un-penalized models or models with\n",
      "         known smoothing parameters, but when smoothing parameters have been estimated, the p-values\n",
      "         are typically lower than they should be, meaning that the tests reject the null too readily.\n"
     ]
    },
    {
     "name": "stderr",
     "output_type": "stream",
     "text": [
      "/Applications/anaconda3/envs/ssml/lib/python3.9/site-packages/pygam/pygam.py:752: RuntimeWarning: invalid value encountered in reciprocal\n",
      "  np.fill_diagonal(Dinv, d**-1) # invert the singular values\n",
      "/var/folders/6g/kgz5rml118s6lqw25w5sv5mr0000gn/T/ipykernel_3446/1293848242.py:19: UserWarning: KNOWN BUG: p-values computed in this summary are likely much smaller than they should be. \n",
      " \n",
      "Please do not make inferences based on these values! \n",
      "\n",
      "Collaborate on a solution, and stay up to date at: \n",
      "github.com/dswah/pyGAM/issues/163 \n",
      "\n",
      "  gam_500.summary()\n"
     ]
    }
   ],
   "source": [
    "# data/predictors as the NDVI_500\n",
    "df = pd.DataFrame(gdf_500, columns=['NDVI_500'])\n",
    "\n",
    "# target as Canopy%_500\n",
    "target = pd.DataFrame(gdf_500, columns=['Canopy%_500'])\n",
    "\n",
    "# define X and Y\n",
    "X = df\n",
    "y = target['Canopy%_500']\n",
    "\n",
    "# split independent and dependent variables into training and test data\n",
    "X_train, X_test, y_train, y_test = train_test_split(X, y, test_size=0.2, random_state=0)\n",
    "\n",
    "# fit GAM model\n",
    "#gam_500 = LinearGAM(s(0, n_splines=25)).fit(X_train, y_train, weights=None)\n",
    "gam_500 = LinearGAM(s(0)).fit(X_train, y_train, weights=None)\n",
    "\n",
    "# check model statistics\n",
    "gam_500.summary()"
   ]
  },
  {
   "cell_type": "code",
   "execution_count": 53,
   "id": "e2133e17",
   "metadata": {},
   "outputs": [],
   "source": [
    "# convert X_test and y_test to array values\n",
    "#y_test = y_test.iloc[:, 0:1].values\n",
    "X_test = X_test.iloc[:, 0:1].values\n",
    "\n",
    "# make predictions\n",
    "y_pred = gam_500.predict(X_test)"
   ]
  },
  {
   "cell_type": "code",
   "execution_count": 54,
   "id": "8558bff0",
   "metadata": {},
   "outputs": [
    {
     "data": {
      "image/png": "[encoded data removed]",
      "text/plain": [
       "<Figure size 432x288 with 1 Axes>"
      ]
     },
     "metadata": {
      "needs_background": "light"
     },
     "output_type": "display_data"
    }
   ],
   "source": [
    "# plot output\n",
    "plt.scatter(X_test, y_test, color=\"forestgreen\")\n",
    "plt.plot(X_test, y_pred, color=\"black\", linewidth=2)\n",
    "\n",
    "# set title, xlabel and ylabel\n",
    "plt.title('Generalized Additive Model (GAM) at 500m')\n",
    "plt.xlabel('NDVI_500')\n",
    "plt.ylabel('Canopy%_500')\n",
    "\n",
    "# save the figure\n",
    "plt.savefig('thesis_project/visualizations/modelling/gam_ndvi_canopy_500_plot.png', dpi=300, bbox_inches='tight')\n",
    "\n",
    "plt.show()"
   ]
  }
 ],
 "metadata": {
  "kernelspec": {
   "display_name": "Python 3 (ipykernel)",
   "language": "python",
   "name": "python3"
  },
  "language_info": {
   "codemirror_mode": {
    "name": "ipython",
    "version": 3
   },
   "file_extension": ".py",
   "mimetype": "text/x-python",
   "name": "python",
   "nbconvert_exporter": "python",
   "pygments_lexer": "ipython3",
   "version": "3.9.10"
  }
 },
 "nbformat": 4,
 "nbformat_minor": 5
}
