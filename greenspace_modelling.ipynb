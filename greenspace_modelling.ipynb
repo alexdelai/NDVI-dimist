{
 "cells": [
  {
   "cell_type": "markdown",
   "id": "9744e7bb",
   "metadata": {},
   "source": [
    "# Modelling Greenspace Metrics"
   ]
  },
  {
   "cell_type": "code",
   "execution_count": 1,
   "id": "febe111d",
   "metadata": {},
   "outputs": [],
   "source": [
    "import numpy as np\n",
    "import pandas as pd\n",
    "import geopandas as gpd\n",
    "import matplotlib.pyplot as plt\n",
    "from pygam import LinearGAM, s\n",
    "from sklearn import linear_model, metrics\n",
    "from sklearn.model_selection import train_test_split\n",
    "from sklearn.metrics import accuracy_score"
   ]
  },
  {
   "cell_type": "code",
   "execution_count": 2,
   "id": "aeed14f2",
   "metadata": {},
   "outputs": [],
   "source": [
    "#! pip install pygam"
   ]
  },
  {
   "cell_type": "markdown",
   "id": "78e823d9",
   "metadata": {},
   "source": [
    "## 1. Modelling Greenspace Metrics at 100m"
   ]
  },
  {
   "cell_type": "code",
   "execution_count": 3,
   "id": "8e0e7418",
   "metadata": {},
   "outputs": [
    {
     "data": {
      "text/html": [
       "<div>\n",
       "<style scoped>\n",
       "    .dataframe tbody tr th:only-of-type {\n",
       "        vertical-align: middle;\n",
       "    }\n",
       "\n",
       "    .dataframe tbody tr th {\n",
       "        vertical-align: top;\n",
       "    }\n",
       "\n",
       "    .dataframe thead th {\n",
       "        text-align: right;\n",
       "    }\n",
       "</style>\n",
       "<table border=\"1\" class=\"dataframe\">\n",
       "  <thead>\n",
       "    <tr style=\"text-align: right;\">\n",
       "      <th></th>\n",
       "      <th>NDVI_100</th>\n",
       "      <th>Greenspace%_100</th>\n",
       "      <th>Canopy%_100</th>\n",
       "      <th>geometry</th>\n",
       "    </tr>\n",
       "  </thead>\n",
       "  <tbody>\n",
       "    <tr>\n",
       "      <th>0</th>\n",
       "      <td>0.604345</td>\n",
       "      <td>0.601428</td>\n",
       "      <td>0.188163</td>\n",
       "      <td>POINT (366247.996 408833.065)</td>\n",
       "    </tr>\n",
       "    <tr>\n",
       "      <th>1</th>\n",
       "      <td>0.488456</td>\n",
       "      <td>0.465199</td>\n",
       "      <td>0.479434</td>\n",
       "      <td>POINT (385813.833 395579.780)</td>\n",
       "    </tr>\n",
       "    <tr>\n",
       "      <th>2</th>\n",
       "      <td>0.692624</td>\n",
       "      <td>0.805473</td>\n",
       "      <td>0.205100</td>\n",
       "      <td>POINT (386030.989 413487.405)</td>\n",
       "    </tr>\n",
       "    <tr>\n",
       "      <th>3</th>\n",
       "      <td>0.456658</td>\n",
       "      <td>0.837002</td>\n",
       "      <td>0.114089</td>\n",
       "      <td>POINT (358245.324 404183.111)</td>\n",
       "    </tr>\n",
       "    <tr>\n",
       "      <th>4</th>\n",
       "      <td>0.466913</td>\n",
       "      <td>0.389054</td>\n",
       "      <td>0.269682</td>\n",
       "      <td>POINT (378537.192 392738.452)</td>\n",
       "    </tr>\n",
       "  </tbody>\n",
       "</table>\n",
       "</div>"
      ],
      "text/plain": [
       "   NDVI_100  Greenspace%_100  Canopy%_100                       geometry\n",
       "0  0.604345         0.601428     0.188163  POINT (366247.996 408833.065)\n",
       "1  0.488456         0.465199     0.479434  POINT (385813.833 395579.780)\n",
       "2  0.692624         0.805473     0.205100  POINT (386030.989 413487.405)\n",
       "3  0.456658         0.837002     0.114089  POINT (358245.324 404183.111)\n",
       "4  0.466913         0.389054     0.269682  POINT (378537.192 392738.452)"
      ]
     },
     "execution_count": 3,
     "metadata": {},
     "output_type": "execute_result"
    }
   ],
   "source": [
    "# load greenspace metrics at 100m geodataframe\n",
    "gdf_100 = gpd.read_file(\"thesis_project/output/greenspace_metrics_100_gm.json\")\n",
    "gdf_100.head()"
   ]
  },
  {
   "cell_type": "markdown",
   "id": "be48c117",
   "metadata": {},
   "source": [
    "### 1.1. Linear Regression Model"
   ]
  },
  {
   "cell_type": "code",
   "execution_count": 4,
   "id": "cc9ca496",
   "metadata": {},
   "outputs": [],
   "source": [
    "# define the data/predictors as the NDVI_100\n",
    "df_100 = pd.DataFrame(gdf_100, columns=['NDVI_100'])\n",
    "\n",
    "# Put the target Greenspace%_100 in another DataFrame\n",
    "target_100 = pd.DataFrame(gdf_100, columns=['Greenspace%_100'])"
   ]
  },
  {
   "cell_type": "code",
   "execution_count": 5,
   "id": "93ca1d04",
   "metadata": {},
   "outputs": [],
   "source": [
    "# define X and y\n",
    "X = df_100\n",
    "y = target_100['Greenspace%_100']\n",
    "\n",
    "# split independent and dependent variables into training and test data\n",
    "X_train, X_test, y_train, y_test = train_test_split(X, y, test_size=0.2, random_state=0)\n",
    "\n",
    "# fit the linear model\n",
    "lm_100 = linear_model.LinearRegression()\n",
    "model_100 = lm_100.fit(X_train,y_train)"
   ]
  },
  {
   "cell_type": "code",
   "execution_count": 6,
   "id": "50c2f7b7",
   "metadata": {},
   "outputs": [
    {
     "name": "stdout",
     "output_type": "stream",
     "text": [
      "Coefficient of NDVI_100 (or slope): [1.40352637]\n",
      "Intercept: -0.15549657891201918\n",
      "R-squared: 0.6806489209777122\n"
     ]
    }
   ],
   "source": [
    "# linear model coefficient, intercept, and R-squared \n",
    "print('Coefficient of NDVI_100 (or slope):', lm_100.coef_)\n",
    "print('Intercept:', lm_100.intercept_)\n",
    "print('R-squared:', lm_100.score(X_train,y_train))"
   ]
  },
  {
   "cell_type": "code",
   "execution_count": 7,
   "id": "ef8c9602",
   "metadata": {},
   "outputs": [
    {
     "data": {
      "text/html": [
       "<div>\n",
       "<style scoped>\n",
       "    .dataframe tbody tr th:only-of-type {\n",
       "        vertical-align: middle;\n",
       "    }\n",
       "\n",
       "    .dataframe tbody tr th {\n",
       "        vertical-align: top;\n",
       "    }\n",
       "\n",
       "    .dataframe thead th {\n",
       "        text-align: right;\n",
       "    }\n",
       "</style>\n",
       "<table border=\"1\" class=\"dataframe\">\n",
       "  <thead>\n",
       "    <tr style=\"text-align: right;\">\n",
       "      <th></th>\n",
       "      <th>Actual</th>\n",
       "      <th>Predicted</th>\n",
       "    </tr>\n",
       "  </thead>\n",
       "  <tbody>\n",
       "    <tr>\n",
       "      <th>5591</th>\n",
       "      <td>0.650208</td>\n",
       "      <td>0.620391</td>\n",
       "    </tr>\n",
       "    <tr>\n",
       "      <th>4293</th>\n",
       "      <td>0.554432</td>\n",
       "      <td>0.589587</td>\n",
       "    </tr>\n",
       "    <tr>\n",
       "      <th>3064</th>\n",
       "      <td>0.669244</td>\n",
       "      <td>0.661537</td>\n",
       "    </tr>\n",
       "    <tr>\n",
       "      <th>4230</th>\n",
       "      <td>0.354551</td>\n",
       "      <td>0.468331</td>\n",
       "    </tr>\n",
       "    <tr>\n",
       "      <th>4300</th>\n",
       "      <td>0.508626</td>\n",
       "      <td>0.493269</td>\n",
       "    </tr>\n",
       "    <tr>\n",
       "      <th>...</th>\n",
       "      <td>...</td>\n",
       "      <td>...</td>\n",
       "    </tr>\n",
       "    <tr>\n",
       "      <th>2329</th>\n",
       "      <td>0.765616</td>\n",
       "      <td>0.705528</td>\n",
       "    </tr>\n",
       "    <tr>\n",
       "      <th>3514</th>\n",
       "      <td>0.525877</td>\n",
       "      <td>0.595249</td>\n",
       "    </tr>\n",
       "    <tr>\n",
       "      <th>862</th>\n",
       "      <td>0.161808</td>\n",
       "      <td>0.278225</td>\n",
       "    </tr>\n",
       "    <tr>\n",
       "      <th>4005</th>\n",
       "      <td>1.000000</td>\n",
       "      <td>1.039863</td>\n",
       "    </tr>\n",
       "    <tr>\n",
       "      <th>598</th>\n",
       "      <td>0.982153</td>\n",
       "      <td>0.588523</td>\n",
       "    </tr>\n",
       "  </tbody>\n",
       "</table>\n",
       "<p>1176 rows × 2 columns</p>\n",
       "</div>"
      ],
      "text/plain": [
       "        Actual  Predicted\n",
       "5591  0.650208   0.620391\n",
       "4293  0.554432   0.589587\n",
       "3064  0.669244   0.661537\n",
       "4230  0.354551   0.468331\n",
       "4300  0.508626   0.493269\n",
       "...        ...        ...\n",
       "2329  0.765616   0.705528\n",
       "3514  0.525877   0.595249\n",
       "862   0.161808   0.278225\n",
       "4005  1.000000   1.039863\n",
       "598   0.982153   0.588523\n",
       "\n",
       "[1176 rows x 2 columns]"
      ]
     },
     "execution_count": 7,
     "metadata": {},
     "output_type": "execute_result"
    }
   ],
   "source": [
    "# make predictions\n",
    "y_pred = model_100.predict(X_test)\n",
    "\n",
    "# compare actual values with predicted ones\n",
    "df_pred = pd.DataFrame({'Actual': y_test, 'Predicted': y_pred})\n",
    "df_pred"
   ]
  },
  {
   "cell_type": "code",
   "execution_count": 8,
   "id": "65ee6f0f",
   "metadata": {},
   "outputs": [
    {
     "name": "stdout",
     "output_type": "stream",
     "text": [
      "Mean Absolute Error: 0.10836987631358297\n",
      "Mean Squared Error: 0.023276392656485897\n",
      "Root Mean Squared Error: 0.15256602720293236\n"
     ]
    }
   ],
   "source": [
    "# evaluate the model\n",
    "print('Mean Absolute Error:', metrics.mean_absolute_error(y_test, y_pred))\n",
    "print('Mean Squared Error:', metrics.mean_squared_error(y_test, y_pred))\n",
    "print('Root Mean Squared Error:', np.sqrt(metrics.mean_squared_error(y_test, y_pred)))"
   ]
  },
  {
   "cell_type": "code",
   "execution_count": 9,
   "id": "46361135",
   "metadata": {},
   "outputs": [
    {
     "data": {
      "text/plain": [
       "array([[0.55281276],\n",
       "       [0.53086549],\n",
       "       [0.58212887],\n",
       "       ...,\n",
       "       [0.30902276],\n",
       "       [0.85168304],\n",
       "       [0.53010718]])"
      ]
     },
     "execution_count": 9,
     "metadata": {},
     "output_type": "execute_result"
    }
   ],
   "source": [
    "# convert X_test to array values\n",
    "X_test = X_test.iloc[:, 0:1].values\n",
    "X_test"
   ]
  },
  {
   "cell_type": "code",
   "execution_count": 10,
   "id": "c18c2fb7",
   "metadata": {},
   "outputs": [
    {
     "data": {
      "image/png": "[encoded data removed]",
      "text/plain": [
       "<Figure size 432x288 with 1 Axes>"
      ]
     },
     "metadata": {
      "needs_background": "light"
     },
     "output_type": "display_data"
    }
   ],
   "source": [
    "# plot outputs\n",
    "plt.scatter(X_test, y_test, color=\"green\")\n",
    "plt.plot(X_test, y_pred, color=\"black\", linewidth=2)\n",
    "\n",
    "plt.xticks(np.arange(0, 1.1, step = 0.2))\n",
    "plt.yticks(np.arange(0, 1.1, step = 0.2))\n",
    "\n",
    "# set title, xlabel and ylabel\n",
    "plt.title('Linear Regression Model at 100m')\n",
    "plt.xlabel('NDVI_100')\n",
    "plt.ylabel('Greenspace%_100')\n",
    "\n",
    "# save the figure\n",
    "plt.savefig('thesis_project/visualizations/lm_100_plot.png', dpi=300, bbox_inches='tight')\n",
    "\n",
    "plt.show()"
   ]
  },
  {
   "cell_type": "markdown",
   "id": "0500f3ac",
   "metadata": {},
   "source": [
    "### 1.2. Generalized Additive Model (GAM)"
   ]
  },
  {
   "cell_type": "code",
   "execution_count": 11,
   "id": "c9f5aac0",
   "metadata": {},
   "outputs": [],
   "source": [
    "# define the data/predictors as the NDVI_100\n",
    "df_100 = pd.DataFrame(gdf_100, columns=['NDVI_100'])\n",
    "\n",
    "# Put the target Greenspace%_100 in another DataFrame\n",
    "target_100 = pd.DataFrame(gdf_100, columns=['Greenspace%_100'])"
   ]
  },
  {
   "cell_type": "code",
   "execution_count": 12,
   "id": "c412fbe9",
   "metadata": {},
   "outputs": [
    {
     "name": "stdout",
     "output_type": "stream",
     "text": [
      "LinearGAM                                                                                                 \n",
      "=============================================== ==========================================================\n",
      "Distribution:                        NormalDist Effective DoF:                                     18.2525\n",
      "Link Function:                     IdentityLink Log Likelihood:                                -91131.6388\n",
      "Number of Samples:                         4702 AIC:                                           182301.7826\n",
      "                                                AICc:                                          182301.9492\n",
      "                                                GCV:                                                0.0225\n",
      "                                                Scale:                                              0.0224\n",
      "                                                Pseudo R-Squared:                                    0.709\n",
      "==========================================================================================================\n",
      "Feature Function                  Lambda               Rank         EDoF         P > x        Sig. Code   \n",
      "================================= ==================== ============ ============ ============ ============\n",
      "s(0)                              [0.6]                25           18.3         1.11e-16     ***         \n",
      "intercept                                              1            0.0          1.11e-16     ***         \n",
      "==========================================================================================================\n",
      "Significance codes:  0 '***' 0.001 '**' 0.01 '*' 0.05 '.' 0.1 ' ' 1\n",
      "\n",
      "WARNING: Fitting splines and a linear function to a feature introduces a model identifiability problem\n",
      "         which can cause p-values to appear significant when they are not.\n",
      "\n",
      "WARNING: p-values calculated in this manner behave correctly for un-penalized models or models with\n",
      "         known smoothing parameters, but when smoothing parameters have been estimated, the p-values\n",
      "         are typically lower than they should be, meaning that the tests reject the null too readily.\n"
     ]
    },
    {
     "name": "stderr",
     "output_type": "stream",
     "text": [
      "/var/folders/6g/kgz5rml118s6lqw25w5sv5mr0000gn/T/ipykernel_2217/147968647.py:13: UserWarning: KNOWN BUG: p-values computed in this summary are likely much smaller than they should be. \n",
      " \n",
      "Please do not make inferences based on these values! \n",
      "\n",
      "Collaborate on a solution, and stay up to date at: \n",
      "github.com/dswah/pyGAM/issues/163 \n",
      "\n",
      "  gam_100.summary()\n"
     ]
    }
   ],
   "source": [
    "# define X and Y\n",
    "X = df_100\n",
    "y = target_100\n",
    "\n",
    "# split independent and dependent variables into training and test data\n",
    "X_train, X_test, y_train, y_test = train_test_split(X, y, test_size=0.2, random_state=0)\n",
    "\n",
    "# fit GAM model\n",
    "gam_100 = LinearGAM(s(0, n_splines=25)).fit(X_train, y_train, weights=None)\n",
    "#gam_100 = gam_100.gridsearch(X_train, y_train)\n",
    "\n",
    "# check model statistics\n",
    "gam_100.summary()"
   ]
  },
  {
   "cell_type": "code",
   "execution_count": 13,
   "id": "9016c39a",
   "metadata": {},
   "outputs": [],
   "source": [
    "# plot outpus\n",
    "#XX = gam_100.generate_X_grid(term=0)\n",
    "#plt.rcParams['figure.figsize'] = (8, 8)\n",
    "#fig, axs = plt.subplots(1, 1)\n",
    "#titles = ['Generalized Additive Model (GAM) at 100m']\n",
    "#pdep, confi = gam_100.partial_dependence(XX, term=0, features = 1, width=0.95)\n",
    "#ax.plot(XX[:, 1], pdep)\n",
    "#ax.plot(XX[:, 1], confi[0][:, 0], c='grey', ls='--')\n",
    "#ax.plot(XX[:, 1], confi[0][:, 1], c='grey', ls='--')\n",
    "#ax.set_title(titles, fontsize=26)\n",
    "#plt.show()"
   ]
  },
  {
   "cell_type": "code",
   "execution_count": 14,
   "id": "0001fcd6",
   "metadata": {},
   "outputs": [],
   "source": [
    "# convert X_test and y_test to array values\n",
    "y_test = y_test.iloc[:, 0:1].values\n",
    "X_test = X_test.iloc[:, 0:1].values\n",
    "\n",
    "# make predictions\n",
    "y_pred = gam_100.predict(X_test)"
   ]
  },
  {
   "cell_type": "code",
   "execution_count": 15,
   "id": "41f13b0d",
   "metadata": {},
   "outputs": [
    {
     "data": {
      "image/png": "[encoded data removed]",
      "text/plain": [
       "<Figure size 432x288 with 1 Axes>"
      ]
     },
     "metadata": {
      "needs_background": "light"
     },
     "output_type": "display_data"
    }
   ],
   "source": [
    "# plot output\n",
    "plt.scatter(X_test, y_test, color=\"green\")\n",
    "plt.plot(X_test, y_pred, color=\"black\", linewidth=2)\n",
    "\n",
    "# set title, xlabel and ylabel\n",
    "plt.title('Generalized Additive Model (GAM) at 100m')\n",
    "plt.xlabel('NDVI_100')\n",
    "plt.ylabel('Greenspace%_100')\n",
    "\n",
    "# save the figure\n",
    "plt.savefig('thesis_project/visualizations/gam_100_plot.png', dpi=300, bbox_inches='tight')\n",
    "\n",
    "plt.show()"
   ]
  },
  {
   "cell_type": "markdown",
   "id": "1c1e9766",
   "metadata": {},
   "source": [
    "## 2. Modelling Greenspace Metrics at 300m"
   ]
  },
  {
   "cell_type": "code",
   "execution_count": 16,
   "id": "15e201f5",
   "metadata": {},
   "outputs": [
    {
     "data": {
      "text/html": [
       "<div>\n",
       "<style scoped>\n",
       "    .dataframe tbody tr th:only-of-type {\n",
       "        vertical-align: middle;\n",
       "    }\n",
       "\n",
       "    .dataframe tbody tr th {\n",
       "        vertical-align: top;\n",
       "    }\n",
       "\n",
       "    .dataframe thead th {\n",
       "        text-align: right;\n",
       "    }\n",
       "</style>\n",
       "<table border=\"1\" class=\"dataframe\">\n",
       "  <thead>\n",
       "    <tr style=\"text-align: right;\">\n",
       "      <th></th>\n",
       "      <th>NDVI_300</th>\n",
       "      <th>Greenspace%_300</th>\n",
       "      <th>Canopy%_300</th>\n",
       "      <th>geometry</th>\n",
       "    </tr>\n",
       "  </thead>\n",
       "  <tbody>\n",
       "    <tr>\n",
       "      <th>0</th>\n",
       "      <td>0.485173</td>\n",
       "      <td>0.528844</td>\n",
       "      <td>0.442425</td>\n",
       "      <td>POINT (384713.357 394255.209)</td>\n",
       "    </tr>\n",
       "    <tr>\n",
       "      <th>1</th>\n",
       "      <td>0.285426</td>\n",
       "      <td>0.293025</td>\n",
       "      <td>0.247789</td>\n",
       "      <td>POINT (387034.589 396075.398)</td>\n",
       "    </tr>\n",
       "    <tr>\n",
       "      <th>2</th>\n",
       "      <td>0.462789</td>\n",
       "      <td>0.462798</td>\n",
       "      <td>0.464153</td>\n",
       "      <td>POINT (395300.134 404726.178)</td>\n",
       "    </tr>\n",
       "    <tr>\n",
       "      <th>3</th>\n",
       "      <td>0.594440</td>\n",
       "      <td>0.987531</td>\n",
       "      <td>0.225635</td>\n",
       "      <td>POINT (369879.786 397440.240)</td>\n",
       "    </tr>\n",
       "    <tr>\n",
       "      <th>4</th>\n",
       "      <td>0.584577</td>\n",
       "      <td>0.532749</td>\n",
       "      <td>0.220658</td>\n",
       "      <td>POINT (356385.617 406274.434)</td>\n",
       "    </tr>\n",
       "  </tbody>\n",
       "</table>\n",
       "</div>"
      ],
      "text/plain": [
       "   NDVI_300  Greenspace%_300  Canopy%_300                       geometry\n",
       "0  0.485173         0.528844     0.442425  POINT (384713.357 394255.209)\n",
       "1  0.285426         0.293025     0.247789  POINT (387034.589 396075.398)\n",
       "2  0.462789         0.462798     0.464153  POINT (395300.134 404726.178)\n",
       "3  0.594440         0.987531     0.225635  POINT (369879.786 397440.240)\n",
       "4  0.584577         0.532749     0.220658  POINT (356385.617 406274.434)"
      ]
     },
     "execution_count": 16,
     "metadata": {},
     "output_type": "execute_result"
    }
   ],
   "source": [
    "# load greenspace metrics at 300m geodataframe\n",
    "gdf_300 = gpd.read_file(\"thesis_project/output/greenspace_metrics_300_gm.json\")\n",
    "gdf_300.head()"
   ]
  },
  {
   "cell_type": "markdown",
   "id": "d9cfd20e",
   "metadata": {},
   "source": [
    "### 2.1. Linear Regression Model"
   ]
  },
  {
   "cell_type": "code",
   "execution_count": 17,
   "id": "36dfbc0a",
   "metadata": {},
   "outputs": [],
   "source": [
    "# define the data/predictors as the NDVI_300\n",
    "df = pd.DataFrame(gdf_300, columns=['NDVI_300'])\n",
    "\n",
    "# Put the target Greenspace%_300 in another DataFrame\n",
    "target = pd.DataFrame(gdf_300, columns=['Greenspace%_300'])"
   ]
  },
  {
   "cell_type": "code",
   "execution_count": 18,
   "id": "7052b758",
   "metadata": {},
   "outputs": [],
   "source": [
    "# define X and y\n",
    "X = df\n",
    "y = target['Greenspace%_300']\n",
    "\n",
    "# split independent and dependent variables into training and test data\n",
    "X_train, X_test, y_train, y_test = train_test_split(X, y, test_size=0.2, random_state=0)\n",
    "\n",
    "# fit the linear model\n",
    "lm_300 = linear_model.LinearRegression()\n",
    "model_300 = lm_300.fit(X_train,y_train)"
   ]
  },
  {
   "cell_type": "code",
   "execution_count": 19,
   "id": "74c9e9e8",
   "metadata": {},
   "outputs": [
    {
     "name": "stdout",
     "output_type": "stream",
     "text": [
      "Coefficient of NDVI_300 (or slope): [1.1359718]\n",
      "Intercept: 0.02219447548085196\n",
      "R-squared: 0.6921249306453257\n"
     ]
    }
   ],
   "source": [
    "# linear model coefficient, intercept, and R-squared \n",
    "print('Coefficient of NDVI_300 (or slope):', lm_300.coef_)\n",
    "print('Intercept:', lm_300.intercept_)\n",
    "print('R-squared:', lm_300.score(X_train,y_train))"
   ]
  },
  {
   "cell_type": "code",
   "execution_count": 20,
   "id": "2449216b",
   "metadata": {},
   "outputs": [
    {
     "data": {
      "text/html": [
       "<div>\n",
       "<style scoped>\n",
       "    .dataframe tbody tr th:only-of-type {\n",
       "        vertical-align: middle;\n",
       "    }\n",
       "\n",
       "    .dataframe tbody tr th {\n",
       "        vertical-align: top;\n",
       "    }\n",
       "\n",
       "    .dataframe thead th {\n",
       "        text-align: right;\n",
       "    }\n",
       "</style>\n",
       "<table border=\"1\" class=\"dataframe\">\n",
       "  <thead>\n",
       "    <tr style=\"text-align: right;\">\n",
       "      <th></th>\n",
       "      <th>Actual</th>\n",
       "      <th>Predicted</th>\n",
       "    </tr>\n",
       "  </thead>\n",
       "  <tbody>\n",
       "    <tr>\n",
       "      <th>3861</th>\n",
       "      <td>0.889216</td>\n",
       "      <td>0.590199</td>\n",
       "    </tr>\n",
       "    <tr>\n",
       "      <th>2812</th>\n",
       "      <td>0.955741</td>\n",
       "      <td>0.999274</td>\n",
       "    </tr>\n",
       "    <tr>\n",
       "      <th>5593</th>\n",
       "      <td>0.442450</td>\n",
       "      <td>0.554518</td>\n",
       "    </tr>\n",
       "    <tr>\n",
       "      <th>5228</th>\n",
       "      <td>0.889422</td>\n",
       "      <td>0.760154</td>\n",
       "    </tr>\n",
       "    <tr>\n",
       "      <th>1161</th>\n",
       "      <td>0.555974</td>\n",
       "      <td>0.668333</td>\n",
       "    </tr>\n",
       "    <tr>\n",
       "      <th>...</th>\n",
       "      <td>...</td>\n",
       "      <td>...</td>\n",
       "    </tr>\n",
       "    <tr>\n",
       "      <th>2058</th>\n",
       "      <td>0.955125</td>\n",
       "      <td>1.000765</td>\n",
       "    </tr>\n",
       "    <tr>\n",
       "      <th>1763</th>\n",
       "      <td>0.800356</td>\n",
       "      <td>0.855422</td>\n",
       "    </tr>\n",
       "    <tr>\n",
       "      <th>899</th>\n",
       "      <td>0.900247</td>\n",
       "      <td>0.928889</td>\n",
       "    </tr>\n",
       "    <tr>\n",
       "      <th>3083</th>\n",
       "      <td>0.798369</td>\n",
       "      <td>0.807288</td>\n",
       "    </tr>\n",
       "    <tr>\n",
       "      <th>4261</th>\n",
       "      <td>0.573308</td>\n",
       "      <td>0.632471</td>\n",
       "    </tr>\n",
       "  </tbody>\n",
       "</table>\n",
       "<p>1157 rows × 2 columns</p>\n",
       "</div>"
      ],
      "text/plain": [
       "        Actual  Predicted\n",
       "3861  0.889216   0.590199\n",
       "2812  0.955741   0.999274\n",
       "5593  0.442450   0.554518\n",
       "5228  0.889422   0.760154\n",
       "1161  0.555974   0.668333\n",
       "...        ...        ...\n",
       "2058  0.955125   1.000765\n",
       "1763  0.800356   0.855422\n",
       "899   0.900247   0.928889\n",
       "3083  0.798369   0.807288\n",
       "4261  0.573308   0.632471\n",
       "\n",
       "[1157 rows x 2 columns]"
      ]
     },
     "execution_count": 20,
     "metadata": {},
     "output_type": "execute_result"
    }
   ],
   "source": [
    "# make predictions\n",
    "y_pred = model_300.predict(X_test)\n",
    "\n",
    "# compare actual values with predicted ones\n",
    "df = pd.DataFrame({'Actual': y_test, 'Predicted': y_pred})\n",
    "df"
   ]
  },
  {
   "cell_type": "code",
   "execution_count": 21,
   "id": "fd953b9e",
   "metadata": {},
   "outputs": [
    {
     "name": "stdout",
     "output_type": "stream",
     "text": [
      "Mean Absolute Error: 0.08934573648402441\n",
      "Mean Squared Error: 0.01610827472555938\n",
      "Root Mean Squared Error: 0.1269183782025258\n"
     ]
    }
   ],
   "source": [
    "# evaluate the model\n",
    "print('Mean Absolute Error:', metrics.mean_absolute_error(y_test, y_pred))\n",
    "print('Mean Squared Error:', metrics.mean_squared_error(y_test, y_pred))\n",
    "print('Root Mean Squared Error:', np.sqrt(metrics.mean_squared_error(y_test, y_pred)))"
   ]
  },
  {
   "cell_type": "code",
   "execution_count": 22,
   "id": "2f28ee85",
   "metadata": {},
   "outputs": [
    {
     "data": {
      "text/plain": [
       "array([[0.5000161 ],\n",
       "       [0.86012644],\n",
       "       [0.46860594],\n",
       "       ...,\n",
       "       [0.79816608],\n",
       "       [0.69112099],\n",
       "       [0.53722871]])"
      ]
     },
     "execution_count": 22,
     "metadata": {},
     "output_type": "execute_result"
    }
   ],
   "source": [
    "# convert X_test to array values\n",
    "X_test = X_test.iloc[:, 0:1].values\n",
    "X_test"
   ]
  },
  {
   "cell_type": "code",
   "execution_count": 23,
   "id": "6e9c57b0",
   "metadata": {},
   "outputs": [
    {
     "data": {
      "image/png": "[encoded data removed]",
      "text/plain": [
       "<Figure size 432x288 with 1 Axes>"
      ]
     },
     "metadata": {
      "needs_background": "light"
     },
     "output_type": "display_data"
    }
   ],
   "source": [
    "# plot outputs\n",
    "plt.scatter(X_test, y_test, color=\"green\")\n",
    "plt.plot(X_test, y_pred, color=\"black\", linewidth=2)\n",
    "\n",
    "plt.xticks(np.arange(0, 1.1, step = 0.2))\n",
    "plt.yticks(np.arange(0, 1.1, step = 0.2))\n",
    "\n",
    "# set title, xlabel and ylabel\n",
    "plt.title('Linear Regression Model at 300m')\n",
    "plt.xlabel('NDVI_300')\n",
    "plt.ylabel('Greenspace%_300')\n",
    "\n",
    "# save the figure\n",
    "plt.savefig('thesis_project/visualizations/lm_300_plot.png', dpi=300, bbox_inches='tight')\n",
    "\n",
    "plt.show()"
   ]
  },
  {
   "cell_type": "markdown",
   "id": "899aff42",
   "metadata": {},
   "source": [
    "### 2.2. Generalized Additive Model (GAM)"
   ]
  },
  {
   "cell_type": "code",
   "execution_count": 24,
   "id": "edb3ac03",
   "metadata": {},
   "outputs": [],
   "source": [
    "# define the data/predictors as the NDVI_300\n",
    "df_300 = pd.DataFrame(gdf_300, columns=['NDVI_300'])\n",
    "\n",
    "# Put the target Greenspace%_300 in another DataFrame\n",
    "target_300 = pd.DataFrame(gdf_300, columns=['Greenspace%_300'])"
   ]
  },
  {
   "cell_type": "code",
   "execution_count": 25,
   "id": "ebaefe85",
   "metadata": {},
   "outputs": [
    {
     "name": "stdout",
     "output_type": "stream",
     "text": [
      "LinearGAM                                                                                                 \n",
      "=============================================== ==========================================================\n",
      "Distribution:                        NormalDist Effective DoF:                                     18.9754\n",
      "Link Function:                     IdentityLink Log Likelihood:                               -134177.2325\n",
      "Number of Samples:                         4624 AIC:                                           268394.4159\n",
      "                                                AICc:                                          268394.5979\n",
      "                                                GCV:                                                0.0155\n",
      "                                                Scale:                                              0.0154\n",
      "                                                Pseudo R-Squared:                                   0.7176\n",
      "==========================================================================================================\n",
      "Feature Function                  Lambda               Rank         EDoF         P > x        Sig. Code   \n",
      "================================= ==================== ============ ============ ============ ============\n",
      "s(0)                              [0.6]                25           19.0         1.11e-16     ***         \n",
      "intercept                                              1            0.0          1.11e-16     ***         \n",
      "==========================================================================================================\n",
      "Significance codes:  0 '***' 0.001 '**' 0.01 '*' 0.05 '.' 0.1 ' ' 1\n",
      "\n",
      "WARNING: Fitting splines and a linear function to a feature introduces a model identifiability problem\n",
      "         which can cause p-values to appear significant when they are not.\n",
      "\n",
      "WARNING: p-values calculated in this manner behave correctly for un-penalized models or models with\n",
      "         known smoothing parameters, but when smoothing parameters have been estimated, the p-values\n",
      "         are typically lower than they should be, meaning that the tests reject the null too readily.\n"
     ]
    },
    {
     "name": "stderr",
     "output_type": "stream",
     "text": [
      "/var/folders/6g/kgz5rml118s6lqw25w5sv5mr0000gn/T/ipykernel_2217/83215100.py:13: UserWarning: KNOWN BUG: p-values computed in this summary are likely much smaller than they should be. \n",
      " \n",
      "Please do not make inferences based on these values! \n",
      "\n",
      "Collaborate on a solution, and stay up to date at: \n",
      "github.com/dswah/pyGAM/issues/163 \n",
      "\n",
      "  gam_300.summary()\n"
     ]
    }
   ],
   "source": [
    "# define X and Y\n",
    "X = df_300\n",
    "y = target_300\n",
    "\n",
    "# split independent and dependent variables into training and test data\n",
    "X_train, X_test, y_train, y_test = train_test_split(X, y, test_size=0.2, random_state=0)\n",
    "\n",
    "# fit GAM model\n",
    "gam_300 = LinearGAM(s(0, n_splines=25)).fit(X_train, y_train, weights=None)\n",
    "#gam_300 = gam_300.gridsearch(X_train, y_train)\n",
    "\n",
    "# check model statistics\n",
    "gam_300.summary()"
   ]
  },
  {
   "cell_type": "code",
   "execution_count": 26,
   "id": "d2e8082d",
   "metadata": {},
   "outputs": [],
   "source": [
    "# convert X_test and y_test to array values\n",
    "y_test = y_test.iloc[:, 0:1].values\n",
    "X_test = X_test.iloc[:, 0:1].values\n",
    "\n",
    "# make predictions\n",
    "y_pred = gam_300.predict(X_test)"
   ]
  },
  {
   "cell_type": "code",
   "execution_count": null,
   "id": "d64ef00b",
   "metadata": {},
   "outputs": [],
   "source": []
  },
  {
   "cell_type": "code",
   "execution_count": null,
   "id": "8d06b463",
   "metadata": {},
   "outputs": [],
   "source": []
  },
  {
   "cell_type": "markdown",
   "id": "847f9551",
   "metadata": {},
   "source": [
    "## 3. Modelling Greenspace Metrics at 500m"
   ]
  },
  {
   "cell_type": "code",
   "execution_count": 39,
   "id": "c3598136",
   "metadata": {},
   "outputs": [
    {
     "data": {
      "text/html": [
       "<div>\n",
       "<style scoped>\n",
       "    .dataframe tbody tr th:only-of-type {\n",
       "        vertical-align: middle;\n",
       "    }\n",
       "\n",
       "    .dataframe tbody tr th {\n",
       "        vertical-align: top;\n",
       "    }\n",
       "\n",
       "    .dataframe thead th {\n",
       "        text-align: right;\n",
       "    }\n",
       "</style>\n",
       "<table border=\"1\" class=\"dataframe\">\n",
       "  <thead>\n",
       "    <tr style=\"text-align: right;\">\n",
       "      <th></th>\n",
       "      <th>NDVI_500</th>\n",
       "      <th>Greenspace%_500</th>\n",
       "      <th>Canopy%_500</th>\n",
       "      <th>geometry</th>\n",
       "    </tr>\n",
       "  </thead>\n",
       "  <tbody>\n",
       "    <tr>\n",
       "      <th>0</th>\n",
       "      <td>0.502140</td>\n",
       "      <td>0.485566</td>\n",
       "      <td>0.339339</td>\n",
       "      <td>POINT (372673.972 394848.116)</td>\n",
       "    </tr>\n",
       "    <tr>\n",
       "      <th>1</th>\n",
       "      <td>0.634665</td>\n",
       "      <td>0.641850</td>\n",
       "      <td>0.181328</td>\n",
       "      <td>POINT (383073.527 408838.647)</td>\n",
       "    </tr>\n",
       "    <tr>\n",
       "      <th>2</th>\n",
       "      <td>0.606910</td>\n",
       "      <td>0.969945</td>\n",
       "      <td>0.164166</td>\n",
       "      <td>POINT (372549.883 390299.040)</td>\n",
       "    </tr>\n",
       "    <tr>\n",
       "      <th>3</th>\n",
       "      <td>0.719913</td>\n",
       "      <td>0.824603</td>\n",
       "      <td>0.294875</td>\n",
       "      <td>POINT (372644.583 414079.514)</td>\n",
       "    </tr>\n",
       "    <tr>\n",
       "      <th>4</th>\n",
       "      <td>0.710023</td>\n",
       "      <td>0.980069</td>\n",
       "      <td>0.031487</td>\n",
       "      <td>POINT (369449.827 413462.285)</td>\n",
       "    </tr>\n",
       "  </tbody>\n",
       "</table>\n",
       "</div>"
      ],
      "text/plain": [
       "   NDVI_500  Greenspace%_500  Canopy%_500                       geometry\n",
       "0  0.502140         0.485566     0.339339  POINT (372673.972 394848.116)\n",
       "1  0.634665         0.641850     0.181328  POINT (383073.527 408838.647)\n",
       "2  0.606910         0.969945     0.164166  POINT (372549.883 390299.040)\n",
       "3  0.719913         0.824603     0.294875  POINT (372644.583 414079.514)\n",
       "4  0.710023         0.980069     0.031487  POINT (369449.827 413462.285)"
      ]
     },
     "execution_count": 39,
     "metadata": {},
     "output_type": "execute_result"
    }
   ],
   "source": [
    "# load greenspace metrics at 500m geodataframe\n",
    "gdf_500 = gpd.read_file(\"thesis_project/output/greenspace_metrics_500_gm.json\")\n",
    "gdf_500.head()"
   ]
  },
  {
   "cell_type": "markdown",
   "id": "c3c6e57b",
   "metadata": {},
   "source": [
    "### 3.1. Linear Regression Model"
   ]
  },
  {
   "cell_type": "code",
   "execution_count": 40,
   "id": "15fd09e0",
   "metadata": {},
   "outputs": [],
   "source": [
    "# define the data/predictors as the NDVI_500\n",
    "df = pd.DataFrame(gdf_500, columns=['NDVI_500'])\n",
    "\n",
    "# Put the target Greenspace%_500 in another DataFrame\n",
    "target = pd.DataFrame(gdf_500, columns=['Greenspace%_500'])"
   ]
  },
  {
   "cell_type": "code",
   "execution_count": 41,
   "id": "9d05b6ea",
   "metadata": {},
   "outputs": [],
   "source": [
    "# define X and y\n",
    "X = df\n",
    "y = target['Greenspace%_500']\n",
    "\n",
    "# split independent and dependent variables into training and test data\n",
    "X_train, X_test, y_train, y_test = train_test_split(X, y, test_size=0.2, random_state=0)\n",
    "\n",
    "# fit the linear model\n",
    "lm_500 = linear_model.LinearRegression()\n",
    "model_500 = lm_500.fit(X_train,y_train)"
   ]
  },
  {
   "cell_type": "code",
   "execution_count": 42,
   "id": "cea9bac9",
   "metadata": {},
   "outputs": [
    {
     "name": "stdout",
     "output_type": "stream",
     "text": [
      "Coefficient of NDVI_500 (or slope): [1.10297259]\n",
      "Intercept: 0.016788191733490554\n",
      "R-squared: 0.6732817510651916\n"
     ]
    }
   ],
   "source": [
    "# linear model coefficient, intercept, and R-squared \n",
    "print('Coefficient of NDVI_500 (or slope):', lm_500.coef_)\n",
    "print('Intercept:', lm_500.intercept_)\n",
    "print('R-squared:', lm_500.score(X_train,y_train))"
   ]
  },
  {
   "cell_type": "code",
   "execution_count": 43,
   "id": "a4e9760b",
   "metadata": {},
   "outputs": [
    {
     "data": {
      "text/html": [
       "<div>\n",
       "<style scoped>\n",
       "    .dataframe tbody tr th:only-of-type {\n",
       "        vertical-align: middle;\n",
       "    }\n",
       "\n",
       "    .dataframe tbody tr th {\n",
       "        vertical-align: top;\n",
       "    }\n",
       "\n",
       "    .dataframe thead th {\n",
       "        text-align: right;\n",
       "    }\n",
       "</style>\n",
       "<table border=\"1\" class=\"dataframe\">\n",
       "  <thead>\n",
       "    <tr style=\"text-align: right;\">\n",
       "      <th></th>\n",
       "      <th>Actual</th>\n",
       "      <th>Predicted</th>\n",
       "    </tr>\n",
       "  </thead>\n",
       "  <tbody>\n",
       "    <tr>\n",
       "      <th>569</th>\n",
       "      <td>0.998629</td>\n",
       "      <td>0.582432</td>\n",
       "    </tr>\n",
       "    <tr>\n",
       "      <th>2172</th>\n",
       "      <td>0.877040</td>\n",
       "      <td>0.885732</td>\n",
       "    </tr>\n",
       "    <tr>\n",
       "      <th>2423</th>\n",
       "      <td>0.987556</td>\n",
       "      <td>0.424431</td>\n",
       "    </tr>\n",
       "    <tr>\n",
       "      <th>2245</th>\n",
       "      <td>0.153858</td>\n",
       "      <td>0.225730</td>\n",
       "    </tr>\n",
       "    <tr>\n",
       "      <th>1804</th>\n",
       "      <td>0.959479</td>\n",
       "      <td>0.781882</td>\n",
       "    </tr>\n",
       "    <tr>\n",
       "      <th>...</th>\n",
       "      <td>...</td>\n",
       "      <td>...</td>\n",
       "    </tr>\n",
       "    <tr>\n",
       "      <th>2308</th>\n",
       "      <td>0.498985</td>\n",
       "      <td>0.600743</td>\n",
       "    </tr>\n",
       "    <tr>\n",
       "      <th>2438</th>\n",
       "      <td>0.835860</td>\n",
       "      <td>0.883347</td>\n",
       "    </tr>\n",
       "    <tr>\n",
       "      <th>878</th>\n",
       "      <td>0.853339</td>\n",
       "      <td>0.872549</td>\n",
       "    </tr>\n",
       "    <tr>\n",
       "      <th>1526</th>\n",
       "      <td>0.606549</td>\n",
       "      <td>0.639425</td>\n",
       "    </tr>\n",
       "    <tr>\n",
       "      <th>2066</th>\n",
       "      <td>0.390551</td>\n",
       "      <td>0.484387</td>\n",
       "    </tr>\n",
       "  </tbody>\n",
       "</table>\n",
       "<p>577 rows × 2 columns</p>\n",
       "</div>"
      ],
      "text/plain": [
       "        Actual  Predicted\n",
       "569   0.998629   0.582432\n",
       "2172  0.877040   0.885732\n",
       "2423  0.987556   0.424431\n",
       "2245  0.153858   0.225730\n",
       "1804  0.959479   0.781882\n",
       "...        ...        ...\n",
       "2308  0.498985   0.600743\n",
       "2438  0.835860   0.883347\n",
       "878   0.853339   0.872549\n",
       "1526  0.606549   0.639425\n",
       "2066  0.390551   0.484387\n",
       "\n",
       "[577 rows x 2 columns]"
      ]
     },
     "execution_count": 43,
     "metadata": {},
     "output_type": "execute_result"
    }
   ],
   "source": [
    "# make predictions\n",
    "y_pred = model_500.predict(X_test)\n",
    "\n",
    "# compare actual values with predicted ones\n",
    "df = pd.DataFrame({'Actual': y_test, 'Predicted': y_pred})\n",
    "df"
   ]
  },
  {
   "cell_type": "code",
   "execution_count": 44,
   "id": "052f9c73",
   "metadata": {},
   "outputs": [
    {
     "name": "stdout",
     "output_type": "stream",
     "text": [
      "Mean Absolute Error: 0.08462592877548988\n",
      "Mean Squared Error: 0.015352208136519737\n",
      "Root Mean Squared Error: 0.12390402792693923\n"
     ]
    }
   ],
   "source": [
    "# evaluate the model\n",
    "print('Mean Absolute Error:', metrics.mean_absolute_error(y_test, y_pred))\n",
    "print('Mean Squared Error:', metrics.mean_squared_error(y_test, y_pred))\n",
    "print('Root Mean Squared Error:', np.sqrt(metrics.mean_squared_error(y_test, y_pred)))"
   ]
  },
  {
   "cell_type": "code",
   "execution_count": 45,
   "id": "caa1ed58",
   "metadata": {},
   "outputs": [],
   "source": [
    "# convert X_test to array values\n",
    "X_test = X_test.iloc[:, 0:1].values"
   ]
  },
  {
   "cell_type": "code",
   "execution_count": 34,
   "id": "82ae9a65",
   "metadata": {},
   "outputs": [
    {
     "data": {
      "image/png": "[encoded data removed]",
      "text/plain": [
       "<Figure size 432x288 with 1 Axes>"
      ]
     },
     "metadata": {
      "needs_background": "light"
     },
     "output_type": "display_data"
    }
   ],
   "source": [
    "# plot outputs\n",
    "plt.scatter(X_test, y_test, color=\"green\")\n",
    "plt.plot(X_test, y_pred, color=\"black\", linewidth=2)\n",
    "\n",
    "plt.xticks(np.arange(0, 1.1, step = 0.2))\n",
    "plt.yticks(np.arange(0, 1.1, step = 0.2))\n",
    "\n",
    "# set title, xlabel and ylabel\n",
    "plt.title('Linear Regression Model at 500m')\n",
    "plt.xlabel('NDVI_500')\n",
    "plt.ylabel('Greenspace%_500')\n",
    "\n",
    "# save the figure\n",
    "plt.savefig('thesis_project/visualizations/lm_500_plot.png', dpi=300, bbox_inches='tight')\n",
    "\n",
    "plt.show()"
   ]
  },
  {
   "cell_type": "markdown",
   "id": "b1d0e416",
   "metadata": {},
   "source": [
    "### 3.2. Generalized Additive Model (GAM)"
   ]
  },
  {
   "cell_type": "code",
   "execution_count": 35,
   "id": "0a3ac54f",
   "metadata": {},
   "outputs": [],
   "source": [
    "# define the data/predictors as the NDVI_500\n",
    "df_500 = pd.DataFrame(gdf_500, columns=['NDVI_500'])\n",
    "\n",
    "# Put the target Greenspace%_500 in another DataFrame\n",
    "target_500 = pd.DataFrame(gdf_500, columns=['Greenspace%_500'])"
   ]
  },
  {
   "cell_type": "code",
   "execution_count": 36,
   "id": "68c0772c",
   "metadata": {},
   "outputs": [
    {
     "name": "stdout",
     "output_type": "stream",
     "text": [
      "LinearGAM                                                                                                 \n",
      "=============================================== ==========================================================\n",
      "Distribution:                        NormalDist Effective DoF:                                     17.5385\n",
      "Link Function:                     IdentityLink Log Likelihood:                                -67967.4266\n",
      "Number of Samples:                         2304 AIC:                                           135971.9302\n",
      "                                                AICc:                                          135972.2473\n",
      "                                                GCV:                                                0.0154\n",
      "                                                Scale:                                              0.0151\n",
      "                                                Pseudo R-Squared:                                   0.6975\n",
      "==========================================================================================================\n",
      "Feature Function                  Lambda               Rank         EDoF         P > x        Sig. Code   \n",
      "================================= ==================== ============ ============ ============ ============\n",
      "s(0)                              [0.6]                25           17.5         1.11e-16     ***         \n",
      "intercept                                              1            0.0          1.11e-16     ***         \n",
      "==========================================================================================================\n",
      "Significance codes:  0 '***' 0.001 '**' 0.01 '*' 0.05 '.' 0.1 ' ' 1\n",
      "\n",
      "WARNING: Fitting splines and a linear function to a feature introduces a model identifiability problem\n",
      "         which can cause p-values to appear significant when they are not.\n",
      "\n",
      "WARNING: p-values calculated in this manner behave correctly for un-penalized models or models with\n",
      "         known smoothing parameters, but when smoothing parameters have been estimated, the p-values\n",
      "         are typically lower than they should be, meaning that the tests reject the null too readily.\n"
     ]
    },
    {
     "name": "stderr",
     "output_type": "stream",
     "text": [
      "/var/folders/6g/kgz5rml118s6lqw25w5sv5mr0000gn/T/ipykernel_2217/2377385356.py:13: UserWarning: KNOWN BUG: p-values computed in this summary are likely much smaller than they should be. \n",
      " \n",
      "Please do not make inferences based on these values! \n",
      "\n",
      "Collaborate on a solution, and stay up to date at: \n",
      "github.com/dswah/pyGAM/issues/163 \n",
      "\n",
      "  gam_500.summary()\n"
     ]
    }
   ],
   "source": [
    "# define X and Y\n",
    "X = df_500\n",
    "y = target_500\n",
    "\n",
    "# split independent and dependent variables into training and test data\n",
    "X_train, X_test, y_train, y_test = train_test_split(X, y, test_size=0.2, random_state=0)\n",
    "\n",
    "# fit GAM model\n",
    "gam_500 = LinearGAM(s(0, n_splines=25)).fit(X_train, y_train, weights=None)\n",
    "#gam_500 = gam_500.gridsearch(X_train, y_train)\n",
    "\n",
    "# check model statistics\n",
    "gam_500.summary()"
   ]
  },
  {
   "cell_type": "code",
   "execution_count": 37,
   "id": "70f77934",
   "metadata": {},
   "outputs": [],
   "source": [
    "# convert X_test and y_test to array values\n",
    "y_test = y_test.iloc[:, 0:1].values\n",
    "X_test = X_test.iloc[:, 0:1].values\n",
    "\n",
    "# make predictions\n",
    "y_pred = gam_500.predict(X_test)"
   ]
  },
  {
   "cell_type": "code",
   "execution_count": null,
   "id": "398173e2",
   "metadata": {},
   "outputs": [],
   "source": []
  }
 ],
 "metadata": {
  "kernelspec": {
   "display_name": "Python 3 (ipykernel)",
   "language": "python",
   "name": "python3"
  },
  "language_info": {
   "codemirror_mode": {
    "name": "ipython",
    "version": 3
   },
   "file_extension": ".py",
   "mimetype": "text/x-python",
   "name": "python",
   "nbconvert_exporter": "python",
   "pygments_lexer": "ipython3",
   "version": "3.9.10"
  }
 },
 "nbformat": 4,
 "nbformat_minor": 5
}
