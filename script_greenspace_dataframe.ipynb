{
 "cells": [
  {
   "cell_type": "markdown",
   "metadata": {},
   "source": [
    "**Script greenspace data frame**"
   ]
  },
  {
   "cell_type": "markdown",
   "metadata": {},
   "source": [
    "1. Reading a raster file"
   ]
  },
  {
   "cell_type": "code",
   "execution_count": 41,
   "metadata": {},
   "outputs": [
    {
     "data": {
      "text/plain": [
       "rasterio.io.DatasetReader"
      ]
     },
     "execution_count": 41,
     "metadata": {},
     "output_type": "execute_result"
    }
   ],
   "source": [
    "import pandas as pd\n",
    "import scipy as sp\n",
    "from scipy.ndimage import convolve\n",
    "import numpy as np\n",
    "import rasterio\n",
    "from rasterio.transform import from_origin\n",
    "import os\n",
    "import geopandas as gpd\n",
    "from osgeo import gdal\n",
    "%matplotlib inline\n",
    "\n",
    "# Step 1: Get input NDVI\n",
    "# data dir\n",
    "data_dir = r\"thesis_project/data\"\n",
    "fp = os.path.join(data_dir, \"CR_NDVI.TIF\")\n",
    "\n",
    "# open the file:\n",
    "ndvi_input_raster = rasterio.open(fp)\n",
    "\n",
    "# check type of the variable 'raster'\n",
    "type(ndvi_input_raster)"
   ]
  },
  {
   "cell_type": "code",
   "execution_count": 44,
   "metadata": {},
   "outputs": [
    {
     "data": {
      "text/plain": [
       "{'driver': 'GTiff',\n",
       " 'dtype': 'float32',\n",
       " 'nodata': -3.3999999521443642e+38,\n",
       " 'width': 7443,\n",
       " 'height': 5987,\n",
       " 'count': 1,\n",
       " 'crs': CRS.from_epsg(27700),\n",
       " 'transform': Affine(10.0, 0.0, 341660.6724,\n",
       "        0.0, -10.0, 431034.6389)}"
      ]
     },
     "execution_count": 44,
     "metadata": {},
     "output_type": "execute_result"
    }
   ],
   "source": [
    "# All Metadata for the whole raster dataset\n",
    "ndvi_input_raster.meta"
   ]
  },
  {
   "cell_type": "code",
   "execution_count": 42,
   "metadata": {},
   "outputs": [
    {
     "data": {
      "text/plain": [
       "numpy.ndarray"
      ]
     },
     "execution_count": 42,
     "metadata": {},
     "output_type": "execute_result"
    }
   ],
   "source": [
    "# Read the raster band as separate variable\n",
    "ndvi_input = ndvi_input_raster.read(1)\n",
    "type(ndvi_input)"
   ]
  },
  {
   "cell_type": "code",
   "execution_count": 23,
   "metadata": {},
   "outputs": [
    {
     "data": {
      "text/plain": [
       "(5987, 7443)"
      ]
     },
     "execution_count": 23,
     "metadata": {},
     "output_type": "execute_result"
    }
   ],
   "source": [
    "# check shape of the raster image\n",
    "ndvi_input.shape"
   ]
  },
  {
   "cell_type": "markdown",
   "metadata": {},
   "source": [
    "2. Apply focal statistics"
   ]
  },
  {
   "cell_type": "code",
   "execution_count": 24,
   "metadata": {},
   "outputs": [
    {
     "data": {
      "text/plain": [
       "numpy.ndarray"
      ]
     },
     "execution_count": 24,
     "metadata": {},
     "output_type": "execute_result"
    }
   ],
   "source": [
    "# design kernel at a 100m scale\n",
    "scale_100 = np.ones((21, 21))\n",
    "#scale_100\n",
    "scale_100.shape"
   ]
  },
  {
   "cell_type": "code",
   "execution_count": 25,
   "metadata": {},
   "outputs": [
    {
     "data": {
      "text/plain": [
       "(5987, 7443)"
      ]
     },
     "execution_count": 25,
     "metadata": {},
     "output_type": "execute_result"
    }
   ],
   "source": [
    "# convolve NDVI input with kernel at 100m (equivalent to average operation)\n",
    "ndvi_output_100 = convolve(ndvi_input, scale_100) / np.sum(scale_100) # mode=reflect to extend input beyond its boundaries\n",
    "ndvi_output_100.shape"
   ]
  },
  {
   "cell_type": "markdown",
   "metadata": {},
   "source": [
    "3. Write scaled greenspace layer to a raster image"
   ]
  },
  {
   "cell_type": "code",
   "execution_count": 63,
   "metadata": {},
   "outputs": [],
   "source": [
    "# convert NDVI output to raster image\n",
    "transform = from_origin(341660.6724, 431034.6389, 10.0, -10.0)\n",
    "\n",
    "new_dataset = rasterio.open('thesis_project/data/output/ndvi_output_100.tif', 'w', driver='GTiff',\n",
    "                            height = ndvi_output_100.shape[0], width = ndvi_output_100.shape[1],\n",
    "                            count=1, dtype=str(ndvi_output_100.dtype),\n",
    "                            crs='+proj=tmerc +lat_0=49 +lon_0=-2 +k=0.9996012717 +x_0=400000 +y_0=-100000 +ellps=airy +datum=OSGB36 +units=m +no_defs',\n",
    "                            transform=transform)\n",
    "\n",
    "new_dataset.write(ndvi_output_100, 1)\n",
    "new_dataset.close()"
   ]
  },
  {
   "cell_type": "code",
   "execution_count": 70,
   "metadata": {},
   "outputs": [
    {
     "data": {
      "text/plain": [
       "rasterio.io.DatasetWriter"
      ]
     },
     "execution_count": 70,
     "metadata": {},
     "output_type": "execute_result"
    }
   ],
   "source": [
    "# check ndvi output raster\n",
    "#new_dataset.meta\n",
    "type(new_dataset)"
   ]
  },
  {
   "cell_type": "markdown",
   "metadata": {},
   "source": [
    "4. Extract raster values at point locations"
   ]
  },
  {
   "cell_type": "code",
   "execution_count": 67,
   "metadata": {},
   "outputs": [
    {
     "data": {
      "text/plain": [
       "rasterio.io.DatasetReader"
      ]
     },
     "execution_count": 67,
     "metadata": {},
     "output_type": "execute_result"
    }
   ],
   "source": [
    "# Step 1: Get input %Greenness\n",
    "# data dir\n",
    "#data_dir = r\"thesis_project/data\"\n",
    "fp_green = os.path.join(data_dir, \"GreenNoGreenRes.TIF\")\n",
    "\n",
    "# open the file:\n",
    "green_input_raster = rasterio.open(fp_green)\n",
    "\n",
    "# check type of the variable 'raster'\n",
    "type(green_input_raster)"
   ]
  },
  {
   "cell_type": "code",
   "execution_count": 69,
   "metadata": {},
   "outputs": [
    {
     "data": {
      "text/plain": [
       "{'driver': 'GTiff',\n",
       " 'dtype': 'uint8',\n",
       " 'nodata': 255.0,\n",
       " 'width': 16000,\n",
       " 'height': 12000,\n",
       " 'count': 1,\n",
       " 'crs': CRS.from_epsg(27700),\n",
       " 'transform': Affine(5.0, 0.0, 339999.2458,\n",
       "        0.0, -5.0, 430003.9122)}"
      ]
     },
     "execution_count": 69,
     "metadata": {},
     "output_type": "execute_result"
    }
   ],
   "source": [
    "# All Metadata for the whole raster dataset\n",
    "green_input_raster.meta"
   ]
  },
  {
   "cell_type": "code",
   "execution_count": 56,
   "metadata": {},
   "outputs": [
    {
     "name": "stdout",
     "output_type": "stream",
     "text": [
      "3\n"
     ]
    }
   ],
   "source": [
    "# create NDVI layers at three different scales (100m, 300m, and 500m)\n",
    "scales = [21, 61, 101]\n",
    "#scales = [21]\n",
    "\n",
    "#ndvi_outputs = []\n",
    "greenspace_dfs = []\n",
    "\n",
    "for scale in scales:\n",
    "    \n",
    "    kernel = np.ones((scale, scale)) # build kernel \n",
    "    ndvi_output = (convolve(ndvi_input_arr, kernel) / np.sum(kernel)).ravel() # convert to 1d array\n",
    "    greenspace_df = pd.DataFrame(ndvi_output, columns=['NDVI']) # create df\n",
    "    greenspace_dfs.append(greenspace_df) # append to df list\n",
    "\n",
    "#    ndvi_outputs.append(ndvi_output)\n",
    "    \n",
    "#print(len(ndvi_outputs))\n",
    "print(len(greenspace_dfs))"
   ]
  },
  {
   "cell_type": "code",
   "execution_count": 57,
   "metadata": {},
   "outputs": [
    {
     "data": {
      "text/html": [
       "<div>\n",
       "<style scoped>\n",
       "    .dataframe tbody tr th:only-of-type {\n",
       "        vertical-align: middle;\n",
       "    }\n",
       "\n",
       "    .dataframe tbody tr th {\n",
       "        vertical-align: top;\n",
       "    }\n",
       "\n",
       "    .dataframe thead th {\n",
       "        text-align: right;\n",
       "    }\n",
       "</style>\n",
       "<table border=\"1\" class=\"dataframe\">\n",
       "  <thead>\n",
       "    <tr style=\"text-align: right;\">\n",
       "      <th></th>\n",
       "      <th>NDVI</th>\n",
       "    </tr>\n",
       "  </thead>\n",
       "  <tbody>\n",
       "    <tr>\n",
       "      <th>0</th>\n",
       "      <td>0.754154</td>\n",
       "    </tr>\n",
       "    <tr>\n",
       "      <th>1</th>\n",
       "      <td>0.754687</td>\n",
       "    </tr>\n",
       "    <tr>\n",
       "      <th>2</th>\n",
       "      <td>0.755890</td>\n",
       "    </tr>\n",
       "    <tr>\n",
       "      <th>3</th>\n",
       "      <td>0.757124</td>\n",
       "    </tr>\n",
       "    <tr>\n",
       "      <th>4</th>\n",
       "      <td>0.756698</td>\n",
       "    </tr>\n",
       "  </tbody>\n",
       "</table>\n",
       "</div>"
      ],
      "text/plain": [
       "       NDVI\n",
       "0  0.754154\n",
       "1  0.754687\n",
       "2  0.755890\n",
       "3  0.757124\n",
       "4  0.756698"
      ]
     },
     "execution_count": 57,
     "metadata": {},
     "output_type": "execute_result"
    }
   ],
   "source": [
    "# data frame NDVI at 100m\n",
    "greenspace_df_100 = greenspace_dfs[0]\n",
    "greenspace_df_100.head()"
   ]
  },
  {
   "cell_type": "code",
   "execution_count": 58,
   "metadata": {},
   "outputs": [
    {
     "data": {
      "text/html": [
       "<div>\n",
       "<style scoped>\n",
       "    .dataframe tbody tr th:only-of-type {\n",
       "        vertical-align: middle;\n",
       "    }\n",
       "\n",
       "    .dataframe tbody tr th {\n",
       "        vertical-align: top;\n",
       "    }\n",
       "\n",
       "    .dataframe thead th {\n",
       "        text-align: right;\n",
       "    }\n",
       "</style>\n",
       "<table border=\"1\" class=\"dataframe\">\n",
       "  <thead>\n",
       "    <tr style=\"text-align: right;\">\n",
       "      <th></th>\n",
       "      <th>NDVI</th>\n",
       "    </tr>\n",
       "  </thead>\n",
       "  <tbody>\n",
       "    <tr>\n",
       "      <th>0</th>\n",
       "      <td>0.747358</td>\n",
       "    </tr>\n",
       "    <tr>\n",
       "      <th>1</th>\n",
       "      <td>0.747058</td>\n",
       "    </tr>\n",
       "    <tr>\n",
       "      <th>2</th>\n",
       "      <td>0.746479</td>\n",
       "    </tr>\n",
       "    <tr>\n",
       "      <th>3</th>\n",
       "      <td>0.745983</td>\n",
       "    </tr>\n",
       "    <tr>\n",
       "      <th>4</th>\n",
       "      <td>0.745491</td>\n",
       "    </tr>\n",
       "  </tbody>\n",
       "</table>\n",
       "</div>"
      ],
      "text/plain": [
       "       NDVI\n",
       "0  0.747358\n",
       "1  0.747058\n",
       "2  0.746479\n",
       "3  0.745983\n",
       "4  0.745491"
      ]
     },
     "execution_count": 58,
     "metadata": {},
     "output_type": "execute_result"
    }
   ],
   "source": [
    "# data frame NDVI at 300m\n",
    "greenspace_df_300 = greenspace_dfs[1]\n",
    "greenspace_df_300.head()"
   ]
  },
  {
   "cell_type": "code",
   "execution_count": 59,
   "metadata": {},
   "outputs": [
    {
     "data": {
      "text/html": [
       "<div>\n",
       "<style scoped>\n",
       "    .dataframe tbody tr th:only-of-type {\n",
       "        vertical-align: middle;\n",
       "    }\n",
       "\n",
       "    .dataframe tbody tr th {\n",
       "        vertical-align: top;\n",
       "    }\n",
       "\n",
       "    .dataframe thead th {\n",
       "        text-align: right;\n",
       "    }\n",
       "</style>\n",
       "<table border=\"1\" class=\"dataframe\">\n",
       "  <thead>\n",
       "    <tr style=\"text-align: right;\">\n",
       "      <th></th>\n",
       "      <th>NDVI</th>\n",
       "    </tr>\n",
       "  </thead>\n",
       "  <tbody>\n",
       "    <tr>\n",
       "      <th>0</th>\n",
       "      <td>0.668690</td>\n",
       "    </tr>\n",
       "    <tr>\n",
       "      <th>1</th>\n",
       "      <td>0.668646</td>\n",
       "    </tr>\n",
       "    <tr>\n",
       "      <th>2</th>\n",
       "      <td>0.668888</td>\n",
       "    </tr>\n",
       "    <tr>\n",
       "      <th>3</th>\n",
       "      <td>0.669157</td>\n",
       "    </tr>\n",
       "    <tr>\n",
       "      <th>4</th>\n",
       "      <td>0.669527</td>\n",
       "    </tr>\n",
       "  </tbody>\n",
       "</table>\n",
       "</div>"
      ],
      "text/plain": [
       "       NDVI\n",
       "0  0.668690\n",
       "1  0.668646\n",
       "2  0.668888\n",
       "3  0.669157\n",
       "4  0.669527"
      ]
     },
     "execution_count": 59,
     "metadata": {},
     "output_type": "execute_result"
    }
   ],
   "source": [
    "# data frame NDVI at 500m\n",
    "greenspace_df_500 = greenspace_dfs[2]\n",
    "greenspace_df_500.head()"
   ]
  },
  {
   "cell_type": "code",
   "execution_count": 53,
   "metadata": {},
   "outputs": [
    {
     "data": {
      "text/plain": [
       "(44561241,)"
      ]
     },
     "execution_count": 53,
     "metadata": {},
     "output_type": "execute_result"
    }
   ],
   "source": [
    "ndvi_output_100.shape"
   ]
  },
  {
   "cell_type": "code",
   "execution_count": 33,
   "metadata": {},
   "outputs": [
    {
     "data": {
      "text/plain": [
       "441.0"
      ]
     },
     "execution_count": 33,
     "metadata": {},
     "output_type": "execute_result"
    }
   ],
   "source": [
    "# check sum of kernel (denominator of average operation)\n",
    "np.sum(scale_100)"
   ]
  },
  {
   "cell_type": "code",
   "execution_count": 34,
   "metadata": {},
   "outputs": [
    {
     "data": {
      "text/plain": [
       "(5987, 7443)"
      ]
     },
     "execution_count": 34,
     "metadata": {},
     "output_type": "execute_result"
    }
   ],
   "source": [
    "# output map of averaged neighbour\n",
    "#output_map_100\n",
    "ndvi_output_100.shape"
   ]
  },
  {
   "cell_type": "markdown",
   "metadata": {},
   "source": [
    "**DRAFT**"
   ]
  },
  {
   "cell_type": "code",
   "execution_count": 48,
   "metadata": {},
   "outputs": [
    {
     "data": {
      "text/plain": [
       "(44561241,)"
      ]
     },
     "execution_count": 48,
     "metadata": {},
     "output_type": "execute_result"
    }
   ],
   "source": [
    "ndvi_output_100_1d = ndvi_output_100.ravel()\n",
    "ndvi_output_100_1d.shape"
   ]
  },
  {
   "cell_type": "code",
   "execution_count": 36,
   "metadata": {},
   "outputs": [
    {
     "data": {
      "text/plain": [
       "array([ 0.5321067 ,  0.49312577,  0.6024407 ,  0.46361962,  0.5726831 ,\n",
       "        0.51598865,  0.73149955,  0.37032697,  0.5522508 ,  0.50234264,\n",
       "        0.65675926,  0.43822482,  0.68798816,  0.55864656,  0.5882455 ,\n",
       "        0.15388723,  0.3068263 ,  0.5331158 ,  0.70567346,  0.6178858 ,\n",
       "        0.6112739 ,  0.6388109 ,  0.48111692,  0.43576893,  0.56005317,\n",
       "        0.2435806 ,  0.7249661 ,  0.41961008,  0.49273118,  0.7204542 ,\n",
       "        0.55228615,  0.7226849 ,  0.72932744,  0.5088997 ,  0.4124835 ,\n",
       "        0.23340541,  0.41825143,  0.542702  ,  0.37826246,  0.52238214,\n",
       "        0.5915935 ,  0.65983987,  0.5584354 ,  0.72806144,  0.44634473,\n",
       "        0.7342117 ,  0.63798326,  0.30763182,  0.45787397,  0.36749846,\n",
       "        0.5860451 ,  0.5985585 ,  0.63174736,  0.39039016,  0.30227262,\n",
       "        0.15829873,  0.3264552 ,  0.58864754,  0.39561763,  0.6275784 ,\n",
       "        0.660751  ,  0.77967143,  0.16108127,  0.6841988 ,  0.6677631 ,\n",
       "        0.32129216,  0.3798714 ,  0.73147833,  0.40116498,  0.3490896 ,\n",
       "        0.5237527 ,  0.52846766,  0.57163453,  0.7253443 ,  0.584474  ,\n",
       "        0.3232592 ,  0.6800517 ,  0.57868814,  0.67080015,  0.38459045,\n",
       "        0.6481791 ,  0.39073893,  0.12274179,  0.15202153,  0.5131949 ,\n",
       "        0.69238704,  0.35881177,  0.12129002,  0.280925  ,  0.23493914,\n",
       "        0.43779978,  0.4190669 ,  0.33480603,  0.7541632 ,  0.46026728,\n",
       "        0.32993197,  0.4939902 ,  0.666482  ,  0.64805484,  0.3819959 ,\n",
       "        0.7740435 ,  0.52401686,  0.28926352,  0.47621366,  0.40407148,\n",
       "        0.6791143 ,  0.48143205,  0.4307116 ,  0.79500467,  0.6916134 ,\n",
       "        0.64274955,  0.5441478 ,  0.1585512 ,  0.41261986,  0.5995613 ,\n",
       "        0.45670065,  0.62105453,  0.34552968,  0.40868366,  0.6450822 ,\n",
       "        0.7621418 ,  0.7292046 ,  0.52457494,  0.35870615,  0.61309355,\n",
       "        0.43239662,  0.63777906,  0.4842841 ,  0.39206335,  0.40601805,\n",
       "        0.42835727,  0.2668044 ,  0.44998127,  0.39095187,  0.54945   ,\n",
       "        0.6979849 ,  0.31001514,  0.409222  ,  0.7281671 ,  0.2807188 ,\n",
       "        0.65499175,  0.44493172,  0.6358471 ,  0.14756575,  0.6448965 ,\n",
       "        0.11691231,  0.7511164 ,  0.75320375,  0.5665841 ,  0.7215099 ,\n",
       "        0.35539225,  0.42409348,  0.53504884,  0.26825786,  0.42176947,\n",
       "        0.31963092,  0.53683174,  0.347156  ,  0.45399535,  0.57937485,\n",
       "        0.37147805,  0.50892115,  0.46598154,  0.7136672 ,  0.69768095,\n",
       "        0.73651046,  0.44886315,  0.71635944,  0.7174406 ,  0.6029547 ,\n",
       "        0.8061114 ,  0.5293379 ,  0.6706252 ,  0.3881857 ,  0.30123946,\n",
       "        0.297711  ,  0.60882586,  0.75170565,  0.7145495 ,  0.2540375 ,\n",
       "        0.62408537,  0.58160174,  0.5956593 ,  0.450274  ,  0.71474475,\n",
       "        0.42558122,  0.5972409 ,  0.425014  ,  0.31041205,  0.362016  ,\n",
       "        0.44213256,  0.43023792,  0.5466653 ,  0.31185055,  0.1497925 ,\n",
       "        0.7265441 ,  0.15491393,  0.6789665 ,  0.42304885,  0.63410115,\n",
       "        0.5373663 ,  0.38606346,  0.70909905,  0.43339586,  0.3842863 ,\n",
       "        0.6752497 ,  0.67210436,  0.531941  ,  0.6630099 ,  0.58084655,\n",
       "        0.5915196 ,  0.50777376,  0.45351055,  0.32726187,  0.667602  ,\n",
       "        0.6079234 ,  0.38926008,  0.52542174,  0.6585148 ,  0.7521646 ,\n",
       "        0.77164173,  0.1739717 ,  0.7083662 ,  0.56657857,  0.4097626 ,\n",
       "        0.36421633,  0.69841516,  0.45867324,  0.56447697,  0.7258054 ,\n",
       "        0.4504901 ,  0.6497604 ,  0.4743429 ,  0.5650455 ,  0.4515044 ,\n",
       "        0.6877431 ,  0.68877524,  0.60967547,  0.5353294 ,  0.7407097 ,\n",
       "        0.43690613,  0.6782669 ,  0.47937867,  0.65297425,  0.43775827,\n",
       "        0.68512356,  0.47667456,  0.62538743,  0.4553223 ,  0.6834638 ,\n",
       "        0.700141  ,  0.43156728,  0.6542961 ,  0.51732117,  0.4404776 ,\n",
       "        0.44268504,  0.42444533,  0.3853177 ,  0.44608077,  0.25531885,\n",
       "        0.5996739 ,  0.4800612 ,  0.6179788 ,  0.08005823,  0.41639662,\n",
       "        0.6784694 ,  0.62010705,  0.43614146,  0.53636396,  0.4879337 ,\n",
       "        0.505238  ,  0.41239753,  0.55346   ,  0.72732705,  0.34399995,\n",
       "        0.6268512 ,  0.39937246,  0.6188153 ,  0.47873485,  0.73983324,\n",
       "        0.6485642 ,  0.5002883 ,  0.66539055,  0.2890137 ,  0.70224756,\n",
       "        0.35129008,  0.72822   ,  0.6873941 ,  0.56917226,  0.48100024,\n",
       "        0.56123644,  0.26958373,  0.6222291 ,  0.3221298 ,  0.46080205,\n",
       "        0.46727476,  0.6704027 ,  0.6395912 ,  0.63088423,  0.456781  ,\n",
       "        0.4853507 ,  0.54534054,  0.5549652 ,  0.46406847,  0.73133785,\n",
       "        0.28188652,  0.67656344,  0.38356623,  0.33160958,  0.6894277 ,\n",
       "        0.5184437 ,  0.443234  ,  0.39635867,  0.59132534,  0.4609018 ,\n",
       "        0.5245877 ,  0.6223305 ,  0.771402  ,  0.6588311 ,  0.66772   ,\n",
       "        0.5052484 ,  0.553459  ,  0.48135626,  0.4112389 ,  0.39514983,\n",
       "        0.6221751 , -0.02342086,  0.44920668, -0.04003311,  0.6289653 ,\n",
       "        0.50575143,  0.38127974,  0.72226715,  0.61246413,  0.5978757 ,\n",
       "        0.54575986,  0.5776372 ,  0.3651954 ,  0.6611724 ,  0.50433856,\n",
       "        0.3612587 ,  0.4846077 ,  0.57318926,  0.6254581 ,  0.70804924,\n",
       "        0.5921853 ,  0.23858693,  0.4996691 ,  0.24241185,  0.614922  ,\n",
       "        0.3491206 ,  0.35286123,  0.3102144 ,  0.73678464,  0.22374533,\n",
       "        0.7327735 ,  0.7493309 ,  0.6980002 ,  0.23231618,  0.7352161 ,\n",
       "        0.5171868 ,  0.2543407 ,  0.6366976 ,  0.39531323,  0.5660136 ,\n",
       "        0.52927184,  0.3985113 ,  0.7013608 ,  0.56330824,  0.5128267 ,\n",
       "        0.46592975,  0.19792877,  0.51433   ,  0.6675535 ,  0.68713653,\n",
       "        0.41268748,  0.65860724,  0.5337949 ,  0.6791793 ,  0.49249867,\n",
       "        0.48932654,  0.49395844,  0.35090145,  0.5283763 ,  0.6469793 ,\n",
       "        0.5005244 ,  0.33356732,  0.59225404,  0.6284076 ,  0.6102048 ,\n",
       "        0.61591005,  0.29525736,  0.688995  ,  0.4690662 ,  0.48177263,\n",
       "        0.37506807,  0.38250157,  0.56661123,  0.68729806,  0.34566632,\n",
       "        0.36753252,  0.58676934,  0.6417826 ,  0.67434853,  0.71542835,\n",
       "        0.76641536,  0.7625315 ,  0.73234254,  0.6173805 ,  0.56990445,\n",
       "        0.49066657,  0.5212647 ,  0.41441566,  0.5902036 ,  0.4583093 ,\n",
       "        0.57936156,  0.24304603,  0.4019166 ,  0.43477675,  0.19972764,\n",
       "        0.6583445 ,  0.18202291,  0.690908  ,  0.62783915,  0.7102538 ,\n",
       "        0.37849894,  0.44669756,  0.31916556,  0.26321152,  0.5041514 ,\n",
       "        0.41454306,  0.72878265,  0.6938962 ,  0.63856524,  0.43556905,\n",
       "        0.56415856,  0.20889382,  0.5093087 ,  0.34906706,  0.5501688 ,\n",
       "        0.52313256,  0.6062141 ,  0.6377022 ,  0.36055085,  0.18014024,\n",
       "        0.55178434,  0.48841864,  0.5352954 ,  0.46350875,  0.7275933 ,\n",
       "        0.78682154,  0.22091879,  0.3273495 ,  0.6594651 ,  0.3848289 ,\n",
       "        0.5503298 ,  0.7453016 ,  0.61090994,  0.43995932,  0.41549486,\n",
       "        0.72353745,  0.58289826,  0.20039766,  0.6137161 ,  0.28826123,\n",
       "        0.48085907,  0.3505371 ,  0.5255291 ,  0.44972214,  0.5542598 ,\n",
       "        0.29874307,  0.34350026,  0.5155291 ,  0.7452117 ,  0.629735  ,\n",
       "        0.290024  ,  0.69286776,  0.6379758 ,  0.73392737,  0.28231236,\n",
       "        0.725052  ,  0.6347141 ,  0.43005526,  0.4159857 ,  0.7604146 ,\n",
       "        0.40896434,  0.63689506,  0.72615105,  0.29714605,  0.6852866 ,\n",
       "        0.628465  ,  0.6804559 ,  0.67521983,  0.05965958,  0.5728301 ,\n",
       "        0.4291253 ,  0.55460304,  0.27346116,  0.60679996,  0.60542506,\n",
       "        0.70320237,  0.68010277,  0.5079598 ,  0.48783875,  0.14329949,\n",
       "        0.37439585,  0.5705878 ,  0.2745734 ,  0.4935653 ,  0.42432538,\n",
       "        0.36554575,  0.3367557 ,  0.26892594,  0.7540484 ,  0.44503734,\n",
       "        0.18559495,  0.48395923,  0.46740252,  0.4339183 ,  0.5695703 ,\n",
       "        0.5381226 ,  0.5621016 ,  0.5734192 ,  0.6464375 ,  0.39534792,\n",
       "        0.28947487,  0.46282575,  0.6962576 ,  0.65779775,  0.57027096,\n",
       "        0.6487564 ,  0.26056674,  0.5093563 ,  0.30961773,  0.43789634,\n",
       "        0.24667722,  0.7623913 ,  0.48396116,  0.58741343,  0.49656937,\n",
       "        0.3534086 ,  0.394941  ,  0.4251067 ,  0.4731458 ,  0.69540423,\n",
       "        0.3268075 ,  0.33999735,  0.36239737,  0.30724818,  0.5918064 ,\n",
       "        0.52244794,  0.29747915,  0.3655455 ,  0.51587033,  0.66370106,\n",
       "        0.46989182,  0.7162389 ,  0.4522432 ,  0.7004808 ,  0.7382214 ,\n",
       "        0.50996464,  0.37016705,  0.17222808,  0.7129366 ,  0.5461418 ,\n",
       "        0.6624937 ,  0.43418112,  0.59657174,  0.42560375,  0.68341756,\n",
       "        0.09746919,  0.71547127,  0.33119488,  0.47646785,  0.56932485,\n",
       "        0.4167968 ,  0.61496913,  0.51948655,  0.5399797 ,  0.27375162,\n",
       "        0.50222725,  0.7042158 ,  0.25991064,  0.5157755 ,  0.1745817 ,\n",
       "        0.5764423 ,  0.23296335,  0.53726715,  0.67076576,  0.22550839,\n",
       "        0.38036916,  0.6340802 ,  0.50519705,  0.289467  ,  0.3709506 ,\n",
       "        0.70848876,  0.43701023,  0.4564362 ,  0.28628412,  0.77300173,\n",
       "        0.37805963,  0.50273544,  0.5149169 ,  0.38175252,  0.4051256 ,\n",
       "        0.71232843,  0.34499815,  0.4866232 ,  0.3179917 ,  0.31316277,\n",
       "        0.34911048,  0.48546204,  0.5011782 ,  0.47710952,  0.23429652,\n",
       "        0.59426415,  0.36121747,  0.6438776 ,  0.713326  ,  0.47748053,\n",
       "        0.5822874 ,  0.36708742,  0.4761146 ,  0.41780713,  0.22772071,\n",
       "        0.40404493,  0.47005245,  0.6523377 ,  0.72135633,  0.66082627,\n",
       "        0.38051397,  0.70306486,  0.29225275,  0.47220278,  0.46233663,\n",
       "        0.12171102,  0.39772382,  0.45430425,  0.63578725,  0.67590004,\n",
       "        0.40066642,  0.28756613,  0.6056988 ,  0.678998  ,  0.73635244,\n",
       "        0.6282613 ,  0.26670113,  0.19148976,  0.42753953,  0.41066986,\n",
       "        0.6847575 ,  0.6160023 ,  0.57694316,  0.45828888,  0.6183278 ,\n",
       "        0.6057417 , -0.00447139,  0.7833518 ,  0.5231514 ,  0.49350688,\n",
       "        0.7236647 ,  0.6341488 ,  0.6938145 ,  0.6254649 ,  0.29069436,\n",
       "        0.38036788,  0.18635958,  0.61970717,  0.6583342 ,  0.7497951 ,\n",
       "        0.5066173 ,  0.71528053,  0.3061683 ,  0.65704423,  0.58618826,\n",
       "        0.69899714,  0.41320395,  0.4014434 ,  0.47664055,  0.6787422 ,\n",
       "        0.31928572,  0.59897524,  0.7133218 ,  0.5156748 ,  0.7427693 ,\n",
       "        0.7253195 ,  0.6883407 ,  0.52073586,  0.6471223 ,  0.52575004,\n",
       "        0.45068404,  0.6074765 ,  0.7163638 ,  0.3094618 ,  0.492445  ,\n",
       "        0.62716115,  0.48537523,  0.35809216,  0.50357515,  0.50283164,\n",
       "        0.59331596,  0.4667769 ,  0.41336975,  0.47206023,  0.48946416,\n",
       "        0.57525134,  0.51811534,  0.5378135 ,  0.5154663 ,  0.25226215,\n",
       "        0.69226086,  0.48047426,  0.40561992,  0.5565035 ,  0.5090836 ,\n",
       "        0.662171  ,  0.38594228,  0.32362765,  0.5109905 ,  0.62925947,\n",
       "        0.5492563 ,  0.38815325,  0.66765034,  0.43129906,  0.5085074 ,\n",
       "        0.58031136,  0.4408763 ,  0.36467153,  0.42757484,  0.6034239 ,\n",
       "        0.683954  ,  0.66812646,  0.6900647 ,  0.18071337,  0.5941208 ,\n",
       "        0.6082296 ,  0.69583386,  0.32940936,  0.7110428 ,  0.5464771 ,\n",
       "        0.6827939 ,  0.72667795,  0.39611855,  0.592948  ,  0.67580074,\n",
       "        0.46193343,  0.50817513,  0.5254789 ,  0.43490922,  0.460201  ,\n",
       "        0.6865144 ,  0.588519  ,  0.57401127,  0.6405012 ,  0.6288571 ,\n",
       "        0.4115807 ,  0.5335427 ,  0.7638425 ,  0.7294521 ,  0.60761094,\n",
       "        0.6112624 ,  0.6947598 ,  0.31304365,  0.512497  ,  0.65882427,\n",
       "        0.74192363,  0.4316882 ,  0.4039014 ,  0.2397215 ,  0.5514215 ,\n",
       "        0.6759603 ,  0.56501746,  0.62776554,  0.3367153 ,  0.42135563,\n",
       "        0.3857232 ,  0.6731916 ,  0.45004612,  0.72422993,  0.64440435,\n",
       "        0.42059246,  0.6862833 ,  0.3819942 ,  0.38986176,  0.61822546,\n",
       "        0.5027707 ,  0.32291362,  0.46724865,  0.4547598 ,  0.65901   ,\n",
       "        0.427941  ,  0.53616476,  0.65051347,  0.4791081 ,  0.6658663 ,\n",
       "        0.7530227 ,  0.6371558 ,  0.5223844 ,  0.53571767,  0.6000681 ,\n",
       "        0.481187  ,  0.6499018 ,  0.7215508 ,  0.26056105,  0.77730805,\n",
       "        0.68728113,  0.40499705,  0.51991385,  0.5977836 ,  0.4205328 ,\n",
       "        0.44192153,  0.42019197,  0.6859347 ,  0.19093417,  0.4036057 ,\n",
       "        0.658623  ,  0.5454828 ,  0.5169795 ,  0.666252  ,  0.58554983,\n",
       "        0.36596987,  0.4773517 ,  0.73217547,  0.49468774,  0.71094525,\n",
       "        0.5723988 ,  0.48530015,  0.49593338,  0.27801514,  0.37576097,\n",
       "        0.5317276 ,  0.81219155,  0.6314513 ,  0.251951  ,  0.5418337 ,\n",
       "        0.5814663 ,  0.4307101 ,  0.62421256,  0.61115485,  0.4544983 ,\n",
       "        0.3516845 ,  0.76239145,  0.49667168,  0.20097725,  0.3945467 ,\n",
       "        0.58610934,  0.26692823,  0.24701832,  0.64496326,  0.47100955,\n",
       "        0.50790066,  0.5366443 ,  0.10216571,  0.43540463,  0.34660217,\n",
       "        0.6784483 ,  0.6406056 ,  0.21323994,  0.319952  ,  0.66072464,\n",
       "        0.54889286,  0.67384005,  0.73780483,  0.18537591,  0.40835783,\n",
       "        0.39038816,  0.5340644 ,  0.6789955 ,  0.6751931 ,  0.4271179 ,\n",
       "        0.4349737 ,  0.30657887,  0.42015433,  0.4995672 ,  0.51748025,\n",
       "        0.25994363,  0.65457803,  0.2326498 ,  0.6737169 ,  0.41450122,\n",
       "        0.67291915,  0.10589175,  0.7356749 ,  0.63999474,  0.46345755,\n",
       "        0.65283805,  0.7234182 ,  0.5428986 ,  0.6206931 ,  0.67585826,\n",
       "        0.5568258 ,  0.69114846,  0.6560428 ,  0.23622227,  0.6376331 ,\n",
       "        0.49286622,  0.7922415 ,  0.710335  ,  0.29636997,  0.58373046,\n",
       "        0.75954556,  0.72444665,  0.5256348 ,  0.5948562 ,  0.50640404,\n",
       "        0.42225438,  0.51767564,  0.38501963,  0.42155194,  0.7333938 ,\n",
       "        0.3643851 ,  0.62676144,  0.37486404,  0.49063265,  0.7373338 ,\n",
       "        0.45089507,  0.52471894,  0.5899632 ,  0.32950637,  0.5672095 ,\n",
       "        0.11630032,  0.45157886,  0.37374434,  0.6858661 ,  0.38667625,\n",
       "        0.7258637 ,  0.6117189 ,  0.4649203 ,  0.35134044,  0.41221282,\n",
       "        0.5543781 ,  0.6182697 ,  0.24498305,  0.43260047,  0.4980006 ,\n",
       "        0.35801032,  0.59844464,  0.6097419 ,  0.69206613,  0.3661717 ,\n",
       "        0.31537044,  0.44954306,  0.64830923,  0.381382  ,  0.46378782,\n",
       "        0.2365148 ,  0.7049735 ,  0.4734256 ,  0.42019632,  0.5110886 ,\n",
       "        0.7738926 ,  0.7376339 ,  0.21432097,  0.44000655,  0.3105176 ,\n",
       "        0.47674182,  0.5846696 ,  0.6918004 ,  0.38443184,  0.50272053,\n",
       "        0.34817886,  0.1538111 ,  0.5864391 ,  0.37837073,  0.55641323,\n",
       "        0.31766677,  0.71878403,  0.6133117 ,  0.6376374 ,  0.556249  ,\n",
       "        0.17993508,  0.26145628,  0.40068036,  0.3255729 ,  0.4659435 ,\n",
       "        0.43123803,  0.6914809 ,  0.5192077 ,  0.6401447 ,  0.501248  ,\n",
       "        0.72234094,  0.6437743 ,  0.40938982,  0.43827102,  0.6664569 ,\n",
       "        0.6456296 ,  0.49279556,  0.30631864,  0.72293174,  0.33590105,\n",
       "        0.3862609 ,  0.283108  ,  0.65959567,  0.14235719,  0.67451715,\n",
       "        0.5457681 ,  0.5816782 ,  0.2285656 ,  0.6157834 ,  0.4738298 ],\n",
       "      dtype=float32)"
      ]
     },
     "execution_count": 36,
     "metadata": {},
     "output_type": "execute_result"
    }
   ],
   "source": [
    "# randomly sample 1000 points from 2d array\n",
    "np.random.seed(1234) #set seed\n",
    "ndvi_points_100 = np.random.choice(ndvi_output_100.ravel(), 1000 ,replace=False)\n",
    "ndvi_points_100"
   ]
  },
  {
   "cell_type": "markdown",
   "metadata": {},
   "source": [
    "5. Store NDVI values for 1000 points into a df"
   ]
  },
  {
   "cell_type": "code",
   "execution_count": 37,
   "metadata": {},
   "outputs": [
    {
     "data": {
      "text/html": [
       "<div>\n",
       "<style scoped>\n",
       "    .dataframe tbody tr th:only-of-type {\n",
       "        vertical-align: middle;\n",
       "    }\n",
       "\n",
       "    .dataframe tbody tr th {\n",
       "        vertical-align: top;\n",
       "    }\n",
       "\n",
       "    .dataframe thead th {\n",
       "        text-align: right;\n",
       "    }\n",
       "</style>\n",
       "<table border=\"1\" class=\"dataframe\">\n",
       "  <thead>\n",
       "    <tr style=\"text-align: right;\">\n",
       "      <th></th>\n",
       "      <th>NDVI</th>\n",
       "    </tr>\n",
       "  </thead>\n",
       "  <tbody>\n",
       "    <tr>\n",
       "      <th>0</th>\n",
       "      <td>0.532107</td>\n",
       "    </tr>\n",
       "    <tr>\n",
       "      <th>1</th>\n",
       "      <td>0.493126</td>\n",
       "    </tr>\n",
       "    <tr>\n",
       "      <th>2</th>\n",
       "      <td>0.602441</td>\n",
       "    </tr>\n",
       "    <tr>\n",
       "      <th>3</th>\n",
       "      <td>0.463620</td>\n",
       "    </tr>\n",
       "    <tr>\n",
       "      <th>4</th>\n",
       "      <td>0.572683</td>\n",
       "    </tr>\n",
       "    <tr>\n",
       "      <th>...</th>\n",
       "      <td>...</td>\n",
       "    </tr>\n",
       "    <tr>\n",
       "      <th>995</th>\n",
       "      <td>0.545768</td>\n",
       "    </tr>\n",
       "    <tr>\n",
       "      <th>996</th>\n",
       "      <td>0.581678</td>\n",
       "    </tr>\n",
       "    <tr>\n",
       "      <th>997</th>\n",
       "      <td>0.228566</td>\n",
       "    </tr>\n",
       "    <tr>\n",
       "      <th>998</th>\n",
       "      <td>0.615783</td>\n",
       "    </tr>\n",
       "    <tr>\n",
       "      <th>999</th>\n",
       "      <td>0.473830</td>\n",
       "    </tr>\n",
       "  </tbody>\n",
       "</table>\n",
       "<p>1000 rows × 1 columns</p>\n",
       "</div>"
      ],
      "text/plain": [
       "         NDVI\n",
       "0    0.532107\n",
       "1    0.493126\n",
       "2    0.602441\n",
       "3    0.463620\n",
       "4    0.572683\n",
       "..        ...\n",
       "995  0.545768\n",
       "996  0.581678\n",
       "997  0.228566\n",
       "998  0.615783\n",
       "999  0.473830\n",
       "\n",
       "[1000 rows x 1 columns]"
      ]
     },
     "execution_count": 37,
     "metadata": {},
     "output_type": "execute_result"
    }
   ],
   "source": [
    "# creating a df from array\n",
    "greenspace_metrics_100 = pd.DataFrame(ndvi_points_100, columns=['NDVI'])\n",
    "#greenspace_metrics_100.head()\n",
    "greenspace_metrics_100"
   ]
  },
  {
   "cell_type": "markdown",
   "metadata": {},
   "source": [
    "Here, repeat again the same process but with %greenness"
   ]
  },
  {
   "cell_type": "markdown",
   "metadata": {},
   "source": [
    "6. Read %Greenness input file"
   ]
  },
  {
   "cell_type": "code",
   "execution_count": 25,
   "metadata": {},
   "outputs": [],
   "source": [
    "# reading raster file using gdal\n",
    "green_input_map = gdal.Open(\"thesis_project/data/GreenNoGreenRes.tif\")"
   ]
  },
  {
   "cell_type": "markdown",
   "metadata": {},
   "source": [
    "7. Applying focal statistics to %greenness input map at 100m scale"
   ]
  },
  {
   "cell_type": "code",
   "execution_count": 38,
   "metadata": {},
   "outputs": [
    {
     "data": {
      "text/plain": [
       "(12000, 16000)"
      ]
     },
     "execution_count": 38,
     "metadata": {},
     "output_type": "execute_result"
    }
   ],
   "source": [
    "# convert input map to array\n",
    "green_input_arr = np.array(green_input_map.GetRasterBand(1).ReadAsArray())\n",
    "#green_input_arr\n",
    "green_input_arr.shape"
   ]
  },
  {
   "cell_type": "code",
   "execution_count": 23,
   "metadata": {},
   "outputs": [
    {
     "data": {
      "text/plain": [
       "(21, 21)"
      ]
     },
     "execution_count": 23,
     "metadata": {},
     "output_type": "execute_result"
    }
   ],
   "source": [
    "# fix kernel shape to 100m scale (21x21)\n",
    "scale_100 = np.ones((21, 21))\n",
    "#scale_100\n",
    "scale_100.shape"
   ]
  },
  {
   "cell_type": "code",
   "execution_count": 27,
   "metadata": {},
   "outputs": [],
   "source": [
    "# convolve greenness input map with kernel 100m (equivalent to percentage operation)\n",
    "green_output_100 = convolve(green_input_arr, scale_100) / np.sum(scale_100) # mode=reflect to extend input beyond its boundaries\n"
   ]
  },
  {
   "cell_type": "markdown",
   "metadata": {},
   "source": [
    "8. Output layer averaged at 100m scale"
   ]
  },
  {
   "cell_type": "code",
   "execution_count": 39,
   "metadata": {},
   "outputs": [
    {
     "data": {
      "text/plain": [
       "array([[0.41723356, 0.41496599, 0.41269841, ..., 0.3106576 , 0.30839002,\n",
       "        0.30839002],\n",
       "       [0.41496599, 0.41043084, 0.40589569, ..., 0.30385488, 0.29931973,\n",
       "        0.29931973],\n",
       "       [0.3968254 , 0.39455782, 0.39229025, ..., 0.3106576 , 0.30385488,\n",
       "        0.3015873 ],\n",
       "       ...,\n",
       "       [0.41950113, 0.41950113, 0.41950113, ..., 0.41950113, 0.41950113,\n",
       "        0.41950113],\n",
       "       [0.41950113, 0.41950113, 0.41950113, ..., 0.41950113, 0.41950113,\n",
       "        0.41950113],\n",
       "       [0.41950113, 0.41950113, 0.41950113, ..., 0.41950113, 0.41950113,\n",
       "        0.41950113]])"
      ]
     },
     "execution_count": 39,
     "metadata": {},
     "output_type": "execute_result"
    }
   ],
   "source": [
    "# greenness output map after performing focal statistics\n",
    "green_output_100\n",
    "#green_output_100.shape"
   ]
  },
  {
   "cell_type": "markdown",
   "metadata": {},
   "source": [
    "10. Store %greenness values for 1000 points into a df"
   ]
  },
  {
   "cell_type": "code",
   "execution_count": 41,
   "metadata": {},
   "outputs": [
    {
     "data": {
      "text/html": [
       "<div>\n",
       "<style scoped>\n",
       "    .dataframe tbody tr th:only-of-type {\n",
       "        vertical-align: middle;\n",
       "    }\n",
       "\n",
       "    .dataframe tbody tr th {\n",
       "        vertical-align: top;\n",
       "    }\n",
       "\n",
       "    .dataframe thead th {\n",
       "        text-align: right;\n",
       "    }\n",
       "</style>\n",
       "<table border=\"1\" class=\"dataframe\">\n",
       "  <thead>\n",
       "    <tr style=\"text-align: right;\">\n",
       "      <th></th>\n",
       "      <th>NDVI</th>\n",
       "      <th>%Greenness</th>\n",
       "    </tr>\n",
       "  </thead>\n",
       "  <tbody>\n",
       "    <tr>\n",
       "      <th>0</th>\n",
       "      <td>0.532107</td>\n",
       "      <td>0.419501</td>\n",
       "    </tr>\n",
       "    <tr>\n",
       "      <th>1</th>\n",
       "      <td>0.493126</td>\n",
       "      <td>0.000000</td>\n",
       "    </tr>\n",
       "    <tr>\n",
       "      <th>2</th>\n",
       "      <td>0.602441</td>\n",
       "      <td>0.419501</td>\n",
       "    </tr>\n",
       "    <tr>\n",
       "      <th>3</th>\n",
       "      <td>0.463620</td>\n",
       "      <td>0.419501</td>\n",
       "    </tr>\n",
       "    <tr>\n",
       "      <th>4</th>\n",
       "      <td>0.572683</td>\n",
       "      <td>0.356009</td>\n",
       "    </tr>\n",
       "    <tr>\n",
       "      <th>...</th>\n",
       "      <td>...</td>\n",
       "      <td>...</td>\n",
       "    </tr>\n",
       "    <tr>\n",
       "      <th>995</th>\n",
       "      <td>0.545768</td>\n",
       "      <td>0.419501</td>\n",
       "    </tr>\n",
       "    <tr>\n",
       "      <th>996</th>\n",
       "      <td>0.581678</td>\n",
       "      <td>0.419501</td>\n",
       "    </tr>\n",
       "    <tr>\n",
       "      <th>997</th>\n",
       "      <td>0.228566</td>\n",
       "      <td>0.419501</td>\n",
       "    </tr>\n",
       "    <tr>\n",
       "      <th>998</th>\n",
       "      <td>0.615783</td>\n",
       "      <td>0.410431</td>\n",
       "    </tr>\n",
       "    <tr>\n",
       "      <th>999</th>\n",
       "      <td>0.473830</td>\n",
       "      <td>0.419501</td>\n",
       "    </tr>\n",
       "  </tbody>\n",
       "</table>\n",
       "<p>1000 rows × 2 columns</p>\n",
       "</div>"
      ],
      "text/plain": [
       "         NDVI  %Greenness\n",
       "0    0.532107    0.419501\n",
       "1    0.493126    0.000000\n",
       "2    0.602441    0.419501\n",
       "3    0.463620    0.419501\n",
       "4    0.572683    0.356009\n",
       "..        ...         ...\n",
       "995  0.545768    0.419501\n",
       "996  0.581678    0.419501\n",
       "997  0.228566    0.419501\n",
       "998  0.615783    0.410431\n",
       "999  0.473830    0.419501\n",
       "\n",
       "[1000 rows x 2 columns]"
      ]
     },
     "execution_count": 41,
     "metadata": {},
     "output_type": "execute_result"
    }
   ],
   "source": [
    "# adding values to data frame\n",
    "greenspace_metrics_100['%Greenness'] = green_points_100\n",
    "#greenspace_metrics_100.head()\n",
    "greenspace_metrics_100"
   ]
  },
  {
   "cell_type": "markdown",
   "metadata": {},
   "source": [
    "9. Sample 1000 points and extract %greenness values"
   ]
  },
  {
   "cell_type": "code",
   "execution_count": 40,
   "metadata": {},
   "outputs": [
    {
     "data": {
      "text/plain": [
       "array([0.41950113, 0.        , 0.41950113, 0.41950113, 0.35600907,\n",
       "       0.21315193, 0.41950113, 0.11111111, 0.51927438, 0.41950113,\n",
       "       0.47845805, 0.41950113, 0.0861678 , 0.41950113, 0.33333333,\n",
       "       0.41950113, 0.41950113, 0.41950113, 0.41950113, 0.13378685,\n",
       "       0.41950113, 0.41950113, 0.41950113, 0.41950113, 0.3015873 ,\n",
       "       0.41950113, 0.41950113, 0.41950113, 0.41950113, 0.41950113,\n",
       "       0.26077098, 0.41950113, 0.33786848, 0.41950113, 0.41950113,\n",
       "       0.41950113, 0.4399093 , 0.29705215, 0.41950113, 0.37414966,\n",
       "       0.41950113, 0.41950113, 0.26303855, 0.41950113, 0.41950113,\n",
       "       0.41950113, 0.22675737, 0.41950113, 0.41950113, 0.41950113,\n",
       "       0.1292517 , 0.41950113, 0.20408163, 0.41950113, 0.41950113,\n",
       "       0.41950113, 0.38548753, 0.25623583, 0.12471655, 0.41043084,\n",
       "       0.31972789, 0.41950113, 0.11111111, 0.41950113, 0.39229025,\n",
       "       0.41950113, 0.38321995, 0.41950113, 0.41269841, 0.41950113,\n",
       "       0.41950113, 0.41950113, 0.40589569, 0.06122449, 0.41950113,\n",
       "       0.41950113, 0.41950113, 0.41950113, 0.41950113, 0.41950113,\n",
       "       0.41950113, 0.41950113, 0.17460317, 0.41950113, 0.41950113,\n",
       "       0.40136054, 0.41950113, 0.28344671, 0.41950113, 0.41950113,\n",
       "       0.41950113, 0.10204082, 0.26303855, 0.41950113, 0.41950113,\n",
       "       0.03854875, 0.41950113, 0.41950113, 0.25623583, 0.41950113,\n",
       "       0.41950113, 0.41950113, 0.2154195 , 0.        , 0.41950113,\n",
       "       0.33333333, 0.20408163, 0.41950113, 0.34240363, 0.41950113,\n",
       "       0.        , 0.53287982, 0.41950113, 0.41950113, 0.41950113,\n",
       "       0.41950113, 0.41950113, 0.41950113, 0.41950113, 0.41950113,\n",
       "       0.47165533, 0.41043084, 0.41950113, 0.41950113, 0.41950113,\n",
       "       0.41950113, 0.41950113, 0.26530612, 0.41950113, 0.41950113,\n",
       "       0.17460317, 0.41950113, 0.41950113, 0.41950113, 0.        ,\n",
       "       0.3106576 , 0.41950113, 0.41950113, 0.41950113, 0.19954649,\n",
       "       0.41950113, 0.41950113, 0.37414966, 0.41950113, 0.41950113,\n",
       "       0.41950113, 0.40589569, 0.41950113, 0.41950113, 0.41950113,\n",
       "       0.41950113, 0.41950113, 0.41043084, 0.41043084, 0.35147392,\n",
       "       0.41950113, 0.41950113, 0.39909297, 0.41950113, 0.41950113,\n",
       "       0.41950113, 0.41950113, 0.41950113, 0.41950113, 0.41043084,\n",
       "       0.41950113, 0.09070295, 0.41950113, 0.41950113, 0.33333333,\n",
       "       0.14285714, 0.45578231, 0.41950113, 0.11111111, 0.41043084,\n",
       "       0.41043084, 0.00907029, 0.41950113, 0.11337868, 0.41950113,\n",
       "       0.28344671, 0.41950113, 0.41950113, 0.41950113, 0.41950113,\n",
       "       0.41950113, 0.41950113, 0.37414966, 0.41950113, 0.41950113,\n",
       "       0.15873016, 0.41950113, 0.20861678, 0.35600907, 0.41950113,\n",
       "       0.41950113, 0.01133787, 0.41950113, 0.41950113, 0.36507937,\n",
       "       0.41950113, 0.41950113, 0.41950113, 0.50340136, 0.0521542 ,\n",
       "       0.        , 0.41950113, 0.17913832, 0.37868481, 0.41950113,\n",
       "       0.41950113, 0.41950113, 0.41950113, 0.41950113, 0.41950113,\n",
       "       0.18367347, 0.41950113, 0.1723356 , 0.41950113, 0.41950113,\n",
       "       0.41950113, 0.31972789, 0.41950113, 0.41950113, 0.36961451,\n",
       "       0.3877551 , 0.41950113, 0.11111111, 0.37188209, 0.41950113,\n",
       "       0.39909297, 0.41950113, 0.46712018, 0.41950113, 0.32879819,\n",
       "       0.41950113, 0.41950113, 0.41950113, 0.41950113, 0.16326531,\n",
       "       0.41950113, 0.41950113, 0.41950113, 0.41950113, 0.41950113,\n",
       "       0.41950113, 0.41496599, 0.41043084, 0.37414966, 0.41950113,\n",
       "       0.41950113, 0.32199546, 0.41950113, 0.41950113, 0.41950113,\n",
       "       0.41950113, 0.41950113, 0.41950113, 0.41950113, 0.27891156,\n",
       "       0.41043084, 0.41950113, 0.41950113, 0.40136054, 0.3106576 ,\n",
       "       0.41950113, 0.41950113, 0.41950113, 0.37188209, 0.41950113,\n",
       "       0.2675737 , 0.        , 0.41950113, 0.41950113, 0.36507937,\n",
       "       0.41950113, 0.35147392, 0.41950113, 0.41950113, 0.41950113,\n",
       "       0.41950113, 0.40136054, 0.41950113, 0.41950113, 0.41950113,\n",
       "       0.29705215, 0.10657596, 0.38095238, 0.41950113, 0.41950113,\n",
       "       0.41950113, 0.40589569, 0.29705215, 0.34693878, 0.41950113,\n",
       "       0.41950113, 0.29705215, 0.41950113, 0.41950113, 0.41950113,\n",
       "       0.41950113, 0.41950113, 0.41950113, 0.41496599, 0.41950113,\n",
       "       0.03174603, 0.36507937, 0.41950113, 0.39229025, 0.40136054,\n",
       "       0.41950113, 0.41950113, 0.07029478, 0.41950113, 0.41950113,\n",
       "       0.41950113, 0.41950113, 0.57369615, 0.41723356, 0.53287982,\n",
       "       0.41950113, 0.41950113, 0.41950113, 0.06575964, 0.41950113,\n",
       "       0.22675737, 0.41043084, 0.36961451, 0.41950113, 0.23356009,\n",
       "       0.41950113, 0.41950113, 0.41950113, 0.41950113, 0.41950113,\n",
       "       0.41950113, 0.41950113, 0.41950113, 0.41950113, 0.35600907,\n",
       "       0.41950113, 0.138322  , 0.41950113, 0.51020408, 0.41950113,\n",
       "       0.19274376, 0.        , 0.41950113, 0.41950113, 0.23356009,\n",
       "       0.41950113, 0.41950113, 0.41950113, 0.33333333, 0.        ,\n",
       "       0.22902494, 0.41950113, 0.41950113, 0.41950113, 0.41950113,\n",
       "       0.41950113, 0.41950113, 0.41950113, 0.41950113, 0.41950113,\n",
       "       0.41950113, 0.41950113, 0.41950113, 0.41950113, 0.41950113,\n",
       "       0.41950113, 0.        , 0.41950113, 0.41950113, 0.38321995,\n",
       "       0.41950113, 0.41950113, 0.41950113, 0.10657596, 0.41496599,\n",
       "       0.41950113, 0.41950113, 0.41950113, 0.41950113, 0.41950113,\n",
       "       0.41950113, 0.41950113, 0.41950113, 0.41950113, 0.41950113,\n",
       "       0.41950113, 0.41950113, 0.41950113, 0.32879819, 0.41950113,\n",
       "       0.41950113, 0.41950113, 0.39229025, 0.41950113, 0.41950113,\n",
       "       0.41950113, 0.41950113, 0.41950113, 0.34240363, 0.41950113,\n",
       "       0.41950113, 0.41950113, 0.28117914, 0.41950113, 0.41950113,\n",
       "       0.41950113, 0.41950113, 0.41950113, 0.41950113, 0.41950113,\n",
       "       0.41950113, 0.41950113, 0.41950113, 0.51020408, 0.41950113,\n",
       "       0.41950113, 0.41950113, 0.41950113, 0.41950113, 0.41950113,\n",
       "       0.33333333, 0.41950113, 0.41950113, 0.41950113, 0.41950113,\n",
       "       0.41950113, 0.41950113, 0.41950113, 0.41950113, 0.41950113,\n",
       "       0.41950113, 0.41950113, 0.39229025, 0.14512472, 0.41950113,\n",
       "       0.41950113, 0.41950113, 0.41950113, 0.41950113, 0.41043084,\n",
       "       0.18367347, 0.41950113, 0.41950113, 0.41950113, 0.41950113,\n",
       "       0.41950113, 0.41950113, 0.41950113, 0.41950113, 0.40136054,\n",
       "       0.41950113, 0.41950113, 0.41950113, 0.41950113, 0.41950113,\n",
       "       0.41950113, 0.41950113, 0.40136054, 0.41950113, 0.41950113,\n",
       "       0.35600907, 0.41950113, 0.41950113, 0.41950113, 0.34240363,\n",
       "       0.56689342, 0.41950113, 0.41950113, 0.39229025, 0.41950113,\n",
       "       0.41950113, 0.41496599, 0.41950113, 0.04081633, 0.03854875,\n",
       "       0.41950113, 0.569161  , 0.3106576 , 0.41950113, 0.2154195 ,\n",
       "       0.19274376, 0.41950113, 0.41950113, 0.41950113, 0.41950113,\n",
       "       0.41950113, 0.41950113, 0.41950113, 0.41950113, 0.27891156,\n",
       "       0.41950113, 0.41950113, 0.41950113, 0.41950113, 0.40816327,\n",
       "       0.41950113, 0.41950113, 0.41950113, 0.41950113, 0.41950113,\n",
       "       0.55782313, 0.41950113, 0.41950113, 0.12698413, 0.56462585,\n",
       "       0.41950113, 0.41950113, 0.41950113, 0.36507937, 0.23356009,\n",
       "       0.29024943, 0.07482993, 0.        , 0.39229025, 0.41950113,\n",
       "       0.41950113, 0.41950113, 0.41950113, 0.41950113, 0.41950113,\n",
       "       0.34693878, 0.12698413, 0.41950113, 0.41950113, 0.41950113,\n",
       "       0.41950113, 0.24036281, 0.10657596, 0.40136054, 0.41950113,\n",
       "       0.24036281, 0.19727891, 0.41950113, 0.39229025, 0.41950113,\n",
       "       0.41950113, 0.41950113, 0.41950113, 0.40136054, 0.41950113,\n",
       "       0.41950113, 0.41950113, 0.41950113, 0.41950113, 0.41950113,\n",
       "       0.41950113, 0.41950113, 0.41950113, 0.41950113, 0.41950113,\n",
       "       0.3968254 , 0.41950113, 0.41950113, 0.41950113, 0.41950113,\n",
       "       0.41950113, 0.41950113, 0.36507937, 0.41950113, 0.17006803,\n",
       "       0.41950113, 0.41950113, 0.38321995, 0.41950113, 0.41950113,\n",
       "       0.41950113, 0.41950113, 0.41950113, 0.41950113, 0.41950113,\n",
       "       0.41950113, 0.41950113, 0.05668934, 0.41950113, 0.41950113,\n",
       "       0.21088435, 0.41950113, 0.26077098, 0.41950113, 0.41950113,\n",
       "       0.38095238, 0.41950113, 0.41950113, 0.41950113, 0.08390023,\n",
       "       0.29251701, 0.41950113, 0.41950113, 0.41950113, 0.37414966,\n",
       "       0.41950113, 0.41950113, 0.41043084, 0.41950113, 0.41950113,\n",
       "       0.28117914, 0.41950113, 0.41950113, 0.41950113, 0.41950113,\n",
       "       0.41950113, 0.41950113, 0.41950113, 0.03854875, 0.36054422,\n",
       "       0.41950113, 0.41950113, 0.41950113, 0.41950113, 0.19274376,\n",
       "       0.41950113, 0.3106576 , 0.05442177, 0.41950113, 0.41950113,\n",
       "       0.41950113, 0.41950113, 0.41950113, 0.41950113, 0.41950113,\n",
       "       0.41950113, 0.41043084, 0.41950113, 0.41950113, 0.41950113,\n",
       "       0.41950113, 0.41950113, 0.41950113, 0.41950113, 0.33106576,\n",
       "       0.41950113, 0.41950113, 0.41950113, 0.13605442, 0.41496599,\n",
       "       0.41950113, 0.41950113, 0.20408163, 0.41950113, 0.41950113,\n",
       "       0.41950113, 0.41950113, 0.40589569, 0.41950113, 0.41950113,\n",
       "       0.41950113, 0.41950113, 0.41950113, 0.41950113, 0.39455782,\n",
       "       0.41950113, 0.41950113, 0.41496599, 0.41950113, 0.41950113,\n",
       "       0.41950113, 0.41950113, 0.41950113, 0.36507937, 0.41950113,\n",
       "       0.41950113, 0.25170068, 0.23582766, 0.00453515, 0.41950113,\n",
       "       0.02721088, 0.41950113, 0.41950113, 0.41950113, 0.38321995,\n",
       "       0.41950113, 0.40136054, 0.09977324, 0.04988662, 0.41950113,\n",
       "       0.41950113, 0.40589569, 0.41950113, 0.41950113, 0.41950113,\n",
       "       0.41950113, 0.41950113, 0.1723356 , 0.54875283, 0.41950113,\n",
       "       0.24943311, 0.23129252, 0.41950113, 0.41950113, 0.41043084,\n",
       "       0.41950113, 0.41950113, 0.41950113, 0.41950113, 0.41950113,\n",
       "       0.41950113, 0.31972789, 0.32199546, 0.41950113, 0.10204082,\n",
       "       0.41950113, 0.56462585, 0.38321995, 0.41950113, 0.41950113,\n",
       "       0.41950113, 0.41950113, 0.04761905, 0.34693878, 0.41950113,\n",
       "       0.41950113, 0.41950113, 0.41950113, 0.47619048, 0.41950113,\n",
       "       0.41950113, 0.31292517, 0.41950113, 0.41950113, 0.41950113,\n",
       "       0.41950113, 0.41950113, 0.41950113, 0.41950113, 0.19274376,\n",
       "       0.41950113, 0.32879819, 0.41950113, 0.41950113, 0.36507937,\n",
       "       0.41950113, 0.21315193, 0.07029478, 0.41950113, 0.41950113,\n",
       "       0.40136054, 0.36281179, 0.41950113, 0.41950113, 0.41950113,\n",
       "       0.41950113, 0.41950113, 0.41950113, 0.41950113, 0.08390023,\n",
       "       0.41950113, 0.41950113, 0.41950113, 0.38321995, 0.41950113,\n",
       "       0.0521542 , 0.40136054, 0.57596372, 0.3015873 , 0.41950113,\n",
       "       0.41043084, 0.12018141, 0.42857143, 0.41950113, 0.41950113,\n",
       "       0.41950113, 0.41950113, 0.37414966, 0.41950113, 0.18367347,\n",
       "       0.41950113, 0.41950113, 0.41950113, 0.40136054, 0.27210884,\n",
       "       0.41950113, 0.41950113, 0.41950113, 0.38321995, 0.41950113,\n",
       "       0.41950113, 0.41950113, 0.36734694, 0.41950113, 0.41950113,\n",
       "       0.53287982, 0.41950113, 0.41950113, 0.41950113, 0.41950113,\n",
       "       0.41950113, 0.34693878, 0.41950113, 0.3968254 , 0.41950113,\n",
       "       0.41950113, 0.41950113, 0.41950113, 0.        , 0.41950113,\n",
       "       0.41950113, 0.41950113, 0.54648526, 0.41950113, 0.41950113,\n",
       "       0.41950113, 0.45578231, 0.41950113, 0.13605442, 0.41950113,\n",
       "       0.41950113, 0.41950113, 0.37868481, 0.12698413, 0.39229025,\n",
       "       0.41950113, 0.39229025, 0.41950113, 0.55555556, 0.41950113,\n",
       "       0.34013605, 0.41950113, 0.41950113, 0.41950113, 0.41950113,\n",
       "       0.41950113, 0.41950113, 0.55555556, 0.18820862, 0.41950113,\n",
       "       0.29251701, 0.41950113, 0.41950113, 0.41950113, 0.41950113,\n",
       "       0.41950113, 0.41950113, 0.41950113, 0.41950113, 0.33333333,\n",
       "       0.41950113, 0.41950113, 0.41950113, 0.41950113, 0.41950113,\n",
       "       0.41950113, 0.41950113, 0.41950113, 0.39229025, 0.41950113,\n",
       "       0.41950113, 0.41950113, 0.15646259, 0.41950113, 0.41950113,\n",
       "       0.1723356 , 0.34693878, 0.35827664, 0.41950113, 0.41950113,\n",
       "       0.41950113, 0.00907029, 0.41950113, 0.41950113, 0.37641723,\n",
       "       0.        , 0.41950113, 0.29251701, 0.41950113, 0.41950113,\n",
       "       0.41950113, 0.31972789, 0.41950113, 0.41950113, 0.41950113,\n",
       "       0.41950113, 0.12018141, 0.01133787, 0.36507937, 0.08390023,\n",
       "       0.05668934, 0.41043084, 0.13605442, 0.41950113, 0.39455782,\n",
       "       0.29705215, 0.41950113, 0.41950113, 0.41950113, 0.41950113,\n",
       "       0.41950113, 0.41950113, 0.41950113, 0.32653061, 0.41950113,\n",
       "       0.41950113, 0.        , 0.41950113, 0.32879819, 0.41950113,\n",
       "       0.41950113, 0.41950113, 0.41950113, 0.41950113, 0.41950113,\n",
       "       0.41950113, 0.41950113, 0.41950113, 0.41950113, 0.41950113,\n",
       "       0.41950113, 0.41950113, 0.35600907, 0.33786848, 0.39909297,\n",
       "       0.41950113, 0.41950113, 0.41950113, 0.41950113, 0.41950113,\n",
       "       0.41950113, 0.22902494, 0.3877551 , 0.37414966, 0.06349206,\n",
       "       0.41950113, 0.41950113, 0.41950113, 0.41950113, 0.41950113,\n",
       "       0.41950113, 0.41950113, 0.41950113, 0.18367347, 0.41950113,\n",
       "       0.41950113, 0.41950113, 0.03401361, 0.38321995, 0.41950113,\n",
       "       0.41950113, 0.10657596, 0.41950113, 0.41950113, 0.41950113,\n",
       "       0.05668934, 0.41950113, 0.19274376, 0.41950113, 0.41950113,\n",
       "       0.41950113, 0.41950113, 0.41950113, 0.41950113, 0.41950113,\n",
       "       0.41950113, 0.41950113, 0.41950113, 0.35147392, 0.41950113,\n",
       "       0.1723356 , 0.41950113, 0.41950113, 0.41950113, 0.41950113,\n",
       "       0.38548753, 0.41950113, 0.41950113, 0.41950113, 0.15419501,\n",
       "       0.39002268, 0.41043084, 0.41950113, 0.33786848, 0.41950113,\n",
       "       0.41950113, 0.39229025, 0.41950113, 0.41950113, 0.41950113,\n",
       "       0.3968254 , 0.24716553, 0.41950113, 0.41950113, 0.37868481,\n",
       "       0.41950113, 0.41950113, 0.        , 0.41950113, 0.3877551 ,\n",
       "       0.57596372, 0.41950113, 0.31972789, 0.41950113, 0.41950113,\n",
       "       0.41950113, 0.41950113, 0.41950113, 0.41043084, 0.41950113])"
      ]
     },
     "execution_count": 40,
     "metadata": {},
     "output_type": "execute_result"
    }
   ],
   "source": [
    "# randomly sample 1000 points\n",
    "np.random.seed(2345) #set seed\n",
    "green_points_100 = np.random.choice(green_output_100.ravel(), 1000 ,replace=False)\n",
    "green_points_100"
   ]
  }
 ],
 "metadata": {
  "kernelspec": {
   "display_name": "Python 3 (ipykernel)",
   "language": "python",
   "name": "python3"
  },
  "language_info": {
   "codemirror_mode": {
    "name": "ipython",
    "version": 3
   },
   "file_extension": ".py",
   "mimetype": "text/x-python",
   "name": "python",
   "nbconvert_exporter": "python",
   "pygments_lexer": "ipython3",
   "version": "3.9.10"
  }
 },
 "nbformat": 4,
 "nbformat_minor": 4
}
