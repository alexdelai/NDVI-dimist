{
 "cells": [
  {
   "cell_type": "markdown",
   "id": "0ba9f552",
   "metadata": {},
   "source": [
    "# Multivariate analysis NDVI"
   ]
  },
  {
   "cell_type": "code",
   "execution_count": 1,
   "id": "e28a8f15",
   "metadata": {},
   "outputs": [],
   "source": [
    "import numpy as np\n",
    "import pandas as pd\n",
    "import geopandas as gpd\n",
    "import matplotlib.pyplot as plt\n",
    "import warnings\n",
    "from pygam import GAM, LinearGAM, s, l\n",
    "from sklearn import linear_model, metrics\n",
    "from sklearn.model_selection import train_test_split\n",
    "from sklearn.metrics import accuracy_score, mean_squared_error\n",
    "from PIL import Image as im"
   ]
  },
  {
   "cell_type": "markdown",
   "id": "02196a7a",
   "metadata": {},
   "source": [
    "## 1. Modeling NDVI for a buffer distance of 100 meters"
   ]
  },
  {
   "cell_type": "code",
   "execution_count": 2,
   "id": "9566af8e",
   "metadata": {},
   "outputs": [
    {
     "data": {
      "text/html": [
       "<div>\n",
       "<style scoped>\n",
       "    .dataframe tbody tr th:only-of-type {\n",
       "        vertical-align: middle;\n",
       "    }\n",
       "\n",
       "    .dataframe tbody tr th {\n",
       "        vertical-align: top;\n",
       "    }\n",
       "\n",
       "    .dataframe thead th {\n",
       "        text-align: right;\n",
       "    }\n",
       "</style>\n",
       "<table border=\"1\" class=\"dataframe\">\n",
       "  <thead>\n",
       "    <tr style=\"text-align: right;\">\n",
       "      <th></th>\n",
       "      <th>NDVI_100</th>\n",
       "      <th>Greenspace%_100</th>\n",
       "      <th>Canopy%_100</th>\n",
       "      <th>Grass%_100</th>\n",
       "      <th>Shrubs%_100</th>\n",
       "      <th>geometry</th>\n",
       "    </tr>\n",
       "  </thead>\n",
       "  <tbody>\n",
       "    <tr>\n",
       "      <th>0</th>\n",
       "      <td>0.455823</td>\n",
       "      <td>0.992861</td>\n",
       "      <td>2.168372e-17</td>\n",
       "      <td>0.006803</td>\n",
       "      <td>0.848073</td>\n",
       "      <td>POINT (386483.262 417703.544)</td>\n",
       "    </tr>\n",
       "    <tr>\n",
       "      <th>1</th>\n",
       "      <td>0.387782</td>\n",
       "      <td>0.521713</td>\n",
       "      <td>2.176871e-01</td>\n",
       "      <td>0.097506</td>\n",
       "      <td>0.190476</td>\n",
       "      <td>POINT (395310.475 388609.235)</td>\n",
       "    </tr>\n",
       "    <tr>\n",
       "      <th>2</th>\n",
       "      <td>0.389722</td>\n",
       "      <td>0.979774</td>\n",
       "      <td>5.117090e-17</td>\n",
       "      <td>0.083900</td>\n",
       "      <td>0.891156</td>\n",
       "      <td>POINT (384225.708 417867.819)</td>\n",
       "    </tr>\n",
       "    <tr>\n",
       "      <th>3</th>\n",
       "      <td>0.623486</td>\n",
       "      <td>0.771565</td>\n",
       "      <td>8.163265e-02</td>\n",
       "      <td>0.083900</td>\n",
       "      <td>0.612245</td>\n",
       "      <td>POINT (390673.998 416261.747)</td>\n",
       "    </tr>\n",
       "    <tr>\n",
       "      <th>4</th>\n",
       "      <td>0.628733</td>\n",
       "      <td>0.886972</td>\n",
       "      <td>6.643991e-01</td>\n",
       "      <td>0.052154</td>\n",
       "      <td>0.163265</td>\n",
       "      <td>POINT (393523.154 393041.484)</td>\n",
       "    </tr>\n",
       "  </tbody>\n",
       "</table>\n",
       "</div>"
      ],
      "text/plain": [
       "   NDVI_100  Greenspace%_100   Canopy%_100  Grass%_100  Shrubs%_100  \\\n",
       "0  0.455823         0.992861  2.168372e-17    0.006803     0.848073   \n",
       "1  0.387782         0.521713  2.176871e-01    0.097506     0.190476   \n",
       "2  0.389722         0.979774  5.117090e-17    0.083900     0.891156   \n",
       "3  0.623486         0.771565  8.163265e-02    0.083900     0.612245   \n",
       "4  0.628733         0.886972  6.643991e-01    0.052154     0.163265   \n",
       "\n",
       "                        geometry  \n",
       "0  POINT (386483.262 417703.544)  \n",
       "1  POINT (395310.475 388609.235)  \n",
       "2  POINT (384225.708 417867.819)  \n",
       "3  POINT (390673.998 416261.747)  \n",
       "4  POINT (393523.154 393041.484)  "
      ]
     },
     "execution_count": 2,
     "metadata": {},
     "output_type": "execute_result"
    }
   ],
   "source": [
    "# load greenspace metrics at 100m geodataframe\n",
    "gdf_100 = gpd.read_file(\"thesis_project/output/dataframes/greenspace_metrics_100_df_2.json\")\n",
    "gdf_100.head()"
   ]
  },
  {
   "cell_type": "code",
   "execution_count": 3,
   "id": "88db9dcc",
   "metadata": {},
   "outputs": [],
   "source": [
    "# Grass, Canopy, and Shrubs as predictors\n",
    "cols = ['Canopy%_100', 'Shrubs%_100', 'Grass%_100']\n",
    "df = pd.DataFrame(gdf_100, columns=cols)\n",
    "\n",
    "# target as NDVI_100\n",
    "target = pd.DataFrame(gdf_100, columns=['NDVI_100'])\n",
    "\n",
    "# define X and Y\n",
    "#X = df\n",
    "y = target['NDVI_100']\n",
    "X = df.iloc[:, 0:3].values\n",
    "\n",
    "# split independent and dependent variables into training and test data\n",
    "X_train, X_test, y_train, y_test = train_test_split(X, y, test_size=0.2, random_state=0)"
   ]
  },
  {
   "cell_type": "markdown",
   "id": "cfa5327e",
   "metadata": {},
   "source": [
    "### 1.1. Model 1: NDVI ~ linear(tree canopy) + linear(forbs and shrubs) + linear(grass)"
   ]
  },
  {
   "cell_type": "code",
   "execution_count": 4,
   "id": "5dd2f5b4",
   "metadata": {},
   "outputs": [
    {
     "name": "stderr",
     "output_type": "stream",
     "text": [
      "100% (125 of 125) |######################| Elapsed Time: 0:00:01 Time:  0:00:01\n"
     ]
    },
    {
     "name": "stdout",
     "output_type": "stream",
     "text": [
      "LinearGAM                                                                                                 \n",
      "=============================================== ==========================================================\n",
      "Distribution:                        NormalDist Effective DoF:                                      3.9996\n",
      "Link Function:                     IdentityLink Log Likelihood:                               -324268.3144\n",
      "Number of Samples:                         4749 AIC:                                            648546.628\n",
      "                                                AICc:                                          648546.6407\n",
      "                                                GCV:                                                0.0069\n",
      "                                                Scale:                                              0.0069\n",
      "                                                Pseudo R-Squared:                                   0.7166\n",
      "==========================================================================================================\n",
      "Feature Function                  Lambda               Rank         EDoF         P > x        Sig. Code   \n",
      "================================= ==================== ============ ============ ============ ============\n",
      "l(0)                              [0.001]              1            1.0          1.11e-16     ***         \n",
      "l(1)                              [0.1]                1            1.0          1.11e-16     ***         \n",
      "l(2)                              [0.001]              1            1.0          1.11e-16     ***         \n",
      "intercept                                              1            1.0          1.11e-16     ***         \n",
      "==========================================================================================================\n",
      "Significance codes:  0 '***' 0.001 '**' 0.01 '*' 0.05 '.' 0.1 ' ' 1\n",
      "\n",
      "WARNING: Fitting splines and a linear function to a feature introduces a model identifiability problem\n",
      "         which can cause p-values to appear significant when they are not.\n",
      "\n",
      "WARNING: p-values calculated in this manner behave correctly for un-penalized models or models with\n",
      "         known smoothing parameters, but when smoothing parameters have been estimated, the p-values\n",
      "         are typically lower than they should be, meaning that the tests reject the null too readily.\n"
     ]
    },
    {
     "name": "stderr",
     "output_type": "stream",
     "text": [
      "/var/folders/6g/kgz5rml118s6lqw25w5sv5mr0000gn/T/ipykernel_2630/4165518819.py:10: UserWarning: KNOWN BUG: p-values computed in this summary are likely much smaller than they should be. \n",
      " \n",
      "Please do not make inferences based on these values! \n",
      "\n",
      "Collaborate on a solution, and stay up to date at: \n",
      "github.com/dswah/pyGAM/issues/163 \n",
      "\n",
      "  ndvi_100_1.summary()\n"
     ]
    }
   ],
   "source": [
    "# Model 1\n",
    "warnings.filterwarnings(\"ignore\", category=RuntimeWarning)\n",
    "ndvi_100_1 = LinearGAM(l(0) + l(1) + l(2)).fit(X_train, y_train)\n",
    "\n",
    "# using gridsearch to tune the lambdas\n",
    "lam = np.logspace(-3, 5, 5)\n",
    "lams = [lam] * 3\n",
    "\n",
    "ndvi_100_1.gridsearch(X_train, y_train, lam=lams)\n",
    "ndvi_100_1.summary()"
   ]
  },
  {
   "cell_type": "markdown",
   "id": "0ae250d8",
   "metadata": {},
   "source": [
    "### 1.2. Model 2: NDVI ~ spline(tree canopy) + linear(forbs and shrubs) + linear(grass)"
   ]
  },
  {
   "cell_type": "code",
   "execution_count": 5,
   "id": "b7e5eb21",
   "metadata": {},
   "outputs": [
    {
     "name": "stderr",
     "output_type": "stream",
     "text": [
      "100% (125 of 125) |######################| Elapsed Time: 0:00:03 Time:  0:00:03\n"
     ]
    },
    {
     "name": "stdout",
     "output_type": "stream",
     "text": [
      "LinearGAM                                                                                                 \n",
      "=============================================== ==========================================================\n",
      "Distribution:                        NormalDist Effective DoF:                                      19.696\n",
      "Link Function:                     IdentityLink Log Likelihood:                               -366629.9158\n",
      "Number of Samples:                         4749 AIC:                                           733301.2237\n",
      "                                                AICc:                                          733301.4136\n",
      "                                                GCV:                                                0.0062\n",
      "                                                Scale:                                              0.0061\n",
      "                                                Pseudo R-Squared:                                   0.7497\n",
      "==========================================================================================================\n",
      "Feature Function                  Lambda               Rank         EDoF         P > x        Sig. Code   \n",
      "================================= ==================== ============ ============ ============ ============\n",
      "s(0)                              [0.1]                20           17.7         1.11e-16     ***         \n",
      "l(1)                              [0.001]              1            1.0          1.11e-16     ***         \n",
      "l(2)                              [0.1]                1            1.0          1.11e-16     ***         \n",
      "intercept                                              1            0.0          1.11e-16     ***         \n",
      "==========================================================================================================\n",
      "Significance codes:  0 '***' 0.001 '**' 0.01 '*' 0.05 '.' 0.1 ' ' 1\n",
      "\n",
      "WARNING: Fitting splines and a linear function to a feature introduces a model identifiability problem\n",
      "         which can cause p-values to appear significant when they are not.\n",
      "\n",
      "WARNING: p-values calculated in this manner behave correctly for un-penalized models or models with\n",
      "         known smoothing parameters, but when smoothing parameters have been estimated, the p-values\n",
      "         are typically lower than they should be, meaning that the tests reject the null too readily.\n"
     ]
    },
    {
     "name": "stderr",
     "output_type": "stream",
     "text": [
      "/var/folders/6g/kgz5rml118s6lqw25w5sv5mr0000gn/T/ipykernel_2630/2442450153.py:10: UserWarning: KNOWN BUG: p-values computed in this summary are likely much smaller than they should be. \n",
      " \n",
      "Please do not make inferences based on these values! \n",
      "\n",
      "Collaborate on a solution, and stay up to date at: \n",
      "github.com/dswah/pyGAM/issues/163 \n",
      "\n",
      "  ndvi_100_2.summary()\n"
     ]
    }
   ],
   "source": [
    "# Model 2\n",
    "warnings.filterwarnings(\"ignore\", category=RuntimeWarning)\n",
    "ndvi_100_2 = LinearGAM(s(0) + l(1) + l(2)).fit(X_train, y_train)\n",
    "\n",
    "# using gridsearch to tune the lambdas\n",
    "lam = np.logspace(-3, 5, 5)\n",
    "lams = [lam] * 3\n",
    "\n",
    "ndvi_100_2.gridsearch(X_train, y_train, lam=lams)\n",
    "ndvi_100_2.summary()"
   ]
  },
  {
   "cell_type": "markdown",
   "id": "eb1a741c",
   "metadata": {},
   "source": [
    "### 1.3. Model 3: NDVI ~ linear(tree canopy) + spline(forbs and shrubs) + linear(grass)"
   ]
  },
  {
   "cell_type": "code",
   "execution_count": 6,
   "id": "9fada82e",
   "metadata": {},
   "outputs": [
    {
     "name": "stderr",
     "output_type": "stream",
     "text": [
      "100% (125 of 125) |######################| Elapsed Time: 0:00:03 Time:  0:00:03\n"
     ]
    },
    {
     "name": "stdout",
     "output_type": "stream",
     "text": [
      "LinearGAM                                                                                                 \n",
      "=============================================== ==========================================================\n",
      "Distribution:                        NormalDist Effective DoF:                                     21.9807\n",
      "Link Function:                     IdentityLink Log Likelihood:                               -388551.5317\n",
      "Number of Samples:                         4749 AIC:                                           777149.0248\n",
      "                                                AICc:                                          777149.2581\n",
      "                                                GCV:                                                0.0058\n",
      "                                                Scale:                                              0.0058\n",
      "                                                Pseudo R-Squared:                                   0.7636\n",
      "==========================================================================================================\n",
      "Feature Function                  Lambda               Rank         EDoF         P > x        Sig. Code   \n",
      "================================= ==================== ============ ============ ============ ============\n",
      "l(0)                              [0.001]              1            1.0          1.11e-16     ***         \n",
      "s(1)                              [0.001]              20           20.0         1.11e-16     ***         \n",
      "l(2)                              [0.001]              1            1.0          1.11e-16     ***         \n",
      "intercept                                              1            0.0          1.11e-16     ***         \n",
      "==========================================================================================================\n",
      "Significance codes:  0 '***' 0.001 '**' 0.01 '*' 0.05 '.' 0.1 ' ' 1\n",
      "\n",
      "WARNING: Fitting splines and a linear function to a feature introduces a model identifiability problem\n",
      "         which can cause p-values to appear significant when they are not.\n",
      "\n",
      "WARNING: p-values calculated in this manner behave correctly for un-penalized models or models with\n",
      "         known smoothing parameters, but when smoothing parameters have been estimated, the p-values\n",
      "         are typically lower than they should be, meaning that the tests reject the null too readily.\n"
     ]
    },
    {
     "name": "stderr",
     "output_type": "stream",
     "text": [
      "/var/folders/6g/kgz5rml118s6lqw25w5sv5mr0000gn/T/ipykernel_2630/4073591579.py:10: UserWarning: KNOWN BUG: p-values computed in this summary are likely much smaller than they should be. \n",
      " \n",
      "Please do not make inferences based on these values! \n",
      "\n",
      "Collaborate on a solution, and stay up to date at: \n",
      "github.com/dswah/pyGAM/issues/163 \n",
      "\n",
      "  ndvi_100_3.summary()\n"
     ]
    }
   ],
   "source": [
    "# Model 3\n",
    "warnings.filterwarnings(\"ignore\", category=RuntimeWarning)\n",
    "ndvi_100_3 = LinearGAM(l(0) + s(1) + l(2)).fit(X_train, y_train)\n",
    "\n",
    "# using gridsearch to tune the lambdas\n",
    "lam = np.logspace(-3, 5, 5)\n",
    "lams = [lam] * 3\n",
    "\n",
    "ndvi_100_3.gridsearch(X_train, y_train, lam=lams)\n",
    "ndvi_100_3.summary()"
   ]
  },
  {
   "cell_type": "markdown",
   "id": "3453e3ea",
   "metadata": {},
   "source": [
    "### 1.4. Model 4: NDVI ~ linear(tree canopy) + linear(forbs and shrubs) + spline(grass)"
   ]
  },
  {
   "cell_type": "code",
   "execution_count": 7,
   "id": "153120db",
   "metadata": {},
   "outputs": [
    {
     "name": "stderr",
     "output_type": "stream",
     "text": [
      "100% (125 of 125) |######################| Elapsed Time: 0:00:04 Time:  0:00:04\n"
     ]
    },
    {
     "name": "stdout",
     "output_type": "stream",
     "text": [
      "LinearGAM                                                                                                 \n",
      "=============================================== ==========================================================\n",
      "Distribution:                        NormalDist Effective DoF:                                     19.6974\n",
      "Link Function:                     IdentityLink Log Likelihood:                               -360655.4858\n",
      "Number of Samples:                         4749 AIC:                                           721352.3663\n",
      "                                                AICc:                                          721352.5563\n",
      "                                                GCV:                                                0.0063\n",
      "                                                Scale:                                              0.0062\n",
      "                                                Pseudo R-Squared:                                   0.7458\n",
      "==========================================================================================================\n",
      "Feature Function                  Lambda               Rank         EDoF         P > x        Sig. Code   \n",
      "================================= ==================== ============ ============ ============ ============\n",
      "l(0)                              [0.001]              1            1.0          1.11e-16     ***         \n",
      "l(1)                              [0.001]              1            1.0          1.11e-16     ***         \n",
      "s(2)                              [0.1]                20           17.7         1.11e-16     ***         \n",
      "intercept                                              1            0.0          1.11e-16     ***         \n",
      "==========================================================================================================\n",
      "Significance codes:  0 '***' 0.001 '**' 0.01 '*' 0.05 '.' 0.1 ' ' 1\n",
      "\n",
      "WARNING: Fitting splines and a linear function to a feature introduces a model identifiability problem\n",
      "         which can cause p-values to appear significant when they are not.\n",
      "\n",
      "WARNING: p-values calculated in this manner behave correctly for un-penalized models or models with\n",
      "         known smoothing parameters, but when smoothing parameters have been estimated, the p-values\n",
      "         are typically lower than they should be, meaning that the tests reject the null too readily.\n"
     ]
    },
    {
     "name": "stderr",
     "output_type": "stream",
     "text": [
      "/var/folders/6g/kgz5rml118s6lqw25w5sv5mr0000gn/T/ipykernel_2630/3955161003.py:10: UserWarning: KNOWN BUG: p-values computed in this summary are likely much smaller than they should be. \n",
      " \n",
      "Please do not make inferences based on these values! \n",
      "\n",
      "Collaborate on a solution, and stay up to date at: \n",
      "github.com/dswah/pyGAM/issues/163 \n",
      "\n",
      "  ndvi_100_4.summary()\n"
     ]
    }
   ],
   "source": [
    "# Model 4\n",
    "warnings.filterwarnings(\"ignore\", category=RuntimeWarning)\n",
    "ndvi_100_4 = LinearGAM(l(0) + l(1) + s(2)).fit(X_train, y_train)\n",
    "\n",
    "# using gridsearch to tune the lambdas\n",
    "lam = np.logspace(-3, 5, 5)\n",
    "lams = [lam] * 3\n",
    "\n",
    "ndvi_100_4.gridsearch(X_train, y_train, lam=lams)\n",
    "ndvi_100_4.summary()"
   ]
  },
  {
   "cell_type": "markdown",
   "id": "47b64557",
   "metadata": {},
   "source": [
    "### 1.5. Model 5: NDVI ~ spline(tree canopy) + spline(forbs and shrubs) + linear(grass)"
   ]
  },
  {
   "cell_type": "code",
   "execution_count": 8,
   "id": "1911bdb6",
   "metadata": {},
   "outputs": [
    {
     "name": "stderr",
     "output_type": "stream",
     "text": [
      "100% (125 of 125) |######################| Elapsed Time: 0:00:06 Time:  0:00:06\n"
     ]
    },
    {
     "name": "stdout",
     "output_type": "stream",
     "text": [
      "LinearGAM                                                                                                 \n",
      "=============================================== ==========================================================\n",
      "Distribution:                        NormalDist Effective DoF:                                     37.6619\n",
      "Link Function:                     IdentityLink Log Likelihood:                               -400601.1866\n",
      "Number of Samples:                         4749 AIC:                                           801279.6971\n",
      "                                                AICc:                                          801280.3483\n",
      "                                                GCV:                                                0.0057\n",
      "                                                Scale:                                              0.0056\n",
      "                                                Pseudo R-Squared:                                   0.7719\n",
      "==========================================================================================================\n",
      "Feature Function                  Lambda               Rank         EDoF         P > x        Sig. Code   \n",
      "================================= ==================== ============ ============ ============ ============\n",
      "s(0)                              [0.1]                20           17.7         1.11e-16     ***         \n",
      "s(1)                              [0.001]              20           19.0         1.11e-16     ***         \n",
      "l(2)                              [0.1]                1            1.0          1.11e-16     ***         \n",
      "intercept                                              1            0.0          1.11e-16     ***         \n",
      "==========================================================================================================\n",
      "Significance codes:  0 '***' 0.001 '**' 0.01 '*' 0.05 '.' 0.1 ' ' 1\n",
      "\n",
      "WARNING: Fitting splines and a linear function to a feature introduces a model identifiability problem\n",
      "         which can cause p-values to appear significant when they are not.\n",
      "\n",
      "WARNING: p-values calculated in this manner behave correctly for un-penalized models or models with\n",
      "         known smoothing parameters, but when smoothing parameters have been estimated, the p-values\n",
      "         are typically lower than they should be, meaning that the tests reject the null too readily.\n"
     ]
    },
    {
     "name": "stderr",
     "output_type": "stream",
     "text": [
      "/var/folders/6g/kgz5rml118s6lqw25w5sv5mr0000gn/T/ipykernel_2630/979852687.py:10: UserWarning: KNOWN BUG: p-values computed in this summary are likely much smaller than they should be. \n",
      " \n",
      "Please do not make inferences based on these values! \n",
      "\n",
      "Collaborate on a solution, and stay up to date at: \n",
      "github.com/dswah/pyGAM/issues/163 \n",
      "\n",
      "  ndvi_100_5.summary()\n"
     ]
    }
   ],
   "source": [
    "# Model 5\n",
    "warnings.filterwarnings(\"ignore\", category=RuntimeWarning)\n",
    "ndvi_100_5 = LinearGAM(s(0) + s(1) + l(2)).fit(X_train, y_train)\n",
    "\n",
    "# using gridsearch to tune the lambdas\n",
    "lam = np.logspace(-3, 5, 5)\n",
    "lams = [lam] * 3\n",
    "\n",
    "ndvi_100_5.gridsearch(X_train, y_train, lam=lams)\n",
    "ndvi_100_5.summary()"
   ]
  },
  {
   "cell_type": "markdown",
   "id": "5651f77d",
   "metadata": {},
   "source": [
    "### 1.6. Model 6: NDVI ~ spline(tree canopy) + linear(forbs and shrubs) + spline(grass)"
   ]
  },
  {
   "cell_type": "code",
   "execution_count": 9,
   "id": "8cc62741",
   "metadata": {},
   "outputs": [
    {
     "name": "stderr",
     "output_type": "stream",
     "text": [
      "100% (125 of 125) |######################| Elapsed Time: 0:00:06 Time:  0:00:06\n"
     ]
    },
    {
     "name": "stdout",
     "output_type": "stream",
     "text": [
      "LinearGAM                                                                                                 \n",
      "=============================================== ==========================================================\n",
      "Distribution:                        NormalDist Effective DoF:                                     35.3783\n",
      "Link Function:                     IdentityLink Log Likelihood:                               -385554.0392\n",
      "Number of Samples:                         4749 AIC:                                            771180.835\n",
      "                                                AICc:                                          771181.4122\n",
      "                                                GCV:                                                0.0059\n",
      "                                                Scale:                                              0.0058\n",
      "                                                Pseudo R-Squared:                                   0.7631\n",
      "==========================================================================================================\n",
      "Feature Function                  Lambda               Rank         EDoF         P > x        Sig. Code   \n",
      "================================= ==================== ============ ============ ============ ============\n",
      "s(0)                              [0.1]                20           17.7         1.11e-16     ***         \n",
      "l(1)                              [0.001]              1            1.0          1.11e-16     ***         \n",
      "s(2)                              [0.1]                20           16.7         1.11e-16     ***         \n",
      "intercept                                              1            0.0          1.11e-16     ***         \n",
      "==========================================================================================================\n",
      "Significance codes:  0 '***' 0.001 '**' 0.01 '*' 0.05 '.' 0.1 ' ' 1\n",
      "\n",
      "WARNING: Fitting splines and a linear function to a feature introduces a model identifiability problem\n",
      "         which can cause p-values to appear significant when they are not.\n",
      "\n",
      "WARNING: p-values calculated in this manner behave correctly for un-penalized models or models with\n",
      "         known smoothing parameters, but when smoothing parameters have been estimated, the p-values\n",
      "         are typically lower than they should be, meaning that the tests reject the null too readily.\n"
     ]
    },
    {
     "name": "stderr",
     "output_type": "stream",
     "text": [
      "/var/folders/6g/kgz5rml118s6lqw25w5sv5mr0000gn/T/ipykernel_2630/1329383776.py:10: UserWarning: KNOWN BUG: p-values computed in this summary are likely much smaller than they should be. \n",
      " \n",
      "Please do not make inferences based on these values! \n",
      "\n",
      "Collaborate on a solution, and stay up to date at: \n",
      "github.com/dswah/pyGAM/issues/163 \n",
      "\n",
      "  ndvi_100_6.summary()\n"
     ]
    }
   ],
   "source": [
    "# Model 6\n",
    "warnings.filterwarnings(\"ignore\", category=RuntimeWarning)\n",
    "ndvi_100_6 = LinearGAM(s(0) + l(1) + s(2)).fit(X_train, y_train)\n",
    "\n",
    "# using gridsearch to tune the lambdas\n",
    "lam = np.logspace(-3, 5, 5)\n",
    "lams = [lam] * 3\n",
    "\n",
    "ndvi_100_6.gridsearch(X_train, y_train, lam=lams)\n",
    "ndvi_100_6.summary()"
   ]
  },
  {
   "cell_type": "markdown",
   "id": "20f3eaa8",
   "metadata": {},
   "source": [
    "### 1.7. Model 7: NDVI ~ linear(tree canopy) + spline(forbs and shrubs) + spline(grass)"
   ]
  },
  {
   "cell_type": "code",
   "execution_count": 10,
   "id": "295a3ac3",
   "metadata": {},
   "outputs": [
    {
     "name": "stderr",
     "output_type": "stream",
     "text": [
      "100% (125 of 125) |######################| Elapsed Time: 0:00:05 Time:  0:00:05\n"
     ]
    },
    {
     "name": "stdout",
     "output_type": "stream",
     "text": [
      "LinearGAM                                                                                                 \n",
      "=============================================== ==========================================================\n",
      "Distribution:                        NormalDist Effective DoF:                                     30.1924\n",
      "Link Function:                     IdentityLink Log Likelihood:                                -391589.958\n",
      "Number of Samples:                         4749 AIC:                                           783242.3008\n",
      "                                                AICc:                                          783242.7266\n",
      "                                                GCV:                                                0.0058\n",
      "                                                Scale:                                              0.0057\n",
      "                                                Pseudo R-Squared:                                   0.7661\n",
      "==========================================================================================================\n",
      "Feature Function                  Lambda               Rank         EDoF         P > x        Sig. Code   \n",
      "================================= ==================== ============ ============ ============ ============\n",
      "l(0)                              [0.001]              1            1.0          1.11e-16     ***         \n",
      "s(1)                              [0.001]              20           20.0         1.11e-16     ***         \n",
      "s(2)                              [10.]                20           9.2          1.11e-16     ***         \n",
      "intercept                                              1            0.0          1.11e-16     ***         \n",
      "==========================================================================================================\n",
      "Significance codes:  0 '***' 0.001 '**' 0.01 '*' 0.05 '.' 0.1 ' ' 1\n",
      "\n",
      "WARNING: Fitting splines and a linear function to a feature introduces a model identifiability problem\n",
      "         which can cause p-values to appear significant when they are not.\n",
      "\n",
      "WARNING: p-values calculated in this manner behave correctly for un-penalized models or models with\n",
      "         known smoothing parameters, but when smoothing parameters have been estimated, the p-values\n",
      "         are typically lower than they should be, meaning that the tests reject the null too readily.\n"
     ]
    },
    {
     "name": "stderr",
     "output_type": "stream",
     "text": [
      "/var/folders/6g/kgz5rml118s6lqw25w5sv5mr0000gn/T/ipykernel_2630/2977915924.py:10: UserWarning: KNOWN BUG: p-values computed in this summary are likely much smaller than they should be. \n",
      " \n",
      "Please do not make inferences based on these values! \n",
      "\n",
      "Collaborate on a solution, and stay up to date at: \n",
      "github.com/dswah/pyGAM/issues/163 \n",
      "\n",
      "  ndvi_100_7.summary()\n"
     ]
    }
   ],
   "source": [
    "# Model 7\n",
    "warnings.filterwarnings(\"ignore\", category=RuntimeWarning)\n",
    "ndvi_100_7 = LinearGAM(l(0) + s(1) + s(2)).fit(X_train, y_train)\n",
    "\n",
    "# using gridsearch to tune the lambdas\n",
    "lam = np.logspace(-3, 5, 5)\n",
    "lams = [lam] * 3\n",
    "\n",
    "ndvi_100_7.gridsearch(X_train, y_train, lam=lams)\n",
    "ndvi_100_7.summary()"
   ]
  },
  {
   "cell_type": "markdown",
   "id": "544e75b7",
   "metadata": {},
   "source": [
    "### 1.8. Model 8: NDVI ~ spline(tree canopy) + spline(forbs and shrubs) + spline(grass)"
   ]
  },
  {
   "cell_type": "code",
   "execution_count": 11,
   "id": "0e44a6c9",
   "metadata": {},
   "outputs": [
    {
     "name": "stderr",
     "output_type": "stream",
     "text": [
      "100% (125 of 125) |######################| Elapsed Time: 0:00:08 Time:  0:00:08\n"
     ]
    },
    {
     "name": "stdout",
     "output_type": "stream",
     "text": [
      "LinearGAM                                                                                                 \n",
      "=============================================== ==========================================================\n",
      "Distribution:                        NormalDist Effective DoF:                                     52.0461\n",
      "Link Function:                     IdentityLink Log Likelihood:                               -403740.0568\n",
      "Number of Samples:                         4749 AIC:                                           807586.2058\n",
      "                                                AICc:                                          807587.4271\n",
      "                                                GCV:                                                0.0056\n",
      "                                                Scale:                                              0.0055\n",
      "                                                Pseudo R-Squared:                                    0.775\n",
      "==========================================================================================================\n",
      "Feature Function                  Lambda               Rank         EDoF         P > x        Sig. Code   \n",
      "================================= ==================== ============ ============ ============ ============\n",
      "s(0)                              [0.1]                20           17.7         1.11e-16     ***         \n",
      "s(1)                              [0.1]                20           17.7         1.11e-16     ***         \n",
      "s(2)                              [0.1]                20           16.6         1.11e-16     ***         \n",
      "intercept                                              1            0.0          1.11e-16     ***         \n",
      "==========================================================================================================\n",
      "Significance codes:  0 '***' 0.001 '**' 0.01 '*' 0.05 '.' 0.1 ' ' 1\n",
      "\n",
      "WARNING: Fitting splines and a linear function to a feature introduces a model identifiability problem\n",
      "         which can cause p-values to appear significant when they are not.\n",
      "\n",
      "WARNING: p-values calculated in this manner behave correctly for un-penalized models or models with\n",
      "         known smoothing parameters, but when smoothing parameters have been estimated, the p-values\n",
      "         are typically lower than they should be, meaning that the tests reject the null too readily.\n"
     ]
    },
    {
     "name": "stderr",
     "output_type": "stream",
     "text": [
      "/var/folders/6g/kgz5rml118s6lqw25w5sv5mr0000gn/T/ipykernel_2630/3108876825.py:10: UserWarning: KNOWN BUG: p-values computed in this summary are likely much smaller than they should be. \n",
      " \n",
      "Please do not make inferences based on these values! \n",
      "\n",
      "Collaborate on a solution, and stay up to date at: \n",
      "github.com/dswah/pyGAM/issues/163 \n",
      "\n",
      "  ndvi_100_8.summary()\n"
     ]
    }
   ],
   "source": [
    "# Model 8\n",
    "warnings.filterwarnings(\"ignore\", category=RuntimeWarning)\n",
    "ndvi_100_8 = LinearGAM(s(0) + s(1) + s(2)).fit(X_train, y_train)\n",
    "\n",
    "# using gridsearch to tune the lambdas\n",
    "lam = np.logspace(-3, 5, 5)\n",
    "lams = [lam] * 3\n",
    "\n",
    "ndvi_100_8.gridsearch(X_train, y_train, lam=lams)\n",
    "ndvi_100_8.summary()"
   ]
  },
  {
   "cell_type": "markdown",
   "id": "12b4f19d",
   "metadata": {},
   "source": [
    "### 1.9. (BEST MODEL) Model 5: NDVI ~ spline(tree canopy) + spline(forbs and shrubs) + linear(grass)"
   ]
  },
  {
   "cell_type": "code",
   "execution_count": 35,
   "id": "e635f514",
   "metadata": {},
   "outputs": [
    {
     "data": {
      "text/plain": [
       "<Figure size 432x288 with 0 Axes>"
      ]
     },
     "metadata": {},
     "output_type": "display_data"
    },
    {
     "data": {
      "image/png": "[encoded data removed]",
      "text/plain": [
       "<Figure size 864x288 with 3 Axes>"
      ]
     },
     "metadata": {
      "needs_background": "light"
     },
     "output_type": "display_data"
    }
   ],
   "source": [
    "## plotting\n",
    "plt.figure();\n",
    "fig, axs = plt.subplots(1,3,figsize=(12,4));\n",
    "\n",
    "titles = ['Sensitivity of NDVI to tree canopy\\n for buffer zones of 100 m', \n",
    "          'Sensitivity of NDVI to shrubs density\\n for buffer zones of 100 m', \n",
    "          'Sensitivity of NDVI to grass density\\n for buffer zones of 100 m']\n",
    "x_labels = ['Tree canopy', 'Forbs and shrubs', 'Grass']\n",
    "for i, ax in enumerate(axs):    \n",
    "    XX = ndvi_100_8.generate_X_grid(term=i)\n",
    "    ax.plot(XX[:, i], ndvi_100_8.partial_dependence(term=i, X=XX))\n",
    "    ax.plot(XX[:, i], ndvi_100_8.partial_dependence(term=i, X=XX, width=.95)[1], c='r', ls='--')\n",
    "    ax.set_ylim(-0.5, 0.6)\n",
    "    ax.set_xticks(list(ax.get_xticks()))\n",
    "    ax.hlines(y=0, xmin=0, xmax=1, linewidth=1, color='black', linestyle='--')    \n",
    "    ax.set_ylabel('Change relative to mean NDVI', fontsize=12)\n",
    "    ax.set_xlabel(x_labels[i], fontsize=12)\n",
    "    ax.set_title(titles[i], fontsize=12);\n",
    "    \n",
    "# non-overlapping subplots\n",
    "plt.tight_layout()\n",
    "    \n",
    "# save the figure\n",
    "plt.savefig('thesis_project/visualizations/modelling/multivariate/gam_ndvi_100_best_plot_2.png', dpi=300, bbox_inches='tight')\n",
    "im.open('thesis_project/visualizations/modelling/multivariate/gam_ndvi_100_best_plot_2.png').save('thesis_project/visualizations/modelling/multivariate/gam_ndvi_100_best_plot_2.bmp')\n",
    "\n",
    "plt.show()"
   ]
  },
  {
   "cell_type": "markdown",
   "id": "065be971",
   "metadata": {},
   "source": [
    "- **Parameters of the best multivaritate model (lowest GCV score) that explains NDVI for a buffer zone of 100 meters**\n",
    "    - **Distribution**: Normal\n",
    "    - **Link Function**: Identity\n",
    "    - **Functional Form**: NDVI ~ spline(tree canopy) + spline(forbs and shrubs) + linear(grass)\n",
    "    - **Regularization penalty**: lambda = [0.1, 0.001, 0.1]\n",
    "    - **Smoothness**: n_splines = [20, 20, 1]"
   ]
  },
  {
   "cell_type": "markdown",
   "id": "c11718ba",
   "metadata": {},
   "source": [
    "## 2. Modeling NDVI for a buffer distance of 300 meters"
   ]
  },
  {
   "cell_type": "code",
   "execution_count": 13,
   "id": "95595499",
   "metadata": {},
   "outputs": [
    {
     "data": {
      "text/html": [
       "<div>\n",
       "<style scoped>\n",
       "    .dataframe tbody tr th:only-of-type {\n",
       "        vertical-align: middle;\n",
       "    }\n",
       "\n",
       "    .dataframe tbody tr th {\n",
       "        vertical-align: top;\n",
       "    }\n",
       "\n",
       "    .dataframe thead th {\n",
       "        text-align: right;\n",
       "    }\n",
       "</style>\n",
       "<table border=\"1\" class=\"dataframe\">\n",
       "  <thead>\n",
       "    <tr style=\"text-align: right;\">\n",
       "      <th></th>\n",
       "      <th>NDVI_300</th>\n",
       "      <th>Greenspace%_300</th>\n",
       "      <th>Canopy%_300</th>\n",
       "      <th>Grass%_300</th>\n",
       "      <th>Shrubs%_300</th>\n",
       "      <th>geometry</th>\n",
       "    </tr>\n",
       "  </thead>\n",
       "  <tbody>\n",
       "    <tr>\n",
       "      <th>0</th>\n",
       "      <td>0.280478</td>\n",
       "      <td>0.326412</td>\n",
       "      <td>0.145660</td>\n",
       "      <td>0.080623</td>\n",
       "      <td>0.097554</td>\n",
       "      <td>POINT (387760.076 393972.512)</td>\n",
       "    </tr>\n",
       "    <tr>\n",
       "      <th>1</th>\n",
       "      <td>0.503846</td>\n",
       "      <td>0.847073</td>\n",
       "      <td>0.062886</td>\n",
       "      <td>0.391561</td>\n",
       "      <td>0.387530</td>\n",
       "      <td>POINT (361558.182 408801.964)</td>\n",
       "    </tr>\n",
       "    <tr>\n",
       "      <th>2</th>\n",
       "      <td>0.589265</td>\n",
       "      <td>0.831569</td>\n",
       "      <td>0.104542</td>\n",
       "      <td>0.243752</td>\n",
       "      <td>0.480785</td>\n",
       "      <td>POINT (391126.815 417220.287)</td>\n",
       "    </tr>\n",
       "    <tr>\n",
       "      <th>3</th>\n",
       "      <td>0.493672</td>\n",
       "      <td>0.796394</td>\n",
       "      <td>0.127654</td>\n",
       "      <td>0.150497</td>\n",
       "      <td>0.513034</td>\n",
       "      <td>POINT (361327.964 411390.899)</td>\n",
       "    </tr>\n",
       "    <tr>\n",
       "      <th>4</th>\n",
       "      <td>0.343043</td>\n",
       "      <td>0.610614</td>\n",
       "      <td>0.275732</td>\n",
       "      <td>0.147272</td>\n",
       "      <td>0.190540</td>\n",
       "      <td>POINT (377099.280 400575.430)</td>\n",
       "    </tr>\n",
       "  </tbody>\n",
       "</table>\n",
       "</div>"
      ],
      "text/plain": [
       "   NDVI_300  Greenspace%_300  Canopy%_300  Grass%_300  Shrubs%_300  \\\n",
       "0  0.280478         0.326412     0.145660    0.080623     0.097554   \n",
       "1  0.503846         0.847073     0.062886    0.391561     0.387530   \n",
       "2  0.589265         0.831569     0.104542    0.243752     0.480785   \n",
       "3  0.493672         0.796394     0.127654    0.150497     0.513034   \n",
       "4  0.343043         0.610614     0.275732    0.147272     0.190540   \n",
       "\n",
       "                        geometry  \n",
       "0  POINT (387760.076 393972.512)  \n",
       "1  POINT (361558.182 408801.964)  \n",
       "2  POINT (391126.815 417220.287)  \n",
       "3  POINT (361327.964 411390.899)  \n",
       "4  POINT (377099.280 400575.430)  "
      ]
     },
     "execution_count": 13,
     "metadata": {},
     "output_type": "execute_result"
    }
   ],
   "source": [
    "# load greenspace metrics at 300m geodataframe\n",
    "gdf_300 = gpd.read_file(\"thesis_project/output/dataframes/greenspace_metrics_300_df_2.json\")\n",
    "gdf_300.head()"
   ]
  },
  {
   "cell_type": "code",
   "execution_count": 14,
   "id": "9b662710",
   "metadata": {},
   "outputs": [],
   "source": [
    "# Grass, Canopy, and Shrubs as predictors\n",
    "cols = ['Canopy%_300', 'Shrubs%_300', 'Grass%_300']\n",
    "df = pd.DataFrame(gdf_300, columns=cols)\n",
    "\n",
    "# target as NDVI_300\n",
    "target = pd.DataFrame(gdf_300, columns=['NDVI_300'])\n",
    "\n",
    "# define X and Y\n",
    "#X = df\n",
    "y = target['NDVI_300']\n",
    "X = df.iloc[:, 0:3].values\n",
    "\n",
    "# split independent and dependent variables into training and test data\n",
    "X_train, X_test, y_train, y_test = train_test_split(X, y, test_size=0.2, random_state=0)"
   ]
  },
  {
   "cell_type": "markdown",
   "id": "6f97873f",
   "metadata": {},
   "source": [
    "### 2.1. Model 1: NDVI ~ linear(tree canopy) + linear(forbs and shrubs) + linear(grass)"
   ]
  },
  {
   "cell_type": "code",
   "execution_count": 15,
   "id": "d1bee84a",
   "metadata": {},
   "outputs": [
    {
     "name": "stderr",
     "output_type": "stream",
     "text": [
      "100% (125 of 125) |######################| Elapsed Time: 0:00:01 Time:  0:00:01\n"
     ]
    },
    {
     "name": "stdout",
     "output_type": "stream",
     "text": [
      "LinearGAM                                                                                                 \n",
      "=============================================== ==========================================================\n",
      "Distribution:                        NormalDist Effective DoF:                                         4.0\n",
      "Link Function:                     IdentityLink Log Likelihood:                               -501248.1023\n",
      "Number of Samples:                         4656 AIC:                                          1002506.2045\n",
      "                                                AICc:                                         1002506.2174\n",
      "                                                GCV:                                                0.0045\n",
      "                                                Scale:                                              0.0045\n",
      "                                                Pseudo R-Squared:                                   0.7343\n",
      "==========================================================================================================\n",
      "Feature Function                  Lambda               Rank         EDoF         P > x        Sig. Code   \n",
      "================================= ==================== ============ ============ ============ ============\n",
      "l(0)                              [0.001]              1            1.0          1.11e-16     ***         \n",
      "l(1)                              [0.001]              1            1.0          1.11e-16     ***         \n",
      "l(2)                              [0.001]              1            1.0          1.11e-16     ***         \n",
      "intercept                                              1            1.0          1.11e-16     ***         \n",
      "==========================================================================================================\n",
      "Significance codes:  0 '***' 0.001 '**' 0.01 '*' 0.05 '.' 0.1 ' ' 1\n",
      "\n",
      "WARNING: Fitting splines and a linear function to a feature introduces a model identifiability problem\n",
      "         which can cause p-values to appear significant when they are not.\n",
      "\n",
      "WARNING: p-values calculated in this manner behave correctly for un-penalized models or models with\n",
      "         known smoothing parameters, but when smoothing parameters have been estimated, the p-values\n",
      "         are typically lower than they should be, meaning that the tests reject the null too readily.\n"
     ]
    },
    {
     "name": "stderr",
     "output_type": "stream",
     "text": [
      "/var/folders/6g/kgz5rml118s6lqw25w5sv5mr0000gn/T/ipykernel_2630/2141360453.py:10: UserWarning: KNOWN BUG: p-values computed in this summary are likely much smaller than they should be. \n",
      " \n",
      "Please do not make inferences based on these values! \n",
      "\n",
      "Collaborate on a solution, and stay up to date at: \n",
      "github.com/dswah/pyGAM/issues/163 \n",
      "\n",
      "  ndvi_300_1.summary()\n"
     ]
    }
   ],
   "source": [
    "# Model 1\n",
    "warnings.filterwarnings(\"ignore\", category=RuntimeWarning)\n",
    "ndvi_300_1 = LinearGAM(l(0) + l(1) + l(2)).fit(X_train, y_train)\n",
    "\n",
    "# using gridsearch to tune the lambdas\n",
    "lam = np.logspace(-3, 5, 5)\n",
    "lams = [lam] * 3\n",
    "\n",
    "ndvi_300_1.gridsearch(X_train, y_train, lam=lams)\n",
    "ndvi_300_1.summary()"
   ]
  },
  {
   "cell_type": "markdown",
   "id": "4b388d84",
   "metadata": {},
   "source": [
    "### 2.2. Model 2: NDVI ~ spline(tree canopy) + linear(forbs and shrubs) + linear(grass)"
   ]
  },
  {
   "cell_type": "code",
   "execution_count": 16,
   "id": "2b9df38d",
   "metadata": {},
   "outputs": [
    {
     "name": "stderr",
     "output_type": "stream",
     "text": [
      "100% (125 of 125) |######################| Elapsed Time: 0:00:03 Time:  0:00:03\n"
     ]
    },
    {
     "name": "stdout",
     "output_type": "stream",
     "text": [
      "LinearGAM                                                                                                 \n",
      "=============================================== ==========================================================\n",
      "Distribution:                        NormalDist Effective DoF:                                     21.4949\n",
      "Link Function:                     IdentityLink Log Likelihood:                               -601516.8402\n",
      "Number of Samples:                         4656 AIC:                                          1203078.6701\n",
      "                                                AICc:                                         1203078.8983\n",
      "                                                GCV:                                                0.0037\n",
      "                                                Scale:                                              0.0037\n",
      "                                                Pseudo R-Squared:                                    0.779\n",
      "==========================================================================================================\n",
      "Feature Function                  Lambda               Rank         EDoF         P > x        Sig. Code   \n",
      "================================= ==================== ============ ============ ============ ============\n",
      "s(0)                              [0.001]              20           19.5         1.11e-16     ***         \n",
      "l(1)                              [0.001]              1            1.0          1.11e-16     ***         \n",
      "l(2)                              [0.001]              1            1.0          1.11e-16     ***         \n",
      "intercept                                              1            0.0          1.11e-16     ***         \n",
      "==========================================================================================================\n",
      "Significance codes:  0 '***' 0.001 '**' 0.01 '*' 0.05 '.' 0.1 ' ' 1\n",
      "\n",
      "WARNING: Fitting splines and a linear function to a feature introduces a model identifiability problem\n",
      "         which can cause p-values to appear significant when they are not.\n",
      "\n",
      "WARNING: p-values calculated in this manner behave correctly for un-penalized models or models with\n",
      "         known smoothing parameters, but when smoothing parameters have been estimated, the p-values\n",
      "         are typically lower than they should be, meaning that the tests reject the null too readily.\n"
     ]
    },
    {
     "name": "stderr",
     "output_type": "stream",
     "text": [
      "/var/folders/6g/kgz5rml118s6lqw25w5sv5mr0000gn/T/ipykernel_2630/138880699.py:10: UserWarning: KNOWN BUG: p-values computed in this summary are likely much smaller than they should be. \n",
      " \n",
      "Please do not make inferences based on these values! \n",
      "\n",
      "Collaborate on a solution, and stay up to date at: \n",
      "github.com/dswah/pyGAM/issues/163 \n",
      "\n",
      "  ndvi_300_2.summary()\n"
     ]
    }
   ],
   "source": [
    "# Model 2\n",
    "warnings.filterwarnings(\"ignore\", category=RuntimeWarning)\n",
    "ndvi_300_2 = LinearGAM(s(0) + l(1) + l(2)).fit(X_train, y_train)\n",
    "\n",
    "# using gridsearch to tune the lambdas\n",
    "lam = np.logspace(-3, 5, 5)\n",
    "lams = [lam] * 3\n",
    "\n",
    "ndvi_300_2.gridsearch(X_train, y_train, lam=lams)\n",
    "ndvi_300_2.summary()"
   ]
  },
  {
   "cell_type": "markdown",
   "id": "06fc3016",
   "metadata": {},
   "source": [
    "### 2.3. Model 3: NDVI ~ linear(tree canopy) + spline(forbs and shrubs) + linear(grass)"
   ]
  },
  {
   "cell_type": "code",
   "execution_count": 17,
   "id": "9a68566f",
   "metadata": {},
   "outputs": [
    {
     "name": "stderr",
     "output_type": "stream",
     "text": [
      "100% (125 of 125) |######################| Elapsed Time: 0:00:03 Time:  0:00:03\n"
     ]
    },
    {
     "name": "stdout",
     "output_type": "stream",
     "text": [
      "LinearGAM                                                                                                 \n",
      "=============================================== ==========================================================\n",
      "Distribution:                        NormalDist Effective DoF:                                      20.247\n",
      "Link Function:                     IdentityLink Log Likelihood:                               -653747.9372\n",
      "Number of Samples:                         4656 AIC:                                          1307538.3685\n",
      "                                                AICc:                                         1307538.5725\n",
      "                                                GCV:                                                0.0035\n",
      "                                                Scale:                                              0.0034\n",
      "                                                Pseudo R-Squared:                                   0.7961\n",
      "==========================================================================================================\n",
      "Feature Function                  Lambda               Rank         EDoF         P > x        Sig. Code   \n",
      "================================= ==================== ============ ============ ============ ============\n",
      "l(0)                              [0.001]              1            1.0          1.11e-16     ***         \n",
      "s(1)                              [0.1]                20           18.2         1.11e-16     ***         \n",
      "l(2)                              [0.001]              1            1.0          1.11e-16     ***         \n",
      "intercept                                              1            0.0          1.11e-16     ***         \n",
      "==========================================================================================================\n",
      "Significance codes:  0 '***' 0.001 '**' 0.01 '*' 0.05 '.' 0.1 ' ' 1\n",
      "\n",
      "WARNING: Fitting splines and a linear function to a feature introduces a model identifiability problem\n",
      "         which can cause p-values to appear significant when they are not.\n",
      "\n",
      "WARNING: p-values calculated in this manner behave correctly for un-penalized models or models with\n",
      "         known smoothing parameters, but when smoothing parameters have been estimated, the p-values\n",
      "         are typically lower than they should be, meaning that the tests reject the null too readily.\n"
     ]
    },
    {
     "name": "stderr",
     "output_type": "stream",
     "text": [
      "/var/folders/6g/kgz5rml118s6lqw25w5sv5mr0000gn/T/ipykernel_2630/2763482722.py:10: UserWarning: KNOWN BUG: p-values computed in this summary are likely much smaller than they should be. \n",
      " \n",
      "Please do not make inferences based on these values! \n",
      "\n",
      "Collaborate on a solution, and stay up to date at: \n",
      "github.com/dswah/pyGAM/issues/163 \n",
      "\n",
      "  ndvi_300_3.summary()\n"
     ]
    }
   ],
   "source": [
    "# Model 3\n",
    "warnings.filterwarnings(\"ignore\", category=RuntimeWarning)\n",
    "ndvi_300_3 = LinearGAM(l(0) + s(1) + l(2)).fit(X_train, y_train)\n",
    "\n",
    "# using gridsearch to tune the lambdas\n",
    "lam = np.logspace(-3, 5, 5)\n",
    "lams = [lam] * 3\n",
    "\n",
    "ndvi_300_3.gridsearch(X_train, y_train, lam=lams)\n",
    "ndvi_300_3.summary()"
   ]
  },
  {
   "cell_type": "markdown",
   "id": "b9b9aab5",
   "metadata": {},
   "source": [
    "### 2.4. Model 4: NDVI ~ linear(tree canopy) + linear(forbs and shrubs) + spline(grass)"
   ]
  },
  {
   "cell_type": "code",
   "execution_count": 18,
   "id": "6a846b22",
   "metadata": {},
   "outputs": [
    {
     "name": "stderr",
     "output_type": "stream",
     "text": [
      "100% (125 of 125) |######################| Elapsed Time: 0:00:03 Time:  0:00:03\n"
     ]
    },
    {
     "name": "stdout",
     "output_type": "stream",
     "text": [
      "LinearGAM                                                                                                 \n",
      "=============================================== ==========================================================\n",
      "Distribution:                        NormalDist Effective DoF:                                     16.2509\n",
      "Link Function:                     IdentityLink Log Likelihood:                               -590465.9549\n",
      "Number of Samples:                         4656 AIC:                                          1180966.4116\n",
      "                                                AICc:                                         1180966.5473\n",
      "                                                GCV:                                                0.0038\n",
      "                                                Scale:                                              0.0038\n",
      "                                                Pseudo R-Squared:                                   0.7745\n",
      "==========================================================================================================\n",
      "Feature Function                  Lambda               Rank         EDoF         P > x        Sig. Code   \n",
      "================================= ==================== ============ ============ ============ ============\n",
      "l(0)                              [0.6]                1            1.0          1.11e-16     ***         \n",
      "l(1)                              [0.6]                1            1.0          1.11e-16     ***         \n",
      "s(2)                              [0.6]                20           14.3         1.11e-16     ***         \n",
      "intercept                                              1            0.0          1.11e-16     ***         \n",
      "==========================================================================================================\n",
      "Significance codes:  0 '***' 0.001 '**' 0.01 '*' 0.05 '.' 0.1 ' ' 1\n",
      "\n",
      "WARNING: Fitting splines and a linear function to a feature introduces a model identifiability problem\n",
      "         which can cause p-values to appear significant when they are not.\n",
      "\n",
      "WARNING: p-values calculated in this manner behave correctly for un-penalized models or models with\n",
      "         known smoothing parameters, but when smoothing parameters have been estimated, the p-values\n",
      "         are typically lower than they should be, meaning that the tests reject the null too readily.\n"
     ]
    },
    {
     "name": "stderr",
     "output_type": "stream",
     "text": [
      "/var/folders/6g/kgz5rml118s6lqw25w5sv5mr0000gn/T/ipykernel_2630/3450665515.py:10: UserWarning: KNOWN BUG: p-values computed in this summary are likely much smaller than they should be. \n",
      " \n",
      "Please do not make inferences based on these values! \n",
      "\n",
      "Collaborate on a solution, and stay up to date at: \n",
      "github.com/dswah/pyGAM/issues/163 \n",
      "\n",
      "  ndvi_300_4.summary()\n"
     ]
    }
   ],
   "source": [
    "# Model 4\n",
    "warnings.filterwarnings(\"ignore\", category=RuntimeWarning)\n",
    "ndvi_300_4 = LinearGAM(l(0) + l(1) + s(2)).fit(X_train, y_train)\n",
    "\n",
    "# using gridsearch to tune the lambdas\n",
    "lam = np.logspace(-3, 5, 5)\n",
    "lams = [lam] * 3\n",
    "\n",
    "ndvi_300_4.gridsearch(X_train, y_train, lam=lams)\n",
    "ndvi_300_4.summary()"
   ]
  },
  {
   "cell_type": "markdown",
   "id": "17feb623",
   "metadata": {},
   "source": [
    "### 2.5. Model 5: NDVI ~ spline(tree canopy) + spline(forbs and shrubs) + linear(grass)"
   ]
  },
  {
   "cell_type": "code",
   "execution_count": 19,
   "id": "8cc54ef8",
   "metadata": {},
   "outputs": [
    {
     "name": "stderr",
     "output_type": "stream",
     "text": [
      "100% (125 of 125) |######################| Elapsed Time: 0:00:05 Time:  0:00:05\n"
     ]
    },
    {
     "name": "stdout",
     "output_type": "stream",
     "text": [
      "LinearGAM                                                                                                 \n",
      "=============================================== ==========================================================\n",
      "Distribution:                        NormalDist Effective DoF:                                     30.7766\n",
      "Link Function:                     IdentityLink Log Likelihood:                               -686744.9133\n",
      "Number of Samples:                         4656 AIC:                                          1373553.3796\n",
      "                                                AICc:                                         1373553.8302\n",
      "                                                GCV:                                                0.0033\n",
      "                                                Scale:                                              0.0033\n",
      "                                                Pseudo R-Squared:                                   0.8066\n",
      "==========================================================================================================\n",
      "Feature Function                  Lambda               Rank         EDoF         P > x        Sig. Code   \n",
      "================================= ==================== ============ ============ ============ ============\n",
      "s(0)                              [0.001]              20           19.5         1.11e-16     ***         \n",
      "s(1)                              [10.]                20           10.3         1.11e-16     ***         \n",
      "l(2)                              [0.1]                1            1.0          1.11e-16     ***         \n",
      "intercept                                              1            0.0          1.11e-16     ***         \n",
      "==========================================================================================================\n",
      "Significance codes:  0 '***' 0.001 '**' 0.01 '*' 0.05 '.' 0.1 ' ' 1\n",
      "\n",
      "WARNING: Fitting splines and a linear function to a feature introduces a model identifiability problem\n",
      "         which can cause p-values to appear significant when they are not.\n",
      "\n",
      "WARNING: p-values calculated in this manner behave correctly for un-penalized models or models with\n",
      "         known smoothing parameters, but when smoothing parameters have been estimated, the p-values\n",
      "         are typically lower than they should be, meaning that the tests reject the null too readily.\n"
     ]
    },
    {
     "name": "stderr",
     "output_type": "stream",
     "text": [
      "/var/folders/6g/kgz5rml118s6lqw25w5sv5mr0000gn/T/ipykernel_2630/1916949231.py:10: UserWarning: KNOWN BUG: p-values computed in this summary are likely much smaller than they should be. \n",
      " \n",
      "Please do not make inferences based on these values! \n",
      "\n",
      "Collaborate on a solution, and stay up to date at: \n",
      "github.com/dswah/pyGAM/issues/163 \n",
      "\n",
      "  ndvi_300_5.summary()\n"
     ]
    }
   ],
   "source": [
    "# Model 5\n",
    "warnings.filterwarnings(\"ignore\", category=RuntimeWarning)\n",
    "ndvi_300_5 = LinearGAM(s(0) + s(1) + l(2)).fit(X_train, y_train)\n",
    "\n",
    "# using gridsearch to tune the lambdas\n",
    "lam = np.logspace(-3, 5, 5)\n",
    "lams = [lam] * 3\n",
    "\n",
    "ndvi_300_5.gridsearch(X_train, y_train, lam=lams)\n",
    "ndvi_300_5.summary()"
   ]
  },
  {
   "cell_type": "markdown",
   "id": "c2389aa2",
   "metadata": {},
   "source": [
    "### 2.6. Model 6: NDVI ~ spline(tree canopy) + linear(forbs and shrubs) + spline(grass)"
   ]
  },
  {
   "cell_type": "code",
   "execution_count": 20,
   "id": "95f7f012",
   "metadata": {},
   "outputs": [
    {
     "name": "stderr",
     "output_type": "stream",
     "text": [
      "100% (125 of 125) |######################| Elapsed Time: 0:00:05 Time:  0:00:05\n"
     ]
    },
    {
     "name": "stdout",
     "output_type": "stream",
     "text": [
      "LinearGAM                                                                                                 \n",
      "=============================================== ==========================================================\n",
      "Distribution:                        NormalDist Effective DoF:                                     38.3238\n",
      "Link Function:                     IdentityLink Log Likelihood:                               -652814.1322\n",
      "Number of Samples:                         4656 AIC:                                          1305706.9119\n",
      "                                                AICc:                                         1305707.5989\n",
      "                                                GCV:                                                0.0035\n",
      "                                                Scale:                                              0.0034\n",
      "                                                Pseudo R-Squared:                                   0.7974\n",
      "==========================================================================================================\n",
      "Feature Function                  Lambda               Rank         EDoF         P > x        Sig. Code   \n",
      "================================= ==================== ============ ============ ============ ============\n",
      "s(0)                              [0.001]              20           19.5         1.11e-16     ***         \n",
      "l(1)                              [0.001]              1            1.0          1.11e-16     ***         \n",
      "s(2)                              [0.001]              20           17.8         1.11e-16     ***         \n",
      "intercept                                              1            0.0          1.11e-16     ***         \n",
      "==========================================================================================================\n",
      "Significance codes:  0 '***' 0.001 '**' 0.01 '*' 0.05 '.' 0.1 ' ' 1\n",
      "\n",
      "WARNING: Fitting splines and a linear function to a feature introduces a model identifiability problem\n",
      "         which can cause p-values to appear significant when they are not.\n",
      "\n",
      "WARNING: p-values calculated in this manner behave correctly for un-penalized models or models with\n",
      "         known smoothing parameters, but when smoothing parameters have been estimated, the p-values\n",
      "         are typically lower than they should be, meaning that the tests reject the null too readily.\n"
     ]
    },
    {
     "name": "stderr",
     "output_type": "stream",
     "text": [
      "/var/folders/6g/kgz5rml118s6lqw25w5sv5mr0000gn/T/ipykernel_2630/2187392072.py:10: UserWarning: KNOWN BUG: p-values computed in this summary are likely much smaller than they should be. \n",
      " \n",
      "Please do not make inferences based on these values! \n",
      "\n",
      "Collaborate on a solution, and stay up to date at: \n",
      "github.com/dswah/pyGAM/issues/163 \n",
      "\n",
      "  ndvi_300_6.summary()\n"
     ]
    }
   ],
   "source": [
    "# Model 6\n",
    "warnings.filterwarnings(\"ignore\", category=RuntimeWarning)\n",
    "ndvi_300_6 = LinearGAM(s(0) + l(1) + s(2)).fit(X_train, y_train)\n",
    "\n",
    "# using gridsearch to tune the lambdas\n",
    "lam = np.logspace(-3, 5, 5)\n",
    "lams = [lam] * 3\n",
    "\n",
    "ndvi_300_6.gridsearch(X_train, y_train, lam=lams)\n",
    "ndvi_300_6.summary()"
   ]
  },
  {
   "cell_type": "markdown",
   "id": "c16486fa",
   "metadata": {},
   "source": [
    "### 2.7. Model 7: NDVI ~ linear(tree canopy) + spline(forbs and shrubs) + spline(grass)"
   ]
  },
  {
   "cell_type": "code",
   "execution_count": 21,
   "id": "80497c95",
   "metadata": {},
   "outputs": [
    {
     "name": "stderr",
     "output_type": "stream",
     "text": [
      "100% (125 of 125) |######################| Elapsed Time: 0:00:05 Time:  0:00:05\n"
     ]
    },
    {
     "name": "stdout",
     "output_type": "stream",
     "text": [
      "LinearGAM                                                                                                 \n",
      "=============================================== ==========================================================\n",
      "Distribution:                        NormalDist Effective DoF:                                     30.0383\n",
      "Link Function:                     IdentityLink Log Likelihood:                               -679414.8326\n",
      "Number of Samples:                         4656 AIC:                                          1358891.7417\n",
      "                                                AICc:                                         1358892.1719\n",
      "                                                GCV:                                                0.0033\n",
      "                                                Scale:                                              0.0033\n",
      "                                                Pseudo R-Squared:                                   0.8045\n",
      "==========================================================================================================\n",
      "Feature Function                  Lambda               Rank         EDoF         P > x        Sig. Code   \n",
      "================================= ==================== ============ ============ ============ ============\n",
      "l(0)                              [0.001]              1            1.0          1.11e-16     ***         \n",
      "s(1)                              [10.]                20           11.5         1.11e-16     ***         \n",
      "s(2)                              [0.001]              20           17.5         1.11e-16     ***         \n",
      "intercept                                              1            0.0          1.11e-16     ***         \n",
      "==========================================================================================================\n",
      "Significance codes:  0 '***' 0.001 '**' 0.01 '*' 0.05 '.' 0.1 ' ' 1\n",
      "\n",
      "WARNING: Fitting splines and a linear function to a feature introduces a model identifiability problem\n",
      "         which can cause p-values to appear significant when they are not.\n",
      "\n",
      "WARNING: p-values calculated in this manner behave correctly for un-penalized models or models with\n",
      "         known smoothing parameters, but when smoothing parameters have been estimated, the p-values\n",
      "         are typically lower than they should be, meaning that the tests reject the null too readily.\n"
     ]
    },
    {
     "name": "stderr",
     "output_type": "stream",
     "text": [
      "/var/folders/6g/kgz5rml118s6lqw25w5sv5mr0000gn/T/ipykernel_2630/2141254406.py:10: UserWarning: KNOWN BUG: p-values computed in this summary are likely much smaller than they should be. \n",
      " \n",
      "Please do not make inferences based on these values! \n",
      "\n",
      "Collaborate on a solution, and stay up to date at: \n",
      "github.com/dswah/pyGAM/issues/163 \n",
      "\n",
      "  ndvi_300_7.summary()\n"
     ]
    }
   ],
   "source": [
    "# Model 7\n",
    "warnings.filterwarnings(\"ignore\", category=RuntimeWarning)\n",
    "ndvi_300_7 = LinearGAM(l(0) + s(1) + s(2)).fit(X_train, y_train)\n",
    "\n",
    "# using gridsearch to tune the lambdas\n",
    "lam = np.logspace(-3, 5, 5)\n",
    "lams = [lam] * 3\n",
    "\n",
    "ndvi_300_7.gridsearch(X_train, y_train, lam=lams)\n",
    "ndvi_300_7.summary()"
   ]
  },
  {
   "cell_type": "markdown",
   "id": "6f68856b",
   "metadata": {},
   "source": [
    "### 2.8. Model 8: NDVI ~ spline(tree canopy) + spline(forbs and shrubs) + spline(grass)"
   ]
  },
  {
   "cell_type": "code",
   "execution_count": 22,
   "id": "849bf675",
   "metadata": {},
   "outputs": [
    {
     "name": "stderr",
     "output_type": "stream",
     "text": [
      "100% (125 of 125) |######################| Elapsed Time: 0:00:07 Time:  0:00:07\n"
     ]
    },
    {
     "name": "stdout",
     "output_type": "stream",
     "text": [
      "LinearGAM                                                                                                 \n",
      "=============================================== ==========================================================\n",
      "Distribution:                        NormalDist Effective DoF:                                     47.5169\n",
      "Link Function:                     IdentityLink Log Likelihood:                               -714716.4087\n",
      "Number of Samples:                         4656 AIC:                                          1429529.8512\n",
      "                                                AICc:                                         1429530.8942\n",
      "                                                GCV:                                                0.0032\n",
      "                                                Scale:                                              0.0031\n",
      "                                                Pseudo R-Squared:                                   0.8153\n",
      "==========================================================================================================\n",
      "Feature Function                  Lambda               Rank         EDoF         P > x        Sig. Code   \n",
      "================================= ==================== ============ ============ ============ ============\n",
      "s(0)                              [0.001]              20           19.5         1.11e-16     ***         \n",
      "s(1)                              [10.]                20           10.5         1.11e-16     ***         \n",
      "s(2)                              [0.001]              20           17.5         1.11e-16     ***         \n",
      "intercept                                              1            0.0          1.11e-16     ***         \n",
      "==========================================================================================================\n",
      "Significance codes:  0 '***' 0.001 '**' 0.01 '*' 0.05 '.' 0.1 ' ' 1\n",
      "\n",
      "WARNING: Fitting splines and a linear function to a feature introduces a model identifiability problem\n",
      "         which can cause p-values to appear significant when they are not.\n",
      "\n",
      "WARNING: p-values calculated in this manner behave correctly for un-penalized models or models with\n",
      "         known smoothing parameters, but when smoothing parameters have been estimated, the p-values\n",
      "         are typically lower than they should be, meaning that the tests reject the null too readily.\n"
     ]
    },
    {
     "name": "stderr",
     "output_type": "stream",
     "text": [
      "/var/folders/6g/kgz5rml118s6lqw25w5sv5mr0000gn/T/ipykernel_2630/547711982.py:10: UserWarning: KNOWN BUG: p-values computed in this summary are likely much smaller than they should be. \n",
      " \n",
      "Please do not make inferences based on these values! \n",
      "\n",
      "Collaborate on a solution, and stay up to date at: \n",
      "github.com/dswah/pyGAM/issues/163 \n",
      "\n",
      "  ndvi_300_8.summary()\n"
     ]
    }
   ],
   "source": [
    "# Model 8\n",
    "warnings.filterwarnings(\"ignore\", category=RuntimeWarning)\n",
    "ndvi_300_8 = LinearGAM(s(0) + s(1) + s(2)).fit(X_train, y_train)\n",
    "\n",
    "# using gridsearch to tune the lambdas\n",
    "lam = np.logspace(-3, 5, 5)\n",
    "lams = [lam] * 3\n",
    "\n",
    "ndvi_300_8.gridsearch(X_train, y_train, lam=lams)\n",
    "ndvi_300_8.summary()"
   ]
  },
  {
   "cell_type": "markdown",
   "id": "df50fd62",
   "metadata": {},
   "source": [
    "### 2.9. (BEST MODEL) Model 8: NDVI ~ spline(tree canopy) + spline(forbs and shrubs) + spline(grass)"
   ]
  },
  {
   "cell_type": "code",
   "execution_count": 23,
   "id": "8ec10f89",
   "metadata": {},
   "outputs": [
    {
     "data": {
      "text/plain": [
       "<Figure size 432x288 with 0 Axes>"
      ]
     },
     "metadata": {},
     "output_type": "display_data"
    },
    {
     "data": {
      "image/png": "[encoded data removed]",
      "text/plain": [
       "<Figure size 864x288 with 3 Axes>"
      ]
     },
     "metadata": {
      "needs_background": "light"
     },
     "output_type": "display_data"
    }
   ],
   "source": [
    "## plotting\n",
    "plt.figure();\n",
    "fig, axs = plt.subplots(1,3,figsize=(12,4));\n",
    "\n",
    "titles = ['Sensitivity of NDVI to tree canopy\\n for buffer zones of 300 m', \n",
    "          'Sensitivity of NDVI to shrubs density\\n for buffer zones of 300 m', \n",
    "          'Sensitivity of NDVI to grass density\\n for buffer zones of 300 m']\n",
    "x_labels = ['Tree canopy', 'Forbs and shrubs', 'Grass']\n",
    "for i, ax in enumerate(axs):\n",
    "    XX = ndvi_300_8.generate_X_grid(term=i)\n",
    "    ax.plot(XX[:, i], ndvi_300_8.partial_dependence(term=i, X=XX))\n",
    "    ax.plot(XX[:, i], ndvi_300_8.partial_dependence(term=i, X=XX, width=.95)[1], c='r', ls='--')\n",
    "    ax.set_ylim(-0.5, 0.8)\n",
    "    ax.set_xticks(list(ax.get_xticks()))\n",
    "    ax.hlines(y=0, xmin=0, xmax=1, linewidth=1, color='black', linestyle='--')\n",
    "    ax.set_ylabel('Change relative to mean NDVI', fontsize=12)\n",
    "    ax.set_xlabel(x_labels[i], fontsize=12)\n",
    "    ax.set_title(titles[i], fontsize=12);\n",
    "    \n",
    "# non-overlapping subplots\n",
    "plt.tight_layout()\n",
    "    \n",
    "# save the figure\n",
    "plt.savefig('thesis_project/visualizations/modelling/multivariate/gam_ndvi_300_best_plot_2.png', dpi=300, bbox_inches='tight')\n",
    "im.open('thesis_project/visualizations/modelling/multivariate/gam_ndvi_300_best_plot_2.png').save('thesis_project/visualizations/modelling/multivariate/gam_ndvi_300_best_plot_2.bmp')\n",
    "\n",
    "plt.show()"
   ]
  },
  {
   "cell_type": "markdown",
   "id": "59706a18",
   "metadata": {},
   "source": [
    "- **Parameters of the best multivaritate model (lowest GCV score) that explains NDVI for a buffer zone of 300 meters**\n",
    "    - **Distribution**: Normal\n",
    "    - **Link Function**: Identity\n",
    "    - **Functional Form**: NDVI ~ spline(tree canopy) + spline(forbs and shrubs) + spline(grass)\n",
    "    - **Regularization penalty**: lambda = [0.001, 10, 10]\n",
    "    - **Smoothness**: n_splines = 20\n"
   ]
  },
  {
   "cell_type": "markdown",
   "id": "e73a59f3",
   "metadata": {},
   "source": [
    "## 3. Modeling NDVI for a buffer distance of 500 meters"
   ]
  },
  {
   "cell_type": "code",
   "execution_count": 24,
   "id": "d3b42609",
   "metadata": {},
   "outputs": [
    {
     "data": {
      "text/html": [
       "<div>\n",
       "<style scoped>\n",
       "    .dataframe tbody tr th:only-of-type {\n",
       "        vertical-align: middle;\n",
       "    }\n",
       "\n",
       "    .dataframe tbody tr th {\n",
       "        vertical-align: top;\n",
       "    }\n",
       "\n",
       "    .dataframe thead th {\n",
       "        text-align: right;\n",
       "    }\n",
       "</style>\n",
       "<table border=\"1\" class=\"dataframe\">\n",
       "  <thead>\n",
       "    <tr style=\"text-align: right;\">\n",
       "      <th></th>\n",
       "      <th>NDVI_500</th>\n",
       "      <th>Greenspace%_500</th>\n",
       "      <th>Canopy%_500</th>\n",
       "      <th>Grass%_500</th>\n",
       "      <th>Shrubs%_500</th>\n",
       "      <th>geometry</th>\n",
       "    </tr>\n",
       "  </thead>\n",
       "  <tbody>\n",
       "    <tr>\n",
       "      <th>0</th>\n",
       "      <td>0.407077</td>\n",
       "      <td>0.982575</td>\n",
       "      <td>0.006176</td>\n",
       "      <td>0.028919</td>\n",
       "      <td>0.947064</td>\n",
       "      <td>POINT (401901.359 408671.581)</td>\n",
       "    </tr>\n",
       "    <tr>\n",
       "      <th>1</th>\n",
       "      <td>0.441260</td>\n",
       "      <td>0.575357</td>\n",
       "      <td>0.167827</td>\n",
       "      <td>0.131850</td>\n",
       "      <td>0.277816</td>\n",
       "      <td>POINT (368835.367 407479.786)</td>\n",
       "    </tr>\n",
       "    <tr>\n",
       "      <th>2</th>\n",
       "      <td>0.312300</td>\n",
       "      <td>0.395262</td>\n",
       "      <td>0.212136</td>\n",
       "      <td>0.095873</td>\n",
       "      <td>0.087050</td>\n",
       "      <td>POINT (377751.293 401260.842)</td>\n",
       "    </tr>\n",
       "    <tr>\n",
       "      <th>3</th>\n",
       "      <td>0.283220</td>\n",
       "      <td>0.355313</td>\n",
       "      <td>0.098324</td>\n",
       "      <td>0.070777</td>\n",
       "      <td>0.188119</td>\n",
       "      <td>POINT (391535.548 395524.756)</td>\n",
       "    </tr>\n",
       "    <tr>\n",
       "      <th>4</th>\n",
       "      <td>0.552286</td>\n",
       "      <td>0.770303</td>\n",
       "      <td>0.265954</td>\n",
       "      <td>0.094795</td>\n",
       "      <td>0.409666</td>\n",
       "      <td>POINT (369836.790 402258.456)</td>\n",
       "    </tr>\n",
       "  </tbody>\n",
       "</table>\n",
       "</div>"
      ],
      "text/plain": [
       "   NDVI_500  Greenspace%_500  Canopy%_500  Grass%_500  Shrubs%_500  \\\n",
       "0  0.407077         0.982575     0.006176    0.028919     0.947064   \n",
       "1  0.441260         0.575357     0.167827    0.131850     0.277816   \n",
       "2  0.312300         0.395262     0.212136    0.095873     0.087050   \n",
       "3  0.283220         0.355313     0.098324    0.070777     0.188119   \n",
       "4  0.552286         0.770303     0.265954    0.094795     0.409666   \n",
       "\n",
       "                        geometry  \n",
       "0  POINT (401901.359 408671.581)  \n",
       "1  POINT (368835.367 407479.786)  \n",
       "2  POINT (377751.293 401260.842)  \n",
       "3  POINT (391535.548 395524.756)  \n",
       "4  POINT (369836.790 402258.456)  "
      ]
     },
     "execution_count": 24,
     "metadata": {},
     "output_type": "execute_result"
    }
   ],
   "source": [
    "# load greenspace metrics at 500m geodataframe\n",
    "gdf_500 = gpd.read_file(\"thesis_project/output/dataframes/greenspace_metrics_500_df_2.json\")\n",
    "gdf_500.head()"
   ]
  },
  {
   "cell_type": "code",
   "execution_count": 25,
   "id": "27871e3a",
   "metadata": {},
   "outputs": [],
   "source": [
    "# Grass, Canopy, and Shrubs as predictors\n",
    "cols = ['Canopy%_500', 'Shrubs%_500', 'Grass%_500']\n",
    "df = pd.DataFrame(gdf_500, columns=cols)\n",
    "\n",
    "# target as NDVI_500\n",
    "target = pd.DataFrame(gdf_500, columns=['NDVI_500'])\n",
    "\n",
    "# define X and Y\n",
    "#X = df\n",
    "y = target['NDVI_500']\n",
    "X = df.iloc[:, 0:3].values\n",
    "\n",
    "# split independent and dependent variables into training and test data\n",
    "X_train, X_test, y_train, y_test = train_test_split(X, y, test_size=0.2, random_state=0)"
   ]
  },
  {
   "cell_type": "markdown",
   "id": "d63908d3",
   "metadata": {},
   "source": [
    "### 3.1. Model 1: NDVI ~ linear(tree canopy) + linear(forbs and shrubs) + linear(grass)"
   ]
  },
  {
   "cell_type": "code",
   "execution_count": 26,
   "id": "422ac448",
   "metadata": {},
   "outputs": [
    {
     "name": "stderr",
     "output_type": "stream",
     "text": [
      "100% (125 of 125) |######################| Elapsed Time: 0:00:01 Time:  0:00:01\n"
     ]
    },
    {
     "name": "stdout",
     "output_type": "stream",
     "text": [
      "LinearGAM                                                                                                 \n",
      "=============================================== ==========================================================\n",
      "Distribution:                        NormalDist Effective DoF:                                      3.9999\n",
      "Link Function:                     IdentityLink Log Likelihood:                               -288532.8263\n",
      "Number of Samples:                         2316 AIC:                                           577075.6524\n",
      "                                                AICc:                                          577075.6783\n",
      "                                                GCV:                                                0.0039\n",
      "                                                Scale:                                              0.0039\n",
      "                                                Pseudo R-Squared:                                   0.7147\n",
      "==========================================================================================================\n",
      "Feature Function                  Lambda               Rank         EDoF         P > x        Sig. Code   \n",
      "================================= ==================== ============ ============ ============ ============\n",
      "l(0)                              [0.001]              1            1.0          1.11e-16     ***         \n",
      "l(1)                              [0.001]              1            1.0          1.11e-16     ***         \n",
      "l(2)                              [0.001]              1            1.0          1.11e-16     ***         \n",
      "intercept                                              1            1.0          1.11e-16     ***         \n",
      "==========================================================================================================\n",
      "Significance codes:  0 '***' 0.001 '**' 0.01 '*' 0.05 '.' 0.1 ' ' 1\n",
      "\n",
      "WARNING: Fitting splines and a linear function to a feature introduces a model identifiability problem\n",
      "         which can cause p-values to appear significant when they are not.\n",
      "\n",
      "WARNING: p-values calculated in this manner behave correctly for un-penalized models or models with\n",
      "         known smoothing parameters, but when smoothing parameters have been estimated, the p-values\n",
      "         are typically lower than they should be, meaning that the tests reject the null too readily.\n"
     ]
    },
    {
     "name": "stderr",
     "output_type": "stream",
     "text": [
      "/var/folders/6g/kgz5rml118s6lqw25w5sv5mr0000gn/T/ipykernel_2630/1220089107.py:10: UserWarning: KNOWN BUG: p-values computed in this summary are likely much smaller than they should be. \n",
      " \n",
      "Please do not make inferences based on these values! \n",
      "\n",
      "Collaborate on a solution, and stay up to date at: \n",
      "github.com/dswah/pyGAM/issues/163 \n",
      "\n",
      "  ndvi_500_1.summary()\n"
     ]
    }
   ],
   "source": [
    "# Model 1\n",
    "warnings.filterwarnings(\"ignore\", category=RuntimeWarning)\n",
    "ndvi_500_1 = LinearGAM(l(0) + l(1) + l(2)).fit(X_train, y_train)\n",
    "\n",
    "# using gridsearch to tune the lambdas\n",
    "lam = np.logspace(-3, 5, 5)\n",
    "lams = [lam] * 3\n",
    "\n",
    "ndvi_500_1.gridsearch(X_train, y_train, lam=lams)\n",
    "ndvi_500_1.summary()"
   ]
  },
  {
   "cell_type": "markdown",
   "id": "861fc633",
   "metadata": {},
   "source": [
    "### 3.2. Model 2: NDVI ~ spline(tree canopy) + linear(forbs and shrubs) + linear(grass)"
   ]
  },
  {
   "cell_type": "code",
   "execution_count": 27,
   "id": "ec7045ed",
   "metadata": {},
   "outputs": [
    {
     "name": "stderr",
     "output_type": "stream",
     "text": [
      "100% (125 of 125) |######################| Elapsed Time: 0:00:02 Time:  0:00:02\n"
     ]
    },
    {
     "name": "stdout",
     "output_type": "stream",
     "text": [
      "LinearGAM                                                                                                 \n",
      "=============================================== ==========================================================\n",
      "Distribution:                        NormalDist Effective DoF:                                     15.7745\n",
      "Link Function:                     IdentityLink Log Likelihood:                               -321062.3011\n",
      "Number of Samples:                         2316 AIC:                                           642158.1511\n",
      "                                                AICc:                                          642158.4106\n",
      "                                                GCV:                                                0.0035\n",
      "                                                Scale:                                              0.0035\n",
      "                                                Pseudo R-Squared:                                   0.7455\n",
      "==========================================================================================================\n",
      "Feature Function                  Lambda               Rank         EDoF         P > x        Sig. Code   \n",
      "================================= ==================== ============ ============ ============ ============\n",
      "s(0)                              [0.6]                20           13.8         1.11e-16     ***         \n",
      "l(1)                              [0.6]                1            1.0          1.11e-16     ***         \n",
      "l(2)                              [0.6]                1            1.0          1.11e-16     ***         \n",
      "intercept                                              1            0.0          1.11e-16     ***         \n",
      "==========================================================================================================\n",
      "Significance codes:  0 '***' 0.001 '**' 0.01 '*' 0.05 '.' 0.1 ' ' 1\n",
      "\n",
      "WARNING: Fitting splines and a linear function to a feature introduces a model identifiability problem\n",
      "         which can cause p-values to appear significant when they are not.\n",
      "\n",
      "WARNING: p-values calculated in this manner behave correctly for un-penalized models or models with\n",
      "         known smoothing parameters, but when smoothing parameters have been estimated, the p-values\n",
      "         are typically lower than they should be, meaning that the tests reject the null too readily.\n"
     ]
    },
    {
     "name": "stderr",
     "output_type": "stream",
     "text": [
      "/var/folders/6g/kgz5rml118s6lqw25w5sv5mr0000gn/T/ipykernel_2630/2940222901.py:10: UserWarning: KNOWN BUG: p-values computed in this summary are likely much smaller than they should be. \n",
      " \n",
      "Please do not make inferences based on these values! \n",
      "\n",
      "Collaborate on a solution, and stay up to date at: \n",
      "github.com/dswah/pyGAM/issues/163 \n",
      "\n",
      "  ndvi_500_2.summary()\n"
     ]
    }
   ],
   "source": [
    "# Model 2\n",
    "warnings.filterwarnings(\"ignore\", category=RuntimeWarning)\n",
    "ndvi_500_2 = LinearGAM(s(0) + l(1) + l(2)).fit(X_train, y_train)\n",
    "\n",
    "# using gridsearch to tune the lambdas\n",
    "lam = np.logspace(-3, 5, 5)\n",
    "lams = [lam] * 3\n",
    "\n",
    "ndvi_500_2.gridsearch(X_train, y_train, lam=lams)\n",
    "ndvi_500_2.summary()"
   ]
  },
  {
   "cell_type": "markdown",
   "id": "22659493",
   "metadata": {},
   "source": [
    "### 3.3. Model 3: NDVI ~ linear(tree canopy) + spline(forbs and shrubs) + linear(grass)"
   ]
  },
  {
   "cell_type": "code",
   "execution_count": 28,
   "id": "401639f6",
   "metadata": {},
   "outputs": [
    {
     "name": "stderr",
     "output_type": "stream",
     "text": [
      "100% (125 of 125) |######################| Elapsed Time: 0:00:02 Time:  0:00:02\n"
     ]
    },
    {
     "name": "stdout",
     "output_type": "stream",
     "text": [
      "LinearGAM                                                                                                 \n",
      "=============================================== ==========================================================\n",
      "Distribution:                        NormalDist Effective DoF:                                     11.9292\n",
      "Link Function:                     IdentityLink Log Likelihood:                               -383984.1565\n",
      "Number of Samples:                         2316 AIC:                                           767994.1714\n",
      "                                                AICc:                                          767994.3279\n",
      "                                                GCV:                                                0.0029\n",
      "                                                Scale:                                              0.0029\n",
      "                                                Pseudo R-Squared:                                   0.7855\n",
      "==========================================================================================================\n",
      "Feature Function                  Lambda               Rank         EDoF         P > x        Sig. Code   \n",
      "================================= ==================== ============ ============ ============ ============\n",
      "l(0)                              [0.001]              1            1.0          1.11e-16     ***         \n",
      "s(1)                              [10.]                20           9.9          1.11e-16     ***         \n",
      "l(2)                              [0.001]              1            1.0          1.11e-16     ***         \n",
      "intercept                                              1            0.0          1.11e-16     ***         \n",
      "==========================================================================================================\n",
      "Significance codes:  0 '***' 0.001 '**' 0.01 '*' 0.05 '.' 0.1 ' ' 1\n",
      "\n",
      "WARNING: Fitting splines and a linear function to a feature introduces a model identifiability problem\n",
      "         which can cause p-values to appear significant when they are not.\n",
      "\n",
      "WARNING: p-values calculated in this manner behave correctly for un-penalized models or models with\n",
      "         known smoothing parameters, but when smoothing parameters have been estimated, the p-values\n",
      "         are typically lower than they should be, meaning that the tests reject the null too readily.\n"
     ]
    },
    {
     "name": "stderr",
     "output_type": "stream",
     "text": [
      "/var/folders/6g/kgz5rml118s6lqw25w5sv5mr0000gn/T/ipykernel_2630/3773330009.py:10: UserWarning: KNOWN BUG: p-values computed in this summary are likely much smaller than they should be. \n",
      " \n",
      "Please do not make inferences based on these values! \n",
      "\n",
      "Collaborate on a solution, and stay up to date at: \n",
      "github.com/dswah/pyGAM/issues/163 \n",
      "\n",
      "  ndvi_500_3.summary()\n"
     ]
    }
   ],
   "source": [
    "# Model 3\n",
    "warnings.filterwarnings(\"ignore\", category=RuntimeWarning)\n",
    "ndvi_500_3 = LinearGAM(l(0) + s(1) + l(2)).fit(X_train, y_train)\n",
    "\n",
    "# using gridsearch to tune the lambdas\n",
    "lam = np.logspace(-3, 5, 5)\n",
    "lams = [lam] * 3\n",
    "\n",
    "ndvi_500_3.gridsearch(X_train, y_train, lam=lams)\n",
    "ndvi_500_3.summary()"
   ]
  },
  {
   "cell_type": "markdown",
   "id": "5cdb9a1f",
   "metadata": {},
   "source": [
    "### 3.4. Model 4: NDVI ~ linear(tree canopy) + linear(forbs and shrubs) + spline(grass)"
   ]
  },
  {
   "cell_type": "code",
   "execution_count": 29,
   "id": "73ce6f1b",
   "metadata": {},
   "outputs": [
    {
     "name": "stderr",
     "output_type": "stream",
     "text": [
      "100% (125 of 125) |######################| Elapsed Time: 0:00:02 Time:  0:00:02\n"
     ]
    },
    {
     "name": "stdout",
     "output_type": "stream",
     "text": [
      "LinearGAM                                                                                                 \n",
      "=============================================== ==========================================================\n",
      "Distribution:                        NormalDist Effective DoF:                                     11.3218\n",
      "Link Function:                     IdentityLink Log Likelihood:                               -329813.7655\n",
      "Number of Samples:                         2316 AIC:                                           659652.1746\n",
      "                                                AICc:                                          659652.3171\n",
      "                                                GCV:                                                0.0034\n",
      "                                                Scale:                                              0.0034\n",
      "                                                Pseudo R-Squared:                                   0.7511\n",
      "==========================================================================================================\n",
      "Feature Function                  Lambda               Rank         EDoF         P > x        Sig. Code   \n",
      "================================= ==================== ============ ============ ============ ============\n",
      "l(0)                              [0.001]              1            1.0          1.11e-16     ***         \n",
      "l(1)                              [0.001]              1            1.0          1.11e-16     ***         \n",
      "s(2)                              [10.]                20           9.3          1.11e-16     ***         \n",
      "intercept                                              1            0.0          1.11e-16     ***         \n",
      "==========================================================================================================\n",
      "Significance codes:  0 '***' 0.001 '**' 0.01 '*' 0.05 '.' 0.1 ' ' 1\n",
      "\n",
      "WARNING: Fitting splines and a linear function to a feature introduces a model identifiability problem\n",
      "         which can cause p-values to appear significant when they are not.\n",
      "\n",
      "WARNING: p-values calculated in this manner behave correctly for un-penalized models or models with\n",
      "         known smoothing parameters, but when smoothing parameters have been estimated, the p-values\n",
      "         are typically lower than they should be, meaning that the tests reject the null too readily.\n"
     ]
    },
    {
     "name": "stderr",
     "output_type": "stream",
     "text": [
      "/var/folders/6g/kgz5rml118s6lqw25w5sv5mr0000gn/T/ipykernel_2630/755273682.py:10: UserWarning: KNOWN BUG: p-values computed in this summary are likely much smaller than they should be. \n",
      " \n",
      "Please do not make inferences based on these values! \n",
      "\n",
      "Collaborate on a solution, and stay up to date at: \n",
      "github.com/dswah/pyGAM/issues/163 \n",
      "\n",
      "  ndvi_500_4.summary()\n"
     ]
    }
   ],
   "source": [
    "# Model 4\n",
    "warnings.filterwarnings(\"ignore\", category=RuntimeWarning)\n",
    "ndvi_500_4 = LinearGAM(l(0) + l(1) + s(2)).fit(X_train, y_train)\n",
    "\n",
    "# using gridsearch to tune the lambdas\n",
    "lam = np.logspace(-3, 5, 5)\n",
    "lams = [lam] * 3\n",
    "\n",
    "ndvi_500_4.gridsearch(X_train, y_train, lam=lams)\n",
    "ndvi_500_4.summary()"
   ]
  },
  {
   "cell_type": "markdown",
   "id": "94dad9c4",
   "metadata": {},
   "source": [
    "### 3.5. Model 5: NDVI ~ spline(tree canopy) + spline(forbs and shrubs) + linear(grass)"
   ]
  },
  {
   "cell_type": "code",
   "execution_count": 30,
   "id": "5ac8340a",
   "metadata": {},
   "outputs": [
    {
     "name": "stderr",
     "output_type": "stream",
     "text": [
      "100% (125 of 125) |######################| Elapsed Time: 0:00:03 Time:  0:00:03\n"
     ]
    },
    {
     "name": "stdout",
     "output_type": "stream",
     "text": [
      "LinearGAM                                                                                                 \n",
      "=============================================== ==========================================================\n",
      "Distribution:                        NormalDist Effective DoF:                                     26.1445\n",
      "Link Function:                     IdentityLink Log Likelihood:                               -397276.6384\n",
      "Number of Samples:                         2316 AIC:                                           794607.5658\n",
      "                                                AICc:                                          794608.2336\n",
      "                                                GCV:                                                0.0029\n",
      "                                                Scale:                                              0.0028\n",
      "                                                Pseudo R-Squared:                                   0.7951\n",
      "==========================================================================================================\n",
      "Feature Function                  Lambda               Rank         EDoF         P > x        Sig. Code   \n",
      "================================= ==================== ============ ============ ============ ============\n",
      "s(0)                              [0.1]                20           16.3         1.11e-16     ***         \n",
      "s(1)                              [10.]                20           8.9          1.11e-16     ***         \n",
      "l(2)                              [0.1]                1            1.0          1.11e-16     ***         \n",
      "intercept                                              1            0.0          1.11e-16     ***         \n",
      "==========================================================================================================\n",
      "Significance codes:  0 '***' 0.001 '**' 0.01 '*' 0.05 '.' 0.1 ' ' 1\n",
      "\n",
      "WARNING: Fitting splines and a linear function to a feature introduces a model identifiability problem\n",
      "         which can cause p-values to appear significant when they are not.\n",
      "\n",
      "WARNING: p-values calculated in this manner behave correctly for un-penalized models or models with\n",
      "         known smoothing parameters, but when smoothing parameters have been estimated, the p-values\n",
      "         are typically lower than they should be, meaning that the tests reject the null too readily.\n"
     ]
    },
    {
     "name": "stderr",
     "output_type": "stream",
     "text": [
      "/var/folders/6g/kgz5rml118s6lqw25w5sv5mr0000gn/T/ipykernel_2630/3854426641.py:10: UserWarning: KNOWN BUG: p-values computed in this summary are likely much smaller than they should be. \n",
      " \n",
      "Please do not make inferences based on these values! \n",
      "\n",
      "Collaborate on a solution, and stay up to date at: \n",
      "github.com/dswah/pyGAM/issues/163 \n",
      "\n",
      "  ndvi_500_5.summary()\n"
     ]
    }
   ],
   "source": [
    "# Model 5\n",
    "warnings.filterwarnings(\"ignore\", category=RuntimeWarning)\n",
    "ndvi_500_5 = LinearGAM(s(0) + s(1) + l(2)).fit(X_train, y_train)\n",
    "\n",
    "# using gridsearch to tune the lambdas\n",
    "lam = np.logspace(-3, 5, 5)\n",
    "lams = [lam] * 3\n",
    "\n",
    "ndvi_500_5.gridsearch(X_train, y_train, lam=lams)\n",
    "ndvi_500_5.summary()"
   ]
  },
  {
   "cell_type": "markdown",
   "id": "230feebb",
   "metadata": {},
   "source": [
    "### 3.6. Model 6: NDVI ~ spline(tree canopy) + linear(forbs and shrubs) + spline(grass)"
   ]
  },
  {
   "cell_type": "code",
   "execution_count": 31,
   "id": "46d93acb",
   "metadata": {},
   "outputs": [
    {
     "name": "stderr",
     "output_type": "stream",
     "text": [
      "100% (125 of 125) |######################| Elapsed Time: 0:00:03 Time:  0:00:03\n"
     ]
    },
    {
     "name": "stdout",
     "output_type": "stream",
     "text": [
      "LinearGAM                                                                                                 \n",
      "=============================================== ==========================================================\n",
      "Distribution:                        NormalDist Effective DoF:                                     27.8966\n",
      "Link Function:                     IdentityLink Log Likelihood:                               -349491.5363\n",
      "Number of Samples:                         2316 AIC:                                           699040.8658\n",
      "                                                AICc:                                          699041.6216\n",
      "                                                GCV:                                                0.0032\n",
      "                                                Scale:                                              0.0032\n",
      "                                                Pseudo R-Squared:                                   0.7682\n",
      "==========================================================================================================\n",
      "Feature Function                  Lambda               Rank         EDoF         P > x        Sig. Code   \n",
      "================================= ==================== ============ ============ ============ ============\n",
      "s(0)                              [0.6]                20           13.8         1.11e-16     ***         \n",
      "l(1)                              [0.6]                1            1.0          1.11e-16     ***         \n",
      "s(2)                              [0.6]                20           13.1         1.11e-16     ***         \n",
      "intercept                                              1            0.0          1.11e-16     ***         \n",
      "==========================================================================================================\n",
      "Significance codes:  0 '***' 0.001 '**' 0.01 '*' 0.05 '.' 0.1 ' ' 1\n",
      "\n",
      "WARNING: Fitting splines and a linear function to a feature introduces a model identifiability problem\n",
      "         which can cause p-values to appear significant when they are not.\n",
      "\n",
      "WARNING: p-values calculated in this manner behave correctly for un-penalized models or models with\n",
      "         known smoothing parameters, but when smoothing parameters have been estimated, the p-values\n",
      "         are typically lower than they should be, meaning that the tests reject the null too readily.\n"
     ]
    },
    {
     "name": "stderr",
     "output_type": "stream",
     "text": [
      "/var/folders/6g/kgz5rml118s6lqw25w5sv5mr0000gn/T/ipykernel_2630/1996838194.py:10: UserWarning: KNOWN BUG: p-values computed in this summary are likely much smaller than they should be. \n",
      " \n",
      "Please do not make inferences based on these values! \n",
      "\n",
      "Collaborate on a solution, and stay up to date at: \n",
      "github.com/dswah/pyGAM/issues/163 \n",
      "\n",
      "  ndvi_500_6.summary()\n"
     ]
    }
   ],
   "source": [
    "# Model 6\n",
    "warnings.filterwarnings(\"ignore\", category=RuntimeWarning)\n",
    "ndvi_500_6 = LinearGAM(s(0) + l(1) + s(2)).fit(X_train, y_train)\n",
    "\n",
    "# using gridsearch to tune the lambdas\n",
    "lam = np.logspace(-3, 5, 5)\n",
    "lams = [lam] * 3\n",
    "\n",
    "ndvi_500_6.gridsearch(X_train, y_train, lam=lams)\n",
    "ndvi_500_6.summary()"
   ]
  },
  {
   "cell_type": "markdown",
   "id": "ef741dcc",
   "metadata": {},
   "source": [
    "### 3.7. Model 7: NDVI ~ linear(tree canopy) + spline(forbs and shrubs) + spline(grass)"
   ]
  },
  {
   "cell_type": "code",
   "execution_count": 32,
   "id": "7c52cfbc",
   "metadata": {},
   "outputs": [
    {
     "name": "stderr",
     "output_type": "stream",
     "text": [
      "100% (125 of 125) |######################| Elapsed Time: 0:00:03 Time:  0:00:03\n"
     ]
    },
    {
     "name": "stdout",
     "output_type": "stream",
     "text": [
      "LinearGAM                                                                                                 \n",
      "=============================================== ==========================================================\n",
      "Distribution:                        NormalDist Effective DoF:                                     19.1505\n",
      "Link Function:                     IdentityLink Log Likelihood:                               -401162.8729\n",
      "Number of Samples:                         2316 AIC:                                           802366.0467\n",
      "                                                AICc:                                          802366.4181\n",
      "                                                GCV:                                                0.0028\n",
      "                                                Scale:                                              0.0028\n",
      "                                                Pseudo R-Squared:                                   0.7958\n",
      "==========================================================================================================\n",
      "Feature Function                  Lambda               Rank         EDoF         P > x        Sig. Code   \n",
      "================================= ==================== ============ ============ ============ ============\n",
      "l(0)                              [0.001]              1            1.0          1.11e-16     ***         \n",
      "s(1)                              [10.]                20           10.0         1.11e-16     ***         \n",
      "s(2)                              [10.]                20           8.1          1.11e-16     ***         \n",
      "intercept                                              1            0.0          1.11e-16     ***         \n",
      "==========================================================================================================\n",
      "Significance codes:  0 '***' 0.001 '**' 0.01 '*' 0.05 '.' 0.1 ' ' 1\n",
      "\n",
      "WARNING: Fitting splines and a linear function to a feature introduces a model identifiability problem\n",
      "         which can cause p-values to appear significant when they are not.\n",
      "\n",
      "WARNING: p-values calculated in this manner behave correctly for un-penalized models or models with\n",
      "         known smoothing parameters, but when smoothing parameters have been estimated, the p-values\n",
      "         are typically lower than they should be, meaning that the tests reject the null too readily.\n"
     ]
    },
    {
     "name": "stderr",
     "output_type": "stream",
     "text": [
      "/var/folders/6g/kgz5rml118s6lqw25w5sv5mr0000gn/T/ipykernel_2630/3717736121.py:10: UserWarning: KNOWN BUG: p-values computed in this summary are likely much smaller than they should be. \n",
      " \n",
      "Please do not make inferences based on these values! \n",
      "\n",
      "Collaborate on a solution, and stay up to date at: \n",
      "github.com/dswah/pyGAM/issues/163 \n",
      "\n",
      "  ndvi_500_7.summary()\n"
     ]
    }
   ],
   "source": [
    "# Model 7\n",
    "warnings.filterwarnings(\"ignore\", category=RuntimeWarning)\n",
    "ndvi_500_7 = LinearGAM(l(0) + s(1) + s(2)).fit(X_train, y_train)\n",
    "\n",
    "# using gridsearch to tune the lambdas\n",
    "lam = np.logspace(-3, 5, 5)\n",
    "lams = [lam] * 3\n",
    "\n",
    "ndvi_500_7.gridsearch(X_train, y_train, lam=lams)\n",
    "ndvi_500_7.summary()"
   ]
  },
  {
   "cell_type": "markdown",
   "id": "2c447c36",
   "metadata": {},
   "source": [
    "### 3.8. Model 8: NDVI ~ spline(tree canopy) + spline(forbs and shrubs) + spline(grass)"
   ]
  },
  {
   "cell_type": "code",
   "execution_count": 33,
   "id": "b3712729",
   "metadata": {},
   "outputs": [
    {
     "name": "stderr",
     "output_type": "stream",
     "text": [
      "100% (125 of 125) |######################| Elapsed Time: 0:00:05 Time:  0:00:05\n"
     ]
    },
    {
     "name": "stdout",
     "output_type": "stream",
     "text": [
      "LinearGAM                                                                                                 \n",
      "=============================================== ==========================================================\n",
      "Distribution:                        NormalDist Effective DoF:                                     40.7244\n",
      "Link Function:                     IdentityLink Log Likelihood:                               -418549.3081\n",
      "Number of Samples:                         2316 AIC:                                            837182.065\n",
      "                                                AICc:                                          837183.6333\n",
      "                                                GCV:                                                0.0027\n",
      "                                                Scale:                                              0.0026\n",
      "                                                Pseudo R-Squared:                                   0.8078\n",
      "==========================================================================================================\n",
      "Feature Function                  Lambda               Rank         EDoF         P > x        Sig. Code   \n",
      "================================= ==================== ============ ============ ============ ============\n",
      "s(0)                              [0.1]                20           16.3         1.11e-16     ***         \n",
      "s(1)                              [10.]                20           9.2          1.11e-16     ***         \n",
      "s(2)                              [0.1]                20           15.3         1.11e-16     ***         \n",
      "intercept                                              1            0.0          1.11e-16     ***         \n",
      "==========================================================================================================\n",
      "Significance codes:  0 '***' 0.001 '**' 0.01 '*' 0.05 '.' 0.1 ' ' 1\n",
      "\n",
      "WARNING: Fitting splines and a linear function to a feature introduces a model identifiability problem\n",
      "         which can cause p-values to appear significant when they are not.\n",
      "\n",
      "WARNING: p-values calculated in this manner behave correctly for un-penalized models or models with\n",
      "         known smoothing parameters, but when smoothing parameters have been estimated, the p-values\n",
      "         are typically lower than they should be, meaning that the tests reject the null too readily.\n"
     ]
    },
    {
     "name": "stderr",
     "output_type": "stream",
     "text": [
      "/var/folders/6g/kgz5rml118s6lqw25w5sv5mr0000gn/T/ipykernel_2630/1642183498.py:10: UserWarning: KNOWN BUG: p-values computed in this summary are likely much smaller than they should be. \n",
      " \n",
      "Please do not make inferences based on these values! \n",
      "\n",
      "Collaborate on a solution, and stay up to date at: \n",
      "github.com/dswah/pyGAM/issues/163 \n",
      "\n",
      "  ndvi_500_8.summary()\n"
     ]
    }
   ],
   "source": [
    "# Model 8\n",
    "warnings.filterwarnings(\"ignore\", category=RuntimeWarning)\n",
    "ndvi_500_8 = LinearGAM(s(0) + s(1) + s(2)).fit(X_train, y_train)\n",
    "\n",
    "# using gridsearch to tune the lambdas\n",
    "lam = np.logspace(-3, 5, 5)\n",
    "lams = [lam] * 3\n",
    "\n",
    "ndvi_500_8.gridsearch(X_train, y_train, lam=lams)\n",
    "ndvi_500_8.summary()"
   ]
  },
  {
   "cell_type": "markdown",
   "id": "dd3b0846",
   "metadata": {},
   "source": [
    "### 3.9. (BEST MODEL) Model 8: NDVI ~ spline(tree canopy) + spline(forbs and shrubs) + spline(grass)"
   ]
  },
  {
   "cell_type": "code",
   "execution_count": 34,
   "id": "457a1335",
   "metadata": {},
   "outputs": [
    {
     "data": {
      "text/plain": [
       "<Figure size 432x288 with 0 Axes>"
      ]
     },
     "metadata": {},
     "output_type": "display_data"
    },
    {
     "data": {
      "image/png": "[encoded data removed]",
      "text/plain": [
       "<Figure size 864x288 with 3 Axes>"
      ]
     },
     "metadata": {
      "needs_background": "light"
     },
     "output_type": "display_data"
    }
   ],
   "source": [
    "## plotting\n",
    "plt.figure();\n",
    "fig, axs = plt.subplots(1,3,figsize=(12,4));\n",
    "\n",
    "titles = ['Sensitivity of NDVI to tree canopy\\n for buffer zones of 500 m', \n",
    "          'Sensitivity of NDVI to shrubs density\\n for buffer zones of 500 m', \n",
    "          'Sensitivity of NDVI to grass density\\n for buffer zones of 500 m']\n",
    "x_labels = ['Tree canopy', 'Forbs and shrubs', 'Grass']\n",
    "for i, ax in enumerate(axs):\n",
    "    XX = ndvi_500_8.generate_X_grid(term=i)\n",
    "    ax.plot(XX[:, i], ndvi_500_8.partial_dependence(term=i, X=XX))\n",
    "    ax.plot(XX[:, i], ndvi_500_8.partial_dependence(term=i, X=XX, width=.95)[1], c='r', ls='--')\n",
    "    ax.set_ylim(-0.5, 0.8)\n",
    "    ax.set_xticks(list(ax.get_xticks()))\n",
    "    ax.hlines(y=0, xmin=0, xmax=1, linewidth=1, color='black', linestyle='--')\n",
    "    ax.set_ylabel('Change relative to mean NDVI', fontsize=12)\n",
    "    ax.set_xlabel(x_labels[i], fontsize=12)\n",
    "    ax.set_title(titles[i], fontsize=12);\n",
    "    \n",
    "# non-overlapping subplots\n",
    "plt.tight_layout()\n",
    "    \n",
    "# save the figure\n",
    "plt.savefig('thesis_project/visualizations/modelling/multivariate/gam_ndvi_500_best_plot_2.png', dpi=300, bbox_inches='tight')\n",
    "im.open('thesis_project/visualizations/modelling/multivariate/gam_ndvi_500_best_plot_2.png').save('thesis_project/visualizations/modelling/multivariate/gam_ndvi_500_best_plot_2.bmp')\n",
    "\n",
    "plt.show()"
   ]
  },
  {
   "cell_type": "markdown",
   "id": "7ae731ae",
   "metadata": {},
   "source": [
    "- **Parameters of the best multivaritate model (lowest GCV score) that explains NDVI for a buffer zone of 500 meters**\n",
    "    - **Distribution**: Normal\n",
    "    - **Link Function**: Identity\n",
    "    - **Functional Form**: NDVI ~ spline(tree canopy) + spline(forbs and shrubs) + spline(grass)\n",
    "    - **Regularization penalty**: lambda = [0.001, 10, 1000]\n",
    "    - **Smoothness**: n_splines = 20"
   ]
  }
 ],
 "metadata": {
  "kernelspec": {
   "display_name": "Python 3 (ipykernel)",
   "language": "python",
   "name": "python3"
  },
  "language_info": {
   "codemirror_mode": {
    "name": "ipython",
    "version": 3
   },
   "file_extension": ".py",
   "mimetype": "text/x-python",
   "name": "python",
   "nbconvert_exporter": "python",
   "pygments_lexer": "ipython3",
   "version": "3.9.10"
  }
 },
 "nbformat": 4,
 "nbformat_minor": 5
}
