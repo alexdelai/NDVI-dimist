{
 "cells": [
  {
   "cell_type": "markdown",
   "id": "0ba9f552",
   "metadata": {},
   "source": [
    "# Multivariate modelling"
   ]
  },
  {
   "cell_type": "code",
   "execution_count": 82,
   "id": "e28a8f15",
   "metadata": {},
   "outputs": [],
   "source": [
    "import numpy as np\n",
    "import pandas as pd\n",
    "import geopandas as gpd\n",
    "import matplotlib.pyplot as plt\n",
    "import warnings\n",
    "from pygam import GAM, LinearGAM, s, l\n",
    "from sklearn import linear_model, metrics\n",
    "from sklearn.model_selection import train_test_split\n",
    "from sklearn.metrics import accuracy_score, mean_squared_error\n",
    "from PIL import Image as im"
   ]
  },
  {
   "cell_type": "markdown",
   "id": "02196a7a",
   "metadata": {},
   "source": [
    "## 6. Modelling NDVI_100"
   ]
  },
  {
   "cell_type": "code",
   "execution_count": 40,
   "id": "9566af8e",
   "metadata": {},
   "outputs": [
    {
     "data": {
      "text/html": [
       "<div>\n",
       "<style scoped>\n",
       "    .dataframe tbody tr th:only-of-type {\n",
       "        vertical-align: middle;\n",
       "    }\n",
       "\n",
       "    .dataframe tbody tr th {\n",
       "        vertical-align: top;\n",
       "    }\n",
       "\n",
       "    .dataframe thead th {\n",
       "        text-align: right;\n",
       "    }\n",
       "</style>\n",
       "<table border=\"1\" class=\"dataframe\">\n",
       "  <thead>\n",
       "    <tr style=\"text-align: right;\">\n",
       "      <th></th>\n",
       "      <th>NDVI_100</th>\n",
       "      <th>Greenspace%_100</th>\n",
       "      <th>Canopy%_100</th>\n",
       "      <th>Grass%_100</th>\n",
       "      <th>Shrubs%_100</th>\n",
       "      <th>geometry</th>\n",
       "    </tr>\n",
       "  </thead>\n",
       "  <tbody>\n",
       "    <tr>\n",
       "      <th>0</th>\n",
       "      <td>0.536433</td>\n",
       "      <td>0.414039</td>\n",
       "      <td>0.201814</td>\n",
       "      <td>0.097506</td>\n",
       "      <td>0.106576</td>\n",
       "      <td>POINT (377971.171 402346.176)</td>\n",
       "    </tr>\n",
       "    <tr>\n",
       "      <th>1</th>\n",
       "      <td>0.571965</td>\n",
       "      <td>0.551457</td>\n",
       "      <td>0.108844</td>\n",
       "      <td>0.072562</td>\n",
       "      <td>0.340136</td>\n",
       "      <td>POINT (364310.461 403435.100)</td>\n",
       "    </tr>\n",
       "    <tr>\n",
       "      <th>2</th>\n",
       "      <td>0.455587</td>\n",
       "      <td>0.256395</td>\n",
       "      <td>0.129252</td>\n",
       "      <td>0.092971</td>\n",
       "      <td>0.043084</td>\n",
       "      <td>POINT (369566.841 406840.228)</td>\n",
       "    </tr>\n",
       "    <tr>\n",
       "      <th>3</th>\n",
       "      <td>0.816160</td>\n",
       "      <td>0.942891</td>\n",
       "      <td>0.009070</td>\n",
       "      <td>0.249433</td>\n",
       "      <td>0.068027</td>\n",
       "      <td>POINT (354567.818 412168.416)</td>\n",
       "    </tr>\n",
       "    <tr>\n",
       "      <th>4</th>\n",
       "      <td>0.526997</td>\n",
       "      <td>0.388459</td>\n",
       "      <td>0.217687</td>\n",
       "      <td>0.061224</td>\n",
       "      <td>0.111111</td>\n",
       "      <td>POINT (388526.382 403175.927)</td>\n",
       "    </tr>\n",
       "  </tbody>\n",
       "</table>\n",
       "</div>"
      ],
      "text/plain": [
       "   NDVI_100  Greenspace%_100  Canopy%_100  Grass%_100  Shrubs%_100  \\\n",
       "0  0.536433         0.414039     0.201814    0.097506     0.106576   \n",
       "1  0.571965         0.551457     0.108844    0.072562     0.340136   \n",
       "2  0.455587         0.256395     0.129252    0.092971     0.043084   \n",
       "3  0.816160         0.942891     0.009070    0.249433     0.068027   \n",
       "4  0.526997         0.388459     0.217687    0.061224     0.111111   \n",
       "\n",
       "                        geometry  \n",
       "0  POINT (377971.171 402346.176)  \n",
       "1  POINT (364310.461 403435.100)  \n",
       "2  POINT (369566.841 406840.228)  \n",
       "3  POINT (354567.818 412168.416)  \n",
       "4  POINT (388526.382 403175.927)  "
      ]
     },
     "execution_count": 40,
     "metadata": {},
     "output_type": "execute_result"
    }
   ],
   "source": [
    "# load greenspace metrics at 100m geodataframe\n",
    "gdf_100 = gpd.read_file(\"thesis_project/output/dataframes/greenspace_metrics_100_df.json\")\n",
    "gdf_100.head()"
   ]
  },
  {
   "cell_type": "code",
   "execution_count": 41,
   "id": "88db9dcc",
   "metadata": {},
   "outputs": [],
   "source": [
    "# Grass, Canopy, and Shrubs as predictors\n",
    "cols = ['Canopy%_100', 'Shrubs%_100', 'Grass%_100']\n",
    "df = pd.DataFrame(gdf_100, columns=cols)\n",
    "\n",
    "# target as NDVI_100\n",
    "target = pd.DataFrame(gdf_100, columns=['NDVI_100'])\n",
    "\n",
    "# define X and Y\n",
    "#X = df\n",
    "y = target['NDVI_100']\n",
    "X = df.iloc[:, 0:3].values\n",
    "\n",
    "# split independent and dependent variables into training and test data\n",
    "X_train, X_test, y_train, y_test = train_test_split(X, y, test_size=0.2, random_state=0)"
   ]
  },
  {
   "cell_type": "markdown",
   "id": "cfa5327e",
   "metadata": {},
   "source": [
    "### 6.1. Model 1: NDVI ~ linear(tree canopy) + linear(forbs and shrubs) + linear(grass)"
   ]
  },
  {
   "cell_type": "code",
   "execution_count": 44,
   "id": "5dd2f5b4",
   "metadata": {},
   "outputs": [
    {
     "name": "stderr",
     "output_type": "stream",
     "text": [
      "100% (125 of 125) |######################| Elapsed Time: 0:00:01 Time:  0:00:01\n"
     ]
    },
    {
     "name": "stdout",
     "output_type": "stream",
     "text": [
      "LinearGAM                                                                                                 \n",
      "=============================================== ==========================================================\n",
      "Distribution:                        NormalDist Effective DoF:                                      3.9996\n",
      "Link Function:                     IdentityLink Log Likelihood:                               -334730.1214\n",
      "Number of Samples:                         4673 AIC:                                           669470.2421\n",
      "                                                AICc:                                           669470.255\n",
      "                                                GCV:                                                0.0066\n",
      "                                                Scale:                                              0.0066\n",
      "                                                Pseudo R-Squared:                                   0.6928\n",
      "==========================================================================================================\n",
      "Feature Function                  Lambda               Rank         EDoF         P > x        Sig. Code   \n",
      "================================= ==================== ============ ============ ============ ============\n",
      "l(0)                              [0.001]              1            1.0          1.11e-16     ***         \n",
      "l(1)                              [0.1]                1            1.0          1.11e-16     ***         \n",
      "l(2)                              [0.001]              1            1.0          1.11e-16     ***         \n",
      "intercept                                              1            1.0          1.11e-16     ***         \n",
      "==========================================================================================================\n",
      "Significance codes:  0 '***' 0.001 '**' 0.01 '*' 0.05 '.' 0.1 ' ' 1\n",
      "\n",
      "WARNING: Fitting splines and a linear function to a feature introduces a model identifiability problem\n",
      "         which can cause p-values to appear significant when they are not.\n",
      "\n",
      "WARNING: p-values calculated in this manner behave correctly for un-penalized models or models with\n",
      "         known smoothing parameters, but when smoothing parameters have been estimated, the p-values\n",
      "         are typically lower than they should be, meaning that the tests reject the null too readily.\n"
     ]
    },
    {
     "name": "stderr",
     "output_type": "stream",
     "text": [
      "/var/folders/6g/kgz5rml118s6lqw25w5sv5mr0000gn/T/ipykernel_74951/4165518819.py:10: UserWarning: KNOWN BUG: p-values computed in this summary are likely much smaller than they should be. \n",
      " \n",
      "Please do not make inferences based on these values! \n",
      "\n",
      "Collaborate on a solution, and stay up to date at: \n",
      "github.com/dswah/pyGAM/issues/163 \n",
      "\n",
      "  ndvi_100_1.summary()\n"
     ]
    }
   ],
   "source": [
    "# Model 1\n",
    "warnings.filterwarnings(\"ignore\", category=RuntimeWarning)\n",
    "ndvi_100_1 = LinearGAM(l(0) + l(1) + l(2)).fit(X_train, y_train)\n",
    "\n",
    "# using gridsearch to tune the lambdas\n",
    "lam = np.logspace(-3, 5, 5)\n",
    "lams = [lam] * 3\n",
    "\n",
    "ndvi_100_1.gridsearch(X_train, y_train, lam=lams)\n",
    "ndvi_100_1.summary()"
   ]
  },
  {
   "cell_type": "markdown",
   "id": "0ae250d8",
   "metadata": {},
   "source": [
    "### 6.2. Model 2: NDVI ~ spline(tree canopy) + linear(forbs and shrubs) + linear(grass)"
   ]
  },
  {
   "cell_type": "code",
   "execution_count": 45,
   "id": "b7e5eb21",
   "metadata": {},
   "outputs": [
    {
     "name": "stderr",
     "output_type": "stream",
     "text": [
      "100% (125 of 125) |######################| Elapsed Time: 0:00:03 Time:  0:00:03\n"
     ]
    },
    {
     "name": "stdout",
     "output_type": "stream",
     "text": [
      "LinearGAM                                                                                                 \n",
      "=============================================== ==========================================================\n",
      "Distribution:                        NormalDist Effective DoF:                                     19.6945\n",
      "Link Function:                     IdentityLink Log Likelihood:                               -375480.4636\n",
      "Number of Samples:                         4673 AIC:                                           751002.3161\n",
      "                                                AICc:                                          751002.5092\n",
      "                                                GCV:                                                0.0059\n",
      "                                                Scale:                                              0.0059\n",
      "                                                Pseudo R-Squared:                                   0.7268\n",
      "==========================================================================================================\n",
      "Feature Function                  Lambda               Rank         EDoF         P > x        Sig. Code   \n",
      "================================= ==================== ============ ============ ============ ============\n",
      "s(0)                              [0.1]                20           17.7         1.11e-16     ***         \n",
      "l(1)                              [0.001]              1            1.0          1.11e-16     ***         \n",
      "l(2)                              [0.1]                1            1.0          1.11e-16     ***         \n",
      "intercept                                              1            0.0          1.11e-16     ***         \n",
      "==========================================================================================================\n",
      "Significance codes:  0 '***' 0.001 '**' 0.01 '*' 0.05 '.' 0.1 ' ' 1\n",
      "\n",
      "WARNING: Fitting splines and a linear function to a feature introduces a model identifiability problem\n",
      "         which can cause p-values to appear significant when they are not.\n",
      "\n",
      "WARNING: p-values calculated in this manner behave correctly for un-penalized models or models with\n",
      "         known smoothing parameters, but when smoothing parameters have been estimated, the p-values\n",
      "         are typically lower than they should be, meaning that the tests reject the null too readily.\n"
     ]
    },
    {
     "name": "stderr",
     "output_type": "stream",
     "text": [
      "/var/folders/6g/kgz5rml118s6lqw25w5sv5mr0000gn/T/ipykernel_74951/2442450153.py:10: UserWarning: KNOWN BUG: p-values computed in this summary are likely much smaller than they should be. \n",
      " \n",
      "Please do not make inferences based on these values! \n",
      "\n",
      "Collaborate on a solution, and stay up to date at: \n",
      "github.com/dswah/pyGAM/issues/163 \n",
      "\n",
      "  ndvi_100_2.summary()\n"
     ]
    }
   ],
   "source": [
    "# Model 2\n",
    "warnings.filterwarnings(\"ignore\", category=RuntimeWarning)\n",
    "ndvi_100_2 = LinearGAM(s(0) + l(1) + l(2)).fit(X_train, y_train)\n",
    "\n",
    "# using gridsearch to tune the lambdas\n",
    "lam = np.logspace(-3, 5, 5)\n",
    "lams = [lam] * 3\n",
    "\n",
    "ndvi_100_2.gridsearch(X_train, y_train, lam=lams)\n",
    "ndvi_100_2.summary()"
   ]
  },
  {
   "cell_type": "markdown",
   "id": "eb1a741c",
   "metadata": {},
   "source": [
    "### 6.3. Model 3: NDVI ~ linear(tree canopy) + spline(forbs and shrubs) + linear(grass)"
   ]
  },
  {
   "cell_type": "code",
   "execution_count": 46,
   "id": "9fada82e",
   "metadata": {},
   "outputs": [
    {
     "name": "stderr",
     "output_type": "stream",
     "text": [
      "100% (125 of 125) |######################| Elapsed Time: 0:00:04 Time:  0:00:04\n"
     ]
    },
    {
     "name": "stdout",
     "output_type": "stream",
     "text": [
      "LinearGAM                                                                                                 \n",
      "=============================================== ==========================================================\n",
      "Distribution:                        NormalDist Effective DoF:                                     21.9796\n",
      "Link Function:                     IdentityLink Log Likelihood:                               -394042.6295\n",
      "Number of Samples:                         4673 AIC:                                           788131.2183\n",
      "                                                AICc:                                          788131.4554\n",
      "                                                GCV:                                                0.0057\n",
      "                                                Scale:                                              0.0056\n",
      "                                                Pseudo R-Squared:                                   0.7394\n",
      "==========================================================================================================\n",
      "Feature Function                  Lambda               Rank         EDoF         P > x        Sig. Code   \n",
      "================================= ==================== ============ ============ ============ ============\n",
      "l(0)                              [0.001]              1            1.0          1.11e-16     ***         \n",
      "s(1)                              [0.001]              20           20.0         1.11e-16     ***         \n",
      "l(2)                              [0.001]              1            1.0          1.11e-16     ***         \n",
      "intercept                                              1            0.0          1.11e-16     ***         \n",
      "==========================================================================================================\n",
      "Significance codes:  0 '***' 0.001 '**' 0.01 '*' 0.05 '.' 0.1 ' ' 1\n",
      "\n",
      "WARNING: Fitting splines and a linear function to a feature introduces a model identifiability problem\n",
      "         which can cause p-values to appear significant when they are not.\n",
      "\n",
      "WARNING: p-values calculated in this manner behave correctly for un-penalized models or models with\n",
      "         known smoothing parameters, but when smoothing parameters have been estimated, the p-values\n",
      "         are typically lower than they should be, meaning that the tests reject the null too readily.\n"
     ]
    },
    {
     "name": "stderr",
     "output_type": "stream",
     "text": [
      "/var/folders/6g/kgz5rml118s6lqw25w5sv5mr0000gn/T/ipykernel_74951/4073591579.py:10: UserWarning: KNOWN BUG: p-values computed in this summary are likely much smaller than they should be. \n",
      " \n",
      "Please do not make inferences based on these values! \n",
      "\n",
      "Collaborate on a solution, and stay up to date at: \n",
      "github.com/dswah/pyGAM/issues/163 \n",
      "\n",
      "  ndvi_100_3.summary()\n"
     ]
    }
   ],
   "source": [
    "# Model 3\n",
    "warnings.filterwarnings(\"ignore\", category=RuntimeWarning)\n",
    "ndvi_100_3 = LinearGAM(l(0) + s(1) + l(2)).fit(X_train, y_train)\n",
    "\n",
    "# using gridsearch to tune the lambdas\n",
    "lam = np.logspace(-3, 5, 5)\n",
    "lams = [lam] * 3\n",
    "\n",
    "ndvi_100_3.gridsearch(X_train, y_train, lam=lams)\n",
    "ndvi_100_3.summary()"
   ]
  },
  {
   "cell_type": "markdown",
   "id": "3453e3ea",
   "metadata": {},
   "source": [
    "### 6.4. Model 4: NDVI ~ linear(tree canopy) + linear(forbs and shrubs) + spline(grass)"
   ]
  },
  {
   "cell_type": "code",
   "execution_count": 47,
   "id": "153120db",
   "metadata": {},
   "outputs": [
    {
     "name": "stderr",
     "output_type": "stream",
     "text": [
      "100% (125 of 125) |######################| Elapsed Time: 0:00:04 Time:  0:00:04\n"
     ]
    },
    {
     "name": "stdout",
     "output_type": "stream",
     "text": [
      "LinearGAM                                                                                                 \n",
      "=============================================== ==========================================================\n",
      "Distribution:                        NormalDist Effective DoF:                                     19.6776\n",
      "Link Function:                     IdentityLink Log Likelihood:                                -364393.798\n",
      "Number of Samples:                         4673 AIC:                                           728828.9513\n",
      "                                                AICc:                                           728829.144\n",
      "                                                GCV:                                                0.0061\n",
      "                                                Scale:                                              0.0061\n",
      "                                                Pseudo R-Squared:                                   0.7188\n",
      "==========================================================================================================\n",
      "Feature Function                  Lambda               Rank         EDoF         P > x        Sig. Code   \n",
      "================================= ==================== ============ ============ ============ ============\n",
      "l(0)                              [0.001]              1            1.0          1.11e-16     ***         \n",
      "l(1)                              [0.001]              1            1.0          1.11e-16     ***         \n",
      "s(2)                              [0.1]                20           17.7         1.11e-16     ***         \n",
      "intercept                                              1            0.0          1.11e-16     ***         \n",
      "==========================================================================================================\n",
      "Significance codes:  0 '***' 0.001 '**' 0.01 '*' 0.05 '.' 0.1 ' ' 1\n",
      "\n",
      "WARNING: Fitting splines and a linear function to a feature introduces a model identifiability problem\n",
      "         which can cause p-values to appear significant when they are not.\n",
      "\n",
      "WARNING: p-values calculated in this manner behave correctly for un-penalized models or models with\n",
      "         known smoothing parameters, but when smoothing parameters have been estimated, the p-values\n",
      "         are typically lower than they should be, meaning that the tests reject the null too readily.\n"
     ]
    },
    {
     "name": "stderr",
     "output_type": "stream",
     "text": [
      "/var/folders/6g/kgz5rml118s6lqw25w5sv5mr0000gn/T/ipykernel_74951/3955161003.py:10: UserWarning: KNOWN BUG: p-values computed in this summary are likely much smaller than they should be. \n",
      " \n",
      "Please do not make inferences based on these values! \n",
      "\n",
      "Collaborate on a solution, and stay up to date at: \n",
      "github.com/dswah/pyGAM/issues/163 \n",
      "\n",
      "  ndvi_100_4.summary()\n"
     ]
    }
   ],
   "source": [
    "# Model 4\n",
    "warnings.filterwarnings(\"ignore\", category=RuntimeWarning)\n",
    "ndvi_100_4 = LinearGAM(l(0) + l(1) + s(2)).fit(X_train, y_train)\n",
    "\n",
    "# using gridsearch to tune the lambdas\n",
    "lam = np.logspace(-3, 5, 5)\n",
    "lams = [lam] * 3\n",
    "\n",
    "ndvi_100_4.gridsearch(X_train, y_train, lam=lams)\n",
    "ndvi_100_4.summary()"
   ]
  },
  {
   "cell_type": "markdown",
   "id": "47b64557",
   "metadata": {},
   "source": [
    "### 6.5. Model 5: NDVI ~ spline(tree canopy) + spline(forbs and shrubs) + linear(grass)"
   ]
  },
  {
   "cell_type": "code",
   "execution_count": 48,
   "id": "1911bdb6",
   "metadata": {},
   "outputs": [
    {
     "name": "stderr",
     "output_type": "stream",
     "text": [
      "100% (125 of 125) |######################| Elapsed Time: 0:00:07 Time:  0:00:07\n"
     ]
    },
    {
     "name": "stdout",
     "output_type": "stream",
     "text": [
      "LinearGAM                                                                                                 \n",
      "=============================================== ==========================================================\n",
      "Distribution:                        NormalDist Effective DoF:                                     37.6532\n",
      "Link Function:                     IdentityLink Log Likelihood:                               -404805.7086\n",
      "Number of Samples:                         4673 AIC:                                           809688.7235\n",
      "                                                AICc:                                          809689.3851\n",
      "                                                GCV:                                                0.0055\n",
      "                                                Scale:                                              0.0055\n",
      "                                                Pseudo R-Squared:                                   0.7478\n",
      "==========================================================================================================\n",
      "Feature Function                  Lambda               Rank         EDoF         P > x        Sig. Code   \n",
      "================================= ==================== ============ ============ ============ ============\n",
      "s(0)                              [0.1]                20           17.7         1.11e-16     ***         \n",
      "s(1)                              [0.001]              20           18.9         1.11e-16     ***         \n",
      "l(2)                              [0.1]                1            1.0          1.11e-16     ***         \n",
      "intercept                                              1            0.0          1.11e-16     ***         \n",
      "==========================================================================================================\n",
      "Significance codes:  0 '***' 0.001 '**' 0.01 '*' 0.05 '.' 0.1 ' ' 1\n",
      "\n",
      "WARNING: Fitting splines and a linear function to a feature introduces a model identifiability problem\n",
      "         which can cause p-values to appear significant when they are not.\n",
      "\n",
      "WARNING: p-values calculated in this manner behave correctly for un-penalized models or models with\n",
      "         known smoothing parameters, but when smoothing parameters have been estimated, the p-values\n",
      "         are typically lower than they should be, meaning that the tests reject the null too readily.\n"
     ]
    },
    {
     "name": "stderr",
     "output_type": "stream",
     "text": [
      "/var/folders/6g/kgz5rml118s6lqw25w5sv5mr0000gn/T/ipykernel_74951/979852687.py:10: UserWarning: KNOWN BUG: p-values computed in this summary are likely much smaller than they should be. \n",
      " \n",
      "Please do not make inferences based on these values! \n",
      "\n",
      "Collaborate on a solution, and stay up to date at: \n",
      "github.com/dswah/pyGAM/issues/163 \n",
      "\n",
      "  ndvi_100_5.summary()\n"
     ]
    }
   ],
   "source": [
    "# Model 5\n",
    "warnings.filterwarnings(\"ignore\", category=RuntimeWarning)\n",
    "ndvi_100_5 = LinearGAM(s(0) + s(1) + l(2)).fit(X_train, y_train)\n",
    "\n",
    "# using gridsearch to tune the lambdas\n",
    "lam = np.logspace(-3, 5, 5)\n",
    "lams = [lam] * 3\n",
    "\n",
    "ndvi_100_5.gridsearch(X_train, y_train, lam=lams)\n",
    "ndvi_100_5.summary()"
   ]
  },
  {
   "cell_type": "markdown",
   "id": "5651f77d",
   "metadata": {},
   "source": [
    "### 6.6. Model 6: NDVI ~ spline(tree canopy) + linear(forbs and shrubs) + spline(grass)"
   ]
  },
  {
   "cell_type": "code",
   "execution_count": 49,
   "id": "8cc62741",
   "metadata": {},
   "outputs": [
    {
     "name": "stderr",
     "output_type": "stream",
     "text": [
      "100% (125 of 125) |######################| Elapsed Time: 0:00:06 Time:  0:00:06\n"
     ]
    },
    {
     "name": "stdout",
     "output_type": "stream",
     "text": [
      "LinearGAM                                                                                                 \n",
      "=============================================== ==========================================================\n",
      "Distribution:                        NormalDist Effective DoF:                                     35.3582\n",
      "Link Function:                     IdentityLink Log Likelihood:                               -389184.4997\n",
      "Number of Samples:                         4673 AIC:                                           778441.7158\n",
      "                                                AICc:                                          778442.3018\n",
      "                                                GCV:                                                0.0057\n",
      "                                                Scale:                                              0.0057\n",
      "                                                Pseudo R-Squared:                                   0.7378\n",
      "==========================================================================================================\n",
      "Feature Function                  Lambda               Rank         EDoF         P > x        Sig. Code   \n",
      "================================= ==================== ============ ============ ============ ============\n",
      "s(0)                              [0.1]                20           17.7         1.11e-16     ***         \n",
      "l(1)                              [0.001]              1            1.0          1.11e-16     ***         \n",
      "s(2)                              [0.1]                20           16.7         1.11e-16     ***         \n",
      "intercept                                              1            0.0          1.11e-16     ***         \n",
      "==========================================================================================================\n",
      "Significance codes:  0 '***' 0.001 '**' 0.01 '*' 0.05 '.' 0.1 ' ' 1\n",
      "\n",
      "WARNING: Fitting splines and a linear function to a feature introduces a model identifiability problem\n",
      "         which can cause p-values to appear significant when they are not.\n",
      "\n",
      "WARNING: p-values calculated in this manner behave correctly for un-penalized models or models with\n",
      "         known smoothing parameters, but when smoothing parameters have been estimated, the p-values\n",
      "         are typically lower than they should be, meaning that the tests reject the null too readily.\n"
     ]
    },
    {
     "name": "stderr",
     "output_type": "stream",
     "text": [
      "/var/folders/6g/kgz5rml118s6lqw25w5sv5mr0000gn/T/ipykernel_74951/1329383776.py:10: UserWarning: KNOWN BUG: p-values computed in this summary are likely much smaller than they should be. \n",
      " \n",
      "Please do not make inferences based on these values! \n",
      "\n",
      "Collaborate on a solution, and stay up to date at: \n",
      "github.com/dswah/pyGAM/issues/163 \n",
      "\n",
      "  ndvi_100_6.summary()\n"
     ]
    }
   ],
   "source": [
    "# Model 6\n",
    "warnings.filterwarnings(\"ignore\", category=RuntimeWarning)\n",
    "ndvi_100_6 = LinearGAM(s(0) + l(1) + s(2)).fit(X_train, y_train)\n",
    "\n",
    "# using gridsearch to tune the lambdas\n",
    "lam = np.logspace(-3, 5, 5)\n",
    "lams = [lam] * 3\n",
    "\n",
    "ndvi_100_6.gridsearch(X_train, y_train, lam=lams)\n",
    "ndvi_100_6.summary()"
   ]
  },
  {
   "cell_type": "markdown",
   "id": "20f3eaa8",
   "metadata": {},
   "source": [
    "### 6.7. Model 7: NDVI ~ linear(tree canopy) + spline(forbs and shrubs) + spline(grass)"
   ]
  },
  {
   "cell_type": "code",
   "execution_count": 50,
   "id": "295a3ac3",
   "metadata": {},
   "outputs": [
    {
     "name": "stderr",
     "output_type": "stream",
     "text": [
      "100% (125 of 125) |######################| Elapsed Time: 0:00:06 Time:  0:00:06\n"
     ]
    },
    {
     "name": "stdout",
     "output_type": "stream",
     "text": [
      "LinearGAM                                                                                                 \n",
      "=============================================== ==========================================================\n",
      "Distribution:                        NormalDist Effective DoF:                                      24.333\n",
      "Link Function:                     IdentityLink Log Likelihood:                               -395120.5145\n",
      "Number of Samples:                         4673 AIC:                                            790291.695\n",
      "                                                AICc:                                          790291.9821\n",
      "                                                GCV:                                                0.0057\n",
      "                                                Scale:                                              0.0056\n",
      "                                                Pseudo R-Squared:                                   0.7404\n",
      "==========================================================================================================\n",
      "Feature Function                  Lambda               Rank         EDoF         P > x        Sig. Code   \n",
      "================================= ==================== ============ ============ ============ ============\n",
      "l(0)                              [0.001]              1            1.0          1.11e-16     ***         \n",
      "s(1)                              [0.001]              20           20.0         1.11e-16     ***         \n",
      "s(2)                              [1000.]              20           3.4          1.11e-16     ***         \n",
      "intercept                                              1            0.0          1.11e-16     ***         \n",
      "==========================================================================================================\n",
      "Significance codes:  0 '***' 0.001 '**' 0.01 '*' 0.05 '.' 0.1 ' ' 1\n",
      "\n",
      "WARNING: Fitting splines and a linear function to a feature introduces a model identifiability problem\n",
      "         which can cause p-values to appear significant when they are not.\n",
      "\n",
      "WARNING: p-values calculated in this manner behave correctly for un-penalized models or models with\n",
      "         known smoothing parameters, but when smoothing parameters have been estimated, the p-values\n",
      "         are typically lower than they should be, meaning that the tests reject the null too readily.\n"
     ]
    },
    {
     "name": "stderr",
     "output_type": "stream",
     "text": [
      "/var/folders/6g/kgz5rml118s6lqw25w5sv5mr0000gn/T/ipykernel_74951/2977915924.py:10: UserWarning: KNOWN BUG: p-values computed in this summary are likely much smaller than they should be. \n",
      " \n",
      "Please do not make inferences based on these values! \n",
      "\n",
      "Collaborate on a solution, and stay up to date at: \n",
      "github.com/dswah/pyGAM/issues/163 \n",
      "\n",
      "  ndvi_100_7.summary()\n"
     ]
    }
   ],
   "source": [
    "# Model 7\n",
    "warnings.filterwarnings(\"ignore\", category=RuntimeWarning)\n",
    "ndvi_100_7 = LinearGAM(l(0) + s(1) + s(2)).fit(X_train, y_train)\n",
    "\n",
    "# using gridsearch to tune the lambdas\n",
    "lam = np.logspace(-3, 5, 5)\n",
    "lams = [lam] * 3\n",
    "\n",
    "ndvi_100_7.gridsearch(X_train, y_train, lam=lams)\n",
    "ndvi_100_7.summary()"
   ]
  },
  {
   "cell_type": "markdown",
   "id": "544e75b7",
   "metadata": {},
   "source": [
    "### 6.8. Model 8: NDVI ~ spline(tree canopy) + spline(forbs and shrubs) + spline(grass)"
   ]
  },
  {
   "cell_type": "code",
   "execution_count": 51,
   "id": "0e44a6c9",
   "metadata": {},
   "outputs": [
    {
     "name": "stderr",
     "output_type": "stream",
     "text": [
      "100% (125 of 125) |######################| Elapsed Time: 0:00:10 Time:  0:00:10\n"
     ]
    },
    {
     "name": "stdout",
     "output_type": "stream",
     "text": [
      "LinearGAM                                                                                                 \n",
      "=============================================== ==========================================================\n",
      "Distribution:                        NormalDist Effective DoF:                                     39.9891\n",
      "Link Function:                     IdentityLink Log Likelihood:                               -405451.1313\n",
      "Number of Samples:                         4673 AIC:                                           810984.2408\n",
      "                                                AICc:                                          810984.9841\n",
      "                                                GCV:                                                0.0055\n",
      "                                                Scale:                                              0.0054\n",
      "                                                Pseudo R-Squared:                                   0.7484\n",
      "==========================================================================================================\n",
      "Feature Function                  Lambda               Rank         EDoF         P > x        Sig. Code   \n",
      "================================= ==================== ============ ============ ============ ============\n",
      "s(0)                              [0.1]                20           17.7         1.11e-16     ***         \n",
      "s(1)                              [0.001]              20           18.9         1.11e-16     ***         \n",
      "s(2)                              [1000.]              20           3.3          1.11e-16     ***         \n",
      "intercept                                              1            0.0          1.11e-16     ***         \n",
      "==========================================================================================================\n",
      "Significance codes:  0 '***' 0.001 '**' 0.01 '*' 0.05 '.' 0.1 ' ' 1\n",
      "\n",
      "WARNING: Fitting splines and a linear function to a feature introduces a model identifiability problem\n",
      "         which can cause p-values to appear significant when they are not.\n",
      "\n",
      "WARNING: p-values calculated in this manner behave correctly for un-penalized models or models with\n",
      "         known smoothing parameters, but when smoothing parameters have been estimated, the p-values\n",
      "         are typically lower than they should be, meaning that the tests reject the null too readily.\n"
     ]
    },
    {
     "name": "stderr",
     "output_type": "stream",
     "text": [
      "/var/folders/6g/kgz5rml118s6lqw25w5sv5mr0000gn/T/ipykernel_74951/3108876825.py:10: UserWarning: KNOWN BUG: p-values computed in this summary are likely much smaller than they should be. \n",
      " \n",
      "Please do not make inferences based on these values! \n",
      "\n",
      "Collaborate on a solution, and stay up to date at: \n",
      "github.com/dswah/pyGAM/issues/163 \n",
      "\n",
      "  ndvi_100_8.summary()\n"
     ]
    }
   ],
   "source": [
    "# Model 8\n",
    "warnings.filterwarnings(\"ignore\", category=RuntimeWarning)\n",
    "ndvi_100_8 = LinearGAM(s(0) + s(1) + s(2)).fit(X_train, y_train)\n",
    "\n",
    "# using gridsearch to tune the lambdas\n",
    "lam = np.logspace(-3, 5, 5)\n",
    "lams = [lam] * 3\n",
    "\n",
    "ndvi_100_8.gridsearch(X_train, y_train, lam=lams)\n",
    "ndvi_100_8.summary()"
   ]
  },
  {
   "cell_type": "markdown",
   "id": "12b4f19d",
   "metadata": {},
   "source": [
    "### 6.9. (BEST MODEL) Model 5: NDVI ~ spline(tree canopy) + spline(forbs and shrubs) + linear(grass)"
   ]
  },
  {
   "cell_type": "code",
   "execution_count": 85,
   "id": "e635f514",
   "metadata": {},
   "outputs": [
    {
     "data": {
      "text/plain": [
       "<Figure size 432x288 with 0 Axes>"
      ]
     },
     "metadata": {},
     "output_type": "display_data"
    },
    {
     "data": {
      "image/png": "[encoded data removed]",
      "text/plain": [
       "<Figure size 864x288 with 3 Axes>"
      ]
     },
     "metadata": {
      "needs_background": "light"
     },
     "output_type": "display_data"
    }
   ],
   "source": [
    "## plotting\n",
    "plt.figure();\n",
    "fig, axs = plt.subplots(1,3,figsize=(12,4));\n",
    "\n",
    "titles = ['Canopy%_100', 'Shrubs%_100', 'Grass%_100']\n",
    "for i, ax in enumerate(axs):\n",
    "    XX = ndvi_100_5.generate_X_grid(term=i)\n",
    "    ax.plot(XX[:, i], ndvi_100_5.partial_dependence(term=i, X=XX))\n",
    "    ax.plot(XX[:, i], ndvi_100_5.partial_dependence(term=i, X=XX, width=.95)[1], c='r', ls='--')\n",
    "    ax.set_ylim(-0.5, 0.6)\n",
    "    ax.set_xticks(list(ax.get_xticks()))\n",
    "    ax.hlines(y=0, xmin=0, xmax=1, linewidth=1, color='black', linestyle='--')\n",
    "    ax.set_ylabel('Relative change of NDVI_100 (mean)', fontsize=12)\n",
    "    ax.set_title(titles[i], fontsize=12);\n",
    "    \n",
    "# non-overlapping subplots\n",
    "plt.tight_layout()\n",
    "    \n",
    "# save the figure\n",
    "plt.savefig('thesis_project/visualizations/eda/gam_ndvi_100_best_plot.png', dpi=300, bbox_inches='tight')\n",
    "im.open('thesis_project/visualizations/eda/gam_ndvi_100_best_plot.png').save('thesis_project/visualizations/eda/gam_ndvi_100_best_plot.bmp')\n",
    "\n",
    "plt.show()"
   ]
  },
  {
   "cell_type": "markdown",
   "id": "065be971",
   "metadata": {},
   "source": [
    "- **Hyperparameters best GAM NDVI_100 model optimizing for Generalized Cross Validation (GCV) score**\n",
    "    - **Distribution**: Normal\n",
    "    - **Link Function**: Identity\n",
    "    - **Functional Form**: NDVI ~ spline(tree canopy) + spline(forbs and shrubs) + linear(grass)\n",
    "    - **Regularization penalty**: lambda = [0.1, 0.001, 0.1]\n",
    "    - **Smoothness**: n_splines = [20, 20, 1]"
   ]
  },
  {
   "cell_type": "markdown",
   "id": "c11718ba",
   "metadata": {},
   "source": [
    "## 7. Modelling NDVI_300"
   ]
  },
  {
   "cell_type": "code",
   "execution_count": 52,
   "id": "95595499",
   "metadata": {},
   "outputs": [
    {
     "data": {
      "text/html": [
       "<div>\n",
       "<style scoped>\n",
       "    .dataframe tbody tr th:only-of-type {\n",
       "        vertical-align: middle;\n",
       "    }\n",
       "\n",
       "    .dataframe tbody tr th {\n",
       "        vertical-align: top;\n",
       "    }\n",
       "\n",
       "    .dataframe thead th {\n",
       "        text-align: right;\n",
       "    }\n",
       "</style>\n",
       "<table border=\"1\" class=\"dataframe\">\n",
       "  <thead>\n",
       "    <tr style=\"text-align: right;\">\n",
       "      <th></th>\n",
       "      <th>NDVI_300</th>\n",
       "      <th>Greenspace%_300</th>\n",
       "      <th>Canopy%_300</th>\n",
       "      <th>Grass%_300</th>\n",
       "      <th>Shrubs%_300</th>\n",
       "      <th>geometry</th>\n",
       "    </tr>\n",
       "  </thead>\n",
       "  <tbody>\n",
       "    <tr>\n",
       "      <th>0</th>\n",
       "      <td>0.488255</td>\n",
       "      <td>0.955836</td>\n",
       "      <td>2.242873e-16</td>\n",
       "      <td>0.062290</td>\n",
       "      <td>0.421350</td>\n",
       "      <td>POINT (396607.971 420663.294)</td>\n",
       "    </tr>\n",
       "    <tr>\n",
       "      <th>1</th>\n",
       "      <td>0.531893</td>\n",
       "      <td>0.496460</td>\n",
       "      <td>2.145669e-01</td>\n",
       "      <td>0.128283</td>\n",
       "      <td>0.198172</td>\n",
       "      <td>POINT (357230.295 401556.298)</td>\n",
       "    </tr>\n",
       "    <tr>\n",
       "      <th>2</th>\n",
       "      <td>0.812246</td>\n",
       "      <td>0.932001</td>\n",
       "      <td>4.007312e-01</td>\n",
       "      <td>0.247811</td>\n",
       "      <td>0.353859</td>\n",
       "      <td>POINT (390380.102 385914.240)</td>\n",
       "    </tr>\n",
       "    <tr>\n",
       "      <th>3</th>\n",
       "      <td>0.949025</td>\n",
       "      <td>0.989765</td>\n",
       "      <td>4.611924e-02</td>\n",
       "      <td>0.185859</td>\n",
       "      <td>0.605270</td>\n",
       "      <td>POINT (374281.691 415010.143)</td>\n",
       "    </tr>\n",
       "    <tr>\n",
       "      <th>4</th>\n",
       "      <td>0.562222</td>\n",
       "      <td>0.574693</td>\n",
       "      <td>3.180540e-01</td>\n",
       "      <td>0.167677</td>\n",
       "      <td>0.148158</td>\n",
       "      <td>POINT (389574.066 388155.085)</td>\n",
       "    </tr>\n",
       "  </tbody>\n",
       "</table>\n",
       "</div>"
      ],
      "text/plain": [
       "   NDVI_300  Greenspace%_300   Canopy%_300  Grass%_300  Shrubs%_300  \\\n",
       "0  0.488255         0.955836  2.242873e-16    0.062290     0.421350   \n",
       "1  0.531893         0.496460  2.145669e-01    0.128283     0.198172   \n",
       "2  0.812246         0.932001  4.007312e-01    0.247811     0.353859   \n",
       "3  0.949025         0.989765  4.611924e-02    0.185859     0.605270   \n",
       "4  0.562222         0.574693  3.180540e-01    0.167677     0.148158   \n",
       "\n",
       "                        geometry  \n",
       "0  POINT (396607.971 420663.294)  \n",
       "1  POINT (357230.295 401556.298)  \n",
       "2  POINT (390380.102 385914.240)  \n",
       "3  POINT (374281.691 415010.143)  \n",
       "4  POINT (389574.066 388155.085)  "
      ]
     },
     "execution_count": 52,
     "metadata": {},
     "output_type": "execute_result"
    }
   ],
   "source": [
    "# load greenspace metrics at 300m geodataframe\n",
    "gdf_300 = gpd.read_file(\"thesis_project/output/dataframes/greenspace_metrics_300_df.json\")\n",
    "gdf_300.head()"
   ]
  },
  {
   "cell_type": "code",
   "execution_count": 53,
   "id": "9b662710",
   "metadata": {},
   "outputs": [],
   "source": [
    "# Grass, Canopy, and Shrubs as predictors\n",
    "cols = ['Canopy%_300', 'Shrubs%_300', 'Grass%_300']\n",
    "df = pd.DataFrame(gdf_300, columns=cols)\n",
    "\n",
    "# target as NDVI_300\n",
    "target = pd.DataFrame(gdf_300, columns=['NDVI_300'])\n",
    "\n",
    "# define X and Y\n",
    "#X = df\n",
    "y = target['NDVI_300']\n",
    "X = df.iloc[:, 0:3].values\n",
    "\n",
    "# split independent and dependent variables into training and test data\n",
    "X_train, X_test, y_train, y_test = train_test_split(X, y, test_size=0.2, random_state=0)"
   ]
  },
  {
   "cell_type": "markdown",
   "id": "6f97873f",
   "metadata": {},
   "source": [
    "### 7.1. Model 1: NDVI ~ linear(tree canopy) + linear(forbs and shrubs) + linear(grass)"
   ]
  },
  {
   "cell_type": "code",
   "execution_count": 54,
   "id": "d1bee84a",
   "metadata": {},
   "outputs": [
    {
     "name": "stderr",
     "output_type": "stream",
     "text": [
      "100% (125 of 125) |######################| Elapsed Time: 0:00:01 Time:  0:00:01\n"
     ]
    },
    {
     "name": "stdout",
     "output_type": "stream",
     "text": [
      "LinearGAM                                                                                                 \n",
      "=============================================== ==========================================================\n",
      "Distribution:                        NormalDist Effective DoF:                                         4.0\n",
      "Link Function:                     IdentityLink Log Likelihood:                               -292054.8095\n",
      "Number of Samples:                         4688 AIC:                                            584119.619\n",
      "                                                AICc:                                          584119.6318\n",
      "                                                GCV:                                                0.0076\n",
      "                                                Scale:                                              0.0075\n",
      "                                                Pseudo R-Squared:                                   0.7165\n",
      "==========================================================================================================\n",
      "Feature Function                  Lambda               Rank         EDoF         P > x        Sig. Code   \n",
      "================================= ==================== ============ ============ ============ ============\n",
      "l(0)                              [0.001]              1            1.0          1.11e-16     ***         \n",
      "l(1)                              [0.001]              1            1.0          1.11e-16     ***         \n",
      "l(2)                              [0.001]              1            1.0          1.11e-16     ***         \n",
      "intercept                                              1            1.0          1.11e-16     ***         \n",
      "==========================================================================================================\n",
      "Significance codes:  0 '***' 0.001 '**' 0.01 '*' 0.05 '.' 0.1 ' ' 1\n",
      "\n",
      "WARNING: Fitting splines and a linear function to a feature introduces a model identifiability problem\n",
      "         which can cause p-values to appear significant when they are not.\n",
      "\n",
      "WARNING: p-values calculated in this manner behave correctly for un-penalized models or models with\n",
      "         known smoothing parameters, but when smoothing parameters have been estimated, the p-values\n",
      "         are typically lower than they should be, meaning that the tests reject the null too readily.\n"
     ]
    },
    {
     "name": "stderr",
     "output_type": "stream",
     "text": [
      "/var/folders/6g/kgz5rml118s6lqw25w5sv5mr0000gn/T/ipykernel_74951/2141360453.py:10: UserWarning: KNOWN BUG: p-values computed in this summary are likely much smaller than they should be. \n",
      " \n",
      "Please do not make inferences based on these values! \n",
      "\n",
      "Collaborate on a solution, and stay up to date at: \n",
      "github.com/dswah/pyGAM/issues/163 \n",
      "\n",
      "  ndvi_300_1.summary()\n"
     ]
    }
   ],
   "source": [
    "# Model 1\n",
    "warnings.filterwarnings(\"ignore\", category=RuntimeWarning)\n",
    "ndvi_300_1 = LinearGAM(l(0) + l(1) + l(2)).fit(X_train, y_train)\n",
    "\n",
    "# using gridsearch to tune the lambdas\n",
    "lam = np.logspace(-3, 5, 5)\n",
    "lams = [lam] * 3\n",
    "\n",
    "ndvi_300_1.gridsearch(X_train, y_train, lam=lams)\n",
    "ndvi_300_1.summary()"
   ]
  },
  {
   "cell_type": "markdown",
   "id": "4b388d84",
   "metadata": {},
   "source": [
    "### 7.2. Model 2: NDVI ~ spline(tree canopy) + linear(forbs and shrubs) + linear(grass)"
   ]
  },
  {
   "cell_type": "code",
   "execution_count": 55,
   "id": "2b9df38d",
   "metadata": {},
   "outputs": [
    {
     "name": "stderr",
     "output_type": "stream",
     "text": [
      "100% (125 of 125) |######################| Elapsed Time: 0:00:04 Time:  0:00:04\n"
     ]
    },
    {
     "name": "stdout",
     "output_type": "stream",
     "text": [
      "LinearGAM                                                                                                 \n",
      "=============================================== ==========================================================\n",
      "Distribution:                        NormalDist Effective DoF:                                     20.8241\n",
      "Link Function:                     IdentityLink Log Likelihood:                               -346370.3993\n",
      "Number of Samples:                         4688 AIC:                                           692784.4468\n",
      "                                                AICc:                                          692784.6603\n",
      "                                                GCV:                                                0.0064\n",
      "                                                Scale:                                              0.0064\n",
      "                                                Pseudo R-Squared:                                   0.7609\n",
      "==========================================================================================================\n",
      "Feature Function                  Lambda               Rank         EDoF         P > x        Sig. Code   \n",
      "================================= ==================== ============ ============ ============ ============\n",
      "s(0)                              [0.001]              20           18.8         1.11e-16     ***         \n",
      "l(1)                              [0.001]              1            1.0          1.11e-16     ***         \n",
      "l(2)                              [0.001]              1            1.0          1.11e-16     ***         \n",
      "intercept                                              1            0.0          1.11e-16     ***         \n",
      "==========================================================================================================\n",
      "Significance codes:  0 '***' 0.001 '**' 0.01 '*' 0.05 '.' 0.1 ' ' 1\n",
      "\n",
      "WARNING: Fitting splines and a linear function to a feature introduces a model identifiability problem\n",
      "         which can cause p-values to appear significant when they are not.\n",
      "\n",
      "WARNING: p-values calculated in this manner behave correctly for un-penalized models or models with\n",
      "         known smoothing parameters, but when smoothing parameters have been estimated, the p-values\n",
      "         are typically lower than they should be, meaning that the tests reject the null too readily.\n"
     ]
    },
    {
     "name": "stderr",
     "output_type": "stream",
     "text": [
      "/var/folders/6g/kgz5rml118s6lqw25w5sv5mr0000gn/T/ipykernel_74951/138880699.py:10: UserWarning: KNOWN BUG: p-values computed in this summary are likely much smaller than they should be. \n",
      " \n",
      "Please do not make inferences based on these values! \n",
      "\n",
      "Collaborate on a solution, and stay up to date at: \n",
      "github.com/dswah/pyGAM/issues/163 \n",
      "\n",
      "  ndvi_300_2.summary()\n"
     ]
    }
   ],
   "source": [
    "# Model 2\n",
    "warnings.filterwarnings(\"ignore\", category=RuntimeWarning)\n",
    "ndvi_300_2 = LinearGAM(s(0) + l(1) + l(2)).fit(X_train, y_train)\n",
    "\n",
    "# using gridsearch to tune the lambdas\n",
    "lam = np.logspace(-3, 5, 5)\n",
    "lams = [lam] * 3\n",
    "\n",
    "ndvi_300_2.gridsearch(X_train, y_train, lam=lams)\n",
    "ndvi_300_2.summary()"
   ]
  },
  {
   "cell_type": "markdown",
   "id": "06fc3016",
   "metadata": {},
   "source": [
    "### 7.3. Model 3: NDVI ~ linear(tree canopy) + spline(forbs and shrubs) + linear(grass)"
   ]
  },
  {
   "cell_type": "code",
   "execution_count": 56,
   "id": "9a68566f",
   "metadata": {},
   "outputs": [
    {
     "name": "stderr",
     "output_type": "stream",
     "text": [
      "100% (125 of 125) |######################| Elapsed Time: 0:00:04 Time:  0:00:04\n"
     ]
    },
    {
     "name": "stdout",
     "output_type": "stream",
     "text": [
      "LinearGAM                                                                                                 \n",
      "=============================================== ==========================================================\n",
      "Distribution:                        NormalDist Effective DoF:                                     13.3487\n",
      "Link Function:                     IdentityLink Log Likelihood:                               -377942.6205\n",
      "Number of Samples:                         4688 AIC:                                           755913.9386\n",
      "                                                AICc:                                          755914.0328\n",
      "                                                GCV:                                                0.0059\n",
      "                                                Scale:                                              0.0059\n",
      "                                                Pseudo R-Squared:                                   0.7794\n",
      "==========================================================================================================\n",
      "Feature Function                  Lambda               Rank         EDoF         P > x        Sig. Code   \n",
      "================================= ==================== ============ ============ ============ ============\n",
      "l(0)                              [0.001]              1            1.0          1.11e-16     ***         \n",
      "s(1)                              [10.]                20           11.4         1.11e-16     ***         \n",
      "l(2)                              [0.1]                1            1.0          1.11e-16     ***         \n",
      "intercept                                              1            0.0          1.11e-16     ***         \n",
      "==========================================================================================================\n",
      "Significance codes:  0 '***' 0.001 '**' 0.01 '*' 0.05 '.' 0.1 ' ' 1\n",
      "\n",
      "WARNING: Fitting splines and a linear function to a feature introduces a model identifiability problem\n",
      "         which can cause p-values to appear significant when they are not.\n",
      "\n",
      "WARNING: p-values calculated in this manner behave correctly for un-penalized models or models with\n",
      "         known smoothing parameters, but when smoothing parameters have been estimated, the p-values\n",
      "         are typically lower than they should be, meaning that the tests reject the null too readily.\n"
     ]
    },
    {
     "name": "stderr",
     "output_type": "stream",
     "text": [
      "/var/folders/6g/kgz5rml118s6lqw25w5sv5mr0000gn/T/ipykernel_74951/2763482722.py:10: UserWarning: KNOWN BUG: p-values computed in this summary are likely much smaller than they should be. \n",
      " \n",
      "Please do not make inferences based on these values! \n",
      "\n",
      "Collaborate on a solution, and stay up to date at: \n",
      "github.com/dswah/pyGAM/issues/163 \n",
      "\n",
      "  ndvi_300_3.summary()\n"
     ]
    }
   ],
   "source": [
    "# Model 3\n",
    "warnings.filterwarnings(\"ignore\", category=RuntimeWarning)\n",
    "ndvi_300_3 = LinearGAM(l(0) + s(1) + l(2)).fit(X_train, y_train)\n",
    "\n",
    "# using gridsearch to tune the lambdas\n",
    "lam = np.logspace(-3, 5, 5)\n",
    "lams = [lam] * 3\n",
    "\n",
    "ndvi_300_3.gridsearch(X_train, y_train, lam=lams)\n",
    "ndvi_300_3.summary()"
   ]
  },
  {
   "cell_type": "markdown",
   "id": "b9b9aab5",
   "metadata": {},
   "source": [
    "### 7.4. Model 4: NDVI ~ linear(tree canopy) + linear(forbs and shrubs) + spline(grass)"
   ]
  },
  {
   "cell_type": "code",
   "execution_count": 57,
   "id": "6a846b22",
   "metadata": {},
   "outputs": [
    {
     "name": "stderr",
     "output_type": "stream",
     "text": [
      "100% (125 of 125) |######################| Elapsed Time: 0:00:04 Time:  0:00:04\n"
     ]
    },
    {
     "name": "stdout",
     "output_type": "stream",
     "text": [
      "LinearGAM                                                                                                 \n",
      "=============================================== ==========================================================\n",
      "Distribution:                        NormalDist Effective DoF:                                     16.6675\n",
      "Link Function:                     IdentityLink Log Likelihood:                                -340562.298\n",
      "Number of Samples:                         4688 AIC:                                            681159.931\n",
      "                                                AICc:                                          681160.0722\n",
      "                                                GCV:                                                0.0065\n",
      "                                                Scale:                                              0.0065\n",
      "                                                Pseudo R-Squared:                                   0.7566\n",
      "==========================================================================================================\n",
      "Feature Function                  Lambda               Rank         EDoF         P > x        Sig. Code   \n",
      "================================= ==================== ============ ============ ============ ============\n",
      "l(0)                              [0.6]                1            1.0          1.11e-16     ***         \n",
      "l(1)                              [0.6]                1            1.0          1.11e-16     ***         \n",
      "s(2)                              [0.6]                20           14.7         1.11e-16     ***         \n",
      "intercept                                              1            0.0          1.11e-16     ***         \n",
      "==========================================================================================================\n",
      "Significance codes:  0 '***' 0.001 '**' 0.01 '*' 0.05 '.' 0.1 ' ' 1\n",
      "\n",
      "WARNING: Fitting splines and a linear function to a feature introduces a model identifiability problem\n",
      "         which can cause p-values to appear significant when they are not.\n",
      "\n",
      "WARNING: p-values calculated in this manner behave correctly for un-penalized models or models with\n",
      "         known smoothing parameters, but when smoothing parameters have been estimated, the p-values\n",
      "         are typically lower than they should be, meaning that the tests reject the null too readily.\n"
     ]
    },
    {
     "name": "stderr",
     "output_type": "stream",
     "text": [
      "/var/folders/6g/kgz5rml118s6lqw25w5sv5mr0000gn/T/ipykernel_74951/3450665515.py:10: UserWarning: KNOWN BUG: p-values computed in this summary are likely much smaller than they should be. \n",
      " \n",
      "Please do not make inferences based on these values! \n",
      "\n",
      "Collaborate on a solution, and stay up to date at: \n",
      "github.com/dswah/pyGAM/issues/163 \n",
      "\n",
      "  ndvi_300_4.summary()\n"
     ]
    }
   ],
   "source": [
    "# Model 4\n",
    "warnings.filterwarnings(\"ignore\", category=RuntimeWarning)\n",
    "ndvi_300_4 = LinearGAM(l(0) + l(1) + s(2)).fit(X_train, y_train)\n",
    "\n",
    "# using gridsearch to tune the lambdas\n",
    "lam = np.logspace(-3, 5, 5)\n",
    "lams = [lam] * 3\n",
    "\n",
    "ndvi_300_4.gridsearch(X_train, y_train, lam=lams)\n",
    "ndvi_300_4.summary()"
   ]
  },
  {
   "cell_type": "markdown",
   "id": "17feb623",
   "metadata": {},
   "source": [
    "### 7.5. Model 5: NDVI ~ spline(tree canopy) + spline(forbs and shrubs) + linear(grass)"
   ]
  },
  {
   "cell_type": "code",
   "execution_count": 58,
   "id": "8cc54ef8",
   "metadata": {},
   "outputs": [
    {
     "name": "stderr",
     "output_type": "stream",
     "text": [
      "100% (125 of 125) |######################| Elapsed Time: 0:00:06 Time:  0:00:06\n"
     ]
    },
    {
     "name": "stdout",
     "output_type": "stream",
     "text": [
      "LinearGAM                                                                                                 \n",
      "=============================================== ==========================================================\n",
      "Distribution:                        NormalDist Effective DoF:                                     30.1525\n",
      "Link Function:                     IdentityLink Log Likelihood:                               -398978.5772\n",
      "Number of Samples:                         4688 AIC:                                           798019.4595\n",
      "                                                AICc:                                          798019.8897\n",
      "                                                GCV:                                                0.0056\n",
      "                                                Scale:                                              0.0056\n",
      "                                                Pseudo R-Squared:                                   0.7921\n",
      "==========================================================================================================\n",
      "Feature Function                  Lambda               Rank         EDoF         P > x        Sig. Code   \n",
      "================================= ==================== ============ ============ ============ ============\n",
      "s(0)                              [0.001]              20           18.8         1.11e-16     ***         \n",
      "s(1)                              [10.]                20           10.3         1.11e-16     ***         \n",
      "l(2)                              [0.1]                1            1.0          1.11e-16     ***         \n",
      "intercept                                              1            0.0          1.11e-16     ***         \n",
      "==========================================================================================================\n",
      "Significance codes:  0 '***' 0.001 '**' 0.01 '*' 0.05 '.' 0.1 ' ' 1\n",
      "\n",
      "WARNING: Fitting splines and a linear function to a feature introduces a model identifiability problem\n",
      "         which can cause p-values to appear significant when they are not.\n",
      "\n",
      "WARNING: p-values calculated in this manner behave correctly for un-penalized models or models with\n",
      "         known smoothing parameters, but when smoothing parameters have been estimated, the p-values\n",
      "         are typically lower than they should be, meaning that the tests reject the null too readily.\n"
     ]
    },
    {
     "name": "stderr",
     "output_type": "stream",
     "text": [
      "/var/folders/6g/kgz5rml118s6lqw25w5sv5mr0000gn/T/ipykernel_74951/1916949231.py:10: UserWarning: KNOWN BUG: p-values computed in this summary are likely much smaller than they should be. \n",
      " \n",
      "Please do not make inferences based on these values! \n",
      "\n",
      "Collaborate on a solution, and stay up to date at: \n",
      "github.com/dswah/pyGAM/issues/163 \n",
      "\n",
      "  ndvi_300_5.summary()\n"
     ]
    }
   ],
   "source": [
    "# Model 5\n",
    "warnings.filterwarnings(\"ignore\", category=RuntimeWarning)\n",
    "ndvi_300_5 = LinearGAM(s(0) + s(1) + l(2)).fit(X_train, y_train)\n",
    "\n",
    "# using gridsearch to tune the lambdas\n",
    "lam = np.logspace(-3, 5, 5)\n",
    "lams = [lam] * 3\n",
    "\n",
    "ndvi_300_5.gridsearch(X_train, y_train, lam=lams)\n",
    "ndvi_300_5.summary()"
   ]
  },
  {
   "cell_type": "markdown",
   "id": "c2389aa2",
   "metadata": {},
   "source": [
    "### 7.6. Model 6: NDVI ~ spline(tree canopy) + linear(forbs and shrubs) + spline(grass)"
   ]
  },
  {
   "cell_type": "code",
   "execution_count": 59,
   "id": "95f7f012",
   "metadata": {},
   "outputs": [
    {
     "name": "stderr",
     "output_type": "stream",
     "text": [
      "100% (125 of 125) |######################| Elapsed Time: 0:00:06 Time:  0:00:06\n"
     ]
    },
    {
     "name": "stdout",
     "output_type": "stream",
     "text": [
      "LinearGAM                                                                                                 \n",
      "=============================================== ==========================================================\n",
      "Distribution:                        NormalDist Effective DoF:                                     28.8948\n",
      "Link Function:                     IdentityLink Log Likelihood:                               -373269.9171\n",
      "Number of Samples:                         4688 AIC:                                           746599.6237\n",
      "                                                AICc:                                          746600.0203\n",
      "                                                GCV:                                                 0.006\n",
      "                                                Scale:                                              0.0059\n",
      "                                                Pseudo R-Squared:                                   0.7782\n",
      "==========================================================================================================\n",
      "Feature Function                  Lambda               Rank         EDoF         P > x        Sig. Code   \n",
      "================================= ==================== ============ ============ ============ ============\n",
      "s(0)                              [0.001]              20           18.8         1.11e-16     ***         \n",
      "l(1)                              [0.001]              1            1.0          1.11e-16     ***         \n",
      "s(2)                              [10.]                20           9.1          1.11e-16     ***         \n",
      "intercept                                              1            0.0          1.11e-16     ***         \n",
      "==========================================================================================================\n",
      "Significance codes:  0 '***' 0.001 '**' 0.01 '*' 0.05 '.' 0.1 ' ' 1\n",
      "\n",
      "WARNING: Fitting splines and a linear function to a feature introduces a model identifiability problem\n",
      "         which can cause p-values to appear significant when they are not.\n",
      "\n",
      "WARNING: p-values calculated in this manner behave correctly for un-penalized models or models with\n",
      "         known smoothing parameters, but when smoothing parameters have been estimated, the p-values\n",
      "         are typically lower than they should be, meaning that the tests reject the null too readily.\n"
     ]
    },
    {
     "name": "stderr",
     "output_type": "stream",
     "text": [
      "/var/folders/6g/kgz5rml118s6lqw25w5sv5mr0000gn/T/ipykernel_74951/2187392072.py:10: UserWarning: KNOWN BUG: p-values computed in this summary are likely much smaller than they should be. \n",
      " \n",
      "Please do not make inferences based on these values! \n",
      "\n",
      "Collaborate on a solution, and stay up to date at: \n",
      "github.com/dswah/pyGAM/issues/163 \n",
      "\n",
      "  ndvi_300_6.summary()\n"
     ]
    }
   ],
   "source": [
    "# Model 6\n",
    "warnings.filterwarnings(\"ignore\", category=RuntimeWarning)\n",
    "ndvi_300_6 = LinearGAM(s(0) + l(1) + s(2)).fit(X_train, y_train)\n",
    "\n",
    "# using gridsearch to tune the lambdas\n",
    "lam = np.logspace(-3, 5, 5)\n",
    "lams = [lam] * 3\n",
    "\n",
    "ndvi_300_6.gridsearch(X_train, y_train, lam=lams)\n",
    "ndvi_300_6.summary()"
   ]
  },
  {
   "cell_type": "markdown",
   "id": "c16486fa",
   "metadata": {},
   "source": [
    "### 7.7. Model 7: NDVI ~ linear(tree canopy) + spline(forbs and shrubs) + spline(grass)"
   ]
  },
  {
   "cell_type": "code",
   "execution_count": 60,
   "id": "80497c95",
   "metadata": {},
   "outputs": [
    {
     "name": "stderr",
     "output_type": "stream",
     "text": [
      "100% (125 of 125) |######################| Elapsed Time: 0:00:08 Time:  0:00:08\n"
     ]
    },
    {
     "name": "stdout",
     "output_type": "stream",
     "text": [
      "LinearGAM                                                                                                 \n",
      "=============================================== ==========================================================\n",
      "Distribution:                        NormalDist Effective DoF:                                     21.3259\n",
      "Link Function:                     IdentityLink Log Likelihood:                               -388493.6942\n",
      "Number of Samples:                         4688 AIC:                                           777032.0403\n",
      "                                                AICc:                                          777032.2636\n",
      "                                                GCV:                                                0.0058\n",
      "                                                Scale:                                              0.0057\n",
      "                                                Pseudo R-Squared:                                   0.7859\n",
      "==========================================================================================================\n",
      "Feature Function                  Lambda               Rank         EDoF         P > x        Sig. Code   \n",
      "================================= ==================== ============ ============ ============ ============\n",
      "l(0)                              [0.1]                1            1.0          1.11e-16     ***         \n",
      "s(1)                              [10.]                20           11.4         1.11e-16     ***         \n",
      "s(2)                              [10.]                20           8.9          1.11e-16     ***         \n",
      "intercept                                              1            0.0          1.11e-16     ***         \n",
      "==========================================================================================================\n",
      "Significance codes:  0 '***' 0.001 '**' 0.01 '*' 0.05 '.' 0.1 ' ' 1\n",
      "\n",
      "WARNING: Fitting splines and a linear function to a feature introduces a model identifiability problem\n",
      "         which can cause p-values to appear significant when they are not.\n",
      "\n",
      "WARNING: p-values calculated in this manner behave correctly for un-penalized models or models with\n",
      "         known smoothing parameters, but when smoothing parameters have been estimated, the p-values\n",
      "         are typically lower than they should be, meaning that the tests reject the null too readily.\n"
     ]
    },
    {
     "name": "stderr",
     "output_type": "stream",
     "text": [
      "/var/folders/6g/kgz5rml118s6lqw25w5sv5mr0000gn/T/ipykernel_74951/2141254406.py:10: UserWarning: KNOWN BUG: p-values computed in this summary are likely much smaller than they should be. \n",
      " \n",
      "Please do not make inferences based on these values! \n",
      "\n",
      "Collaborate on a solution, and stay up to date at: \n",
      "github.com/dswah/pyGAM/issues/163 \n",
      "\n",
      "  ndvi_300_7.summary()\n"
     ]
    }
   ],
   "source": [
    "# Model 7\n",
    "warnings.filterwarnings(\"ignore\", category=RuntimeWarning)\n",
    "ndvi_300_7 = LinearGAM(l(0) + s(1) + s(2)).fit(X_train, y_train)\n",
    "\n",
    "# using gridsearch to tune the lambdas\n",
    "lam = np.logspace(-3, 5, 5)\n",
    "lams = [lam] * 3\n",
    "\n",
    "ndvi_300_7.gridsearch(X_train, y_train, lam=lams)\n",
    "ndvi_300_7.summary()"
   ]
  },
  {
   "cell_type": "markdown",
   "id": "6f68856b",
   "metadata": {},
   "source": [
    "### 7.8. Model 8: NDVI ~ spline(tree canopy) + spline(forbs and shrubs) + spline(grass)"
   ]
  },
  {
   "cell_type": "code",
   "execution_count": 61,
   "id": "849bf675",
   "metadata": {},
   "outputs": [
    {
     "name": "stderr",
     "output_type": "stream",
     "text": [
      "100% (125 of 125) |######################| Elapsed Time: 0:00:11 Time:  0:00:11\n"
     ]
    },
    {
     "name": "stdout",
     "output_type": "stream",
     "text": [
      "LinearGAM                                                                                                 \n",
      "=============================================== ==========================================================\n",
      "Distribution:                        NormalDist Effective DoF:                                     38.1212\n",
      "Link Function:                     IdentityLink Log Likelihood:                               -410206.2272\n",
      "Number of Samples:                         4688 AIC:                                           820490.6967\n",
      "                                                AICc:                                          820491.3721\n",
      "                                                GCV:                                                0.0055\n",
      "                                                Scale:                                              0.0054\n",
      "                                                Pseudo R-Squared:                                   0.7983\n",
      "==========================================================================================================\n",
      "Feature Function                  Lambda               Rank         EDoF         P > x        Sig. Code   \n",
      "================================= ==================== ============ ============ ============ ============\n",
      "s(0)                              [0.001]              20           18.8         1.11e-16     ***         \n",
      "s(1)                              [10.]                20           10.4         1.11e-16     ***         \n",
      "s(2)                              [10.]                20           8.9          1.11e-16     ***         \n",
      "intercept                                              1            0.0          1.11e-16     ***         \n",
      "==========================================================================================================\n",
      "Significance codes:  0 '***' 0.001 '**' 0.01 '*' 0.05 '.' 0.1 ' ' 1\n",
      "\n",
      "WARNING: Fitting splines and a linear function to a feature introduces a model identifiability problem\n",
      "         which can cause p-values to appear significant when they are not.\n",
      "\n",
      "WARNING: p-values calculated in this manner behave correctly for un-penalized models or models with\n",
      "         known smoothing parameters, but when smoothing parameters have been estimated, the p-values\n",
      "         are typically lower than they should be, meaning that the tests reject the null too readily.\n"
     ]
    },
    {
     "name": "stderr",
     "output_type": "stream",
     "text": [
      "/var/folders/6g/kgz5rml118s6lqw25w5sv5mr0000gn/T/ipykernel_74951/547711982.py:10: UserWarning: KNOWN BUG: p-values computed in this summary are likely much smaller than they should be. \n",
      " \n",
      "Please do not make inferences based on these values! \n",
      "\n",
      "Collaborate on a solution, and stay up to date at: \n",
      "github.com/dswah/pyGAM/issues/163 \n",
      "\n",
      "  ndvi_300_8.summary()\n"
     ]
    }
   ],
   "source": [
    "# Model 8\n",
    "warnings.filterwarnings(\"ignore\", category=RuntimeWarning)\n",
    "ndvi_300_8 = LinearGAM(s(0) + s(1) + s(2)).fit(X_train, y_train)\n",
    "\n",
    "# using gridsearch to tune the lambdas\n",
    "lam = np.logspace(-3, 5, 5)\n",
    "lams = [lam] * 3\n",
    "\n",
    "ndvi_300_8.gridsearch(X_train, y_train, lam=lams)\n",
    "ndvi_300_8.summary()"
   ]
  },
  {
   "cell_type": "markdown",
   "id": "df50fd62",
   "metadata": {},
   "source": [
    "### 7.9. (BEST MODEL) Model 8: NDVI ~ spline(tree canopy) + spline(forbs and shrubs) + spline(grass)"
   ]
  },
  {
   "cell_type": "code",
   "execution_count": 84,
   "id": "8ec10f89",
   "metadata": {},
   "outputs": [
    {
     "data": {
      "text/plain": [
       "<Figure size 432x288 with 0 Axes>"
      ]
     },
     "metadata": {},
     "output_type": "display_data"
    },
    {
     "data": {
      "image/png": "[encoded data removed]",
      "text/plain": [
       "<Figure size 864x288 with 3 Axes>"
      ]
     },
     "metadata": {
      "needs_background": "light"
     },
     "output_type": "display_data"
    }
   ],
   "source": [
    "## plotting\n",
    "plt.figure();\n",
    "fig, axs = plt.subplots(1,3,figsize=(12,4));\n",
    "\n",
    "titles = ['Canopy%_300', 'Shrubs%_300', 'Grass%_300']\n",
    "for i, ax in enumerate(axs):\n",
    "    XX = ndvi_300_8.generate_X_grid(term=i)\n",
    "    ax.plot(XX[:, i], ndvi_300_8.partial_dependence(term=i, X=XX))\n",
    "    ax.plot(XX[:, i], ndvi_300_8.partial_dependence(term=i, X=XX, width=.95)[1], c='r', ls='--')\n",
    "    ax.set_ylim(-0.5, 0.7)\n",
    "    ax.set_xticks(list(ax.get_xticks()))\n",
    "    ax.hlines(y=0, xmin=0, xmax=1, linewidth=1, color='black', linestyle='--')\n",
    "    ax.set_ylabel('Relative change of NDVI_300 (mean)', fontsize=12)\n",
    "    ax.set_title(titles[i], fontsize=12);\n",
    "    \n",
    "# non-overlapping subplots\n",
    "plt.tight_layout()\n",
    "    \n",
    "# save the figure\n",
    "plt.savefig('thesis_project/visualizations/eda/gam_ndvi_300_best_plot.png', dpi=300, bbox_inches='tight')\n",
    "im.open('thesis_project/visualizations/eda/gam_ndvi_300_best_plot.png').save('thesis_project/visualizations/eda/gam_ndvi_300_best_plot.bmp')\n",
    "\n",
    "plt.show()"
   ]
  },
  {
   "cell_type": "markdown",
   "id": "59706a18",
   "metadata": {},
   "source": [
    "- **Hyperparameters best GAM NDVI_300 model optimizing for Generalized Cross Validation (GCV) score**\n",
    "    - **Distribution**: Normal\n",
    "    - **Link Function**: Identity\n",
    "    - **Functional Form**: NDVI ~ spline(tree canopy) + spline(forbs and shrubs) + spline(grass)\n",
    "    - **Regularization penalty**: lambda = [0.001, 10, 10]\n",
    "    - **Smoothness**: n_splines = 20\n"
   ]
  },
  {
   "cell_type": "markdown",
   "id": "e73a59f3",
   "metadata": {},
   "source": [
    "## 8. Modelling NDVI_500"
   ]
  },
  {
   "cell_type": "code",
   "execution_count": 67,
   "id": "d3b42609",
   "metadata": {},
   "outputs": [
    {
     "data": {
      "text/html": [
       "<div>\n",
       "<style scoped>\n",
       "    .dataframe tbody tr th:only-of-type {\n",
       "        vertical-align: middle;\n",
       "    }\n",
       "\n",
       "    .dataframe tbody tr th {\n",
       "        vertical-align: top;\n",
       "    }\n",
       "\n",
       "    .dataframe thead th {\n",
       "        text-align: right;\n",
       "    }\n",
       "</style>\n",
       "<table border=\"1\" class=\"dataframe\">\n",
       "  <thead>\n",
       "    <tr style=\"text-align: right;\">\n",
       "      <th></th>\n",
       "      <th>NDVI_500</th>\n",
       "      <th>Greenspace%_500</th>\n",
       "      <th>Canopy%_500</th>\n",
       "      <th>Grass%_500</th>\n",
       "      <th>Shrubs%_500</th>\n",
       "      <th>geometry</th>\n",
       "    </tr>\n",
       "  </thead>\n",
       "  <tbody>\n",
       "    <tr>\n",
       "      <th>0</th>\n",
       "      <td>0.616906</td>\n",
       "      <td>0.714233</td>\n",
       "      <td>0.509538</td>\n",
       "      <td>0.305474</td>\n",
       "      <td>0.177276</td>\n",
       "      <td>POINT (377098.736 391409.893)</td>\n",
       "    </tr>\n",
       "    <tr>\n",
       "      <th>1</th>\n",
       "      <td>0.535196</td>\n",
       "      <td>0.518279</td>\n",
       "      <td>0.272543</td>\n",
       "      <td>0.170375</td>\n",
       "      <td>0.244285</td>\n",
       "      <td>POINT (388776.738 395338.550)</td>\n",
       "    </tr>\n",
       "    <tr>\n",
       "      <th>2</th>\n",
       "      <td>0.625744</td>\n",
       "      <td>0.665035</td>\n",
       "      <td>0.458237</td>\n",
       "      <td>0.265076</td>\n",
       "      <td>0.194620</td>\n",
       "      <td>POINT (385102.497 389586.914)</td>\n",
       "    </tr>\n",
       "    <tr>\n",
       "      <th>3</th>\n",
       "      <td>0.869751</td>\n",
       "      <td>0.959438</td>\n",
       "      <td>0.194798</td>\n",
       "      <td>0.637881</td>\n",
       "      <td>0.401261</td>\n",
       "      <td>POINT (358860.328 409008.505)</td>\n",
       "    </tr>\n",
       "    <tr>\n",
       "      <th>4</th>\n",
       "      <td>0.855770</td>\n",
       "      <td>0.984456</td>\n",
       "      <td>0.180780</td>\n",
       "      <td>0.170082</td>\n",
       "      <td>0.213244</td>\n",
       "      <td>POINT (369877.609 414278.479)</td>\n",
       "    </tr>\n",
       "  </tbody>\n",
       "</table>\n",
       "</div>"
      ],
      "text/plain": [
       "   NDVI_500  Greenspace%_500  Canopy%_500  Grass%_500  Shrubs%_500  \\\n",
       "0  0.616906         0.714233     0.509538    0.305474     0.177276   \n",
       "1  0.535196         0.518279     0.272543    0.170375     0.244285   \n",
       "2  0.625744         0.665035     0.458237    0.265076     0.194620   \n",
       "3  0.869751         0.959438     0.194798    0.637881     0.401261   \n",
       "4  0.855770         0.984456     0.180780    0.170082     0.213244   \n",
       "\n",
       "                        geometry  \n",
       "0  POINT (377098.736 391409.893)  \n",
       "1  POINT (388776.738 395338.550)  \n",
       "2  POINT (385102.497 389586.914)  \n",
       "3  POINT (358860.328 409008.505)  \n",
       "4  POINT (369877.609 414278.479)  "
      ]
     },
     "execution_count": 67,
     "metadata": {},
     "output_type": "execute_result"
    }
   ],
   "source": [
    "# load greenspace metrics at 500m geodataframe\n",
    "gdf_500 = gpd.read_file(\"thesis_project/output/dataframes/greenspace_metrics_500_df.json\")\n",
    "gdf_500.head()"
   ]
  },
  {
   "cell_type": "code",
   "execution_count": 68,
   "id": "27871e3a",
   "metadata": {},
   "outputs": [],
   "source": [
    "# Grass, Canopy, and Shrubs as predictors\n",
    "cols = ['Canopy%_500', 'Shrubs%_500', 'Grass%_500']\n",
    "df = pd.DataFrame(gdf_500, columns=cols)\n",
    "\n",
    "# target as NDVI_500\n",
    "target = pd.DataFrame(gdf_500, columns=['NDVI_500'])\n",
    "\n",
    "# define X and Y\n",
    "#X = df\n",
    "y = target['NDVI_500']\n",
    "X = df.iloc[:, 0:3].values\n",
    "\n",
    "# split independent and dependent variables into training and test data\n",
    "X_train, X_test, y_train, y_test = train_test_split(X, y, test_size=0.2, random_state=0)"
   ]
  },
  {
   "cell_type": "markdown",
   "id": "d63908d3",
   "metadata": {},
   "source": [
    "### 8.1. Model 1: NDVI ~ linear(tree canopy) + linear(forbs and shrubs) + linear(grass)"
   ]
  },
  {
   "cell_type": "code",
   "execution_count": 69,
   "id": "422ac448",
   "metadata": {},
   "outputs": [
    {
     "name": "stderr",
     "output_type": "stream",
     "text": [
      "100% (125 of 125) |######################| Elapsed Time: 0:00:01 Time:  0:00:01\n"
     ]
    },
    {
     "name": "stdout",
     "output_type": "stream",
     "text": [
      "LinearGAM                                                                                                 \n",
      "=============================================== ==========================================================\n",
      "Distribution:                        NormalDist Effective DoF:                                      3.9999\n",
      "Link Function:                     IdentityLink Log Likelihood:                               -126566.7507\n",
      "Number of Samples:                         2318 AIC:                                           253143.5013\n",
      "                                                AICc:                                          253143.5273\n",
      "                                                GCV:                                                0.0086\n",
      "                                                Scale:                                              0.0085\n",
      "                                                Pseudo R-Squared:                                   0.7147\n",
      "==========================================================================================================\n",
      "Feature Function                  Lambda               Rank         EDoF         P > x        Sig. Code   \n",
      "================================= ==================== ============ ============ ============ ============\n",
      "l(0)                              [0.001]              1            1.0          1.11e-16     ***         \n",
      "l(1)                              [0.001]              1            1.0          1.11e-16     ***         \n",
      "l(2)                              [0.001]              1            1.0          1.11e-16     ***         \n",
      "intercept                                              1            1.0          1.11e-16     ***         \n",
      "==========================================================================================================\n",
      "Significance codes:  0 '***' 0.001 '**' 0.01 '*' 0.05 '.' 0.1 ' ' 1\n",
      "\n",
      "WARNING: Fitting splines and a linear function to a feature introduces a model identifiability problem\n",
      "         which can cause p-values to appear significant when they are not.\n",
      "\n",
      "WARNING: p-values calculated in this manner behave correctly for un-penalized models or models with\n",
      "         known smoothing parameters, but when smoothing parameters have been estimated, the p-values\n",
      "         are typically lower than they should be, meaning that the tests reject the null too readily.\n"
     ]
    },
    {
     "name": "stderr",
     "output_type": "stream",
     "text": [
      "/var/folders/6g/kgz5rml118s6lqw25w5sv5mr0000gn/T/ipykernel_74951/1220089107.py:10: UserWarning: KNOWN BUG: p-values computed in this summary are likely much smaller than they should be. \n",
      " \n",
      "Please do not make inferences based on these values! \n",
      "\n",
      "Collaborate on a solution, and stay up to date at: \n",
      "github.com/dswah/pyGAM/issues/163 \n",
      "\n",
      "  ndvi_500_1.summary()\n"
     ]
    }
   ],
   "source": [
    "# Model 1\n",
    "warnings.filterwarnings(\"ignore\", category=RuntimeWarning)\n",
    "ndvi_500_1 = LinearGAM(l(0) + l(1) + l(2)).fit(X_train, y_train)\n",
    "\n",
    "# using gridsearch to tune the lambdas\n",
    "lam = np.logspace(-3, 5, 5)\n",
    "lams = [lam] * 3\n",
    "\n",
    "ndvi_500_1.gridsearch(X_train, y_train, lam=lams)\n",
    "ndvi_500_1.summary()"
   ]
  },
  {
   "cell_type": "markdown",
   "id": "861fc633",
   "metadata": {},
   "source": [
    "### 8.2. Model 2: NDVI ~ spline(tree canopy) + linear(forbs and shrubs) + linear(grass)"
   ]
  },
  {
   "cell_type": "code",
   "execution_count": 70,
   "id": "ec7045ed",
   "metadata": {},
   "outputs": [
    {
     "name": "stderr",
     "output_type": "stream",
     "text": [
      "100% (125 of 125) |######################| Elapsed Time: 0:00:03 Time:  0:00:03\n"
     ]
    },
    {
     "name": "stdout",
     "output_type": "stream",
     "text": [
      "LinearGAM                                                                                                 \n",
      "=============================================== ==========================================================\n",
      "Distribution:                        NormalDist Effective DoF:                                     20.8747\n",
      "Link Function:                     IdentityLink Log Likelihood:                               -139074.2024\n",
      "Number of Samples:                         2318 AIC:                                           278192.1543\n",
      "                                                AICc:                                          278192.5903\n",
      "                                                GCV:                                                0.0079\n",
      "                                                Scale:                                              0.0077\n",
      "                                                Pseudo R-Squared:                                    0.743\n",
      "==========================================================================================================\n",
      "Feature Function                  Lambda               Rank         EDoF         P > x        Sig. Code   \n",
      "================================= ==================== ============ ============ ============ ============\n",
      "s(0)                              [0.001]              20           18.9         1.11e-16     ***         \n",
      "l(1)                              [0.001]              1            1.0          1.11e-16     ***         \n",
      "l(2)                              [0.001]              1            1.0          1.11e-16     ***         \n",
      "intercept                                              1            0.0          1.11e-16     ***         \n",
      "==========================================================================================================\n",
      "Significance codes:  0 '***' 0.001 '**' 0.01 '*' 0.05 '.' 0.1 ' ' 1\n",
      "\n",
      "WARNING: Fitting splines and a linear function to a feature introduces a model identifiability problem\n",
      "         which can cause p-values to appear significant when they are not.\n",
      "\n",
      "WARNING: p-values calculated in this manner behave correctly for un-penalized models or models with\n",
      "         known smoothing parameters, but when smoothing parameters have been estimated, the p-values\n",
      "         are typically lower than they should be, meaning that the tests reject the null too readily.\n"
     ]
    },
    {
     "name": "stderr",
     "output_type": "stream",
     "text": [
      "/var/folders/6g/kgz5rml118s6lqw25w5sv5mr0000gn/T/ipykernel_74951/2940222901.py:10: UserWarning: KNOWN BUG: p-values computed in this summary are likely much smaller than they should be. \n",
      " \n",
      "Please do not make inferences based on these values! \n",
      "\n",
      "Collaborate on a solution, and stay up to date at: \n",
      "github.com/dswah/pyGAM/issues/163 \n",
      "\n",
      "  ndvi_500_2.summary()\n"
     ]
    }
   ],
   "source": [
    "# Model 2\n",
    "warnings.filterwarnings(\"ignore\", category=RuntimeWarning)\n",
    "ndvi_500_2 = LinearGAM(s(0) + l(1) + l(2)).fit(X_train, y_train)\n",
    "\n",
    "# using gridsearch to tune the lambdas\n",
    "lam = np.logspace(-3, 5, 5)\n",
    "lams = [lam] * 3\n",
    "\n",
    "ndvi_500_2.gridsearch(X_train, y_train, lam=lams)\n",
    "ndvi_500_2.summary()"
   ]
  },
  {
   "cell_type": "markdown",
   "id": "22659493",
   "metadata": {},
   "source": [
    "### 8.3. Model 3: NDVI ~ linear(tree canopy) + spline(forbs and shrubs) + linear(grass)"
   ]
  },
  {
   "cell_type": "code",
   "execution_count": 71,
   "id": "401639f6",
   "metadata": {},
   "outputs": [
    {
     "name": "stderr",
     "output_type": "stream",
     "text": [
      "100% (125 of 125) |######################| Elapsed Time: 0:00:03 Time:  0:00:03\n"
     ]
    },
    {
     "name": "stdout",
     "output_type": "stream",
     "text": [
      "LinearGAM                                                                                                 \n",
      "=============================================== ==========================================================\n",
      "Distribution:                        NormalDist Effective DoF:                                     11.9156\n",
      "Link Function:                     IdentityLink Log Likelihood:                               -169990.4831\n",
      "Number of Samples:                         2318 AIC:                                           340006.7973\n",
      "                                                AICc:                                          340006.9533\n",
      "                                                GCV:                                                0.0065\n",
      "                                                Scale:                                              0.0064\n",
      "                                                Pseudo R-Squared:                                   0.7862\n",
      "==========================================================================================================\n",
      "Feature Function                  Lambda               Rank         EDoF         P > x        Sig. Code   \n",
      "================================= ==================== ============ ============ ============ ============\n",
      "l(0)                              [0.1]                1            1.0          1.11e-16     ***         \n",
      "s(1)                              [10.]                20           9.9          1.11e-16     ***         \n",
      "l(2)                              [0.1]                1            1.0          1.11e-16     ***         \n",
      "intercept                                              1            0.0          1.11e-16     ***         \n",
      "==========================================================================================================\n",
      "Significance codes:  0 '***' 0.001 '**' 0.01 '*' 0.05 '.' 0.1 ' ' 1\n",
      "\n",
      "WARNING: Fitting splines and a linear function to a feature introduces a model identifiability problem\n",
      "         which can cause p-values to appear significant when they are not.\n",
      "\n",
      "WARNING: p-values calculated in this manner behave correctly for un-penalized models or models with\n",
      "         known smoothing parameters, but when smoothing parameters have been estimated, the p-values\n",
      "         are typically lower than they should be, meaning that the tests reject the null too readily.\n"
     ]
    },
    {
     "name": "stderr",
     "output_type": "stream",
     "text": [
      "/var/folders/6g/kgz5rml118s6lqw25w5sv5mr0000gn/T/ipykernel_74951/3773330009.py:10: UserWarning: KNOWN BUG: p-values computed in this summary are likely much smaller than they should be. \n",
      " \n",
      "Please do not make inferences based on these values! \n",
      "\n",
      "Collaborate on a solution, and stay up to date at: \n",
      "github.com/dswah/pyGAM/issues/163 \n",
      "\n",
      "  ndvi_500_3.summary()\n"
     ]
    }
   ],
   "source": [
    "# Model 3\n",
    "warnings.filterwarnings(\"ignore\", category=RuntimeWarning)\n",
    "ndvi_500_3 = LinearGAM(l(0) + s(1) + l(2)).fit(X_train, y_train)\n",
    "\n",
    "# using gridsearch to tune the lambdas\n",
    "lam = np.logspace(-3, 5, 5)\n",
    "lams = [lam] * 3\n",
    "\n",
    "ndvi_500_3.gridsearch(X_train, y_train, lam=lams)\n",
    "ndvi_500_3.summary()"
   ]
  },
  {
   "cell_type": "markdown",
   "id": "5cdb9a1f",
   "metadata": {},
   "source": [
    "### 8.4. Model 4: NDVI ~ linear(tree canopy) + linear(forbs and shrubs) + spline(grass)"
   ]
  },
  {
   "cell_type": "code",
   "execution_count": 72,
   "id": "73ce6f1b",
   "metadata": {},
   "outputs": [
    {
     "name": "stderr",
     "output_type": "stream",
     "text": [
      "100% (125 of 125) |######################| Elapsed Time: 0:00:02 Time:  0:00:02\n"
     ]
    },
    {
     "name": "stdout",
     "output_type": "stream",
     "text": [
      "LinearGAM                                                                                                 \n",
      "=============================================== ==========================================================\n",
      "Distribution:                        NormalDist Effective DoF:                                     11.0567\n",
      "Link Function:                     IdentityLink Log Likelihood:                               -145771.2487\n",
      "Number of Samples:                         2318 AIC:                                           291566.6108\n",
      "                                                AICc:                                          291566.7474\n",
      "                                                GCV:                                                0.0075\n",
      "                                                Scale:                                              0.0074\n",
      "                                                Pseudo R-Squared:                                   0.7522\n",
      "==========================================================================================================\n",
      "Feature Function                  Lambda               Rank         EDoF         P > x        Sig. Code   \n",
      "================================= ==================== ============ ============ ============ ============\n",
      "l(0)                              [0.1]                1            1.0          1.11e-16     ***         \n",
      "l(1)                              [0.001]              1            1.0          1.11e-16     ***         \n",
      "s(2)                              [10.]                20           9.1          1.11e-16     ***         \n",
      "intercept                                              1            0.0          1.11e-16     ***         \n",
      "==========================================================================================================\n",
      "Significance codes:  0 '***' 0.001 '**' 0.01 '*' 0.05 '.' 0.1 ' ' 1\n",
      "\n",
      "WARNING: Fitting splines and a linear function to a feature introduces a model identifiability problem\n",
      "         which can cause p-values to appear significant when they are not.\n",
      "\n",
      "WARNING: p-values calculated in this manner behave correctly for un-penalized models or models with\n",
      "         known smoothing parameters, but when smoothing parameters have been estimated, the p-values\n",
      "         are typically lower than they should be, meaning that the tests reject the null too readily.\n"
     ]
    },
    {
     "name": "stderr",
     "output_type": "stream",
     "text": [
      "/var/folders/6g/kgz5rml118s6lqw25w5sv5mr0000gn/T/ipykernel_74951/755273682.py:10: UserWarning: KNOWN BUG: p-values computed in this summary are likely much smaller than they should be. \n",
      " \n",
      "Please do not make inferences based on these values! \n",
      "\n",
      "Collaborate on a solution, and stay up to date at: \n",
      "github.com/dswah/pyGAM/issues/163 \n",
      "\n",
      "  ndvi_500_4.summary()\n"
     ]
    }
   ],
   "source": [
    "# Model 4\n",
    "warnings.filterwarnings(\"ignore\", category=RuntimeWarning)\n",
    "ndvi_500_4 = LinearGAM(l(0) + l(1) + s(2)).fit(X_train, y_train)\n",
    "\n",
    "# using gridsearch to tune the lambdas\n",
    "lam = np.logspace(-3, 5, 5)\n",
    "lams = [lam] * 3\n",
    "\n",
    "ndvi_500_4.gridsearch(X_train, y_train, lam=lams)\n",
    "ndvi_500_4.summary()"
   ]
  },
  {
   "cell_type": "markdown",
   "id": "94dad9c4",
   "metadata": {},
   "source": [
    "### 8.5. Model 5: NDVI ~ spline(tree canopy) + spline(forbs and shrubs) + linear(grass)"
   ]
  },
  {
   "cell_type": "code",
   "execution_count": 73,
   "id": "5ac8340a",
   "metadata": {},
   "outputs": [
    {
     "name": "stderr",
     "output_type": "stream",
     "text": [
      "100% (125 of 125) |######################| Elapsed Time: 0:00:04 Time:  0:00:04\n"
     ]
    },
    {
     "name": "stdout",
     "output_type": "stream",
     "text": [
      "LinearGAM                                                                                                 \n",
      "=============================================== ==========================================================\n",
      "Distribution:                        NormalDist Effective DoF:                                     28.7634\n",
      "Link Function:                     IdentityLink Log Likelihood:                               -176982.6996\n",
      "Number of Samples:                         2318 AIC:                                           354024.9261\n",
      "                                                AICc:                                          354025.7268\n",
      "                                                GCV:                                                0.0063\n",
      "                                                Scale:                                              0.0061\n",
      "                                                Pseudo R-Squared:                                   0.7974\n",
      "==========================================================================================================\n",
      "Feature Function                  Lambda               Rank         EDoF         P > x        Sig. Code   \n",
      "================================= ==================== ============ ============ ============ ============\n",
      "s(0)                              [0.001]              20           18.9         1.11e-16     ***         \n",
      "s(1)                              [10.]                20           8.9          1.11e-16     ***         \n",
      "l(2)                              [0.1]                1            1.0          1.11e-16     ***         \n",
      "intercept                                              1            0.0          1.11e-16     ***         \n",
      "==========================================================================================================\n",
      "Significance codes:  0 '***' 0.001 '**' 0.01 '*' 0.05 '.' 0.1 ' ' 1\n",
      "\n",
      "WARNING: Fitting splines and a linear function to a feature introduces a model identifiability problem\n",
      "         which can cause p-values to appear significant when they are not.\n",
      "\n",
      "WARNING: p-values calculated in this manner behave correctly for un-penalized models or models with\n",
      "         known smoothing parameters, but when smoothing parameters have been estimated, the p-values\n",
      "         are typically lower than they should be, meaning that the tests reject the null too readily.\n"
     ]
    },
    {
     "name": "stderr",
     "output_type": "stream",
     "text": [
      "/var/folders/6g/kgz5rml118s6lqw25w5sv5mr0000gn/T/ipykernel_74951/3854426641.py:10: UserWarning: KNOWN BUG: p-values computed in this summary are likely much smaller than they should be. \n",
      " \n",
      "Please do not make inferences based on these values! \n",
      "\n",
      "Collaborate on a solution, and stay up to date at: \n",
      "github.com/dswah/pyGAM/issues/163 \n",
      "\n",
      "  ndvi_500_5.summary()\n"
     ]
    }
   ],
   "source": [
    "# Model 5\n",
    "warnings.filterwarnings(\"ignore\", category=RuntimeWarning)\n",
    "ndvi_500_5 = LinearGAM(s(0) + s(1) + l(2)).fit(X_train, y_train)\n",
    "\n",
    "# using gridsearch to tune the lambdas\n",
    "lam = np.logspace(-3, 5, 5)\n",
    "lams = [lam] * 3\n",
    "\n",
    "ndvi_500_5.gridsearch(X_train, y_train, lam=lams)\n",
    "ndvi_500_5.summary()"
   ]
  },
  {
   "cell_type": "markdown",
   "id": "230feebb",
   "metadata": {},
   "source": [
    "### 8.6. Model 6: NDVI ~ spline(tree canopy) + linear(forbs and shrubs) + spline(grass)"
   ]
  },
  {
   "cell_type": "code",
   "execution_count": 74,
   "id": "46d93acb",
   "metadata": {},
   "outputs": [
    {
     "name": "stderr",
     "output_type": "stream",
     "text": [
      "100% (125 of 125) |######################| Elapsed Time: 0:00:04 Time:  0:00:04\n"
     ]
    },
    {
     "name": "stdout",
     "output_type": "stream",
     "text": [
      "LinearGAM                                                                                                 \n",
      "=============================================== ==========================================================\n",
      "Distribution:                        NormalDist Effective DoF:                                     35.0841\n",
      "Link Function:                     IdentityLink Log Likelihood:                               -152789.9146\n",
      "Number of Samples:                         2318 AIC:                                           305651.9973\n",
      "                                                AICc:                                          305653.1707\n",
      "                                                GCV:                                                0.0072\n",
      "                                                Scale:                                               0.007\n",
      "                                                Pseudo R-Squared:                                    0.768\n",
      "==========================================================================================================\n",
      "Feature Function                  Lambda               Rank         EDoF         P > x        Sig. Code   \n",
      "================================= ==================== ============ ============ ============ ============\n",
      "s(0)                              [0.001]              20           18.9         1.11e-16     ***         \n",
      "l(1)                              [0.001]              1            1.0          1.11e-16     ***         \n",
      "s(2)                              [0.1]                20           15.2         1.11e-16     ***         \n",
      "intercept                                              1            0.0          1.11e-16     ***         \n",
      "==========================================================================================================\n",
      "Significance codes:  0 '***' 0.001 '**' 0.01 '*' 0.05 '.' 0.1 ' ' 1\n",
      "\n",
      "WARNING: Fitting splines and a linear function to a feature introduces a model identifiability problem\n",
      "         which can cause p-values to appear significant when they are not.\n",
      "\n",
      "WARNING: p-values calculated in this manner behave correctly for un-penalized models or models with\n",
      "         known smoothing parameters, but when smoothing parameters have been estimated, the p-values\n",
      "         are typically lower than they should be, meaning that the tests reject the null too readily.\n"
     ]
    },
    {
     "name": "stderr",
     "output_type": "stream",
     "text": [
      "/var/folders/6g/kgz5rml118s6lqw25w5sv5mr0000gn/T/ipykernel_74951/1996838194.py:10: UserWarning: KNOWN BUG: p-values computed in this summary are likely much smaller than they should be. \n",
      " \n",
      "Please do not make inferences based on these values! \n",
      "\n",
      "Collaborate on a solution, and stay up to date at: \n",
      "github.com/dswah/pyGAM/issues/163 \n",
      "\n",
      "  ndvi_500_6.summary()\n"
     ]
    }
   ],
   "source": [
    "# Model 6\n",
    "warnings.filterwarnings(\"ignore\", category=RuntimeWarning)\n",
    "ndvi_500_6 = LinearGAM(s(0) + l(1) + s(2)).fit(X_train, y_train)\n",
    "\n",
    "# using gridsearch to tune the lambdas\n",
    "lam = np.logspace(-3, 5, 5)\n",
    "lams = [lam] * 3\n",
    "\n",
    "ndvi_500_6.gridsearch(X_train, y_train, lam=lams)\n",
    "ndvi_500_6.summary()"
   ]
  },
  {
   "cell_type": "markdown",
   "id": "ef741dcc",
   "metadata": {},
   "source": [
    "### 8.7. Model 7: NDVI ~ linear(tree canopy) + spline(forbs and shrubs) + spline(grass)"
   ]
  },
  {
   "cell_type": "code",
   "execution_count": 75,
   "id": "7c52cfbc",
   "metadata": {},
   "outputs": [
    {
     "name": "stderr",
     "output_type": "stream",
     "text": [
      "100% (125 of 125) |######################| Elapsed Time: 0:00:04 Time:  0:00:04\n"
     ]
    },
    {
     "name": "stdout",
     "output_type": "stream",
     "text": [
      "LinearGAM                                                                                                 \n",
      "=============================================== ==========================================================\n",
      "Distribution:                        NormalDist Effective DoF:                                     18.8769\n",
      "Link Function:                     IdentityLink Log Likelihood:                               -176018.8316\n",
      "Number of Samples:                         2318 AIC:                                           352077.4169\n",
      "                                                AICc:                                          352077.7782\n",
      "                                                GCV:                                                0.0063\n",
      "                                                Scale:                                              0.0062\n",
      "                                                Pseudo R-Squared:                                   0.7945\n",
      "==========================================================================================================\n",
      "Feature Function                  Lambda               Rank         EDoF         P > x        Sig. Code   \n",
      "================================= ==================== ============ ============ ============ ============\n",
      "l(0)                              [0.1]                1            1.0          1.11e-16     ***         \n",
      "s(1)                              [10.]                20           10.1         1.11e-16     ***         \n",
      "s(2)                              [10.]                20           7.8          1.11e-16     ***         \n",
      "intercept                                              1            0.0          1.11e-16     ***         \n",
      "==========================================================================================================\n",
      "Significance codes:  0 '***' 0.001 '**' 0.01 '*' 0.05 '.' 0.1 ' ' 1\n",
      "\n",
      "WARNING: Fitting splines and a linear function to a feature introduces a model identifiability problem\n",
      "         which can cause p-values to appear significant when they are not.\n",
      "\n",
      "WARNING: p-values calculated in this manner behave correctly for un-penalized models or models with\n",
      "         known smoothing parameters, but when smoothing parameters have been estimated, the p-values\n",
      "         are typically lower than they should be, meaning that the tests reject the null too readily.\n"
     ]
    },
    {
     "name": "stderr",
     "output_type": "stream",
     "text": [
      "/var/folders/6g/kgz5rml118s6lqw25w5sv5mr0000gn/T/ipykernel_74951/3717736121.py:10: UserWarning: KNOWN BUG: p-values computed in this summary are likely much smaller than they should be. \n",
      " \n",
      "Please do not make inferences based on these values! \n",
      "\n",
      "Collaborate on a solution, and stay up to date at: \n",
      "github.com/dswah/pyGAM/issues/163 \n",
      "\n",
      "  ndvi_500_7.summary()\n"
     ]
    }
   ],
   "source": [
    "# Model 7\n",
    "warnings.filterwarnings(\"ignore\", category=RuntimeWarning)\n",
    "ndvi_500_7 = LinearGAM(l(0) + s(1) + s(2)).fit(X_train, y_train)\n",
    "\n",
    "# using gridsearch to tune the lambdas\n",
    "lam = np.logspace(-3, 5, 5)\n",
    "lams = [lam] * 3\n",
    "\n",
    "ndvi_500_7.gridsearch(X_train, y_train, lam=lams)\n",
    "ndvi_500_7.summary()"
   ]
  },
  {
   "cell_type": "markdown",
   "id": "2c447c36",
   "metadata": {},
   "source": [
    "### 8.8. Model 8: NDVI ~ spline(tree canopy) + spline(forbs and shrubs) + spline(grass)"
   ]
  },
  {
   "cell_type": "code",
   "execution_count": 76,
   "id": "b3712729",
   "metadata": {},
   "outputs": [
    {
     "name": "stderr",
     "output_type": "stream",
     "text": [
      "100% (125 of 125) |######################| Elapsed Time: 0:00:08 Time:  0:00:08\n"
     ]
    },
    {
     "name": "stdout",
     "output_type": "stream",
     "text": [
      "LinearGAM                                                                                                 \n",
      "=============================================== ==========================================================\n",
      "Distribution:                        NormalDist Effective DoF:                                       30.37\n",
      "Link Function:                     IdentityLink Log Likelihood:                               -182891.8423\n",
      "Number of Samples:                         2318 AIC:                                           365846.4248\n",
      "                                                AICc:                                          365847.3133\n",
      "                                                GCV:                                                0.0061\n",
      "                                                Scale:                                              0.0059\n",
      "                                                Pseudo R-Squared:                                   0.8039\n",
      "==========================================================================================================\n",
      "Feature Function                  Lambda               Rank         EDoF         P > x        Sig. Code   \n",
      "================================= ==================== ============ ============ ============ ============\n",
      "s(0)                              [0.001]              20           18.9         1.11e-16     ***         \n",
      "s(1)                              [10.]                20           8.9          1.11e-16     ***         \n",
      "s(2)                              [1000.]              20           2.6          1.11e-16     ***         \n",
      "intercept                                              1            0.0          1.11e-16     ***         \n",
      "==========================================================================================================\n",
      "Significance codes:  0 '***' 0.001 '**' 0.01 '*' 0.05 '.' 0.1 ' ' 1\n",
      "\n",
      "WARNING: Fitting splines and a linear function to a feature introduces a model identifiability problem\n",
      "         which can cause p-values to appear significant when they are not.\n",
      "\n",
      "WARNING: p-values calculated in this manner behave correctly for un-penalized models or models with\n",
      "         known smoothing parameters, but when smoothing parameters have been estimated, the p-values\n",
      "         are typically lower than they should be, meaning that the tests reject the null too readily.\n"
     ]
    },
    {
     "name": "stderr",
     "output_type": "stream",
     "text": [
      "/var/folders/6g/kgz5rml118s6lqw25w5sv5mr0000gn/T/ipykernel_74951/1642183498.py:10: UserWarning: KNOWN BUG: p-values computed in this summary are likely much smaller than they should be. \n",
      " \n",
      "Please do not make inferences based on these values! \n",
      "\n",
      "Collaborate on a solution, and stay up to date at: \n",
      "github.com/dswah/pyGAM/issues/163 \n",
      "\n",
      "  ndvi_500_8.summary()\n"
     ]
    }
   ],
   "source": [
    "# Model 8\n",
    "warnings.filterwarnings(\"ignore\", category=RuntimeWarning)\n",
    "ndvi_500_8 = LinearGAM(s(0) + s(1) + s(2)).fit(X_train, y_train)\n",
    "\n",
    "# using gridsearch to tune the lambdas\n",
    "lam = np.logspace(-3, 5, 5)\n",
    "lams = [lam] * 3\n",
    "\n",
    "ndvi_500_8.gridsearch(X_train, y_train, lam=lams)\n",
    "ndvi_500_8.summary()"
   ]
  },
  {
   "cell_type": "markdown",
   "id": "dd3b0846",
   "metadata": {},
   "source": [
    "### 8.9. (BEST MODEL) Model 8: NDVI ~ spline(tree canopy) + spline(forbs and shrubs) + spline(grass)"
   ]
  },
  {
   "cell_type": "code",
   "execution_count": 83,
   "id": "457a1335",
   "metadata": {},
   "outputs": [
    {
     "data": {
      "text/plain": [
       "<Figure size 432x288 with 0 Axes>"
      ]
     },
     "metadata": {},
     "output_type": "display_data"
    },
    {
     "data": {
      "image/png": "[encoded data removed]",
      "text/plain": [
       "<Figure size 864x288 with 3 Axes>"
      ]
     },
     "metadata": {
      "needs_background": "light"
     },
     "output_type": "display_data"
    }
   ],
   "source": [
    "## plotting\n",
    "plt.figure();\n",
    "fig, axs = plt.subplots(1,3,figsize=(12,4));\n",
    "\n",
    "titles = ['Canopy%_500', 'Shrubs%_500', 'Grass%_500']\n",
    "for i, ax in enumerate(axs):\n",
    "    XX = ndvi_500_8.generate_X_grid(term=i)\n",
    "    ax.plot(XX[:, i], ndvi_500_8.partial_dependence(term=i, X=XX))\n",
    "    ax.plot(XX[:, i], ndvi_500_8.partial_dependence(term=i, X=XX, width=.95)[1], c='r', ls='--')\n",
    "    ax.set_ylim(-0.5, 0.7)\n",
    "    ax.set_xticks(list(ax.get_xticks()))\n",
    "    ax.hlines(y=0, xmin=0, xmax=1, linewidth=1, color='black', linestyle='--')\n",
    "    ax.set_ylabel('Relative change of NDVI_500 (mean)', fontsize=12)\n",
    "    ax.set_title(titles[i], fontsize=12);\n",
    "    \n",
    "# non-overlapping subplots\n",
    "plt.tight_layout()\n",
    "    \n",
    "# save the figure\n",
    "plt.savefig('thesis_project/visualizations/eda/gam_ndvi_500_best_plot.png', dpi=300, bbox_inches='tight')\n",
    "im.open('thesis_project/visualizations/eda/gam_ndvi_500_best_plot.png').save('thesis_project/visualizations/eda/gam_ndvi_500_best_plot.bmp')\n",
    "\n",
    "plt.show()"
   ]
  },
  {
   "cell_type": "markdown",
   "id": "7ae731ae",
   "metadata": {},
   "source": [
    "- **Hyperparameters best GAM NDVI_500 model optimizing for Generalized Cross Validation (GCV) score**\n",
    "    - **Distribution**: Normal\n",
    "    - **Link Function**: Identity\n",
    "    - **Functional Form**: NDVI ~ spline(tree canopy) + spline(forbs and shrubs) + spline(grass)\n",
    "    - **Regularization penalty**: lambda = [0.001, 10, 1000]\n",
    "    - **Smoothness**: n_splines = 20"
   ]
  }
 ],
 "metadata": {
  "kernelspec": {
   "display_name": "Python 3 (ipykernel)",
   "language": "python",
   "name": "python3"
  },
  "language_info": {
   "codemirror_mode": {
    "name": "ipython",
    "version": 3
   },
   "file_extension": ".py",
   "mimetype": "text/x-python",
   "name": "python",
   "nbconvert_exporter": "python",
   "pygments_lexer": "ipython3",
   "version": "3.9.10"
  }
 },
 "nbformat": 4,
 "nbformat_minor": 5
}
